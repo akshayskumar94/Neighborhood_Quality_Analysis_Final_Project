{
 "metadata": {
  "language_info": {
   "codemirror_mode": {
    "name": "ipython",
    "version": 3
   },
   "file_extension": ".py",
   "mimetype": "text/x-python",
   "name": "python",
   "nbconvert_exporter": "python",
   "pygments_lexer": "ipython3",
   "version": "3.8.5"
  },
  "orig_nbformat": 2,
  "kernelspec": {
   "name": "python385jvsc74a57bd03677a8e1c44da040dc0906c8dc9e041871967a0aba89dad8041efde5a549d202",
   "display_name": "Python 3.8.5 64-bit ('base': conda)"
  },
  "metadata": {
   "interpreter": {
    "hash": "109db2e0f67f4b6b550ce06c9f63cf8459596e31279c119d166527971dd72c31"
   }
  }
 },
 "nbformat": 4,
 "nbformat_minor": 2,
 "cells": [
  {
   "source": [
    "* First we import required libraries"
   ],
   "cell_type": "markdown",
   "metadata": {}
  },
  {
   "cell_type": "code",
   "execution_count": 1,
   "metadata": {},
   "outputs": [
    {
     "output_type": "stream",
     "name": "stdout",
     "text": [
      "Libraries imported.\n"
     ]
    }
   ],
   "source": [
    "import numpy as np # library to handle data in a vectorized manner\n",
    "\n",
    "import pandas as pd # library for data analsysis\n",
    "pd.set_option('display.max_columns', None)\n",
    "pd.set_option('display.max_rows', None)\n",
    "\n",
    "import json # library to handle JSON files\n",
    "\n",
    "#!conda install -c conda-forge geopy --yes # uncomment this line if you haven't completed the Foursquare API lab\n",
    "from geopy.geocoders import Nominatim # convert an address into latitude and longitude values\n",
    "\n",
    "import requests # library to handle requests\n",
    "from pandas.io.json import json_normalize # tranform JSON file into a pandas dataframe\n",
    "\n",
    "# Matplotlib and associated plotting modules\n",
    "import matplotlib.cm as cm\n",
    "import matplotlib.colors as colors\n",
    "\n",
    "# import k-means from clustering stage\n",
    "from sklearn.cluster import KMeans\n",
    "\n",
    "#!conda install -c conda-forge folium=0.5.0 --yes # uncomment this line if you haven't completed the Foursquare API lab\n",
    "import folium # map rendering library\n",
    "\n",
    "print('Libraries imported.')\n",
    "from bs4 import BeautifulSoup\n",
    "import re\n",
    "from tqdm import tqdm"
   ]
  },
  {
   "source": [
    "* We will now define a function to scrape data from webpage and convert to DataFrame"
   ],
   "cell_type": "markdown",
   "metadata": {}
  },
  {
   "cell_type": "code",
   "execution_count": 2,
   "metadata": {},
   "outputs": [],
   "source": [
    "def reads(soup):\n",
    "    street=[]\n",
    "    area=[]\n",
    "    postalcode=[]\n",
    "    price=[]\n",
    "    price=[i.text for i in soup.find_all('div',class_='prop-list-head-price')]\n",
    "    location=[i.text for i in soup.find_all('div',class_='prop-list-body-address col-md-12')]\n",
    "    for j in location:\n",
    "        street.append(j.split(',')[0])\n",
    "        area.append(j.split(',')[1])\n",
    "        postalcode.append(j.split(',')[2])\n",
    "    return pd.DataFrame({'Postal Code':postalcode,'Area':area,'Street':street,\"Price\":price})"
   ]
  },
  {
   "source": [
    "* Code to access pages one by one and append scraped DataFrames to list"
   ],
   "cell_type": "markdown",
   "metadata": {}
  },
  {
   "cell_type": "code",
   "execution_count": 3,
   "metadata": {},
   "outputs": [
    {
     "output_type": "stream",
     "name": "stderr",
     "text": [
      "100%|██████████| 11/11 [00:13<00:00,  1.21s/it]\n"
     ]
    }
   ],
   "source": [
    "data=[]\n",
    "stubs='https://www.your-move.co.uk/flats-to-rent/london/!/location/london~40/page/{}'\n",
    "for i in tqdm(range(1,12)):\n",
    "    url=stubs.format(i)\n",
    "    html=requests.get(url).text\n",
    "    soup=BeautifulSoup(html)\n",
    "    data.append(reads(soup))"
   ]
  },
  {
   "source": [
    "* Converting list to DataFrame"
   ],
   "cell_type": "markdown",
   "metadata": {}
  },
  {
   "cell_type": "code",
   "execution_count": 4,
   "metadata": {},
   "outputs": [],
   "source": [
    "df=pd.concat(data,axis=0)"
   ]
  },
  {
   "cell_type": "code",
   "execution_count": 5,
   "metadata": {},
   "outputs": [
    {
     "output_type": "execute_result",
     "data": {
      "text/plain": [
       "  Postal Code       Area                        Street       Price\n",
       "0        DA14     Sidcup                Frognal Avenue  £3,593 pcm\n",
       "1        DA14     Sidcup                Frognal Avenue  £3,176 pcm\n",
       "2        SE10     London  Cutter Lane Chandlers Avenue  £2,990 pcm\n",
       "3        SE10     London                    Telcon Way  £2,400 pcm\n",
       "4         SE5     London                Lettsom Street  £2,150 pcm\n",
       "5         BR1    Bromley                 Plaistow Lane  £2,100 pcm\n",
       "6        TW20      Egham      The Hub Stoneylands Road  £2,000 pcm\n",
       "7        TW20      Egham                    Egham Hill  £1,950 pcm\n",
       "8        SE14     London                Childeric Road  £1,900 pcm\n",
       "9         BN1   Brighton           Hollingdean Terrace  £1,820 pcm"
      ],
      "text/html": "<div>\n<style scoped>\n    .dataframe tbody tr th:only-of-type {\n        vertical-align: middle;\n    }\n\n    .dataframe tbody tr th {\n        vertical-align: top;\n    }\n\n    .dataframe thead th {\n        text-align: right;\n    }\n</style>\n<table border=\"1\" class=\"dataframe\">\n  <thead>\n    <tr style=\"text-align: right;\">\n      <th></th>\n      <th>Postal Code</th>\n      <th>Area</th>\n      <th>Street</th>\n      <th>Price</th>\n    </tr>\n  </thead>\n  <tbody>\n    <tr>\n      <th>0</th>\n      <td>DA14</td>\n      <td>Sidcup</td>\n      <td>Frognal Avenue</td>\n      <td>£3,593 pcm</td>\n    </tr>\n    <tr>\n      <th>1</th>\n      <td>DA14</td>\n      <td>Sidcup</td>\n      <td>Frognal Avenue</td>\n      <td>£3,176 pcm</td>\n    </tr>\n    <tr>\n      <th>2</th>\n      <td>SE10</td>\n      <td>London</td>\n      <td>Cutter Lane Chandlers Avenue</td>\n      <td>£2,990 pcm</td>\n    </tr>\n    <tr>\n      <th>3</th>\n      <td>SE10</td>\n      <td>London</td>\n      <td>Telcon Way</td>\n      <td>£2,400 pcm</td>\n    </tr>\n    <tr>\n      <th>4</th>\n      <td>SE5</td>\n      <td>London</td>\n      <td>Lettsom Street</td>\n      <td>£2,150 pcm</td>\n    </tr>\n    <tr>\n      <th>5</th>\n      <td>BR1</td>\n      <td>Bromley</td>\n      <td>Plaistow Lane</td>\n      <td>£2,100 pcm</td>\n    </tr>\n    <tr>\n      <th>6</th>\n      <td>TW20</td>\n      <td>Egham</td>\n      <td>The Hub Stoneylands Road</td>\n      <td>£2,000 pcm</td>\n    </tr>\n    <tr>\n      <th>7</th>\n      <td>TW20</td>\n      <td>Egham</td>\n      <td>Egham Hill</td>\n      <td>£1,950 pcm</td>\n    </tr>\n    <tr>\n      <th>8</th>\n      <td>SE14</td>\n      <td>London</td>\n      <td>Childeric Road</td>\n      <td>£1,900 pcm</td>\n    </tr>\n    <tr>\n      <th>9</th>\n      <td>BN1</td>\n      <td>Brighton</td>\n      <td>Hollingdean Terrace</td>\n      <td>£1,820 pcm</td>\n    </tr>\n  </tbody>\n</table>\n</div>"
     },
     "metadata": {},
     "execution_count": 5
    }
   ],
   "source": [
    "df.head(10)"
   ]
  },
  {
   "cell_type": "code",
   "execution_count": 6,
   "metadata": {},
   "outputs": [
    {
     "output_type": "execute_result",
     "data": {
      "text/plain": [
       "   Postal Code          Area                        Street        Price\n",
       "0         DA14        Sidcup                Frognal Avenue   £3,593 pcm\n",
       "1         DA14        Sidcup                Frognal Avenue   £3,176 pcm\n",
       "2         SE10        London  Cutter Lane Chandlers Avenue   £2,990 pcm\n",
       "3         SE10        London                    Telcon Way   £2,400 pcm\n",
       "4          SE5        London                Lettsom Street   £2,150 pcm\n",
       "5          BR1       Bromley                 Plaistow Lane   £2,100 pcm\n",
       "6         TW20         Egham      The Hub Stoneylands Road   £2,000 pcm\n",
       "7         TW20         Egham                    Egham Hill   £1,950 pcm\n",
       "8         SE14        London                Childeric Road   £1,900 pcm\n",
       "9          BN1      Brighton           Hollingdean Terrace   £1,820 pcm\n",
       "10        SE14        London                New Cross Road   £1,800 pcm\n",
       "11        SE14        London                Childeric Road   £1,800 pcm\n",
       "0         WD19       Watford                 Eastbury Road   £1,800 pcm\n",
       "1         WD19       Watford                 Eastbury Road   £1,800 pcm\n",
       "2          SE5        London                Vicarage Grove   £1,800 pcm\n",
       "3          E11        London                  New Wanstead   £1,800 pcm\n",
       "4         SE18        London     Duke Of Wellington Avenue  £392 Weekly\n",
       "5         SW15        London             Sherfield Gardens   £1,600 pcm\n",
       "6         RM10      Dagenham            Rainham Road South   £1,600 pcm\n",
       "7       London   Leytonstone                    Frith Road   £1,600 pcm"
      ],
      "text/html": "<div>\n<style scoped>\n    .dataframe tbody tr th:only-of-type {\n        vertical-align: middle;\n    }\n\n    .dataframe tbody tr th {\n        vertical-align: top;\n    }\n\n    .dataframe thead th {\n        text-align: right;\n    }\n</style>\n<table border=\"1\" class=\"dataframe\">\n  <thead>\n    <tr style=\"text-align: right;\">\n      <th></th>\n      <th>Postal Code</th>\n      <th>Area</th>\n      <th>Street</th>\n      <th>Price</th>\n    </tr>\n  </thead>\n  <tbody>\n    <tr>\n      <th>0</th>\n      <td>DA14</td>\n      <td>Sidcup</td>\n      <td>Frognal Avenue</td>\n      <td>£3,593 pcm</td>\n    </tr>\n    <tr>\n      <th>1</th>\n      <td>DA14</td>\n      <td>Sidcup</td>\n      <td>Frognal Avenue</td>\n      <td>£3,176 pcm</td>\n    </tr>\n    <tr>\n      <th>2</th>\n      <td>SE10</td>\n      <td>London</td>\n      <td>Cutter Lane Chandlers Avenue</td>\n      <td>£2,990 pcm</td>\n    </tr>\n    <tr>\n      <th>3</th>\n      <td>SE10</td>\n      <td>London</td>\n      <td>Telcon Way</td>\n      <td>£2,400 pcm</td>\n    </tr>\n    <tr>\n      <th>4</th>\n      <td>SE5</td>\n      <td>London</td>\n      <td>Lettsom Street</td>\n      <td>£2,150 pcm</td>\n    </tr>\n    <tr>\n      <th>5</th>\n      <td>BR1</td>\n      <td>Bromley</td>\n      <td>Plaistow Lane</td>\n      <td>£2,100 pcm</td>\n    </tr>\n    <tr>\n      <th>6</th>\n      <td>TW20</td>\n      <td>Egham</td>\n      <td>The Hub Stoneylands Road</td>\n      <td>£2,000 pcm</td>\n    </tr>\n    <tr>\n      <th>7</th>\n      <td>TW20</td>\n      <td>Egham</td>\n      <td>Egham Hill</td>\n      <td>£1,950 pcm</td>\n    </tr>\n    <tr>\n      <th>8</th>\n      <td>SE14</td>\n      <td>London</td>\n      <td>Childeric Road</td>\n      <td>£1,900 pcm</td>\n    </tr>\n    <tr>\n      <th>9</th>\n      <td>BN1</td>\n      <td>Brighton</td>\n      <td>Hollingdean Terrace</td>\n      <td>£1,820 pcm</td>\n    </tr>\n    <tr>\n      <th>10</th>\n      <td>SE14</td>\n      <td>London</td>\n      <td>New Cross Road</td>\n      <td>£1,800 pcm</td>\n    </tr>\n    <tr>\n      <th>11</th>\n      <td>SE14</td>\n      <td>London</td>\n      <td>Childeric Road</td>\n      <td>£1,800 pcm</td>\n    </tr>\n    <tr>\n      <th>0</th>\n      <td>WD19</td>\n      <td>Watford</td>\n      <td>Eastbury Road</td>\n      <td>£1,800 pcm</td>\n    </tr>\n    <tr>\n      <th>1</th>\n      <td>WD19</td>\n      <td>Watford</td>\n      <td>Eastbury Road</td>\n      <td>£1,800 pcm</td>\n    </tr>\n    <tr>\n      <th>2</th>\n      <td>SE5</td>\n      <td>London</td>\n      <td>Vicarage Grove</td>\n      <td>£1,800 pcm</td>\n    </tr>\n    <tr>\n      <th>3</th>\n      <td>E11</td>\n      <td>London</td>\n      <td>New Wanstead</td>\n      <td>£1,800 pcm</td>\n    </tr>\n    <tr>\n      <th>4</th>\n      <td>SE18</td>\n      <td>London</td>\n      <td>Duke Of Wellington Avenue</td>\n      <td>£392 Weekly</td>\n    </tr>\n    <tr>\n      <th>5</th>\n      <td>SW15</td>\n      <td>London</td>\n      <td>Sherfield Gardens</td>\n      <td>£1,600 pcm</td>\n    </tr>\n    <tr>\n      <th>6</th>\n      <td>RM10</td>\n      <td>Dagenham</td>\n      <td>Rainham Road South</td>\n      <td>£1,600 pcm</td>\n    </tr>\n    <tr>\n      <th>7</th>\n      <td>London</td>\n      <td>Leytonstone</td>\n      <td>Frith Road</td>\n      <td>£1,600 pcm</td>\n    </tr>\n  </tbody>\n</table>\n</div>"
     },
     "metadata": {},
     "execution_count": 6
    }
   ],
   "source": [
    "df.head(20)"
   ]
  },
  {
   "source": [
    "## DATA CLEANING"
   ],
   "cell_type": "markdown",
   "metadata": {}
  },
  {
   "cell_type": "code",
   "execution_count": 7,
   "metadata": {},
   "outputs": [],
   "source": [
    "df.reset_index(drop=True,inplace=True)"
   ]
  },
  {
   "source": [
    "* Converting String numbers to Int"
   ],
   "cell_type": "markdown",
   "metadata": {}
  },
  {
   "cell_type": "code",
   "execution_count": 8,
   "metadata": {},
   "outputs": [],
   "source": [
    "df['Raw_Price']=df['Price'].apply(lambda x:x.replace('£','').split()[0])"
   ]
  },
  {
   "cell_type": "code",
   "execution_count": 9,
   "metadata": {},
   "outputs": [],
   "source": [
    "df['Raw_Price']=df['Raw_Price'].apply(lambda x:int(x.replace(',','')))"
   ]
  },
  {
   "cell_type": "code",
   "execution_count": 10,
   "metadata": {},
   "outputs": [
    {
     "output_type": "execute_result",
     "data": {
      "text/plain": [
       "  Postal Code     Area                        Street       Price  Raw_Price\n",
       "0        DA14   Sidcup                Frognal Avenue  £3,593 pcm       3593\n",
       "1        DA14   Sidcup                Frognal Avenue  £3,176 pcm       3176\n",
       "2        SE10   London  Cutter Lane Chandlers Avenue  £2,990 pcm       2990\n",
       "3        SE10   London                    Telcon Way  £2,400 pcm       2400\n",
       "4         SE5   London                Lettsom Street  £2,150 pcm       2150"
      ],
      "text/html": "<div>\n<style scoped>\n    .dataframe tbody tr th:only-of-type {\n        vertical-align: middle;\n    }\n\n    .dataframe tbody tr th {\n        vertical-align: top;\n    }\n\n    .dataframe thead th {\n        text-align: right;\n    }\n</style>\n<table border=\"1\" class=\"dataframe\">\n  <thead>\n    <tr style=\"text-align: right;\">\n      <th></th>\n      <th>Postal Code</th>\n      <th>Area</th>\n      <th>Street</th>\n      <th>Price</th>\n      <th>Raw_Price</th>\n    </tr>\n  </thead>\n  <tbody>\n    <tr>\n      <th>0</th>\n      <td>DA14</td>\n      <td>Sidcup</td>\n      <td>Frognal Avenue</td>\n      <td>£3,593 pcm</td>\n      <td>3593</td>\n    </tr>\n    <tr>\n      <th>1</th>\n      <td>DA14</td>\n      <td>Sidcup</td>\n      <td>Frognal Avenue</td>\n      <td>£3,176 pcm</td>\n      <td>3176</td>\n    </tr>\n    <tr>\n      <th>2</th>\n      <td>SE10</td>\n      <td>London</td>\n      <td>Cutter Lane Chandlers Avenue</td>\n      <td>£2,990 pcm</td>\n      <td>2990</td>\n    </tr>\n    <tr>\n      <th>3</th>\n      <td>SE10</td>\n      <td>London</td>\n      <td>Telcon Way</td>\n      <td>£2,400 pcm</td>\n      <td>2400</td>\n    </tr>\n    <tr>\n      <th>4</th>\n      <td>SE5</td>\n      <td>London</td>\n      <td>Lettsom Street</td>\n      <td>£2,150 pcm</td>\n      <td>2150</td>\n    </tr>\n  </tbody>\n</table>\n</div>"
     },
     "metadata": {},
     "execution_count": 10
    }
   ],
   "source": [
    "df.head()"
   ]
  },
  {
   "source": [
    "* Filtering out values based on location (Here we only access major areas in London for which data is available)"
   ],
   "cell_type": "markdown",
   "metadata": {}
  },
  {
   "cell_type": "code",
   "execution_count": 11,
   "metadata": {},
   "outputs": [],
   "source": [
    "new_df=df[df['Area'].str.contains('London|Sidcup|Bromley|Barking|Romford')]"
   ]
  },
  {
   "cell_type": "code",
   "execution_count": 12,
   "metadata": {},
   "outputs": [
    {
     "output_type": "execute_result",
     "data": {
      "text/plain": [
       "  Postal Code     Area                        Street       Price  Raw_Price\n",
       "0        DA14   Sidcup                Frognal Avenue  £3,593 pcm       3593\n",
       "1        DA14   Sidcup                Frognal Avenue  £3,176 pcm       3176\n",
       "2        SE10   London  Cutter Lane Chandlers Avenue  £2,990 pcm       2990\n",
       "3        SE10   London                    Telcon Way  £2,400 pcm       2400\n",
       "4         SE5   London                Lettsom Street  £2,150 pcm       2150"
      ],
      "text/html": "<div>\n<style scoped>\n    .dataframe tbody tr th:only-of-type {\n        vertical-align: middle;\n    }\n\n    .dataframe tbody tr th {\n        vertical-align: top;\n    }\n\n    .dataframe thead th {\n        text-align: right;\n    }\n</style>\n<table border=\"1\" class=\"dataframe\">\n  <thead>\n    <tr style=\"text-align: right;\">\n      <th></th>\n      <th>Postal Code</th>\n      <th>Area</th>\n      <th>Street</th>\n      <th>Price</th>\n      <th>Raw_Price</th>\n    </tr>\n  </thead>\n  <tbody>\n    <tr>\n      <th>0</th>\n      <td>DA14</td>\n      <td>Sidcup</td>\n      <td>Frognal Avenue</td>\n      <td>£3,593 pcm</td>\n      <td>3593</td>\n    </tr>\n    <tr>\n      <th>1</th>\n      <td>DA14</td>\n      <td>Sidcup</td>\n      <td>Frognal Avenue</td>\n      <td>£3,176 pcm</td>\n      <td>3176</td>\n    </tr>\n    <tr>\n      <th>2</th>\n      <td>SE10</td>\n      <td>London</td>\n      <td>Cutter Lane Chandlers Avenue</td>\n      <td>£2,990 pcm</td>\n      <td>2990</td>\n    </tr>\n    <tr>\n      <th>3</th>\n      <td>SE10</td>\n      <td>London</td>\n      <td>Telcon Way</td>\n      <td>£2,400 pcm</td>\n      <td>2400</td>\n    </tr>\n    <tr>\n      <th>4</th>\n      <td>SE5</td>\n      <td>London</td>\n      <td>Lettsom Street</td>\n      <td>£2,150 pcm</td>\n      <td>2150</td>\n    </tr>\n  </tbody>\n</table>\n</div>"
     },
     "metadata": {},
     "execution_count": 12
    }
   ],
   "source": [
    "new_df.head()"
   ]
  },
  {
   "source": [
    "* Cleaning data by dropping duplicate postal codes and dropping weekly rent areas"
   ],
   "cell_type": "markdown",
   "metadata": {}
  },
  {
   "cell_type": "code",
   "execution_count": 13,
   "metadata": {},
   "outputs": [],
   "source": [
    "new_df = new_df[~new_df[\"Price\"].str.contains('Weekly')]"
   ]
  },
  {
   "cell_type": "code",
   "execution_count": 14,
   "metadata": {},
   "outputs": [],
   "source": [
    "new_df.drop_duplicates(subset='Postal Code', keep='first', inplace=True)"
   ]
  },
  {
   "cell_type": "code",
   "execution_count": 15,
   "metadata": {},
   "outputs": [],
   "source": [
    "new_df.reset_index(drop=True,inplace=True)"
   ]
  },
  {
   "cell_type": "code",
   "execution_count": 16,
   "metadata": {},
   "outputs": [
    {
     "output_type": "execute_result",
     "data": {
      "text/plain": [
       "   Postal Code      Area                               Street       Price  \\\n",
       "0         DA14    Sidcup                       Frognal Avenue  £3,593 pcm   \n",
       "1         SE10    London         Cutter Lane Chandlers Avenue  £2,990 pcm   \n",
       "2          SE5    London                       Lettsom Street  £2,150 pcm   \n",
       "3          BR1   Bromley                        Plaistow Lane  £2,100 pcm   \n",
       "4         SE14    London                       Childeric Road  £1,900 pcm   \n",
       "5          E11    London                         New Wanstead  £1,800 pcm   \n",
       "6         SW15    London                    Sherfield Gardens  £1,600 pcm   \n",
       "7          SE4    London                      Adelaide Avenue  £1,450 pcm   \n",
       "8           E7    London                        Disraeli Road  £1,400 pcm   \n",
       "9         IG11   Barking                          East Street  £1,400 pcm   \n",
       "10        SE16    London                         Jamaica Road  £1,395 pcm   \n",
       "11        SE26    London                        Sydenham Road  £1,375 pcm   \n",
       "12         BR2   Bromley                        Sandford Road  £1,350 pcm   \n",
       "13        SE21    London                     Kingswood Estate  £1,350 pcm   \n",
       "14        SE15    London  Shurland Gardens Willowbrook Estate  £1,350 pcm   \n",
       "15        SE28    London                          Anson Place  £1,300 pcm   \n",
       "16         SE9    London                          Grove Place  £1,300 pcm   \n",
       "17         SE3    London                       Coleraine Road  £1,300 pcm   \n",
       "18          E6    London                    High Street South  £1,250 pcm   \n",
       "19         RM1   Romford                         South Street  £1,200 pcm   \n",
       "20        SE18    London                        Elmley Street  £1,200 pcm   \n",
       "21         E17    London                           Hoe Street  £1,100 pcm   \n",
       "22         RM2   Romford                         Kidman Close    £950 pcm   \n",
       "\n",
       "    Raw_Price  \n",
       "0        3593  \n",
       "1        2990  \n",
       "2        2150  \n",
       "3        2100  \n",
       "4        1900  \n",
       "5        1800  \n",
       "6        1600  \n",
       "7        1450  \n",
       "8        1400  \n",
       "9        1400  \n",
       "10       1395  \n",
       "11       1375  \n",
       "12       1350  \n",
       "13       1350  \n",
       "14       1350  \n",
       "15       1300  \n",
       "16       1300  \n",
       "17       1300  \n",
       "18       1250  \n",
       "19       1200  \n",
       "20       1200  \n",
       "21       1100  \n",
       "22        950  "
      ],
      "text/html": "<div>\n<style scoped>\n    .dataframe tbody tr th:only-of-type {\n        vertical-align: middle;\n    }\n\n    .dataframe tbody tr th {\n        vertical-align: top;\n    }\n\n    .dataframe thead th {\n        text-align: right;\n    }\n</style>\n<table border=\"1\" class=\"dataframe\">\n  <thead>\n    <tr style=\"text-align: right;\">\n      <th></th>\n      <th>Postal Code</th>\n      <th>Area</th>\n      <th>Street</th>\n      <th>Price</th>\n      <th>Raw_Price</th>\n    </tr>\n  </thead>\n  <tbody>\n    <tr>\n      <th>0</th>\n      <td>DA14</td>\n      <td>Sidcup</td>\n      <td>Frognal Avenue</td>\n      <td>£3,593 pcm</td>\n      <td>3593</td>\n    </tr>\n    <tr>\n      <th>1</th>\n      <td>SE10</td>\n      <td>London</td>\n      <td>Cutter Lane Chandlers Avenue</td>\n      <td>£2,990 pcm</td>\n      <td>2990</td>\n    </tr>\n    <tr>\n      <th>2</th>\n      <td>SE5</td>\n      <td>London</td>\n      <td>Lettsom Street</td>\n      <td>£2,150 pcm</td>\n      <td>2150</td>\n    </tr>\n    <tr>\n      <th>3</th>\n      <td>BR1</td>\n      <td>Bromley</td>\n      <td>Plaistow Lane</td>\n      <td>£2,100 pcm</td>\n      <td>2100</td>\n    </tr>\n    <tr>\n      <th>4</th>\n      <td>SE14</td>\n      <td>London</td>\n      <td>Childeric Road</td>\n      <td>£1,900 pcm</td>\n      <td>1900</td>\n    </tr>\n    <tr>\n      <th>5</th>\n      <td>E11</td>\n      <td>London</td>\n      <td>New Wanstead</td>\n      <td>£1,800 pcm</td>\n      <td>1800</td>\n    </tr>\n    <tr>\n      <th>6</th>\n      <td>SW15</td>\n      <td>London</td>\n      <td>Sherfield Gardens</td>\n      <td>£1,600 pcm</td>\n      <td>1600</td>\n    </tr>\n    <tr>\n      <th>7</th>\n      <td>SE4</td>\n      <td>London</td>\n      <td>Adelaide Avenue</td>\n      <td>£1,450 pcm</td>\n      <td>1450</td>\n    </tr>\n    <tr>\n      <th>8</th>\n      <td>E7</td>\n      <td>London</td>\n      <td>Disraeli Road</td>\n      <td>£1,400 pcm</td>\n      <td>1400</td>\n    </tr>\n    <tr>\n      <th>9</th>\n      <td>IG11</td>\n      <td>Barking</td>\n      <td>East Street</td>\n      <td>£1,400 pcm</td>\n      <td>1400</td>\n    </tr>\n    <tr>\n      <th>10</th>\n      <td>SE16</td>\n      <td>London</td>\n      <td>Jamaica Road</td>\n      <td>£1,395 pcm</td>\n      <td>1395</td>\n    </tr>\n    <tr>\n      <th>11</th>\n      <td>SE26</td>\n      <td>London</td>\n      <td>Sydenham Road</td>\n      <td>£1,375 pcm</td>\n      <td>1375</td>\n    </tr>\n    <tr>\n      <th>12</th>\n      <td>BR2</td>\n      <td>Bromley</td>\n      <td>Sandford Road</td>\n      <td>£1,350 pcm</td>\n      <td>1350</td>\n    </tr>\n    <tr>\n      <th>13</th>\n      <td>SE21</td>\n      <td>London</td>\n      <td>Kingswood Estate</td>\n      <td>£1,350 pcm</td>\n      <td>1350</td>\n    </tr>\n    <tr>\n      <th>14</th>\n      <td>SE15</td>\n      <td>London</td>\n      <td>Shurland Gardens Willowbrook Estate</td>\n      <td>£1,350 pcm</td>\n      <td>1350</td>\n    </tr>\n    <tr>\n      <th>15</th>\n      <td>SE28</td>\n      <td>London</td>\n      <td>Anson Place</td>\n      <td>£1,300 pcm</td>\n      <td>1300</td>\n    </tr>\n    <tr>\n      <th>16</th>\n      <td>SE9</td>\n      <td>London</td>\n      <td>Grove Place</td>\n      <td>£1,300 pcm</td>\n      <td>1300</td>\n    </tr>\n    <tr>\n      <th>17</th>\n      <td>SE3</td>\n      <td>London</td>\n      <td>Coleraine Road</td>\n      <td>£1,300 pcm</td>\n      <td>1300</td>\n    </tr>\n    <tr>\n      <th>18</th>\n      <td>E6</td>\n      <td>London</td>\n      <td>High Street South</td>\n      <td>£1,250 pcm</td>\n      <td>1250</td>\n    </tr>\n    <tr>\n      <th>19</th>\n      <td>RM1</td>\n      <td>Romford</td>\n      <td>South Street</td>\n      <td>£1,200 pcm</td>\n      <td>1200</td>\n    </tr>\n    <tr>\n      <th>20</th>\n      <td>SE18</td>\n      <td>London</td>\n      <td>Elmley Street</td>\n      <td>£1,200 pcm</td>\n      <td>1200</td>\n    </tr>\n    <tr>\n      <th>21</th>\n      <td>E17</td>\n      <td>London</td>\n      <td>Hoe Street</td>\n      <td>£1,100 pcm</td>\n      <td>1100</td>\n    </tr>\n    <tr>\n      <th>22</th>\n      <td>RM2</td>\n      <td>Romford</td>\n      <td>Kidman Close</td>\n      <td>£950 pcm</td>\n      <td>950</td>\n    </tr>\n  </tbody>\n</table>\n</div>"
     },
     "metadata": {},
     "execution_count": 16
    }
   ],
   "source": [
    "new_df"
   ]
  },
  {
   "source": [
    "### Latitude and Longitude values for each postal code is collected from https://www.doogal.co.uk/"
   ],
   "cell_type": "markdown",
   "metadata": {}
  },
  {
   "cell_type": "code",
   "execution_count": 17,
   "metadata": {},
   "outputs": [],
   "source": [
    "latlong=[(51.426481,0.105038),(51.487122,0.003284),(51.481796,-0.090377),(51.401546,0.015415),(51.450352,0.062336),(51.474867,-0.046933),(51.564032,0.008813),(51.464123,-0.222848),(51.453268,-0.032498),(51.554412,0.019655),(51.524785,0.078646),(51.491797,-0.042421),(51.429347,-0.044847),(51.407775,-0.003321),(51.434204,-0.085226),(51.47681,-0.068163),(51.492037,0.087067),(51.467676,0.018169),(51.53758,0.040295),(51.484461,0.084733),(51.5776,0.178261),(51.585503,-0.018014),(51.577913,0.190919)]"
   ]
  },
  {
   "cell_type": "code",
   "execution_count": 18,
   "metadata": {},
   "outputs": [],
   "source": [
    "lat=[]\n",
    "ln=[]\n",
    "for i in latlong:\n",
    "    lat.append(i[0])\n",
    "    ln.append(i[1])\n",
    "    "
   ]
  },
  {
   "source": [
    "* Now we add Latitude and Longitude values to existing DataFrame"
   ],
   "cell_type": "markdown",
   "metadata": {}
  },
  {
   "cell_type": "code",
   "execution_count": 19,
   "metadata": {},
   "outputs": [],
   "source": [
    "new_df['Latitude']=lat\n",
    "new_df['Longitude']=ln"
   ]
  },
  {
   "source": [],
   "cell_type": "markdown",
   "metadata": {}
  },
  {
   "cell_type": "code",
   "execution_count": 20,
   "metadata": {},
   "outputs": [
    {
     "output_type": "execute_result",
     "data": {
      "text/plain": [
       "   Postal Code      Area                               Street       Price  \\\n",
       "0         DA14    Sidcup                       Frognal Avenue  £3,593 pcm   \n",
       "1         SE10    London         Cutter Lane Chandlers Avenue  £2,990 pcm   \n",
       "2          SE5    London                       Lettsom Street  £2,150 pcm   \n",
       "3          BR1   Bromley                        Plaistow Lane  £2,100 pcm   \n",
       "4         SE14    London                       Childeric Road  £1,900 pcm   \n",
       "5          E11    London                         New Wanstead  £1,800 pcm   \n",
       "6         SW15    London                    Sherfield Gardens  £1,600 pcm   \n",
       "7          SE4    London                      Adelaide Avenue  £1,450 pcm   \n",
       "8           E7    London                        Disraeli Road  £1,400 pcm   \n",
       "9         IG11   Barking                          East Street  £1,400 pcm   \n",
       "10        SE16    London                         Jamaica Road  £1,395 pcm   \n",
       "11        SE26    London                        Sydenham Road  £1,375 pcm   \n",
       "12         BR2   Bromley                        Sandford Road  £1,350 pcm   \n",
       "13        SE21    London                     Kingswood Estate  £1,350 pcm   \n",
       "14        SE15    London  Shurland Gardens Willowbrook Estate  £1,350 pcm   \n",
       "15        SE28    London                          Anson Place  £1,300 pcm   \n",
       "16         SE9    London                          Grove Place  £1,300 pcm   \n",
       "17         SE3    London                       Coleraine Road  £1,300 pcm   \n",
       "18          E6    London                    High Street South  £1,250 pcm   \n",
       "19         RM1   Romford                         South Street  £1,200 pcm   \n",
       "20        SE18    London                        Elmley Street  £1,200 pcm   \n",
       "21         E17    London                           Hoe Street  £1,100 pcm   \n",
       "22         RM2   Romford                         Kidman Close    £950 pcm   \n",
       "\n",
       "    Raw_Price   Latitude  Longitude  \n",
       "0        3593  51.426481   0.105038  \n",
       "1        2990  51.487122   0.003284  \n",
       "2        2150  51.481796  -0.090377  \n",
       "3        2100  51.401546   0.015415  \n",
       "4        1900  51.450352   0.062336  \n",
       "5        1800  51.474867  -0.046933  \n",
       "6        1600  51.564032   0.008813  \n",
       "7        1450  51.464123  -0.222848  \n",
       "8        1400  51.453268  -0.032498  \n",
       "9        1400  51.554412   0.019655  \n",
       "10       1395  51.524785   0.078646  \n",
       "11       1375  51.491797  -0.042421  \n",
       "12       1350  51.429347  -0.044847  \n",
       "13       1350  51.407775  -0.003321  \n",
       "14       1350  51.434204  -0.085226  \n",
       "15       1300  51.476810  -0.068163  \n",
       "16       1300  51.492037   0.087067  \n",
       "17       1300  51.467676   0.018169  \n",
       "18       1250  51.537580   0.040295  \n",
       "19       1200  51.484461   0.084733  \n",
       "20       1200  51.577600   0.178261  \n",
       "21       1100  51.585503  -0.018014  \n",
       "22        950  51.577913   0.190919  "
      ],
      "text/html": "<div>\n<style scoped>\n    .dataframe tbody tr th:only-of-type {\n        vertical-align: middle;\n    }\n\n    .dataframe tbody tr th {\n        vertical-align: top;\n    }\n\n    .dataframe thead th {\n        text-align: right;\n    }\n</style>\n<table border=\"1\" class=\"dataframe\">\n  <thead>\n    <tr style=\"text-align: right;\">\n      <th></th>\n      <th>Postal Code</th>\n      <th>Area</th>\n      <th>Street</th>\n      <th>Price</th>\n      <th>Raw_Price</th>\n      <th>Latitude</th>\n      <th>Longitude</th>\n    </tr>\n  </thead>\n  <tbody>\n    <tr>\n      <th>0</th>\n      <td>DA14</td>\n      <td>Sidcup</td>\n      <td>Frognal Avenue</td>\n      <td>£3,593 pcm</td>\n      <td>3593</td>\n      <td>51.426481</td>\n      <td>0.105038</td>\n    </tr>\n    <tr>\n      <th>1</th>\n      <td>SE10</td>\n      <td>London</td>\n      <td>Cutter Lane Chandlers Avenue</td>\n      <td>£2,990 pcm</td>\n      <td>2990</td>\n      <td>51.487122</td>\n      <td>0.003284</td>\n    </tr>\n    <tr>\n      <th>2</th>\n      <td>SE5</td>\n      <td>London</td>\n      <td>Lettsom Street</td>\n      <td>£2,150 pcm</td>\n      <td>2150</td>\n      <td>51.481796</td>\n      <td>-0.090377</td>\n    </tr>\n    <tr>\n      <th>3</th>\n      <td>BR1</td>\n      <td>Bromley</td>\n      <td>Plaistow Lane</td>\n      <td>£2,100 pcm</td>\n      <td>2100</td>\n      <td>51.401546</td>\n      <td>0.015415</td>\n    </tr>\n    <tr>\n      <th>4</th>\n      <td>SE14</td>\n      <td>London</td>\n      <td>Childeric Road</td>\n      <td>£1,900 pcm</td>\n      <td>1900</td>\n      <td>51.450352</td>\n      <td>0.062336</td>\n    </tr>\n    <tr>\n      <th>5</th>\n      <td>E11</td>\n      <td>London</td>\n      <td>New Wanstead</td>\n      <td>£1,800 pcm</td>\n      <td>1800</td>\n      <td>51.474867</td>\n      <td>-0.046933</td>\n    </tr>\n    <tr>\n      <th>6</th>\n      <td>SW15</td>\n      <td>London</td>\n      <td>Sherfield Gardens</td>\n      <td>£1,600 pcm</td>\n      <td>1600</td>\n      <td>51.564032</td>\n      <td>0.008813</td>\n    </tr>\n    <tr>\n      <th>7</th>\n      <td>SE4</td>\n      <td>London</td>\n      <td>Adelaide Avenue</td>\n      <td>£1,450 pcm</td>\n      <td>1450</td>\n      <td>51.464123</td>\n      <td>-0.222848</td>\n    </tr>\n    <tr>\n      <th>8</th>\n      <td>E7</td>\n      <td>London</td>\n      <td>Disraeli Road</td>\n      <td>£1,400 pcm</td>\n      <td>1400</td>\n      <td>51.453268</td>\n      <td>-0.032498</td>\n    </tr>\n    <tr>\n      <th>9</th>\n      <td>IG11</td>\n      <td>Barking</td>\n      <td>East Street</td>\n      <td>£1,400 pcm</td>\n      <td>1400</td>\n      <td>51.554412</td>\n      <td>0.019655</td>\n    </tr>\n    <tr>\n      <th>10</th>\n      <td>SE16</td>\n      <td>London</td>\n      <td>Jamaica Road</td>\n      <td>£1,395 pcm</td>\n      <td>1395</td>\n      <td>51.524785</td>\n      <td>0.078646</td>\n    </tr>\n    <tr>\n      <th>11</th>\n      <td>SE26</td>\n      <td>London</td>\n      <td>Sydenham Road</td>\n      <td>£1,375 pcm</td>\n      <td>1375</td>\n      <td>51.491797</td>\n      <td>-0.042421</td>\n    </tr>\n    <tr>\n      <th>12</th>\n      <td>BR2</td>\n      <td>Bromley</td>\n      <td>Sandford Road</td>\n      <td>£1,350 pcm</td>\n      <td>1350</td>\n      <td>51.429347</td>\n      <td>-0.044847</td>\n    </tr>\n    <tr>\n      <th>13</th>\n      <td>SE21</td>\n      <td>London</td>\n      <td>Kingswood Estate</td>\n      <td>£1,350 pcm</td>\n      <td>1350</td>\n      <td>51.407775</td>\n      <td>-0.003321</td>\n    </tr>\n    <tr>\n      <th>14</th>\n      <td>SE15</td>\n      <td>London</td>\n      <td>Shurland Gardens Willowbrook Estate</td>\n      <td>£1,350 pcm</td>\n      <td>1350</td>\n      <td>51.434204</td>\n      <td>-0.085226</td>\n    </tr>\n    <tr>\n      <th>15</th>\n      <td>SE28</td>\n      <td>London</td>\n      <td>Anson Place</td>\n      <td>£1,300 pcm</td>\n      <td>1300</td>\n      <td>51.476810</td>\n      <td>-0.068163</td>\n    </tr>\n    <tr>\n      <th>16</th>\n      <td>SE9</td>\n      <td>London</td>\n      <td>Grove Place</td>\n      <td>£1,300 pcm</td>\n      <td>1300</td>\n      <td>51.492037</td>\n      <td>0.087067</td>\n    </tr>\n    <tr>\n      <th>17</th>\n      <td>SE3</td>\n      <td>London</td>\n      <td>Coleraine Road</td>\n      <td>£1,300 pcm</td>\n      <td>1300</td>\n      <td>51.467676</td>\n      <td>0.018169</td>\n    </tr>\n    <tr>\n      <th>18</th>\n      <td>E6</td>\n      <td>London</td>\n      <td>High Street South</td>\n      <td>£1,250 pcm</td>\n      <td>1250</td>\n      <td>51.537580</td>\n      <td>0.040295</td>\n    </tr>\n    <tr>\n      <th>19</th>\n      <td>RM1</td>\n      <td>Romford</td>\n      <td>South Street</td>\n      <td>£1,200 pcm</td>\n      <td>1200</td>\n      <td>51.484461</td>\n      <td>0.084733</td>\n    </tr>\n    <tr>\n      <th>20</th>\n      <td>SE18</td>\n      <td>London</td>\n      <td>Elmley Street</td>\n      <td>£1,200 pcm</td>\n      <td>1200</td>\n      <td>51.577600</td>\n      <td>0.178261</td>\n    </tr>\n    <tr>\n      <th>21</th>\n      <td>E17</td>\n      <td>London</td>\n      <td>Hoe Street</td>\n      <td>£1,100 pcm</td>\n      <td>1100</td>\n      <td>51.585503</td>\n      <td>-0.018014</td>\n    </tr>\n    <tr>\n      <th>22</th>\n      <td>RM2</td>\n      <td>Romford</td>\n      <td>Kidman Close</td>\n      <td>£950 pcm</td>\n      <td>950</td>\n      <td>51.577913</td>\n      <td>0.190919</td>\n    </tr>\n  </tbody>\n</table>\n</div>"
     },
     "metadata": {},
     "execution_count": 20
    }
   ],
   "source": [
    "new_df"
   ]
  },
  {
   "source": [
    "* Let's take our data in a new DataFrame ld_data"
   ],
   "cell_type": "markdown",
   "metadata": {}
  },
  {
   "cell_type": "code",
   "execution_count": 21,
   "metadata": {},
   "outputs": [],
   "source": [
    "ld_data=new_df"
   ]
  },
  {
   "cell_type": "code",
   "execution_count": 22,
   "metadata": {},
   "outputs": [],
   "source": [
    "ld_data.rename(columns={'Street':'Neighborhood','Area':'City'},inplace=True)"
   ]
  },
  {
   "cell_type": "code",
   "execution_count": 23,
   "metadata": {},
   "outputs": [
    {
     "output_type": "execute_result",
     "data": {
      "text/plain": [
       "   Postal Code      City                         Neighborhood       Price  \\\n",
       "0         DA14    Sidcup                       Frognal Avenue  £3,593 pcm   \n",
       "1         SE10    London         Cutter Lane Chandlers Avenue  £2,990 pcm   \n",
       "2          SE5    London                       Lettsom Street  £2,150 pcm   \n",
       "3          BR1   Bromley                        Plaistow Lane  £2,100 pcm   \n",
       "4         SE14    London                       Childeric Road  £1,900 pcm   \n",
       "5          E11    London                         New Wanstead  £1,800 pcm   \n",
       "6         SW15    London                    Sherfield Gardens  £1,600 pcm   \n",
       "7          SE4    London                      Adelaide Avenue  £1,450 pcm   \n",
       "8           E7    London                        Disraeli Road  £1,400 pcm   \n",
       "9         IG11   Barking                          East Street  £1,400 pcm   \n",
       "10        SE16    London                         Jamaica Road  £1,395 pcm   \n",
       "11        SE26    London                        Sydenham Road  £1,375 pcm   \n",
       "12         BR2   Bromley                        Sandford Road  £1,350 pcm   \n",
       "13        SE21    London                     Kingswood Estate  £1,350 pcm   \n",
       "14        SE15    London  Shurland Gardens Willowbrook Estate  £1,350 pcm   \n",
       "15        SE28    London                          Anson Place  £1,300 pcm   \n",
       "16         SE9    London                          Grove Place  £1,300 pcm   \n",
       "17         SE3    London                       Coleraine Road  £1,300 pcm   \n",
       "18          E6    London                    High Street South  £1,250 pcm   \n",
       "19         RM1   Romford                         South Street  £1,200 pcm   \n",
       "20        SE18    London                        Elmley Street  £1,200 pcm   \n",
       "21         E17    London                           Hoe Street  £1,100 pcm   \n",
       "22         RM2   Romford                         Kidman Close    £950 pcm   \n",
       "\n",
       "    Raw_Price   Latitude  Longitude  \n",
       "0        3593  51.426481   0.105038  \n",
       "1        2990  51.487122   0.003284  \n",
       "2        2150  51.481796  -0.090377  \n",
       "3        2100  51.401546   0.015415  \n",
       "4        1900  51.450352   0.062336  \n",
       "5        1800  51.474867  -0.046933  \n",
       "6        1600  51.564032   0.008813  \n",
       "7        1450  51.464123  -0.222848  \n",
       "8        1400  51.453268  -0.032498  \n",
       "9        1400  51.554412   0.019655  \n",
       "10       1395  51.524785   0.078646  \n",
       "11       1375  51.491797  -0.042421  \n",
       "12       1350  51.429347  -0.044847  \n",
       "13       1350  51.407775  -0.003321  \n",
       "14       1350  51.434204  -0.085226  \n",
       "15       1300  51.476810  -0.068163  \n",
       "16       1300  51.492037   0.087067  \n",
       "17       1300  51.467676   0.018169  \n",
       "18       1250  51.537580   0.040295  \n",
       "19       1200  51.484461   0.084733  \n",
       "20       1200  51.577600   0.178261  \n",
       "21       1100  51.585503  -0.018014  \n",
       "22        950  51.577913   0.190919  "
      ],
      "text/html": "<div>\n<style scoped>\n    .dataframe tbody tr th:only-of-type {\n        vertical-align: middle;\n    }\n\n    .dataframe tbody tr th {\n        vertical-align: top;\n    }\n\n    .dataframe thead th {\n        text-align: right;\n    }\n</style>\n<table border=\"1\" class=\"dataframe\">\n  <thead>\n    <tr style=\"text-align: right;\">\n      <th></th>\n      <th>Postal Code</th>\n      <th>City</th>\n      <th>Neighborhood</th>\n      <th>Price</th>\n      <th>Raw_Price</th>\n      <th>Latitude</th>\n      <th>Longitude</th>\n    </tr>\n  </thead>\n  <tbody>\n    <tr>\n      <th>0</th>\n      <td>DA14</td>\n      <td>Sidcup</td>\n      <td>Frognal Avenue</td>\n      <td>£3,593 pcm</td>\n      <td>3593</td>\n      <td>51.426481</td>\n      <td>0.105038</td>\n    </tr>\n    <tr>\n      <th>1</th>\n      <td>SE10</td>\n      <td>London</td>\n      <td>Cutter Lane Chandlers Avenue</td>\n      <td>£2,990 pcm</td>\n      <td>2990</td>\n      <td>51.487122</td>\n      <td>0.003284</td>\n    </tr>\n    <tr>\n      <th>2</th>\n      <td>SE5</td>\n      <td>London</td>\n      <td>Lettsom Street</td>\n      <td>£2,150 pcm</td>\n      <td>2150</td>\n      <td>51.481796</td>\n      <td>-0.090377</td>\n    </tr>\n    <tr>\n      <th>3</th>\n      <td>BR1</td>\n      <td>Bromley</td>\n      <td>Plaistow Lane</td>\n      <td>£2,100 pcm</td>\n      <td>2100</td>\n      <td>51.401546</td>\n      <td>0.015415</td>\n    </tr>\n    <tr>\n      <th>4</th>\n      <td>SE14</td>\n      <td>London</td>\n      <td>Childeric Road</td>\n      <td>£1,900 pcm</td>\n      <td>1900</td>\n      <td>51.450352</td>\n      <td>0.062336</td>\n    </tr>\n    <tr>\n      <th>5</th>\n      <td>E11</td>\n      <td>London</td>\n      <td>New Wanstead</td>\n      <td>£1,800 pcm</td>\n      <td>1800</td>\n      <td>51.474867</td>\n      <td>-0.046933</td>\n    </tr>\n    <tr>\n      <th>6</th>\n      <td>SW15</td>\n      <td>London</td>\n      <td>Sherfield Gardens</td>\n      <td>£1,600 pcm</td>\n      <td>1600</td>\n      <td>51.564032</td>\n      <td>0.008813</td>\n    </tr>\n    <tr>\n      <th>7</th>\n      <td>SE4</td>\n      <td>London</td>\n      <td>Adelaide Avenue</td>\n      <td>£1,450 pcm</td>\n      <td>1450</td>\n      <td>51.464123</td>\n      <td>-0.222848</td>\n    </tr>\n    <tr>\n      <th>8</th>\n      <td>E7</td>\n      <td>London</td>\n      <td>Disraeli Road</td>\n      <td>£1,400 pcm</td>\n      <td>1400</td>\n      <td>51.453268</td>\n      <td>-0.032498</td>\n    </tr>\n    <tr>\n      <th>9</th>\n      <td>IG11</td>\n      <td>Barking</td>\n      <td>East Street</td>\n      <td>£1,400 pcm</td>\n      <td>1400</td>\n      <td>51.554412</td>\n      <td>0.019655</td>\n    </tr>\n    <tr>\n      <th>10</th>\n      <td>SE16</td>\n      <td>London</td>\n      <td>Jamaica Road</td>\n      <td>£1,395 pcm</td>\n      <td>1395</td>\n      <td>51.524785</td>\n      <td>0.078646</td>\n    </tr>\n    <tr>\n      <th>11</th>\n      <td>SE26</td>\n      <td>London</td>\n      <td>Sydenham Road</td>\n      <td>£1,375 pcm</td>\n      <td>1375</td>\n      <td>51.491797</td>\n      <td>-0.042421</td>\n    </tr>\n    <tr>\n      <th>12</th>\n      <td>BR2</td>\n      <td>Bromley</td>\n      <td>Sandford Road</td>\n      <td>£1,350 pcm</td>\n      <td>1350</td>\n      <td>51.429347</td>\n      <td>-0.044847</td>\n    </tr>\n    <tr>\n      <th>13</th>\n      <td>SE21</td>\n      <td>London</td>\n      <td>Kingswood Estate</td>\n      <td>£1,350 pcm</td>\n      <td>1350</td>\n      <td>51.407775</td>\n      <td>-0.003321</td>\n    </tr>\n    <tr>\n      <th>14</th>\n      <td>SE15</td>\n      <td>London</td>\n      <td>Shurland Gardens Willowbrook Estate</td>\n      <td>£1,350 pcm</td>\n      <td>1350</td>\n      <td>51.434204</td>\n      <td>-0.085226</td>\n    </tr>\n    <tr>\n      <th>15</th>\n      <td>SE28</td>\n      <td>London</td>\n      <td>Anson Place</td>\n      <td>£1,300 pcm</td>\n      <td>1300</td>\n      <td>51.476810</td>\n      <td>-0.068163</td>\n    </tr>\n    <tr>\n      <th>16</th>\n      <td>SE9</td>\n      <td>London</td>\n      <td>Grove Place</td>\n      <td>£1,300 pcm</td>\n      <td>1300</td>\n      <td>51.492037</td>\n      <td>0.087067</td>\n    </tr>\n    <tr>\n      <th>17</th>\n      <td>SE3</td>\n      <td>London</td>\n      <td>Coleraine Road</td>\n      <td>£1,300 pcm</td>\n      <td>1300</td>\n      <td>51.467676</td>\n      <td>0.018169</td>\n    </tr>\n    <tr>\n      <th>18</th>\n      <td>E6</td>\n      <td>London</td>\n      <td>High Street South</td>\n      <td>£1,250 pcm</td>\n      <td>1250</td>\n      <td>51.537580</td>\n      <td>0.040295</td>\n    </tr>\n    <tr>\n      <th>19</th>\n      <td>RM1</td>\n      <td>Romford</td>\n      <td>South Street</td>\n      <td>£1,200 pcm</td>\n      <td>1200</td>\n      <td>51.484461</td>\n      <td>0.084733</td>\n    </tr>\n    <tr>\n      <th>20</th>\n      <td>SE18</td>\n      <td>London</td>\n      <td>Elmley Street</td>\n      <td>£1,200 pcm</td>\n      <td>1200</td>\n      <td>51.577600</td>\n      <td>0.178261</td>\n    </tr>\n    <tr>\n      <th>21</th>\n      <td>E17</td>\n      <td>London</td>\n      <td>Hoe Street</td>\n      <td>£1,100 pcm</td>\n      <td>1100</td>\n      <td>51.585503</td>\n      <td>-0.018014</td>\n    </tr>\n    <tr>\n      <th>22</th>\n      <td>RM2</td>\n      <td>Romford</td>\n      <td>Kidman Close</td>\n      <td>£950 pcm</td>\n      <td>950</td>\n      <td>51.577913</td>\n      <td>0.190919</td>\n    </tr>\n  </tbody>\n</table>\n</div>"
     },
     "metadata": {},
     "execution_count": 23
    }
   ],
   "source": [
    "ld_data"
   ]
  },
  {
   "source": [
    "* Using geolocator we can obtain the geographical coordinates of London:"
   ],
   "cell_type": "markdown",
   "metadata": {}
  },
  {
   "cell_type": "code",
   "execution_count": 24,
   "metadata": {},
   "outputs": [
    {
     "output_type": "stream",
     "name": "stdout",
     "text": [
      "The geograpical coordinate of London are 51.5073219, -0.1276474.\n"
     ]
    }
   ],
   "source": [
    "address='London, UK'\n",
    "geolocator=Nominatim(user_agent=\"ld_explorer\")\n",
    "location= geolocator.geocode(address)\n",
    "latitude=location.latitude\n",
    "longitude=location.longitude\n",
    "print('The geograpical coordinate of London are {}, {}.'.format(latitude, longitude))"
   ]
  },
  {
   "source": [
    "## FOLIUM\n",
    "* Folium is a very powerful mapping tool which we will be using to plot our latitude and longitude values of each neighborhood on the geographical map of London"
   ],
   "cell_type": "markdown",
   "metadata": {}
  },
  {
   "cell_type": "code",
   "execution_count": 25,
   "metadata": {},
   "outputs": [
    {
     "output_type": "execute_result",
     "data": {
      "text/plain": [
       "<folium.folium.Map at 0x20010d929d0>"
      ],
      "text/html": "<div style=\"width:100%;\"><div style=\"position:relative;width:100%;height:0;padding-bottom:60%;\"><span style=\"color:#565656\">Make this Notebook Trusted to load map: File -> Trust Notebook</span><iframe src=\"about:blank\" style=\"position:absolute;width:100%;height:100%;left:0;top:0;border:none !important;\" data-html=%3C%21DOCTYPE%20html%3E%0A%3Chead%3E%20%20%20%20%0A%20%20%20%20%3Cmeta%20http-equiv%3D%22content-type%22%20content%3D%22text/html%3B%20charset%3DUTF-8%22%20/%3E%0A%20%20%20%20%0A%20%20%20%20%20%20%20%20%3Cscript%3E%0A%20%20%20%20%20%20%20%20%20%20%20%20L_NO_TOUCH%20%3D%20false%3B%0A%20%20%20%20%20%20%20%20%20%20%20%20L_DISABLE_3D%20%3D%20false%3B%0A%20%20%20%20%20%20%20%20%3C/script%3E%0A%20%20%20%20%0A%20%20%20%20%3Cstyle%3Ehtml%2C%20body%20%7Bwidth%3A%20100%25%3Bheight%3A%20100%25%3Bmargin%3A%200%3Bpadding%3A%200%3B%7D%3C/style%3E%0A%20%20%20%20%3Cstyle%3E%23map%20%7Bposition%3Aabsolute%3Btop%3A0%3Bbottom%3A0%3Bright%3A0%3Bleft%3A0%3B%7D%3C/style%3E%0A%20%20%20%20%3Cscript%20src%3D%22https%3A//cdn.jsdelivr.net/npm/leaflet%401.6.0/dist/leaflet.js%22%3E%3C/script%3E%0A%20%20%20%20%3Cscript%20src%3D%22https%3A//code.jquery.com/jquery-1.12.4.min.js%22%3E%3C/script%3E%0A%20%20%20%20%3Cscript%20src%3D%22https%3A//maxcdn.bootstrapcdn.com/bootstrap/3.2.0/js/bootstrap.min.js%22%3E%3C/script%3E%0A%20%20%20%20%3Cscript%20src%3D%22https%3A//cdnjs.cloudflare.com/ajax/libs/Leaflet.awesome-markers/2.0.2/leaflet.awesome-markers.js%22%3E%3C/script%3E%0A%20%20%20%20%3Clink%20rel%3D%22stylesheet%22%20href%3D%22https%3A//cdn.jsdelivr.net/npm/leaflet%401.6.0/dist/leaflet.css%22/%3E%0A%20%20%20%20%3Clink%20rel%3D%22stylesheet%22%20href%3D%22https%3A//maxcdn.bootstrapcdn.com/bootstrap/3.2.0/css/bootstrap.min.css%22/%3E%0A%20%20%20%20%3Clink%20rel%3D%22stylesheet%22%20href%3D%22https%3A//maxcdn.bootstrapcdn.com/bootstrap/3.2.0/css/bootstrap-theme.min.css%22/%3E%0A%20%20%20%20%3Clink%20rel%3D%22stylesheet%22%20href%3D%22https%3A//maxcdn.bootstrapcdn.com/font-awesome/4.6.3/css/font-awesome.min.css%22/%3E%0A%20%20%20%20%3Clink%20rel%3D%22stylesheet%22%20href%3D%22https%3A//cdnjs.cloudflare.com/ajax/libs/Leaflet.awesome-markers/2.0.2/leaflet.awesome-markers.css%22/%3E%0A%20%20%20%20%3Clink%20rel%3D%22stylesheet%22%20href%3D%22https%3A//cdn.jsdelivr.net/gh/python-visualization/folium/folium/templates/leaflet.awesome.rotate.min.css%22/%3E%0A%20%20%20%20%0A%20%20%20%20%20%20%20%20%20%20%20%20%3Cmeta%20name%3D%22viewport%22%20content%3D%22width%3Ddevice-width%2C%0A%20%20%20%20%20%20%20%20%20%20%20%20%20%20%20%20initial-scale%3D1.0%2C%20maximum-scale%3D1.0%2C%20user-scalable%3Dno%22%20/%3E%0A%20%20%20%20%20%20%20%20%20%20%20%20%3Cstyle%3E%0A%20%20%20%20%20%20%20%20%20%20%20%20%20%20%20%20%23map_ea7b6278695a485f9e90a7db51f8c03f%20%7B%0A%20%20%20%20%20%20%20%20%20%20%20%20%20%20%20%20%20%20%20%20position%3A%20relative%3B%0A%20%20%20%20%20%20%20%20%20%20%20%20%20%20%20%20%20%20%20%20width%3A%20100.0%25%3B%0A%20%20%20%20%20%20%20%20%20%20%20%20%20%20%20%20%20%20%20%20height%3A%20100.0%25%3B%0A%20%20%20%20%20%20%20%20%20%20%20%20%20%20%20%20%20%20%20%20left%3A%200.0%25%3B%0A%20%20%20%20%20%20%20%20%20%20%20%20%20%20%20%20%20%20%20%20top%3A%200.0%25%3B%0A%20%20%20%20%20%20%20%20%20%20%20%20%20%20%20%20%7D%0A%20%20%20%20%20%20%20%20%20%20%20%20%3C/style%3E%0A%20%20%20%20%20%20%20%20%0A%3C/head%3E%0A%3Cbody%3E%20%20%20%20%0A%20%20%20%20%0A%20%20%20%20%20%20%20%20%20%20%20%20%3Cdiv%20class%3D%22folium-map%22%20id%3D%22map_ea7b6278695a485f9e90a7db51f8c03f%22%20%3E%3C/div%3E%0A%20%20%20%20%20%20%20%20%0A%3C/body%3E%0A%3Cscript%3E%20%20%20%20%0A%20%20%20%20%0A%20%20%20%20%20%20%20%20%20%20%20%20var%20map_ea7b6278695a485f9e90a7db51f8c03f%20%3D%20L.map%28%0A%20%20%20%20%20%20%20%20%20%20%20%20%20%20%20%20%22map_ea7b6278695a485f9e90a7db51f8c03f%22%2C%0A%20%20%20%20%20%20%20%20%20%20%20%20%20%20%20%20%7B%0A%20%20%20%20%20%20%20%20%20%20%20%20%20%20%20%20%20%20%20%20center%3A%20%5B51.5073219%2C%20-0.1276474%5D%2C%0A%20%20%20%20%20%20%20%20%20%20%20%20%20%20%20%20%20%20%20%20crs%3A%20L.CRS.EPSG3857%2C%0A%20%20%20%20%20%20%20%20%20%20%20%20%20%20%20%20%20%20%20%20zoom%3A%2010%2C%0A%20%20%20%20%20%20%20%20%20%20%20%20%20%20%20%20%20%20%20%20zoomControl%3A%20true%2C%0A%20%20%20%20%20%20%20%20%20%20%20%20%20%20%20%20%20%20%20%20preferCanvas%3A%20false%2C%0A%20%20%20%20%20%20%20%20%20%20%20%20%20%20%20%20%7D%0A%20%20%20%20%20%20%20%20%20%20%20%20%29%3B%0A%0A%20%20%20%20%20%20%20%20%20%20%20%20%0A%0A%20%20%20%20%20%20%20%20%0A%20%20%20%20%0A%20%20%20%20%20%20%20%20%20%20%20%20var%20tile_layer_8ede5b63fc394330a9493af2c9502362%20%3D%20L.tileLayer%28%0A%20%20%20%20%20%20%20%20%20%20%20%20%20%20%20%20%22https%3A//%7Bs%7D.tile.openstreetmap.org/%7Bz%7D/%7Bx%7D/%7By%7D.png%22%2C%0A%20%20%20%20%20%20%20%20%20%20%20%20%20%20%20%20%7B%22attribution%22%3A%20%22Data%20by%20%5Cu0026copy%3B%20%5Cu003ca%20href%3D%5C%22http%3A//openstreetmap.org%5C%22%5Cu003eOpenStreetMap%5Cu003c/a%5Cu003e%2C%20under%20%5Cu003ca%20href%3D%5C%22http%3A//www.openstreetmap.org/copyright%5C%22%5Cu003eODbL%5Cu003c/a%5Cu003e.%22%2C%20%22detectRetina%22%3A%20false%2C%20%22maxNativeZoom%22%3A%2018%2C%20%22maxZoom%22%3A%2018%2C%20%22minZoom%22%3A%200%2C%20%22noWrap%22%3A%20false%2C%20%22opacity%22%3A%201%2C%20%22subdomains%22%3A%20%22abc%22%2C%20%22tms%22%3A%20false%7D%0A%20%20%20%20%20%20%20%20%20%20%20%20%29.addTo%28map_ea7b6278695a485f9e90a7db51f8c03f%29%3B%0A%20%20%20%20%20%20%20%20%0A%20%20%20%20%0A%20%20%20%20%20%20%20%20%20%20%20%20var%20circle_c60b7fdf84c245499258c91998f66db0%20%3D%20L.circle%28%0A%20%20%20%20%20%20%20%20%20%20%20%20%20%20%20%20%5B51.426481%2C%200.105038%5D%2C%0A%20%20%20%20%20%20%20%20%20%20%20%20%20%20%20%20%7B%22bubblingMouseEvents%22%3A%20true%2C%20%22color%22%3A%20%22blue%22%2C%20%22dashArray%22%3A%20null%2C%20%22dashOffset%22%3A%20null%2C%20%22fill%22%3A%20true%2C%20%22fillColor%22%3A%20%22%233186cc%22%2C%20%22fillOpacity%22%3A%200.7%2C%20%22fillRule%22%3A%20%22evenodd%22%2C%20%22lineCap%22%3A%20%22round%22%2C%20%22lineJoin%22%3A%20%22round%22%2C%20%22opacity%22%3A%201.0%2C%20%22radius%22%3A%201000%2C%20%22stroke%22%3A%20true%2C%20%22weight%22%3A%203%7D%0A%20%20%20%20%20%20%20%20%20%20%20%20%29.addTo%28map_ea7b6278695a485f9e90a7db51f8c03f%29%3B%0A%20%20%20%20%20%20%20%20%0A%20%20%20%20%0A%20%20%20%20%20%20%20%20var%20popup_d535efee5389461e94534443f70dae65%20%3D%20L.popup%28%7B%22maxWidth%22%3A%20%22100%25%22%7D%29%3B%0A%0A%20%20%20%20%20%20%20%20%0A%20%20%20%20%20%20%20%20%20%20%20%20var%20html_862cdd58e7734741907780362b8dd030%20%3D%20%24%28%60%3Cdiv%20id%3D%22html_862cdd58e7734741907780362b8dd030%22%20style%3D%22width%3A%20100.0%25%3B%20height%3A%20100.0%25%3B%22%3EFrognal%20Avenue%20Sidcup%3C/div%3E%60%29%5B0%5D%3B%0A%20%20%20%20%20%20%20%20%20%20%20%20popup_d535efee5389461e94534443f70dae65.setContent%28html_862cdd58e7734741907780362b8dd030%29%3B%0A%20%20%20%20%20%20%20%20%0A%0A%20%20%20%20%20%20%20%20circle_c60b7fdf84c245499258c91998f66db0.bindPopup%28popup_d535efee5389461e94534443f70dae65%29%0A%20%20%20%20%20%20%20%20%3B%0A%0A%20%20%20%20%20%20%20%20%0A%20%20%20%20%0A%20%20%20%20%0A%20%20%20%20%20%20%20%20%20%20%20%20var%20circle_6fc4ae14649a4a3183a57620f83b2c84%20%3D%20L.circle%28%0A%20%20%20%20%20%20%20%20%20%20%20%20%20%20%20%20%5B51.487122%2C%200.003284%5D%2C%0A%20%20%20%20%20%20%20%20%20%20%20%20%20%20%20%20%7B%22bubblingMouseEvents%22%3A%20true%2C%20%22color%22%3A%20%22blue%22%2C%20%22dashArray%22%3A%20null%2C%20%22dashOffset%22%3A%20null%2C%20%22fill%22%3A%20true%2C%20%22fillColor%22%3A%20%22%233186cc%22%2C%20%22fillOpacity%22%3A%200.7%2C%20%22fillRule%22%3A%20%22evenodd%22%2C%20%22lineCap%22%3A%20%22round%22%2C%20%22lineJoin%22%3A%20%22round%22%2C%20%22opacity%22%3A%201.0%2C%20%22radius%22%3A%201000%2C%20%22stroke%22%3A%20true%2C%20%22weight%22%3A%203%7D%0A%20%20%20%20%20%20%20%20%20%20%20%20%29.addTo%28map_ea7b6278695a485f9e90a7db51f8c03f%29%3B%0A%20%20%20%20%20%20%20%20%0A%20%20%20%20%0A%20%20%20%20%20%20%20%20var%20popup_611ca182cd9c43bf97f500da47d139eb%20%3D%20L.popup%28%7B%22maxWidth%22%3A%20%22100%25%22%7D%29%3B%0A%0A%20%20%20%20%20%20%20%20%0A%20%20%20%20%20%20%20%20%20%20%20%20var%20html_bbd7318e50e442919100bce52d2f73d4%20%3D%20%24%28%60%3Cdiv%20id%3D%22html_bbd7318e50e442919100bce52d2f73d4%22%20style%3D%22width%3A%20100.0%25%3B%20height%3A%20100.0%25%3B%22%3ECutter%20Lane%20Chandlers%20Avenue%20London%3C/div%3E%60%29%5B0%5D%3B%0A%20%20%20%20%20%20%20%20%20%20%20%20popup_611ca182cd9c43bf97f500da47d139eb.setContent%28html_bbd7318e50e442919100bce52d2f73d4%29%3B%0A%20%20%20%20%20%20%20%20%0A%0A%20%20%20%20%20%20%20%20circle_6fc4ae14649a4a3183a57620f83b2c84.bindPopup%28popup_611ca182cd9c43bf97f500da47d139eb%29%0A%20%20%20%20%20%20%20%20%3B%0A%0A%20%20%20%20%20%20%20%20%0A%20%20%20%20%0A%20%20%20%20%0A%20%20%20%20%20%20%20%20%20%20%20%20var%20circle_edcc060ee91c43cc8628b4af835905e1%20%3D%20L.circle%28%0A%20%20%20%20%20%20%20%20%20%20%20%20%20%20%20%20%5B51.481796%2C%20-0.090377%5D%2C%0A%20%20%20%20%20%20%20%20%20%20%20%20%20%20%20%20%7B%22bubblingMouseEvents%22%3A%20true%2C%20%22color%22%3A%20%22blue%22%2C%20%22dashArray%22%3A%20null%2C%20%22dashOffset%22%3A%20null%2C%20%22fill%22%3A%20true%2C%20%22fillColor%22%3A%20%22%233186cc%22%2C%20%22fillOpacity%22%3A%200.7%2C%20%22fillRule%22%3A%20%22evenodd%22%2C%20%22lineCap%22%3A%20%22round%22%2C%20%22lineJoin%22%3A%20%22round%22%2C%20%22opacity%22%3A%201.0%2C%20%22radius%22%3A%201000%2C%20%22stroke%22%3A%20true%2C%20%22weight%22%3A%203%7D%0A%20%20%20%20%20%20%20%20%20%20%20%20%29.addTo%28map_ea7b6278695a485f9e90a7db51f8c03f%29%3B%0A%20%20%20%20%20%20%20%20%0A%20%20%20%20%0A%20%20%20%20%20%20%20%20var%20popup_dad87ef484bd4be7816a6b3cb1570df9%20%3D%20L.popup%28%7B%22maxWidth%22%3A%20%22100%25%22%7D%29%3B%0A%0A%20%20%20%20%20%20%20%20%0A%20%20%20%20%20%20%20%20%20%20%20%20var%20html_f0a4483c12fc47d69b3f3acba66b3cc2%20%3D%20%24%28%60%3Cdiv%20id%3D%22html_f0a4483c12fc47d69b3f3acba66b3cc2%22%20style%3D%22width%3A%20100.0%25%3B%20height%3A%20100.0%25%3B%22%3ELettsom%20Street%20London%3C/div%3E%60%29%5B0%5D%3B%0A%20%20%20%20%20%20%20%20%20%20%20%20popup_dad87ef484bd4be7816a6b3cb1570df9.setContent%28html_f0a4483c12fc47d69b3f3acba66b3cc2%29%3B%0A%20%20%20%20%20%20%20%20%0A%0A%20%20%20%20%20%20%20%20circle_edcc060ee91c43cc8628b4af835905e1.bindPopup%28popup_dad87ef484bd4be7816a6b3cb1570df9%29%0A%20%20%20%20%20%20%20%20%3B%0A%0A%20%20%20%20%20%20%20%20%0A%20%20%20%20%0A%20%20%20%20%0A%20%20%20%20%20%20%20%20%20%20%20%20var%20circle_943a3e62b148426ca6b0e8b95d073449%20%3D%20L.circle%28%0A%20%20%20%20%20%20%20%20%20%20%20%20%20%20%20%20%5B51.401546%2C%200.015415%5D%2C%0A%20%20%20%20%20%20%20%20%20%20%20%20%20%20%20%20%7B%22bubblingMouseEvents%22%3A%20true%2C%20%22color%22%3A%20%22blue%22%2C%20%22dashArray%22%3A%20null%2C%20%22dashOffset%22%3A%20null%2C%20%22fill%22%3A%20true%2C%20%22fillColor%22%3A%20%22%233186cc%22%2C%20%22fillOpacity%22%3A%200.7%2C%20%22fillRule%22%3A%20%22evenodd%22%2C%20%22lineCap%22%3A%20%22round%22%2C%20%22lineJoin%22%3A%20%22round%22%2C%20%22opacity%22%3A%201.0%2C%20%22radius%22%3A%201000%2C%20%22stroke%22%3A%20true%2C%20%22weight%22%3A%203%7D%0A%20%20%20%20%20%20%20%20%20%20%20%20%29.addTo%28map_ea7b6278695a485f9e90a7db51f8c03f%29%3B%0A%20%20%20%20%20%20%20%20%0A%20%20%20%20%0A%20%20%20%20%20%20%20%20var%20popup_9735939a68284aa6b9e28b0c6c02ce63%20%3D%20L.popup%28%7B%22maxWidth%22%3A%20%22100%25%22%7D%29%3B%0A%0A%20%20%20%20%20%20%20%20%0A%20%20%20%20%20%20%20%20%20%20%20%20var%20html_01c8d052af254516a21e4034bf8219ca%20%3D%20%24%28%60%3Cdiv%20id%3D%22html_01c8d052af254516a21e4034bf8219ca%22%20style%3D%22width%3A%20100.0%25%3B%20height%3A%20100.0%25%3B%22%3EPlaistow%20Lane%20Bromley%3C/div%3E%60%29%5B0%5D%3B%0A%20%20%20%20%20%20%20%20%20%20%20%20popup_9735939a68284aa6b9e28b0c6c02ce63.setContent%28html_01c8d052af254516a21e4034bf8219ca%29%3B%0A%20%20%20%20%20%20%20%20%0A%0A%20%20%20%20%20%20%20%20circle_943a3e62b148426ca6b0e8b95d073449.bindPopup%28popup_9735939a68284aa6b9e28b0c6c02ce63%29%0A%20%20%20%20%20%20%20%20%3B%0A%0A%20%20%20%20%20%20%20%20%0A%20%20%20%20%0A%20%20%20%20%0A%20%20%20%20%20%20%20%20%20%20%20%20var%20circle_bf539d80381f45bf913f992e3e557b77%20%3D%20L.circle%28%0A%20%20%20%20%20%20%20%20%20%20%20%20%20%20%20%20%5B51.450352%2C%200.062336%5D%2C%0A%20%20%20%20%20%20%20%20%20%20%20%20%20%20%20%20%7B%22bubblingMouseEvents%22%3A%20true%2C%20%22color%22%3A%20%22blue%22%2C%20%22dashArray%22%3A%20null%2C%20%22dashOffset%22%3A%20null%2C%20%22fill%22%3A%20true%2C%20%22fillColor%22%3A%20%22%233186cc%22%2C%20%22fillOpacity%22%3A%200.7%2C%20%22fillRule%22%3A%20%22evenodd%22%2C%20%22lineCap%22%3A%20%22round%22%2C%20%22lineJoin%22%3A%20%22round%22%2C%20%22opacity%22%3A%201.0%2C%20%22radius%22%3A%201000%2C%20%22stroke%22%3A%20true%2C%20%22weight%22%3A%203%7D%0A%20%20%20%20%20%20%20%20%20%20%20%20%29.addTo%28map_ea7b6278695a485f9e90a7db51f8c03f%29%3B%0A%20%20%20%20%20%20%20%20%0A%20%20%20%20%0A%20%20%20%20%20%20%20%20var%20popup_c6a321cb70794e1c8d4052946844cfbb%20%3D%20L.popup%28%7B%22maxWidth%22%3A%20%22100%25%22%7D%29%3B%0A%0A%20%20%20%20%20%20%20%20%0A%20%20%20%20%20%20%20%20%20%20%20%20var%20html_b652e81e41ab4b39b5cb32cc5f95212a%20%3D%20%24%28%60%3Cdiv%20id%3D%22html_b652e81e41ab4b39b5cb32cc5f95212a%22%20style%3D%22width%3A%20100.0%25%3B%20height%3A%20100.0%25%3B%22%3EChilderic%20Road%20London%3C/div%3E%60%29%5B0%5D%3B%0A%20%20%20%20%20%20%20%20%20%20%20%20popup_c6a321cb70794e1c8d4052946844cfbb.setContent%28html_b652e81e41ab4b39b5cb32cc5f95212a%29%3B%0A%20%20%20%20%20%20%20%20%0A%0A%20%20%20%20%20%20%20%20circle_bf539d80381f45bf913f992e3e557b77.bindPopup%28popup_c6a321cb70794e1c8d4052946844cfbb%29%0A%20%20%20%20%20%20%20%20%3B%0A%0A%20%20%20%20%20%20%20%20%0A%20%20%20%20%0A%20%20%20%20%0A%20%20%20%20%20%20%20%20%20%20%20%20var%20circle_33e93c73eb7041a9b79c516536332c14%20%3D%20L.circle%28%0A%20%20%20%20%20%20%20%20%20%20%20%20%20%20%20%20%5B51.474867%2C%20-0.046933%5D%2C%0A%20%20%20%20%20%20%20%20%20%20%20%20%20%20%20%20%7B%22bubblingMouseEvents%22%3A%20true%2C%20%22color%22%3A%20%22blue%22%2C%20%22dashArray%22%3A%20null%2C%20%22dashOffset%22%3A%20null%2C%20%22fill%22%3A%20true%2C%20%22fillColor%22%3A%20%22%233186cc%22%2C%20%22fillOpacity%22%3A%200.7%2C%20%22fillRule%22%3A%20%22evenodd%22%2C%20%22lineCap%22%3A%20%22round%22%2C%20%22lineJoin%22%3A%20%22round%22%2C%20%22opacity%22%3A%201.0%2C%20%22radius%22%3A%201000%2C%20%22stroke%22%3A%20true%2C%20%22weight%22%3A%203%7D%0A%20%20%20%20%20%20%20%20%20%20%20%20%29.addTo%28map_ea7b6278695a485f9e90a7db51f8c03f%29%3B%0A%20%20%20%20%20%20%20%20%0A%20%20%20%20%0A%20%20%20%20%20%20%20%20var%20popup_fad59cb5de14406885222af450007da9%20%3D%20L.popup%28%7B%22maxWidth%22%3A%20%22100%25%22%7D%29%3B%0A%0A%20%20%20%20%20%20%20%20%0A%20%20%20%20%20%20%20%20%20%20%20%20var%20html_d25730ade14646a6bf7806d3e614d073%20%3D%20%24%28%60%3Cdiv%20id%3D%22html_d25730ade14646a6bf7806d3e614d073%22%20style%3D%22width%3A%20100.0%25%3B%20height%3A%20100.0%25%3B%22%3ENew%20Wanstead%20London%3C/div%3E%60%29%5B0%5D%3B%0A%20%20%20%20%20%20%20%20%20%20%20%20popup_fad59cb5de14406885222af450007da9.setContent%28html_d25730ade14646a6bf7806d3e614d073%29%3B%0A%20%20%20%20%20%20%20%20%0A%0A%20%20%20%20%20%20%20%20circle_33e93c73eb7041a9b79c516536332c14.bindPopup%28popup_fad59cb5de14406885222af450007da9%29%0A%20%20%20%20%20%20%20%20%3B%0A%0A%20%20%20%20%20%20%20%20%0A%20%20%20%20%0A%20%20%20%20%0A%20%20%20%20%20%20%20%20%20%20%20%20var%20circle_5314fc112be34d9c9356912fc8c23a82%20%3D%20L.circle%28%0A%20%20%20%20%20%20%20%20%20%20%20%20%20%20%20%20%5B51.564032%2C%200.008813%5D%2C%0A%20%20%20%20%20%20%20%20%20%20%20%20%20%20%20%20%7B%22bubblingMouseEvents%22%3A%20true%2C%20%22color%22%3A%20%22blue%22%2C%20%22dashArray%22%3A%20null%2C%20%22dashOffset%22%3A%20null%2C%20%22fill%22%3A%20true%2C%20%22fillColor%22%3A%20%22%233186cc%22%2C%20%22fillOpacity%22%3A%200.7%2C%20%22fillRule%22%3A%20%22evenodd%22%2C%20%22lineCap%22%3A%20%22round%22%2C%20%22lineJoin%22%3A%20%22round%22%2C%20%22opacity%22%3A%201.0%2C%20%22radius%22%3A%201000%2C%20%22stroke%22%3A%20true%2C%20%22weight%22%3A%203%7D%0A%20%20%20%20%20%20%20%20%20%20%20%20%29.addTo%28map_ea7b6278695a485f9e90a7db51f8c03f%29%3B%0A%20%20%20%20%20%20%20%20%0A%20%20%20%20%0A%20%20%20%20%20%20%20%20var%20popup_be24505e8c864bbba050f5b3177a1f9c%20%3D%20L.popup%28%7B%22maxWidth%22%3A%20%22100%25%22%7D%29%3B%0A%0A%20%20%20%20%20%20%20%20%0A%20%20%20%20%20%20%20%20%20%20%20%20var%20html_384ce346839f4077b636045f16a0b477%20%3D%20%24%28%60%3Cdiv%20id%3D%22html_384ce346839f4077b636045f16a0b477%22%20style%3D%22width%3A%20100.0%25%3B%20height%3A%20100.0%25%3B%22%3ESherfield%20Gardens%20London%3C/div%3E%60%29%5B0%5D%3B%0A%20%20%20%20%20%20%20%20%20%20%20%20popup_be24505e8c864bbba050f5b3177a1f9c.setContent%28html_384ce346839f4077b636045f16a0b477%29%3B%0A%20%20%20%20%20%20%20%20%0A%0A%20%20%20%20%20%20%20%20circle_5314fc112be34d9c9356912fc8c23a82.bindPopup%28popup_be24505e8c864bbba050f5b3177a1f9c%29%0A%20%20%20%20%20%20%20%20%3B%0A%0A%20%20%20%20%20%20%20%20%0A%20%20%20%20%0A%20%20%20%20%0A%20%20%20%20%20%20%20%20%20%20%20%20var%20circle_e882b360c2f54855aa3ca75b79da9df5%20%3D%20L.circle%28%0A%20%20%20%20%20%20%20%20%20%20%20%20%20%20%20%20%5B51.464123%2C%20-0.222848%5D%2C%0A%20%20%20%20%20%20%20%20%20%20%20%20%20%20%20%20%7B%22bubblingMouseEvents%22%3A%20true%2C%20%22color%22%3A%20%22blue%22%2C%20%22dashArray%22%3A%20null%2C%20%22dashOffset%22%3A%20null%2C%20%22fill%22%3A%20true%2C%20%22fillColor%22%3A%20%22%233186cc%22%2C%20%22fillOpacity%22%3A%200.7%2C%20%22fillRule%22%3A%20%22evenodd%22%2C%20%22lineCap%22%3A%20%22round%22%2C%20%22lineJoin%22%3A%20%22round%22%2C%20%22opacity%22%3A%201.0%2C%20%22radius%22%3A%201000%2C%20%22stroke%22%3A%20true%2C%20%22weight%22%3A%203%7D%0A%20%20%20%20%20%20%20%20%20%20%20%20%29.addTo%28map_ea7b6278695a485f9e90a7db51f8c03f%29%3B%0A%20%20%20%20%20%20%20%20%0A%20%20%20%20%0A%20%20%20%20%20%20%20%20var%20popup_3dfd9526835a477ba0a52d48ab9c346b%20%3D%20L.popup%28%7B%22maxWidth%22%3A%20%22100%25%22%7D%29%3B%0A%0A%20%20%20%20%20%20%20%20%0A%20%20%20%20%20%20%20%20%20%20%20%20var%20html_2f58313de32d4413b55b07394a0e066d%20%3D%20%24%28%60%3Cdiv%20id%3D%22html_2f58313de32d4413b55b07394a0e066d%22%20style%3D%22width%3A%20100.0%25%3B%20height%3A%20100.0%25%3B%22%3EAdelaide%20Avenue%20London%3C/div%3E%60%29%5B0%5D%3B%0A%20%20%20%20%20%20%20%20%20%20%20%20popup_3dfd9526835a477ba0a52d48ab9c346b.setContent%28html_2f58313de32d4413b55b07394a0e066d%29%3B%0A%20%20%20%20%20%20%20%20%0A%0A%20%20%20%20%20%20%20%20circle_e882b360c2f54855aa3ca75b79da9df5.bindPopup%28popup_3dfd9526835a477ba0a52d48ab9c346b%29%0A%20%20%20%20%20%20%20%20%3B%0A%0A%20%20%20%20%20%20%20%20%0A%20%20%20%20%0A%20%20%20%20%0A%20%20%20%20%20%20%20%20%20%20%20%20var%20circle_ebcc488bdd3846458f7f1816744cbc4a%20%3D%20L.circle%28%0A%20%20%20%20%20%20%20%20%20%20%20%20%20%20%20%20%5B51.453268%2C%20-0.032498%5D%2C%0A%20%20%20%20%20%20%20%20%20%20%20%20%20%20%20%20%7B%22bubblingMouseEvents%22%3A%20true%2C%20%22color%22%3A%20%22blue%22%2C%20%22dashArray%22%3A%20null%2C%20%22dashOffset%22%3A%20null%2C%20%22fill%22%3A%20true%2C%20%22fillColor%22%3A%20%22%233186cc%22%2C%20%22fillOpacity%22%3A%200.7%2C%20%22fillRule%22%3A%20%22evenodd%22%2C%20%22lineCap%22%3A%20%22round%22%2C%20%22lineJoin%22%3A%20%22round%22%2C%20%22opacity%22%3A%201.0%2C%20%22radius%22%3A%201000%2C%20%22stroke%22%3A%20true%2C%20%22weight%22%3A%203%7D%0A%20%20%20%20%20%20%20%20%20%20%20%20%29.addTo%28map_ea7b6278695a485f9e90a7db51f8c03f%29%3B%0A%20%20%20%20%20%20%20%20%0A%20%20%20%20%0A%20%20%20%20%20%20%20%20var%20popup_cb2fcf6352d7472ca885120ddb550da0%20%3D%20L.popup%28%7B%22maxWidth%22%3A%20%22100%25%22%7D%29%3B%0A%0A%20%20%20%20%20%20%20%20%0A%20%20%20%20%20%20%20%20%20%20%20%20var%20html_fa832ee4ef244ec78fde2bf9cce68a72%20%3D%20%24%28%60%3Cdiv%20id%3D%22html_fa832ee4ef244ec78fde2bf9cce68a72%22%20style%3D%22width%3A%20100.0%25%3B%20height%3A%20100.0%25%3B%22%3EDisraeli%20Road%20London%3C/div%3E%60%29%5B0%5D%3B%0A%20%20%20%20%20%20%20%20%20%20%20%20popup_cb2fcf6352d7472ca885120ddb550da0.setContent%28html_fa832ee4ef244ec78fde2bf9cce68a72%29%3B%0A%20%20%20%20%20%20%20%20%0A%0A%20%20%20%20%20%20%20%20circle_ebcc488bdd3846458f7f1816744cbc4a.bindPopup%28popup_cb2fcf6352d7472ca885120ddb550da0%29%0A%20%20%20%20%20%20%20%20%3B%0A%0A%20%20%20%20%20%20%20%20%0A%20%20%20%20%0A%20%20%20%20%0A%20%20%20%20%20%20%20%20%20%20%20%20var%20circle_5c72c6fb67154f06a68cc716aa588b69%20%3D%20L.circle%28%0A%20%20%20%20%20%20%20%20%20%20%20%20%20%20%20%20%5B51.554412%2C%200.019655%5D%2C%0A%20%20%20%20%20%20%20%20%20%20%20%20%20%20%20%20%7B%22bubblingMouseEvents%22%3A%20true%2C%20%22color%22%3A%20%22blue%22%2C%20%22dashArray%22%3A%20null%2C%20%22dashOffset%22%3A%20null%2C%20%22fill%22%3A%20true%2C%20%22fillColor%22%3A%20%22%233186cc%22%2C%20%22fillOpacity%22%3A%200.7%2C%20%22fillRule%22%3A%20%22evenodd%22%2C%20%22lineCap%22%3A%20%22round%22%2C%20%22lineJoin%22%3A%20%22round%22%2C%20%22opacity%22%3A%201.0%2C%20%22radius%22%3A%201000%2C%20%22stroke%22%3A%20true%2C%20%22weight%22%3A%203%7D%0A%20%20%20%20%20%20%20%20%20%20%20%20%29.addTo%28map_ea7b6278695a485f9e90a7db51f8c03f%29%3B%0A%20%20%20%20%20%20%20%20%0A%20%20%20%20%0A%20%20%20%20%20%20%20%20var%20popup_084abed23b2e46ffa684e1dbae16bb58%20%3D%20L.popup%28%7B%22maxWidth%22%3A%20%22100%25%22%7D%29%3B%0A%0A%20%20%20%20%20%20%20%20%0A%20%20%20%20%20%20%20%20%20%20%20%20var%20html_56e73a4c873442dfbef0c6bf3c7b84c7%20%3D%20%24%28%60%3Cdiv%20id%3D%22html_56e73a4c873442dfbef0c6bf3c7b84c7%22%20style%3D%22width%3A%20100.0%25%3B%20height%3A%20100.0%25%3B%22%3EEast%20Street%20Barking%3C/div%3E%60%29%5B0%5D%3B%0A%20%20%20%20%20%20%20%20%20%20%20%20popup_084abed23b2e46ffa684e1dbae16bb58.setContent%28html_56e73a4c873442dfbef0c6bf3c7b84c7%29%3B%0A%20%20%20%20%20%20%20%20%0A%0A%20%20%20%20%20%20%20%20circle_5c72c6fb67154f06a68cc716aa588b69.bindPopup%28popup_084abed23b2e46ffa684e1dbae16bb58%29%0A%20%20%20%20%20%20%20%20%3B%0A%0A%20%20%20%20%20%20%20%20%0A%20%20%20%20%0A%20%20%20%20%0A%20%20%20%20%20%20%20%20%20%20%20%20var%20circle_d582aacd8f77410dba40ec46d296554c%20%3D%20L.circle%28%0A%20%20%20%20%20%20%20%20%20%20%20%20%20%20%20%20%5B51.524785%2C%200.078646%5D%2C%0A%20%20%20%20%20%20%20%20%20%20%20%20%20%20%20%20%7B%22bubblingMouseEvents%22%3A%20true%2C%20%22color%22%3A%20%22blue%22%2C%20%22dashArray%22%3A%20null%2C%20%22dashOffset%22%3A%20null%2C%20%22fill%22%3A%20true%2C%20%22fillColor%22%3A%20%22%233186cc%22%2C%20%22fillOpacity%22%3A%200.7%2C%20%22fillRule%22%3A%20%22evenodd%22%2C%20%22lineCap%22%3A%20%22round%22%2C%20%22lineJoin%22%3A%20%22round%22%2C%20%22opacity%22%3A%201.0%2C%20%22radius%22%3A%201000%2C%20%22stroke%22%3A%20true%2C%20%22weight%22%3A%203%7D%0A%20%20%20%20%20%20%20%20%20%20%20%20%29.addTo%28map_ea7b6278695a485f9e90a7db51f8c03f%29%3B%0A%20%20%20%20%20%20%20%20%0A%20%20%20%20%0A%20%20%20%20%20%20%20%20var%20popup_76802dbf9c734fe69964db68d5d0cbcf%20%3D%20L.popup%28%7B%22maxWidth%22%3A%20%22100%25%22%7D%29%3B%0A%0A%20%20%20%20%20%20%20%20%0A%20%20%20%20%20%20%20%20%20%20%20%20var%20html_c84804d5c14b4007a3508941df1f3c46%20%3D%20%24%28%60%3Cdiv%20id%3D%22html_c84804d5c14b4007a3508941df1f3c46%22%20style%3D%22width%3A%20100.0%25%3B%20height%3A%20100.0%25%3B%22%3EJamaica%20Road%20London%3C/div%3E%60%29%5B0%5D%3B%0A%20%20%20%20%20%20%20%20%20%20%20%20popup_76802dbf9c734fe69964db68d5d0cbcf.setContent%28html_c84804d5c14b4007a3508941df1f3c46%29%3B%0A%20%20%20%20%20%20%20%20%0A%0A%20%20%20%20%20%20%20%20circle_d582aacd8f77410dba40ec46d296554c.bindPopup%28popup_76802dbf9c734fe69964db68d5d0cbcf%29%0A%20%20%20%20%20%20%20%20%3B%0A%0A%20%20%20%20%20%20%20%20%0A%20%20%20%20%0A%20%20%20%20%0A%20%20%20%20%20%20%20%20%20%20%20%20var%20circle_74454f9439834b4ba0cb44c5f5beac26%20%3D%20L.circle%28%0A%20%20%20%20%20%20%20%20%20%20%20%20%20%20%20%20%5B51.491797%2C%20-0.042421%5D%2C%0A%20%20%20%20%20%20%20%20%20%20%20%20%20%20%20%20%7B%22bubblingMouseEvents%22%3A%20true%2C%20%22color%22%3A%20%22blue%22%2C%20%22dashArray%22%3A%20null%2C%20%22dashOffset%22%3A%20null%2C%20%22fill%22%3A%20true%2C%20%22fillColor%22%3A%20%22%233186cc%22%2C%20%22fillOpacity%22%3A%200.7%2C%20%22fillRule%22%3A%20%22evenodd%22%2C%20%22lineCap%22%3A%20%22round%22%2C%20%22lineJoin%22%3A%20%22round%22%2C%20%22opacity%22%3A%201.0%2C%20%22radius%22%3A%201000%2C%20%22stroke%22%3A%20true%2C%20%22weight%22%3A%203%7D%0A%20%20%20%20%20%20%20%20%20%20%20%20%29.addTo%28map_ea7b6278695a485f9e90a7db51f8c03f%29%3B%0A%20%20%20%20%20%20%20%20%0A%20%20%20%20%0A%20%20%20%20%20%20%20%20var%20popup_982d4b51341a42f7ab3526267dc62f73%20%3D%20L.popup%28%7B%22maxWidth%22%3A%20%22100%25%22%7D%29%3B%0A%0A%20%20%20%20%20%20%20%20%0A%20%20%20%20%20%20%20%20%20%20%20%20var%20html_ebbb733a588a4c69b6cd56d6d3256cdc%20%3D%20%24%28%60%3Cdiv%20id%3D%22html_ebbb733a588a4c69b6cd56d6d3256cdc%22%20style%3D%22width%3A%20100.0%25%3B%20height%3A%20100.0%25%3B%22%3ESydenham%20Road%20London%3C/div%3E%60%29%5B0%5D%3B%0A%20%20%20%20%20%20%20%20%20%20%20%20popup_982d4b51341a42f7ab3526267dc62f73.setContent%28html_ebbb733a588a4c69b6cd56d6d3256cdc%29%3B%0A%20%20%20%20%20%20%20%20%0A%0A%20%20%20%20%20%20%20%20circle_74454f9439834b4ba0cb44c5f5beac26.bindPopup%28popup_982d4b51341a42f7ab3526267dc62f73%29%0A%20%20%20%20%20%20%20%20%3B%0A%0A%20%20%20%20%20%20%20%20%0A%20%20%20%20%0A%20%20%20%20%0A%20%20%20%20%20%20%20%20%20%20%20%20var%20circle_fa6c138d21da491fbb99fed1526f1ea7%20%3D%20L.circle%28%0A%20%20%20%20%20%20%20%20%20%20%20%20%20%20%20%20%5B51.429347%2C%20-0.044847%5D%2C%0A%20%20%20%20%20%20%20%20%20%20%20%20%20%20%20%20%7B%22bubblingMouseEvents%22%3A%20true%2C%20%22color%22%3A%20%22blue%22%2C%20%22dashArray%22%3A%20null%2C%20%22dashOffset%22%3A%20null%2C%20%22fill%22%3A%20true%2C%20%22fillColor%22%3A%20%22%233186cc%22%2C%20%22fillOpacity%22%3A%200.7%2C%20%22fillRule%22%3A%20%22evenodd%22%2C%20%22lineCap%22%3A%20%22round%22%2C%20%22lineJoin%22%3A%20%22round%22%2C%20%22opacity%22%3A%201.0%2C%20%22radius%22%3A%201000%2C%20%22stroke%22%3A%20true%2C%20%22weight%22%3A%203%7D%0A%20%20%20%20%20%20%20%20%20%20%20%20%29.addTo%28map_ea7b6278695a485f9e90a7db51f8c03f%29%3B%0A%20%20%20%20%20%20%20%20%0A%20%20%20%20%0A%20%20%20%20%20%20%20%20var%20popup_f9ef1814338747ca8bfc03c65bfb4eef%20%3D%20L.popup%28%7B%22maxWidth%22%3A%20%22100%25%22%7D%29%3B%0A%0A%20%20%20%20%20%20%20%20%0A%20%20%20%20%20%20%20%20%20%20%20%20var%20html_40c686a22c49424d8af22f4b35f1d39d%20%3D%20%24%28%60%3Cdiv%20id%3D%22html_40c686a22c49424d8af22f4b35f1d39d%22%20style%3D%22width%3A%20100.0%25%3B%20height%3A%20100.0%25%3B%22%3ESandford%20Road%20Bromley%3C/div%3E%60%29%5B0%5D%3B%0A%20%20%20%20%20%20%20%20%20%20%20%20popup_f9ef1814338747ca8bfc03c65bfb4eef.setContent%28html_40c686a22c49424d8af22f4b35f1d39d%29%3B%0A%20%20%20%20%20%20%20%20%0A%0A%20%20%20%20%20%20%20%20circle_fa6c138d21da491fbb99fed1526f1ea7.bindPopup%28popup_f9ef1814338747ca8bfc03c65bfb4eef%29%0A%20%20%20%20%20%20%20%20%3B%0A%0A%20%20%20%20%20%20%20%20%0A%20%20%20%20%0A%20%20%20%20%0A%20%20%20%20%20%20%20%20%20%20%20%20var%20circle_7174e49b186843e5907b9b4b0925694e%20%3D%20L.circle%28%0A%20%20%20%20%20%20%20%20%20%20%20%20%20%20%20%20%5B51.407775%2C%20-0.003321%5D%2C%0A%20%20%20%20%20%20%20%20%20%20%20%20%20%20%20%20%7B%22bubblingMouseEvents%22%3A%20true%2C%20%22color%22%3A%20%22blue%22%2C%20%22dashArray%22%3A%20null%2C%20%22dashOffset%22%3A%20null%2C%20%22fill%22%3A%20true%2C%20%22fillColor%22%3A%20%22%233186cc%22%2C%20%22fillOpacity%22%3A%200.7%2C%20%22fillRule%22%3A%20%22evenodd%22%2C%20%22lineCap%22%3A%20%22round%22%2C%20%22lineJoin%22%3A%20%22round%22%2C%20%22opacity%22%3A%201.0%2C%20%22radius%22%3A%201000%2C%20%22stroke%22%3A%20true%2C%20%22weight%22%3A%203%7D%0A%20%20%20%20%20%20%20%20%20%20%20%20%29.addTo%28map_ea7b6278695a485f9e90a7db51f8c03f%29%3B%0A%20%20%20%20%20%20%20%20%0A%20%20%20%20%0A%20%20%20%20%20%20%20%20var%20popup_4fe6295472b8489aabe0b1ed1eb10875%20%3D%20L.popup%28%7B%22maxWidth%22%3A%20%22100%25%22%7D%29%3B%0A%0A%20%20%20%20%20%20%20%20%0A%20%20%20%20%20%20%20%20%20%20%20%20var%20html_3df15d59c06744ce98e43f903ab75050%20%3D%20%24%28%60%3Cdiv%20id%3D%22html_3df15d59c06744ce98e43f903ab75050%22%20style%3D%22width%3A%20100.0%25%3B%20height%3A%20100.0%25%3B%22%3EKingswood%20Estate%20London%3C/div%3E%60%29%5B0%5D%3B%0A%20%20%20%20%20%20%20%20%20%20%20%20popup_4fe6295472b8489aabe0b1ed1eb10875.setContent%28html_3df15d59c06744ce98e43f903ab75050%29%3B%0A%20%20%20%20%20%20%20%20%0A%0A%20%20%20%20%20%20%20%20circle_7174e49b186843e5907b9b4b0925694e.bindPopup%28popup_4fe6295472b8489aabe0b1ed1eb10875%29%0A%20%20%20%20%20%20%20%20%3B%0A%0A%20%20%20%20%20%20%20%20%0A%20%20%20%20%0A%20%20%20%20%0A%20%20%20%20%20%20%20%20%20%20%20%20var%20circle_b88c73f78202480c89e8b720ed396625%20%3D%20L.circle%28%0A%20%20%20%20%20%20%20%20%20%20%20%20%20%20%20%20%5B51.434204%2C%20-0.085226%5D%2C%0A%20%20%20%20%20%20%20%20%20%20%20%20%20%20%20%20%7B%22bubblingMouseEvents%22%3A%20true%2C%20%22color%22%3A%20%22blue%22%2C%20%22dashArray%22%3A%20null%2C%20%22dashOffset%22%3A%20null%2C%20%22fill%22%3A%20true%2C%20%22fillColor%22%3A%20%22%233186cc%22%2C%20%22fillOpacity%22%3A%200.7%2C%20%22fillRule%22%3A%20%22evenodd%22%2C%20%22lineCap%22%3A%20%22round%22%2C%20%22lineJoin%22%3A%20%22round%22%2C%20%22opacity%22%3A%201.0%2C%20%22radius%22%3A%201000%2C%20%22stroke%22%3A%20true%2C%20%22weight%22%3A%203%7D%0A%20%20%20%20%20%20%20%20%20%20%20%20%29.addTo%28map_ea7b6278695a485f9e90a7db51f8c03f%29%3B%0A%20%20%20%20%20%20%20%20%0A%20%20%20%20%0A%20%20%20%20%20%20%20%20var%20popup_e3d01ae151014f228589d87a7649e0c1%20%3D%20L.popup%28%7B%22maxWidth%22%3A%20%22100%25%22%7D%29%3B%0A%0A%20%20%20%20%20%20%20%20%0A%20%20%20%20%20%20%20%20%20%20%20%20var%20html_55287f45a5624c62a86ade7f1793ec0f%20%3D%20%24%28%60%3Cdiv%20id%3D%22html_55287f45a5624c62a86ade7f1793ec0f%22%20style%3D%22width%3A%20100.0%25%3B%20height%3A%20100.0%25%3B%22%3EShurland%20Gardens%20Willowbrook%20Estate%20London%3C/div%3E%60%29%5B0%5D%3B%0A%20%20%20%20%20%20%20%20%20%20%20%20popup_e3d01ae151014f228589d87a7649e0c1.setContent%28html_55287f45a5624c62a86ade7f1793ec0f%29%3B%0A%20%20%20%20%20%20%20%20%0A%0A%20%20%20%20%20%20%20%20circle_b88c73f78202480c89e8b720ed396625.bindPopup%28popup_e3d01ae151014f228589d87a7649e0c1%29%0A%20%20%20%20%20%20%20%20%3B%0A%0A%20%20%20%20%20%20%20%20%0A%20%20%20%20%0A%20%20%20%20%0A%20%20%20%20%20%20%20%20%20%20%20%20var%20circle_e740517889c44a9da58a9d2f1680e0d0%20%3D%20L.circle%28%0A%20%20%20%20%20%20%20%20%20%20%20%20%20%20%20%20%5B51.47681%2C%20-0.068163%5D%2C%0A%20%20%20%20%20%20%20%20%20%20%20%20%20%20%20%20%7B%22bubblingMouseEvents%22%3A%20true%2C%20%22color%22%3A%20%22blue%22%2C%20%22dashArray%22%3A%20null%2C%20%22dashOffset%22%3A%20null%2C%20%22fill%22%3A%20true%2C%20%22fillColor%22%3A%20%22%233186cc%22%2C%20%22fillOpacity%22%3A%200.7%2C%20%22fillRule%22%3A%20%22evenodd%22%2C%20%22lineCap%22%3A%20%22round%22%2C%20%22lineJoin%22%3A%20%22round%22%2C%20%22opacity%22%3A%201.0%2C%20%22radius%22%3A%201000%2C%20%22stroke%22%3A%20true%2C%20%22weight%22%3A%203%7D%0A%20%20%20%20%20%20%20%20%20%20%20%20%29.addTo%28map_ea7b6278695a485f9e90a7db51f8c03f%29%3B%0A%20%20%20%20%20%20%20%20%0A%20%20%20%20%0A%20%20%20%20%20%20%20%20var%20popup_f45fd5d6e9d94baea2bc24e715622207%20%3D%20L.popup%28%7B%22maxWidth%22%3A%20%22100%25%22%7D%29%3B%0A%0A%20%20%20%20%20%20%20%20%0A%20%20%20%20%20%20%20%20%20%20%20%20var%20html_e7633a891e8d4e56a742b0fa94878d9a%20%3D%20%24%28%60%3Cdiv%20id%3D%22html_e7633a891e8d4e56a742b0fa94878d9a%22%20style%3D%22width%3A%20100.0%25%3B%20height%3A%20100.0%25%3B%22%3EAnson%20Place%20London%3C/div%3E%60%29%5B0%5D%3B%0A%20%20%20%20%20%20%20%20%20%20%20%20popup_f45fd5d6e9d94baea2bc24e715622207.setContent%28html_e7633a891e8d4e56a742b0fa94878d9a%29%3B%0A%20%20%20%20%20%20%20%20%0A%0A%20%20%20%20%20%20%20%20circle_e740517889c44a9da58a9d2f1680e0d0.bindPopup%28popup_f45fd5d6e9d94baea2bc24e715622207%29%0A%20%20%20%20%20%20%20%20%3B%0A%0A%20%20%20%20%20%20%20%20%0A%20%20%20%20%0A%20%20%20%20%0A%20%20%20%20%20%20%20%20%20%20%20%20var%20circle_d09a8a8384c648399c1a329cbfafe579%20%3D%20L.circle%28%0A%20%20%20%20%20%20%20%20%20%20%20%20%20%20%20%20%5B51.492037%2C%200.087067%5D%2C%0A%20%20%20%20%20%20%20%20%20%20%20%20%20%20%20%20%7B%22bubblingMouseEvents%22%3A%20true%2C%20%22color%22%3A%20%22blue%22%2C%20%22dashArray%22%3A%20null%2C%20%22dashOffset%22%3A%20null%2C%20%22fill%22%3A%20true%2C%20%22fillColor%22%3A%20%22%233186cc%22%2C%20%22fillOpacity%22%3A%200.7%2C%20%22fillRule%22%3A%20%22evenodd%22%2C%20%22lineCap%22%3A%20%22round%22%2C%20%22lineJoin%22%3A%20%22round%22%2C%20%22opacity%22%3A%201.0%2C%20%22radius%22%3A%201000%2C%20%22stroke%22%3A%20true%2C%20%22weight%22%3A%203%7D%0A%20%20%20%20%20%20%20%20%20%20%20%20%29.addTo%28map_ea7b6278695a485f9e90a7db51f8c03f%29%3B%0A%20%20%20%20%20%20%20%20%0A%20%20%20%20%0A%20%20%20%20%20%20%20%20var%20popup_b40b788df21c4502bca1de6126036ca6%20%3D%20L.popup%28%7B%22maxWidth%22%3A%20%22100%25%22%7D%29%3B%0A%0A%20%20%20%20%20%20%20%20%0A%20%20%20%20%20%20%20%20%20%20%20%20var%20html_cf2a3458f29e4d0c9257e399987c72a9%20%3D%20%24%28%60%3Cdiv%20id%3D%22html_cf2a3458f29e4d0c9257e399987c72a9%22%20style%3D%22width%3A%20100.0%25%3B%20height%3A%20100.0%25%3B%22%3EGrove%20Place%20London%3C/div%3E%60%29%5B0%5D%3B%0A%20%20%20%20%20%20%20%20%20%20%20%20popup_b40b788df21c4502bca1de6126036ca6.setContent%28html_cf2a3458f29e4d0c9257e399987c72a9%29%3B%0A%20%20%20%20%20%20%20%20%0A%0A%20%20%20%20%20%20%20%20circle_d09a8a8384c648399c1a329cbfafe579.bindPopup%28popup_b40b788df21c4502bca1de6126036ca6%29%0A%20%20%20%20%20%20%20%20%3B%0A%0A%20%20%20%20%20%20%20%20%0A%20%20%20%20%0A%20%20%20%20%0A%20%20%20%20%20%20%20%20%20%20%20%20var%20circle_b52b76aa0a164f038bbb833dfce4c107%20%3D%20L.circle%28%0A%20%20%20%20%20%20%20%20%20%20%20%20%20%20%20%20%5B51.467676%2C%200.018169%5D%2C%0A%20%20%20%20%20%20%20%20%20%20%20%20%20%20%20%20%7B%22bubblingMouseEvents%22%3A%20true%2C%20%22color%22%3A%20%22blue%22%2C%20%22dashArray%22%3A%20null%2C%20%22dashOffset%22%3A%20null%2C%20%22fill%22%3A%20true%2C%20%22fillColor%22%3A%20%22%233186cc%22%2C%20%22fillOpacity%22%3A%200.7%2C%20%22fillRule%22%3A%20%22evenodd%22%2C%20%22lineCap%22%3A%20%22round%22%2C%20%22lineJoin%22%3A%20%22round%22%2C%20%22opacity%22%3A%201.0%2C%20%22radius%22%3A%201000%2C%20%22stroke%22%3A%20true%2C%20%22weight%22%3A%203%7D%0A%20%20%20%20%20%20%20%20%20%20%20%20%29.addTo%28map_ea7b6278695a485f9e90a7db51f8c03f%29%3B%0A%20%20%20%20%20%20%20%20%0A%20%20%20%20%0A%20%20%20%20%20%20%20%20var%20popup_1a95f6f91119456888316abad1fc09b9%20%3D%20L.popup%28%7B%22maxWidth%22%3A%20%22100%25%22%7D%29%3B%0A%0A%20%20%20%20%20%20%20%20%0A%20%20%20%20%20%20%20%20%20%20%20%20var%20html_1494561e3e9b461c8e13e6740e98c060%20%3D%20%24%28%60%3Cdiv%20id%3D%22html_1494561e3e9b461c8e13e6740e98c060%22%20style%3D%22width%3A%20100.0%25%3B%20height%3A%20100.0%25%3B%22%3EColeraine%20Road%20London%3C/div%3E%60%29%5B0%5D%3B%0A%20%20%20%20%20%20%20%20%20%20%20%20popup_1a95f6f91119456888316abad1fc09b9.setContent%28html_1494561e3e9b461c8e13e6740e98c060%29%3B%0A%20%20%20%20%20%20%20%20%0A%0A%20%20%20%20%20%20%20%20circle_b52b76aa0a164f038bbb833dfce4c107.bindPopup%28popup_1a95f6f91119456888316abad1fc09b9%29%0A%20%20%20%20%20%20%20%20%3B%0A%0A%20%20%20%20%20%20%20%20%0A%20%20%20%20%0A%20%20%20%20%0A%20%20%20%20%20%20%20%20%20%20%20%20var%20circle_654bf54a3d2f4212a01c38e0c6beb0db%20%3D%20L.circle%28%0A%20%20%20%20%20%20%20%20%20%20%20%20%20%20%20%20%5B51.53758%2C%200.040295%5D%2C%0A%20%20%20%20%20%20%20%20%20%20%20%20%20%20%20%20%7B%22bubblingMouseEvents%22%3A%20true%2C%20%22color%22%3A%20%22blue%22%2C%20%22dashArray%22%3A%20null%2C%20%22dashOffset%22%3A%20null%2C%20%22fill%22%3A%20true%2C%20%22fillColor%22%3A%20%22%233186cc%22%2C%20%22fillOpacity%22%3A%200.7%2C%20%22fillRule%22%3A%20%22evenodd%22%2C%20%22lineCap%22%3A%20%22round%22%2C%20%22lineJoin%22%3A%20%22round%22%2C%20%22opacity%22%3A%201.0%2C%20%22radius%22%3A%201000%2C%20%22stroke%22%3A%20true%2C%20%22weight%22%3A%203%7D%0A%20%20%20%20%20%20%20%20%20%20%20%20%29.addTo%28map_ea7b6278695a485f9e90a7db51f8c03f%29%3B%0A%20%20%20%20%20%20%20%20%0A%20%20%20%20%0A%20%20%20%20%20%20%20%20var%20popup_90119b3843b74a8bb0da4db80cac91f3%20%3D%20L.popup%28%7B%22maxWidth%22%3A%20%22100%25%22%7D%29%3B%0A%0A%20%20%20%20%20%20%20%20%0A%20%20%20%20%20%20%20%20%20%20%20%20var%20html_1c1d3e08241a43708e3ac42debb7f7a8%20%3D%20%24%28%60%3Cdiv%20id%3D%22html_1c1d3e08241a43708e3ac42debb7f7a8%22%20style%3D%22width%3A%20100.0%25%3B%20height%3A%20100.0%25%3B%22%3EHigh%20Street%20South%20London%3C/div%3E%60%29%5B0%5D%3B%0A%20%20%20%20%20%20%20%20%20%20%20%20popup_90119b3843b74a8bb0da4db80cac91f3.setContent%28html_1c1d3e08241a43708e3ac42debb7f7a8%29%3B%0A%20%20%20%20%20%20%20%20%0A%0A%20%20%20%20%20%20%20%20circle_654bf54a3d2f4212a01c38e0c6beb0db.bindPopup%28popup_90119b3843b74a8bb0da4db80cac91f3%29%0A%20%20%20%20%20%20%20%20%3B%0A%0A%20%20%20%20%20%20%20%20%0A%20%20%20%20%0A%20%20%20%20%0A%20%20%20%20%20%20%20%20%20%20%20%20var%20circle_ba1dec490b234f0f8a676c9f30d2800c%20%3D%20L.circle%28%0A%20%20%20%20%20%20%20%20%20%20%20%20%20%20%20%20%5B51.484461%2C%200.084733%5D%2C%0A%20%20%20%20%20%20%20%20%20%20%20%20%20%20%20%20%7B%22bubblingMouseEvents%22%3A%20true%2C%20%22color%22%3A%20%22blue%22%2C%20%22dashArray%22%3A%20null%2C%20%22dashOffset%22%3A%20null%2C%20%22fill%22%3A%20true%2C%20%22fillColor%22%3A%20%22%233186cc%22%2C%20%22fillOpacity%22%3A%200.7%2C%20%22fillRule%22%3A%20%22evenodd%22%2C%20%22lineCap%22%3A%20%22round%22%2C%20%22lineJoin%22%3A%20%22round%22%2C%20%22opacity%22%3A%201.0%2C%20%22radius%22%3A%201000%2C%20%22stroke%22%3A%20true%2C%20%22weight%22%3A%203%7D%0A%20%20%20%20%20%20%20%20%20%20%20%20%29.addTo%28map_ea7b6278695a485f9e90a7db51f8c03f%29%3B%0A%20%20%20%20%20%20%20%20%0A%20%20%20%20%0A%20%20%20%20%20%20%20%20var%20popup_594e8a99966049a193b3179aa909d1a9%20%3D%20L.popup%28%7B%22maxWidth%22%3A%20%22100%25%22%7D%29%3B%0A%0A%20%20%20%20%20%20%20%20%0A%20%20%20%20%20%20%20%20%20%20%20%20var%20html_f1ae1c3c019846f4926933a4af88b208%20%3D%20%24%28%60%3Cdiv%20id%3D%22html_f1ae1c3c019846f4926933a4af88b208%22%20style%3D%22width%3A%20100.0%25%3B%20height%3A%20100.0%25%3B%22%3ESouth%20Street%20Romford%3C/div%3E%60%29%5B0%5D%3B%0A%20%20%20%20%20%20%20%20%20%20%20%20popup_594e8a99966049a193b3179aa909d1a9.setContent%28html_f1ae1c3c019846f4926933a4af88b208%29%3B%0A%20%20%20%20%20%20%20%20%0A%0A%20%20%20%20%20%20%20%20circle_ba1dec490b234f0f8a676c9f30d2800c.bindPopup%28popup_594e8a99966049a193b3179aa909d1a9%29%0A%20%20%20%20%20%20%20%20%3B%0A%0A%20%20%20%20%20%20%20%20%0A%20%20%20%20%0A%20%20%20%20%0A%20%20%20%20%20%20%20%20%20%20%20%20var%20circle_3a6cecb6c8634169b5b9ebbb92227f19%20%3D%20L.circle%28%0A%20%20%20%20%20%20%20%20%20%20%20%20%20%20%20%20%5B51.5776%2C%200.178261%5D%2C%0A%20%20%20%20%20%20%20%20%20%20%20%20%20%20%20%20%7B%22bubblingMouseEvents%22%3A%20true%2C%20%22color%22%3A%20%22blue%22%2C%20%22dashArray%22%3A%20null%2C%20%22dashOffset%22%3A%20null%2C%20%22fill%22%3A%20true%2C%20%22fillColor%22%3A%20%22%233186cc%22%2C%20%22fillOpacity%22%3A%200.7%2C%20%22fillRule%22%3A%20%22evenodd%22%2C%20%22lineCap%22%3A%20%22round%22%2C%20%22lineJoin%22%3A%20%22round%22%2C%20%22opacity%22%3A%201.0%2C%20%22radius%22%3A%201000%2C%20%22stroke%22%3A%20true%2C%20%22weight%22%3A%203%7D%0A%20%20%20%20%20%20%20%20%20%20%20%20%29.addTo%28map_ea7b6278695a485f9e90a7db51f8c03f%29%3B%0A%20%20%20%20%20%20%20%20%0A%20%20%20%20%0A%20%20%20%20%20%20%20%20var%20popup_92d926991f864cb6bc371b5781f6d5bd%20%3D%20L.popup%28%7B%22maxWidth%22%3A%20%22100%25%22%7D%29%3B%0A%0A%20%20%20%20%20%20%20%20%0A%20%20%20%20%20%20%20%20%20%20%20%20var%20html_257318c10dd84cb59d77b5b89e564f5b%20%3D%20%24%28%60%3Cdiv%20id%3D%22html_257318c10dd84cb59d77b5b89e564f5b%22%20style%3D%22width%3A%20100.0%25%3B%20height%3A%20100.0%25%3B%22%3EElmley%20Street%20London%3C/div%3E%60%29%5B0%5D%3B%0A%20%20%20%20%20%20%20%20%20%20%20%20popup_92d926991f864cb6bc371b5781f6d5bd.setContent%28html_257318c10dd84cb59d77b5b89e564f5b%29%3B%0A%20%20%20%20%20%20%20%20%0A%0A%20%20%20%20%20%20%20%20circle_3a6cecb6c8634169b5b9ebbb92227f19.bindPopup%28popup_92d926991f864cb6bc371b5781f6d5bd%29%0A%20%20%20%20%20%20%20%20%3B%0A%0A%20%20%20%20%20%20%20%20%0A%20%20%20%20%0A%20%20%20%20%0A%20%20%20%20%20%20%20%20%20%20%20%20var%20circle_517a39183640444fad071c04810c26ea%20%3D%20L.circle%28%0A%20%20%20%20%20%20%20%20%20%20%20%20%20%20%20%20%5B51.585503%2C%20-0.018014%5D%2C%0A%20%20%20%20%20%20%20%20%20%20%20%20%20%20%20%20%7B%22bubblingMouseEvents%22%3A%20true%2C%20%22color%22%3A%20%22blue%22%2C%20%22dashArray%22%3A%20null%2C%20%22dashOffset%22%3A%20null%2C%20%22fill%22%3A%20true%2C%20%22fillColor%22%3A%20%22%233186cc%22%2C%20%22fillOpacity%22%3A%200.7%2C%20%22fillRule%22%3A%20%22evenodd%22%2C%20%22lineCap%22%3A%20%22round%22%2C%20%22lineJoin%22%3A%20%22round%22%2C%20%22opacity%22%3A%201.0%2C%20%22radius%22%3A%201000%2C%20%22stroke%22%3A%20true%2C%20%22weight%22%3A%203%7D%0A%20%20%20%20%20%20%20%20%20%20%20%20%29.addTo%28map_ea7b6278695a485f9e90a7db51f8c03f%29%3B%0A%20%20%20%20%20%20%20%20%0A%20%20%20%20%0A%20%20%20%20%20%20%20%20var%20popup_ced84304b54a4961b851291957072b38%20%3D%20L.popup%28%7B%22maxWidth%22%3A%20%22100%25%22%7D%29%3B%0A%0A%20%20%20%20%20%20%20%20%0A%20%20%20%20%20%20%20%20%20%20%20%20var%20html_e4638698747f4bbf972ed4c5f930b6b3%20%3D%20%24%28%60%3Cdiv%20id%3D%22html_e4638698747f4bbf972ed4c5f930b6b3%22%20style%3D%22width%3A%20100.0%25%3B%20height%3A%20100.0%25%3B%22%3EHoe%20Street%20London%3C/div%3E%60%29%5B0%5D%3B%0A%20%20%20%20%20%20%20%20%20%20%20%20popup_ced84304b54a4961b851291957072b38.setContent%28html_e4638698747f4bbf972ed4c5f930b6b3%29%3B%0A%20%20%20%20%20%20%20%20%0A%0A%20%20%20%20%20%20%20%20circle_517a39183640444fad071c04810c26ea.bindPopup%28popup_ced84304b54a4961b851291957072b38%29%0A%20%20%20%20%20%20%20%20%3B%0A%0A%20%20%20%20%20%20%20%20%0A%20%20%20%20%0A%20%20%20%20%0A%20%20%20%20%20%20%20%20%20%20%20%20var%20circle_1c2dde92b3054210b6940afca6edb70a%20%3D%20L.circle%28%0A%20%20%20%20%20%20%20%20%20%20%20%20%20%20%20%20%5B51.577913%2C%200.190919%5D%2C%0A%20%20%20%20%20%20%20%20%20%20%20%20%20%20%20%20%7B%22bubblingMouseEvents%22%3A%20true%2C%20%22color%22%3A%20%22blue%22%2C%20%22dashArray%22%3A%20null%2C%20%22dashOffset%22%3A%20null%2C%20%22fill%22%3A%20true%2C%20%22fillColor%22%3A%20%22%233186cc%22%2C%20%22fillOpacity%22%3A%200.7%2C%20%22fillRule%22%3A%20%22evenodd%22%2C%20%22lineCap%22%3A%20%22round%22%2C%20%22lineJoin%22%3A%20%22round%22%2C%20%22opacity%22%3A%201.0%2C%20%22radius%22%3A%201000%2C%20%22stroke%22%3A%20true%2C%20%22weight%22%3A%203%7D%0A%20%20%20%20%20%20%20%20%20%20%20%20%29.addTo%28map_ea7b6278695a485f9e90a7db51f8c03f%29%3B%0A%20%20%20%20%20%20%20%20%0A%20%20%20%20%0A%20%20%20%20%20%20%20%20var%20popup_7eecf095e1d14ca8bb74f5bb5b1c8af8%20%3D%20L.popup%28%7B%22maxWidth%22%3A%20%22100%25%22%7D%29%3B%0A%0A%20%20%20%20%20%20%20%20%0A%20%20%20%20%20%20%20%20%20%20%20%20var%20html_dc9a6b010a7e4ab0870704c469cf8ceb%20%3D%20%24%28%60%3Cdiv%20id%3D%22html_dc9a6b010a7e4ab0870704c469cf8ceb%22%20style%3D%22width%3A%20100.0%25%3B%20height%3A%20100.0%25%3B%22%3EKidman%20Close%20Romford%3C/div%3E%60%29%5B0%5D%3B%0A%20%20%20%20%20%20%20%20%20%20%20%20popup_7eecf095e1d14ca8bb74f5bb5b1c8af8.setContent%28html_dc9a6b010a7e4ab0870704c469cf8ceb%29%3B%0A%20%20%20%20%20%20%20%20%0A%0A%20%20%20%20%20%20%20%20circle_1c2dde92b3054210b6940afca6edb70a.bindPopup%28popup_7eecf095e1d14ca8bb74f5bb5b1c8af8%29%0A%20%20%20%20%20%20%20%20%3B%0A%0A%20%20%20%20%20%20%20%20%0A%20%20%20%20%0A%3C/script%3E onload=\"this.contentDocument.open();this.contentDocument.write(    decodeURIComponent(this.getAttribute('data-html')));this.contentDocument.close();\" allowfullscreen webkitallowfullscreen mozallowfullscreen></iframe></div></div>"
     },
     "metadata": {},
     "execution_count": 25
    }
   ],
   "source": [
    "map_ld=folium.Map(location=[latitude,longitude],zoom_start=10)\n",
    "\n",
    "for lat,lng,city,neighborhood in zip(ld_data[\"Latitude\"],ld_data[\"Longitude\"],ld_data[\"City\"],ld_data[\"Neighborhood\"]):\n",
    "    label='{}{}'.format(neighborhood,city)\n",
    "    label=folium.Popup(label,parse_html=True)\n",
    "    folium.Circle([lat,lng],radius=1000,color='blue',popup=label,fill=True,fill_color='#3186cc',fill_opacity=0.7,parse_html=False).add_to(map_ld)\n",
    "map_ld"
   ]
  },
  {
   "source": [
    "\n",
    "## Let us begin the exploration of our neighborhoods"
   ],
   "cell_type": "markdown",
   "metadata": {}
  },
  {
   "source": [
    "# FOURSQUARE API\n",
    "* All data regarding venues in our neighborhood can be collected from the Foursquare API\n",
    "* We begin by initialisisng our credentials"
   ],
   "cell_type": "markdown",
   "metadata": {}
  },
  {
   "cell_type": "code",
   "execution_count": 26,
   "metadata": {},
   "outputs": [],
   "source": [
    "CLIENT_ID = 'G5XELWRC2EMZHYGGKF20VTKEWZE3GSGFBAQZNG4NUYHKVHQT' # your Foursquare ID\n",
    "CLIENT_SECRET = 'GKBXNMTGJTWF04VMQVCNDYG5WR4UCRFTQTA2VXFLKF1JIQAX' # your Foursquare Secret\n",
    "ACCESS_TOKEN = 'BOLQGFEKLU1E0CTOOSVPC5SSUTRQSWPXZHYSYMNB4V33DE5C' # your FourSquare Access Token\n",
    "VERSION = '20180604'\n",
    "LIMIT = 100"
   ]
  },
  {
   "cell_type": "code",
   "execution_count": 27,
   "metadata": {},
   "outputs": [
    {
     "output_type": "execute_result",
     "data": {
      "text/plain": [
       "Postal Code               DA14\n",
       "City                    Sidcup\n",
       "Neighborhood    Frognal Avenue\n",
       "Price               £3,593 pcm\n",
       "Raw_Price                 3593\n",
       "Latitude               51.4265\n",
       "Longitude             0.105038\n",
       "Name: 0, dtype: object"
      ]
     },
     "metadata": {},
     "execution_count": 27
    }
   ],
   "source": [
    "ld_data.loc[0,:]"
   ]
  },
  {
   "cell_type": "code",
   "execution_count": 28,
   "metadata": {},
   "outputs": [
    {
     "output_type": "stream",
     "name": "stdout",
     "text": [
      "Latitude and longitude values of Frognal Avenue are 51.426481, 0.105038.\n"
     ]
    }
   ],
   "source": [
    "neighborhood_longitude=ld_data.loc[0,'Longitude']\n",
    "neighborhood_latitude=ld_data.loc[0,'Latitude']\n",
    "neighborhood_name=ld_data.loc[0,'Neighborhood']\n",
    "print('Latitude and longitude values of {} are {}, {}.'.format(neighborhood_name, \n",
    "                                                               neighborhood_latitude, \n",
    "                                                               neighborhood_longitude))"
   ]
  },
  {
   "source": [
    "* We call the FourSquare API by intialising the URL with our credentials and required neighborhood location"
   ],
   "cell_type": "markdown",
   "metadata": {}
  },
  {
   "cell_type": "code",
   "execution_count": 29,
   "metadata": {},
   "outputs": [
    {
     "output_type": "execute_result",
     "data": {
      "text/plain": [
       "'https://api.foursquare.com/v2/venues/explore?&client_id=G5XELWRC2EMZHYGGKF20VTKEWZE3GSGFBAQZNG4NUYHKVHQT&client_secret=GKBXNMTGJTWF04VMQVCNDYG5WR4UCRFTQTA2VXFLKF1JIQAX&v=20180604&ll=51.426481,0.105038&r=500&limit=100'"
      ]
     },
     "metadata": {},
     "execution_count": 29
    }
   ],
   "source": [
    "limit=100\n",
    "radius=500\n",
    "url='https://api.foursquare.com/v2/venues/explore?&client_id={}&client_secret={}&v={}&ll={},{}&r={}&limit={}'.format(\n",
    "    CLIENT_ID, \n",
    "    CLIENT_SECRET, \n",
    "    VERSION, \n",
    "    neighborhood_latitude, \n",
    "    neighborhood_longitude, \n",
    "    radius, \n",
    "    LIMIT)\n",
    "url"
   ]
  },
  {
   "source": [
    "* The URL data can be accessed using requests package.\n",
    "* The data, which is in json format will be converted to a DataFrame"
   ],
   "cell_type": "markdown",
   "metadata": {}
  },
  {
   "cell_type": "code",
   "execution_count": 30,
   "metadata": {},
   "outputs": [],
   "source": [
    "venues=requests.get(url).json()['response']['groups'][0]['items']"
   ]
  },
  {
   "cell_type": "code",
   "execution_count": 31,
   "metadata": {},
   "outputs": [],
   "source": [
    "import json\n",
    "from pandas import json_normalize # tranform JSON file into a pandas dataframe\n",
    "nearby_venues=json_normalize(venues).head()"
   ]
  },
  {
   "cell_type": "code",
   "execution_count": 32,
   "metadata": {},
   "outputs": [
    {
     "output_type": "execute_result",
     "data": {
      "text/plain": [
       "                       referralId  reasons.count  \\\n",
       "0  e-0-4c77cba1923ba143c31668e6-0              0   \n",
       "1  e-0-572e2bbe498efaf0028dd0d4-1              0   \n",
       "2  e-0-4fe5e2cde4b010f80e3b9c02-2              0   \n",
       "3  e-0-522763b911d2b7710f27f9ad-3              0   \n",
       "4  e-0-4bd43007462cb71349d2df07-4              0   \n",
       "\n",
       "                                       reasons.items  \\\n",
       "0  [{'summary': 'This spot is popular', 'type': '...   \n",
       "1  [{'summary': 'This spot is popular', 'type': '...   \n",
       "2  [{'summary': 'This spot is popular', 'type': '...   \n",
       "3  [{'summary': 'This spot is popular', 'type': '...   \n",
       "4  [{'summary': 'This spot is popular', 'type': '...   \n",
       "\n",
       "                   venue.id                    venue.name  \\\n",
       "0  4c77cba1923ba143c31668e6                    Caffè Nero   \n",
       "1  572e2bbe498efaf0028dd0d4                  Hello Burger   \n",
       "2  4fe5e2cde4b010f80e3b9c02                       Walnuts   \n",
       "3  522763b911d2b7710f27f9ad    Little Waitrose & Partners   \n",
       "4  4bd43007462cb71349d2df07  Scadbury Park Nature Reserve   \n",
       "\n",
       "  venue.location.address  venue.location.lat  venue.location.lng  \\\n",
       "0             89 High St           51.426425            0.101383   \n",
       "1          94 Station Rd           51.431988            0.102496   \n",
       "2                Main Rd           51.426534            0.099790   \n",
       "3        1-3 High Street           51.425139            0.105604   \n",
       "4           Old Perry St           51.414371            0.087568   \n",
       "\n",
       "                       venue.location.labeledLatLngs  venue.location.distance  \\\n",
       "0  [{'label': 'display', 'lat': 51.4264249272159,...                      253   \n",
       "1  [{'label': 'display', 'lat': 51.431988, 'lng':...                      637   \n",
       "2  [{'label': 'display', 'lat': 51.42653400193202...                      364   \n",
       "3  [{'label': 'display', 'lat': 51.42513884112205...                      154   \n",
       "4  [{'label': 'display', 'lat': 51.41437115383853...                     1813   \n",
       "\n",
       "  venue.location.postalCode venue.location.cc venue.location.city  \\\n",
       "0                  DA14 6DJ                GB              Sidcup   \n",
       "1                       NaN                GB              Sidcup   \n",
       "2                  DA14 6ND                GB              Sidcup   \n",
       "3                  DA14 6EN                GB              Sidcup   \n",
       "4                   BR7 6LS                GB         Chislehurst   \n",
       "\n",
       "  venue.location.state venue.location.country  \\\n",
       "0       Greater London         United Kingdom   \n",
       "1       Greater London         United Kingdom   \n",
       "2       Greater London         United Kingdom   \n",
       "3       Greater London         United Kingdom   \n",
       "4       Greater London         United Kingdom   \n",
       "\n",
       "                     venue.location.formattedAddress  \\\n",
       "0  [89 High St, Sidcup, Greater London, DA14 6DJ,...   \n",
       "1  [94 Station Rd, Sidcup, Greater London, United...   \n",
       "2  [Main Rd, Sidcup, Greater London, DA14 6ND, Un...   \n",
       "3  [1-3 High Street, Sidcup, Greater London, DA14...   \n",
       "4  [Old Perry St, Chislehurst, Greater London, BR...   \n",
       "\n",
       "                                    venue.categories  venue.photos.count  \\\n",
       "0  [{'id': '4bf58dd8d48988d1e0931735', 'name': 'C...                   0   \n",
       "1  [{'id': '4bf58dd8d48988d16c941735', 'name': 'B...                   0   \n",
       "2  [{'id': '4bf58dd8d48988d16d941735', 'name': 'C...                   0   \n",
       "3  [{'id': '4bf58dd8d48988d118951735', 'name': 'G...                   0   \n",
       "4  [{'id': '52e81612bcbc57f1066b7a13', 'name': 'N...                   0   \n",
       "\n",
       "  venue.photos.groups venue.venuePage.id venue.location.neighborhood  \\\n",
       "0                  []                NaN                         NaN   \n",
       "1                  []          483501337                         NaN   \n",
       "2                  []                NaN                         NaN   \n",
       "3                  []                NaN                         NaN   \n",
       "4                  []                NaN                         NaN   \n",
       "\n",
       "  venue.location.crossStreet  venue.events.count venue.events.summary  \n",
       "0                        NaN                 NaN                  NaN  \n",
       "1                        NaN                 NaN                  NaN  \n",
       "2                        NaN                 NaN                  NaN  \n",
       "3                        NaN                 NaN                  NaN  \n",
       "4                        NaN                 NaN                  NaN  "
      ],
      "text/html": "<div>\n<style scoped>\n    .dataframe tbody tr th:only-of-type {\n        vertical-align: middle;\n    }\n\n    .dataframe tbody tr th {\n        vertical-align: top;\n    }\n\n    .dataframe thead th {\n        text-align: right;\n    }\n</style>\n<table border=\"1\" class=\"dataframe\">\n  <thead>\n    <tr style=\"text-align: right;\">\n      <th></th>\n      <th>referralId</th>\n      <th>reasons.count</th>\n      <th>reasons.items</th>\n      <th>venue.id</th>\n      <th>venue.name</th>\n      <th>venue.location.address</th>\n      <th>venue.location.lat</th>\n      <th>venue.location.lng</th>\n      <th>venue.location.labeledLatLngs</th>\n      <th>venue.location.distance</th>\n      <th>venue.location.postalCode</th>\n      <th>venue.location.cc</th>\n      <th>venue.location.city</th>\n      <th>venue.location.state</th>\n      <th>venue.location.country</th>\n      <th>venue.location.formattedAddress</th>\n      <th>venue.categories</th>\n      <th>venue.photos.count</th>\n      <th>venue.photos.groups</th>\n      <th>venue.venuePage.id</th>\n      <th>venue.location.neighborhood</th>\n      <th>venue.location.crossStreet</th>\n      <th>venue.events.count</th>\n      <th>venue.events.summary</th>\n    </tr>\n  </thead>\n  <tbody>\n    <tr>\n      <th>0</th>\n      <td>e-0-4c77cba1923ba143c31668e6-0</td>\n      <td>0</td>\n      <td>[{'summary': 'This spot is popular', 'type': '...</td>\n      <td>4c77cba1923ba143c31668e6</td>\n      <td>Caffè Nero</td>\n      <td>89 High St</td>\n      <td>51.426425</td>\n      <td>0.101383</td>\n      <td>[{'label': 'display', 'lat': 51.4264249272159,...</td>\n      <td>253</td>\n      <td>DA14 6DJ</td>\n      <td>GB</td>\n      <td>Sidcup</td>\n      <td>Greater London</td>\n      <td>United Kingdom</td>\n      <td>[89 High St, Sidcup, Greater London, DA14 6DJ,...</td>\n      <td>[{'id': '4bf58dd8d48988d1e0931735', 'name': 'C...</td>\n      <td>0</td>\n      <td>[]</td>\n      <td>NaN</td>\n      <td>NaN</td>\n      <td>NaN</td>\n      <td>NaN</td>\n      <td>NaN</td>\n    </tr>\n    <tr>\n      <th>1</th>\n      <td>e-0-572e2bbe498efaf0028dd0d4-1</td>\n      <td>0</td>\n      <td>[{'summary': 'This spot is popular', 'type': '...</td>\n      <td>572e2bbe498efaf0028dd0d4</td>\n      <td>Hello Burger</td>\n      <td>94 Station Rd</td>\n      <td>51.431988</td>\n      <td>0.102496</td>\n      <td>[{'label': 'display', 'lat': 51.431988, 'lng':...</td>\n      <td>637</td>\n      <td>NaN</td>\n      <td>GB</td>\n      <td>Sidcup</td>\n      <td>Greater London</td>\n      <td>United Kingdom</td>\n      <td>[94 Station Rd, Sidcup, Greater London, United...</td>\n      <td>[{'id': '4bf58dd8d48988d16c941735', 'name': 'B...</td>\n      <td>0</td>\n      <td>[]</td>\n      <td>483501337</td>\n      <td>NaN</td>\n      <td>NaN</td>\n      <td>NaN</td>\n      <td>NaN</td>\n    </tr>\n    <tr>\n      <th>2</th>\n      <td>e-0-4fe5e2cde4b010f80e3b9c02-2</td>\n      <td>0</td>\n      <td>[{'summary': 'This spot is popular', 'type': '...</td>\n      <td>4fe5e2cde4b010f80e3b9c02</td>\n      <td>Walnuts</td>\n      <td>Main Rd</td>\n      <td>51.426534</td>\n      <td>0.099790</td>\n      <td>[{'label': 'display', 'lat': 51.42653400193202...</td>\n      <td>364</td>\n      <td>DA14 6ND</td>\n      <td>GB</td>\n      <td>Sidcup</td>\n      <td>Greater London</td>\n      <td>United Kingdom</td>\n      <td>[Main Rd, Sidcup, Greater London, DA14 6ND, Un...</td>\n      <td>[{'id': '4bf58dd8d48988d16d941735', 'name': 'C...</td>\n      <td>0</td>\n      <td>[]</td>\n      <td>NaN</td>\n      <td>NaN</td>\n      <td>NaN</td>\n      <td>NaN</td>\n      <td>NaN</td>\n    </tr>\n    <tr>\n      <th>3</th>\n      <td>e-0-522763b911d2b7710f27f9ad-3</td>\n      <td>0</td>\n      <td>[{'summary': 'This spot is popular', 'type': '...</td>\n      <td>522763b911d2b7710f27f9ad</td>\n      <td>Little Waitrose &amp; Partners</td>\n      <td>1-3 High Street</td>\n      <td>51.425139</td>\n      <td>0.105604</td>\n      <td>[{'label': 'display', 'lat': 51.42513884112205...</td>\n      <td>154</td>\n      <td>DA14 6EN</td>\n      <td>GB</td>\n      <td>Sidcup</td>\n      <td>Greater London</td>\n      <td>United Kingdom</td>\n      <td>[1-3 High Street, Sidcup, Greater London, DA14...</td>\n      <td>[{'id': '4bf58dd8d48988d118951735', 'name': 'G...</td>\n      <td>0</td>\n      <td>[]</td>\n      <td>NaN</td>\n      <td>NaN</td>\n      <td>NaN</td>\n      <td>NaN</td>\n      <td>NaN</td>\n    </tr>\n    <tr>\n      <th>4</th>\n      <td>e-0-4bd43007462cb71349d2df07-4</td>\n      <td>0</td>\n      <td>[{'summary': 'This spot is popular', 'type': '...</td>\n      <td>4bd43007462cb71349d2df07</td>\n      <td>Scadbury Park Nature Reserve</td>\n      <td>Old Perry St</td>\n      <td>51.414371</td>\n      <td>0.087568</td>\n      <td>[{'label': 'display', 'lat': 51.41437115383853...</td>\n      <td>1813</td>\n      <td>BR7 6LS</td>\n      <td>GB</td>\n      <td>Chislehurst</td>\n      <td>Greater London</td>\n      <td>United Kingdom</td>\n      <td>[Old Perry St, Chislehurst, Greater London, BR...</td>\n      <td>[{'id': '52e81612bcbc57f1066b7a13', 'name': 'N...</td>\n      <td>0</td>\n      <td>[]</td>\n      <td>NaN</td>\n      <td>NaN</td>\n      <td>NaN</td>\n      <td>NaN</td>\n      <td>NaN</td>\n    </tr>\n  </tbody>\n</table>\n</div>"
     },
     "metadata": {},
     "execution_count": 32
    }
   ],
   "source": [
    "nearby_venues"
   ]
  },
  {
   "source": [
    "* Formatting the DataFrame containing venue data and filtering out unnecessary information"
   ],
   "cell_type": "markdown",
   "metadata": {}
  },
  {
   "cell_type": "code",
   "execution_count": 33,
   "metadata": {},
   "outputs": [],
   "source": [
    "filtered_columns=['venue.name','venue.categories','venue.location.lat','venue.location.lng']"
   ]
  },
  {
   "cell_type": "code",
   "execution_count": 34,
   "metadata": {},
   "outputs": [],
   "source": [
    "nearby_venues =nearby_venues.loc[:, filtered_columns]"
   ]
  },
  {
   "cell_type": "code",
   "execution_count": 35,
   "metadata": {},
   "outputs": [],
   "source": [
    "nearby_venues['venue.categories']=nearby_venues['venue.categories'].apply(lambda x:x[0]['name'])"
   ]
  },
  {
   "cell_type": "code",
   "execution_count": 36,
   "metadata": {},
   "outputs": [
    {
     "output_type": "execute_result",
     "data": {
      "text/plain": [
       "                     venue.name venue.categories  venue.location.lat  \\\n",
       "0                    Caffè Nero      Coffee Shop           51.426425   \n",
       "1                  Hello Burger     Burger Joint           51.431988   \n",
       "2                       Walnuts             Café           51.426534   \n",
       "3    Little Waitrose & Partners    Grocery Store           51.425139   \n",
       "4  Scadbury Park Nature Reserve  Nature Preserve           51.414371   \n",
       "\n",
       "   venue.location.lng  \n",
       "0            0.101383  \n",
       "1            0.102496  \n",
       "2            0.099790  \n",
       "3            0.105604  \n",
       "4            0.087568  "
      ],
      "text/html": "<div>\n<style scoped>\n    .dataframe tbody tr th:only-of-type {\n        vertical-align: middle;\n    }\n\n    .dataframe tbody tr th {\n        vertical-align: top;\n    }\n\n    .dataframe thead th {\n        text-align: right;\n    }\n</style>\n<table border=\"1\" class=\"dataframe\">\n  <thead>\n    <tr style=\"text-align: right;\">\n      <th></th>\n      <th>venue.name</th>\n      <th>venue.categories</th>\n      <th>venue.location.lat</th>\n      <th>venue.location.lng</th>\n    </tr>\n  </thead>\n  <tbody>\n    <tr>\n      <th>0</th>\n      <td>Caffè Nero</td>\n      <td>Coffee Shop</td>\n      <td>51.426425</td>\n      <td>0.101383</td>\n    </tr>\n    <tr>\n      <th>1</th>\n      <td>Hello Burger</td>\n      <td>Burger Joint</td>\n      <td>51.431988</td>\n      <td>0.102496</td>\n    </tr>\n    <tr>\n      <th>2</th>\n      <td>Walnuts</td>\n      <td>Café</td>\n      <td>51.426534</td>\n      <td>0.099790</td>\n    </tr>\n    <tr>\n      <th>3</th>\n      <td>Little Waitrose &amp; Partners</td>\n      <td>Grocery Store</td>\n      <td>51.425139</td>\n      <td>0.105604</td>\n    </tr>\n    <tr>\n      <th>4</th>\n      <td>Scadbury Park Nature Reserve</td>\n      <td>Nature Preserve</td>\n      <td>51.414371</td>\n      <td>0.087568</td>\n    </tr>\n  </tbody>\n</table>\n</div>"
     },
     "metadata": {},
     "execution_count": 36
    }
   ],
   "source": [
    "nearby_venues.head()"
   ]
  },
  {
   "cell_type": "code",
   "execution_count": 37,
   "metadata": {},
   "outputs": [],
   "source": [
    "nearby_venues.columns=[col.split('.')[-1] for col in nearby_venues.columns]"
   ]
  },
  {
   "source": [
    "* Let's check how many venues where provided by the FourSquare API"
   ],
   "cell_type": "markdown",
   "metadata": {}
  },
  {
   "cell_type": "code",
   "execution_count": 38,
   "metadata": {},
   "outputs": [
    {
     "output_type": "stream",
     "name": "stdout",
     "text": [
      "5 venues were returned by Foursquare.\n"
     ]
    }
   ],
   "source": [
    "print('{} venues were returned by Foursquare.'.format(nearby_venues.shape[0]))"
   ]
  },
  {
   "source": [
    "### getNearbyVenues()\n",
    "* Now we define a function which will give us venues for each neighborhood name and location we provide"
   ],
   "cell_type": "markdown",
   "metadata": {}
  },
  {
   "cell_type": "code",
   "execution_count": 39,
   "metadata": {},
   "outputs": [],
   "source": [
    "def getNearbyVenues(names, latitudes, longitudes, radius=500):\n",
    "    \n",
    "    venues_list=[]\n",
    "    for name, lat, lng in zip(names, latitudes, longitudes):\n",
    "        print(name)\n",
    "            \n",
    "        # create the API request URL\n",
    "        url = 'https://api.foursquare.com/v2/venues/explore?&client_id={}&client_secret={}&v={}&ll={},{}&radius={}&limit={}'.format(\n",
    "            CLIENT_ID, \n",
    "            CLIENT_SECRET, \n",
    "            VERSION, \n",
    "            lat, \n",
    "            lng, \n",
    "            radius, \n",
    "            LIMIT)\n",
    "            \n",
    "        # make the GET request\n",
    "        results = requests.get(url).json()[\"response\"]['groups'][0]['items']\n",
    "        \n",
    "        # return only relevant information for each nearby venue\n",
    "        venues_list.append([(\n",
    "            name, \n",
    "            lat, \n",
    "            lng, \n",
    "            v['venue']['name'], \n",
    "            v['venue']['location']['lat'], \n",
    "            v['venue']['location']['lng'],  \n",
    "            v['venue']['categories'][0]['name']) for v in results])\n",
    "\n",
    "    nearby_venues = pd.DataFrame([item for venue_list in venues_list for item in venue_list])\n",
    "    nearby_venues.columns = ['Neighborhood', \n",
    "                  'Neighborhood Latitude', \n",
    "                  'Neighborhood Longitude', \n",
    "                  'Venue', \n",
    "                  'Venue Latitude', \n",
    "                  'Venue Longitude', \n",
    "                  'Venue Category']\n",
    "    \n",
    "    return(nearby_venues)"
   ]
  },
  {
   "source": [
    "* Feed neighborhood data to the function to get venues"
   ],
   "cell_type": "markdown",
   "metadata": {}
  },
  {
   "cell_type": "code",
   "execution_count": 40,
   "metadata": {},
   "outputs": [
    {
     "output_type": "stream",
     "name": "stdout",
     "text": [
      "Frognal Avenue\n",
      "Cutter Lane Chandlers Avenue\n",
      "Lettsom Street\n",
      "Plaistow Lane\n",
      "Childeric Road\n",
      "New Wanstead\n",
      "Sherfield Gardens\n",
      "Adelaide Avenue\n",
      "Disraeli Road\n",
      "East Street\n",
      "Jamaica Road\n",
      "Sydenham Road\n",
      "Sandford Road\n",
      "Kingswood Estate\n",
      "Shurland Gardens Willowbrook Estate\n",
      "Anson Place\n",
      "Grove Place\n",
      "Coleraine Road\n",
      "High Street South\n",
      "South Street\n",
      "Elmley Street\n",
      "Hoe Street\n",
      "Kidman Close\n"
     ]
    }
   ],
   "source": [
    "ld_venues = getNearbyVenues(names=ld_data['Neighborhood'],\n",
    "                                   latitudes=ld_data['Latitude'],\n",
    "                                   longitudes=ld_data['Longitude'])"
   ]
  },
  {
   "source": [
    "* Complete list of venues in each neighborhood"
   ],
   "cell_type": "markdown",
   "metadata": {}
  },
  {
   "cell_type": "code",
   "execution_count": 41,
   "metadata": {},
   "outputs": [
    {
     "output_type": "execute_result",
     "data": {
      "text/plain": [
       "     Neighborhood  Neighborhood Latitude  Neighborhood Longitude  \\\n",
       "0  Frognal Avenue              51.426481                0.105038   \n",
       "1  Frognal Avenue              51.426481                0.105038   \n",
       "2  Frognal Avenue              51.426481                0.105038   \n",
       "3  Frognal Avenue              51.426481                0.105038   \n",
       "4  Frognal Avenue              51.426481                0.105038   \n",
       "\n",
       "                        Venue  Venue Latitude  Venue Longitude Venue Category  \n",
       "0  Little Waitrose & Partners       51.425139         0.105604  Grocery Store  \n",
       "1                  Caffè Nero       51.426425         0.101383    Coffee Shop  \n",
       "2                     Walnuts       51.426534         0.099790           Café  \n",
       "3                PizzaExpress       51.426307         0.100260    Pizza Place  \n",
       "4                      Greggs       51.426142         0.103214         Bakery  "
      ],
      "text/html": "<div>\n<style scoped>\n    .dataframe tbody tr th:only-of-type {\n        vertical-align: middle;\n    }\n\n    .dataframe tbody tr th {\n        vertical-align: top;\n    }\n\n    .dataframe thead th {\n        text-align: right;\n    }\n</style>\n<table border=\"1\" class=\"dataframe\">\n  <thead>\n    <tr style=\"text-align: right;\">\n      <th></th>\n      <th>Neighborhood</th>\n      <th>Neighborhood Latitude</th>\n      <th>Neighborhood Longitude</th>\n      <th>Venue</th>\n      <th>Venue Latitude</th>\n      <th>Venue Longitude</th>\n      <th>Venue Category</th>\n    </tr>\n  </thead>\n  <tbody>\n    <tr>\n      <th>0</th>\n      <td>Frognal Avenue</td>\n      <td>51.426481</td>\n      <td>0.105038</td>\n      <td>Little Waitrose &amp; Partners</td>\n      <td>51.425139</td>\n      <td>0.105604</td>\n      <td>Grocery Store</td>\n    </tr>\n    <tr>\n      <th>1</th>\n      <td>Frognal Avenue</td>\n      <td>51.426481</td>\n      <td>0.105038</td>\n      <td>Caffè Nero</td>\n      <td>51.426425</td>\n      <td>0.101383</td>\n      <td>Coffee Shop</td>\n    </tr>\n    <tr>\n      <th>2</th>\n      <td>Frognal Avenue</td>\n      <td>51.426481</td>\n      <td>0.105038</td>\n      <td>Walnuts</td>\n      <td>51.426534</td>\n      <td>0.099790</td>\n      <td>Café</td>\n    </tr>\n    <tr>\n      <th>3</th>\n      <td>Frognal Avenue</td>\n      <td>51.426481</td>\n      <td>0.105038</td>\n      <td>PizzaExpress</td>\n      <td>51.426307</td>\n      <td>0.100260</td>\n      <td>Pizza Place</td>\n    </tr>\n    <tr>\n      <th>4</th>\n      <td>Frognal Avenue</td>\n      <td>51.426481</td>\n      <td>0.105038</td>\n      <td>Greggs</td>\n      <td>51.426142</td>\n      <td>0.103214</td>\n      <td>Bakery</td>\n    </tr>\n  </tbody>\n</table>\n</div>"
     },
     "metadata": {},
     "execution_count": 41
    }
   ],
   "source": [
    "ld_venues.head()"
   ]
  },
  {
   "source": [
    "* Let's check how many venues each neighborhood has"
   ],
   "cell_type": "markdown",
   "metadata": {}
  },
  {
   "cell_type": "code",
   "execution_count": 42,
   "metadata": {},
   "outputs": [],
   "source": [
    "venue_counts=ld_venues.groupby('Neighborhood')['Venue Category'].count()"
   ]
  },
  {
   "cell_type": "code",
   "execution_count": 43,
   "metadata": {},
   "outputs": [
    {
     "output_type": "stream",
     "name": "stdout",
     "text": [
      "There are 117 uniques categories.\n"
     ]
    }
   ],
   "source": [
    "print('There are {} uniques categories.'.format(len(ld_venues['Venue Category'].unique())))\n"
   ]
  },
  {
   "source": [
    "# One-Hot Encoding\n",
    "*Before we can apply K-Means, it is necessay for us to encode our categorical data using the One-Hot Encoding technique"
   ],
   "cell_type": "markdown",
   "metadata": {}
  },
  {
   "cell_type": "code",
   "execution_count": 44,
   "metadata": {},
   "outputs": [],
   "source": [
    "ld_onehot=pd.get_dummies(ld_venues['Venue Category'])"
   ]
  },
  {
   "cell_type": "code",
   "execution_count": 45,
   "metadata": {},
   "outputs": [],
   "source": [
    "ld_onehot['Neighborhood'] = ld_venues['Neighborhood'] "
   ]
  },
  {
   "source": [
    "* Moving newly added Neighborhood column to the beginning of the DataFrame"
   ],
   "cell_type": "markdown",
   "metadata": {}
  },
  {
   "cell_type": "code",
   "execution_count": 46,
   "metadata": {},
   "outputs": [],
   "source": [
    "fixed_columns = [ld_onehot.columns[-1]] + list(ld_onehot.columns[0:-1])\n",
    "ld_onehot = ld_onehot[fixed_columns]"
   ]
  },
  {
   "cell_type": "code",
   "execution_count": 47,
   "metadata": {},
   "outputs": [
    {
     "output_type": "execute_result",
     "data": {
      "text/plain": [
       "     Neighborhood  American Restaurant  Asian Restaurant  Athletics & Sports  \\\n",
       "0  Frognal Avenue                    0                 0                   0   \n",
       "1  Frognal Avenue                    0                 0                   0   \n",
       "2  Frognal Avenue                    0                 0                   0   \n",
       "3  Frognal Avenue                    0                 0                   0   \n",
       "4  Frognal Avenue                    0                 0                   0   \n",
       "\n",
       "   Australian Restaurant  Bakery  Bar  Beer Store  Betting Shop  Bookstore  \\\n",
       "0                      0       0    0           0             0          0   \n",
       "1                      0       0    0           0             0          0   \n",
       "2                      0       0    0           0             0          0   \n",
       "3                      0       0    0           0             0          0   \n",
       "4                      0       1    0           0             0          0   \n",
       "\n",
       "   Bowling Alley  Brazilian Restaurant  Breakfast Spot  Brewery  Building  \\\n",
       "0              0                     0               0        0         0   \n",
       "1              0                     0               0        0         0   \n",
       "2              0                     0               0        0         0   \n",
       "3              0                     0               0        0         0   \n",
       "4              0                     0               0        0         0   \n",
       "\n",
       "   Burger Joint  Bus Station  Bus Stop  Café  Caribbean Restaurant  \\\n",
       "0             0            0         0     0                     0   \n",
       "1             0            0         0     0                     0   \n",
       "2             0            0         0     1                     0   \n",
       "3             0            0         0     0                     0   \n",
       "4             0            0         0     0                     0   \n",
       "\n",
       "   Chinese Restaurant  Chocolate Shop  Clothing Store  Coffee Shop  \\\n",
       "0                   0               0               0            0   \n",
       "1                   0               0               0            1   \n",
       "2                   0               0               0            0   \n",
       "3                   0               0               0            0   \n",
       "4                   0               0               0            0   \n",
       "\n",
       "   Concert Hall  Convenience Store  Cosmetics Shop  Deli / Bodega  \\\n",
       "0             0                  0               0              0   \n",
       "1             0                  0               0              0   \n",
       "2             0                  0               0              0   \n",
       "3             0                  0               0              0   \n",
       "4             0                  0               0              0   \n",
       "\n",
       "   Department Store  Dim Sum Restaurant  Diner  Discount Store  Donut Shop  \\\n",
       "0                 0                   0      0               0           0   \n",
       "1                 0                   0      0               0           0   \n",
       "2                 0                   0      0               0           0   \n",
       "3                 0                   0      0               0           0   \n",
       "4                 0                   0      0               0           0   \n",
       "\n",
       "   Eastern European Restaurant  Electronics Store  English Restaurant  \\\n",
       "0                            0                  0                   0   \n",
       "1                            0                  0                   0   \n",
       "2                            0                  0                   0   \n",
       "3                            0                  0                   0   \n",
       "4                            0                  0                   0   \n",
       "\n",
       "   Ethiopian Restaurant  Farmers Market  Fast Food Restaurant  \\\n",
       "0                     0               0                     0   \n",
       "1                     0               0                     0   \n",
       "2                     0               0                     0   \n",
       "3                     0               0                     0   \n",
       "4                     0               0                     0   \n",
       "\n",
       "   Fish & Chips Shop  Flower Shop  Food Truck  Fried Chicken Joint  \\\n",
       "0                  0            0           0                    0   \n",
       "1                  0            0           0                    0   \n",
       "2                  0            0           0                    0   \n",
       "3                  0            0           0                    0   \n",
       "4                  0            0           0                    0   \n",
       "\n",
       "   Furniture / Home Store  Garden  Garden Center  Gastropub  Gelato Shop  \\\n",
       "0                       0       0              0          0            0   \n",
       "1                       0       0              0          0            0   \n",
       "2                       0       0              0          0            0   \n",
       "3                       0       0              0          0            0   \n",
       "4                       0       0              0          0            0   \n",
       "\n",
       "   Gift Shop  Golf Course  Gourmet Shop  Grocery Store  Gym  \\\n",
       "0          0            0             0              1    0   \n",
       "1          0            0             0              0    0   \n",
       "2          0            0             0              0    0   \n",
       "3          0            0             0              0    0   \n",
       "4          0            0             0              0    0   \n",
       "\n",
       "   Gym / Fitness Center  Halal Restaurant  Health Food Store  Hobby Shop  \\\n",
       "0                     0                 0                  0           0   \n",
       "1                     0                 0                  0           0   \n",
       "2                     0                 0                  0           0   \n",
       "3                     0                 0                  0           0   \n",
       "4                     0                 0                  0           0   \n",
       "\n",
       "   Home Service  Hotel  Hungarian Restaurant  Ice Cream Shop  \\\n",
       "0             0      0                     0               0   \n",
       "1             0      0                     0               0   \n",
       "2             0      0                     0               0   \n",
       "3             0      0                     0               0   \n",
       "4             0      0                     0               0   \n",
       "\n",
       "   Indian Restaurant  Indoor Play Area  Irish Pub  Italian Restaurant  \\\n",
       "0                  0                 0          0                   0   \n",
       "1                  0                 0          0                   0   \n",
       "2                  0                 0          0                   0   \n",
       "3                  0                 0          0                   0   \n",
       "4                  0                 0          0                   0   \n",
       "\n",
       "   Japanese Restaurant  Jewelry Store  Kebab Restaurant  Locksmith  \\\n",
       "0                    0              0                 0          0   \n",
       "1                    0              0                 0          0   \n",
       "2                    0              0                 0          0   \n",
       "3                    0              0                 0          0   \n",
       "4                    0              0                 0          0   \n",
       "\n",
       "   Malay Restaurant  Market  Mediterranean Restaurant  Metro Station  \\\n",
       "0                 0       0                         0              0   \n",
       "1                 0       0                         0              0   \n",
       "2                 0       0                         0              0   \n",
       "3                 0       0                         0              0   \n",
       "4                 0       0                         0              0   \n",
       "\n",
       "   Middle Eastern Restaurant  Mobile Phone Shop  Movie Theater  Multiplex  \\\n",
       "0                          0                  0              0          0   \n",
       "1                          0                  0              0          0   \n",
       "2                          0                  0              0          0   \n",
       "3                          0                  0              0          0   \n",
       "4                          0                  0              0          0   \n",
       "\n",
       "   Museum  Music Store  Music Venue  Newsstand  Optical Shop  Park  Pharmacy  \\\n",
       "0       0            0            0          0             0     0         0   \n",
       "1       0            0            0          0             0     0         0   \n",
       "2       0            0            0          0             0     0         0   \n",
       "3       0            0            0          0             0     0         0   \n",
       "4       0            0            0          0             0     0         0   \n",
       "\n",
       "   Pie Shop  Pier  Pizza Place  Platform  Plaza  Portuguese Restaurant  \\\n",
       "0         0     0            0         0      0                      0   \n",
       "1         0     0            0         0      0                      0   \n",
       "2         0     0            0         0      0                      0   \n",
       "3         0     0            1         0      0                      0   \n",
       "4         0     0            0         0      0                      0   \n",
       "\n",
       "   Post Office  Pub  Recording Studio  Recreation Center  Restaurant  \\\n",
       "0            0    0                 0                  0           0   \n",
       "1            0    0                 0                  0           0   \n",
       "2            0    0                 0                  0           0   \n",
       "3            0    0                 0                  0           0   \n",
       "4            0    0                 0                  0           0   \n",
       "\n",
       "   Sandwich Place  Shopping Mall  Soccer Field  South American Restaurant  \\\n",
       "0               0              0             0                          0   \n",
       "1               0              0             0                          0   \n",
       "2               0              0             0                          0   \n",
       "3               0              0             0                          0   \n",
       "4               0              0             0                          0   \n",
       "\n",
       "   South Indian Restaurant  Sporting Goods Shop  Supermarket  \\\n",
       "0                        0                    0            0   \n",
       "1                        0                    0            0   \n",
       "2                        0                    0            0   \n",
       "3                        0                    0            0   \n",
       "4                        0                    0            0   \n",
       "\n",
       "   Sushi Restaurant  Tapas Restaurant  Tea Room  Tennis Court  \\\n",
       "0                 0                 0         0             0   \n",
       "1                 0                 0         0             0   \n",
       "2                 0                 0         0             0   \n",
       "3                 0                 0         0             0   \n",
       "4                 0                 0         0             0   \n",
       "\n",
       "   Thai Restaurant  Theater  Thrift / Vintage Store  Train Station  \\\n",
       "0                0        0                       0              0   \n",
       "1                0        0                       0              0   \n",
       "2                0        0                       0              0   \n",
       "3                0        0                       0              0   \n",
       "4                0        0                       0              0   \n",
       "\n",
       "   Turkish Restaurant  Video Game Store  Vietnamese Restaurant  \\\n",
       "0                   0                 0                      0   \n",
       "1                   0                 0                      0   \n",
       "2                   0                 0                      0   \n",
       "3                   0                 0                      0   \n",
       "4                   0                 0                      0   \n",
       "\n",
       "   Warehouse Store  Wine Bar  Wine Shop  Wings Joint  Yoga Studio  \n",
       "0                0         0          0            0            0  \n",
       "1                0         0          0            0            0  \n",
       "2                0         0          0            0            0  \n",
       "3                0         0          0            0            0  \n",
       "4                0         0          0            0            0  "
      ],
      "text/html": "<div>\n<style scoped>\n    .dataframe tbody tr th:only-of-type {\n        vertical-align: middle;\n    }\n\n    .dataframe tbody tr th {\n        vertical-align: top;\n    }\n\n    .dataframe thead th {\n        text-align: right;\n    }\n</style>\n<table border=\"1\" class=\"dataframe\">\n  <thead>\n    <tr style=\"text-align: right;\">\n      <th></th>\n      <th>Neighborhood</th>\n      <th>American Restaurant</th>\n      <th>Asian Restaurant</th>\n      <th>Athletics &amp; Sports</th>\n      <th>Australian Restaurant</th>\n      <th>Bakery</th>\n      <th>Bar</th>\n      <th>Beer Store</th>\n      <th>Betting Shop</th>\n      <th>Bookstore</th>\n      <th>Bowling Alley</th>\n      <th>Brazilian Restaurant</th>\n      <th>Breakfast Spot</th>\n      <th>Brewery</th>\n      <th>Building</th>\n      <th>Burger Joint</th>\n      <th>Bus Station</th>\n      <th>Bus Stop</th>\n      <th>Café</th>\n      <th>Caribbean Restaurant</th>\n      <th>Chinese Restaurant</th>\n      <th>Chocolate Shop</th>\n      <th>Clothing Store</th>\n      <th>Coffee Shop</th>\n      <th>Concert Hall</th>\n      <th>Convenience Store</th>\n      <th>Cosmetics Shop</th>\n      <th>Deli / Bodega</th>\n      <th>Department Store</th>\n      <th>Dim Sum Restaurant</th>\n      <th>Diner</th>\n      <th>Discount Store</th>\n      <th>Donut Shop</th>\n      <th>Eastern European Restaurant</th>\n      <th>Electronics Store</th>\n      <th>English Restaurant</th>\n      <th>Ethiopian Restaurant</th>\n      <th>Farmers Market</th>\n      <th>Fast Food Restaurant</th>\n      <th>Fish &amp; Chips Shop</th>\n      <th>Flower Shop</th>\n      <th>Food Truck</th>\n      <th>Fried Chicken Joint</th>\n      <th>Furniture / Home Store</th>\n      <th>Garden</th>\n      <th>Garden Center</th>\n      <th>Gastropub</th>\n      <th>Gelato Shop</th>\n      <th>Gift Shop</th>\n      <th>Golf Course</th>\n      <th>Gourmet Shop</th>\n      <th>Grocery Store</th>\n      <th>Gym</th>\n      <th>Gym / Fitness Center</th>\n      <th>Halal Restaurant</th>\n      <th>Health Food Store</th>\n      <th>Hobby Shop</th>\n      <th>Home Service</th>\n      <th>Hotel</th>\n      <th>Hungarian Restaurant</th>\n      <th>Ice Cream Shop</th>\n      <th>Indian Restaurant</th>\n      <th>Indoor Play Area</th>\n      <th>Irish Pub</th>\n      <th>Italian Restaurant</th>\n      <th>Japanese Restaurant</th>\n      <th>Jewelry Store</th>\n      <th>Kebab Restaurant</th>\n      <th>Locksmith</th>\n      <th>Malay Restaurant</th>\n      <th>Market</th>\n      <th>Mediterranean Restaurant</th>\n      <th>Metro Station</th>\n      <th>Middle Eastern Restaurant</th>\n      <th>Mobile Phone Shop</th>\n      <th>Movie Theater</th>\n      <th>Multiplex</th>\n      <th>Museum</th>\n      <th>Music Store</th>\n      <th>Music Venue</th>\n      <th>Newsstand</th>\n      <th>Optical Shop</th>\n      <th>Park</th>\n      <th>Pharmacy</th>\n      <th>Pie Shop</th>\n      <th>Pier</th>\n      <th>Pizza Place</th>\n      <th>Platform</th>\n      <th>Plaza</th>\n      <th>Portuguese Restaurant</th>\n      <th>Post Office</th>\n      <th>Pub</th>\n      <th>Recording Studio</th>\n      <th>Recreation Center</th>\n      <th>Restaurant</th>\n      <th>Sandwich Place</th>\n      <th>Shopping Mall</th>\n      <th>Soccer Field</th>\n      <th>South American Restaurant</th>\n      <th>South Indian Restaurant</th>\n      <th>Sporting Goods Shop</th>\n      <th>Supermarket</th>\n      <th>Sushi Restaurant</th>\n      <th>Tapas Restaurant</th>\n      <th>Tea Room</th>\n      <th>Tennis Court</th>\n      <th>Thai Restaurant</th>\n      <th>Theater</th>\n      <th>Thrift / Vintage Store</th>\n      <th>Train Station</th>\n      <th>Turkish Restaurant</th>\n      <th>Video Game Store</th>\n      <th>Vietnamese Restaurant</th>\n      <th>Warehouse Store</th>\n      <th>Wine Bar</th>\n      <th>Wine Shop</th>\n      <th>Wings Joint</th>\n      <th>Yoga Studio</th>\n    </tr>\n  </thead>\n  <tbody>\n    <tr>\n      <th>0</th>\n      <td>Frognal Avenue</td>\n      <td>0</td>\n      <td>0</td>\n      <td>0</td>\n      <td>0</td>\n      <td>0</td>\n      <td>0</td>\n      <td>0</td>\n      <td>0</td>\n      <td>0</td>\n      <td>0</td>\n      <td>0</td>\n      <td>0</td>\n      <td>0</td>\n      <td>0</td>\n      <td>0</td>\n      <td>0</td>\n      <td>0</td>\n      <td>0</td>\n      <td>0</td>\n      <td>0</td>\n      <td>0</td>\n      <td>0</td>\n      <td>0</td>\n      <td>0</td>\n      <td>0</td>\n      <td>0</td>\n      <td>0</td>\n      <td>0</td>\n      <td>0</td>\n      <td>0</td>\n      <td>0</td>\n      <td>0</td>\n      <td>0</td>\n      <td>0</td>\n      <td>0</td>\n      <td>0</td>\n      <td>0</td>\n      <td>0</td>\n      <td>0</td>\n      <td>0</td>\n      <td>0</td>\n      <td>0</td>\n      <td>0</td>\n      <td>0</td>\n      <td>0</td>\n      <td>0</td>\n      <td>0</td>\n      <td>0</td>\n      <td>0</td>\n      <td>0</td>\n      <td>1</td>\n      <td>0</td>\n      <td>0</td>\n      <td>0</td>\n      <td>0</td>\n      <td>0</td>\n      <td>0</td>\n      <td>0</td>\n      <td>0</td>\n      <td>0</td>\n      <td>0</td>\n      <td>0</td>\n      <td>0</td>\n      <td>0</td>\n      <td>0</td>\n      <td>0</td>\n      <td>0</td>\n      <td>0</td>\n      <td>0</td>\n      <td>0</td>\n      <td>0</td>\n      <td>0</td>\n      <td>0</td>\n      <td>0</td>\n      <td>0</td>\n      <td>0</td>\n      <td>0</td>\n      <td>0</td>\n      <td>0</td>\n      <td>0</td>\n      <td>0</td>\n      <td>0</td>\n      <td>0</td>\n      <td>0</td>\n      <td>0</td>\n      <td>0</td>\n      <td>0</td>\n      <td>0</td>\n      <td>0</td>\n      <td>0</td>\n      <td>0</td>\n      <td>0</td>\n      <td>0</td>\n      <td>0</td>\n      <td>0</td>\n      <td>0</td>\n      <td>0</td>\n      <td>0</td>\n      <td>0</td>\n      <td>0</td>\n      <td>0</td>\n      <td>0</td>\n      <td>0</td>\n      <td>0</td>\n      <td>0</td>\n      <td>0</td>\n      <td>0</td>\n      <td>0</td>\n      <td>0</td>\n      <td>0</td>\n      <td>0</td>\n      <td>0</td>\n      <td>0</td>\n      <td>0</td>\n      <td>0</td>\n      <td>0</td>\n      <td>0</td>\n    </tr>\n    <tr>\n      <th>1</th>\n      <td>Frognal Avenue</td>\n      <td>0</td>\n      <td>0</td>\n      <td>0</td>\n      <td>0</td>\n      <td>0</td>\n      <td>0</td>\n      <td>0</td>\n      <td>0</td>\n      <td>0</td>\n      <td>0</td>\n      <td>0</td>\n      <td>0</td>\n      <td>0</td>\n      <td>0</td>\n      <td>0</td>\n      <td>0</td>\n      <td>0</td>\n      <td>0</td>\n      <td>0</td>\n      <td>0</td>\n      <td>0</td>\n      <td>0</td>\n      <td>1</td>\n      <td>0</td>\n      <td>0</td>\n      <td>0</td>\n      <td>0</td>\n      <td>0</td>\n      <td>0</td>\n      <td>0</td>\n      <td>0</td>\n      <td>0</td>\n      <td>0</td>\n      <td>0</td>\n      <td>0</td>\n      <td>0</td>\n      <td>0</td>\n      <td>0</td>\n      <td>0</td>\n      <td>0</td>\n      <td>0</td>\n      <td>0</td>\n      <td>0</td>\n      <td>0</td>\n      <td>0</td>\n      <td>0</td>\n      <td>0</td>\n      <td>0</td>\n      <td>0</td>\n      <td>0</td>\n      <td>0</td>\n      <td>0</td>\n      <td>0</td>\n      <td>0</td>\n      <td>0</td>\n      <td>0</td>\n      <td>0</td>\n      <td>0</td>\n      <td>0</td>\n      <td>0</td>\n      <td>0</td>\n      <td>0</td>\n      <td>0</td>\n      <td>0</td>\n      <td>0</td>\n      <td>0</td>\n      <td>0</td>\n      <td>0</td>\n      <td>0</td>\n      <td>0</td>\n      <td>0</td>\n      <td>0</td>\n      <td>0</td>\n      <td>0</td>\n      <td>0</td>\n      <td>0</td>\n      <td>0</td>\n      <td>0</td>\n      <td>0</td>\n      <td>0</td>\n      <td>0</td>\n      <td>0</td>\n      <td>0</td>\n      <td>0</td>\n      <td>0</td>\n      <td>0</td>\n      <td>0</td>\n      <td>0</td>\n      <td>0</td>\n      <td>0</td>\n      <td>0</td>\n      <td>0</td>\n      <td>0</td>\n      <td>0</td>\n      <td>0</td>\n      <td>0</td>\n      <td>0</td>\n      <td>0</td>\n      <td>0</td>\n      <td>0</td>\n      <td>0</td>\n      <td>0</td>\n      <td>0</td>\n      <td>0</td>\n      <td>0</td>\n      <td>0</td>\n      <td>0</td>\n      <td>0</td>\n      <td>0</td>\n      <td>0</td>\n      <td>0</td>\n      <td>0</td>\n      <td>0</td>\n      <td>0</td>\n      <td>0</td>\n      <td>0</td>\n      <td>0</td>\n    </tr>\n    <tr>\n      <th>2</th>\n      <td>Frognal Avenue</td>\n      <td>0</td>\n      <td>0</td>\n      <td>0</td>\n      <td>0</td>\n      <td>0</td>\n      <td>0</td>\n      <td>0</td>\n      <td>0</td>\n      <td>0</td>\n      <td>0</td>\n      <td>0</td>\n      <td>0</td>\n      <td>0</td>\n      <td>0</td>\n      <td>0</td>\n      <td>0</td>\n      <td>0</td>\n      <td>1</td>\n      <td>0</td>\n      <td>0</td>\n      <td>0</td>\n      <td>0</td>\n      <td>0</td>\n      <td>0</td>\n      <td>0</td>\n      <td>0</td>\n      <td>0</td>\n      <td>0</td>\n      <td>0</td>\n      <td>0</td>\n      <td>0</td>\n      <td>0</td>\n      <td>0</td>\n      <td>0</td>\n      <td>0</td>\n      <td>0</td>\n      <td>0</td>\n      <td>0</td>\n      <td>0</td>\n      <td>0</td>\n      <td>0</td>\n      <td>0</td>\n      <td>0</td>\n      <td>0</td>\n      <td>0</td>\n      <td>0</td>\n      <td>0</td>\n      <td>0</td>\n      <td>0</td>\n      <td>0</td>\n      <td>0</td>\n      <td>0</td>\n      <td>0</td>\n      <td>0</td>\n      <td>0</td>\n      <td>0</td>\n      <td>0</td>\n      <td>0</td>\n      <td>0</td>\n      <td>0</td>\n      <td>0</td>\n      <td>0</td>\n      <td>0</td>\n      <td>0</td>\n      <td>0</td>\n      <td>0</td>\n      <td>0</td>\n      <td>0</td>\n      <td>0</td>\n      <td>0</td>\n      <td>0</td>\n      <td>0</td>\n      <td>0</td>\n      <td>0</td>\n      <td>0</td>\n      <td>0</td>\n      <td>0</td>\n      <td>0</td>\n      <td>0</td>\n      <td>0</td>\n      <td>0</td>\n      <td>0</td>\n      <td>0</td>\n      <td>0</td>\n      <td>0</td>\n      <td>0</td>\n      <td>0</td>\n      <td>0</td>\n      <td>0</td>\n      <td>0</td>\n      <td>0</td>\n      <td>0</td>\n      <td>0</td>\n      <td>0</td>\n      <td>0</td>\n      <td>0</td>\n      <td>0</td>\n      <td>0</td>\n      <td>0</td>\n      <td>0</td>\n      <td>0</td>\n      <td>0</td>\n      <td>0</td>\n      <td>0</td>\n      <td>0</td>\n      <td>0</td>\n      <td>0</td>\n      <td>0</td>\n      <td>0</td>\n      <td>0</td>\n      <td>0</td>\n      <td>0</td>\n      <td>0</td>\n      <td>0</td>\n      <td>0</td>\n      <td>0</td>\n      <td>0</td>\n    </tr>\n    <tr>\n      <th>3</th>\n      <td>Frognal Avenue</td>\n      <td>0</td>\n      <td>0</td>\n      <td>0</td>\n      <td>0</td>\n      <td>0</td>\n      <td>0</td>\n      <td>0</td>\n      <td>0</td>\n      <td>0</td>\n      <td>0</td>\n      <td>0</td>\n      <td>0</td>\n      <td>0</td>\n      <td>0</td>\n      <td>0</td>\n      <td>0</td>\n      <td>0</td>\n      <td>0</td>\n      <td>0</td>\n      <td>0</td>\n      <td>0</td>\n      <td>0</td>\n      <td>0</td>\n      <td>0</td>\n      <td>0</td>\n      <td>0</td>\n      <td>0</td>\n      <td>0</td>\n      <td>0</td>\n      <td>0</td>\n      <td>0</td>\n      <td>0</td>\n      <td>0</td>\n      <td>0</td>\n      <td>0</td>\n      <td>0</td>\n      <td>0</td>\n      <td>0</td>\n      <td>0</td>\n      <td>0</td>\n      <td>0</td>\n      <td>0</td>\n      <td>0</td>\n      <td>0</td>\n      <td>0</td>\n      <td>0</td>\n      <td>0</td>\n      <td>0</td>\n      <td>0</td>\n      <td>0</td>\n      <td>0</td>\n      <td>0</td>\n      <td>0</td>\n      <td>0</td>\n      <td>0</td>\n      <td>0</td>\n      <td>0</td>\n      <td>0</td>\n      <td>0</td>\n      <td>0</td>\n      <td>0</td>\n      <td>0</td>\n      <td>0</td>\n      <td>0</td>\n      <td>0</td>\n      <td>0</td>\n      <td>0</td>\n      <td>0</td>\n      <td>0</td>\n      <td>0</td>\n      <td>0</td>\n      <td>0</td>\n      <td>0</td>\n      <td>0</td>\n      <td>0</td>\n      <td>0</td>\n      <td>0</td>\n      <td>0</td>\n      <td>0</td>\n      <td>0</td>\n      <td>0</td>\n      <td>0</td>\n      <td>0</td>\n      <td>0</td>\n      <td>0</td>\n      <td>1</td>\n      <td>0</td>\n      <td>0</td>\n      <td>0</td>\n      <td>0</td>\n      <td>0</td>\n      <td>0</td>\n      <td>0</td>\n      <td>0</td>\n      <td>0</td>\n      <td>0</td>\n      <td>0</td>\n      <td>0</td>\n      <td>0</td>\n      <td>0</td>\n      <td>0</td>\n      <td>0</td>\n      <td>0</td>\n      <td>0</td>\n      <td>0</td>\n      <td>0</td>\n      <td>0</td>\n      <td>0</td>\n      <td>0</td>\n      <td>0</td>\n      <td>0</td>\n      <td>0</td>\n      <td>0</td>\n      <td>0</td>\n      <td>0</td>\n      <td>0</td>\n      <td>0</td>\n    </tr>\n    <tr>\n      <th>4</th>\n      <td>Frognal Avenue</td>\n      <td>0</td>\n      <td>0</td>\n      <td>0</td>\n      <td>0</td>\n      <td>1</td>\n      <td>0</td>\n      <td>0</td>\n      <td>0</td>\n      <td>0</td>\n      <td>0</td>\n      <td>0</td>\n      <td>0</td>\n      <td>0</td>\n      <td>0</td>\n      <td>0</td>\n      <td>0</td>\n      <td>0</td>\n      <td>0</td>\n      <td>0</td>\n      <td>0</td>\n      <td>0</td>\n      <td>0</td>\n      <td>0</td>\n      <td>0</td>\n      <td>0</td>\n      <td>0</td>\n      <td>0</td>\n      <td>0</td>\n      <td>0</td>\n      <td>0</td>\n      <td>0</td>\n      <td>0</td>\n      <td>0</td>\n      <td>0</td>\n      <td>0</td>\n      <td>0</td>\n      <td>0</td>\n      <td>0</td>\n      <td>0</td>\n      <td>0</td>\n      <td>0</td>\n      <td>0</td>\n      <td>0</td>\n      <td>0</td>\n      <td>0</td>\n      <td>0</td>\n      <td>0</td>\n      <td>0</td>\n      <td>0</td>\n      <td>0</td>\n      <td>0</td>\n      <td>0</td>\n      <td>0</td>\n      <td>0</td>\n      <td>0</td>\n      <td>0</td>\n      <td>0</td>\n      <td>0</td>\n      <td>0</td>\n      <td>0</td>\n      <td>0</td>\n      <td>0</td>\n      <td>0</td>\n      <td>0</td>\n      <td>0</td>\n      <td>0</td>\n      <td>0</td>\n      <td>0</td>\n      <td>0</td>\n      <td>0</td>\n      <td>0</td>\n      <td>0</td>\n      <td>0</td>\n      <td>0</td>\n      <td>0</td>\n      <td>0</td>\n      <td>0</td>\n      <td>0</td>\n      <td>0</td>\n      <td>0</td>\n      <td>0</td>\n      <td>0</td>\n      <td>0</td>\n      <td>0</td>\n      <td>0</td>\n      <td>0</td>\n      <td>0</td>\n      <td>0</td>\n      <td>0</td>\n      <td>0</td>\n      <td>0</td>\n      <td>0</td>\n      <td>0</td>\n      <td>0</td>\n      <td>0</td>\n      <td>0</td>\n      <td>0</td>\n      <td>0</td>\n      <td>0</td>\n      <td>0</td>\n      <td>0</td>\n      <td>0</td>\n      <td>0</td>\n      <td>0</td>\n      <td>0</td>\n      <td>0</td>\n      <td>0</td>\n      <td>0</td>\n      <td>0</td>\n      <td>0</td>\n      <td>0</td>\n      <td>0</td>\n      <td>0</td>\n      <td>0</td>\n      <td>0</td>\n      <td>0</td>\n      <td>0</td>\n    </tr>\n  </tbody>\n</table>\n</div>"
     },
     "metadata": {},
     "execution_count": 47
    }
   ],
   "source": [
    "ld_onehot.head()"
   ]
  },
  {
   "source": [
    "* Check the shape after encoding"
   ],
   "cell_type": "markdown",
   "metadata": {}
  },
  {
   "cell_type": "code",
   "execution_count": 48,
   "metadata": {},
   "outputs": [
    {
     "output_type": "execute_result",
     "data": {
      "text/plain": [
       "(456, 118)"
      ]
     },
     "metadata": {},
     "execution_count": 48
    }
   ],
   "source": [
    "ld_onehot.shape"
   ]
  },
  {
   "source": [
    "# TOP 10 VENUES\n",
    "* Now we can list out the top 10 venues for each neighborhood based on frequency of occurrence"
   ],
   "cell_type": "markdown",
   "metadata": {}
  },
  {
   "cell_type": "code",
   "execution_count": 49,
   "metadata": {},
   "outputs": [],
   "source": [
    "ld_grouped=ld_onehot.groupby('Neighborhood').mean().reset_index()"
   ]
  },
  {
   "source": [
    "* Top 5 venues for each neighborhood"
   ],
   "cell_type": "markdown",
   "metadata": {}
  },
  {
   "cell_type": "code",
   "execution_count": 50,
   "metadata": {},
   "outputs": [
    {
     "output_type": "stream",
     "name": "stdout",
     "text": [
      "----Adelaide Avenue----\n                 venue  freq\n0          Coffee Shop  0.16\n1                  Pub  0.11\n2                 Café  0.07\n3       Clothing Store  0.07\n4  Japanese Restaurant  0.07\n\n\n----Anson Place----\n            venue  freq\n0        Bus Stop  0.15\n1   Grocery Store  0.10\n2             Pub  0.10\n3  Discount Store  0.10\n4            Park  0.10\n\n\n----Childeric Road----\n                      venue  freq\n0  Mediterranean Restaurant  0.14\n1                       Pub  0.07\n2               Supermarket  0.07\n3      Gym / Fitness Center  0.07\n4             Movie Theater  0.07\n\n\n----Cutter Lane Chandlers Avenue----\n                venue  freq\n0       Grocery Store  0.16\n1                Pier  0.10\n2                 Pub  0.10\n3   Indian Restaurant  0.06\n4  Turkish Restaurant  0.06\n\n\n----Disraeli Road----\n                venue  freq\n0         Coffee Shop  0.12\n1       Grocery Store  0.06\n2               Diner  0.06\n3        Gourmet Shop  0.06\n4  Chinese Restaurant  0.06\n\n\n----East Street----\n        venue  freq\n0  Restaurant  0.17\n1         Pub  0.17\n2      Bakery  0.17\n3         Bar  0.17\n4  Food Truck  0.17\n\n\n----Elmley Street----\n            venue  freq\n0     Coffee Shop  0.09\n1  Clothing Store  0.09\n2            Café  0.07\n3             Pub  0.06\n4   Shopping Mall  0.04\n\n\n----Frognal Avenue----\n                  venue  freq\n0  Fast Food Restaurant  0.14\n1           Coffee Shop  0.14\n2         Grocery Store  0.14\n3              Pharmacy  0.14\n4    Italian Restaurant  0.07\n\n\n----Grove Place----\n              venue  freq\n0       Bus Station  0.25\n1     Train Station  0.25\n2  Asian Restaurant  0.25\n3    Breakfast Spot  0.25\n4         Multiplex  0.00\n\n\n----High Street South----\n            venue  freq\n0   Grocery Store  0.25\n1  Sandwich Place  0.08\n2   Metro Station  0.08\n3          Bakery  0.08\n4             Pub  0.08\n\n\n----Hoe Street----\n            venue  freq\n0     Coffee Shop  0.09\n1             Pub  0.06\n2  Sandwich Place  0.04\n3          Bakery  0.04\n4      Restaurant  0.04\n\n\n----Jamaica Road----\n                         venue  freq\n0                        Diner  0.25\n1                 Soccer Field  0.25\n2  Eastern European Restaurant  0.25\n3                    Multiplex  0.25\n4          Japanese Restaurant  0.00\n\n\n----Kidman Close----\n                    venue  freq\n0          Clothing Store  0.14\n1                     Pub  0.14\n2               Multiplex  0.07\n3            Optical Shop  0.07\n4  Furniture / Home Store  0.07\n\n\n----Kingswood Estate----\n               venue  freq\n0  Fish & Chips Shop   0.2\n1       Home Service   0.2\n2        Golf Course   0.2\n3               Café   0.2\n4      Train Station   0.2\n\n\n----Lettsom Street----\n                venue  freq\n0                 Pub  0.06\n1            Building  0.06\n2   Fish & Chips Shop  0.06\n3  Italian Restaurant  0.06\n4            Pie Shop  0.06\n\n\n----New Wanstead----\n                venue  freq\n0            Bus Stop  0.28\n1            Platform  0.08\n2                 Pub  0.08\n3   Convenience Store  0.08\n4  Chinese Restaurant  0.08\n\n\n----Plaistow Lane----\n                  venue  freq\n0        Clothing Store  0.17\n1           Coffee Shop  0.14\n2  Gym / Fitness Center  0.06\n3           Supermarket  0.06\n4      Department Store  0.03\n\n\n----Sandford Road----\n            venue  freq\n0             Pub  0.12\n1       Gastropub  0.12\n2     Supermarket  0.12\n3  Breakfast Spot  0.12\n4            Park  0.12\n\n\n----Sherfield Gardens----\n           venue  freq\n0  Grocery Store  0.18\n1            Pub  0.09\n2    Coffee Shop  0.09\n3           Café  0.09\n4         Bakery  0.05\n\n\n----Shurland Gardens Willowbrook Estate----\n           venue  freq\n0      Gift Shop  0.25\n1         Bakery  0.25\n2  Train Station  0.25\n3  Garden Center  0.25\n4  Movie Theater  0.00\n\n\n----South Street----\n               venue  freq\n0                Pub  0.29\n1               Café  0.14\n2       Betting Shop  0.14\n3  Convenience Store  0.14\n4               Park  0.14\n\n\n----Sydenham Road----\n                   venue  freq\n0            Pizza Place  0.10\n1                    Pub  0.06\n2               Pharmacy  0.06\n3            Supermarket  0.06\n4  Vietnamese Restaurant  0.06\n\n\n"
     ]
    }
   ],
   "source": [
    "num_top_venues = 5\n",
    "\n",
    "for hood in ld_grouped['Neighborhood']:\n",
    "    print(\"----\"+hood+\"----\")\n",
    "    temp = ld_grouped[ld_grouped['Neighborhood'] == hood].T.reset_index()\n",
    "    temp.columns = ['venue','freq']\n",
    "    temp = temp.iloc[1:]\n",
    "    temp['freq'] = temp['freq'].astype(float)\n",
    "    temp = temp.round({'freq': 2})\n",
    "    print(temp.sort_values('freq', ascending=False).reset_index(drop=True).head(num_top_venues))\n",
    "    print('\\n')"
   ]
  },
  {
   "cell_type": "code",
   "execution_count": 51,
   "metadata": {},
   "outputs": [],
   "source": [
    "def return_most_common_venues(row, num_top_venues):\n",
    "    row_categories = row.iloc[1:]\n",
    "    row_categories_sorted = row_categories.sort_values(ascending=False)\n",
    "    \n",
    "    return row_categories_sorted.index.values[0:num_top_venues]"
   ]
  },
  {
   "source": [
    "* DataFrame with top 10 Venues"
   ],
   "cell_type": "markdown",
   "metadata": {}
  },
  {
   "cell_type": "code",
   "execution_count": 52,
   "metadata": {},
   "outputs": [
    {
     "output_type": "execute_result",
     "data": {
      "text/plain": [
       "                           Neighborhood     1st Most Common Venue  \\\n",
       "0                       Adelaide Avenue               Coffee Shop   \n",
       "1                           Anson Place                  Bus Stop   \n",
       "2                        Childeric Road  Mediterranean Restaurant   \n",
       "3          Cutter Lane Chandlers Avenue             Grocery Store   \n",
       "4                         Disraeli Road               Coffee Shop   \n",
       "5                           East Street                    Bakery   \n",
       "6                         Elmley Street               Coffee Shop   \n",
       "7                        Frognal Avenue                  Pharmacy   \n",
       "8                           Grove Place             Train Station   \n",
       "9                     High Street South             Grocery Store   \n",
       "10                           Hoe Street               Coffee Shop   \n",
       "11                         Jamaica Road                     Diner   \n",
       "12                         Kidman Close            Clothing Store   \n",
       "13                     Kingswood Estate              Home Service   \n",
       "14                       Lettsom Street                      Park   \n",
       "15                         New Wanstead                  Bus Stop   \n",
       "16                        Plaistow Lane            Clothing Store   \n",
       "17                        Sandford Road               Supermarket   \n",
       "18                    Sherfield Gardens             Grocery Store   \n",
       "19  Shurland Gardens Willowbrook Estate             Garden Center   \n",
       "20                         South Street                       Pub   \n",
       "21                        Sydenham Road               Pizza Place   \n",
       "\n",
       "          2nd Most Common Venue 3rd Most Common Venue  4th Most Common Venue  \\\n",
       "0                           Pub        Clothing Store                   Café   \n",
       "1                Discount Store                   Pub          Grocery Store   \n",
       "2              Department Store    Italian Restaurant  Portuguese Restaurant   \n",
       "3                          Pier                   Pub     Turkish Restaurant   \n",
       "4           Fried Chicken Joint    Chinese Restaurant                   Café   \n",
       "5                           Bar                   Pub             Restaurant   \n",
       "6                Clothing Store                  Café                    Pub   \n",
       "7                 Grocery Store           Coffee Shop   Fast Food Restaurant   \n",
       "8              Asian Restaurant        Breakfast Spot            Bus Station   \n",
       "9                        Market         Metro Station                   Park   \n",
       "10                          Pub        Sandwich Place             Restaurant   \n",
       "11  Eastern European Restaurant          Soccer Field              Multiplex   \n",
       "12                          Pub             Multiplex         Sandwich Place   \n",
       "13                Train Station           Golf Course      Fish & Chips Shop   \n",
       "14    Middle Eastern Restaurant           Coffee Shop                   Café   \n",
       "15                     Platform     Convenience Store                    Pub   \n",
       "16                  Coffee Shop  Gym / Fitness Center            Supermarket   \n",
       "17                          Pub             Gastropub         Breakfast Spot   \n",
       "18                  Coffee Shop                  Café                    Pub   \n",
       "19                       Bakery         Train Station              Gift Shop   \n",
       "20                         Park         Grocery Store      Convenience Store   \n",
       "21                     Pharmacy           Supermarket                    Pub   \n",
       "\n",
       "     5th Most Common Venue   6th Most Common Venue  \\\n",
       "0      Japanese Restaurant                  Bakery   \n",
       "1                     Park             Supermarket   \n",
       "2                      Pub          Clothing Store   \n",
       "3              Coffee Shop       Indian Restaurant   \n",
       "4                 Bus Stop            Concert Hall   \n",
       "5              Flower Shop              Food Truck   \n",
       "6            Grocery Store    Fast Food Restaurant   \n",
       "7              Pizza Place                    Café   \n",
       "8        Fish & Chips Shop  Furniture / Home Store   \n",
       "9                      Pub          Sandwich Place   \n",
       "10          Clothing Store                Pharmacy   \n",
       "11      Dim Sum Restaurant          Discount Store   \n",
       "12                    Park             Supermarket   \n",
       "13                    Café  Furniture / Home Store   \n",
       "14                     Pub    Ethiopian Restaurant   \n",
       "15      Chinese Restaurant             Supermarket   \n",
       "16                    Café          Chocolate Shop   \n",
       "17      Italian Restaurant                    Café   \n",
       "18             Pizza Place    Fast Food Restaurant   \n",
       "19  Furniture / Home Store              Donut Shop   \n",
       "20            Betting Shop                    Café   \n",
       "21   Vietnamese Restaurant                Platform   \n",
       "\n",
       "          7th Most Common Venue        8th Most Common Venue  \\\n",
       "0                 Grocery Store            Indian Restaurant   \n",
       "1                   Coffee Shop         Fast Food Restaurant   \n",
       "2                 Movie Theater         Fast Food Restaurant   \n",
       "3                   Pizza Place                         Café   \n",
       "4              Malay Restaurant                          Pub   \n",
       "5                   Yoga Studio          Fried Chicken Joint   \n",
       "6                 Shopping Mall          American Restaurant   \n",
       "7            Italian Restaurant                  Supermarket   \n",
       "8           Fried Chicken Joint                   Food Truck   \n",
       "9          Fast Food Restaurant                 Soccer Field   \n",
       "10                       Bakery                  Pizza Place   \n",
       "11                   Donut Shop            Electronics Store   \n",
       "12       Furniture / Home Store                  Coffee Shop   \n",
       "13                   Donut Shop  Eastern European Restaurant   \n",
       "14                     Building                       Garden   \n",
       "15             Kebab Restaurant       Furniture / Home Store   \n",
       "16                          Pub        Portuguese Restaurant   \n",
       "17                       Bakery                         Park   \n",
       "18            Fish & Chips Shop           Dim Sum Restaurant   \n",
       "19  Eastern European Restaurant            Electronics Store   \n",
       "20                  Yoga Studio                   Food Truck   \n",
       "21                          Gym               Clothing Store   \n",
       "\n",
       "          9th Most Common Venue       10th Most Common Venue  \n",
       "0              Sushi Restaurant           Italian Restaurant  \n",
       "1                Sandwich Place                  Bus Station  \n",
       "2                      Pharmacy                  Supermarket  \n",
       "3           Japanese Restaurant     Mediterranean Restaurant  \n",
       "4             Convenience Store                      Theater  \n",
       "5                    Donut Shop  Eastern European Restaurant  \n",
       "6                     Bookstore           Italian Restaurant  \n",
       "7                         Hotel                       Bakery  \n",
       "8                   Flower Shop                  Yoga Studio  \n",
       "9                      Pharmacy                       Bakery  \n",
       "10                         Café        Portuguese Restaurant  \n",
       "11           English Restaurant         Ethiopian Restaurant  \n",
       "12                 Optical Shop             Video Game Store  \n",
       "13            Electronics Store           English Restaurant  \n",
       "14           Italian Restaurant            Fish & Chips Shop  \n",
       "15          Fried Chicken Joint            Electronics Store  \n",
       "16                     Pharmacy                         Park  \n",
       "17           English Restaurant            Electronics Store  \n",
       "18                Metro Station              Thai Restaurant  \n",
       "19           English Restaurant         Ethiopian Restaurant  \n",
       "20  Eastern European Restaurant            Electronics Store  \n",
       "21                  Coffee Shop          American Restaurant  "
      ],
      "text/html": "<div>\n<style scoped>\n    .dataframe tbody tr th:only-of-type {\n        vertical-align: middle;\n    }\n\n    .dataframe tbody tr th {\n        vertical-align: top;\n    }\n\n    .dataframe thead th {\n        text-align: right;\n    }\n</style>\n<table border=\"1\" class=\"dataframe\">\n  <thead>\n    <tr style=\"text-align: right;\">\n      <th></th>\n      <th>Neighborhood</th>\n      <th>1st Most Common Venue</th>\n      <th>2nd Most Common Venue</th>\n      <th>3rd Most Common Venue</th>\n      <th>4th Most Common Venue</th>\n      <th>5th Most Common Venue</th>\n      <th>6th Most Common Venue</th>\n      <th>7th Most Common Venue</th>\n      <th>8th Most Common Venue</th>\n      <th>9th Most Common Venue</th>\n      <th>10th Most Common Venue</th>\n    </tr>\n  </thead>\n  <tbody>\n    <tr>\n      <th>0</th>\n      <td>Adelaide Avenue</td>\n      <td>Coffee Shop</td>\n      <td>Pub</td>\n      <td>Clothing Store</td>\n      <td>Café</td>\n      <td>Japanese Restaurant</td>\n      <td>Bakery</td>\n      <td>Grocery Store</td>\n      <td>Indian Restaurant</td>\n      <td>Sushi Restaurant</td>\n      <td>Italian Restaurant</td>\n    </tr>\n    <tr>\n      <th>1</th>\n      <td>Anson Place</td>\n      <td>Bus Stop</td>\n      <td>Discount Store</td>\n      <td>Pub</td>\n      <td>Grocery Store</td>\n      <td>Park</td>\n      <td>Supermarket</td>\n      <td>Coffee Shop</td>\n      <td>Fast Food Restaurant</td>\n      <td>Sandwich Place</td>\n      <td>Bus Station</td>\n    </tr>\n    <tr>\n      <th>2</th>\n      <td>Childeric Road</td>\n      <td>Mediterranean Restaurant</td>\n      <td>Department Store</td>\n      <td>Italian Restaurant</td>\n      <td>Portuguese Restaurant</td>\n      <td>Pub</td>\n      <td>Clothing Store</td>\n      <td>Movie Theater</td>\n      <td>Fast Food Restaurant</td>\n      <td>Pharmacy</td>\n      <td>Supermarket</td>\n    </tr>\n    <tr>\n      <th>3</th>\n      <td>Cutter Lane Chandlers Avenue</td>\n      <td>Grocery Store</td>\n      <td>Pier</td>\n      <td>Pub</td>\n      <td>Turkish Restaurant</td>\n      <td>Coffee Shop</td>\n      <td>Indian Restaurant</td>\n      <td>Pizza Place</td>\n      <td>Café</td>\n      <td>Japanese Restaurant</td>\n      <td>Mediterranean Restaurant</td>\n    </tr>\n    <tr>\n      <th>4</th>\n      <td>Disraeli Road</td>\n      <td>Coffee Shop</td>\n      <td>Fried Chicken Joint</td>\n      <td>Chinese Restaurant</td>\n      <td>Café</td>\n      <td>Bus Stop</td>\n      <td>Concert Hall</td>\n      <td>Malay Restaurant</td>\n      <td>Pub</td>\n      <td>Convenience Store</td>\n      <td>Theater</td>\n    </tr>\n    <tr>\n      <th>5</th>\n      <td>East Street</td>\n      <td>Bakery</td>\n      <td>Bar</td>\n      <td>Pub</td>\n      <td>Restaurant</td>\n      <td>Flower Shop</td>\n      <td>Food Truck</td>\n      <td>Yoga Studio</td>\n      <td>Fried Chicken Joint</td>\n      <td>Donut Shop</td>\n      <td>Eastern European Restaurant</td>\n    </tr>\n    <tr>\n      <th>6</th>\n      <td>Elmley Street</td>\n      <td>Coffee Shop</td>\n      <td>Clothing Store</td>\n      <td>Café</td>\n      <td>Pub</td>\n      <td>Grocery Store</td>\n      <td>Fast Food Restaurant</td>\n      <td>Shopping Mall</td>\n      <td>American Restaurant</td>\n      <td>Bookstore</td>\n      <td>Italian Restaurant</td>\n    </tr>\n    <tr>\n      <th>7</th>\n      <td>Frognal Avenue</td>\n      <td>Pharmacy</td>\n      <td>Grocery Store</td>\n      <td>Coffee Shop</td>\n      <td>Fast Food Restaurant</td>\n      <td>Pizza Place</td>\n      <td>Café</td>\n      <td>Italian Restaurant</td>\n      <td>Supermarket</td>\n      <td>Hotel</td>\n      <td>Bakery</td>\n    </tr>\n    <tr>\n      <th>8</th>\n      <td>Grove Place</td>\n      <td>Train Station</td>\n      <td>Asian Restaurant</td>\n      <td>Breakfast Spot</td>\n      <td>Bus Station</td>\n      <td>Fish &amp; Chips Shop</td>\n      <td>Furniture / Home Store</td>\n      <td>Fried Chicken Joint</td>\n      <td>Food Truck</td>\n      <td>Flower Shop</td>\n      <td>Yoga Studio</td>\n    </tr>\n    <tr>\n      <th>9</th>\n      <td>High Street South</td>\n      <td>Grocery Store</td>\n      <td>Market</td>\n      <td>Metro Station</td>\n      <td>Park</td>\n      <td>Pub</td>\n      <td>Sandwich Place</td>\n      <td>Fast Food Restaurant</td>\n      <td>Soccer Field</td>\n      <td>Pharmacy</td>\n      <td>Bakery</td>\n    </tr>\n    <tr>\n      <th>10</th>\n      <td>Hoe Street</td>\n      <td>Coffee Shop</td>\n      <td>Pub</td>\n      <td>Sandwich Place</td>\n      <td>Restaurant</td>\n      <td>Clothing Store</td>\n      <td>Pharmacy</td>\n      <td>Bakery</td>\n      <td>Pizza Place</td>\n      <td>Café</td>\n      <td>Portuguese Restaurant</td>\n    </tr>\n    <tr>\n      <th>11</th>\n      <td>Jamaica Road</td>\n      <td>Diner</td>\n      <td>Eastern European Restaurant</td>\n      <td>Soccer Field</td>\n      <td>Multiplex</td>\n      <td>Dim Sum Restaurant</td>\n      <td>Discount Store</td>\n      <td>Donut Shop</td>\n      <td>Electronics Store</td>\n      <td>English Restaurant</td>\n      <td>Ethiopian Restaurant</td>\n    </tr>\n    <tr>\n      <th>12</th>\n      <td>Kidman Close</td>\n      <td>Clothing Store</td>\n      <td>Pub</td>\n      <td>Multiplex</td>\n      <td>Sandwich Place</td>\n      <td>Park</td>\n      <td>Supermarket</td>\n      <td>Furniture / Home Store</td>\n      <td>Coffee Shop</td>\n      <td>Optical Shop</td>\n      <td>Video Game Store</td>\n    </tr>\n    <tr>\n      <th>13</th>\n      <td>Kingswood Estate</td>\n      <td>Home Service</td>\n      <td>Train Station</td>\n      <td>Golf Course</td>\n      <td>Fish &amp; Chips Shop</td>\n      <td>Café</td>\n      <td>Furniture / Home Store</td>\n      <td>Donut Shop</td>\n      <td>Eastern European Restaurant</td>\n      <td>Electronics Store</td>\n      <td>English Restaurant</td>\n    </tr>\n    <tr>\n      <th>14</th>\n      <td>Lettsom Street</td>\n      <td>Park</td>\n      <td>Middle Eastern Restaurant</td>\n      <td>Coffee Shop</td>\n      <td>Café</td>\n      <td>Pub</td>\n      <td>Ethiopian Restaurant</td>\n      <td>Building</td>\n      <td>Garden</td>\n      <td>Italian Restaurant</td>\n      <td>Fish &amp; Chips Shop</td>\n    </tr>\n    <tr>\n      <th>15</th>\n      <td>New Wanstead</td>\n      <td>Bus Stop</td>\n      <td>Platform</td>\n      <td>Convenience Store</td>\n      <td>Pub</td>\n      <td>Chinese Restaurant</td>\n      <td>Supermarket</td>\n      <td>Kebab Restaurant</td>\n      <td>Furniture / Home Store</td>\n      <td>Fried Chicken Joint</td>\n      <td>Electronics Store</td>\n    </tr>\n    <tr>\n      <th>16</th>\n      <td>Plaistow Lane</td>\n      <td>Clothing Store</td>\n      <td>Coffee Shop</td>\n      <td>Gym / Fitness Center</td>\n      <td>Supermarket</td>\n      <td>Café</td>\n      <td>Chocolate Shop</td>\n      <td>Pub</td>\n      <td>Portuguese Restaurant</td>\n      <td>Pharmacy</td>\n      <td>Park</td>\n    </tr>\n    <tr>\n      <th>17</th>\n      <td>Sandford Road</td>\n      <td>Supermarket</td>\n      <td>Pub</td>\n      <td>Gastropub</td>\n      <td>Breakfast Spot</td>\n      <td>Italian Restaurant</td>\n      <td>Café</td>\n      <td>Bakery</td>\n      <td>Park</td>\n      <td>English Restaurant</td>\n      <td>Electronics Store</td>\n    </tr>\n    <tr>\n      <th>18</th>\n      <td>Sherfield Gardens</td>\n      <td>Grocery Store</td>\n      <td>Coffee Shop</td>\n      <td>Café</td>\n      <td>Pub</td>\n      <td>Pizza Place</td>\n      <td>Fast Food Restaurant</td>\n      <td>Fish &amp; Chips Shop</td>\n      <td>Dim Sum Restaurant</td>\n      <td>Metro Station</td>\n      <td>Thai Restaurant</td>\n    </tr>\n    <tr>\n      <th>19</th>\n      <td>Shurland Gardens Willowbrook Estate</td>\n      <td>Garden Center</td>\n      <td>Bakery</td>\n      <td>Train Station</td>\n      <td>Gift Shop</td>\n      <td>Furniture / Home Store</td>\n      <td>Donut Shop</td>\n      <td>Eastern European Restaurant</td>\n      <td>Electronics Store</td>\n      <td>English Restaurant</td>\n      <td>Ethiopian Restaurant</td>\n    </tr>\n    <tr>\n      <th>20</th>\n      <td>South Street</td>\n      <td>Pub</td>\n      <td>Park</td>\n      <td>Grocery Store</td>\n      <td>Convenience Store</td>\n      <td>Betting Shop</td>\n      <td>Café</td>\n      <td>Yoga Studio</td>\n      <td>Food Truck</td>\n      <td>Eastern European Restaurant</td>\n      <td>Electronics Store</td>\n    </tr>\n    <tr>\n      <th>21</th>\n      <td>Sydenham Road</td>\n      <td>Pizza Place</td>\n      <td>Pharmacy</td>\n      <td>Supermarket</td>\n      <td>Pub</td>\n      <td>Vietnamese Restaurant</td>\n      <td>Platform</td>\n      <td>Gym</td>\n      <td>Clothing Store</td>\n      <td>Coffee Shop</td>\n      <td>American Restaurant</td>\n    </tr>\n  </tbody>\n</table>\n</div>"
     },
     "metadata": {},
     "execution_count": 52
    }
   ],
   "source": [
    "num_top_venues = 10\n",
    "\n",
    "indicators = ['st', 'nd', 'rd']\n",
    "\n",
    "# create columns according to number of top venues\n",
    "columns = ['Neighborhood']\n",
    "for ind in np.arange(num_top_venues):\n",
    "    try:\n",
    "        columns.append('{}{} Most Common Venue'.format(ind+1, indicators[ind]))\n",
    "    except:\n",
    "        columns.append('{}th Most Common Venue'.format(ind+1))\n",
    "\n",
    "# create a new dataframe\n",
    "neighborhoods_venues_sorted = pd.DataFrame(columns=columns)\n",
    "neighborhoods_venues_sorted['Neighborhood'] = ld_grouped['Neighborhood']\n",
    "\n",
    "for ind in np.arange(ld_grouped.shape[0]):\n",
    "    neighborhoods_venues_sorted.iloc[ind, 1:] = return_most_common_venues(ld_grouped.iloc[ind, :], num_top_venues)\n",
    "\n",
    "neighborhoods_venues_sorted"
   ]
  },
  {
   "source": [
    "## K-MEANS CLUSTERING"
   ],
   "cell_type": "markdown",
   "metadata": {}
  },
  {
   "source": [
    "* Adding Raw_Price column to DataFrame"
   ],
   "cell_type": "markdown",
   "metadata": {}
  },
  {
   "cell_type": "code",
   "execution_count": 53,
   "metadata": {},
   "outputs": [],
   "source": [
    "k_means_feed=ld_grouped.merge(ld_data[['Neighborhood','Raw_Price']])"
   ]
  },
  {
   "cell_type": "code",
   "execution_count": 54,
   "metadata": {},
   "outputs": [
    {
     "output_type": "execute_result",
     "data": {
      "text/plain": [
       "                   Neighborhood  American Restaurant  Asian Restaurant  \\\n",
       "0               Adelaide Avenue                  0.0               0.0   \n",
       "1                   Anson Place                  0.0               0.0   \n",
       "2                Childeric Road                  0.0               0.0   \n",
       "3  Cutter Lane Chandlers Avenue                  0.0               0.0   \n",
       "4                 Disraeli Road                  0.0               0.0   \n",
       "\n",
       "   Athletics & Sports  Australian Restaurant    Bakery     Bar  Beer Store  \\\n",
       "0                 0.0                    0.0  0.068182  0.0000         0.0   \n",
       "1                 0.0                    0.0  0.050000  0.0000         0.0   \n",
       "2                 0.0                    0.0  0.071429  0.0000         0.0   \n",
       "3                 0.0                    0.0  0.000000  0.0000         0.0   \n",
       "4                 0.0                    0.0  0.000000  0.0625         0.0   \n",
       "\n",
       "   Betting Shop  Bookstore  Bowling Alley  Brazilian Restaurant  \\\n",
       "0           0.0   0.022727            0.0                   0.0   \n",
       "1           0.0   0.000000            0.0                   0.0   \n",
       "2           0.0   0.000000            0.0                   0.0   \n",
       "3           0.0   0.000000            0.0                   0.0   \n",
       "4           0.0   0.000000            0.0                   0.0   \n",
       "\n",
       "   Breakfast Spot   Brewery  Building  Burger Joint  Bus Station  Bus Stop  \\\n",
       "0             0.0  0.000000       0.0           0.0         0.00    0.0000   \n",
       "1             0.0  0.000000       0.0           0.0         0.05    0.1500   \n",
       "2             0.0  0.000000       0.0           0.0         0.00    0.0000   \n",
       "3             0.0  0.032258       0.0           0.0         0.00    0.0000   \n",
       "4             0.0  0.000000       0.0           0.0         0.00    0.0625   \n",
       "\n",
       "       Café  Caribbean Restaurant  Chinese Restaurant  Chocolate Shop  \\\n",
       "0  0.068182                   0.0              0.0000             0.0   \n",
       "1  0.000000                   0.0              0.0000             0.0   \n",
       "2  0.000000                   0.0              0.0000             0.0   \n",
       "3  0.032258                   0.0              0.0000             0.0   \n",
       "4  0.062500                   0.0              0.0625             0.0   \n",
       "\n",
       "   Clothing Store  Coffee Shop  Concert Hall  Convenience Store  \\\n",
       "0        0.068182     0.159091        0.0000             0.0000   \n",
       "1        0.000000     0.050000        0.0000             0.0000   \n",
       "2        0.071429     0.000000        0.0000             0.0000   \n",
       "3        0.000000     0.064516        0.0000             0.0000   \n",
       "4        0.000000     0.125000        0.0625             0.0625   \n",
       "\n",
       "   Cosmetics Shop  Deli / Bodega  Department Store  Dim Sum Restaurant  \\\n",
       "0             0.0            0.0          0.000000                 0.0   \n",
       "1             0.0            0.0          0.000000                 0.0   \n",
       "2             0.0            0.0          0.071429                 0.0   \n",
       "3             0.0            0.0          0.000000                 0.0   \n",
       "4             0.0            0.0          0.000000                 0.0   \n",
       "\n",
       "    Diner  Discount Store  Donut Shop  Eastern European Restaurant  \\\n",
       "0  0.0000             0.0         0.0                          0.0   \n",
       "1  0.0000             0.1         0.0                          0.0   \n",
       "2  0.0000             0.0         0.0                          0.0   \n",
       "3  0.0000             0.0         0.0                          0.0   \n",
       "4  0.0625             0.0         0.0                          0.0   \n",
       "\n",
       "   Electronics Store  English Restaurant  Ethiopian Restaurant  \\\n",
       "0                0.0            0.022727                   0.0   \n",
       "1                0.0            0.000000                   0.0   \n",
       "2                0.0            0.000000                   0.0   \n",
       "3                0.0            0.032258                   0.0   \n",
       "4                0.0            0.000000                   0.0   \n",
       "\n",
       "   Farmers Market  Fast Food Restaurant  Fish & Chips Shop  Flower Shop  \\\n",
       "0             0.0              0.000000                0.0          0.0   \n",
       "1             0.0              0.050000                0.0          0.0   \n",
       "2             0.0              0.071429                0.0          0.0   \n",
       "3             0.0              0.000000                0.0          0.0   \n",
       "4             0.0              0.000000                0.0          0.0   \n",
       "\n",
       "   Food Truck  Fried Chicken Joint  Furniture / Home Store  Garden  \\\n",
       "0         0.0               0.0000                     0.0     0.0   \n",
       "1         0.0               0.0500                     0.0     0.0   \n",
       "2         0.0               0.0000                     0.0     0.0   \n",
       "3         0.0               0.0000                     0.0     0.0   \n",
       "4         0.0               0.0625                     0.0     0.0   \n",
       "\n",
       "   Garden Center  Gastropub  Gelato Shop  Gift Shop  Golf Course  \\\n",
       "0            0.0   0.022727          0.0   0.000000          0.0   \n",
       "1            0.0   0.000000          0.0   0.000000          0.0   \n",
       "2            0.0   0.000000          0.0   0.071429          0.0   \n",
       "3            0.0   0.000000          0.0   0.000000          0.0   \n",
       "4            0.0   0.000000          0.0   0.000000          0.0   \n",
       "\n",
       "   Gourmet Shop  Grocery Store  Gym  Gym / Fitness Center  Halal Restaurant  \\\n",
       "0        0.0000       0.045455  0.0              0.022727               0.0   \n",
       "1        0.0000       0.100000  0.0              0.050000               0.0   \n",
       "2        0.0000       0.000000  0.0              0.071429               0.0   \n",
       "3        0.0000       0.161290  0.0              0.032258               0.0   \n",
       "4        0.0625       0.062500  0.0              0.000000               0.0   \n",
       "\n",
       "   Health Food Store  Hobby Shop  Home Service  Hotel  Hungarian Restaurant  \\\n",
       "0                0.0    0.022727           0.0    0.0                   0.0   \n",
       "1                0.0    0.000000           0.0    0.0                   0.0   \n",
       "2                0.0    0.000000           0.0    0.0                   0.0   \n",
       "3                0.0    0.000000           0.0    0.0                   0.0   \n",
       "4                0.0    0.000000           0.0    0.0                   0.0   \n",
       "\n",
       "   Ice Cream Shop  Indian Restaurant  Indoor Play Area  Irish Pub  \\\n",
       "0        0.022727           0.045455               0.0   0.000000   \n",
       "1        0.000000           0.000000               0.0   0.000000   \n",
       "2        0.000000           0.000000               0.0   0.000000   \n",
       "3        0.000000           0.064516               0.0   0.032258   \n",
       "4        0.000000           0.000000               0.0   0.000000   \n",
       "\n",
       "   Italian Restaurant  Japanese Restaurant  Jewelry Store  Kebab Restaurant  \\\n",
       "0            0.022727             0.068182            0.0               0.0   \n",
       "1            0.000000             0.000000            0.0               0.0   \n",
       "2            0.071429             0.000000            0.0               0.0   \n",
       "3            0.032258             0.032258            0.0               0.0   \n",
       "4            0.000000             0.000000            0.0               0.0   \n",
       "\n",
       "   Locksmith  Malay Restaurant  Market  Mediterranean Restaurant  \\\n",
       "0        0.0            0.0000     0.0                  0.000000   \n",
       "1        0.0            0.0000     0.0                  0.000000   \n",
       "2        0.0            0.0000     0.0                  0.142857   \n",
       "3        0.0            0.0000     0.0                  0.032258   \n",
       "4        0.0            0.0625     0.0                  0.000000   \n",
       "\n",
       "   Metro Station  Middle Eastern Restaurant  Mobile Phone Shop  Movie Theater  \\\n",
       "0            0.0                        0.0                0.0       0.000000   \n",
       "1            0.0                        0.0                0.0       0.000000   \n",
       "2            0.0                        0.0                0.0       0.071429   \n",
       "3            0.0                        0.0                0.0       0.000000   \n",
       "4            0.0                        0.0                0.0       0.000000   \n",
       "\n",
       "   Multiplex  Museum  Music Store  Music Venue  Newsstand  Optical Shop  Park  \\\n",
       "0        0.0     0.0          0.0          0.0     0.0000           0.0   0.0   \n",
       "1        0.0     0.0          0.0          0.0     0.0000           0.0   0.1   \n",
       "2        0.0     0.0          0.0          0.0     0.0000           0.0   0.0   \n",
       "3        0.0     0.0          0.0          0.0     0.0000           0.0   0.0   \n",
       "4        0.0     0.0          0.0          0.0     0.0625           0.0   0.0   \n",
       "\n",
       "   Pharmacy  Pie Shop      Pier  Pizza Place  Platform  Plaza  \\\n",
       "0  0.000000       0.0  0.000000     0.000000       0.0    0.0   \n",
       "1  0.000000       0.0  0.000000     0.000000       0.0    0.0   \n",
       "2  0.071429       0.0  0.000000     0.000000       0.0    0.0   \n",
       "3  0.000000       0.0  0.096774     0.032258       0.0    0.0   \n",
       "4  0.000000       0.0  0.000000     0.000000       0.0    0.0   \n",
       "\n",
       "   Portuguese Restaurant  Post Office       Pub  Recording Studio  \\\n",
       "0               0.000000          0.0  0.113636               0.0   \n",
       "1               0.000000          0.0  0.100000               0.0   \n",
       "2               0.071429          0.0  0.071429               0.0   \n",
       "3               0.000000          0.0  0.096774               0.0   \n",
       "4               0.000000          0.0  0.062500               0.0   \n",
       "\n",
       "   Recreation Center  Restaurant  Sandwich Place  Shopping Mall  Soccer Field  \\\n",
       "0           0.000000         0.0            0.00       0.022727           0.0   \n",
       "1           0.000000         0.0            0.05       0.000000           0.0   \n",
       "2           0.000000         0.0            0.00       0.000000           0.0   \n",
       "3           0.032258         0.0            0.00       0.000000           0.0   \n",
       "4           0.000000         0.0            0.00       0.000000           0.0   \n",
       "\n",
       "   South American Restaurant  South Indian Restaurant  Sporting Goods Shop  \\\n",
       "0                   0.022727                 0.000000                  0.0   \n",
       "1                   0.000000                 0.000000                  0.0   \n",
       "2                   0.000000                 0.000000                  0.0   \n",
       "3                   0.000000                 0.032258                  0.0   \n",
       "4                   0.000000                 0.000000                  0.0   \n",
       "\n",
       "   Supermarket  Sushi Restaurant  Tapas Restaurant  Tea Room  Tennis Court  \\\n",
       "0     0.022727          0.022727               0.0       0.0      0.022727   \n",
       "1     0.050000          0.000000               0.0       0.0      0.000000   \n",
       "2     0.071429          0.000000               0.0       0.0      0.000000   \n",
       "3     0.000000          0.000000               0.0       0.0      0.000000   \n",
       "4     0.000000          0.000000               0.0       0.0      0.000000   \n",
       "\n",
       "   Thai Restaurant   Theater  Thrift / Vintage Store  Train Station  \\\n",
       "0         0.000000  0.022727                    0.00       0.000000   \n",
       "1         0.000000  0.000000                    0.05       0.000000   \n",
       "2         0.000000  0.000000                    0.00       0.000000   \n",
       "3         0.032258  0.000000                    0.00       0.032258   \n",
       "4         0.000000  0.062500                    0.00       0.000000   \n",
       "\n",
       "   Turkish Restaurant  Video Game Store  Vietnamese Restaurant  \\\n",
       "0            0.000000          0.022727                    0.0   \n",
       "1            0.000000          0.000000                    0.0   \n",
       "2            0.000000          0.000000                    0.0   \n",
       "3            0.064516          0.000000                    0.0   \n",
       "4            0.000000          0.000000                    0.0   \n",
       "\n",
       "   Warehouse Store  Wine Bar  Wine Shop  Wings Joint  Yoga Studio  Raw_Price  \n",
       "0              0.0  0.022727   0.000000          0.0     0.022727       1450  \n",
       "1              0.0  0.000000   0.000000          0.0     0.000000       1300  \n",
       "2              0.0  0.000000   0.000000          0.0     0.000000       1900  \n",
       "3              0.0  0.000000   0.032258          0.0     0.000000       2990  \n",
       "4              0.0  0.000000   0.000000          0.0     0.000000       1400  "
      ],
      "text/html": "<div>\n<style scoped>\n    .dataframe tbody tr th:only-of-type {\n        vertical-align: middle;\n    }\n\n    .dataframe tbody tr th {\n        vertical-align: top;\n    }\n\n    .dataframe thead th {\n        text-align: right;\n    }\n</style>\n<table border=\"1\" class=\"dataframe\">\n  <thead>\n    <tr style=\"text-align: right;\">\n      <th></th>\n      <th>Neighborhood</th>\n      <th>American Restaurant</th>\n      <th>Asian Restaurant</th>\n      <th>Athletics &amp; Sports</th>\n      <th>Australian Restaurant</th>\n      <th>Bakery</th>\n      <th>Bar</th>\n      <th>Beer Store</th>\n      <th>Betting Shop</th>\n      <th>Bookstore</th>\n      <th>Bowling Alley</th>\n      <th>Brazilian Restaurant</th>\n      <th>Breakfast Spot</th>\n      <th>Brewery</th>\n      <th>Building</th>\n      <th>Burger Joint</th>\n      <th>Bus Station</th>\n      <th>Bus Stop</th>\n      <th>Café</th>\n      <th>Caribbean Restaurant</th>\n      <th>Chinese Restaurant</th>\n      <th>Chocolate Shop</th>\n      <th>Clothing Store</th>\n      <th>Coffee Shop</th>\n      <th>Concert Hall</th>\n      <th>Convenience Store</th>\n      <th>Cosmetics Shop</th>\n      <th>Deli / Bodega</th>\n      <th>Department Store</th>\n      <th>Dim Sum Restaurant</th>\n      <th>Diner</th>\n      <th>Discount Store</th>\n      <th>Donut Shop</th>\n      <th>Eastern European Restaurant</th>\n      <th>Electronics Store</th>\n      <th>English Restaurant</th>\n      <th>Ethiopian Restaurant</th>\n      <th>Farmers Market</th>\n      <th>Fast Food Restaurant</th>\n      <th>Fish &amp; Chips Shop</th>\n      <th>Flower Shop</th>\n      <th>Food Truck</th>\n      <th>Fried Chicken Joint</th>\n      <th>Furniture / Home Store</th>\n      <th>Garden</th>\n      <th>Garden Center</th>\n      <th>Gastropub</th>\n      <th>Gelato Shop</th>\n      <th>Gift Shop</th>\n      <th>Golf Course</th>\n      <th>Gourmet Shop</th>\n      <th>Grocery Store</th>\n      <th>Gym</th>\n      <th>Gym / Fitness Center</th>\n      <th>Halal Restaurant</th>\n      <th>Health Food Store</th>\n      <th>Hobby Shop</th>\n      <th>Home Service</th>\n      <th>Hotel</th>\n      <th>Hungarian Restaurant</th>\n      <th>Ice Cream Shop</th>\n      <th>Indian Restaurant</th>\n      <th>Indoor Play Area</th>\n      <th>Irish Pub</th>\n      <th>Italian Restaurant</th>\n      <th>Japanese Restaurant</th>\n      <th>Jewelry Store</th>\n      <th>Kebab Restaurant</th>\n      <th>Locksmith</th>\n      <th>Malay Restaurant</th>\n      <th>Market</th>\n      <th>Mediterranean Restaurant</th>\n      <th>Metro Station</th>\n      <th>Middle Eastern Restaurant</th>\n      <th>Mobile Phone Shop</th>\n      <th>Movie Theater</th>\n      <th>Multiplex</th>\n      <th>Museum</th>\n      <th>Music Store</th>\n      <th>Music Venue</th>\n      <th>Newsstand</th>\n      <th>Optical Shop</th>\n      <th>Park</th>\n      <th>Pharmacy</th>\n      <th>Pie Shop</th>\n      <th>Pier</th>\n      <th>Pizza Place</th>\n      <th>Platform</th>\n      <th>Plaza</th>\n      <th>Portuguese Restaurant</th>\n      <th>Post Office</th>\n      <th>Pub</th>\n      <th>Recording Studio</th>\n      <th>Recreation Center</th>\n      <th>Restaurant</th>\n      <th>Sandwich Place</th>\n      <th>Shopping Mall</th>\n      <th>Soccer Field</th>\n      <th>South American Restaurant</th>\n      <th>South Indian Restaurant</th>\n      <th>Sporting Goods Shop</th>\n      <th>Supermarket</th>\n      <th>Sushi Restaurant</th>\n      <th>Tapas Restaurant</th>\n      <th>Tea Room</th>\n      <th>Tennis Court</th>\n      <th>Thai Restaurant</th>\n      <th>Theater</th>\n      <th>Thrift / Vintage Store</th>\n      <th>Train Station</th>\n      <th>Turkish Restaurant</th>\n      <th>Video Game Store</th>\n      <th>Vietnamese Restaurant</th>\n      <th>Warehouse Store</th>\n      <th>Wine Bar</th>\n      <th>Wine Shop</th>\n      <th>Wings Joint</th>\n      <th>Yoga Studio</th>\n      <th>Raw_Price</th>\n    </tr>\n  </thead>\n  <tbody>\n    <tr>\n      <th>0</th>\n      <td>Adelaide Avenue</td>\n      <td>0.0</td>\n      <td>0.0</td>\n      <td>0.0</td>\n      <td>0.0</td>\n      <td>0.068182</td>\n      <td>0.0000</td>\n      <td>0.0</td>\n      <td>0.0</td>\n      <td>0.022727</td>\n      <td>0.0</td>\n      <td>0.0</td>\n      <td>0.0</td>\n      <td>0.000000</td>\n      <td>0.0</td>\n      <td>0.0</td>\n      <td>0.00</td>\n      <td>0.0000</td>\n      <td>0.068182</td>\n      <td>0.0</td>\n      <td>0.0000</td>\n      <td>0.0</td>\n      <td>0.068182</td>\n      <td>0.159091</td>\n      <td>0.0000</td>\n      <td>0.0000</td>\n      <td>0.0</td>\n      <td>0.0</td>\n      <td>0.000000</td>\n      <td>0.0</td>\n      <td>0.0000</td>\n      <td>0.0</td>\n      <td>0.0</td>\n      <td>0.0</td>\n      <td>0.0</td>\n      <td>0.022727</td>\n      <td>0.0</td>\n      <td>0.0</td>\n      <td>0.000000</td>\n      <td>0.0</td>\n      <td>0.0</td>\n      <td>0.0</td>\n      <td>0.0000</td>\n      <td>0.0</td>\n      <td>0.0</td>\n      <td>0.0</td>\n      <td>0.022727</td>\n      <td>0.0</td>\n      <td>0.000000</td>\n      <td>0.0</td>\n      <td>0.0000</td>\n      <td>0.045455</td>\n      <td>0.0</td>\n      <td>0.022727</td>\n      <td>0.0</td>\n      <td>0.0</td>\n      <td>0.022727</td>\n      <td>0.0</td>\n      <td>0.0</td>\n      <td>0.0</td>\n      <td>0.022727</td>\n      <td>0.045455</td>\n      <td>0.0</td>\n      <td>0.000000</td>\n      <td>0.022727</td>\n      <td>0.068182</td>\n      <td>0.0</td>\n      <td>0.0</td>\n      <td>0.0</td>\n      <td>0.0000</td>\n      <td>0.0</td>\n      <td>0.000000</td>\n      <td>0.0</td>\n      <td>0.0</td>\n      <td>0.0</td>\n      <td>0.000000</td>\n      <td>0.0</td>\n      <td>0.0</td>\n      <td>0.0</td>\n      <td>0.0</td>\n      <td>0.0000</td>\n      <td>0.0</td>\n      <td>0.0</td>\n      <td>0.000000</td>\n      <td>0.0</td>\n      <td>0.000000</td>\n      <td>0.000000</td>\n      <td>0.0</td>\n      <td>0.0</td>\n      <td>0.000000</td>\n      <td>0.0</td>\n      <td>0.113636</td>\n      <td>0.0</td>\n      <td>0.000000</td>\n      <td>0.0</td>\n      <td>0.00</td>\n      <td>0.022727</td>\n      <td>0.0</td>\n      <td>0.022727</td>\n      <td>0.000000</td>\n      <td>0.0</td>\n      <td>0.022727</td>\n      <td>0.022727</td>\n      <td>0.0</td>\n      <td>0.0</td>\n      <td>0.022727</td>\n      <td>0.000000</td>\n      <td>0.022727</td>\n      <td>0.00</td>\n      <td>0.000000</td>\n      <td>0.000000</td>\n      <td>0.022727</td>\n      <td>0.0</td>\n      <td>0.0</td>\n      <td>0.022727</td>\n      <td>0.000000</td>\n      <td>0.0</td>\n      <td>0.022727</td>\n      <td>1450</td>\n    </tr>\n    <tr>\n      <th>1</th>\n      <td>Anson Place</td>\n      <td>0.0</td>\n      <td>0.0</td>\n      <td>0.0</td>\n      <td>0.0</td>\n      <td>0.050000</td>\n      <td>0.0000</td>\n      <td>0.0</td>\n      <td>0.0</td>\n      <td>0.000000</td>\n      <td>0.0</td>\n      <td>0.0</td>\n      <td>0.0</td>\n      <td>0.000000</td>\n      <td>0.0</td>\n      <td>0.0</td>\n      <td>0.05</td>\n      <td>0.1500</td>\n      <td>0.000000</td>\n      <td>0.0</td>\n      <td>0.0000</td>\n      <td>0.0</td>\n      <td>0.000000</td>\n      <td>0.050000</td>\n      <td>0.0000</td>\n      <td>0.0000</td>\n      <td>0.0</td>\n      <td>0.0</td>\n      <td>0.000000</td>\n      <td>0.0</td>\n      <td>0.0000</td>\n      <td>0.1</td>\n      <td>0.0</td>\n      <td>0.0</td>\n      <td>0.0</td>\n      <td>0.000000</td>\n      <td>0.0</td>\n      <td>0.0</td>\n      <td>0.050000</td>\n      <td>0.0</td>\n      <td>0.0</td>\n      <td>0.0</td>\n      <td>0.0500</td>\n      <td>0.0</td>\n      <td>0.0</td>\n      <td>0.0</td>\n      <td>0.000000</td>\n      <td>0.0</td>\n      <td>0.000000</td>\n      <td>0.0</td>\n      <td>0.0000</td>\n      <td>0.100000</td>\n      <td>0.0</td>\n      <td>0.050000</td>\n      <td>0.0</td>\n      <td>0.0</td>\n      <td>0.000000</td>\n      <td>0.0</td>\n      <td>0.0</td>\n      <td>0.0</td>\n      <td>0.000000</td>\n      <td>0.000000</td>\n      <td>0.0</td>\n      <td>0.000000</td>\n      <td>0.000000</td>\n      <td>0.000000</td>\n      <td>0.0</td>\n      <td>0.0</td>\n      <td>0.0</td>\n      <td>0.0000</td>\n      <td>0.0</td>\n      <td>0.000000</td>\n      <td>0.0</td>\n      <td>0.0</td>\n      <td>0.0</td>\n      <td>0.000000</td>\n      <td>0.0</td>\n      <td>0.0</td>\n      <td>0.0</td>\n      <td>0.0</td>\n      <td>0.0000</td>\n      <td>0.0</td>\n      <td>0.1</td>\n      <td>0.000000</td>\n      <td>0.0</td>\n      <td>0.000000</td>\n      <td>0.000000</td>\n      <td>0.0</td>\n      <td>0.0</td>\n      <td>0.000000</td>\n      <td>0.0</td>\n      <td>0.100000</td>\n      <td>0.0</td>\n      <td>0.000000</td>\n      <td>0.0</td>\n      <td>0.05</td>\n      <td>0.000000</td>\n      <td>0.0</td>\n      <td>0.000000</td>\n      <td>0.000000</td>\n      <td>0.0</td>\n      <td>0.050000</td>\n      <td>0.000000</td>\n      <td>0.0</td>\n      <td>0.0</td>\n      <td>0.000000</td>\n      <td>0.000000</td>\n      <td>0.000000</td>\n      <td>0.05</td>\n      <td>0.000000</td>\n      <td>0.000000</td>\n      <td>0.000000</td>\n      <td>0.0</td>\n      <td>0.0</td>\n      <td>0.000000</td>\n      <td>0.000000</td>\n      <td>0.0</td>\n      <td>0.000000</td>\n      <td>1300</td>\n    </tr>\n    <tr>\n      <th>2</th>\n      <td>Childeric Road</td>\n      <td>0.0</td>\n      <td>0.0</td>\n      <td>0.0</td>\n      <td>0.0</td>\n      <td>0.071429</td>\n      <td>0.0000</td>\n      <td>0.0</td>\n      <td>0.0</td>\n      <td>0.000000</td>\n      <td>0.0</td>\n      <td>0.0</td>\n      <td>0.0</td>\n      <td>0.000000</td>\n      <td>0.0</td>\n      <td>0.0</td>\n      <td>0.00</td>\n      <td>0.0000</td>\n      <td>0.000000</td>\n      <td>0.0</td>\n      <td>0.0000</td>\n      <td>0.0</td>\n      <td>0.071429</td>\n      <td>0.000000</td>\n      <td>0.0000</td>\n      <td>0.0000</td>\n      <td>0.0</td>\n      <td>0.0</td>\n      <td>0.071429</td>\n      <td>0.0</td>\n      <td>0.0000</td>\n      <td>0.0</td>\n      <td>0.0</td>\n      <td>0.0</td>\n      <td>0.0</td>\n      <td>0.000000</td>\n      <td>0.0</td>\n      <td>0.0</td>\n      <td>0.071429</td>\n      <td>0.0</td>\n      <td>0.0</td>\n      <td>0.0</td>\n      <td>0.0000</td>\n      <td>0.0</td>\n      <td>0.0</td>\n      <td>0.0</td>\n      <td>0.000000</td>\n      <td>0.0</td>\n      <td>0.071429</td>\n      <td>0.0</td>\n      <td>0.0000</td>\n      <td>0.000000</td>\n      <td>0.0</td>\n      <td>0.071429</td>\n      <td>0.0</td>\n      <td>0.0</td>\n      <td>0.000000</td>\n      <td>0.0</td>\n      <td>0.0</td>\n      <td>0.0</td>\n      <td>0.000000</td>\n      <td>0.000000</td>\n      <td>0.0</td>\n      <td>0.000000</td>\n      <td>0.071429</td>\n      <td>0.000000</td>\n      <td>0.0</td>\n      <td>0.0</td>\n      <td>0.0</td>\n      <td>0.0000</td>\n      <td>0.0</td>\n      <td>0.142857</td>\n      <td>0.0</td>\n      <td>0.0</td>\n      <td>0.0</td>\n      <td>0.071429</td>\n      <td>0.0</td>\n      <td>0.0</td>\n      <td>0.0</td>\n      <td>0.0</td>\n      <td>0.0000</td>\n      <td>0.0</td>\n      <td>0.0</td>\n      <td>0.071429</td>\n      <td>0.0</td>\n      <td>0.000000</td>\n      <td>0.000000</td>\n      <td>0.0</td>\n      <td>0.0</td>\n      <td>0.071429</td>\n      <td>0.0</td>\n      <td>0.071429</td>\n      <td>0.0</td>\n      <td>0.000000</td>\n      <td>0.0</td>\n      <td>0.00</td>\n      <td>0.000000</td>\n      <td>0.0</td>\n      <td>0.000000</td>\n      <td>0.000000</td>\n      <td>0.0</td>\n      <td>0.071429</td>\n      <td>0.000000</td>\n      <td>0.0</td>\n      <td>0.0</td>\n      <td>0.000000</td>\n      <td>0.000000</td>\n      <td>0.000000</td>\n      <td>0.00</td>\n      <td>0.000000</td>\n      <td>0.000000</td>\n      <td>0.000000</td>\n      <td>0.0</td>\n      <td>0.0</td>\n      <td>0.000000</td>\n      <td>0.000000</td>\n      <td>0.0</td>\n      <td>0.000000</td>\n      <td>1900</td>\n    </tr>\n    <tr>\n      <th>3</th>\n      <td>Cutter Lane Chandlers Avenue</td>\n      <td>0.0</td>\n      <td>0.0</td>\n      <td>0.0</td>\n      <td>0.0</td>\n      <td>0.000000</td>\n      <td>0.0000</td>\n      <td>0.0</td>\n      <td>0.0</td>\n      <td>0.000000</td>\n      <td>0.0</td>\n      <td>0.0</td>\n      <td>0.0</td>\n      <td>0.032258</td>\n      <td>0.0</td>\n      <td>0.0</td>\n      <td>0.00</td>\n      <td>0.0000</td>\n      <td>0.032258</td>\n      <td>0.0</td>\n      <td>0.0000</td>\n      <td>0.0</td>\n      <td>0.000000</td>\n      <td>0.064516</td>\n      <td>0.0000</td>\n      <td>0.0000</td>\n      <td>0.0</td>\n      <td>0.0</td>\n      <td>0.000000</td>\n      <td>0.0</td>\n      <td>0.0000</td>\n      <td>0.0</td>\n      <td>0.0</td>\n      <td>0.0</td>\n      <td>0.0</td>\n      <td>0.032258</td>\n      <td>0.0</td>\n      <td>0.0</td>\n      <td>0.000000</td>\n      <td>0.0</td>\n      <td>0.0</td>\n      <td>0.0</td>\n      <td>0.0000</td>\n      <td>0.0</td>\n      <td>0.0</td>\n      <td>0.0</td>\n      <td>0.000000</td>\n      <td>0.0</td>\n      <td>0.000000</td>\n      <td>0.0</td>\n      <td>0.0000</td>\n      <td>0.161290</td>\n      <td>0.0</td>\n      <td>0.032258</td>\n      <td>0.0</td>\n      <td>0.0</td>\n      <td>0.000000</td>\n      <td>0.0</td>\n      <td>0.0</td>\n      <td>0.0</td>\n      <td>0.000000</td>\n      <td>0.064516</td>\n      <td>0.0</td>\n      <td>0.032258</td>\n      <td>0.032258</td>\n      <td>0.032258</td>\n      <td>0.0</td>\n      <td>0.0</td>\n      <td>0.0</td>\n      <td>0.0000</td>\n      <td>0.0</td>\n      <td>0.032258</td>\n      <td>0.0</td>\n      <td>0.0</td>\n      <td>0.0</td>\n      <td>0.000000</td>\n      <td>0.0</td>\n      <td>0.0</td>\n      <td>0.0</td>\n      <td>0.0</td>\n      <td>0.0000</td>\n      <td>0.0</td>\n      <td>0.0</td>\n      <td>0.000000</td>\n      <td>0.0</td>\n      <td>0.096774</td>\n      <td>0.032258</td>\n      <td>0.0</td>\n      <td>0.0</td>\n      <td>0.000000</td>\n      <td>0.0</td>\n      <td>0.096774</td>\n      <td>0.0</td>\n      <td>0.032258</td>\n      <td>0.0</td>\n      <td>0.00</td>\n      <td>0.000000</td>\n      <td>0.0</td>\n      <td>0.000000</td>\n      <td>0.032258</td>\n      <td>0.0</td>\n      <td>0.000000</td>\n      <td>0.000000</td>\n      <td>0.0</td>\n      <td>0.0</td>\n      <td>0.000000</td>\n      <td>0.032258</td>\n      <td>0.000000</td>\n      <td>0.00</td>\n      <td>0.032258</td>\n      <td>0.064516</td>\n      <td>0.000000</td>\n      <td>0.0</td>\n      <td>0.0</td>\n      <td>0.000000</td>\n      <td>0.032258</td>\n      <td>0.0</td>\n      <td>0.000000</td>\n      <td>2990</td>\n    </tr>\n    <tr>\n      <th>4</th>\n      <td>Disraeli Road</td>\n      <td>0.0</td>\n      <td>0.0</td>\n      <td>0.0</td>\n      <td>0.0</td>\n      <td>0.000000</td>\n      <td>0.0625</td>\n      <td>0.0</td>\n      <td>0.0</td>\n      <td>0.000000</td>\n      <td>0.0</td>\n      <td>0.0</td>\n      <td>0.0</td>\n      <td>0.000000</td>\n      <td>0.0</td>\n      <td>0.0</td>\n      <td>0.00</td>\n      <td>0.0625</td>\n      <td>0.062500</td>\n      <td>0.0</td>\n      <td>0.0625</td>\n      <td>0.0</td>\n      <td>0.000000</td>\n      <td>0.125000</td>\n      <td>0.0625</td>\n      <td>0.0625</td>\n      <td>0.0</td>\n      <td>0.0</td>\n      <td>0.000000</td>\n      <td>0.0</td>\n      <td>0.0625</td>\n      <td>0.0</td>\n      <td>0.0</td>\n      <td>0.0</td>\n      <td>0.0</td>\n      <td>0.000000</td>\n      <td>0.0</td>\n      <td>0.0</td>\n      <td>0.000000</td>\n      <td>0.0</td>\n      <td>0.0</td>\n      <td>0.0</td>\n      <td>0.0625</td>\n      <td>0.0</td>\n      <td>0.0</td>\n      <td>0.0</td>\n      <td>0.000000</td>\n      <td>0.0</td>\n      <td>0.000000</td>\n      <td>0.0</td>\n      <td>0.0625</td>\n      <td>0.062500</td>\n      <td>0.0</td>\n      <td>0.000000</td>\n      <td>0.0</td>\n      <td>0.0</td>\n      <td>0.000000</td>\n      <td>0.0</td>\n      <td>0.0</td>\n      <td>0.0</td>\n      <td>0.000000</td>\n      <td>0.000000</td>\n      <td>0.0</td>\n      <td>0.000000</td>\n      <td>0.000000</td>\n      <td>0.000000</td>\n      <td>0.0</td>\n      <td>0.0</td>\n      <td>0.0</td>\n      <td>0.0625</td>\n      <td>0.0</td>\n      <td>0.000000</td>\n      <td>0.0</td>\n      <td>0.0</td>\n      <td>0.0</td>\n      <td>0.000000</td>\n      <td>0.0</td>\n      <td>0.0</td>\n      <td>0.0</td>\n      <td>0.0</td>\n      <td>0.0625</td>\n      <td>0.0</td>\n      <td>0.0</td>\n      <td>0.000000</td>\n      <td>0.0</td>\n      <td>0.000000</td>\n      <td>0.000000</td>\n      <td>0.0</td>\n      <td>0.0</td>\n      <td>0.000000</td>\n      <td>0.0</td>\n      <td>0.062500</td>\n      <td>0.0</td>\n      <td>0.000000</td>\n      <td>0.0</td>\n      <td>0.00</td>\n      <td>0.000000</td>\n      <td>0.0</td>\n      <td>0.000000</td>\n      <td>0.000000</td>\n      <td>0.0</td>\n      <td>0.000000</td>\n      <td>0.000000</td>\n      <td>0.0</td>\n      <td>0.0</td>\n      <td>0.000000</td>\n      <td>0.000000</td>\n      <td>0.062500</td>\n      <td>0.00</td>\n      <td>0.000000</td>\n      <td>0.000000</td>\n      <td>0.000000</td>\n      <td>0.0</td>\n      <td>0.0</td>\n      <td>0.000000</td>\n      <td>0.000000</td>\n      <td>0.0</td>\n      <td>0.000000</td>\n      <td>1400</td>\n    </tr>\n  </tbody>\n</table>\n</div>"
     },
     "metadata": {},
     "execution_count": 54
    }
   ],
   "source": [
    "k_means_feed.head()"
   ]
  },
  {
   "source": [
    "* Here we can see that, since Raw_Price is not proportionately scaled with the rest of the data, it will significantly skew the clustering process to a highly cost-centered output. To avoid such skewness, we apply StandardScaler to ensure that all numerical inputs are in scale."
   ],
   "cell_type": "markdown",
   "metadata": {}
  },
  {
   "cell_type": "code",
   "execution_count": 55,
   "metadata": {},
   "outputs": [],
   "source": [
    "from sklearn.preprocessing import StandardScaler\n",
    "scaler=StandardScaler()\n",
    "k_means_feed_scaled=scaler.fit_transform(k_means_feed.drop('Neighborhood',1))"
   ]
  },
  {
   "cell_type": "code",
   "execution_count": 56,
   "metadata": {},
   "outputs": [
    {
     "output_type": "execute_result",
     "data": {
      "text/plain": [
       "array([[-0.3159668 , -0.24225079, -0.30465356, ..., -0.21821789,\n",
       "         4.58257569, -0.26727577],\n",
       "       [-0.3159668 , -0.24225079, -0.30465356, ..., -0.21821789,\n",
       "        -0.21821789, -0.51207456],\n",
       "       [-0.3159668 , -0.24225079, -0.30465356, ..., -0.21821789,\n",
       "        -0.21821789,  0.4671206 ],\n",
       "       ...,\n",
       "       [-0.3159668 , -0.24225079, -0.30465356, ..., -0.21821789,\n",
       "        -0.21821789, -0.43047496],\n",
       "       [-0.3159668 , -0.24225079, -0.30465356, ..., -0.21821789,\n",
       "        -0.21821789, -0.67527375],\n",
       "       [ 3.29438252, -0.24225079,  2.15744461, ..., -0.21821789,\n",
       "        -0.21821789, -0.38967516]])"
      ]
     },
     "metadata": {},
     "execution_count": 56
    }
   ],
   "source": [
    "k_means_feed_scaled"
   ]
  },
  {
   "cell_type": "code",
   "execution_count": 412,
   "metadata": {},
   "outputs": [
    {
     "output_type": "display_data",
     "data": {
      "text/plain": "<Figure size 720x360 with 1 Axes>",
      "image/svg+xml": "<?xml version=\"1.0\" encoding=\"utf-8\" standalone=\"no\"?>\r\n<!DOCTYPE svg PUBLIC \"-//W3C//DTD SVG 1.1//EN\"\r\n  \"http://www.w3.org/Graphics/SVG/1.1/DTD/svg11.dtd\">\r\n<!-- Created with matplotlib (https://matplotlib.org/) -->\r\n<svg height=\"316.55625pt\" version=\"1.1\" viewBox=\"0 0 615.34375 316.55625\" width=\"615.34375pt\" xmlns=\"http://www.w3.org/2000/svg\" xmlns:xlink=\"http://www.w3.org/1999/xlink\">\r\n <metadata>\r\n  <rdf:RDF xmlns:cc=\"http://creativecommons.org/ns#\" xmlns:dc=\"http://purl.org/dc/elements/1.1/\" xmlns:rdf=\"http://www.w3.org/1999/02/22-rdf-syntax-ns#\">\r\n   <cc:Work>\r\n    <dc:type rdf:resource=\"http://purl.org/dc/dcmitype/StillImage\"/>\r\n    <dc:date>2021-05-21T19:46:01.132468</dc:date>\r\n    <dc:format>image/svg+xml</dc:format>\r\n    <dc:creator>\r\n     <cc:Agent>\r\n      <dc:title>Matplotlib v3.3.2, https://matplotlib.org/</dc:title>\r\n     </cc:Agent>\r\n    </dc:creator>\r\n   </cc:Work>\r\n  </rdf:RDF>\r\n </metadata>\r\n <defs>\r\n  <style type=\"text/css\">*{stroke-linecap:butt;stroke-linejoin:round;}</style>\r\n </defs>\r\n <g id=\"figure_1\">\r\n  <g id=\"patch_1\">\r\n   <path d=\"M 0 316.55625 \r\nL 615.34375 316.55625 \r\nL 615.34375 0 \r\nL 0 0 \r\nz\r\n\" style=\"fill:none;\"/>\r\n  </g>\r\n  <g id=\"axes_1\">\r\n   <g id=\"patch_2\">\r\n    <path d=\"M 50.14375 279 \r\nL 608.14375 279 \r\nL 608.14375 7.2 \r\nL 50.14375 7.2 \r\nz\r\n\" style=\"fill:#ffffff;\"/>\r\n   </g>\r\n   <g id=\"matplotlib.axis_1\">\r\n    <g id=\"xtick_1\">\r\n     <g id=\"line2d_1\">\r\n      <defs>\r\n       <path d=\"M 0 0 \r\nL 0 3.5 \r\n\" id=\"m108d3c94ca\" style=\"stroke:#000000;stroke-width:0.8;\"/>\r\n      </defs>\r\n      <g>\r\n       <use style=\"stroke:#000000;stroke-width:0.8;\" x=\"75.507386\" xlink:href=\"#m108d3c94ca\" y=\"279\"/>\r\n      </g>\r\n     </g>\r\n     <g id=\"text_1\">\r\n      <!-- 2 -->\r\n      <g transform=\"translate(72.326136 293.598437)scale(0.1 -0.1)\">\r\n       <defs>\r\n        <path d=\"M 19.1875 8.296875 \r\nL 53.609375 8.296875 \r\nL 53.609375 0 \r\nL 7.328125 0 \r\nL 7.328125 8.296875 \r\nQ 12.9375 14.109375 22.625 23.890625 \r\nQ 32.328125 33.6875 34.8125 36.53125 \r\nQ 39.546875 41.84375 41.421875 45.53125 \r\nQ 43.3125 49.21875 43.3125 52.78125 \r\nQ 43.3125 58.59375 39.234375 62.25 \r\nQ 35.15625 65.921875 28.609375 65.921875 \r\nQ 23.96875 65.921875 18.8125 64.3125 \r\nQ 13.671875 62.703125 7.8125 59.421875 \r\nL 7.8125 69.390625 \r\nQ 13.765625 71.78125 18.9375 73 \r\nQ 24.125 74.21875 28.421875 74.21875 \r\nQ 39.75 74.21875 46.484375 68.546875 \r\nQ 53.21875 62.890625 53.21875 53.421875 \r\nQ 53.21875 48.921875 51.53125 44.890625 \r\nQ 49.859375 40.875 45.40625 35.40625 \r\nQ 44.1875 33.984375 37.640625 27.21875 \r\nQ 31.109375 20.453125 19.1875 8.296875 \r\nz\r\n\" id=\"DejaVuSans-50\"/>\r\n       </defs>\r\n       <use xlink:href=\"#DejaVuSans-50\"/>\r\n      </g>\r\n     </g>\r\n    </g>\r\n    <g id=\"xtick_2\">\r\n     <g id=\"line2d_2\">\r\n      <g>\r\n       <use style=\"stroke:#000000;stroke-width:0.8;\" x=\"147.974919\" xlink:href=\"#m108d3c94ca\" y=\"279\"/>\r\n      </g>\r\n     </g>\r\n     <g id=\"text_2\">\r\n      <!-- 3 -->\r\n      <g transform=\"translate(144.793669 293.598437)scale(0.1 -0.1)\">\r\n       <defs>\r\n        <path d=\"M 40.578125 39.3125 \r\nQ 47.65625 37.796875 51.625 33 \r\nQ 55.609375 28.21875 55.609375 21.1875 \r\nQ 55.609375 10.40625 48.1875 4.484375 \r\nQ 40.765625 -1.421875 27.09375 -1.421875 \r\nQ 22.515625 -1.421875 17.65625 -0.515625 \r\nQ 12.796875 0.390625 7.625 2.203125 \r\nL 7.625 11.71875 \r\nQ 11.71875 9.328125 16.59375 8.109375 \r\nQ 21.484375 6.890625 26.8125 6.890625 \r\nQ 36.078125 6.890625 40.9375 10.546875 \r\nQ 45.796875 14.203125 45.796875 21.1875 \r\nQ 45.796875 27.640625 41.28125 31.265625 \r\nQ 36.765625 34.90625 28.71875 34.90625 \r\nL 20.21875 34.90625 \r\nL 20.21875 43.015625 \r\nL 29.109375 43.015625 \r\nQ 36.375 43.015625 40.234375 45.921875 \r\nQ 44.09375 48.828125 44.09375 54.296875 \r\nQ 44.09375 59.90625 40.109375 62.90625 \r\nQ 36.140625 65.921875 28.71875 65.921875 \r\nQ 24.65625 65.921875 20.015625 65.03125 \r\nQ 15.375 64.15625 9.8125 62.3125 \r\nL 9.8125 71.09375 \r\nQ 15.4375 72.65625 20.34375 73.4375 \r\nQ 25.25 74.21875 29.59375 74.21875 \r\nQ 40.828125 74.21875 47.359375 69.109375 \r\nQ 53.90625 64.015625 53.90625 55.328125 \r\nQ 53.90625 49.265625 50.4375 45.09375 \r\nQ 46.96875 40.921875 40.578125 39.3125 \r\nz\r\n\" id=\"DejaVuSans-51\"/>\r\n       </defs>\r\n       <use xlink:href=\"#DejaVuSans-51\"/>\r\n      </g>\r\n     </g>\r\n    </g>\r\n    <g id=\"xtick_3\">\r\n     <g id=\"line2d_3\">\r\n      <g>\r\n       <use style=\"stroke:#000000;stroke-width:0.8;\" x=\"220.442451\" xlink:href=\"#m108d3c94ca\" y=\"279\"/>\r\n      </g>\r\n     </g>\r\n     <g id=\"text_3\">\r\n      <!-- 4 -->\r\n      <g transform=\"translate(217.261201 293.598437)scale(0.1 -0.1)\">\r\n       <defs>\r\n        <path d=\"M 37.796875 64.3125 \r\nL 12.890625 25.390625 \r\nL 37.796875 25.390625 \r\nz\r\nM 35.203125 72.90625 \r\nL 47.609375 72.90625 \r\nL 47.609375 25.390625 \r\nL 58.015625 25.390625 \r\nL 58.015625 17.1875 \r\nL 47.609375 17.1875 \r\nL 47.609375 0 \r\nL 37.796875 0 \r\nL 37.796875 17.1875 \r\nL 4.890625 17.1875 \r\nL 4.890625 26.703125 \r\nz\r\n\" id=\"DejaVuSans-52\"/>\r\n       </defs>\r\n       <use xlink:href=\"#DejaVuSans-52\"/>\r\n      </g>\r\n     </g>\r\n    </g>\r\n    <g id=\"xtick_4\">\r\n     <g id=\"line2d_4\">\r\n      <g>\r\n       <use style=\"stroke:#000000;stroke-width:0.8;\" x=\"292.909984\" xlink:href=\"#m108d3c94ca\" y=\"279\"/>\r\n      </g>\r\n     </g>\r\n     <g id=\"text_4\">\r\n      <!-- 5 -->\r\n      <g transform=\"translate(289.728734 293.598437)scale(0.1 -0.1)\">\r\n       <defs>\r\n        <path d=\"M 10.796875 72.90625 \r\nL 49.515625 72.90625 \r\nL 49.515625 64.59375 \r\nL 19.828125 64.59375 \r\nL 19.828125 46.734375 \r\nQ 21.96875 47.46875 24.109375 47.828125 \r\nQ 26.265625 48.1875 28.421875 48.1875 \r\nQ 40.625 48.1875 47.75 41.5 \r\nQ 54.890625 34.8125 54.890625 23.390625 \r\nQ 54.890625 11.625 47.5625 5.09375 \r\nQ 40.234375 -1.421875 26.90625 -1.421875 \r\nQ 22.3125 -1.421875 17.546875 -0.640625 \r\nQ 12.796875 0.140625 7.71875 1.703125 \r\nL 7.71875 11.625 \r\nQ 12.109375 9.234375 16.796875 8.0625 \r\nQ 21.484375 6.890625 26.703125 6.890625 \r\nQ 35.15625 6.890625 40.078125 11.328125 \r\nQ 45.015625 15.765625 45.015625 23.390625 \r\nQ 45.015625 31 40.078125 35.4375 \r\nQ 35.15625 39.890625 26.703125 39.890625 \r\nQ 22.75 39.890625 18.8125 39.015625 \r\nQ 14.890625 38.140625 10.796875 36.28125 \r\nz\r\n\" id=\"DejaVuSans-53\"/>\r\n       </defs>\r\n       <use xlink:href=\"#DejaVuSans-53\"/>\r\n      </g>\r\n     </g>\r\n    </g>\r\n    <g id=\"xtick_5\">\r\n     <g id=\"line2d_5\">\r\n      <g>\r\n       <use style=\"stroke:#000000;stroke-width:0.8;\" x=\"365.377516\" xlink:href=\"#m108d3c94ca\" y=\"279\"/>\r\n      </g>\r\n     </g>\r\n     <g id=\"text_5\">\r\n      <!-- 6 -->\r\n      <g transform=\"translate(362.196266 293.598437)scale(0.1 -0.1)\">\r\n       <defs>\r\n        <path d=\"M 33.015625 40.375 \r\nQ 26.375 40.375 22.484375 35.828125 \r\nQ 18.609375 31.296875 18.609375 23.390625 \r\nQ 18.609375 15.53125 22.484375 10.953125 \r\nQ 26.375 6.390625 33.015625 6.390625 \r\nQ 39.65625 6.390625 43.53125 10.953125 \r\nQ 47.40625 15.53125 47.40625 23.390625 \r\nQ 47.40625 31.296875 43.53125 35.828125 \r\nQ 39.65625 40.375 33.015625 40.375 \r\nz\r\nM 52.59375 71.296875 \r\nL 52.59375 62.3125 \r\nQ 48.875 64.0625 45.09375 64.984375 \r\nQ 41.3125 65.921875 37.59375 65.921875 \r\nQ 27.828125 65.921875 22.671875 59.328125 \r\nQ 17.53125 52.734375 16.796875 39.40625 \r\nQ 19.671875 43.65625 24.015625 45.921875 \r\nQ 28.375 48.1875 33.59375 48.1875 \r\nQ 44.578125 48.1875 50.953125 41.515625 \r\nQ 57.328125 34.859375 57.328125 23.390625 \r\nQ 57.328125 12.15625 50.6875 5.359375 \r\nQ 44.046875 -1.421875 33.015625 -1.421875 \r\nQ 20.359375 -1.421875 13.671875 8.265625 \r\nQ 6.984375 17.96875 6.984375 36.375 \r\nQ 6.984375 53.65625 15.1875 63.9375 \r\nQ 23.390625 74.21875 37.203125 74.21875 \r\nQ 40.921875 74.21875 44.703125 73.484375 \r\nQ 48.484375 72.75 52.59375 71.296875 \r\nz\r\n\" id=\"DejaVuSans-54\"/>\r\n       </defs>\r\n       <use xlink:href=\"#DejaVuSans-54\"/>\r\n      </g>\r\n     </g>\r\n    </g>\r\n    <g id=\"xtick_6\">\r\n     <g id=\"line2d_6\">\r\n      <g>\r\n       <use style=\"stroke:#000000;stroke-width:0.8;\" x=\"437.845049\" xlink:href=\"#m108d3c94ca\" y=\"279\"/>\r\n      </g>\r\n     </g>\r\n     <g id=\"text_6\">\r\n      <!-- 7 -->\r\n      <g transform=\"translate(434.663799 293.598437)scale(0.1 -0.1)\">\r\n       <defs>\r\n        <path d=\"M 8.203125 72.90625 \r\nL 55.078125 72.90625 \r\nL 55.078125 68.703125 \r\nL 28.609375 0 \r\nL 18.3125 0 \r\nL 43.21875 64.59375 \r\nL 8.203125 64.59375 \r\nz\r\n\" id=\"DejaVuSans-55\"/>\r\n       </defs>\r\n       <use xlink:href=\"#DejaVuSans-55\"/>\r\n      </g>\r\n     </g>\r\n    </g>\r\n    <g id=\"xtick_7\">\r\n     <g id=\"line2d_7\">\r\n      <g>\r\n       <use style=\"stroke:#000000;stroke-width:0.8;\" x=\"510.312581\" xlink:href=\"#m108d3c94ca\" y=\"279\"/>\r\n      </g>\r\n     </g>\r\n     <g id=\"text_7\">\r\n      <!-- 8 -->\r\n      <g transform=\"translate(507.131331 293.598437)scale(0.1 -0.1)\">\r\n       <defs>\r\n        <path d=\"M 31.78125 34.625 \r\nQ 24.75 34.625 20.71875 30.859375 \r\nQ 16.703125 27.09375 16.703125 20.515625 \r\nQ 16.703125 13.921875 20.71875 10.15625 \r\nQ 24.75 6.390625 31.78125 6.390625 \r\nQ 38.8125 6.390625 42.859375 10.171875 \r\nQ 46.921875 13.96875 46.921875 20.515625 \r\nQ 46.921875 27.09375 42.890625 30.859375 \r\nQ 38.875 34.625 31.78125 34.625 \r\nz\r\nM 21.921875 38.8125 \r\nQ 15.578125 40.375 12.03125 44.71875 \r\nQ 8.5 49.078125 8.5 55.328125 \r\nQ 8.5 64.0625 14.71875 69.140625 \r\nQ 20.953125 74.21875 31.78125 74.21875 \r\nQ 42.671875 74.21875 48.875 69.140625 \r\nQ 55.078125 64.0625 55.078125 55.328125 \r\nQ 55.078125 49.078125 51.53125 44.71875 \r\nQ 48 40.375 41.703125 38.8125 \r\nQ 48.828125 37.15625 52.796875 32.3125 \r\nQ 56.78125 27.484375 56.78125 20.515625 \r\nQ 56.78125 9.90625 50.3125 4.234375 \r\nQ 43.84375 -1.421875 31.78125 -1.421875 \r\nQ 19.734375 -1.421875 13.25 4.234375 \r\nQ 6.78125 9.90625 6.78125 20.515625 \r\nQ 6.78125 27.484375 10.78125 32.3125 \r\nQ 14.796875 37.15625 21.921875 38.8125 \r\nz\r\nM 18.3125 54.390625 \r\nQ 18.3125 48.734375 21.84375 45.5625 \r\nQ 25.390625 42.390625 31.78125 42.390625 \r\nQ 38.140625 42.390625 41.71875 45.5625 \r\nQ 45.3125 48.734375 45.3125 54.390625 \r\nQ 45.3125 60.0625 41.71875 63.234375 \r\nQ 38.140625 66.40625 31.78125 66.40625 \r\nQ 25.390625 66.40625 21.84375 63.234375 \r\nQ 18.3125 60.0625 18.3125 54.390625 \r\nz\r\n\" id=\"DejaVuSans-56\"/>\r\n       </defs>\r\n       <use xlink:href=\"#DejaVuSans-56\"/>\r\n      </g>\r\n     </g>\r\n    </g>\r\n    <g id=\"xtick_8\">\r\n     <g id=\"line2d_8\">\r\n      <g>\r\n       <use style=\"stroke:#000000;stroke-width:0.8;\" x=\"582.780114\" xlink:href=\"#m108d3c94ca\" y=\"279\"/>\r\n      </g>\r\n     </g>\r\n     <g id=\"text_8\">\r\n      <!-- 9 -->\r\n      <g transform=\"translate(579.598864 293.598437)scale(0.1 -0.1)\">\r\n       <defs>\r\n        <path d=\"M 10.984375 1.515625 \r\nL 10.984375 10.5 \r\nQ 14.703125 8.734375 18.5 7.8125 \r\nQ 22.3125 6.890625 25.984375 6.890625 \r\nQ 35.75 6.890625 40.890625 13.453125 \r\nQ 46.046875 20.015625 46.78125 33.40625 \r\nQ 43.953125 29.203125 39.59375 26.953125 \r\nQ 35.25 24.703125 29.984375 24.703125 \r\nQ 19.046875 24.703125 12.671875 31.3125 \r\nQ 6.296875 37.9375 6.296875 49.421875 \r\nQ 6.296875 60.640625 12.9375 67.421875 \r\nQ 19.578125 74.21875 30.609375 74.21875 \r\nQ 43.265625 74.21875 49.921875 64.515625 \r\nQ 56.59375 54.828125 56.59375 36.375 \r\nQ 56.59375 19.140625 48.40625 8.859375 \r\nQ 40.234375 -1.421875 26.421875 -1.421875 \r\nQ 22.703125 -1.421875 18.890625 -0.6875 \r\nQ 15.09375 0.046875 10.984375 1.515625 \r\nz\r\nM 30.609375 32.421875 \r\nQ 37.25 32.421875 41.125 36.953125 \r\nQ 45.015625 41.5 45.015625 49.421875 \r\nQ 45.015625 57.28125 41.125 61.84375 \r\nQ 37.25 66.40625 30.609375 66.40625 \r\nQ 23.96875 66.40625 20.09375 61.84375 \r\nQ 16.21875 57.28125 16.21875 49.421875 \r\nQ 16.21875 41.5 20.09375 36.953125 \r\nQ 23.96875 32.421875 30.609375 32.421875 \r\nz\r\n\" id=\"DejaVuSans-57\"/>\r\n       </defs>\r\n       <use xlink:href=\"#DejaVuSans-57\"/>\r\n      </g>\r\n     </g>\r\n    </g>\r\n    <g id=\"text_9\">\r\n     <!-- Number of clusters -->\r\n     <g transform=\"translate(281.451563 307.276562)scale(0.1 -0.1)\">\r\n      <defs>\r\n       <path d=\"M 9.8125 72.90625 \r\nL 23.09375 72.90625 \r\nL 55.421875 11.921875 \r\nL 55.421875 72.90625 \r\nL 64.984375 72.90625 \r\nL 64.984375 0 \r\nL 51.703125 0 \r\nL 19.390625 60.984375 \r\nL 19.390625 0 \r\nL 9.8125 0 \r\nz\r\n\" id=\"DejaVuSans-78\"/>\r\n       <path d=\"M 8.5 21.578125 \r\nL 8.5 54.6875 \r\nL 17.484375 54.6875 \r\nL 17.484375 21.921875 \r\nQ 17.484375 14.15625 20.5 10.265625 \r\nQ 23.53125 6.390625 29.59375 6.390625 \r\nQ 36.859375 6.390625 41.078125 11.03125 \r\nQ 45.3125 15.671875 45.3125 23.6875 \r\nL 45.3125 54.6875 \r\nL 54.296875 54.6875 \r\nL 54.296875 0 \r\nL 45.3125 0 \r\nL 45.3125 8.40625 \r\nQ 42.046875 3.421875 37.71875 1 \r\nQ 33.40625 -1.421875 27.6875 -1.421875 \r\nQ 18.265625 -1.421875 13.375 4.4375 \r\nQ 8.5 10.296875 8.5 21.578125 \r\nz\r\nM 31.109375 56 \r\nz\r\n\" id=\"DejaVuSans-117\"/>\r\n       <path d=\"M 52 44.1875 \r\nQ 55.375 50.25 60.0625 53.125 \r\nQ 64.75 56 71.09375 56 \r\nQ 79.640625 56 84.28125 50.015625 \r\nQ 88.921875 44.046875 88.921875 33.015625 \r\nL 88.921875 0 \r\nL 79.890625 0 \r\nL 79.890625 32.71875 \r\nQ 79.890625 40.578125 77.09375 44.375 \r\nQ 74.3125 48.1875 68.609375 48.1875 \r\nQ 61.625 48.1875 57.5625 43.546875 \r\nQ 53.515625 38.921875 53.515625 30.90625 \r\nL 53.515625 0 \r\nL 44.484375 0 \r\nL 44.484375 32.71875 \r\nQ 44.484375 40.625 41.703125 44.40625 \r\nQ 38.921875 48.1875 33.109375 48.1875 \r\nQ 26.21875 48.1875 22.15625 43.53125 \r\nQ 18.109375 38.875 18.109375 30.90625 \r\nL 18.109375 0 \r\nL 9.078125 0 \r\nL 9.078125 54.6875 \r\nL 18.109375 54.6875 \r\nL 18.109375 46.1875 \r\nQ 21.1875 51.21875 25.484375 53.609375 \r\nQ 29.78125 56 35.6875 56 \r\nQ 41.65625 56 45.828125 52.96875 \r\nQ 50 49.953125 52 44.1875 \r\nz\r\n\" id=\"DejaVuSans-109\"/>\r\n       <path d=\"M 48.6875 27.296875 \r\nQ 48.6875 37.203125 44.609375 42.84375 \r\nQ 40.53125 48.484375 33.40625 48.484375 \r\nQ 26.265625 48.484375 22.1875 42.84375 \r\nQ 18.109375 37.203125 18.109375 27.296875 \r\nQ 18.109375 17.390625 22.1875 11.75 \r\nQ 26.265625 6.109375 33.40625 6.109375 \r\nQ 40.53125 6.109375 44.609375 11.75 \r\nQ 48.6875 17.390625 48.6875 27.296875 \r\nz\r\nM 18.109375 46.390625 \r\nQ 20.953125 51.265625 25.265625 53.625 \r\nQ 29.59375 56 35.59375 56 \r\nQ 45.5625 56 51.78125 48.09375 \r\nQ 58.015625 40.1875 58.015625 27.296875 \r\nQ 58.015625 14.40625 51.78125 6.484375 \r\nQ 45.5625 -1.421875 35.59375 -1.421875 \r\nQ 29.59375 -1.421875 25.265625 0.953125 \r\nQ 20.953125 3.328125 18.109375 8.203125 \r\nL 18.109375 0 \r\nL 9.078125 0 \r\nL 9.078125 75.984375 \r\nL 18.109375 75.984375 \r\nz\r\n\" id=\"DejaVuSans-98\"/>\r\n       <path d=\"M 56.203125 29.59375 \r\nL 56.203125 25.203125 \r\nL 14.890625 25.203125 \r\nQ 15.484375 15.921875 20.484375 11.0625 \r\nQ 25.484375 6.203125 34.421875 6.203125 \r\nQ 39.59375 6.203125 44.453125 7.46875 \r\nQ 49.3125 8.734375 54.109375 11.28125 \r\nL 54.109375 2.78125 \r\nQ 49.265625 0.734375 44.1875 -0.34375 \r\nQ 39.109375 -1.421875 33.890625 -1.421875 \r\nQ 20.796875 -1.421875 13.15625 6.1875 \r\nQ 5.515625 13.8125 5.515625 26.8125 \r\nQ 5.515625 40.234375 12.765625 48.109375 \r\nQ 20.015625 56 32.328125 56 \r\nQ 43.359375 56 49.78125 48.890625 \r\nQ 56.203125 41.796875 56.203125 29.59375 \r\nz\r\nM 47.21875 32.234375 \r\nQ 47.125 39.59375 43.09375 43.984375 \r\nQ 39.0625 48.390625 32.421875 48.390625 \r\nQ 24.90625 48.390625 20.390625 44.140625 \r\nQ 15.875 39.890625 15.1875 32.171875 \r\nz\r\n\" id=\"DejaVuSans-101\"/>\r\n       <path d=\"M 41.109375 46.296875 \r\nQ 39.59375 47.171875 37.8125 47.578125 \r\nQ 36.03125 48 33.890625 48 \r\nQ 26.265625 48 22.1875 43.046875 \r\nQ 18.109375 38.09375 18.109375 28.8125 \r\nL 18.109375 0 \r\nL 9.078125 0 \r\nL 9.078125 54.6875 \r\nL 18.109375 54.6875 \r\nL 18.109375 46.1875 \r\nQ 20.953125 51.171875 25.484375 53.578125 \r\nQ 30.03125 56 36.53125 56 \r\nQ 37.453125 56 38.578125 55.875 \r\nQ 39.703125 55.765625 41.0625 55.515625 \r\nz\r\n\" id=\"DejaVuSans-114\"/>\r\n       <path id=\"DejaVuSans-32\"/>\r\n       <path d=\"M 30.609375 48.390625 \r\nQ 23.390625 48.390625 19.1875 42.75 \r\nQ 14.984375 37.109375 14.984375 27.296875 \r\nQ 14.984375 17.484375 19.15625 11.84375 \r\nQ 23.34375 6.203125 30.609375 6.203125 \r\nQ 37.796875 6.203125 41.984375 11.859375 \r\nQ 46.1875 17.53125 46.1875 27.296875 \r\nQ 46.1875 37.015625 41.984375 42.703125 \r\nQ 37.796875 48.390625 30.609375 48.390625 \r\nz\r\nM 30.609375 56 \r\nQ 42.328125 56 49.015625 48.375 \r\nQ 55.71875 40.765625 55.71875 27.296875 \r\nQ 55.71875 13.875 49.015625 6.21875 \r\nQ 42.328125 -1.421875 30.609375 -1.421875 \r\nQ 18.84375 -1.421875 12.171875 6.21875 \r\nQ 5.515625 13.875 5.515625 27.296875 \r\nQ 5.515625 40.765625 12.171875 48.375 \r\nQ 18.84375 56 30.609375 56 \r\nz\r\n\" id=\"DejaVuSans-111\"/>\r\n       <path d=\"M 37.109375 75.984375 \r\nL 37.109375 68.5 \r\nL 28.515625 68.5 \r\nQ 23.6875 68.5 21.796875 66.546875 \r\nQ 19.921875 64.59375 19.921875 59.515625 \r\nL 19.921875 54.6875 \r\nL 34.71875 54.6875 \r\nL 34.71875 47.703125 \r\nL 19.921875 47.703125 \r\nL 19.921875 0 \r\nL 10.890625 0 \r\nL 10.890625 47.703125 \r\nL 2.296875 47.703125 \r\nL 2.296875 54.6875 \r\nL 10.890625 54.6875 \r\nL 10.890625 58.5 \r\nQ 10.890625 67.625 15.140625 71.796875 \r\nQ 19.390625 75.984375 28.609375 75.984375 \r\nz\r\n\" id=\"DejaVuSans-102\"/>\r\n       <path d=\"M 48.78125 52.59375 \r\nL 48.78125 44.1875 \r\nQ 44.96875 46.296875 41.140625 47.34375 \r\nQ 37.3125 48.390625 33.40625 48.390625 \r\nQ 24.65625 48.390625 19.8125 42.84375 \r\nQ 14.984375 37.3125 14.984375 27.296875 \r\nQ 14.984375 17.28125 19.8125 11.734375 \r\nQ 24.65625 6.203125 33.40625 6.203125 \r\nQ 37.3125 6.203125 41.140625 7.25 \r\nQ 44.96875 8.296875 48.78125 10.40625 \r\nL 48.78125 2.09375 \r\nQ 45.015625 0.34375 40.984375 -0.53125 \r\nQ 36.96875 -1.421875 32.421875 -1.421875 \r\nQ 20.0625 -1.421875 12.78125 6.34375 \r\nQ 5.515625 14.109375 5.515625 27.296875 \r\nQ 5.515625 40.671875 12.859375 48.328125 \r\nQ 20.21875 56 33.015625 56 \r\nQ 37.15625 56 41.109375 55.140625 \r\nQ 45.0625 54.296875 48.78125 52.59375 \r\nz\r\n\" id=\"DejaVuSans-99\"/>\r\n       <path d=\"M 9.421875 75.984375 \r\nL 18.40625 75.984375 \r\nL 18.40625 0 \r\nL 9.421875 0 \r\nz\r\n\" id=\"DejaVuSans-108\"/>\r\n       <path d=\"M 44.28125 53.078125 \r\nL 44.28125 44.578125 \r\nQ 40.484375 46.53125 36.375 47.5 \r\nQ 32.28125 48.484375 27.875 48.484375 \r\nQ 21.1875 48.484375 17.84375 46.4375 \r\nQ 14.5 44.390625 14.5 40.28125 \r\nQ 14.5 37.15625 16.890625 35.375 \r\nQ 19.28125 33.59375 26.515625 31.984375 \r\nL 29.59375 31.296875 \r\nQ 39.15625 29.25 43.1875 25.515625 \r\nQ 47.21875 21.78125 47.21875 15.09375 \r\nQ 47.21875 7.46875 41.1875 3.015625 \r\nQ 35.15625 -1.421875 24.609375 -1.421875 \r\nQ 20.21875 -1.421875 15.453125 -0.5625 \r\nQ 10.6875 0.296875 5.421875 2 \r\nL 5.421875 11.28125 \r\nQ 10.40625 8.6875 15.234375 7.390625 \r\nQ 20.0625 6.109375 24.8125 6.109375 \r\nQ 31.15625 6.109375 34.5625 8.28125 \r\nQ 37.984375 10.453125 37.984375 14.40625 \r\nQ 37.984375 18.0625 35.515625 20.015625 \r\nQ 33.0625 21.96875 24.703125 23.78125 \r\nL 21.578125 24.515625 \r\nQ 13.234375 26.265625 9.515625 29.90625 \r\nQ 5.8125 33.546875 5.8125 39.890625 \r\nQ 5.8125 47.609375 11.28125 51.796875 \r\nQ 16.75 56 26.8125 56 \r\nQ 31.78125 56 36.171875 55.265625 \r\nQ 40.578125 54.546875 44.28125 53.078125 \r\nz\r\n\" id=\"DejaVuSans-115\"/>\r\n       <path d=\"M 18.3125 70.21875 \r\nL 18.3125 54.6875 \r\nL 36.8125 54.6875 \r\nL 36.8125 47.703125 \r\nL 18.3125 47.703125 \r\nL 18.3125 18.015625 \r\nQ 18.3125 11.328125 20.140625 9.421875 \r\nQ 21.96875 7.515625 27.59375 7.515625 \r\nL 36.8125 7.515625 \r\nL 36.8125 0 \r\nL 27.59375 0 \r\nQ 17.1875 0 13.234375 3.875 \r\nQ 9.28125 7.765625 9.28125 18.015625 \r\nL 9.28125 47.703125 \r\nL 2.6875 47.703125 \r\nL 2.6875 54.6875 \r\nL 9.28125 54.6875 \r\nL 9.28125 70.21875 \r\nz\r\n\" id=\"DejaVuSans-116\"/>\r\n      </defs>\r\n      <use xlink:href=\"#DejaVuSans-78\"/>\r\n      <use x=\"74.804688\" xlink:href=\"#DejaVuSans-117\"/>\r\n      <use x=\"138.183594\" xlink:href=\"#DejaVuSans-109\"/>\r\n      <use x=\"235.595703\" xlink:href=\"#DejaVuSans-98\"/>\r\n      <use x=\"299.072266\" xlink:href=\"#DejaVuSans-101\"/>\r\n      <use x=\"360.595703\" xlink:href=\"#DejaVuSans-114\"/>\r\n      <use x=\"401.708984\" xlink:href=\"#DejaVuSans-32\"/>\r\n      <use x=\"433.496094\" xlink:href=\"#DejaVuSans-111\"/>\r\n      <use x=\"494.677734\" xlink:href=\"#DejaVuSans-102\"/>\r\n      <use x=\"529.882812\" xlink:href=\"#DejaVuSans-32\"/>\r\n      <use x=\"561.669922\" xlink:href=\"#DejaVuSans-99\"/>\r\n      <use x=\"616.650391\" xlink:href=\"#DejaVuSans-108\"/>\r\n      <use x=\"644.433594\" xlink:href=\"#DejaVuSans-117\"/>\r\n      <use x=\"707.8125\" xlink:href=\"#DejaVuSans-115\"/>\r\n      <use x=\"759.912109\" xlink:href=\"#DejaVuSans-116\"/>\r\n      <use x=\"799.121094\" xlink:href=\"#DejaVuSans-101\"/>\r\n      <use x=\"860.644531\" xlink:href=\"#DejaVuSans-114\"/>\r\n      <use x=\"901.757812\" xlink:href=\"#DejaVuSans-115\"/>\r\n     </g>\r\n    </g>\r\n   </g>\r\n   <g id=\"matplotlib.axis_2\">\r\n    <g id=\"ytick_1\">\r\n     <g id=\"line2d_9\">\r\n      <defs>\r\n       <path d=\"M 0 0 \r\nL -3.5 0 \r\n\" id=\"ma9cc9298cd\" style=\"stroke:#000000;stroke-width:0.8;\"/>\r\n      </defs>\r\n      <g>\r\n       <use style=\"stroke:#000000;stroke-width:0.8;\" x=\"50.14375\" xlink:href=\"#ma9cc9298cd\" y=\"235.672647\"/>\r\n      </g>\r\n     </g>\r\n     <g id=\"text_10\">\r\n      <!-- 0.04 -->\r\n      <g transform=\"translate(20.878125 239.471866)scale(0.1 -0.1)\">\r\n       <defs>\r\n        <path d=\"M 31.78125 66.40625 \r\nQ 24.171875 66.40625 20.328125 58.90625 \r\nQ 16.5 51.421875 16.5 36.375 \r\nQ 16.5 21.390625 20.328125 13.890625 \r\nQ 24.171875 6.390625 31.78125 6.390625 \r\nQ 39.453125 6.390625 43.28125 13.890625 \r\nQ 47.125 21.390625 47.125 36.375 \r\nQ 47.125 51.421875 43.28125 58.90625 \r\nQ 39.453125 66.40625 31.78125 66.40625 \r\nz\r\nM 31.78125 74.21875 \r\nQ 44.046875 74.21875 50.515625 64.515625 \r\nQ 56.984375 54.828125 56.984375 36.375 \r\nQ 56.984375 17.96875 50.515625 8.265625 \r\nQ 44.046875 -1.421875 31.78125 -1.421875 \r\nQ 19.53125 -1.421875 13.0625 8.265625 \r\nQ 6.59375 17.96875 6.59375 36.375 \r\nQ 6.59375 54.828125 13.0625 64.515625 \r\nQ 19.53125 74.21875 31.78125 74.21875 \r\nz\r\n\" id=\"DejaVuSans-48\"/>\r\n        <path d=\"M 10.6875 12.40625 \r\nL 21 12.40625 \r\nL 21 0 \r\nL 10.6875 0 \r\nz\r\n\" id=\"DejaVuSans-46\"/>\r\n       </defs>\r\n       <use xlink:href=\"#DejaVuSans-48\"/>\r\n       <use x=\"63.623047\" xlink:href=\"#DejaVuSans-46\"/>\r\n       <use x=\"95.410156\" xlink:href=\"#DejaVuSans-48\"/>\r\n       <use x=\"159.033203\" xlink:href=\"#DejaVuSans-52\"/>\r\n      </g>\r\n     </g>\r\n    </g>\r\n    <g id=\"ytick_2\">\r\n     <g id=\"line2d_10\">\r\n      <g>\r\n       <use style=\"stroke:#000000;stroke-width:0.8;\" x=\"50.14375\" xlink:href=\"#ma9cc9298cd\" y=\"183.579418\"/>\r\n      </g>\r\n     </g>\r\n     <g id=\"text_11\">\r\n      <!-- 0.06 -->\r\n      <g transform=\"translate(20.878125 187.378636)scale(0.1 -0.1)\">\r\n       <use xlink:href=\"#DejaVuSans-48\"/>\r\n       <use x=\"63.623047\" xlink:href=\"#DejaVuSans-46\"/>\r\n       <use x=\"95.410156\" xlink:href=\"#DejaVuSans-48\"/>\r\n       <use x=\"159.033203\" xlink:href=\"#DejaVuSans-54\"/>\r\n      </g>\r\n     </g>\r\n    </g>\r\n    <g id=\"ytick_3\">\r\n     <g id=\"line2d_11\">\r\n      <g>\r\n       <use style=\"stroke:#000000;stroke-width:0.8;\" x=\"50.14375\" xlink:href=\"#ma9cc9298cd\" y=\"131.486189\"/>\r\n      </g>\r\n     </g>\r\n     <g id=\"text_12\">\r\n      <!-- 0.08 -->\r\n      <g transform=\"translate(20.878125 135.285407)scale(0.1 -0.1)\">\r\n       <use xlink:href=\"#DejaVuSans-48\"/>\r\n       <use x=\"63.623047\" xlink:href=\"#DejaVuSans-46\"/>\r\n       <use x=\"95.410156\" xlink:href=\"#DejaVuSans-48\"/>\r\n       <use x=\"159.033203\" xlink:href=\"#DejaVuSans-56\"/>\r\n      </g>\r\n     </g>\r\n    </g>\r\n    <g id=\"ytick_4\">\r\n     <g id=\"line2d_12\">\r\n      <g>\r\n       <use style=\"stroke:#000000;stroke-width:0.8;\" x=\"50.14375\" xlink:href=\"#ma9cc9298cd\" y=\"79.39296\"/>\r\n      </g>\r\n     </g>\r\n     <g id=\"text_13\">\r\n      <!-- 0.10 -->\r\n      <g transform=\"translate(20.878125 83.192178)scale(0.1 -0.1)\">\r\n       <defs>\r\n        <path d=\"M 12.40625 8.296875 \r\nL 28.515625 8.296875 \r\nL 28.515625 63.921875 \r\nL 10.984375 60.40625 \r\nL 10.984375 69.390625 \r\nL 28.421875 72.90625 \r\nL 38.28125 72.90625 \r\nL 38.28125 8.296875 \r\nL 54.390625 8.296875 \r\nL 54.390625 0 \r\nL 12.40625 0 \r\nz\r\n\" id=\"DejaVuSans-49\"/>\r\n       </defs>\r\n       <use xlink:href=\"#DejaVuSans-48\"/>\r\n       <use x=\"63.623047\" xlink:href=\"#DejaVuSans-46\"/>\r\n       <use x=\"95.410156\" xlink:href=\"#DejaVuSans-49\"/>\r\n       <use x=\"159.033203\" xlink:href=\"#DejaVuSans-48\"/>\r\n      </g>\r\n     </g>\r\n    </g>\r\n    <g id=\"ytick_5\">\r\n     <g id=\"line2d_13\">\r\n      <g>\r\n       <use style=\"stroke:#000000;stroke-width:0.8;\" x=\"50.14375\" xlink:href=\"#ma9cc9298cd\" y=\"27.299731\"/>\r\n      </g>\r\n     </g>\r\n     <g id=\"text_14\">\r\n      <!-- 0.12 -->\r\n      <g transform=\"translate(20.878125 31.098949)scale(0.1 -0.1)\">\r\n       <use xlink:href=\"#DejaVuSans-48\"/>\r\n       <use x=\"63.623047\" xlink:href=\"#DejaVuSans-46\"/>\r\n       <use x=\"95.410156\" xlink:href=\"#DejaVuSans-49\"/>\r\n       <use x=\"159.033203\" xlink:href=\"#DejaVuSans-50\"/>\r\n      </g>\r\n     </g>\r\n    </g>\r\n    <g id=\"text_15\">\r\n     <!-- Silhouette Score -->\r\n     <g transform=\"translate(14.798437 184.114062)rotate(-90)scale(0.1 -0.1)\">\r\n      <defs>\r\n       <path d=\"M 53.515625 70.515625 \r\nL 53.515625 60.890625 \r\nQ 47.90625 63.578125 42.921875 64.890625 \r\nQ 37.9375 66.21875 33.296875 66.21875 \r\nQ 25.25 66.21875 20.875 63.09375 \r\nQ 16.5 59.96875 16.5 54.203125 \r\nQ 16.5 49.359375 19.40625 46.890625 \r\nQ 22.3125 44.4375 30.421875 42.921875 \r\nL 36.375 41.703125 \r\nQ 47.40625 39.59375 52.65625 34.296875 \r\nQ 57.90625 29 57.90625 20.125 \r\nQ 57.90625 9.515625 50.796875 4.046875 \r\nQ 43.703125 -1.421875 29.984375 -1.421875 \r\nQ 24.8125 -1.421875 18.96875 -0.25 \r\nQ 13.140625 0.921875 6.890625 3.21875 \r\nL 6.890625 13.375 \r\nQ 12.890625 10.015625 18.65625 8.296875 \r\nQ 24.421875 6.59375 29.984375 6.59375 \r\nQ 38.421875 6.59375 43.015625 9.90625 \r\nQ 47.609375 13.234375 47.609375 19.390625 \r\nQ 47.609375 24.75 44.3125 27.78125 \r\nQ 41.015625 30.8125 33.5 32.328125 \r\nL 27.484375 33.5 \r\nQ 16.453125 35.6875 11.515625 40.375 \r\nQ 6.59375 45.0625 6.59375 53.421875 \r\nQ 6.59375 63.09375 13.40625 68.65625 \r\nQ 20.21875 74.21875 32.171875 74.21875 \r\nQ 37.3125 74.21875 42.625 73.28125 \r\nQ 47.953125 72.359375 53.515625 70.515625 \r\nz\r\n\" id=\"DejaVuSans-83\"/>\r\n       <path d=\"M 9.421875 54.6875 \r\nL 18.40625 54.6875 \r\nL 18.40625 0 \r\nL 9.421875 0 \r\nz\r\nM 9.421875 75.984375 \r\nL 18.40625 75.984375 \r\nL 18.40625 64.59375 \r\nL 9.421875 64.59375 \r\nz\r\n\" id=\"DejaVuSans-105\"/>\r\n       <path d=\"M 54.890625 33.015625 \r\nL 54.890625 0 \r\nL 45.90625 0 \r\nL 45.90625 32.71875 \r\nQ 45.90625 40.484375 42.875 44.328125 \r\nQ 39.84375 48.1875 33.796875 48.1875 \r\nQ 26.515625 48.1875 22.3125 43.546875 \r\nQ 18.109375 38.921875 18.109375 30.90625 \r\nL 18.109375 0 \r\nL 9.078125 0 \r\nL 9.078125 75.984375 \r\nL 18.109375 75.984375 \r\nL 18.109375 46.1875 \r\nQ 21.34375 51.125 25.703125 53.5625 \r\nQ 30.078125 56 35.796875 56 \r\nQ 45.21875 56 50.046875 50.171875 \r\nQ 54.890625 44.34375 54.890625 33.015625 \r\nz\r\n\" id=\"DejaVuSans-104\"/>\r\n      </defs>\r\n      <use xlink:href=\"#DejaVuSans-83\"/>\r\n      <use x=\"63.476562\" xlink:href=\"#DejaVuSans-105\"/>\r\n      <use x=\"91.259766\" xlink:href=\"#DejaVuSans-108\"/>\r\n      <use x=\"119.042969\" xlink:href=\"#DejaVuSans-104\"/>\r\n      <use x=\"182.421875\" xlink:href=\"#DejaVuSans-111\"/>\r\n      <use x=\"243.603516\" xlink:href=\"#DejaVuSans-117\"/>\r\n      <use x=\"306.982422\" xlink:href=\"#DejaVuSans-101\"/>\r\n      <use x=\"368.505859\" xlink:href=\"#DejaVuSans-116\"/>\r\n      <use x=\"407.714844\" xlink:href=\"#DejaVuSans-116\"/>\r\n      <use x=\"446.923828\" xlink:href=\"#DejaVuSans-101\"/>\r\n      <use x=\"508.447266\" xlink:href=\"#DejaVuSans-32\"/>\r\n      <use x=\"540.234375\" xlink:href=\"#DejaVuSans-83\"/>\r\n      <use x=\"603.710938\" xlink:href=\"#DejaVuSans-99\"/>\r\n      <use x=\"658.691406\" xlink:href=\"#DejaVuSans-111\"/>\r\n      <use x=\"719.873047\" xlink:href=\"#DejaVuSans-114\"/>\r\n      <use x=\"758.736328\" xlink:href=\"#DejaVuSans-101\"/>\r\n     </g>\r\n    </g>\r\n   </g>\r\n   <g id=\"line2d_14\">\r\n    <path clip-path=\"url(#pc3596911db)\" d=\"M 75.507386 33.854931 \r\nL 147.974919 19.554545 \r\nL 220.442451 236.208364 \r\nL 292.909984 86.120056 \r\nL 365.377516 93.682436 \r\nL 437.845049 266.645455 \r\nL 510.312581 259.447847 \r\nL 582.780114 237.551183 \r\n\" style=\"fill:none;stroke:#ff0000;stroke-linecap:square;stroke-width:1.5;\"/>\r\n    <defs>\r\n     <path d=\"M 0 3 \r\nC 0.795609 3 1.55874 2.683901 2.12132 2.12132 \r\nC 2.683901 1.55874 3 0.795609 3 0 \r\nC 3 -0.795609 2.683901 -1.55874 2.12132 -2.12132 \r\nC 1.55874 -2.683901 0.795609 -3 0 -3 \r\nC -0.795609 -3 -1.55874 -2.683901 -2.12132 -2.12132 \r\nC -2.683901 -1.55874 -3 -0.795609 -3 0 \r\nC -3 0.795609 -2.683901 1.55874 -2.12132 2.12132 \r\nC -1.55874 2.683901 -0.795609 3 0 3 \r\nz\r\n\" id=\"mc9f8020a4a\" style=\"stroke:#ff0000;\"/>\r\n    </defs>\r\n    <g clip-path=\"url(#pc3596911db)\">\r\n     <use style=\"fill:#ff0000;stroke:#ff0000;\" x=\"75.507386\" xlink:href=\"#mc9f8020a4a\" y=\"33.854931\"/>\r\n     <use style=\"fill:#ff0000;stroke:#ff0000;\" x=\"147.974919\" xlink:href=\"#mc9f8020a4a\" y=\"19.554545\"/>\r\n     <use style=\"fill:#ff0000;stroke:#ff0000;\" x=\"220.442451\" xlink:href=\"#mc9f8020a4a\" y=\"236.208364\"/>\r\n     <use style=\"fill:#ff0000;stroke:#ff0000;\" x=\"292.909984\" xlink:href=\"#mc9f8020a4a\" y=\"86.120056\"/>\r\n     <use style=\"fill:#ff0000;stroke:#ff0000;\" x=\"365.377516\" xlink:href=\"#mc9f8020a4a\" y=\"93.682436\"/>\r\n     <use style=\"fill:#ff0000;stroke:#ff0000;\" x=\"437.845049\" xlink:href=\"#mc9f8020a4a\" y=\"266.645455\"/>\r\n     <use style=\"fill:#ff0000;stroke:#ff0000;\" x=\"510.312581\" xlink:href=\"#mc9f8020a4a\" y=\"259.447847\"/>\r\n     <use style=\"fill:#ff0000;stroke:#ff0000;\" x=\"582.780114\" xlink:href=\"#mc9f8020a4a\" y=\"237.551183\"/>\r\n    </g>\r\n   </g>\r\n   <g id=\"patch_3\">\r\n    <path d=\"M 50.14375 279 \r\nL 50.14375 7.2 \r\n\" style=\"fill:none;stroke:#000000;stroke-linecap:square;stroke-linejoin:miter;stroke-width:0.8;\"/>\r\n   </g>\r\n   <g id=\"patch_4\">\r\n    <path d=\"M 608.14375 279 \r\nL 608.14375 7.2 \r\n\" style=\"fill:none;stroke:#000000;stroke-linecap:square;stroke-linejoin:miter;stroke-width:0.8;\"/>\r\n   </g>\r\n   <g id=\"patch_5\">\r\n    <path d=\"M 50.14375 279 \r\nL 608.14375 279 \r\n\" style=\"fill:none;stroke:#000000;stroke-linecap:square;stroke-linejoin:miter;stroke-width:0.8;\"/>\r\n   </g>\r\n   <g id=\"patch_6\">\r\n    <path d=\"M 50.14375 7.2 \r\nL 608.14375 7.2 \r\n\" style=\"fill:none;stroke:#000000;stroke-linecap:square;stroke-linejoin:miter;stroke-width:0.8;\"/>\r\n   </g>\r\n  </g>\r\n </g>\r\n <defs>\r\n  <clipPath id=\"pc3596911db\">\r\n   <rect height=\"271.8\" width=\"558\" x=\"50.14375\" y=\"7.2\"/>\r\n  </clipPath>\r\n </defs>\r\n</svg>\r\n",
      "image/png": "[encoded data removed]"
     },
     "metadata": {
      "needs_background": "light"
     }
    }
   ],
   "source": [
    "import matplotlib.pyplot as plt\n",
    "from sklearn.metrics import silhouette_samples, silhouette_score\n",
    "max_score = 10\n",
    "scores = []\n",
    "\n",
    "for kclusters in range(2, max_score):\n",
    "    # Run k-means clustering\n",
    "    kmeans = KMeans(n_clusters = kclusters, init = 'k-means++', random_state = 6).fit_predict(k_means_feed_scaled)\n",
    "    \n",
    "    # Gets the silhouette score\n",
    "    score = silhouette_score(k_means_feed_scaled, kmeans)\n",
    "    scores.append(score)\n",
    "\n",
    "plt.figure(figsize=(10,5))\n",
    "plt.plot(np.arange(2, max_score), scores, 'ro-')\n",
    "plt.xlabel(\"Number of clusters\")\n",
    "plt.ylabel(\"Silhouette Score\")\n",
    "plt.xticks(np.arange(2, max_score))\n",
    "plt.show()"
   ]
  },
  {
   "source": [
    "### K Means Clustering to generate Cluster Label"
   ],
   "cell_type": "markdown",
   "metadata": {}
  },
  {
   "cell_type": "code",
   "execution_count": 684,
   "metadata": {},
   "outputs": [
    {
     "output_type": "execute_result",
     "data": {
      "text/plain": [
       "array([3, 1, 3, 0, 1, 3, 4, 3, 3, 1, 2, 3, 3, 3, 3, 1, 1, 3, 0, 3, 3, 3])"
      ]
     },
     "metadata": {},
     "execution_count": 684
    }
   ],
   "source": [
    "# import k-means from clustering stage\n",
    "from sklearn.cluster import KMeans\n",
    "# set number of clusters\n",
    "kclusters = 5\n",
    "\n",
    "#ld_grouped_clustering = k_means_feed_scaled.drop('Neighborhood', 1)\n",
    "\n",
    "# run k-means clustering\n",
    "kmeans = KMeans(n_clusters=kclusters, random_state=11).fit(k_means_feed_scaled)\n",
    "\n",
    "# check cluster labels generated for each row in the dataframe\n",
    "kmeans.labels_\n"
   ]
  },
  {
   "cell_type": "code",
   "execution_count": 685,
   "metadata": {},
   "outputs": [
    {
     "output_type": "execute_result",
     "data": {
      "text/plain": [
       "array([3, 1, 3, 0, 1, 3, 4, 3, 3, 1, 2, 3, 3, 3, 3, 1, 1, 3, 0, 3, 3, 3])"
      ]
     },
     "metadata": {},
     "execution_count": 685
    }
   ],
   "source": [
    "kmeans.labels_"
   ]
  },
  {
   "source": [
    "* Cluster Labels are added to our DataFrame"
   ],
   "cell_type": "markdown",
   "metadata": {}
  },
  {
   "cell_type": "code",
   "execution_count": 687,
   "metadata": {},
   "outputs": [],
   "source": [
    "neighborhoods_venues_sorted.insert(0, 'Cluster Labels', kmeans.labels_)\n",
    "\n",
    "ld_merged = ld_data\n",
    "\n",
    "ld_merged = ld_merged.merge(neighborhoods_venues_sorted)"
   ]
  },
  {
   "source": [
    "# FOLIUM MAP WITH CLUSTER LABELS\n",
    "\n",
    "* Here we can see our cluster labels in action. A radius of 1km around each postal code location was used to show area of influence for each cluster."
   ],
   "cell_type": "markdown",
   "metadata": {}
  },
  {
   "cell_type": "code",
   "execution_count": 688,
   "metadata": {},
   "outputs": [
    {
     "output_type": "execute_result",
     "data": {
      "text/plain": [
       "array([10.,  9.,  8.,  7.,  6.,  5.,  4.,  3.,  2.,  1.])"
      ]
     },
     "metadata": {},
     "execution_count": 688
    }
   ],
   "source": [
    "np.linspace(10,1,10)"
   ]
  },
  {
   "cell_type": "code",
   "execution_count": 689,
   "metadata": {},
   "outputs": [
    {
     "output_type": "execute_result",
     "data": {
      "text/plain": [
       "<folium.folium.Map at 0x200163fdd30>"
      ],
      "text/html": "<div style=\"width:100%;\"><div style=\"position:relative;width:100%;height:0;padding-bottom:60%;\"><span style=\"color:#565656\">Make this Notebook Trusted to load map: File -> Trust Notebook</span><iframe src=\"about:blank\" style=\"position:absolute;width:100%;height:100%;left:0;top:0;border:none !important;\" data-html=%3C%21DOCTYPE%20html%3E%0A%3Chead%3E%20%20%20%20%0A%20%20%20%20%3Cmeta%20http-equiv%3D%22content-type%22%20content%3D%22text/html%3B%20charset%3DUTF-8%22%20/%3E%0A%20%20%20%20%0A%20%20%20%20%20%20%20%20%3Cscript%3E%0A%20%20%20%20%20%20%20%20%20%20%20%20L_NO_TOUCH%20%3D%20false%3B%0A%20%20%20%20%20%20%20%20%20%20%20%20L_DISABLE_3D%20%3D%20false%3B%0A%20%20%20%20%20%20%20%20%3C/script%3E%0A%20%20%20%20%0A%20%20%20%20%3Cstyle%3Ehtml%2C%20body%20%7Bwidth%3A%20100%25%3Bheight%3A%20100%25%3Bmargin%3A%200%3Bpadding%3A%200%3B%7D%3C/style%3E%0A%20%20%20%20%3Cstyle%3E%23map%20%7Bposition%3Aabsolute%3Btop%3A0%3Bbottom%3A0%3Bright%3A0%3Bleft%3A0%3B%7D%3C/style%3E%0A%20%20%20%20%3Cscript%20src%3D%22https%3A//cdn.jsdelivr.net/npm/leaflet%401.6.0/dist/leaflet.js%22%3E%3C/script%3E%0A%20%20%20%20%3Cscript%20src%3D%22https%3A//code.jquery.com/jquery-1.12.4.min.js%22%3E%3C/script%3E%0A%20%20%20%20%3Cscript%20src%3D%22https%3A//maxcdn.bootstrapcdn.com/bootstrap/3.2.0/js/bootstrap.min.js%22%3E%3C/script%3E%0A%20%20%20%20%3Cscript%20src%3D%22https%3A//cdnjs.cloudflare.com/ajax/libs/Leaflet.awesome-markers/2.0.2/leaflet.awesome-markers.js%22%3E%3C/script%3E%0A%20%20%20%20%3Clink%20rel%3D%22stylesheet%22%20href%3D%22https%3A//cdn.jsdelivr.net/npm/leaflet%401.6.0/dist/leaflet.css%22/%3E%0A%20%20%20%20%3Clink%20rel%3D%22stylesheet%22%20href%3D%22https%3A//maxcdn.bootstrapcdn.com/bootstrap/3.2.0/css/bootstrap.min.css%22/%3E%0A%20%20%20%20%3Clink%20rel%3D%22stylesheet%22%20href%3D%22https%3A//maxcdn.bootstrapcdn.com/bootstrap/3.2.0/css/bootstrap-theme.min.css%22/%3E%0A%20%20%20%20%3Clink%20rel%3D%22stylesheet%22%20href%3D%22https%3A//maxcdn.bootstrapcdn.com/font-awesome/4.6.3/css/font-awesome.min.css%22/%3E%0A%20%20%20%20%3Clink%20rel%3D%22stylesheet%22%20href%3D%22https%3A//cdnjs.cloudflare.com/ajax/libs/Leaflet.awesome-markers/2.0.2/leaflet.awesome-markers.css%22/%3E%0A%20%20%20%20%3Clink%20rel%3D%22stylesheet%22%20href%3D%22https%3A//cdn.jsdelivr.net/gh/python-visualization/folium/folium/templates/leaflet.awesome.rotate.min.css%22/%3E%0A%20%20%20%20%0A%20%20%20%20%20%20%20%20%20%20%20%20%3Cmeta%20name%3D%22viewport%22%20content%3D%22width%3Ddevice-width%2C%0A%20%20%20%20%20%20%20%20%20%20%20%20%20%20%20%20initial-scale%3D1.0%2C%20maximum-scale%3D1.0%2C%20user-scalable%3Dno%22%20/%3E%0A%20%20%20%20%20%20%20%20%20%20%20%20%3Cstyle%3E%0A%20%20%20%20%20%20%20%20%20%20%20%20%20%20%20%20%23map_095f223811fb429d8de559547b0dde1c%20%7B%0A%20%20%20%20%20%20%20%20%20%20%20%20%20%20%20%20%20%20%20%20position%3A%20relative%3B%0A%20%20%20%20%20%20%20%20%20%20%20%20%20%20%20%20%20%20%20%20width%3A%20100.0%25%3B%0A%20%20%20%20%20%20%20%20%20%20%20%20%20%20%20%20%20%20%20%20height%3A%20100.0%25%3B%0A%20%20%20%20%20%20%20%20%20%20%20%20%20%20%20%20%20%20%20%20left%3A%200.0%25%3B%0A%20%20%20%20%20%20%20%20%20%20%20%20%20%20%20%20%20%20%20%20top%3A%200.0%25%3B%0A%20%20%20%20%20%20%20%20%20%20%20%20%20%20%20%20%7D%0A%20%20%20%20%20%20%20%20%20%20%20%20%3C/style%3E%0A%20%20%20%20%20%20%20%20%0A%3C/head%3E%0A%3Cbody%3E%20%20%20%20%0A%20%20%20%20%0A%20%20%20%20%20%20%20%20%20%20%20%20%3Cdiv%20class%3D%22folium-map%22%20id%3D%22map_095f223811fb429d8de559547b0dde1c%22%20%3E%3C/div%3E%0A%20%20%20%20%20%20%20%20%0A%3C/body%3E%0A%3Cscript%3E%20%20%20%20%0A%20%20%20%20%0A%20%20%20%20%20%20%20%20%20%20%20%20var%20map_095f223811fb429d8de559547b0dde1c%20%3D%20L.map%28%0A%20%20%20%20%20%20%20%20%20%20%20%20%20%20%20%20%22map_095f223811fb429d8de559547b0dde1c%22%2C%0A%20%20%20%20%20%20%20%20%20%20%20%20%20%20%20%20%7B%0A%20%20%20%20%20%20%20%20%20%20%20%20%20%20%20%20%20%20%20%20center%3A%20%5B51.5073219%2C%20-0.1276474%5D%2C%0A%20%20%20%20%20%20%20%20%20%20%20%20%20%20%20%20%20%20%20%20crs%3A%20L.CRS.EPSG3857%2C%0A%20%20%20%20%20%20%20%20%20%20%20%20%20%20%20%20%20%20%20%20zoom%3A%2011%2C%0A%20%20%20%20%20%20%20%20%20%20%20%20%20%20%20%20%20%20%20%20zoomControl%3A%20true%2C%0A%20%20%20%20%20%20%20%20%20%20%20%20%20%20%20%20%20%20%20%20preferCanvas%3A%20false%2C%0A%20%20%20%20%20%20%20%20%20%20%20%20%20%20%20%20%7D%0A%20%20%20%20%20%20%20%20%20%20%20%20%29%3B%0A%0A%20%20%20%20%20%20%20%20%20%20%20%20%0A%0A%20%20%20%20%20%20%20%20%0A%20%20%20%20%0A%20%20%20%20%20%20%20%20%20%20%20%20var%20tile_layer_19601bb78e9b4cf088ce91d2b4cb8818%20%3D%20L.tileLayer%28%0A%20%20%20%20%20%20%20%20%20%20%20%20%20%20%20%20%22https%3A//%7Bs%7D.tile.openstreetmap.org/%7Bz%7D/%7Bx%7D/%7By%7D.png%22%2C%0A%20%20%20%20%20%20%20%20%20%20%20%20%20%20%20%20%7B%22attribution%22%3A%20%22Data%20by%20%5Cu0026copy%3B%20%5Cu003ca%20href%3D%5C%22http%3A//openstreetmap.org%5C%22%5Cu003eOpenStreetMap%5Cu003c/a%5Cu003e%2C%20under%20%5Cu003ca%20href%3D%5C%22http%3A//www.openstreetmap.org/copyright%5C%22%5Cu003eODbL%5Cu003c/a%5Cu003e.%22%2C%20%22detectRetina%22%3A%20false%2C%20%22maxNativeZoom%22%3A%2018%2C%20%22maxZoom%22%3A%2018%2C%20%22minZoom%22%3A%200%2C%20%22noWrap%22%3A%20false%2C%20%22opacity%22%3A%201%2C%20%22subdomains%22%3A%20%22abc%22%2C%20%22tms%22%3A%20false%7D%0A%20%20%20%20%20%20%20%20%20%20%20%20%29.addTo%28map_095f223811fb429d8de559547b0dde1c%29%3B%0A%20%20%20%20%20%20%20%20%0A%20%20%20%20%0A%20%20%20%20%20%20%20%20%20%20%20%20var%20circle_e198df25004a43e98cdef587220a42e6%20%3D%20L.circle%28%0A%20%20%20%20%20%20%20%20%20%20%20%20%20%20%20%20%5B51.426481%2C%200.105038%5D%2C%0A%20%20%20%20%20%20%20%20%20%20%20%20%20%20%20%20%7B%22bubblingMouseEvents%22%3A%20true%2C%20%22color%22%3A%20%22%23ee42bd%22%2C%20%22dashArray%22%3A%20null%2C%20%22dashOffset%22%3A%20null%2C%20%22fill%22%3A%20true%2C%20%22fillColor%22%3A%20%22%23ee42bd%22%2C%20%22fillOpacity%22%3A%200.7%2C%20%22fillRule%22%3A%20%22evenodd%22%2C%20%22lineCap%22%3A%20%22round%22%2C%20%22lineJoin%22%3A%20%22round%22%2C%20%22opacity%22%3A%201.0%2C%20%22radius%22%3A%201000%2C%20%22stroke%22%3A%20true%2C%20%22weight%22%3A%203%7D%0A%20%20%20%20%20%20%20%20%20%20%20%20%29.addTo%28map_095f223811fb429d8de559547b0dde1c%29%3B%0A%20%20%20%20%20%20%20%20%0A%20%20%20%20%0A%20%20%20%20%20%20%20%20var%20popup_c388dcd38d6844c6a00ec0b954e9bfaf%20%3D%20L.popup%28%7B%22maxWidth%22%3A%20%22100%25%22%7D%29%3B%0A%0A%20%20%20%20%20%20%20%20%0A%20%20%20%20%20%20%20%20%20%20%20%20var%20html_ca464d9f595d4d8fa4935a8d46a8f509%20%3D%20%24%28%60%3Cdiv%20id%3D%22html_ca464d9f595d4d8fa4935a8d46a8f509%22%20style%3D%22width%3A%20100.0%25%3B%20height%3A%20100.0%25%3B%22%3EFrognal%20Avenue%20Cluster%203%3C/div%3E%60%29%5B0%5D%3B%0A%20%20%20%20%20%20%20%20%20%20%20%20popup_c388dcd38d6844c6a00ec0b954e9bfaf.setContent%28html_ca464d9f595d4d8fa4935a8d46a8f509%29%3B%0A%20%20%20%20%20%20%20%20%0A%0A%20%20%20%20%20%20%20%20circle_e198df25004a43e98cdef587220a42e6.bindPopup%28popup_c388dcd38d6844c6a00ec0b954e9bfaf%29%0A%20%20%20%20%20%20%20%20%3B%0A%0A%20%20%20%20%20%20%20%20%0A%20%20%20%20%0A%20%20%20%20%0A%20%20%20%20%20%20%20%20%20%20%20%20var%20circle_c3d84a4ec28e4c81a505225c53a3b490%20%3D%20L.circle%28%0A%20%20%20%20%20%20%20%20%20%20%20%20%20%20%20%20%5B51.487122%2C%200.003284%5D%2C%0A%20%20%20%20%20%20%20%20%20%20%20%20%20%20%20%20%7B%22bubblingMouseEvents%22%3A%20true%2C%20%22color%22%3A%20%22%23fff609%22%2C%20%22dashArray%22%3A%20null%2C%20%22dashOffset%22%3A%20null%2C%20%22fill%22%3A%20true%2C%20%22fillColor%22%3A%20%22%23fff609%22%2C%20%22fillOpacity%22%3A%200.7%2C%20%22fillRule%22%3A%20%22evenodd%22%2C%20%22lineCap%22%3A%20%22round%22%2C%20%22lineJoin%22%3A%20%22round%22%2C%20%22opacity%22%3A%201.0%2C%20%22radius%22%3A%201000%2C%20%22stroke%22%3A%20true%2C%20%22weight%22%3A%203%7D%0A%20%20%20%20%20%20%20%20%20%20%20%20%29.addTo%28map_095f223811fb429d8de559547b0dde1c%29%3B%0A%20%20%20%20%20%20%20%20%0A%20%20%20%20%0A%20%20%20%20%20%20%20%20var%20popup_699bbbb5a12d4aaa87573b83a1a8078e%20%3D%20L.popup%28%7B%22maxWidth%22%3A%20%22100%25%22%7D%29%3B%0A%0A%20%20%20%20%20%20%20%20%0A%20%20%20%20%20%20%20%20%20%20%20%20var%20html_99598fde338f4e9fbe1da234f53967a4%20%3D%20%24%28%60%3Cdiv%20id%3D%22html_99598fde338f4e9fbe1da234f53967a4%22%20style%3D%22width%3A%20100.0%25%3B%20height%3A%20100.0%25%3B%22%3ECutter%20Lane%20Chandlers%20Avenue%20Cluster%200%3C/div%3E%60%29%5B0%5D%3B%0A%20%20%20%20%20%20%20%20%20%20%20%20popup_699bbbb5a12d4aaa87573b83a1a8078e.setContent%28html_99598fde338f4e9fbe1da234f53967a4%29%3B%0A%20%20%20%20%20%20%20%20%0A%0A%20%20%20%20%20%20%20%20circle_c3d84a4ec28e4c81a505225c53a3b490.bindPopup%28popup_699bbbb5a12d4aaa87573b83a1a8078e%29%0A%20%20%20%20%20%20%20%20%3B%0A%0A%20%20%20%20%20%20%20%20%0A%20%20%20%20%0A%20%20%20%20%0A%20%20%20%20%20%20%20%20%20%20%20%20var%20circle_1f45e47128de4532acd1e32381332137%20%3D%20L.circle%28%0A%20%20%20%20%20%20%20%20%20%20%20%20%20%20%20%20%5B51.481796%2C%20-0.090377%5D%2C%0A%20%20%20%20%20%20%20%20%20%20%20%20%20%20%20%20%7B%22bubblingMouseEvents%22%3A%20true%2C%20%22color%22%3A%20%22%23ee42bd%22%2C%20%22dashArray%22%3A%20null%2C%20%22dashOffset%22%3A%20null%2C%20%22fill%22%3A%20true%2C%20%22fillColor%22%3A%20%22%23ee42bd%22%2C%20%22fillOpacity%22%3A%200.7%2C%20%22fillRule%22%3A%20%22evenodd%22%2C%20%22lineCap%22%3A%20%22round%22%2C%20%22lineJoin%22%3A%20%22round%22%2C%20%22opacity%22%3A%201.0%2C%20%22radius%22%3A%201000%2C%20%22stroke%22%3A%20true%2C%20%22weight%22%3A%203%7D%0A%20%20%20%20%20%20%20%20%20%20%20%20%29.addTo%28map_095f223811fb429d8de559547b0dde1c%29%3B%0A%20%20%20%20%20%20%20%20%0A%20%20%20%20%0A%20%20%20%20%20%20%20%20var%20popup_f8ec9fae5ff04e97ab5d2a23b71e5636%20%3D%20L.popup%28%7B%22maxWidth%22%3A%20%22100%25%22%7D%29%3B%0A%0A%20%20%20%20%20%20%20%20%0A%20%20%20%20%20%20%20%20%20%20%20%20var%20html_13a53fb1128c4c6cb3723ee7122a6dc5%20%3D%20%24%28%60%3Cdiv%20id%3D%22html_13a53fb1128c4c6cb3723ee7122a6dc5%22%20style%3D%22width%3A%20100.0%25%3B%20height%3A%20100.0%25%3B%22%3ELettsom%20Street%20Cluster%203%3C/div%3E%60%29%5B0%5D%3B%0A%20%20%20%20%20%20%20%20%20%20%20%20popup_f8ec9fae5ff04e97ab5d2a23b71e5636.setContent%28html_13a53fb1128c4c6cb3723ee7122a6dc5%29%3B%0A%20%20%20%20%20%20%20%20%0A%0A%20%20%20%20%20%20%20%20circle_1f45e47128de4532acd1e32381332137.bindPopup%28popup_f8ec9fae5ff04e97ab5d2a23b71e5636%29%0A%20%20%20%20%20%20%20%20%3B%0A%0A%20%20%20%20%20%20%20%20%0A%20%20%20%20%0A%20%20%20%20%0A%20%20%20%20%20%20%20%20%20%20%20%20var%20circle_50dd691f30274029bced6e31108f6be3%20%3D%20L.circle%28%0A%20%20%20%20%20%20%20%20%20%20%20%20%20%20%20%20%5B51.401546%2C%200.015415%5D%2C%0A%20%20%20%20%20%20%20%20%20%20%20%20%20%20%20%20%7B%22bubblingMouseEvents%22%3A%20true%2C%20%22color%22%3A%20%22%230000cc%22%2C%20%22dashArray%22%3A%20null%2C%20%22dashOffset%22%3A%20null%2C%20%22fill%22%3A%20true%2C%20%22fillColor%22%3A%20%22%230000cc%22%2C%20%22fillOpacity%22%3A%200.7%2C%20%22fillRule%22%3A%20%22evenodd%22%2C%20%22lineCap%22%3A%20%22round%22%2C%20%22lineJoin%22%3A%20%22round%22%2C%20%22opacity%22%3A%201.0%2C%20%22radius%22%3A%201000%2C%20%22stroke%22%3A%20true%2C%20%22weight%22%3A%203%7D%0A%20%20%20%20%20%20%20%20%20%20%20%20%29.addTo%28map_095f223811fb429d8de559547b0dde1c%29%3B%0A%20%20%20%20%20%20%20%20%0A%20%20%20%20%0A%20%20%20%20%20%20%20%20var%20popup_99b99fe9d3e64f6da799bac86802f2b9%20%3D%20L.popup%28%7B%22maxWidth%22%3A%20%22100%25%22%7D%29%3B%0A%0A%20%20%20%20%20%20%20%20%0A%20%20%20%20%20%20%20%20%20%20%20%20var%20html_0911d414397742fea53c1e03a7bf7a9c%20%3D%20%24%28%60%3Cdiv%20id%3D%22html_0911d414397742fea53c1e03a7bf7a9c%22%20style%3D%22width%3A%20100.0%25%3B%20height%3A%20100.0%25%3B%22%3EPlaistow%20Lane%20Cluster%201%3C/div%3E%60%29%5B0%5D%3B%0A%20%20%20%20%20%20%20%20%20%20%20%20popup_99b99fe9d3e64f6da799bac86802f2b9.setContent%28html_0911d414397742fea53c1e03a7bf7a9c%29%3B%0A%20%20%20%20%20%20%20%20%0A%0A%20%20%20%20%20%20%20%20circle_50dd691f30274029bced6e31108f6be3.bindPopup%28popup_99b99fe9d3e64f6da799bac86802f2b9%29%0A%20%20%20%20%20%20%20%20%3B%0A%0A%20%20%20%20%20%20%20%20%0A%20%20%20%20%0A%20%20%20%20%0A%20%20%20%20%20%20%20%20%20%20%20%20var%20circle_827541d602a64c2e88d8209bff88fed2%20%3D%20L.circle%28%0A%20%20%20%20%20%20%20%20%20%20%20%20%20%20%20%20%5B51.450352%2C%200.062336%5D%2C%0A%20%20%20%20%20%20%20%20%20%20%20%20%20%20%20%20%7B%22bubblingMouseEvents%22%3A%20true%2C%20%22color%22%3A%20%22%23ee42bd%22%2C%20%22dashArray%22%3A%20null%2C%20%22dashOffset%22%3A%20null%2C%20%22fill%22%3A%20true%2C%20%22fillColor%22%3A%20%22%23ee42bd%22%2C%20%22fillOpacity%22%3A%200.7%2C%20%22fillRule%22%3A%20%22evenodd%22%2C%20%22lineCap%22%3A%20%22round%22%2C%20%22lineJoin%22%3A%20%22round%22%2C%20%22opacity%22%3A%201.0%2C%20%22radius%22%3A%201000%2C%20%22stroke%22%3A%20true%2C%20%22weight%22%3A%203%7D%0A%20%20%20%20%20%20%20%20%20%20%20%20%29.addTo%28map_095f223811fb429d8de559547b0dde1c%29%3B%0A%20%20%20%20%20%20%20%20%0A%20%20%20%20%0A%20%20%20%20%20%20%20%20var%20popup_d4547df5f4804e25809b97fdc93a410f%20%3D%20L.popup%28%7B%22maxWidth%22%3A%20%22100%25%22%7D%29%3B%0A%0A%20%20%20%20%20%20%20%20%0A%20%20%20%20%20%20%20%20%20%20%20%20var%20html_0abef148fa77414cb04389db20c1d503%20%3D%20%24%28%60%3Cdiv%20id%3D%22html_0abef148fa77414cb04389db20c1d503%22%20style%3D%22width%3A%20100.0%25%3B%20height%3A%20100.0%25%3B%22%3EChilderic%20Road%20Cluster%203%3C/div%3E%60%29%5B0%5D%3B%0A%20%20%20%20%20%20%20%20%20%20%20%20popup_d4547df5f4804e25809b97fdc93a410f.setContent%28html_0abef148fa77414cb04389db20c1d503%29%3B%0A%20%20%20%20%20%20%20%20%0A%0A%20%20%20%20%20%20%20%20circle_827541d602a64c2e88d8209bff88fed2.bindPopup%28popup_d4547df5f4804e25809b97fdc93a410f%29%0A%20%20%20%20%20%20%20%20%3B%0A%0A%20%20%20%20%20%20%20%20%0A%20%20%20%20%0A%20%20%20%20%0A%20%20%20%20%20%20%20%20%20%20%20%20var%20circle_d441d4b3443c4fa6ad59750d70422bfe%20%3D%20L.circle%28%0A%20%20%20%20%20%20%20%20%20%20%20%20%20%20%20%20%5B51.474867%2C%20-0.046933%5D%2C%0A%20%20%20%20%20%20%20%20%20%20%20%20%20%20%20%20%7B%22bubblingMouseEvents%22%3A%20true%2C%20%22color%22%3A%20%22%230000cc%22%2C%20%22dashArray%22%3A%20null%2C%20%22dashOffset%22%3A%20null%2C%20%22fill%22%3A%20true%2C%20%22fillColor%22%3A%20%22%230000cc%22%2C%20%22fillOpacity%22%3A%200.7%2C%20%22fillRule%22%3A%20%22evenodd%22%2C%20%22lineCap%22%3A%20%22round%22%2C%20%22lineJoin%22%3A%20%22round%22%2C%20%22opacity%22%3A%201.0%2C%20%22radius%22%3A%201000%2C%20%22stroke%22%3A%20true%2C%20%22weight%22%3A%203%7D%0A%20%20%20%20%20%20%20%20%20%20%20%20%29.addTo%28map_095f223811fb429d8de559547b0dde1c%29%3B%0A%20%20%20%20%20%20%20%20%0A%20%20%20%20%0A%20%20%20%20%20%20%20%20var%20popup_d69b4707eaf846118895b0a1a0e7d841%20%3D%20L.popup%28%7B%22maxWidth%22%3A%20%22100%25%22%7D%29%3B%0A%0A%20%20%20%20%20%20%20%20%0A%20%20%20%20%20%20%20%20%20%20%20%20var%20html_43e8ffc202a046c5bdafd9fa1cb15646%20%3D%20%24%28%60%3Cdiv%20id%3D%22html_43e8ffc202a046c5bdafd9fa1cb15646%22%20style%3D%22width%3A%20100.0%25%3B%20height%3A%20100.0%25%3B%22%3ENew%20Wanstead%20Cluster%201%3C/div%3E%60%29%5B0%5D%3B%0A%20%20%20%20%20%20%20%20%20%20%20%20popup_d69b4707eaf846118895b0a1a0e7d841.setContent%28html_43e8ffc202a046c5bdafd9fa1cb15646%29%3B%0A%20%20%20%20%20%20%20%20%0A%0A%20%20%20%20%20%20%20%20circle_d441d4b3443c4fa6ad59750d70422bfe.bindPopup%28popup_d69b4707eaf846118895b0a1a0e7d841%29%0A%20%20%20%20%20%20%20%20%3B%0A%0A%20%20%20%20%20%20%20%20%0A%20%20%20%20%0A%20%20%20%20%0A%20%20%20%20%20%20%20%20%20%20%20%20var%20circle_6987094d22bb468386dfb5e0d54363b4%20%3D%20L.circle%28%0A%20%20%20%20%20%20%20%20%20%20%20%20%20%20%20%20%5B51.564032%2C%200.008813%5D%2C%0A%20%20%20%20%20%20%20%20%20%20%20%20%20%20%20%20%7B%22bubblingMouseEvents%22%3A%20true%2C%20%22color%22%3A%20%22%23fff609%22%2C%20%22dashArray%22%3A%20null%2C%20%22dashOffset%22%3A%20null%2C%20%22fill%22%3A%20true%2C%20%22fillColor%22%3A%20%22%23fff609%22%2C%20%22fillOpacity%22%3A%200.7%2C%20%22fillRule%22%3A%20%22evenodd%22%2C%20%22lineCap%22%3A%20%22round%22%2C%20%22lineJoin%22%3A%20%22round%22%2C%20%22opacity%22%3A%201.0%2C%20%22radius%22%3A%201000%2C%20%22stroke%22%3A%20true%2C%20%22weight%22%3A%203%7D%0A%20%20%20%20%20%20%20%20%20%20%20%20%29.addTo%28map_095f223811fb429d8de559547b0dde1c%29%3B%0A%20%20%20%20%20%20%20%20%0A%20%20%20%20%0A%20%20%20%20%20%20%20%20var%20popup_37b7afd2129d41038013c0d08fc5ffec%20%3D%20L.popup%28%7B%22maxWidth%22%3A%20%22100%25%22%7D%29%3B%0A%0A%20%20%20%20%20%20%20%20%0A%20%20%20%20%20%20%20%20%20%20%20%20var%20html_bcd33639599d48b6a32bc0e225a85a6f%20%3D%20%24%28%60%3Cdiv%20id%3D%22html_bcd33639599d48b6a32bc0e225a85a6f%22%20style%3D%22width%3A%20100.0%25%3B%20height%3A%20100.0%25%3B%22%3ESherfield%20Gardens%20Cluster%200%3C/div%3E%60%29%5B0%5D%3B%0A%20%20%20%20%20%20%20%20%20%20%20%20popup_37b7afd2129d41038013c0d08fc5ffec.setContent%28html_bcd33639599d48b6a32bc0e225a85a6f%29%3B%0A%20%20%20%20%20%20%20%20%0A%0A%20%20%20%20%20%20%20%20circle_6987094d22bb468386dfb5e0d54363b4.bindPopup%28popup_37b7afd2129d41038013c0d08fc5ffec%29%0A%20%20%20%20%20%20%20%20%3B%0A%0A%20%20%20%20%20%20%20%20%0A%20%20%20%20%0A%20%20%20%20%0A%20%20%20%20%20%20%20%20%20%20%20%20var%20circle_b873736b13d04e59a9ebfec582ba20b0%20%3D%20L.circle%28%0A%20%20%20%20%20%20%20%20%20%20%20%20%20%20%20%20%5B51.464123%2C%20-0.222848%5D%2C%0A%20%20%20%20%20%20%20%20%20%20%20%20%20%20%20%20%7B%22bubblingMouseEvents%22%3A%20true%2C%20%22color%22%3A%20%22%23ee42bd%22%2C%20%22dashArray%22%3A%20null%2C%20%22dashOffset%22%3A%20null%2C%20%22fill%22%3A%20true%2C%20%22fillColor%22%3A%20%22%23ee42bd%22%2C%20%22fillOpacity%22%3A%200.7%2C%20%22fillRule%22%3A%20%22evenodd%22%2C%20%22lineCap%22%3A%20%22round%22%2C%20%22lineJoin%22%3A%20%22round%22%2C%20%22opacity%22%3A%201.0%2C%20%22radius%22%3A%201000%2C%20%22stroke%22%3A%20true%2C%20%22weight%22%3A%203%7D%0A%20%20%20%20%20%20%20%20%20%20%20%20%29.addTo%28map_095f223811fb429d8de559547b0dde1c%29%3B%0A%20%20%20%20%20%20%20%20%0A%20%20%20%20%0A%20%20%20%20%20%20%20%20var%20popup_13a6fd0a371943be98c1c34670025f94%20%3D%20L.popup%28%7B%22maxWidth%22%3A%20%22100%25%22%7D%29%3B%0A%0A%20%20%20%20%20%20%20%20%0A%20%20%20%20%20%20%20%20%20%20%20%20var%20html_b269da9878b643ccba21a14c6f4ea9f8%20%3D%20%24%28%60%3Cdiv%20id%3D%22html_b269da9878b643ccba21a14c6f4ea9f8%22%20style%3D%22width%3A%20100.0%25%3B%20height%3A%20100.0%25%3B%22%3EAdelaide%20Avenue%20Cluster%203%3C/div%3E%60%29%5B0%5D%3B%0A%20%20%20%20%20%20%20%20%20%20%20%20popup_13a6fd0a371943be98c1c34670025f94.setContent%28html_b269da9878b643ccba21a14c6f4ea9f8%29%3B%0A%20%20%20%20%20%20%20%20%0A%0A%20%20%20%20%20%20%20%20circle_b873736b13d04e59a9ebfec582ba20b0.bindPopup%28popup_13a6fd0a371943be98c1c34670025f94%29%0A%20%20%20%20%20%20%20%20%3B%0A%0A%20%20%20%20%20%20%20%20%0A%20%20%20%20%0A%20%20%20%20%0A%20%20%20%20%20%20%20%20%20%20%20%20var%20circle_2d33f3e9a21f48149dbc95aa77b89bad%20%3D%20L.circle%28%0A%20%20%20%20%20%20%20%20%20%20%20%20%20%20%20%20%5B51.453268%2C%20-0.032498%5D%2C%0A%20%20%20%20%20%20%20%20%20%20%20%20%20%20%20%20%7B%22bubblingMouseEvents%22%3A%20true%2C%20%22color%22%3A%20%22%230000cc%22%2C%20%22dashArray%22%3A%20null%2C%20%22dashOffset%22%3A%20null%2C%20%22fill%22%3A%20true%2C%20%22fillColor%22%3A%20%22%230000cc%22%2C%20%22fillOpacity%22%3A%200.7%2C%20%22fillRule%22%3A%20%22evenodd%22%2C%20%22lineCap%22%3A%20%22round%22%2C%20%22lineJoin%22%3A%20%22round%22%2C%20%22opacity%22%3A%201.0%2C%20%22radius%22%3A%201000%2C%20%22stroke%22%3A%20true%2C%20%22weight%22%3A%203%7D%0A%20%20%20%20%20%20%20%20%20%20%20%20%29.addTo%28map_095f223811fb429d8de559547b0dde1c%29%3B%0A%20%20%20%20%20%20%20%20%0A%20%20%20%20%0A%20%20%20%20%20%20%20%20var%20popup_c6e0f6768c66438a9bdb356e60cef444%20%3D%20L.popup%28%7B%22maxWidth%22%3A%20%22100%25%22%7D%29%3B%0A%0A%20%20%20%20%20%20%20%20%0A%20%20%20%20%20%20%20%20%20%20%20%20var%20html_03526ff2a8c34145ae11c6fc8b894f5c%20%3D%20%24%28%60%3Cdiv%20id%3D%22html_03526ff2a8c34145ae11c6fc8b894f5c%22%20style%3D%22width%3A%20100.0%25%3B%20height%3A%20100.0%25%3B%22%3EDisraeli%20Road%20Cluster%201%3C/div%3E%60%29%5B0%5D%3B%0A%20%20%20%20%20%20%20%20%20%20%20%20popup_c6e0f6768c66438a9bdb356e60cef444.setContent%28html_03526ff2a8c34145ae11c6fc8b894f5c%29%3B%0A%20%20%20%20%20%20%20%20%0A%0A%20%20%20%20%20%20%20%20circle_2d33f3e9a21f48149dbc95aa77b89bad.bindPopup%28popup_c6e0f6768c66438a9bdb356e60cef444%29%0A%20%20%20%20%20%20%20%20%3B%0A%0A%20%20%20%20%20%20%20%20%0A%20%20%20%20%0A%20%20%20%20%0A%20%20%20%20%20%20%20%20%20%20%20%20var%20circle_f5a508c9ff1b49aca009f4ac659c4299%20%3D%20L.circle%28%0A%20%20%20%20%20%20%20%20%20%20%20%20%20%20%20%20%5B51.554412%2C%200.019655%5D%2C%0A%20%20%20%20%20%20%20%20%20%20%20%20%20%20%20%20%7B%22bubblingMouseEvents%22%3A%20true%2C%20%22color%22%3A%20%22%23ee42bd%22%2C%20%22dashArray%22%3A%20null%2C%20%22dashOffset%22%3A%20null%2C%20%22fill%22%3A%20true%2C%20%22fillColor%22%3A%20%22%23ee42bd%22%2C%20%22fillOpacity%22%3A%200.7%2C%20%22fillRule%22%3A%20%22evenodd%22%2C%20%22lineCap%22%3A%20%22round%22%2C%20%22lineJoin%22%3A%20%22round%22%2C%20%22opacity%22%3A%201.0%2C%20%22radius%22%3A%201000%2C%20%22stroke%22%3A%20true%2C%20%22weight%22%3A%203%7D%0A%20%20%20%20%20%20%20%20%20%20%20%20%29.addTo%28map_095f223811fb429d8de559547b0dde1c%29%3B%0A%20%20%20%20%20%20%20%20%0A%20%20%20%20%0A%20%20%20%20%20%20%20%20var%20popup_7cce8b6fa0764bab9f4d4cd8cd05f13c%20%3D%20L.popup%28%7B%22maxWidth%22%3A%20%22100%25%22%7D%29%3B%0A%0A%20%20%20%20%20%20%20%20%0A%20%20%20%20%20%20%20%20%20%20%20%20var%20html_1d2e07c0db9d4df8b9ad6ee7fdefd8fc%20%3D%20%24%28%60%3Cdiv%20id%3D%22html_1d2e07c0db9d4df8b9ad6ee7fdefd8fc%22%20style%3D%22width%3A%20100.0%25%3B%20height%3A%20100.0%25%3B%22%3EEast%20Street%20Cluster%203%3C/div%3E%60%29%5B0%5D%3B%0A%20%20%20%20%20%20%20%20%20%20%20%20popup_7cce8b6fa0764bab9f4d4cd8cd05f13c.setContent%28html_1d2e07c0db9d4df8b9ad6ee7fdefd8fc%29%3B%0A%20%20%20%20%20%20%20%20%0A%0A%20%20%20%20%20%20%20%20circle_f5a508c9ff1b49aca009f4ac659c4299.bindPopup%28popup_7cce8b6fa0764bab9f4d4cd8cd05f13c%29%0A%20%20%20%20%20%20%20%20%3B%0A%0A%20%20%20%20%20%20%20%20%0A%20%20%20%20%0A%20%20%20%20%0A%20%20%20%20%20%20%20%20%20%20%20%20var%20circle_c71946e6467448bbbc4bf010efd9ec9f%20%3D%20L.circle%28%0A%20%20%20%20%20%20%20%20%20%20%20%20%20%20%20%20%5B51.524785%2C%200.078646%5D%2C%0A%20%20%20%20%20%20%20%20%20%20%20%20%20%20%20%20%7B%22bubblingMouseEvents%22%3A%20true%2C%20%22color%22%3A%20%22%23ee42bd%22%2C%20%22dashArray%22%3A%20null%2C%20%22dashOffset%22%3A%20null%2C%20%22fill%22%3A%20true%2C%20%22fillColor%22%3A%20%22%23ee42bd%22%2C%20%22fillOpacity%22%3A%200.7%2C%20%22fillRule%22%3A%20%22evenodd%22%2C%20%22lineCap%22%3A%20%22round%22%2C%20%22lineJoin%22%3A%20%22round%22%2C%20%22opacity%22%3A%201.0%2C%20%22radius%22%3A%201000%2C%20%22stroke%22%3A%20true%2C%20%22weight%22%3A%203%7D%0A%20%20%20%20%20%20%20%20%20%20%20%20%29.addTo%28map_095f223811fb429d8de559547b0dde1c%29%3B%0A%20%20%20%20%20%20%20%20%0A%20%20%20%20%0A%20%20%20%20%20%20%20%20var%20popup_4877515211c8492aa43d025be32a5a77%20%3D%20L.popup%28%7B%22maxWidth%22%3A%20%22100%25%22%7D%29%3B%0A%0A%20%20%20%20%20%20%20%20%0A%20%20%20%20%20%20%20%20%20%20%20%20var%20html_e348a1785963406d867d2559fc7a5d65%20%3D%20%24%28%60%3Cdiv%20id%3D%22html_e348a1785963406d867d2559fc7a5d65%22%20style%3D%22width%3A%20100.0%25%3B%20height%3A%20100.0%25%3B%22%3EJamaica%20Road%20Cluster%203%3C/div%3E%60%29%5B0%5D%3B%0A%20%20%20%20%20%20%20%20%20%20%20%20popup_4877515211c8492aa43d025be32a5a77.setContent%28html_e348a1785963406d867d2559fc7a5d65%29%3B%0A%20%20%20%20%20%20%20%20%0A%0A%20%20%20%20%20%20%20%20circle_c71946e6467448bbbc4bf010efd9ec9f.bindPopup%28popup_4877515211c8492aa43d025be32a5a77%29%0A%20%20%20%20%20%20%20%20%3B%0A%0A%20%20%20%20%20%20%20%20%0A%20%20%20%20%0A%20%20%20%20%0A%20%20%20%20%20%20%20%20%20%20%20%20var%20circle_7c25b32fd18e4f5a8ccac00ef21e75bb%20%3D%20L.circle%28%0A%20%20%20%20%20%20%20%20%20%20%20%20%20%20%20%20%5B51.491797%2C%20-0.042421%5D%2C%0A%20%20%20%20%20%20%20%20%20%20%20%20%20%20%20%20%7B%22bubblingMouseEvents%22%3A%20true%2C%20%22color%22%3A%20%22%23ee42bd%22%2C%20%22dashArray%22%3A%20null%2C%20%22dashOffset%22%3A%20null%2C%20%22fill%22%3A%20true%2C%20%22fillColor%22%3A%20%22%23ee42bd%22%2C%20%22fillOpacity%22%3A%200.7%2C%20%22fillRule%22%3A%20%22evenodd%22%2C%20%22lineCap%22%3A%20%22round%22%2C%20%22lineJoin%22%3A%20%22round%22%2C%20%22opacity%22%3A%201.0%2C%20%22radius%22%3A%201000%2C%20%22stroke%22%3A%20true%2C%20%22weight%22%3A%203%7D%0A%20%20%20%20%20%20%20%20%20%20%20%20%29.addTo%28map_095f223811fb429d8de559547b0dde1c%29%3B%0A%20%20%20%20%20%20%20%20%0A%20%20%20%20%0A%20%20%20%20%20%20%20%20var%20popup_72ab8a28e78a4205b34316ec490b6070%20%3D%20L.popup%28%7B%22maxWidth%22%3A%20%22100%25%22%7D%29%3B%0A%0A%20%20%20%20%20%20%20%20%0A%20%20%20%20%20%20%20%20%20%20%20%20var%20html_6102ccace4bd41cabfccbe005ea171cf%20%3D%20%24%28%60%3Cdiv%20id%3D%22html_6102ccace4bd41cabfccbe005ea171cf%22%20style%3D%22width%3A%20100.0%25%3B%20height%3A%20100.0%25%3B%22%3ESydenham%20Road%20Cluster%203%3C/div%3E%60%29%5B0%5D%3B%0A%20%20%20%20%20%20%20%20%20%20%20%20popup_72ab8a28e78a4205b34316ec490b6070.setContent%28html_6102ccace4bd41cabfccbe005ea171cf%29%3B%0A%20%20%20%20%20%20%20%20%0A%0A%20%20%20%20%20%20%20%20circle_7c25b32fd18e4f5a8ccac00ef21e75bb.bindPopup%28popup_72ab8a28e78a4205b34316ec490b6070%29%0A%20%20%20%20%20%20%20%20%3B%0A%0A%20%20%20%20%20%20%20%20%0A%20%20%20%20%0A%20%20%20%20%0A%20%20%20%20%20%20%20%20%20%20%20%20var%20circle_2114352b9ba14fedb4b66ec4b583fce5%20%3D%20L.circle%28%0A%20%20%20%20%20%20%20%20%20%20%20%20%20%20%20%20%5B51.429347%2C%20-0.044847%5D%2C%0A%20%20%20%20%20%20%20%20%20%20%20%20%20%20%20%20%7B%22bubblingMouseEvents%22%3A%20true%2C%20%22color%22%3A%20%22%23ee42bd%22%2C%20%22dashArray%22%3A%20null%2C%20%22dashOffset%22%3A%20null%2C%20%22fill%22%3A%20true%2C%20%22fillColor%22%3A%20%22%23ee42bd%22%2C%20%22fillOpacity%22%3A%200.7%2C%20%22fillRule%22%3A%20%22evenodd%22%2C%20%22lineCap%22%3A%20%22round%22%2C%20%22lineJoin%22%3A%20%22round%22%2C%20%22opacity%22%3A%201.0%2C%20%22radius%22%3A%201000%2C%20%22stroke%22%3A%20true%2C%20%22weight%22%3A%203%7D%0A%20%20%20%20%20%20%20%20%20%20%20%20%29.addTo%28map_095f223811fb429d8de559547b0dde1c%29%3B%0A%20%20%20%20%20%20%20%20%0A%20%20%20%20%0A%20%20%20%20%20%20%20%20var%20popup_df5351b1e4c9405c83dd06caefa7a2d6%20%3D%20L.popup%28%7B%22maxWidth%22%3A%20%22100%25%22%7D%29%3B%0A%0A%20%20%20%20%20%20%20%20%0A%20%20%20%20%20%20%20%20%20%20%20%20var%20html_8a34e68961964895a6a598be442a834f%20%3D%20%24%28%60%3Cdiv%20id%3D%22html_8a34e68961964895a6a598be442a834f%22%20style%3D%22width%3A%20100.0%25%3B%20height%3A%20100.0%25%3B%22%3ESandford%20Road%20Cluster%203%3C/div%3E%60%29%5B0%5D%3B%0A%20%20%20%20%20%20%20%20%20%20%20%20popup_df5351b1e4c9405c83dd06caefa7a2d6.setContent%28html_8a34e68961964895a6a598be442a834f%29%3B%0A%20%20%20%20%20%20%20%20%0A%0A%20%20%20%20%20%20%20%20circle_2114352b9ba14fedb4b66ec4b583fce5.bindPopup%28popup_df5351b1e4c9405c83dd06caefa7a2d6%29%0A%20%20%20%20%20%20%20%20%3B%0A%0A%20%20%20%20%20%20%20%20%0A%20%20%20%20%0A%20%20%20%20%0A%20%20%20%20%20%20%20%20%20%20%20%20var%20circle_dd852a6b69224669afc3e38e54d0e6da%20%3D%20L.circle%28%0A%20%20%20%20%20%20%20%20%20%20%20%20%20%20%20%20%5B51.407775%2C%20-0.003321%5D%2C%0A%20%20%20%20%20%20%20%20%20%20%20%20%20%20%20%20%7B%22bubblingMouseEvents%22%3A%20true%2C%20%22color%22%3A%20%22%23ee42bd%22%2C%20%22dashArray%22%3A%20null%2C%20%22dashOffset%22%3A%20null%2C%20%22fill%22%3A%20true%2C%20%22fillColor%22%3A%20%22%23ee42bd%22%2C%20%22fillOpacity%22%3A%200.7%2C%20%22fillRule%22%3A%20%22evenodd%22%2C%20%22lineCap%22%3A%20%22round%22%2C%20%22lineJoin%22%3A%20%22round%22%2C%20%22opacity%22%3A%201.0%2C%20%22radius%22%3A%201000%2C%20%22stroke%22%3A%20true%2C%20%22weight%22%3A%203%7D%0A%20%20%20%20%20%20%20%20%20%20%20%20%29.addTo%28map_095f223811fb429d8de559547b0dde1c%29%3B%0A%20%20%20%20%20%20%20%20%0A%20%20%20%20%0A%20%20%20%20%20%20%20%20var%20popup_e127714c70014373aeb61ee5d9f367e6%20%3D%20L.popup%28%7B%22maxWidth%22%3A%20%22100%25%22%7D%29%3B%0A%0A%20%20%20%20%20%20%20%20%0A%20%20%20%20%20%20%20%20%20%20%20%20var%20html_f76a5fd2592f4bde80103758e24ad027%20%3D%20%24%28%60%3Cdiv%20id%3D%22html_f76a5fd2592f4bde80103758e24ad027%22%20style%3D%22width%3A%20100.0%25%3B%20height%3A%20100.0%25%3B%22%3EKingswood%20Estate%20Cluster%203%3C/div%3E%60%29%5B0%5D%3B%0A%20%20%20%20%20%20%20%20%20%20%20%20popup_e127714c70014373aeb61ee5d9f367e6.setContent%28html_f76a5fd2592f4bde80103758e24ad027%29%3B%0A%20%20%20%20%20%20%20%20%0A%0A%20%20%20%20%20%20%20%20circle_dd852a6b69224669afc3e38e54d0e6da.bindPopup%28popup_e127714c70014373aeb61ee5d9f367e6%29%0A%20%20%20%20%20%20%20%20%3B%0A%0A%20%20%20%20%20%20%20%20%0A%20%20%20%20%0A%20%20%20%20%0A%20%20%20%20%20%20%20%20%20%20%20%20var%20circle_666e37493b2948bbaae0c9fc94e1746d%20%3D%20L.circle%28%0A%20%20%20%20%20%20%20%20%20%20%20%20%20%20%20%20%5B51.434204%2C%20-0.085226%5D%2C%0A%20%20%20%20%20%20%20%20%20%20%20%20%20%20%20%20%7B%22bubblingMouseEvents%22%3A%20true%2C%20%22color%22%3A%20%22%23ee42bd%22%2C%20%22dashArray%22%3A%20null%2C%20%22dashOffset%22%3A%20null%2C%20%22fill%22%3A%20true%2C%20%22fillColor%22%3A%20%22%23ee42bd%22%2C%20%22fillOpacity%22%3A%200.7%2C%20%22fillRule%22%3A%20%22evenodd%22%2C%20%22lineCap%22%3A%20%22round%22%2C%20%22lineJoin%22%3A%20%22round%22%2C%20%22opacity%22%3A%201.0%2C%20%22radius%22%3A%201000%2C%20%22stroke%22%3A%20true%2C%20%22weight%22%3A%203%7D%0A%20%20%20%20%20%20%20%20%20%20%20%20%29.addTo%28map_095f223811fb429d8de559547b0dde1c%29%3B%0A%20%20%20%20%20%20%20%20%0A%20%20%20%20%0A%20%20%20%20%20%20%20%20var%20popup_01aca972b2934ac78c33dd983caf9aa7%20%3D%20L.popup%28%7B%22maxWidth%22%3A%20%22100%25%22%7D%29%3B%0A%0A%20%20%20%20%20%20%20%20%0A%20%20%20%20%20%20%20%20%20%20%20%20var%20html_953f5abbe5184a10b25298873001ad73%20%3D%20%24%28%60%3Cdiv%20id%3D%22html_953f5abbe5184a10b25298873001ad73%22%20style%3D%22width%3A%20100.0%25%3B%20height%3A%20100.0%25%3B%22%3EShurland%20Gardens%20Willowbrook%20Estate%20Cluster%203%3C/div%3E%60%29%5B0%5D%3B%0A%20%20%20%20%20%20%20%20%20%20%20%20popup_01aca972b2934ac78c33dd983caf9aa7.setContent%28html_953f5abbe5184a10b25298873001ad73%29%3B%0A%20%20%20%20%20%20%20%20%0A%0A%20%20%20%20%20%20%20%20circle_666e37493b2948bbaae0c9fc94e1746d.bindPopup%28popup_01aca972b2934ac78c33dd983caf9aa7%29%0A%20%20%20%20%20%20%20%20%3B%0A%0A%20%20%20%20%20%20%20%20%0A%20%20%20%20%0A%20%20%20%20%0A%20%20%20%20%20%20%20%20%20%20%20%20var%20circle_b3f0e7cffe154449bd54f9f046de4cbb%20%3D%20L.circle%28%0A%20%20%20%20%20%20%20%20%20%20%20%20%20%20%20%20%5B51.47681%2C%20-0.068163%5D%2C%0A%20%20%20%20%20%20%20%20%20%20%20%20%20%20%20%20%7B%22bubblingMouseEvents%22%3A%20true%2C%20%22color%22%3A%20%22%230000cc%22%2C%20%22dashArray%22%3A%20null%2C%20%22dashOffset%22%3A%20null%2C%20%22fill%22%3A%20true%2C%20%22fillColor%22%3A%20%22%230000cc%22%2C%20%22fillOpacity%22%3A%200.7%2C%20%22fillRule%22%3A%20%22evenodd%22%2C%20%22lineCap%22%3A%20%22round%22%2C%20%22lineJoin%22%3A%20%22round%22%2C%20%22opacity%22%3A%201.0%2C%20%22radius%22%3A%201000%2C%20%22stroke%22%3A%20true%2C%20%22weight%22%3A%203%7D%0A%20%20%20%20%20%20%20%20%20%20%20%20%29.addTo%28map_095f223811fb429d8de559547b0dde1c%29%3B%0A%20%20%20%20%20%20%20%20%0A%20%20%20%20%0A%20%20%20%20%20%20%20%20var%20popup_65426ed8f9554526a1e7f61cc1662f5b%20%3D%20L.popup%28%7B%22maxWidth%22%3A%20%22100%25%22%7D%29%3B%0A%0A%20%20%20%20%20%20%20%20%0A%20%20%20%20%20%20%20%20%20%20%20%20var%20html_a315288a3a37406cb470fc4d197a7a4f%20%3D%20%24%28%60%3Cdiv%20id%3D%22html_a315288a3a37406cb470fc4d197a7a4f%22%20style%3D%22width%3A%20100.0%25%3B%20height%3A%20100.0%25%3B%22%3EAnson%20Place%20Cluster%201%3C/div%3E%60%29%5B0%5D%3B%0A%20%20%20%20%20%20%20%20%20%20%20%20popup_65426ed8f9554526a1e7f61cc1662f5b.setContent%28html_a315288a3a37406cb470fc4d197a7a4f%29%3B%0A%20%20%20%20%20%20%20%20%0A%0A%20%20%20%20%20%20%20%20circle_b3f0e7cffe154449bd54f9f046de4cbb.bindPopup%28popup_65426ed8f9554526a1e7f61cc1662f5b%29%0A%20%20%20%20%20%20%20%20%3B%0A%0A%20%20%20%20%20%20%20%20%0A%20%20%20%20%0A%20%20%20%20%0A%20%20%20%20%20%20%20%20%20%20%20%20var%20circle_7f674dabf9554e0eb8dbbf816417a134%20%3D%20L.circle%28%0A%20%20%20%20%20%20%20%20%20%20%20%20%20%20%20%20%5B51.492037%2C%200.087067%5D%2C%0A%20%20%20%20%20%20%20%20%20%20%20%20%20%20%20%20%7B%22bubblingMouseEvents%22%3A%20true%2C%20%22color%22%3A%20%22%23ee42bd%22%2C%20%22dashArray%22%3A%20null%2C%20%22dashOffset%22%3A%20null%2C%20%22fill%22%3A%20true%2C%20%22fillColor%22%3A%20%22%23ee42bd%22%2C%20%22fillOpacity%22%3A%200.7%2C%20%22fillRule%22%3A%20%22evenodd%22%2C%20%22lineCap%22%3A%20%22round%22%2C%20%22lineJoin%22%3A%20%22round%22%2C%20%22opacity%22%3A%201.0%2C%20%22radius%22%3A%201000%2C%20%22stroke%22%3A%20true%2C%20%22weight%22%3A%203%7D%0A%20%20%20%20%20%20%20%20%20%20%20%20%29.addTo%28map_095f223811fb429d8de559547b0dde1c%29%3B%0A%20%20%20%20%20%20%20%20%0A%20%20%20%20%0A%20%20%20%20%20%20%20%20var%20popup_04f9313b37a14ab1ac95238202c98f34%20%3D%20L.popup%28%7B%22maxWidth%22%3A%20%22100%25%22%7D%29%3B%0A%0A%20%20%20%20%20%20%20%20%0A%20%20%20%20%20%20%20%20%20%20%20%20var%20html_d54aa9717799401889885ef14f3038db%20%3D%20%24%28%60%3Cdiv%20id%3D%22html_d54aa9717799401889885ef14f3038db%22%20style%3D%22width%3A%20100.0%25%3B%20height%3A%20100.0%25%3B%22%3EGrove%20Place%20Cluster%203%3C/div%3E%60%29%5B0%5D%3B%0A%20%20%20%20%20%20%20%20%20%20%20%20popup_04f9313b37a14ab1ac95238202c98f34.setContent%28html_d54aa9717799401889885ef14f3038db%29%3B%0A%20%20%20%20%20%20%20%20%0A%0A%20%20%20%20%20%20%20%20circle_7f674dabf9554e0eb8dbbf816417a134.bindPopup%28popup_04f9313b37a14ab1ac95238202c98f34%29%0A%20%20%20%20%20%20%20%20%3B%0A%0A%20%20%20%20%20%20%20%20%0A%20%20%20%20%0A%20%20%20%20%0A%20%20%20%20%20%20%20%20%20%20%20%20var%20circle_ce9d5408222e485e8fef0ffe97668cc4%20%3D%20L.circle%28%0A%20%20%20%20%20%20%20%20%20%20%20%20%20%20%20%20%5B51.53758%2C%200.040295%5D%2C%0A%20%20%20%20%20%20%20%20%20%20%20%20%20%20%20%20%7B%22bubblingMouseEvents%22%3A%20true%2C%20%22color%22%3A%20%22%230000cc%22%2C%20%22dashArray%22%3A%20null%2C%20%22dashOffset%22%3A%20null%2C%20%22fill%22%3A%20true%2C%20%22fillColor%22%3A%20%22%230000cc%22%2C%20%22fillOpacity%22%3A%200.7%2C%20%22fillRule%22%3A%20%22evenodd%22%2C%20%22lineCap%22%3A%20%22round%22%2C%20%22lineJoin%22%3A%20%22round%22%2C%20%22opacity%22%3A%201.0%2C%20%22radius%22%3A%201000%2C%20%22stroke%22%3A%20true%2C%20%22weight%22%3A%203%7D%0A%20%20%20%20%20%20%20%20%20%20%20%20%29.addTo%28map_095f223811fb429d8de559547b0dde1c%29%3B%0A%20%20%20%20%20%20%20%20%0A%20%20%20%20%0A%20%20%20%20%20%20%20%20var%20popup_8ac4d3ec2af846dc8c226c2a839c54a0%20%3D%20L.popup%28%7B%22maxWidth%22%3A%20%22100%25%22%7D%29%3B%0A%0A%20%20%20%20%20%20%20%20%0A%20%20%20%20%20%20%20%20%20%20%20%20var%20html_7f007df5f04f40bfa483e21e52f38bda%20%3D%20%24%28%60%3Cdiv%20id%3D%22html_7f007df5f04f40bfa483e21e52f38bda%22%20style%3D%22width%3A%20100.0%25%3B%20height%3A%20100.0%25%3B%22%3EHigh%20Street%20South%20Cluster%201%3C/div%3E%60%29%5B0%5D%3B%0A%20%20%20%20%20%20%20%20%20%20%20%20popup_8ac4d3ec2af846dc8c226c2a839c54a0.setContent%28html_7f007df5f04f40bfa483e21e52f38bda%29%3B%0A%20%20%20%20%20%20%20%20%0A%0A%20%20%20%20%20%20%20%20circle_ce9d5408222e485e8fef0ffe97668cc4.bindPopup%28popup_8ac4d3ec2af846dc8c226c2a839c54a0%29%0A%20%20%20%20%20%20%20%20%3B%0A%0A%20%20%20%20%20%20%20%20%0A%20%20%20%20%0A%20%20%20%20%0A%20%20%20%20%20%20%20%20%20%20%20%20var%20circle_a7622d84795d46b8a463a79c2e31c21c%20%3D%20L.circle%28%0A%20%20%20%20%20%20%20%20%20%20%20%20%20%20%20%20%5B51.484461%2C%200.084733%5D%2C%0A%20%20%20%20%20%20%20%20%20%20%20%20%20%20%20%20%7B%22bubblingMouseEvents%22%3A%20true%2C%20%22color%22%3A%20%22%23ee42bd%22%2C%20%22dashArray%22%3A%20null%2C%20%22dashOffset%22%3A%20null%2C%20%22fill%22%3A%20true%2C%20%22fillColor%22%3A%20%22%23ee42bd%22%2C%20%22fillOpacity%22%3A%200.7%2C%20%22fillRule%22%3A%20%22evenodd%22%2C%20%22lineCap%22%3A%20%22round%22%2C%20%22lineJoin%22%3A%20%22round%22%2C%20%22opacity%22%3A%201.0%2C%20%22radius%22%3A%201000%2C%20%22stroke%22%3A%20true%2C%20%22weight%22%3A%203%7D%0A%20%20%20%20%20%20%20%20%20%20%20%20%29.addTo%28map_095f223811fb429d8de559547b0dde1c%29%3B%0A%20%20%20%20%20%20%20%20%0A%20%20%20%20%0A%20%20%20%20%20%20%20%20var%20popup_f9de13a56b4a40ad87e5fad56c68ac50%20%3D%20L.popup%28%7B%22maxWidth%22%3A%20%22100%25%22%7D%29%3B%0A%0A%20%20%20%20%20%20%20%20%0A%20%20%20%20%20%20%20%20%20%20%20%20var%20html_2855b07e81fc412a895232010bf6db4f%20%3D%20%24%28%60%3Cdiv%20id%3D%22html_2855b07e81fc412a895232010bf6db4f%22%20style%3D%22width%3A%20100.0%25%3B%20height%3A%20100.0%25%3B%22%3ESouth%20Street%20Cluster%203%3C/div%3E%60%29%5B0%5D%3B%0A%20%20%20%20%20%20%20%20%20%20%20%20popup_f9de13a56b4a40ad87e5fad56c68ac50.setContent%28html_2855b07e81fc412a895232010bf6db4f%29%3B%0A%20%20%20%20%20%20%20%20%0A%0A%20%20%20%20%20%20%20%20circle_a7622d84795d46b8a463a79c2e31c21c.bindPopup%28popup_f9de13a56b4a40ad87e5fad56c68ac50%29%0A%20%20%20%20%20%20%20%20%3B%0A%0A%20%20%20%20%20%20%20%20%0A%20%20%20%20%0A%20%20%20%20%0A%20%20%20%20%20%20%20%20%20%20%20%20var%20circle_517b261e3ea44c0eb580a800d4281552%20%3D%20L.circle%28%0A%20%20%20%20%20%20%20%20%20%20%20%20%20%20%20%20%5B51.5776%2C%200.178261%5D%2C%0A%20%20%20%20%20%20%20%20%20%20%20%20%20%20%20%20%7B%22bubblingMouseEvents%22%3A%20true%2C%20%22color%22%3A%20%22%23ff9c63%22%2C%20%22dashArray%22%3A%20null%2C%20%22dashOffset%22%3A%20null%2C%20%22fill%22%3A%20true%2C%20%22fillColor%22%3A%20%22%23ff9c63%22%2C%20%22fillOpacity%22%3A%200.7%2C%20%22fillRule%22%3A%20%22evenodd%22%2C%20%22lineCap%22%3A%20%22round%22%2C%20%22lineJoin%22%3A%20%22round%22%2C%20%22opacity%22%3A%201.0%2C%20%22radius%22%3A%201000%2C%20%22stroke%22%3A%20true%2C%20%22weight%22%3A%203%7D%0A%20%20%20%20%20%20%20%20%20%20%20%20%29.addTo%28map_095f223811fb429d8de559547b0dde1c%29%3B%0A%20%20%20%20%20%20%20%20%0A%20%20%20%20%0A%20%20%20%20%20%20%20%20var%20popup_2e86b9666ded46dabcfb08fdbf3353fe%20%3D%20L.popup%28%7B%22maxWidth%22%3A%20%22100%25%22%7D%29%3B%0A%0A%20%20%20%20%20%20%20%20%0A%20%20%20%20%20%20%20%20%20%20%20%20var%20html_7ac18bdd60af4852af89d973037280e5%20%3D%20%24%28%60%3Cdiv%20id%3D%22html_7ac18bdd60af4852af89d973037280e5%22%20style%3D%22width%3A%20100.0%25%3B%20height%3A%20100.0%25%3B%22%3EElmley%20Street%20Cluster%204%3C/div%3E%60%29%5B0%5D%3B%0A%20%20%20%20%20%20%20%20%20%20%20%20popup_2e86b9666ded46dabcfb08fdbf3353fe.setContent%28html_7ac18bdd60af4852af89d973037280e5%29%3B%0A%20%20%20%20%20%20%20%20%0A%0A%20%20%20%20%20%20%20%20circle_517b261e3ea44c0eb580a800d4281552.bindPopup%28popup_2e86b9666ded46dabcfb08fdbf3353fe%29%0A%20%20%20%20%20%20%20%20%3B%0A%0A%20%20%20%20%20%20%20%20%0A%20%20%20%20%0A%20%20%20%20%0A%20%20%20%20%20%20%20%20%20%20%20%20var%20circle_1e3edfbd8404477dae9e4cf8e589e921%20%3D%20L.circle%28%0A%20%20%20%20%20%20%20%20%20%20%20%20%20%20%20%20%5B51.585503%2C%20-0.018014%5D%2C%0A%20%20%20%20%20%20%20%20%20%20%20%20%20%20%20%20%7B%22bubblingMouseEvents%22%3A%20true%2C%20%22color%22%3A%20%22%236500ff%22%2C%20%22dashArray%22%3A%20null%2C%20%22dashOffset%22%3A%20null%2C%20%22fill%22%3A%20true%2C%20%22fillColor%22%3A%20%22%236500ff%22%2C%20%22fillOpacity%22%3A%200.7%2C%20%22fillRule%22%3A%20%22evenodd%22%2C%20%22lineCap%22%3A%20%22round%22%2C%20%22lineJoin%22%3A%20%22round%22%2C%20%22opacity%22%3A%201.0%2C%20%22radius%22%3A%201000%2C%20%22stroke%22%3A%20true%2C%20%22weight%22%3A%203%7D%0A%20%20%20%20%20%20%20%20%20%20%20%20%29.addTo%28map_095f223811fb429d8de559547b0dde1c%29%3B%0A%20%20%20%20%20%20%20%20%0A%20%20%20%20%0A%20%20%20%20%20%20%20%20var%20popup_2df189924c184e51967e05c7294ff3aa%20%3D%20L.popup%28%7B%22maxWidth%22%3A%20%22100%25%22%7D%29%3B%0A%0A%20%20%20%20%20%20%20%20%0A%20%20%20%20%20%20%20%20%20%20%20%20var%20html_b6bd661a9d9146059b6767053968495c%20%3D%20%24%28%60%3Cdiv%20id%3D%22html_b6bd661a9d9146059b6767053968495c%22%20style%3D%22width%3A%20100.0%25%3B%20height%3A%20100.0%25%3B%22%3EHoe%20Street%20Cluster%202%3C/div%3E%60%29%5B0%5D%3B%0A%20%20%20%20%20%20%20%20%20%20%20%20popup_2df189924c184e51967e05c7294ff3aa.setContent%28html_b6bd661a9d9146059b6767053968495c%29%3B%0A%20%20%20%20%20%20%20%20%0A%0A%20%20%20%20%20%20%20%20circle_1e3edfbd8404477dae9e4cf8e589e921.bindPopup%28popup_2df189924c184e51967e05c7294ff3aa%29%0A%20%20%20%20%20%20%20%20%3B%0A%0A%20%20%20%20%20%20%20%20%0A%20%20%20%20%0A%20%20%20%20%0A%20%20%20%20%20%20%20%20%20%20%20%20var%20circle_eb9fc106e915422ebf7d824ab7df5f06%20%3D%20L.circle%28%0A%20%20%20%20%20%20%20%20%20%20%20%20%20%20%20%20%5B51.577913%2C%200.190919%5D%2C%0A%20%20%20%20%20%20%20%20%20%20%20%20%20%20%20%20%7B%22bubblingMouseEvents%22%3A%20true%2C%20%22color%22%3A%20%22%23ee42bd%22%2C%20%22dashArray%22%3A%20null%2C%20%22dashOffset%22%3A%20null%2C%20%22fill%22%3A%20true%2C%20%22fillColor%22%3A%20%22%23ee42bd%22%2C%20%22fillOpacity%22%3A%200.7%2C%20%22fillRule%22%3A%20%22evenodd%22%2C%20%22lineCap%22%3A%20%22round%22%2C%20%22lineJoin%22%3A%20%22round%22%2C%20%22opacity%22%3A%201.0%2C%20%22radius%22%3A%201000%2C%20%22stroke%22%3A%20true%2C%20%22weight%22%3A%203%7D%0A%20%20%20%20%20%20%20%20%20%20%20%20%29.addTo%28map_095f223811fb429d8de559547b0dde1c%29%3B%0A%20%20%20%20%20%20%20%20%0A%20%20%20%20%0A%20%20%20%20%20%20%20%20var%20popup_0a445cf0c721490eba32df822c41434f%20%3D%20L.popup%28%7B%22maxWidth%22%3A%20%22100%25%22%7D%29%3B%0A%0A%20%20%20%20%20%20%20%20%0A%20%20%20%20%20%20%20%20%20%20%20%20var%20html_24bee0655b864b61b0137bac6f20b68d%20%3D%20%24%28%60%3Cdiv%20id%3D%22html_24bee0655b864b61b0137bac6f20b68d%22%20style%3D%22width%3A%20100.0%25%3B%20height%3A%20100.0%25%3B%22%3EKidman%20Close%20Cluster%203%3C/div%3E%60%29%5B0%5D%3B%0A%20%20%20%20%20%20%20%20%20%20%20%20popup_0a445cf0c721490eba32df822c41434f.setContent%28html_24bee0655b864b61b0137bac6f20b68d%29%3B%0A%20%20%20%20%20%20%20%20%0A%0A%20%20%20%20%20%20%20%20circle_eb9fc106e915422ebf7d824ab7df5f06.bindPopup%28popup_0a445cf0c721490eba32df822c41434f%29%0A%20%20%20%20%20%20%20%20%3B%0A%0A%20%20%20%20%20%20%20%20%0A%20%20%20%20%0A%3C/script%3E onload=\"this.contentDocument.open();this.contentDocument.write(    decodeURIComponent(this.getAttribute('data-html')));this.contentDocument.close();\" allowfullscreen webkitallowfullscreen mozallowfullscreen></iframe></div></div>"
     },
     "metadata": {},
     "execution_count": 689
    }
   ],
   "source": [
    "# create map\n",
    "map_clusters = folium.Map(location=[latitude, longitude], zoom_start=11)\n",
    "\n",
    "# set color scheme for the clusters\n",
    "x = np.arange(kclusters)\n",
    "ys = [i + x + (i*x)**2 for i in range(kclusters)]\n",
    "colors_array = cm.gnuplot2(np.linspace(0.2, 0.9, len(ys)))\n",
    "rainbow = [colors.rgb2hex(i) for i in colors_array]\n",
    "# add markers to the map\n",
    "markers_colors = []\n",
    "for lat, lon, poi, cluster in zip(ld_merged['Latitude'], ld_merged['Longitude'], ld_merged['Neighborhood'], ld_merged['Cluster Labels']):\n",
    "    label = folium.Popup(str(poi) + ' Cluster ' + str(cluster), parse_html=True)\n",
    "    folium.Circle(\n",
    "        [lat, lon],\n",
    "        radius=1000,\n",
    "        popup=label,\n",
    "        color=rainbow[cluster-1],\n",
    "        fill=True,\n",
    "        fill_color=rainbow[cluster-1],\n",
    "        fill_opacity=0.7).add_to(map_clusters)\n",
    "       \n",
    "map_clusters"
   ]
  },
  {
   "cell_type": "code",
   "execution_count": 690,
   "metadata": {},
   "outputs": [
    {
     "output_type": "execute_result",
     "data": {
      "text/plain": [
       "  Postal Code      City                  Neighborhood       Price  Raw_Price  \\\n",
       "0        DA14    Sidcup                Frognal Avenue  £3,593 pcm       3593   \n",
       "1        SE10    London  Cutter Lane Chandlers Avenue  £2,990 pcm       2990   \n",
       "2         SE5    London                Lettsom Street  £2,150 pcm       2150   \n",
       "3         BR1   Bromley                 Plaistow Lane  £2,100 pcm       2100   \n",
       "4        SE14    London                Childeric Road  £1,900 pcm       1900   \n",
       "\n",
       "    Latitude  Longitude  Cluster Labels     1st Most Common Venue  \\\n",
       "0  51.426481   0.105038               3                  Pharmacy   \n",
       "1  51.487122   0.003284               0             Grocery Store   \n",
       "2  51.481796  -0.090377               3                      Park   \n",
       "3  51.401546   0.015415               1            Clothing Store   \n",
       "4  51.450352   0.062336               3  Mediterranean Restaurant   \n",
       "\n",
       "       2nd Most Common Venue 3rd Most Common Venue  4th Most Common Venue  \\\n",
       "0              Grocery Store           Coffee Shop   Fast Food Restaurant   \n",
       "1                       Pier                   Pub     Turkish Restaurant   \n",
       "2  Middle Eastern Restaurant           Coffee Shop                   Café   \n",
       "3                Coffee Shop  Gym / Fitness Center            Supermarket   \n",
       "4           Department Store    Italian Restaurant  Portuguese Restaurant   \n",
       "\n",
       "  5th Most Common Venue 6th Most Common Venue 7th Most Common Venue  \\\n",
       "0           Pizza Place                  Café    Italian Restaurant   \n",
       "1           Coffee Shop     Indian Restaurant           Pizza Place   \n",
       "2                   Pub  Ethiopian Restaurant              Building   \n",
       "3                  Café        Chocolate Shop                   Pub   \n",
       "4                   Pub        Clothing Store         Movie Theater   \n",
       "\n",
       "   8th Most Common Venue 9th Most Common Venue    10th Most Common Venue  \n",
       "0            Supermarket                 Hotel                    Bakery  \n",
       "1                   Café   Japanese Restaurant  Mediterranean Restaurant  \n",
       "2                 Garden    Italian Restaurant         Fish & Chips Shop  \n",
       "3  Portuguese Restaurant              Pharmacy                      Park  \n",
       "4   Fast Food Restaurant              Pharmacy               Supermarket  "
      ],
      "text/html": "<div>\n<style scoped>\n    .dataframe tbody tr th:only-of-type {\n        vertical-align: middle;\n    }\n\n    .dataframe tbody tr th {\n        vertical-align: top;\n    }\n\n    .dataframe thead th {\n        text-align: right;\n    }\n</style>\n<table border=\"1\" class=\"dataframe\">\n  <thead>\n    <tr style=\"text-align: right;\">\n      <th></th>\n      <th>Postal Code</th>\n      <th>City</th>\n      <th>Neighborhood</th>\n      <th>Price</th>\n      <th>Raw_Price</th>\n      <th>Latitude</th>\n      <th>Longitude</th>\n      <th>Cluster Labels</th>\n      <th>1st Most Common Venue</th>\n      <th>2nd Most Common Venue</th>\n      <th>3rd Most Common Venue</th>\n      <th>4th Most Common Venue</th>\n      <th>5th Most Common Venue</th>\n      <th>6th Most Common Venue</th>\n      <th>7th Most Common Venue</th>\n      <th>8th Most Common Venue</th>\n      <th>9th Most Common Venue</th>\n      <th>10th Most Common Venue</th>\n    </tr>\n  </thead>\n  <tbody>\n    <tr>\n      <th>0</th>\n      <td>DA14</td>\n      <td>Sidcup</td>\n      <td>Frognal Avenue</td>\n      <td>£3,593 pcm</td>\n      <td>3593</td>\n      <td>51.426481</td>\n      <td>0.105038</td>\n      <td>3</td>\n      <td>Pharmacy</td>\n      <td>Grocery Store</td>\n      <td>Coffee Shop</td>\n      <td>Fast Food Restaurant</td>\n      <td>Pizza Place</td>\n      <td>Café</td>\n      <td>Italian Restaurant</td>\n      <td>Supermarket</td>\n      <td>Hotel</td>\n      <td>Bakery</td>\n    </tr>\n    <tr>\n      <th>1</th>\n      <td>SE10</td>\n      <td>London</td>\n      <td>Cutter Lane Chandlers Avenue</td>\n      <td>£2,990 pcm</td>\n      <td>2990</td>\n      <td>51.487122</td>\n      <td>0.003284</td>\n      <td>0</td>\n      <td>Grocery Store</td>\n      <td>Pier</td>\n      <td>Pub</td>\n      <td>Turkish Restaurant</td>\n      <td>Coffee Shop</td>\n      <td>Indian Restaurant</td>\n      <td>Pizza Place</td>\n      <td>Café</td>\n      <td>Japanese Restaurant</td>\n      <td>Mediterranean Restaurant</td>\n    </tr>\n    <tr>\n      <th>2</th>\n      <td>SE5</td>\n      <td>London</td>\n      <td>Lettsom Street</td>\n      <td>£2,150 pcm</td>\n      <td>2150</td>\n      <td>51.481796</td>\n      <td>-0.090377</td>\n      <td>3</td>\n      <td>Park</td>\n      <td>Middle Eastern Restaurant</td>\n      <td>Coffee Shop</td>\n      <td>Café</td>\n      <td>Pub</td>\n      <td>Ethiopian Restaurant</td>\n      <td>Building</td>\n      <td>Garden</td>\n      <td>Italian Restaurant</td>\n      <td>Fish &amp; Chips Shop</td>\n    </tr>\n    <tr>\n      <th>3</th>\n      <td>BR1</td>\n      <td>Bromley</td>\n      <td>Plaistow Lane</td>\n      <td>£2,100 pcm</td>\n      <td>2100</td>\n      <td>51.401546</td>\n      <td>0.015415</td>\n      <td>1</td>\n      <td>Clothing Store</td>\n      <td>Coffee Shop</td>\n      <td>Gym / Fitness Center</td>\n      <td>Supermarket</td>\n      <td>Café</td>\n      <td>Chocolate Shop</td>\n      <td>Pub</td>\n      <td>Portuguese Restaurant</td>\n      <td>Pharmacy</td>\n      <td>Park</td>\n    </tr>\n    <tr>\n      <th>4</th>\n      <td>SE14</td>\n      <td>London</td>\n      <td>Childeric Road</td>\n      <td>£1,900 pcm</td>\n      <td>1900</td>\n      <td>51.450352</td>\n      <td>0.062336</td>\n      <td>3</td>\n      <td>Mediterranean Restaurant</td>\n      <td>Department Store</td>\n      <td>Italian Restaurant</td>\n      <td>Portuguese Restaurant</td>\n      <td>Pub</td>\n      <td>Clothing Store</td>\n      <td>Movie Theater</td>\n      <td>Fast Food Restaurant</td>\n      <td>Pharmacy</td>\n      <td>Supermarket</td>\n    </tr>\n  </tbody>\n</table>\n</div>"
     },
     "metadata": {},
     "execution_count": 690
    }
   ],
   "source": [
    "ld_merged.head()"
   ]
  },
  {
   "cell_type": "code",
   "execution_count": 691,
   "metadata": {},
   "outputs": [],
   "source": [
    "#ld_merged.merge(new_df[['Neighborhood','Price','Raw_Price']]).head()"
   ]
  },
  {
   "source": [
    "# NEIGHBORHOOD ANALYSIS\n",
    "\n",
    "* Now let us look into our Neighborhoods in detail to try and figure out which one would best fit our requirements."
   ],
   "cell_type": "markdown",
   "metadata": {}
  },
  {
   "cell_type": "code",
   "execution_count": 692,
   "metadata": {},
   "outputs": [],
   "source": [
    "venue_count=ld_venues.groupby('Neighborhood')['Venue'].count().reset_index()\n",
    "venue_count.rename(columns={'Venue':'Venue Count'},inplace=True)"
   ]
  },
  {
   "source": [
    "* Combining data from different dataframes to create DataFrame for neighborhood data"
   ],
   "cell_type": "markdown",
   "metadata": {}
  },
  {
   "cell_type": "code",
   "execution_count": 693,
   "metadata": {},
   "outputs": [],
   "source": [
    "nbr_data=ld_merged[['Neighborhood','Raw_Price','Cluster Labels']].merge(venue_count[['Neighborhood','Venue Count']])"
   ]
  },
  {
   "cell_type": "code",
   "execution_count": 694,
   "metadata": {},
   "outputs": [
    {
     "output_type": "execute_result",
     "data": {
      "text/plain": [
       "                           Neighborhood  Raw_Price  Cluster Labels  \\\n",
       "0                        Frognal Avenue       3593               3   \n",
       "1          Cutter Lane Chandlers Avenue       2990               0   \n",
       "2                        Lettsom Street       2150               3   \n",
       "3                         Plaistow Lane       2100               1   \n",
       "4                        Childeric Road       1900               3   \n",
       "5                          New Wanstead       1800               1   \n",
       "6                     Sherfield Gardens       1600               0   \n",
       "7                       Adelaide Avenue       1450               3   \n",
       "8                         Disraeli Road       1400               1   \n",
       "9                           East Street       1400               3   \n",
       "10                         Jamaica Road       1395               3   \n",
       "11                        Sydenham Road       1375               3   \n",
       "12                        Sandford Road       1350               3   \n",
       "13                     Kingswood Estate       1350               3   \n",
       "14  Shurland Gardens Willowbrook Estate       1350               3   \n",
       "15                          Anson Place       1300               1   \n",
       "16                          Grove Place       1300               3   \n",
       "17                    High Street South       1250               1   \n",
       "18                         South Street       1200               3   \n",
       "19                        Elmley Street       1200               4   \n",
       "20                           Hoe Street       1100               2   \n",
       "21                         Kidman Close        950               3   \n",
       "\n",
       "    Venue Count  \n",
       "0            14  \n",
       "1            31  \n",
       "2            18  \n",
       "3            36  \n",
       "4            14  \n",
       "5            25  \n",
       "6            22  \n",
       "7            44  \n",
       "8            16  \n",
       "9             6  \n",
       "10            4  \n",
       "11           31  \n",
       "12            8  \n",
       "13            5  \n",
       "14            4  \n",
       "15           20  \n",
       "16            4  \n",
       "17           12  \n",
       "18            7  \n",
       "19           67  \n",
       "20           54  \n",
       "21           14  "
      ],
      "text/html": "<div>\n<style scoped>\n    .dataframe tbody tr th:only-of-type {\n        vertical-align: middle;\n    }\n\n    .dataframe tbody tr th {\n        vertical-align: top;\n    }\n\n    .dataframe thead th {\n        text-align: right;\n    }\n</style>\n<table border=\"1\" class=\"dataframe\">\n  <thead>\n    <tr style=\"text-align: right;\">\n      <th></th>\n      <th>Neighborhood</th>\n      <th>Raw_Price</th>\n      <th>Cluster Labels</th>\n      <th>Venue Count</th>\n    </tr>\n  </thead>\n  <tbody>\n    <tr>\n      <th>0</th>\n      <td>Frognal Avenue</td>\n      <td>3593</td>\n      <td>3</td>\n      <td>14</td>\n    </tr>\n    <tr>\n      <th>1</th>\n      <td>Cutter Lane Chandlers Avenue</td>\n      <td>2990</td>\n      <td>0</td>\n      <td>31</td>\n    </tr>\n    <tr>\n      <th>2</th>\n      <td>Lettsom Street</td>\n      <td>2150</td>\n      <td>3</td>\n      <td>18</td>\n    </tr>\n    <tr>\n      <th>3</th>\n      <td>Plaistow Lane</td>\n      <td>2100</td>\n      <td>1</td>\n      <td>36</td>\n    </tr>\n    <tr>\n      <th>4</th>\n      <td>Childeric Road</td>\n      <td>1900</td>\n      <td>3</td>\n      <td>14</td>\n    </tr>\n    <tr>\n      <th>5</th>\n      <td>New Wanstead</td>\n      <td>1800</td>\n      <td>1</td>\n      <td>25</td>\n    </tr>\n    <tr>\n      <th>6</th>\n      <td>Sherfield Gardens</td>\n      <td>1600</td>\n      <td>0</td>\n      <td>22</td>\n    </tr>\n    <tr>\n      <th>7</th>\n      <td>Adelaide Avenue</td>\n      <td>1450</td>\n      <td>3</td>\n      <td>44</td>\n    </tr>\n    <tr>\n      <th>8</th>\n      <td>Disraeli Road</td>\n      <td>1400</td>\n      <td>1</td>\n      <td>16</td>\n    </tr>\n    <tr>\n      <th>9</th>\n      <td>East Street</td>\n      <td>1400</td>\n      <td>3</td>\n      <td>6</td>\n    </tr>\n    <tr>\n      <th>10</th>\n      <td>Jamaica Road</td>\n      <td>1395</td>\n      <td>3</td>\n      <td>4</td>\n    </tr>\n    <tr>\n      <th>11</th>\n      <td>Sydenham Road</td>\n      <td>1375</td>\n      <td>3</td>\n      <td>31</td>\n    </tr>\n    <tr>\n      <th>12</th>\n      <td>Sandford Road</td>\n      <td>1350</td>\n      <td>3</td>\n      <td>8</td>\n    </tr>\n    <tr>\n      <th>13</th>\n      <td>Kingswood Estate</td>\n      <td>1350</td>\n      <td>3</td>\n      <td>5</td>\n    </tr>\n    <tr>\n      <th>14</th>\n      <td>Shurland Gardens Willowbrook Estate</td>\n      <td>1350</td>\n      <td>3</td>\n      <td>4</td>\n    </tr>\n    <tr>\n      <th>15</th>\n      <td>Anson Place</td>\n      <td>1300</td>\n      <td>1</td>\n      <td>20</td>\n    </tr>\n    <tr>\n      <th>16</th>\n      <td>Grove Place</td>\n      <td>1300</td>\n      <td>3</td>\n      <td>4</td>\n    </tr>\n    <tr>\n      <th>17</th>\n      <td>High Street South</td>\n      <td>1250</td>\n      <td>1</td>\n      <td>12</td>\n    </tr>\n    <tr>\n      <th>18</th>\n      <td>South Street</td>\n      <td>1200</td>\n      <td>3</td>\n      <td>7</td>\n    </tr>\n    <tr>\n      <th>19</th>\n      <td>Elmley Street</td>\n      <td>1200</td>\n      <td>4</td>\n      <td>67</td>\n    </tr>\n    <tr>\n      <th>20</th>\n      <td>Hoe Street</td>\n      <td>1100</td>\n      <td>2</td>\n      <td>54</td>\n    </tr>\n    <tr>\n      <th>21</th>\n      <td>Kidman Close</td>\n      <td>950</td>\n      <td>3</td>\n      <td>14</td>\n    </tr>\n  </tbody>\n</table>\n</div>"
     },
     "metadata": {},
     "execution_count": 694
    }
   ],
   "source": [
    "nbr_data"
   ]
  },
  {
   "source": [
    "# BUBBLE CHART\n",
    "* Now we will generate a Bubble Chart by combining data for Raw_Price, Cluster Labels and Venue Count"
   ],
   "cell_type": "markdown",
   "metadata": {}
  },
  {
   "cell_type": "code",
   "execution_count": 239,
   "metadata": {},
   "outputs": [],
   "source": []
  },
  {
   "cell_type": "code",
   "execution_count": 695,
   "metadata": {},
   "outputs": [
    {
     "output_type": "display_data",
     "data": {
      "application/vnd.plotly.v1+json": {
       "config": {
        "plotlyServerURL": "https://plot.ly"
       },
       "data": [
        {
         "customdata": [
          [
           14
          ],
          [
           31
          ],
          [
           18
          ],
          [
           36
          ],
          [
           14
          ],
          [
           25
          ],
          [
           22
          ],
          [
           44
          ],
          [
           16
          ],
          [
           6
          ],
          [
           4
          ],
          [
           31
          ],
          [
           8
          ],
          [
           5
          ],
          [
           4
          ],
          [
           20
          ],
          [
           4
          ],
          [
           12
          ],
          [
           7
          ],
          [
           67
          ],
          [
           54
          ],
          [
           14
          ]
         ],
         "hovertemplate": "Neighborhood=%{x}<br>Raw_Price=%{y}<br>Venue Count=%{customdata[0]}<br>Cluster Labels=%{marker.color}<extra></extra>",
         "legendgroup": "",
         "marker": {
          "color": [
           3,
           0,
           3,
           1,
           3,
           1,
           0,
           3,
           1,
           3,
           3,
           3,
           3,
           3,
           3,
           1,
           3,
           1,
           3,
           4,
           2,
           3
          ],
          "coloraxis": "coloraxis",
          "size": [
           14,
           31,
           18,
           36,
           14,
           25,
           22,
           44,
           16,
           6,
           4,
           31,
           8,
           5,
           4,
           20,
           4,
           12,
           7,
           67,
           54,
           14
          ],
          "sizemode": "area",
          "sizeref": 0.1675,
          "symbol": "circle"
         },
         "mode": "markers",
         "name": "",
         "orientation": "v",
         "showlegend": false,
         "type": "scatter",
         "x": [
          "Frognal Avenue",
          "Cutter Lane Chandlers Avenue",
          "Lettsom Street",
          "Plaistow Lane",
          "Childeric Road",
          "New Wanstead",
          "Sherfield Gardens",
          "Adelaide Avenue",
          "Disraeli Road",
          "East Street",
          "Jamaica Road",
          "Sydenham Road",
          "Sandford Road",
          "Kingswood Estate",
          "Shurland Gardens Willowbrook Estate",
          "Anson Place",
          "Grove Place",
          "High Street South",
          "South Street",
          "Elmley Street",
          "Hoe Street",
          "Kidman Close"
         ],
         "xaxis": "x",
         "y": [
          3593,
          2990,
          2150,
          2100,
          1900,
          1800,
          1600,
          1450,
          1400,
          1400,
          1395,
          1375,
          1350,
          1350,
          1350,
          1300,
          1300,
          1250,
          1200,
          1200,
          1100,
          950
         ],
         "yaxis": "y"
        }
       ],
       "layout": {
        "coloraxis": {
         "colorbar": {
          "title": {
           "text": "Cluster Labels"
          }
         },
         "colorscale": [
          [
           0,
           "rgb(150,0,90)"
          ],
          [
           0.125,
           "rgb(0,0,200)"
          ],
          [
           0.25,
           "rgb(0,25,255)"
          ],
          [
           0.375,
           "rgb(0,152,255)"
          ],
          [
           0.5,
           "rgb(44,255,150)"
          ],
          [
           0.625,
           "rgb(151,255,0)"
          ],
          [
           0.75,
           "rgb(255,234,0)"
          ],
          [
           0.875,
           "rgb(255,111,0)"
          ],
          [
           1,
           "rgb(255,0,0)"
          ]
         ]
        },
        "legend": {
         "itemsizing": "constant",
         "tracegroupgap": 0
        },
        "margin": {
         "t": 60
        },
        "template": {
         "data": {
          "bar": [
           {
            "error_x": {
             "color": "#2a3f5f"
            },
            "error_y": {
             "color": "#2a3f5f"
            },
            "marker": {
             "line": {
              "color": "#E5ECF6",
              "width": 0.5
             }
            },
            "type": "bar"
           }
          ],
          "barpolar": [
           {
            "marker": {
             "line": {
              "color": "#E5ECF6",
              "width": 0.5
             }
            },
            "type": "barpolar"
           }
          ],
          "carpet": [
           {
            "aaxis": {
             "endlinecolor": "#2a3f5f",
             "gridcolor": "white",
             "linecolor": "white",
             "minorgridcolor": "white",
             "startlinecolor": "#2a3f5f"
            },
            "baxis": {
             "endlinecolor": "#2a3f5f",
             "gridcolor": "white",
             "linecolor": "white",
             "minorgridcolor": "white",
             "startlinecolor": "#2a3f5f"
            },
            "type": "carpet"
           }
          ],
          "choropleth": [
           {
            "colorbar": {
             "outlinewidth": 0,
             "ticks": ""
            },
            "type": "choropleth"
           }
          ],
          "contour": [
           {
            "colorbar": {
             "outlinewidth": 0,
             "ticks": ""
            },
            "colorscale": [
             [
              0,
              "#0d0887"
             ],
             [
              0.1111111111111111,
              "#46039f"
             ],
             [
              0.2222222222222222,
              "#7201a8"
             ],
             [
              0.3333333333333333,
              "#9c179e"
             ],
             [
              0.4444444444444444,
              "#bd3786"
             ],
             [
              0.5555555555555556,
              "#d8576b"
             ],
             [
              0.6666666666666666,
              "#ed7953"
             ],
             [
              0.7777777777777778,
              "#fb9f3a"
             ],
             [
              0.8888888888888888,
              "#fdca26"
             ],
             [
              1,
              "#f0f921"
             ]
            ],
            "type": "contour"
           }
          ],
          "contourcarpet": [
           {
            "colorbar": {
             "outlinewidth": 0,
             "ticks": ""
            },
            "type": "contourcarpet"
           }
          ],
          "heatmap": [
           {
            "colorbar": {
             "outlinewidth": 0,
             "ticks": ""
            },
            "colorscale": [
             [
              0,
              "#0d0887"
             ],
             [
              0.1111111111111111,
              "#46039f"
             ],
             [
              0.2222222222222222,
              "#7201a8"
             ],
             [
              0.3333333333333333,
              "#9c179e"
             ],
             [
              0.4444444444444444,
              "#bd3786"
             ],
             [
              0.5555555555555556,
              "#d8576b"
             ],
             [
              0.6666666666666666,
              "#ed7953"
             ],
             [
              0.7777777777777778,
              "#fb9f3a"
             ],
             [
              0.8888888888888888,
              "#fdca26"
             ],
             [
              1,
              "#f0f921"
             ]
            ],
            "type": "heatmap"
           }
          ],
          "heatmapgl": [
           {
            "colorbar": {
             "outlinewidth": 0,
             "ticks": ""
            },
            "colorscale": [
             [
              0,
              "#0d0887"
             ],
             [
              0.1111111111111111,
              "#46039f"
             ],
             [
              0.2222222222222222,
              "#7201a8"
             ],
             [
              0.3333333333333333,
              "#9c179e"
             ],
             [
              0.4444444444444444,
              "#bd3786"
             ],
             [
              0.5555555555555556,
              "#d8576b"
             ],
             [
              0.6666666666666666,
              "#ed7953"
             ],
             [
              0.7777777777777778,
              "#fb9f3a"
             ],
             [
              0.8888888888888888,
              "#fdca26"
             ],
             [
              1,
              "#f0f921"
             ]
            ],
            "type": "heatmapgl"
           }
          ],
          "histogram": [
           {
            "marker": {
             "colorbar": {
              "outlinewidth": 0,
              "ticks": ""
             }
            },
            "type": "histogram"
           }
          ],
          "histogram2d": [
           {
            "colorbar": {
             "outlinewidth": 0,
             "ticks": ""
            },
            "colorscale": [
             [
              0,
              "#0d0887"
             ],
             [
              0.1111111111111111,
              "#46039f"
             ],
             [
              0.2222222222222222,
              "#7201a8"
             ],
             [
              0.3333333333333333,
              "#9c179e"
             ],
             [
              0.4444444444444444,
              "#bd3786"
             ],
             [
              0.5555555555555556,
              "#d8576b"
             ],
             [
              0.6666666666666666,
              "#ed7953"
             ],
             [
              0.7777777777777778,
              "#fb9f3a"
             ],
             [
              0.8888888888888888,
              "#fdca26"
             ],
             [
              1,
              "#f0f921"
             ]
            ],
            "type": "histogram2d"
           }
          ],
          "histogram2dcontour": [
           {
            "colorbar": {
             "outlinewidth": 0,
             "ticks": ""
            },
            "colorscale": [
             [
              0,
              "#0d0887"
             ],
             [
              0.1111111111111111,
              "#46039f"
             ],
             [
              0.2222222222222222,
              "#7201a8"
             ],
             [
              0.3333333333333333,
              "#9c179e"
             ],
             [
              0.4444444444444444,
              "#bd3786"
             ],
             [
              0.5555555555555556,
              "#d8576b"
             ],
             [
              0.6666666666666666,
              "#ed7953"
             ],
             [
              0.7777777777777778,
              "#fb9f3a"
             ],
             [
              0.8888888888888888,
              "#fdca26"
             ],
             [
              1,
              "#f0f921"
             ]
            ],
            "type": "histogram2dcontour"
           }
          ],
          "mesh3d": [
           {
            "colorbar": {
             "outlinewidth": 0,
             "ticks": ""
            },
            "type": "mesh3d"
           }
          ],
          "parcoords": [
           {
            "line": {
             "colorbar": {
              "outlinewidth": 0,
              "ticks": ""
             }
            },
            "type": "parcoords"
           }
          ],
          "pie": [
           {
            "automargin": true,
            "type": "pie"
           }
          ],
          "scatter": [
           {
            "marker": {
             "colorbar": {
              "outlinewidth": 0,
              "ticks": ""
             }
            },
            "type": "scatter"
           }
          ],
          "scatter3d": [
           {
            "line": {
             "colorbar": {
              "outlinewidth": 0,
              "ticks": ""
             }
            },
            "marker": {
             "colorbar": {
              "outlinewidth": 0,
              "ticks": ""
             }
            },
            "type": "scatter3d"
           }
          ],
          "scattercarpet": [
           {
            "marker": {
             "colorbar": {
              "outlinewidth": 0,
              "ticks": ""
             }
            },
            "type": "scattercarpet"
           }
          ],
          "scattergeo": [
           {
            "marker": {
             "colorbar": {
              "outlinewidth": 0,
              "ticks": ""
             }
            },
            "type": "scattergeo"
           }
          ],
          "scattergl": [
           {
            "marker": {
             "colorbar": {
              "outlinewidth": 0,
              "ticks": ""
             }
            },
            "type": "scattergl"
           }
          ],
          "scattermapbox": [
           {
            "marker": {
             "colorbar": {
              "outlinewidth": 0,
              "ticks": ""
             }
            },
            "type": "scattermapbox"
           }
          ],
          "scatterpolar": [
           {
            "marker": {
             "colorbar": {
              "outlinewidth": 0,
              "ticks": ""
             }
            },
            "type": "scatterpolar"
           }
          ],
          "scatterpolargl": [
           {
            "marker": {
             "colorbar": {
              "outlinewidth": 0,
              "ticks": ""
             }
            },
            "type": "scatterpolargl"
           }
          ],
          "scatterternary": [
           {
            "marker": {
             "colorbar": {
              "outlinewidth": 0,
              "ticks": ""
             }
            },
            "type": "scatterternary"
           }
          ],
          "surface": [
           {
            "colorbar": {
             "outlinewidth": 0,
             "ticks": ""
            },
            "colorscale": [
             [
              0,
              "#0d0887"
             ],
             [
              0.1111111111111111,
              "#46039f"
             ],
             [
              0.2222222222222222,
              "#7201a8"
             ],
             [
              0.3333333333333333,
              "#9c179e"
             ],
             [
              0.4444444444444444,
              "#bd3786"
             ],
             [
              0.5555555555555556,
              "#d8576b"
             ],
             [
              0.6666666666666666,
              "#ed7953"
             ],
             [
              0.7777777777777778,
              "#fb9f3a"
             ],
             [
              0.8888888888888888,
              "#fdca26"
             ],
             [
              1,
              "#f0f921"
             ]
            ],
            "type": "surface"
           }
          ],
          "table": [
           {
            "cells": {
             "fill": {
              "color": "#EBF0F8"
             },
             "line": {
              "color": "white"
             }
            },
            "header": {
             "fill": {
              "color": "#C8D4E3"
             },
             "line": {
              "color": "white"
             }
            },
            "type": "table"
           }
          ]
         },
         "layout": {
          "annotationdefaults": {
           "arrowcolor": "#2a3f5f",
           "arrowhead": 0,
           "arrowwidth": 1
          },
          "autotypenumbers": "strict",
          "coloraxis": {
           "colorbar": {
            "outlinewidth": 0,
            "ticks": ""
           }
          },
          "colorscale": {
           "diverging": [
            [
             0,
             "#8e0152"
            ],
            [
             0.1,
             "#c51b7d"
            ],
            [
             0.2,
             "#de77ae"
            ],
            [
             0.3,
             "#f1b6da"
            ],
            [
             0.4,
             "#fde0ef"
            ],
            [
             0.5,
             "#f7f7f7"
            ],
            [
             0.6,
             "#e6f5d0"
            ],
            [
             0.7,
             "#b8e186"
            ],
            [
             0.8,
             "#7fbc41"
            ],
            [
             0.9,
             "#4d9221"
            ],
            [
             1,
             "#276419"
            ]
           ],
           "sequential": [
            [
             0,
             "#0d0887"
            ],
            [
             0.1111111111111111,
             "#46039f"
            ],
            [
             0.2222222222222222,
             "#7201a8"
            ],
            [
             0.3333333333333333,
             "#9c179e"
            ],
            [
             0.4444444444444444,
             "#bd3786"
            ],
            [
             0.5555555555555556,
             "#d8576b"
            ],
            [
             0.6666666666666666,
             "#ed7953"
            ],
            [
             0.7777777777777778,
             "#fb9f3a"
            ],
            [
             0.8888888888888888,
             "#fdca26"
            ],
            [
             1,
             "#f0f921"
            ]
           ],
           "sequentialminus": [
            [
             0,
             "#0d0887"
            ],
            [
             0.1111111111111111,
             "#46039f"
            ],
            [
             0.2222222222222222,
             "#7201a8"
            ],
            [
             0.3333333333333333,
             "#9c179e"
            ],
            [
             0.4444444444444444,
             "#bd3786"
            ],
            [
             0.5555555555555556,
             "#d8576b"
            ],
            [
             0.6666666666666666,
             "#ed7953"
            ],
            [
             0.7777777777777778,
             "#fb9f3a"
            ],
            [
             0.8888888888888888,
             "#fdca26"
            ],
            [
             1,
             "#f0f921"
            ]
           ]
          },
          "colorway": [
           "#636efa",
           "#EF553B",
           "#00cc96",
           "#ab63fa",
           "#FFA15A",
           "#19d3f3",
           "#FF6692",
           "#B6E880",
           "#FF97FF",
           "#FECB52"
          ],
          "font": {
           "color": "#2a3f5f"
          },
          "geo": {
           "bgcolor": "white",
           "lakecolor": "white",
           "landcolor": "#E5ECF6",
           "showlakes": true,
           "showland": true,
           "subunitcolor": "white"
          },
          "hoverlabel": {
           "align": "left"
          },
          "hovermode": "closest",
          "mapbox": {
           "style": "light"
          },
          "paper_bgcolor": "white",
          "plot_bgcolor": "#E5ECF6",
          "polar": {
           "angularaxis": {
            "gridcolor": "white",
            "linecolor": "white",
            "ticks": ""
           },
           "bgcolor": "#E5ECF6",
           "radialaxis": {
            "gridcolor": "white",
            "linecolor": "white",
            "ticks": ""
           }
          },
          "scene": {
           "xaxis": {
            "backgroundcolor": "#E5ECF6",
            "gridcolor": "white",
            "gridwidth": 2,
            "linecolor": "white",
            "showbackground": true,
            "ticks": "",
            "zerolinecolor": "white"
           },
           "yaxis": {
            "backgroundcolor": "#E5ECF6",
            "gridcolor": "white",
            "gridwidth": 2,
            "linecolor": "white",
            "showbackground": true,
            "ticks": "",
            "zerolinecolor": "white"
           },
           "zaxis": {
            "backgroundcolor": "#E5ECF6",
            "gridcolor": "white",
            "gridwidth": 2,
            "linecolor": "white",
            "showbackground": true,
            "ticks": "",
            "zerolinecolor": "white"
           }
          },
          "shapedefaults": {
           "line": {
            "color": "#2a3f5f"
           }
          },
          "ternary": {
           "aaxis": {
            "gridcolor": "white",
            "linecolor": "white",
            "ticks": ""
           },
           "baxis": {
            "gridcolor": "white",
            "linecolor": "white",
            "ticks": ""
           },
           "bgcolor": "#E5ECF6",
           "caxis": {
            "gridcolor": "white",
            "linecolor": "white",
            "ticks": ""
           }
          },
          "title": {
           "x": 0.05
          },
          "xaxis": {
           "automargin": true,
           "gridcolor": "white",
           "linecolor": "white",
           "ticks": "",
           "title": {
            "standoff": 15
           },
           "zerolinecolor": "white",
           "zerolinewidth": 2
          },
          "yaxis": {
           "automargin": true,
           "gridcolor": "white",
           "linecolor": "white",
           "ticks": "",
           "title": {
            "standoff": 15
           },
           "zerolinecolor": "white",
           "zerolinewidth": 2
          }
         }
        },
        "xaxis": {
         "anchor": "y",
         "domain": [
          0,
          1
         ],
         "title": {
          "text": "Neighborhoods"
         }
        },
        "yaxis": {
         "anchor": "x",
         "domain": [
          0,
          1
         ],
         "title": {
          "text": "Rent Per Month"
         }
        }
       }
      }
     },
     "metadata": {}
    },
    {
     "output_type": "display_data",
     "data": {
      "text/plain": "<Figure size 2880x1440 with 0 Axes>"
     },
     "metadata": {}
    }
   ],
   "source": [
    "import matplotlib.pyplot as plt\n",
    "import plotly.express as px\n",
    "  \n",
    "\n",
    "plt.figure(figsize=(40,20)) \n",
    "fig = px.scatter(nbr_data, x=\"Neighborhood\", y=\"Raw_Price\",\n",
    "                 color=\"Cluster Labels\",\n",
    "                 size='Venue Count', \n",
    "                 hover_data=['Venue Count'],\n",
    "                 color_continuous_scale=px.colors.sequential.Rainbow\n",
    "                 )\n",
    "fig.update_layout(\n",
    "    xaxis_title='Neighborhoods',\n",
    "    yaxis_title='Rent Per Month')\n",
    "\n",
    "fig.show()"
   ]
  },
  {
   "source": [],
   "cell_type": "markdown",
   "metadata": {}
  },
  {
   "source": [
    "# CLUSTER ANALYSIS\n",
    "\n",
    "* Now let us take a deeper look into the type of venues one can expect from each cluster"
   ],
   "cell_type": "markdown",
   "metadata": {}
  },
  {
   "source": [
    "* First we will segment our ld_data based on Cluster Label."
   ],
   "cell_type": "markdown",
   "metadata": {}
  },
  {
   "cell_type": "code",
   "execution_count": 696,
   "metadata": {},
   "outputs": [],
   "source": [
    "cluster_data=ld_merged[['Neighborhood','Latitude','Longitude','Cluster Labels']]\n",
    "cluster0=cluster_data[cluster_data['Cluster Labels']==0]\n",
    "cluster1=cluster_data[cluster_data['Cluster Labels']==1]\n",
    "cluster2=cluster_data[cluster_data['Cluster Labels']==2]\n",
    "cluster3=cluster_data[cluster_data['Cluster Labels']==3]\n",
    "cluster4=cluster_data[cluster_data['Cluster Labels']==4]"
   ]
  },
  {
   "source": [
    "* Collecting all nearby venues for all neighborhoods in each Cluster"
   ],
   "cell_type": "markdown",
   "metadata": {}
  },
  {
   "cell_type": "code",
   "execution_count": 697,
   "metadata": {},
   "outputs": [
    {
     "output_type": "stream",
     "name": "stdout",
     "text": [
      "Cutter Lane Chandlers Avenue\n",
      "Sherfield Gardens\n",
      "Plaistow Lane\n",
      "New Wanstead\n",
      "Disraeli Road\n",
      "Anson Place\n",
      "High Street South\n",
      "Hoe Street\n",
      "Frognal Avenue\n",
      "Lettsom Street\n",
      "Childeric Road\n",
      "Adelaide Avenue\n",
      "East Street\n",
      "Jamaica Road\n",
      "Sydenham Road\n",
      "Sandford Road\n",
      "Kingswood Estate\n",
      "Shurland Gardens Willowbrook Estate\n",
      "Grove Place\n",
      "South Street\n",
      "Kidman Close\n",
      "Elmley Street\n"
     ]
    }
   ],
   "source": [
    "cluster0_venues = getNearbyVenues(names=cluster0['Neighborhood'],\n",
    "                                   latitudes=cluster0['Latitude'],\n",
    "                                   longitudes=cluster0['Longitude'])\n",
    "cluster1_venues = getNearbyVenues(names=cluster1['Neighborhood'],\n",
    "                                   latitudes=cluster1['Latitude'],\n",
    "                                   longitudes=cluster1['Longitude'])\n",
    "cluster2_venues = getNearbyVenues(names=cluster2['Neighborhood'],\n",
    "                                   latitudes=cluster2['Latitude'],\n",
    "                                   longitudes=cluster2['Longitude'])\n",
    "cluster3_venues = getNearbyVenues(names=cluster3['Neighborhood'],\n",
    "                                   latitudes=cluster3['Latitude'],\n",
    "                                   longitudes=cluster3['Longitude'])\n",
    "cluster4_venues = getNearbyVenues(names=cluster4['Neighborhood'],\n",
    "                                   latitudes=cluster4['Latitude'],\n",
    "                                   longitudes=cluster4['Longitude'])"
   ]
  },
  {
   "source": [
    "* One by one, we can see the type of Venues available in each catefory"
   ],
   "cell_type": "markdown",
   "metadata": {}
  },
  {
   "source": [
    "### Type and number of venues available in Cluster 0"
   ],
   "cell_type": "markdown",
   "metadata": {}
  },
  {
   "cell_type": "code",
   "execution_count": 698,
   "metadata": {},
   "outputs": [
    {
     "output_type": "execute_result",
     "data": {
      "text/plain": [
       "Grocery Store               9\n",
       "Pub                         5\n",
       "Coffee Shop                 4\n",
       "Pier                        3\n",
       "Café                        3\n",
       "Wine Shop                   2\n",
       "Turkish Restaurant          2\n",
       "Thai Restaurant             2\n",
       "Indian Restaurant           2\n",
       "Pizza Place                 2\n",
       "Mediterranean Restaurant    1\n",
       "South Indian Restaurant     1\n",
       "Japanese Restaurant         1\n",
       "English Restaurant          1\n",
       "Brewery                     1\n",
       "Metro Station               1\n",
       "Irish Pub                   1\n",
       "Pharmacy                    1\n",
       "Warehouse Store             1\n",
       "Recreation Center           1\n",
       "Train Station               1\n",
       "Gym / Fitness Center        1\n",
       "Fish & Chips Shop           1\n",
       "Italian Restaurant          1\n",
       "Dim Sum Restaurant          1\n",
       "Sandwich Place              1\n",
       "Bakery                      1\n",
       "Fast Food Restaurant        1\n",
       "Music Venue                 1\n",
       "Name: Venue Category, dtype: int64"
      ]
     },
     "metadata": {},
     "execution_count": 698
    }
   ],
   "source": [
    "cluster0_venues['Venue Category'].value_counts()"
   ]
  },
  {
   "source": [
    "### Type and number of venues available in Cluster 1"
   ],
   "cell_type": "markdown",
   "metadata": {}
  },
  {
   "cell_type": "code",
   "execution_count": 699,
   "metadata": {},
   "outputs": [
    {
     "output_type": "execute_result",
     "data": {
      "text/plain": [
       "Bus Stop                  11\n",
       "Coffee Shop                8\n",
       "Clothing Store             7\n",
       "Pub                        7\n",
       "Grocery Store              6\n",
       "Supermarket                4\n",
       "Park                       4\n",
       "Convenience Store          3\n",
       "Sandwich Place             3\n",
       "Gym / Fitness Center       3\n",
       "Chinese Restaurant         3\n",
       "Café                       3\n",
       "Bakery                     3\n",
       "Fast Food Restaurant       3\n",
       "Fried Chicken Joint        3\n",
       "Pharmacy                   2\n",
       "Bar                        2\n",
       "Platform                   2\n",
       "Electronics Store          2\n",
       "Discount Store             2\n",
       "Furniture / Home Store     2\n",
       "Sushi Restaurant           1\n",
       "Portuguese Restaurant      1\n",
       "Thrift / Vintage Store     1\n",
       "Newsstand                  1\n",
       "Hungarian Restaurant       1\n",
       "Department Store           1\n",
       "Pizza Place                1\n",
       "Malay Restaurant           1\n",
       "Metro Station              1\n",
       "Theater                    1\n",
       "Concert Hall               1\n",
       "Chocolate Shop             1\n",
       "Recording Studio           1\n",
       "Kebab Restaurant           1\n",
       "Bookstore                  1\n",
       "Post Office                1\n",
       "Gelato Shop                1\n",
       "Asian Restaurant           1\n",
       "Bus Station                1\n",
       "Donut Shop                 1\n",
       "Diner                      1\n",
       "Burger Joint               1\n",
       "Movie Theater              1\n",
       "Soccer Field               1\n",
       "Market                     1\n",
       "Gourmet Shop               1\n",
       "Name: Venue Category, dtype: int64"
      ]
     },
     "metadata": {},
     "execution_count": 699
    }
   ],
   "source": [
    "cluster1_venues['Venue Category'].value_counts()"
   ]
  },
  {
   "source": [
    "### Type and number of venues available in Cluster 2"
   ],
   "cell_type": "markdown",
   "metadata": {}
  },
  {
   "cell_type": "code",
   "execution_count": 700,
   "metadata": {},
   "outputs": [
    {
     "output_type": "execute_result",
     "data": {
      "text/plain": [
       "Coffee Shop                  5\n",
       "Pub                          3\n",
       "Clothing Store               2\n",
       "Pizza Place                  2\n",
       "Café                         2\n",
       "Bakery                       2\n",
       "Sandwich Place               2\n",
       "Pharmacy                     2\n",
       "Restaurant                   2\n",
       "Convenience Store            1\n",
       "Gym / Fitness Center         1\n",
       "Bookstore                    1\n",
       "Gift Shop                    1\n",
       "Museum                       1\n",
       "Indian Restaurant            1\n",
       "Deli / Bodega                1\n",
       "Sporting Goods Shop          1\n",
       "Bar                          1\n",
       "Tea Room                     1\n",
       "Halal Restaurant             1\n",
       "Farmers Market               1\n",
       "Tapas Restaurant             1\n",
       "Turkish Restaurant           1\n",
       "Multiplex                    1\n",
       "Electronics Store            1\n",
       "Burger Joint                 1\n",
       "Supermarket                  1\n",
       "Middle Eastern Restaurant    1\n",
       "Grocery Store                1\n",
       "Health Food Store            1\n",
       "Video Game Store             1\n",
       "Caribbean Restaurant         1\n",
       "Italian Restaurant           1\n",
       "Beer Store                   1\n",
       "Portuguese Restaurant        1\n",
       "Optical Shop                 1\n",
       "Market                       1\n",
       "Hotel                        1\n",
       "Fast Food Restaurant         1\n",
       "Plaza                        1\n",
       "Warehouse Store              1\n",
       "Name: Venue Category, dtype: int64"
      ]
     },
     "metadata": {},
     "execution_count": 700
    }
   ],
   "source": [
    "cluster2_venues['Venue Category'].value_counts()"
   ]
  },
  {
   "source": [
    "### Type and number of venues available in Cluster 3"
   ],
   "cell_type": "markdown",
   "metadata": {}
  },
  {
   "cell_type": "code",
   "execution_count": 701,
   "metadata": {},
   "outputs": [
    {
     "output_type": "execute_result",
     "data": {
      "text/plain": [
       "Pub                            15\n",
       "Coffee Shop                    12\n",
       "Café                            9\n",
       "Bakery                          8\n",
       "Clothing Store                  7\n",
       "Supermarket                     7\n",
       "Grocery Store                   7\n",
       "Italian Restaurant              6\n",
       "Pharmacy                        6\n",
       "Park                            4\n",
       "Train Station                   4\n",
       "Pizza Place                     4\n",
       "Japanese Restaurant             3\n",
       "Fast Food Restaurant            3\n",
       "Hotel                           3\n",
       "Fish & Chips Shop               3\n",
       "Shopping Mall                   2\n",
       "Vietnamese Restaurant           2\n",
       "Multiplex                       2\n",
       "Video Game Store                2\n",
       "Indian Restaurant               2\n",
       "Mediterranean Restaurant        2\n",
       "Platform                        2\n",
       "Athletics & Sports              2\n",
       "Gastropub                       2\n",
       "Bar                             2\n",
       "Gym / Fitness Center            2\n",
       "Breakfast Spot                  2\n",
       "Gift Shop                       2\n",
       "Golf Course                     1\n",
       "Wings Joint                     1\n",
       "Pie Shop                        1\n",
       "Home Service                    1\n",
       "Ethiopian Restaurant            1\n",
       "Garden Center                   1\n",
       "Betting Shop                    1\n",
       "Garden                          1\n",
       "Optical Shop                    1\n",
       "South American Restaurant       1\n",
       "Bus Station                     1\n",
       "Gym                             1\n",
       "Ice Cream Shop                  1\n",
       "Eastern European Restaurant     1\n",
       "Deli / Bodega                   1\n",
       "Warehouse Store                 1\n",
       "Furniture / Home Store          1\n",
       "English Restaurant              1\n",
       "Soccer Field                    1\n",
       "American Restaurant             1\n",
       "Mobile Phone Shop               1\n",
       "Sandwich Place                  1\n",
       "Movie Theater                   1\n",
       "Portuguese Restaurant           1\n",
       "Sushi Restaurant                1\n",
       "Thai Restaurant                 1\n",
       "Restaurant                      1\n",
       "Hobby Shop                      1\n",
       "Yoga Studio                     1\n",
       "Middle Eastern Restaurant       1\n",
       "Asian Restaurant                1\n",
       "Flower Shop                     1\n",
       "Bookstore                       1\n",
       "Building                        1\n",
       "Chinese Restaurant              1\n",
       "Turkish Restaurant              1\n",
       "Theater                         1\n",
       "Food Truck                      1\n",
       "Australian Restaurant           1\n",
       "Diner                           1\n",
       "Department Store                1\n",
       "Locksmith                       1\n",
       "Convenience Store               1\n",
       "Wine Bar                        1\n",
       "Health Food Store               1\n",
       "Tennis Court                    1\n",
       "Name: Venue Category, dtype: int64"
      ]
     },
     "metadata": {},
     "execution_count": 701
    }
   ],
   "source": [
    "cluster3_venues['Venue Category'].value_counts()"
   ]
  },
  {
   "source": [
    "### Type and number of venues available in Cluster 4"
   ],
   "cell_type": "markdown",
   "metadata": {}
  },
  {
   "cell_type": "code",
   "execution_count": 702,
   "metadata": {},
   "outputs": [
    {
     "output_type": "execute_result",
     "data": {
      "text/plain": [
       "Clothing Store            6\n",
       "Coffee Shop               6\n",
       "Café                      5\n",
       "Pub                       4\n",
       "Shopping Mall             3\n",
       "Grocery Store             3\n",
       "Fast Food Restaurant      3\n",
       "Supermarket               2\n",
       "Bookstore                 2\n",
       "American Restaurant       2\n",
       "Italian Restaurant        2\n",
       "Bar                       2\n",
       "Bakery                    2\n",
       "Pharmacy                  2\n",
       "Multiplex                 1\n",
       "Park                      1\n",
       "English Restaurant        1\n",
       "Hotel                     1\n",
       "Chinese Restaurant        1\n",
       "Department Store          1\n",
       "Bowling Alley             1\n",
       "Warehouse Store           1\n",
       "Cosmetics Shop            1\n",
       "Discount Store            1\n",
       "Jewelry Store             1\n",
       "Indoor Play Area          1\n",
       "Restaurant                1\n",
       "Platform                  1\n",
       "Optical Shop              1\n",
       "Plaza                     1\n",
       "Sandwich Place            1\n",
       "Brazilian Restaurant      1\n",
       "Gym                       1\n",
       "Furniture / Home Store    1\n",
       "Pizza Place               1\n",
       "Train Station             1\n",
       "Music Store               1\n",
       "Name: Venue Category, dtype: int64"
      ]
     },
     "metadata": {},
     "execution_count": 702
    }
   ],
   "source": [
    "cluster4_venues['Venue Category'].value_counts()"
   ]
  },
  {
   "source": [
    "* Top 10 venues for each neighborhood in Cluster 0"
   ],
   "cell_type": "markdown",
   "metadata": {}
  },
  {
   "cell_type": "code",
   "execution_count": 703,
   "metadata": {},
   "outputs": [
    {
     "output_type": "execute_result",
     "data": {
      "text/plain": [
       "      City   Latitude  Longitude  Cluster Labels 1st Most Common Venue  \\\n",
       "1   London  51.487122   0.003284               0         Grocery Store   \n",
       "6   London  51.564032   0.008813               0         Grocery Store   \n",
       "\n",
       "  2nd Most Common Venue 3rd Most Common Venue 4th Most Common Venue  \\\n",
       "1                  Pier                   Pub    Turkish Restaurant   \n",
       "6           Coffee Shop                  Café                   Pub   \n",
       "\n",
       "  5th Most Common Venue 6th Most Common Venue 7th Most Common Venue  \\\n",
       "1           Coffee Shop     Indian Restaurant           Pizza Place   \n",
       "6           Pizza Place  Fast Food Restaurant     Fish & Chips Shop   \n",
       "\n",
       "  8th Most Common Venue 9th Most Common Venue    10th Most Common Venue  \n",
       "1                  Café   Japanese Restaurant  Mediterranean Restaurant  \n",
       "6    Dim Sum Restaurant         Metro Station           Thai Restaurant  "
      ],
      "text/html": "<div>\n<style scoped>\n    .dataframe tbody tr th:only-of-type {\n        vertical-align: middle;\n    }\n\n    .dataframe tbody tr th {\n        vertical-align: top;\n    }\n\n    .dataframe thead th {\n        text-align: right;\n    }\n</style>\n<table border=\"1\" class=\"dataframe\">\n  <thead>\n    <tr style=\"text-align: right;\">\n      <th></th>\n      <th>City</th>\n      <th>Latitude</th>\n      <th>Longitude</th>\n      <th>Cluster Labels</th>\n      <th>1st Most Common Venue</th>\n      <th>2nd Most Common Venue</th>\n      <th>3rd Most Common Venue</th>\n      <th>4th Most Common Venue</th>\n      <th>5th Most Common Venue</th>\n      <th>6th Most Common Venue</th>\n      <th>7th Most Common Venue</th>\n      <th>8th Most Common Venue</th>\n      <th>9th Most Common Venue</th>\n      <th>10th Most Common Venue</th>\n    </tr>\n  </thead>\n  <tbody>\n    <tr>\n      <th>1</th>\n      <td>London</td>\n      <td>51.487122</td>\n      <td>0.003284</td>\n      <td>0</td>\n      <td>Grocery Store</td>\n      <td>Pier</td>\n      <td>Pub</td>\n      <td>Turkish Restaurant</td>\n      <td>Coffee Shop</td>\n      <td>Indian Restaurant</td>\n      <td>Pizza Place</td>\n      <td>Café</td>\n      <td>Japanese Restaurant</td>\n      <td>Mediterranean Restaurant</td>\n    </tr>\n    <tr>\n      <th>6</th>\n      <td>London</td>\n      <td>51.564032</td>\n      <td>0.008813</td>\n      <td>0</td>\n      <td>Grocery Store</td>\n      <td>Coffee Shop</td>\n      <td>Café</td>\n      <td>Pub</td>\n      <td>Pizza Place</td>\n      <td>Fast Food Restaurant</td>\n      <td>Fish &amp; Chips Shop</td>\n      <td>Dim Sum Restaurant</td>\n      <td>Metro Station</td>\n      <td>Thai Restaurant</td>\n    </tr>\n  </tbody>\n</table>\n</div>"
     },
     "metadata": {},
     "execution_count": 703
    }
   ],
   "source": [
    "cluster0=ld_merged.loc[ld_merged['Cluster Labels'] == 0, ld_merged.columns[[1] + list(range(5, ld_merged.shape[1]))]]\n",
    "cluster0"
   ]
  },
  {
   "source": [
    "* Top 10 venues for each neighborhood in Cluster 1"
   ],
   "cell_type": "markdown",
   "metadata": {}
  },
  {
   "cell_type": "code",
   "execution_count": 704,
   "metadata": {},
   "outputs": [
    {
     "output_type": "execute_result",
     "data": {
      "text/plain": [
       "        City   Latitude  Longitude  Cluster Labels 1st Most Common Venue  \\\n",
       "3    Bromley  51.401546   0.015415               1        Clothing Store   \n",
       "5     London  51.474867  -0.046933               1              Bus Stop   \n",
       "8     London  51.453268  -0.032498               1           Coffee Shop   \n",
       "15    London  51.476810  -0.068163               1              Bus Stop   \n",
       "17    London  51.537580   0.040295               1         Grocery Store   \n",
       "\n",
       "   2nd Most Common Venue 3rd Most Common Venue 4th Most Common Venue  \\\n",
       "3            Coffee Shop  Gym / Fitness Center           Supermarket   \n",
       "5               Platform     Convenience Store                   Pub   \n",
       "8    Fried Chicken Joint    Chinese Restaurant                  Café   \n",
       "15        Discount Store                   Pub         Grocery Store   \n",
       "17                Market         Metro Station                  Park   \n",
       "\n",
       "   5th Most Common Venue 6th Most Common Venue 7th Most Common Venue  \\\n",
       "3                   Café        Chocolate Shop                   Pub   \n",
       "5     Chinese Restaurant           Supermarket      Kebab Restaurant   \n",
       "8               Bus Stop          Concert Hall      Malay Restaurant   \n",
       "15                  Park           Supermarket           Coffee Shop   \n",
       "17                   Pub        Sandwich Place  Fast Food Restaurant   \n",
       "\n",
       "     8th Most Common Venue 9th Most Common Venue 10th Most Common Venue  \n",
       "3    Portuguese Restaurant              Pharmacy                   Park  \n",
       "5   Furniture / Home Store   Fried Chicken Joint      Electronics Store  \n",
       "8                      Pub     Convenience Store                Theater  \n",
       "15    Fast Food Restaurant        Sandwich Place            Bus Station  \n",
       "17            Soccer Field              Pharmacy                 Bakery  "
      ],
      "text/html": "<div>\n<style scoped>\n    .dataframe tbody tr th:only-of-type {\n        vertical-align: middle;\n    }\n\n    .dataframe tbody tr th {\n        vertical-align: top;\n    }\n\n    .dataframe thead th {\n        text-align: right;\n    }\n</style>\n<table border=\"1\" class=\"dataframe\">\n  <thead>\n    <tr style=\"text-align: right;\">\n      <th></th>\n      <th>City</th>\n      <th>Latitude</th>\n      <th>Longitude</th>\n      <th>Cluster Labels</th>\n      <th>1st Most Common Venue</th>\n      <th>2nd Most Common Venue</th>\n      <th>3rd Most Common Venue</th>\n      <th>4th Most Common Venue</th>\n      <th>5th Most Common Venue</th>\n      <th>6th Most Common Venue</th>\n      <th>7th Most Common Venue</th>\n      <th>8th Most Common Venue</th>\n      <th>9th Most Common Venue</th>\n      <th>10th Most Common Venue</th>\n    </tr>\n  </thead>\n  <tbody>\n    <tr>\n      <th>3</th>\n      <td>Bromley</td>\n      <td>51.401546</td>\n      <td>0.015415</td>\n      <td>1</td>\n      <td>Clothing Store</td>\n      <td>Coffee Shop</td>\n      <td>Gym / Fitness Center</td>\n      <td>Supermarket</td>\n      <td>Café</td>\n      <td>Chocolate Shop</td>\n      <td>Pub</td>\n      <td>Portuguese Restaurant</td>\n      <td>Pharmacy</td>\n      <td>Park</td>\n    </tr>\n    <tr>\n      <th>5</th>\n      <td>London</td>\n      <td>51.474867</td>\n      <td>-0.046933</td>\n      <td>1</td>\n      <td>Bus Stop</td>\n      <td>Platform</td>\n      <td>Convenience Store</td>\n      <td>Pub</td>\n      <td>Chinese Restaurant</td>\n      <td>Supermarket</td>\n      <td>Kebab Restaurant</td>\n      <td>Furniture / Home Store</td>\n      <td>Fried Chicken Joint</td>\n      <td>Electronics Store</td>\n    </tr>\n    <tr>\n      <th>8</th>\n      <td>London</td>\n      <td>51.453268</td>\n      <td>-0.032498</td>\n      <td>1</td>\n      <td>Coffee Shop</td>\n      <td>Fried Chicken Joint</td>\n      <td>Chinese Restaurant</td>\n      <td>Café</td>\n      <td>Bus Stop</td>\n      <td>Concert Hall</td>\n      <td>Malay Restaurant</td>\n      <td>Pub</td>\n      <td>Convenience Store</td>\n      <td>Theater</td>\n    </tr>\n    <tr>\n      <th>15</th>\n      <td>London</td>\n      <td>51.476810</td>\n      <td>-0.068163</td>\n      <td>1</td>\n      <td>Bus Stop</td>\n      <td>Discount Store</td>\n      <td>Pub</td>\n      <td>Grocery Store</td>\n      <td>Park</td>\n      <td>Supermarket</td>\n      <td>Coffee Shop</td>\n      <td>Fast Food Restaurant</td>\n      <td>Sandwich Place</td>\n      <td>Bus Station</td>\n    </tr>\n    <tr>\n      <th>17</th>\n      <td>London</td>\n      <td>51.537580</td>\n      <td>0.040295</td>\n      <td>1</td>\n      <td>Grocery Store</td>\n      <td>Market</td>\n      <td>Metro Station</td>\n      <td>Park</td>\n      <td>Pub</td>\n      <td>Sandwich Place</td>\n      <td>Fast Food Restaurant</td>\n      <td>Soccer Field</td>\n      <td>Pharmacy</td>\n      <td>Bakery</td>\n    </tr>\n  </tbody>\n</table>\n</div>"
     },
     "metadata": {},
     "execution_count": 704
    }
   ],
   "source": [
    "cluster1=ld_merged.loc[ld_merged['Cluster Labels'] == 1, ld_merged.columns[[1] + list(range(5, ld_merged.shape[1]))]]\n",
    "cluster1"
   ]
  },
  {
   "source": [
    "* Top 10 venues for each neighborhood in Cluster 2"
   ],
   "cell_type": "markdown",
   "metadata": {}
  },
  {
   "cell_type": "code",
   "execution_count": 705,
   "metadata": {},
   "outputs": [
    {
     "output_type": "execute_result",
     "data": {
      "text/plain": [
       "       City   Latitude  Longitude  Cluster Labels 1st Most Common Venue  \\\n",
       "20   London  51.585503  -0.018014               2           Coffee Shop   \n",
       "\n",
       "   2nd Most Common Venue 3rd Most Common Venue 4th Most Common Venue  \\\n",
       "20                   Pub        Sandwich Place            Restaurant   \n",
       "\n",
       "   5th Most Common Venue 6th Most Common Venue 7th Most Common Venue  \\\n",
       "20        Clothing Store              Pharmacy                Bakery   \n",
       "\n",
       "   8th Most Common Venue 9th Most Common Venue 10th Most Common Venue  \n",
       "20           Pizza Place                  Café  Portuguese Restaurant  "
      ],
      "text/html": "<div>\n<style scoped>\n    .dataframe tbody tr th:only-of-type {\n        vertical-align: middle;\n    }\n\n    .dataframe tbody tr th {\n        vertical-align: top;\n    }\n\n    .dataframe thead th {\n        text-align: right;\n    }\n</style>\n<table border=\"1\" class=\"dataframe\">\n  <thead>\n    <tr style=\"text-align: right;\">\n      <th></th>\n      <th>City</th>\n      <th>Latitude</th>\n      <th>Longitude</th>\n      <th>Cluster Labels</th>\n      <th>1st Most Common Venue</th>\n      <th>2nd Most Common Venue</th>\n      <th>3rd Most Common Venue</th>\n      <th>4th Most Common Venue</th>\n      <th>5th Most Common Venue</th>\n      <th>6th Most Common Venue</th>\n      <th>7th Most Common Venue</th>\n      <th>8th Most Common Venue</th>\n      <th>9th Most Common Venue</th>\n      <th>10th Most Common Venue</th>\n    </tr>\n  </thead>\n  <tbody>\n    <tr>\n      <th>20</th>\n      <td>London</td>\n      <td>51.585503</td>\n      <td>-0.018014</td>\n      <td>2</td>\n      <td>Coffee Shop</td>\n      <td>Pub</td>\n      <td>Sandwich Place</td>\n      <td>Restaurant</td>\n      <td>Clothing Store</td>\n      <td>Pharmacy</td>\n      <td>Bakery</td>\n      <td>Pizza Place</td>\n      <td>Café</td>\n      <td>Portuguese Restaurant</td>\n    </tr>\n  </tbody>\n</table>\n</div>"
     },
     "metadata": {},
     "execution_count": 705
    }
   ],
   "source": [
    "cluster2=ld_merged.loc[ld_merged['Cluster Labels'] == 2, ld_merged.columns[[1] + list(range(5, ld_merged.shape[1]))]]\n",
    "cluster2"
   ]
  },
  {
   "source": [
    "* Top 10 venues for each neighborhood in Cluster 3"
   ],
   "cell_type": "markdown",
   "metadata": {}
  },
  {
   "cell_type": "code",
   "execution_count": 706,
   "metadata": {},
   "outputs": [
    {
     "output_type": "execute_result",
     "data": {
      "text/plain": [
       "        City   Latitude  Longitude  Cluster Labels     1st Most Common Venue  \\\n",
       "0     Sidcup  51.426481   0.105038               3                  Pharmacy   \n",
       "2     London  51.481796  -0.090377               3                      Park   \n",
       "4     London  51.450352   0.062336               3  Mediterranean Restaurant   \n",
       "7     London  51.464123  -0.222848               3               Coffee Shop   \n",
       "9    Barking  51.554412   0.019655               3                    Bakery   \n",
       "10    London  51.524785   0.078646               3                     Diner   \n",
       "11    London  51.491797  -0.042421               3               Pizza Place   \n",
       "12   Bromley  51.429347  -0.044847               3               Supermarket   \n",
       "13    London  51.407775  -0.003321               3              Home Service   \n",
       "14    London  51.434204  -0.085226               3             Garden Center   \n",
       "16    London  51.492037   0.087067               3             Train Station   \n",
       "18   Romford  51.484461   0.084733               3                       Pub   \n",
       "21   Romford  51.577913   0.190919               3            Clothing Store   \n",
       "\n",
       "          2nd Most Common Venue 3rd Most Common Venue  4th Most Common Venue  \\\n",
       "0                 Grocery Store           Coffee Shop   Fast Food Restaurant   \n",
       "2     Middle Eastern Restaurant           Coffee Shop                   Café   \n",
       "4              Department Store    Italian Restaurant  Portuguese Restaurant   \n",
       "7                           Pub        Clothing Store                   Café   \n",
       "9                           Bar                   Pub             Restaurant   \n",
       "10  Eastern European Restaurant          Soccer Field              Multiplex   \n",
       "11                     Pharmacy           Supermarket                    Pub   \n",
       "12                          Pub             Gastropub         Breakfast Spot   \n",
       "13                Train Station           Golf Course      Fish & Chips Shop   \n",
       "14                       Bakery         Train Station              Gift Shop   \n",
       "16             Asian Restaurant        Breakfast Spot            Bus Station   \n",
       "18                         Park         Grocery Store      Convenience Store   \n",
       "21                          Pub             Multiplex         Sandwich Place   \n",
       "\n",
       "     5th Most Common Venue   6th Most Common Venue  \\\n",
       "0              Pizza Place                    Café   \n",
       "2                      Pub    Ethiopian Restaurant   \n",
       "4                      Pub          Clothing Store   \n",
       "7      Japanese Restaurant                  Bakery   \n",
       "9              Flower Shop              Food Truck   \n",
       "10      Dim Sum Restaurant          Discount Store   \n",
       "11   Vietnamese Restaurant                Platform   \n",
       "12      Italian Restaurant                    Café   \n",
       "13                    Café  Furniture / Home Store   \n",
       "14  Furniture / Home Store              Donut Shop   \n",
       "16       Fish & Chips Shop  Furniture / Home Store   \n",
       "18            Betting Shop                    Café   \n",
       "21                    Park             Supermarket   \n",
       "\n",
       "          7th Most Common Venue        8th Most Common Venue  \\\n",
       "0            Italian Restaurant                  Supermarket   \n",
       "2                      Building                       Garden   \n",
       "4                 Movie Theater         Fast Food Restaurant   \n",
       "7                 Grocery Store            Indian Restaurant   \n",
       "9                   Yoga Studio          Fried Chicken Joint   \n",
       "10                   Donut Shop            Electronics Store   \n",
       "11                          Gym               Clothing Store   \n",
       "12                       Bakery                         Park   \n",
       "13                   Donut Shop  Eastern European Restaurant   \n",
       "14  Eastern European Restaurant            Electronics Store   \n",
       "16          Fried Chicken Joint                   Food Truck   \n",
       "18                  Yoga Studio                   Food Truck   \n",
       "21       Furniture / Home Store                  Coffee Shop   \n",
       "\n",
       "          9th Most Common Venue       10th Most Common Venue  \n",
       "0                         Hotel                       Bakery  \n",
       "2            Italian Restaurant            Fish & Chips Shop  \n",
       "4                      Pharmacy                  Supermarket  \n",
       "7              Sushi Restaurant           Italian Restaurant  \n",
       "9                    Donut Shop  Eastern European Restaurant  \n",
       "10           English Restaurant         Ethiopian Restaurant  \n",
       "11                  Coffee Shop          American Restaurant  \n",
       "12           English Restaurant            Electronics Store  \n",
       "13            Electronics Store           English Restaurant  \n",
       "14           English Restaurant         Ethiopian Restaurant  \n",
       "16                  Flower Shop                  Yoga Studio  \n",
       "18  Eastern European Restaurant            Electronics Store  \n",
       "21                 Optical Shop             Video Game Store  "
      ],
      "text/html": "<div>\n<style scoped>\n    .dataframe tbody tr th:only-of-type {\n        vertical-align: middle;\n    }\n\n    .dataframe tbody tr th {\n        vertical-align: top;\n    }\n\n    .dataframe thead th {\n        text-align: right;\n    }\n</style>\n<table border=\"1\" class=\"dataframe\">\n  <thead>\n    <tr style=\"text-align: right;\">\n      <th></th>\n      <th>City</th>\n      <th>Latitude</th>\n      <th>Longitude</th>\n      <th>Cluster Labels</th>\n      <th>1st Most Common Venue</th>\n      <th>2nd Most Common Venue</th>\n      <th>3rd Most Common Venue</th>\n      <th>4th Most Common Venue</th>\n      <th>5th Most Common Venue</th>\n      <th>6th Most Common Venue</th>\n      <th>7th Most Common Venue</th>\n      <th>8th Most Common Venue</th>\n      <th>9th Most Common Venue</th>\n      <th>10th Most Common Venue</th>\n    </tr>\n  </thead>\n  <tbody>\n    <tr>\n      <th>0</th>\n      <td>Sidcup</td>\n      <td>51.426481</td>\n      <td>0.105038</td>\n      <td>3</td>\n      <td>Pharmacy</td>\n      <td>Grocery Store</td>\n      <td>Coffee Shop</td>\n      <td>Fast Food Restaurant</td>\n      <td>Pizza Place</td>\n      <td>Café</td>\n      <td>Italian Restaurant</td>\n      <td>Supermarket</td>\n      <td>Hotel</td>\n      <td>Bakery</td>\n    </tr>\n    <tr>\n      <th>2</th>\n      <td>London</td>\n      <td>51.481796</td>\n      <td>-0.090377</td>\n      <td>3</td>\n      <td>Park</td>\n      <td>Middle Eastern Restaurant</td>\n      <td>Coffee Shop</td>\n      <td>Café</td>\n      <td>Pub</td>\n      <td>Ethiopian Restaurant</td>\n      <td>Building</td>\n      <td>Garden</td>\n      <td>Italian Restaurant</td>\n      <td>Fish &amp; Chips Shop</td>\n    </tr>\n    <tr>\n      <th>4</th>\n      <td>London</td>\n      <td>51.450352</td>\n      <td>0.062336</td>\n      <td>3</td>\n      <td>Mediterranean Restaurant</td>\n      <td>Department Store</td>\n      <td>Italian Restaurant</td>\n      <td>Portuguese Restaurant</td>\n      <td>Pub</td>\n      <td>Clothing Store</td>\n      <td>Movie Theater</td>\n      <td>Fast Food Restaurant</td>\n      <td>Pharmacy</td>\n      <td>Supermarket</td>\n    </tr>\n    <tr>\n      <th>7</th>\n      <td>London</td>\n      <td>51.464123</td>\n      <td>-0.222848</td>\n      <td>3</td>\n      <td>Coffee Shop</td>\n      <td>Pub</td>\n      <td>Clothing Store</td>\n      <td>Café</td>\n      <td>Japanese Restaurant</td>\n      <td>Bakery</td>\n      <td>Grocery Store</td>\n      <td>Indian Restaurant</td>\n      <td>Sushi Restaurant</td>\n      <td>Italian Restaurant</td>\n    </tr>\n    <tr>\n      <th>9</th>\n      <td>Barking</td>\n      <td>51.554412</td>\n      <td>0.019655</td>\n      <td>3</td>\n      <td>Bakery</td>\n      <td>Bar</td>\n      <td>Pub</td>\n      <td>Restaurant</td>\n      <td>Flower Shop</td>\n      <td>Food Truck</td>\n      <td>Yoga Studio</td>\n      <td>Fried Chicken Joint</td>\n      <td>Donut Shop</td>\n      <td>Eastern European Restaurant</td>\n    </tr>\n    <tr>\n      <th>10</th>\n      <td>London</td>\n      <td>51.524785</td>\n      <td>0.078646</td>\n      <td>3</td>\n      <td>Diner</td>\n      <td>Eastern European Restaurant</td>\n      <td>Soccer Field</td>\n      <td>Multiplex</td>\n      <td>Dim Sum Restaurant</td>\n      <td>Discount Store</td>\n      <td>Donut Shop</td>\n      <td>Electronics Store</td>\n      <td>English Restaurant</td>\n      <td>Ethiopian Restaurant</td>\n    </tr>\n    <tr>\n      <th>11</th>\n      <td>London</td>\n      <td>51.491797</td>\n      <td>-0.042421</td>\n      <td>3</td>\n      <td>Pizza Place</td>\n      <td>Pharmacy</td>\n      <td>Supermarket</td>\n      <td>Pub</td>\n      <td>Vietnamese Restaurant</td>\n      <td>Platform</td>\n      <td>Gym</td>\n      <td>Clothing Store</td>\n      <td>Coffee Shop</td>\n      <td>American Restaurant</td>\n    </tr>\n    <tr>\n      <th>12</th>\n      <td>Bromley</td>\n      <td>51.429347</td>\n      <td>-0.044847</td>\n      <td>3</td>\n      <td>Supermarket</td>\n      <td>Pub</td>\n      <td>Gastropub</td>\n      <td>Breakfast Spot</td>\n      <td>Italian Restaurant</td>\n      <td>Café</td>\n      <td>Bakery</td>\n      <td>Park</td>\n      <td>English Restaurant</td>\n      <td>Electronics Store</td>\n    </tr>\n    <tr>\n      <th>13</th>\n      <td>London</td>\n      <td>51.407775</td>\n      <td>-0.003321</td>\n      <td>3</td>\n      <td>Home Service</td>\n      <td>Train Station</td>\n      <td>Golf Course</td>\n      <td>Fish &amp; Chips Shop</td>\n      <td>Café</td>\n      <td>Furniture / Home Store</td>\n      <td>Donut Shop</td>\n      <td>Eastern European Restaurant</td>\n      <td>Electronics Store</td>\n      <td>English Restaurant</td>\n    </tr>\n    <tr>\n      <th>14</th>\n      <td>London</td>\n      <td>51.434204</td>\n      <td>-0.085226</td>\n      <td>3</td>\n      <td>Garden Center</td>\n      <td>Bakery</td>\n      <td>Train Station</td>\n      <td>Gift Shop</td>\n      <td>Furniture / Home Store</td>\n      <td>Donut Shop</td>\n      <td>Eastern European Restaurant</td>\n      <td>Electronics Store</td>\n      <td>English Restaurant</td>\n      <td>Ethiopian Restaurant</td>\n    </tr>\n    <tr>\n      <th>16</th>\n      <td>London</td>\n      <td>51.492037</td>\n      <td>0.087067</td>\n      <td>3</td>\n      <td>Train Station</td>\n      <td>Asian Restaurant</td>\n      <td>Breakfast Spot</td>\n      <td>Bus Station</td>\n      <td>Fish &amp; Chips Shop</td>\n      <td>Furniture / Home Store</td>\n      <td>Fried Chicken Joint</td>\n      <td>Food Truck</td>\n      <td>Flower Shop</td>\n      <td>Yoga Studio</td>\n    </tr>\n    <tr>\n      <th>18</th>\n      <td>Romford</td>\n      <td>51.484461</td>\n      <td>0.084733</td>\n      <td>3</td>\n      <td>Pub</td>\n      <td>Park</td>\n      <td>Grocery Store</td>\n      <td>Convenience Store</td>\n      <td>Betting Shop</td>\n      <td>Café</td>\n      <td>Yoga Studio</td>\n      <td>Food Truck</td>\n      <td>Eastern European Restaurant</td>\n      <td>Electronics Store</td>\n    </tr>\n    <tr>\n      <th>21</th>\n      <td>Romford</td>\n      <td>51.577913</td>\n      <td>0.190919</td>\n      <td>3</td>\n      <td>Clothing Store</td>\n      <td>Pub</td>\n      <td>Multiplex</td>\n      <td>Sandwich Place</td>\n      <td>Park</td>\n      <td>Supermarket</td>\n      <td>Furniture / Home Store</td>\n      <td>Coffee Shop</td>\n      <td>Optical Shop</td>\n      <td>Video Game Store</td>\n    </tr>\n  </tbody>\n</table>\n</div>"
     },
     "metadata": {},
     "execution_count": 706
    }
   ],
   "source": [
    "cluster3=ld_merged.loc[ld_merged['Cluster Labels'] == 3, ld_merged.columns[[1] + list(range(5, ld_merged.shape[1]))]]\n",
    "cluster3"
   ]
  },
  {
   "cell_type": "code",
   "execution_count": 707,
   "metadata": {},
   "outputs": [
    {
     "output_type": "execute_result",
     "data": {
      "text/plain": [
       "       City  Latitude  Longitude  Cluster Labels 1st Most Common Venue  \\\n",
       "19   London   51.5776   0.178261               4           Coffee Shop   \n",
       "\n",
       "   2nd Most Common Venue 3rd Most Common Venue 4th Most Common Venue  \\\n",
       "19        Clothing Store                  Café                   Pub   \n",
       "\n",
       "   5th Most Common Venue 6th Most Common Venue 7th Most Common Venue  \\\n",
       "19         Grocery Store  Fast Food Restaurant         Shopping Mall   \n",
       "\n",
       "   8th Most Common Venue 9th Most Common Venue 10th Most Common Venue  \n",
       "19   American Restaurant             Bookstore     Italian Restaurant  "
      ],
      "text/html": "<div>\n<style scoped>\n    .dataframe tbody tr th:only-of-type {\n        vertical-align: middle;\n    }\n\n    .dataframe tbody tr th {\n        vertical-align: top;\n    }\n\n    .dataframe thead th {\n        text-align: right;\n    }\n</style>\n<table border=\"1\" class=\"dataframe\">\n  <thead>\n    <tr style=\"text-align: right;\">\n      <th></th>\n      <th>City</th>\n      <th>Latitude</th>\n      <th>Longitude</th>\n      <th>Cluster Labels</th>\n      <th>1st Most Common Venue</th>\n      <th>2nd Most Common Venue</th>\n      <th>3rd Most Common Venue</th>\n      <th>4th Most Common Venue</th>\n      <th>5th Most Common Venue</th>\n      <th>6th Most Common Venue</th>\n      <th>7th Most Common Venue</th>\n      <th>8th Most Common Venue</th>\n      <th>9th Most Common Venue</th>\n      <th>10th Most Common Venue</th>\n    </tr>\n  </thead>\n  <tbody>\n    <tr>\n      <th>19</th>\n      <td>London</td>\n      <td>51.5776</td>\n      <td>0.178261</td>\n      <td>4</td>\n      <td>Coffee Shop</td>\n      <td>Clothing Store</td>\n      <td>Café</td>\n      <td>Pub</td>\n      <td>Grocery Store</td>\n      <td>Fast Food Restaurant</td>\n      <td>Shopping Mall</td>\n      <td>American Restaurant</td>\n      <td>Bookstore</td>\n      <td>Italian Restaurant</td>\n    </tr>\n  </tbody>\n</table>\n</div>"
     },
     "metadata": {},
     "execution_count": 707
    }
   ],
   "source": [
    "* Top 10 venues for each neighborhood in Cluster 4"
   ]
  },
  {
   "source": [
    "cluster4=ld_merged.loc[ld_merged['Cluster Labels'] == 4, ld_merged.columns[[1] + list(range(5, ld_merged.shape[1]))]]\n",
    "cluster4"
   ],
   "cell_type": "markdown",
   "metadata": {}
  },
  {
   "cell_type": "code",
   "execution_count": 708,
   "metadata": {},
   "outputs": [],
   "source": [
    "df_list = [cluster0_venues['Venue Category'] ,cluster1_venues['Venue Category'], cluster2_venues['Venue Category'], cluster3_venues['Venue Category'], cluster4_venues['Venue Category'],cluster4_venues['Venue Category']]\n"
   ]
  },
  {
   "source": [
    "# BAR PLOTS\n",
    "\n",
    "* We will utilise barplots to conduct two studies:\n",
    "* Comparison of number of Venues available in each Cluster\n",
    "* Comparison of probability of finding a particular venue in each Cluster.(This is used to provide a more objective approach to compare clusters with high venue counts to those with low venue counts.)"
   ],
   "cell_type": "markdown",
   "metadata": {}
  },
  {
   "cell_type": "code",
   "execution_count": 709,
   "metadata": {},
   "outputs": [
    {
     "output_type": "display_data",
     "data": {
      "text/plain": "<Figure size 1080x720 with 5 Axes>",
      "image/svg+xml": "<?xml version=\"1.0\" encoding=\"utf-8\" standalone=\"no\"?>\r\n<!DOCTYPE svg PUBLIC \"-//W3C//DTD SVG 1.1//EN\"\r\n  \"http://www.w3.org/Graphics/SVG/1.1/DTD/svg11.dtd\">\r\n<!-- Created with matplotlib (https://matplotlib.org/) -->\r\n<svg height=\"711.274375pt\" version=\"1.1\" viewBox=\"0 0 1072.86875 711.274375\" width=\"1072.86875pt\" xmlns=\"http://www.w3.org/2000/svg\" xmlns:xlink=\"http://www.w3.org/1999/xlink\">\r\n <metadata>\r\n  <rdf:RDF xmlns:cc=\"http://creativecommons.org/ns#\" xmlns:dc=\"http://purl.org/dc/elements/1.1/\" xmlns:rdf=\"http://www.w3.org/1999/02/22-rdf-syntax-ns#\">\r\n   <cc:Work>\r\n    <dc:type rdf:resource=\"http://purl.org/dc/dcmitype/StillImage\"/>\r\n    <dc:date>2021-05-21T20:07:54.290704</dc:date>\r\n    <dc:format>image/svg+xml</dc:format>\r\n    <dc:creator>\r\n     <cc:Agent>\r\n      <dc:title>Matplotlib v3.3.2, https://matplotlib.org/</dc:title>\r\n     </cc:Agent>\r\n    </dc:creator>\r\n   </cc:Work>\r\n  </rdf:RDF>\r\n </metadata>\r\n <defs>\r\n  <style type=\"text/css\">*{stroke-linecap:butt;stroke-linejoin:round;}</style>\r\n </defs>\r\n <g id=\"figure_1\">\r\n  <g id=\"patch_1\">\r\n   <path d=\"M 0 711.274375 \r\nL 1072.86875 711.274375 \r\nL 1072.86875 0 \r\nL 0 0 \r\nz\r\n\" style=\"fill:none;\"/>\r\n  </g>\r\n  <g id=\"axes_1\">\r\n   <g id=\"patch_2\">\r\n    <path d=\"M 107.28125 319.118125 \r\nL 338.672917 319.118125 \r\nL 338.672917 22.318125 \r\nL 107.28125 22.318125 \r\nz\r\n\" style=\"fill:#ffffff;\"/>\r\n   </g>\r\n   <g id=\"patch_3\">\r\n    <path clip-path=\"url(#p2476386aea)\" d=\"M 107.28125 311.46864 \r\nL 130.420417 311.46864 \r\nL 130.420417 305.349053 \r\nL 107.28125 305.349053 \r\nz\r\n\" style=\"fill:#ff0029;\"/>\r\n   </g>\r\n   <g id=\"patch_4\">\r\n    <path clip-path=\"url(#p2476386aea)\" d=\"M 107.28125 280.870702 \r\nL 130.420417 280.870702 \r\nL 130.420417 274.751115 \r\nL 107.28125 274.751115 \r\nz\r\n\" style=\"fill:#ff0029;\"/>\r\n   </g>\r\n   <g id=\"patch_5\">\r\n    <path clip-path=\"url(#p2476386aea)\" d=\"M 107.28125 250.272764 \r\nL 130.420417 250.272764 \r\nL 130.420417 244.153177 \r\nL 107.28125 244.153177 \r\nz\r\n\" style=\"fill:#ff0029;\"/>\r\n   </g>\r\n   <g id=\"patch_6\">\r\n    <path clip-path=\"url(#p2476386aea)\" d=\"M 107.28125 219.674826 \r\nL 130.420417 219.674826 \r\nL 130.420417 213.555238 \r\nL 107.28125 213.555238 \r\nz\r\n\" style=\"fill:#ff0029;\"/>\r\n   </g>\r\n   <g id=\"patch_7\">\r\n    <path clip-path=\"url(#p2476386aea)\" d=\"M 107.28125 189.076888 \r\nL 130.420417 189.076888 \r\nL 130.420417 182.9573 \r\nL 107.28125 182.9573 \r\nz\r\n\" style=\"fill:#ff0029;\"/>\r\n   </g>\r\n   <g id=\"patch_8\">\r\n    <path clip-path=\"url(#p2476386aea)\" d=\"M 107.28125 158.47895 \r\nL 141.99 158.47895 \r\nL 141.99 152.359362 \r\nL 107.28125 152.359362 \r\nz\r\n\" style=\"fill:#ff0029;\"/>\r\n   </g>\r\n   <g id=\"patch_9\">\r\n    <path clip-path=\"url(#p2476386aea)\" d=\"M 107.28125 127.881012 \r\nL 141.99 127.881012 \r\nL 141.99 121.761424 \r\nL 107.28125 121.761424 \r\nz\r\n\" style=\"fill:#ff0029;\"/>\r\n   </g>\r\n   <g id=\"patch_10\">\r\n    <path clip-path=\"url(#p2476386aea)\" d=\"M 107.28125 97.283073 \r\nL 153.559583 97.283073 \r\nL 153.559583 91.163486 \r\nL 107.28125 91.163486 \r\nz\r\n\" style=\"fill:#ff0029;\"/>\r\n   </g>\r\n   <g id=\"patch_11\">\r\n    <path clip-path=\"url(#p2476386aea)\" d=\"M 107.28125 66.685135 \r\nL 165.129167 66.685135 \r\nL 165.129167 60.565548 \r\nL 107.28125 60.565548 \r\nz\r\n\" style=\"fill:#ff0029;\"/>\r\n   </g>\r\n   <g id=\"patch_12\">\r\n    <path clip-path=\"url(#p2476386aea)\" d=\"M 107.28125 36.087197 \r\nL 211.4075 36.087197 \r\nL 211.4075 29.96761 \r\nL 107.28125 29.96761 \r\nz\r\n\" style=\"fill:#ff0029;\"/>\r\n   </g>\r\n   <g id=\"matplotlib.axis_1\">\r\n    <g id=\"xtick_1\">\r\n     <g id=\"line2d_1\">\r\n      <defs>\r\n       <path d=\"M 0 0 \r\nL 0 3.5 \r\n\" id=\"m6fafd929b4\" style=\"stroke:#000000;stroke-width:0.8;\"/>\r\n      </defs>\r\n      <g>\r\n       <use style=\"stroke:#000000;stroke-width:0.8;\" x=\"107.28125\" xlink:href=\"#m6fafd929b4\" y=\"319.118125\"/>\r\n      </g>\r\n     </g>\r\n     <g id=\"text_1\">\r\n      <!-- 0 -->\r\n      <g transform=\"translate(104.1 333.716562)scale(0.1 -0.1)\">\r\n       <defs>\r\n        <path d=\"M 31.78125 66.40625 \r\nQ 24.171875 66.40625 20.328125 58.90625 \r\nQ 16.5 51.421875 16.5 36.375 \r\nQ 16.5 21.390625 20.328125 13.890625 \r\nQ 24.171875 6.390625 31.78125 6.390625 \r\nQ 39.453125 6.390625 43.28125 13.890625 \r\nQ 47.125 21.390625 47.125 36.375 \r\nQ 47.125 51.421875 43.28125 58.90625 \r\nQ 39.453125 66.40625 31.78125 66.40625 \r\nz\r\nM 31.78125 74.21875 \r\nQ 44.046875 74.21875 50.515625 64.515625 \r\nQ 56.984375 54.828125 56.984375 36.375 \r\nQ 56.984375 17.96875 50.515625 8.265625 \r\nQ 44.046875 -1.421875 31.78125 -1.421875 \r\nQ 19.53125 -1.421875 13.0625 8.265625 \r\nQ 6.59375 17.96875 6.59375 36.375 \r\nQ 6.59375 54.828125 13.0625 64.515625 \r\nQ 19.53125 74.21875 31.78125 74.21875 \r\nz\r\n\" id=\"DejaVuSans-48\"/>\r\n       </defs>\r\n       <use xlink:href=\"#DejaVuSans-48\"/>\r\n      </g>\r\n     </g>\r\n    </g>\r\n    <g id=\"xtick_2\">\r\n     <g id=\"line2d_2\">\r\n      <g>\r\n       <use style=\"stroke:#000000;stroke-width:0.8;\" x=\"165.129167\" xlink:href=\"#m6fafd929b4\" y=\"319.118125\"/>\r\n      </g>\r\n     </g>\r\n     <g id=\"text_2\">\r\n      <!-- 5 -->\r\n      <g transform=\"translate(161.947917 333.716562)scale(0.1 -0.1)\">\r\n       <defs>\r\n        <path d=\"M 10.796875 72.90625 \r\nL 49.515625 72.90625 \r\nL 49.515625 64.59375 \r\nL 19.828125 64.59375 \r\nL 19.828125 46.734375 \r\nQ 21.96875 47.46875 24.109375 47.828125 \r\nQ 26.265625 48.1875 28.421875 48.1875 \r\nQ 40.625 48.1875 47.75 41.5 \r\nQ 54.890625 34.8125 54.890625 23.390625 \r\nQ 54.890625 11.625 47.5625 5.09375 \r\nQ 40.234375 -1.421875 26.90625 -1.421875 \r\nQ 22.3125 -1.421875 17.546875 -0.640625 \r\nQ 12.796875 0.140625 7.71875 1.703125 \r\nL 7.71875 11.625 \r\nQ 12.109375 9.234375 16.796875 8.0625 \r\nQ 21.484375 6.890625 26.703125 6.890625 \r\nQ 35.15625 6.890625 40.078125 11.328125 \r\nQ 45.015625 15.765625 45.015625 23.390625 \r\nQ 45.015625 31 40.078125 35.4375 \r\nQ 35.15625 39.890625 26.703125 39.890625 \r\nQ 22.75 39.890625 18.8125 39.015625 \r\nQ 14.890625 38.140625 10.796875 36.28125 \r\nz\r\n\" id=\"DejaVuSans-53\"/>\r\n       </defs>\r\n       <use xlink:href=\"#DejaVuSans-53\"/>\r\n      </g>\r\n     </g>\r\n    </g>\r\n    <g id=\"xtick_3\">\r\n     <g id=\"line2d_3\">\r\n      <g>\r\n       <use style=\"stroke:#000000;stroke-width:0.8;\" x=\"222.977083\" xlink:href=\"#m6fafd929b4\" y=\"319.118125\"/>\r\n      </g>\r\n     </g>\r\n     <g id=\"text_3\">\r\n      <!-- 10 -->\r\n      <g transform=\"translate(216.614583 333.716562)scale(0.1 -0.1)\">\r\n       <defs>\r\n        <path d=\"M 12.40625 8.296875 \r\nL 28.515625 8.296875 \r\nL 28.515625 63.921875 \r\nL 10.984375 60.40625 \r\nL 10.984375 69.390625 \r\nL 28.421875 72.90625 \r\nL 38.28125 72.90625 \r\nL 38.28125 8.296875 \r\nL 54.390625 8.296875 \r\nL 54.390625 0 \r\nL 12.40625 0 \r\nz\r\n\" id=\"DejaVuSans-49\"/>\r\n       </defs>\r\n       <use xlink:href=\"#DejaVuSans-49\"/>\r\n       <use x=\"63.623047\" xlink:href=\"#DejaVuSans-48\"/>\r\n      </g>\r\n     </g>\r\n    </g>\r\n    <g id=\"xtick_4\">\r\n     <g id=\"line2d_4\">\r\n      <g>\r\n       <use style=\"stroke:#000000;stroke-width:0.8;\" x=\"280.825\" xlink:href=\"#m6fafd929b4\" y=\"319.118125\"/>\r\n      </g>\r\n     </g>\r\n     <g id=\"text_4\">\r\n      <!-- 15 -->\r\n      <g transform=\"translate(274.4625 333.716562)scale(0.1 -0.1)\">\r\n       <use xlink:href=\"#DejaVuSans-49\"/>\r\n       <use x=\"63.623047\" xlink:href=\"#DejaVuSans-53\"/>\r\n      </g>\r\n     </g>\r\n    </g>\r\n    <g id=\"xtick_5\">\r\n     <g id=\"line2d_5\">\r\n      <g>\r\n       <use style=\"stroke:#000000;stroke-width:0.8;\" x=\"338.672917\" xlink:href=\"#m6fafd929b4\" y=\"319.118125\"/>\r\n      </g>\r\n     </g>\r\n     <g id=\"text_5\">\r\n      <!-- 20 -->\r\n      <g transform=\"translate(332.310417 333.716562)scale(0.1 -0.1)\">\r\n       <defs>\r\n        <path d=\"M 19.1875 8.296875 \r\nL 53.609375 8.296875 \r\nL 53.609375 0 \r\nL 7.328125 0 \r\nL 7.328125 8.296875 \r\nQ 12.9375 14.109375 22.625 23.890625 \r\nQ 32.328125 33.6875 34.8125 36.53125 \r\nQ 39.546875 41.84375 41.421875 45.53125 \r\nQ 43.3125 49.21875 43.3125 52.78125 \r\nQ 43.3125 58.59375 39.234375 62.25 \r\nQ 35.15625 65.921875 28.609375 65.921875 \r\nQ 23.96875 65.921875 18.8125 64.3125 \r\nQ 13.671875 62.703125 7.8125 59.421875 \r\nL 7.8125 69.390625 \r\nQ 13.765625 71.78125 18.9375 73 \r\nQ 24.125 74.21875 28.421875 74.21875 \r\nQ 39.75 74.21875 46.484375 68.546875 \r\nQ 53.21875 62.890625 53.21875 53.421875 \r\nQ 53.21875 48.921875 51.53125 44.890625 \r\nQ 49.859375 40.875 45.40625 35.40625 \r\nQ 44.1875 33.984375 37.640625 27.21875 \r\nQ 31.109375 20.453125 19.1875 8.296875 \r\nz\r\n\" id=\"DejaVuSans-50\"/>\r\n       </defs>\r\n       <use xlink:href=\"#DejaVuSans-50\"/>\r\n       <use x=\"63.623047\" xlink:href=\"#DejaVuSans-48\"/>\r\n      </g>\r\n     </g>\r\n    </g>\r\n    <g id=\"text_6\">\r\n     <!-- No. of venues -->\r\n     <g transform=\"translate(188.623177 347.394687)scale(0.1 -0.1)\">\r\n      <defs>\r\n       <path d=\"M 9.8125 72.90625 \r\nL 23.09375 72.90625 \r\nL 55.421875 11.921875 \r\nL 55.421875 72.90625 \r\nL 64.984375 72.90625 \r\nL 64.984375 0 \r\nL 51.703125 0 \r\nL 19.390625 60.984375 \r\nL 19.390625 0 \r\nL 9.8125 0 \r\nz\r\n\" id=\"DejaVuSans-78\"/>\r\n       <path d=\"M 30.609375 48.390625 \r\nQ 23.390625 48.390625 19.1875 42.75 \r\nQ 14.984375 37.109375 14.984375 27.296875 \r\nQ 14.984375 17.484375 19.15625 11.84375 \r\nQ 23.34375 6.203125 30.609375 6.203125 \r\nQ 37.796875 6.203125 41.984375 11.859375 \r\nQ 46.1875 17.53125 46.1875 27.296875 \r\nQ 46.1875 37.015625 41.984375 42.703125 \r\nQ 37.796875 48.390625 30.609375 48.390625 \r\nz\r\nM 30.609375 56 \r\nQ 42.328125 56 49.015625 48.375 \r\nQ 55.71875 40.765625 55.71875 27.296875 \r\nQ 55.71875 13.875 49.015625 6.21875 \r\nQ 42.328125 -1.421875 30.609375 -1.421875 \r\nQ 18.84375 -1.421875 12.171875 6.21875 \r\nQ 5.515625 13.875 5.515625 27.296875 \r\nQ 5.515625 40.765625 12.171875 48.375 \r\nQ 18.84375 56 30.609375 56 \r\nz\r\n\" id=\"DejaVuSans-111\"/>\r\n       <path d=\"M 10.6875 12.40625 \r\nL 21 12.40625 \r\nL 21 0 \r\nL 10.6875 0 \r\nz\r\n\" id=\"DejaVuSans-46\"/>\r\n       <path id=\"DejaVuSans-32\"/>\r\n       <path d=\"M 37.109375 75.984375 \r\nL 37.109375 68.5 \r\nL 28.515625 68.5 \r\nQ 23.6875 68.5 21.796875 66.546875 \r\nQ 19.921875 64.59375 19.921875 59.515625 \r\nL 19.921875 54.6875 \r\nL 34.71875 54.6875 \r\nL 34.71875 47.703125 \r\nL 19.921875 47.703125 \r\nL 19.921875 0 \r\nL 10.890625 0 \r\nL 10.890625 47.703125 \r\nL 2.296875 47.703125 \r\nL 2.296875 54.6875 \r\nL 10.890625 54.6875 \r\nL 10.890625 58.5 \r\nQ 10.890625 67.625 15.140625 71.796875 \r\nQ 19.390625 75.984375 28.609375 75.984375 \r\nz\r\n\" id=\"DejaVuSans-102\"/>\r\n       <path d=\"M 2.984375 54.6875 \r\nL 12.5 54.6875 \r\nL 29.59375 8.796875 \r\nL 46.6875 54.6875 \r\nL 56.203125 54.6875 \r\nL 35.6875 0 \r\nL 23.484375 0 \r\nz\r\n\" id=\"DejaVuSans-118\"/>\r\n       <path d=\"M 56.203125 29.59375 \r\nL 56.203125 25.203125 \r\nL 14.890625 25.203125 \r\nQ 15.484375 15.921875 20.484375 11.0625 \r\nQ 25.484375 6.203125 34.421875 6.203125 \r\nQ 39.59375 6.203125 44.453125 7.46875 \r\nQ 49.3125 8.734375 54.109375 11.28125 \r\nL 54.109375 2.78125 \r\nQ 49.265625 0.734375 44.1875 -0.34375 \r\nQ 39.109375 -1.421875 33.890625 -1.421875 \r\nQ 20.796875 -1.421875 13.15625 6.1875 \r\nQ 5.515625 13.8125 5.515625 26.8125 \r\nQ 5.515625 40.234375 12.765625 48.109375 \r\nQ 20.015625 56 32.328125 56 \r\nQ 43.359375 56 49.78125 48.890625 \r\nQ 56.203125 41.796875 56.203125 29.59375 \r\nz\r\nM 47.21875 32.234375 \r\nQ 47.125 39.59375 43.09375 43.984375 \r\nQ 39.0625 48.390625 32.421875 48.390625 \r\nQ 24.90625 48.390625 20.390625 44.140625 \r\nQ 15.875 39.890625 15.1875 32.171875 \r\nz\r\n\" id=\"DejaVuSans-101\"/>\r\n       <path d=\"M 54.890625 33.015625 \r\nL 54.890625 0 \r\nL 45.90625 0 \r\nL 45.90625 32.71875 \r\nQ 45.90625 40.484375 42.875 44.328125 \r\nQ 39.84375 48.1875 33.796875 48.1875 \r\nQ 26.515625 48.1875 22.3125 43.546875 \r\nQ 18.109375 38.921875 18.109375 30.90625 \r\nL 18.109375 0 \r\nL 9.078125 0 \r\nL 9.078125 54.6875 \r\nL 18.109375 54.6875 \r\nL 18.109375 46.1875 \r\nQ 21.34375 51.125 25.703125 53.5625 \r\nQ 30.078125 56 35.796875 56 \r\nQ 45.21875 56 50.046875 50.171875 \r\nQ 54.890625 44.34375 54.890625 33.015625 \r\nz\r\n\" id=\"DejaVuSans-110\"/>\r\n       <path d=\"M 8.5 21.578125 \r\nL 8.5 54.6875 \r\nL 17.484375 54.6875 \r\nL 17.484375 21.921875 \r\nQ 17.484375 14.15625 20.5 10.265625 \r\nQ 23.53125 6.390625 29.59375 6.390625 \r\nQ 36.859375 6.390625 41.078125 11.03125 \r\nQ 45.3125 15.671875 45.3125 23.6875 \r\nL 45.3125 54.6875 \r\nL 54.296875 54.6875 \r\nL 54.296875 0 \r\nL 45.3125 0 \r\nL 45.3125 8.40625 \r\nQ 42.046875 3.421875 37.71875 1 \r\nQ 33.40625 -1.421875 27.6875 -1.421875 \r\nQ 18.265625 -1.421875 13.375 4.4375 \r\nQ 8.5 10.296875 8.5 21.578125 \r\nz\r\nM 31.109375 56 \r\nz\r\n\" id=\"DejaVuSans-117\"/>\r\n       <path d=\"M 44.28125 53.078125 \r\nL 44.28125 44.578125 \r\nQ 40.484375 46.53125 36.375 47.5 \r\nQ 32.28125 48.484375 27.875 48.484375 \r\nQ 21.1875 48.484375 17.84375 46.4375 \r\nQ 14.5 44.390625 14.5 40.28125 \r\nQ 14.5 37.15625 16.890625 35.375 \r\nQ 19.28125 33.59375 26.515625 31.984375 \r\nL 29.59375 31.296875 \r\nQ 39.15625 29.25 43.1875 25.515625 \r\nQ 47.21875 21.78125 47.21875 15.09375 \r\nQ 47.21875 7.46875 41.1875 3.015625 \r\nQ 35.15625 -1.421875 24.609375 -1.421875 \r\nQ 20.21875 -1.421875 15.453125 -0.5625 \r\nQ 10.6875 0.296875 5.421875 2 \r\nL 5.421875 11.28125 \r\nQ 10.40625 8.6875 15.234375 7.390625 \r\nQ 20.0625 6.109375 24.8125 6.109375 \r\nQ 31.15625 6.109375 34.5625 8.28125 \r\nQ 37.984375 10.453125 37.984375 14.40625 \r\nQ 37.984375 18.0625 35.515625 20.015625 \r\nQ 33.0625 21.96875 24.703125 23.78125 \r\nL 21.578125 24.515625 \r\nQ 13.234375 26.265625 9.515625 29.90625 \r\nQ 5.8125 33.546875 5.8125 39.890625 \r\nQ 5.8125 47.609375 11.28125 51.796875 \r\nQ 16.75 56 26.8125 56 \r\nQ 31.78125 56 36.171875 55.265625 \r\nQ 40.578125 54.546875 44.28125 53.078125 \r\nz\r\n\" id=\"DejaVuSans-115\"/>\r\n      </defs>\r\n      <use xlink:href=\"#DejaVuSans-78\"/>\r\n      <use x=\"74.804688\" xlink:href=\"#DejaVuSans-111\"/>\r\n      <use x=\"134.236328\" xlink:href=\"#DejaVuSans-46\"/>\r\n      <use x=\"166.023438\" xlink:href=\"#DejaVuSans-32\"/>\r\n      <use x=\"197.810547\" xlink:href=\"#DejaVuSans-111\"/>\r\n      <use x=\"258.992188\" xlink:href=\"#DejaVuSans-102\"/>\r\n      <use x=\"294.197266\" xlink:href=\"#DejaVuSans-32\"/>\r\n      <use x=\"325.984375\" xlink:href=\"#DejaVuSans-118\"/>\r\n      <use x=\"385.164062\" xlink:href=\"#DejaVuSans-101\"/>\r\n      <use x=\"446.6875\" xlink:href=\"#DejaVuSans-110\"/>\r\n      <use x=\"510.066406\" xlink:href=\"#DejaVuSans-117\"/>\r\n      <use x=\"573.445312\" xlink:href=\"#DejaVuSans-101\"/>\r\n      <use x=\"634.96875\" xlink:href=\"#DejaVuSans-115\"/>\r\n     </g>\r\n    </g>\r\n   </g>\r\n   <g id=\"matplotlib.axis_2\">\r\n    <g id=\"ytick_1\">\r\n     <g id=\"line2d_6\">\r\n      <defs>\r\n       <path d=\"M 0 0 \r\nL -3.5 0 \r\n\" id=\"mc5ac022390\" style=\"stroke:#000000;stroke-width:0.8;\"/>\r\n      </defs>\r\n      <g>\r\n       <use style=\"stroke:#000000;stroke-width:0.8;\" x=\"107.28125\" xlink:href=\"#mc5ac022390\" y=\"308.408847\"/>\r\n      </g>\r\n     </g>\r\n     <g id=\"text_7\">\r\n      <!-- Pizza Place -->\r\n      <g transform=\"translate(45.307813 312.208065)scale(0.1 -0.1)\">\r\n       <defs>\r\n        <path d=\"M 19.671875 64.796875 \r\nL 19.671875 37.40625 \r\nL 32.078125 37.40625 \r\nQ 38.96875 37.40625 42.71875 40.96875 \r\nQ 46.484375 44.53125 46.484375 51.125 \r\nQ 46.484375 57.671875 42.71875 61.234375 \r\nQ 38.96875 64.796875 32.078125 64.796875 \r\nz\r\nM 9.8125 72.90625 \r\nL 32.078125 72.90625 \r\nQ 44.34375 72.90625 50.609375 67.359375 \r\nQ 56.890625 61.8125 56.890625 51.125 \r\nQ 56.890625 40.328125 50.609375 34.8125 \r\nQ 44.34375 29.296875 32.078125 29.296875 \r\nL 19.671875 29.296875 \r\nL 19.671875 0 \r\nL 9.8125 0 \r\nz\r\n\" id=\"DejaVuSans-80\"/>\r\n        <path d=\"M 9.421875 54.6875 \r\nL 18.40625 54.6875 \r\nL 18.40625 0 \r\nL 9.421875 0 \r\nz\r\nM 9.421875 75.984375 \r\nL 18.40625 75.984375 \r\nL 18.40625 64.59375 \r\nL 9.421875 64.59375 \r\nz\r\n\" id=\"DejaVuSans-105\"/>\r\n        <path d=\"M 5.515625 54.6875 \r\nL 48.1875 54.6875 \r\nL 48.1875 46.484375 \r\nL 14.40625 7.171875 \r\nL 48.1875 7.171875 \r\nL 48.1875 0 \r\nL 4.296875 0 \r\nL 4.296875 8.203125 \r\nL 38.09375 47.515625 \r\nL 5.515625 47.515625 \r\nz\r\n\" id=\"DejaVuSans-122\"/>\r\n        <path d=\"M 34.28125 27.484375 \r\nQ 23.390625 27.484375 19.1875 25 \r\nQ 14.984375 22.515625 14.984375 16.5 \r\nQ 14.984375 11.71875 18.140625 8.90625 \r\nQ 21.296875 6.109375 26.703125 6.109375 \r\nQ 34.1875 6.109375 38.703125 11.40625 \r\nQ 43.21875 16.703125 43.21875 25.484375 \r\nL 43.21875 27.484375 \r\nz\r\nM 52.203125 31.203125 \r\nL 52.203125 0 \r\nL 43.21875 0 \r\nL 43.21875 8.296875 \r\nQ 40.140625 3.328125 35.546875 0.953125 \r\nQ 30.953125 -1.421875 24.3125 -1.421875 \r\nQ 15.921875 -1.421875 10.953125 3.296875 \r\nQ 6 8.015625 6 15.921875 \r\nQ 6 25.140625 12.171875 29.828125 \r\nQ 18.359375 34.515625 30.609375 34.515625 \r\nL 43.21875 34.515625 \r\nL 43.21875 35.40625 \r\nQ 43.21875 41.609375 39.140625 45 \r\nQ 35.0625 48.390625 27.6875 48.390625 \r\nQ 23 48.390625 18.546875 47.265625 \r\nQ 14.109375 46.140625 10.015625 43.890625 \r\nL 10.015625 52.203125 \r\nQ 14.9375 54.109375 19.578125 55.046875 \r\nQ 24.21875 56 28.609375 56 \r\nQ 40.484375 56 46.34375 49.84375 \r\nQ 52.203125 43.703125 52.203125 31.203125 \r\nz\r\n\" id=\"DejaVuSans-97\"/>\r\n        <path d=\"M 9.421875 75.984375 \r\nL 18.40625 75.984375 \r\nL 18.40625 0 \r\nL 9.421875 0 \r\nz\r\n\" id=\"DejaVuSans-108\"/>\r\n        <path d=\"M 48.78125 52.59375 \r\nL 48.78125 44.1875 \r\nQ 44.96875 46.296875 41.140625 47.34375 \r\nQ 37.3125 48.390625 33.40625 48.390625 \r\nQ 24.65625 48.390625 19.8125 42.84375 \r\nQ 14.984375 37.3125 14.984375 27.296875 \r\nQ 14.984375 17.28125 19.8125 11.734375 \r\nQ 24.65625 6.203125 33.40625 6.203125 \r\nQ 37.3125 6.203125 41.140625 7.25 \r\nQ 44.96875 8.296875 48.78125 10.40625 \r\nL 48.78125 2.09375 \r\nQ 45.015625 0.34375 40.984375 -0.53125 \r\nQ 36.96875 -1.421875 32.421875 -1.421875 \r\nQ 20.0625 -1.421875 12.78125 6.34375 \r\nQ 5.515625 14.109375 5.515625 27.296875 \r\nQ 5.515625 40.671875 12.859375 48.328125 \r\nQ 20.21875 56 33.015625 56 \r\nQ 37.15625 56 41.109375 55.140625 \r\nQ 45.0625 54.296875 48.78125 52.59375 \r\nz\r\n\" id=\"DejaVuSans-99\"/>\r\n       </defs>\r\n       <use xlink:href=\"#DejaVuSans-80\"/>\r\n       <use x=\"58.052734\" xlink:href=\"#DejaVuSans-105\"/>\r\n       <use x=\"85.835938\" xlink:href=\"#DejaVuSans-122\"/>\r\n       <use x=\"138.326172\" xlink:href=\"#DejaVuSans-122\"/>\r\n       <use x=\"190.816406\" xlink:href=\"#DejaVuSans-97\"/>\r\n       <use x=\"252.095703\" xlink:href=\"#DejaVuSans-32\"/>\r\n       <use x=\"283.882812\" xlink:href=\"#DejaVuSans-80\"/>\r\n       <use x=\"344.185547\" xlink:href=\"#DejaVuSans-108\"/>\r\n       <use x=\"371.96875\" xlink:href=\"#DejaVuSans-97\"/>\r\n       <use x=\"433.248047\" xlink:href=\"#DejaVuSans-99\"/>\r\n       <use x=\"488.228516\" xlink:href=\"#DejaVuSans-101\"/>\r\n      </g>\r\n     </g>\r\n    </g>\r\n    <g id=\"ytick_2\">\r\n     <g id=\"line2d_7\">\r\n      <g>\r\n       <use style=\"stroke:#000000;stroke-width:0.8;\" x=\"107.28125\" xlink:href=\"#mc5ac022390\" y=\"277.810909\"/>\r\n      </g>\r\n     </g>\r\n     <g id=\"text_8\">\r\n      <!-- Indian Restaurant -->\r\n      <g transform=\"translate(11.479688 281.610127)scale(0.1 -0.1)\">\r\n       <defs>\r\n        <path d=\"M 9.8125 72.90625 \r\nL 19.671875 72.90625 \r\nL 19.671875 0 \r\nL 9.8125 0 \r\nz\r\n\" id=\"DejaVuSans-73\"/>\r\n        <path d=\"M 45.40625 46.390625 \r\nL 45.40625 75.984375 \r\nL 54.390625 75.984375 \r\nL 54.390625 0 \r\nL 45.40625 0 \r\nL 45.40625 8.203125 \r\nQ 42.578125 3.328125 38.25 0.953125 \r\nQ 33.9375 -1.421875 27.875 -1.421875 \r\nQ 17.96875 -1.421875 11.734375 6.484375 \r\nQ 5.515625 14.40625 5.515625 27.296875 \r\nQ 5.515625 40.1875 11.734375 48.09375 \r\nQ 17.96875 56 27.875 56 \r\nQ 33.9375 56 38.25 53.625 \r\nQ 42.578125 51.265625 45.40625 46.390625 \r\nz\r\nM 14.796875 27.296875 \r\nQ 14.796875 17.390625 18.875 11.75 \r\nQ 22.953125 6.109375 30.078125 6.109375 \r\nQ 37.203125 6.109375 41.296875 11.75 \r\nQ 45.40625 17.390625 45.40625 27.296875 \r\nQ 45.40625 37.203125 41.296875 42.84375 \r\nQ 37.203125 48.484375 30.078125 48.484375 \r\nQ 22.953125 48.484375 18.875 42.84375 \r\nQ 14.796875 37.203125 14.796875 27.296875 \r\nz\r\n\" id=\"DejaVuSans-100\"/>\r\n        <path d=\"M 44.390625 34.1875 \r\nQ 47.5625 33.109375 50.5625 29.59375 \r\nQ 53.5625 26.078125 56.59375 19.921875 \r\nL 66.609375 0 \r\nL 56 0 \r\nL 46.6875 18.703125 \r\nQ 43.0625 26.03125 39.671875 28.421875 \r\nQ 36.28125 30.8125 30.421875 30.8125 \r\nL 19.671875 30.8125 \r\nL 19.671875 0 \r\nL 9.8125 0 \r\nL 9.8125 72.90625 \r\nL 32.078125 72.90625 \r\nQ 44.578125 72.90625 50.734375 67.671875 \r\nQ 56.890625 62.453125 56.890625 51.90625 \r\nQ 56.890625 45.015625 53.6875 40.46875 \r\nQ 50.484375 35.9375 44.390625 34.1875 \r\nz\r\nM 19.671875 64.796875 \r\nL 19.671875 38.921875 \r\nL 32.078125 38.921875 \r\nQ 39.203125 38.921875 42.84375 42.21875 \r\nQ 46.484375 45.515625 46.484375 51.90625 \r\nQ 46.484375 58.296875 42.84375 61.546875 \r\nQ 39.203125 64.796875 32.078125 64.796875 \r\nz\r\n\" id=\"DejaVuSans-82\"/>\r\n        <path d=\"M 18.3125 70.21875 \r\nL 18.3125 54.6875 \r\nL 36.8125 54.6875 \r\nL 36.8125 47.703125 \r\nL 18.3125 47.703125 \r\nL 18.3125 18.015625 \r\nQ 18.3125 11.328125 20.140625 9.421875 \r\nQ 21.96875 7.515625 27.59375 7.515625 \r\nL 36.8125 7.515625 \r\nL 36.8125 0 \r\nL 27.59375 0 \r\nQ 17.1875 0 13.234375 3.875 \r\nQ 9.28125 7.765625 9.28125 18.015625 \r\nL 9.28125 47.703125 \r\nL 2.6875 47.703125 \r\nL 2.6875 54.6875 \r\nL 9.28125 54.6875 \r\nL 9.28125 70.21875 \r\nz\r\n\" id=\"DejaVuSans-116\"/>\r\n        <path d=\"M 41.109375 46.296875 \r\nQ 39.59375 47.171875 37.8125 47.578125 \r\nQ 36.03125 48 33.890625 48 \r\nQ 26.265625 48 22.1875 43.046875 \r\nQ 18.109375 38.09375 18.109375 28.8125 \r\nL 18.109375 0 \r\nL 9.078125 0 \r\nL 9.078125 54.6875 \r\nL 18.109375 54.6875 \r\nL 18.109375 46.1875 \r\nQ 20.953125 51.171875 25.484375 53.578125 \r\nQ 30.03125 56 36.53125 56 \r\nQ 37.453125 56 38.578125 55.875 \r\nQ 39.703125 55.765625 41.0625 55.515625 \r\nz\r\n\" id=\"DejaVuSans-114\"/>\r\n       </defs>\r\n       <use xlink:href=\"#DejaVuSans-73\"/>\r\n       <use x=\"29.492188\" xlink:href=\"#DejaVuSans-110\"/>\r\n       <use x=\"92.871094\" xlink:href=\"#DejaVuSans-100\"/>\r\n       <use x=\"156.347656\" xlink:href=\"#DejaVuSans-105\"/>\r\n       <use x=\"184.130859\" xlink:href=\"#DejaVuSans-97\"/>\r\n       <use x=\"245.410156\" xlink:href=\"#DejaVuSans-110\"/>\r\n       <use x=\"308.789062\" xlink:href=\"#DejaVuSans-32\"/>\r\n       <use x=\"340.576172\" xlink:href=\"#DejaVuSans-82\"/>\r\n       <use x=\"405.558594\" xlink:href=\"#DejaVuSans-101\"/>\r\n       <use x=\"467.082031\" xlink:href=\"#DejaVuSans-115\"/>\r\n       <use x=\"519.181641\" xlink:href=\"#DejaVuSans-116\"/>\r\n       <use x=\"558.390625\" xlink:href=\"#DejaVuSans-97\"/>\r\n       <use x=\"619.669922\" xlink:href=\"#DejaVuSans-117\"/>\r\n       <use x=\"683.048828\" xlink:href=\"#DejaVuSans-114\"/>\r\n       <use x=\"724.162109\" xlink:href=\"#DejaVuSans-97\"/>\r\n       <use x=\"785.441406\" xlink:href=\"#DejaVuSans-110\"/>\r\n       <use x=\"848.820312\" xlink:href=\"#DejaVuSans-116\"/>\r\n      </g>\r\n     </g>\r\n    </g>\r\n    <g id=\"ytick_3\">\r\n     <g id=\"line2d_8\">\r\n      <g>\r\n       <use style=\"stroke:#000000;stroke-width:0.8;\" x=\"107.28125\" xlink:href=\"#mc5ac022390\" y=\"247.21297\"/>\r\n      </g>\r\n     </g>\r\n     <g id=\"text_9\">\r\n      <!-- Thai Restaurant -->\r\n      <g transform=\"translate(21.007813 251.012189)scale(0.1 -0.1)\">\r\n       <defs>\r\n        <path d=\"M -0.296875 72.90625 \r\nL 61.375 72.90625 \r\nL 61.375 64.59375 \r\nL 35.5 64.59375 \r\nL 35.5 0 \r\nL 25.59375 0 \r\nL 25.59375 64.59375 \r\nL -0.296875 64.59375 \r\nz\r\n\" id=\"DejaVuSans-84\"/>\r\n        <path d=\"M 54.890625 33.015625 \r\nL 54.890625 0 \r\nL 45.90625 0 \r\nL 45.90625 32.71875 \r\nQ 45.90625 40.484375 42.875 44.328125 \r\nQ 39.84375 48.1875 33.796875 48.1875 \r\nQ 26.515625 48.1875 22.3125 43.546875 \r\nQ 18.109375 38.921875 18.109375 30.90625 \r\nL 18.109375 0 \r\nL 9.078125 0 \r\nL 9.078125 75.984375 \r\nL 18.109375 75.984375 \r\nL 18.109375 46.1875 \r\nQ 21.34375 51.125 25.703125 53.5625 \r\nQ 30.078125 56 35.796875 56 \r\nQ 45.21875 56 50.046875 50.171875 \r\nQ 54.890625 44.34375 54.890625 33.015625 \r\nz\r\n\" id=\"DejaVuSans-104\"/>\r\n       </defs>\r\n       <use xlink:href=\"#DejaVuSans-84\"/>\r\n       <use x=\"61.083984\" xlink:href=\"#DejaVuSans-104\"/>\r\n       <use x=\"124.462891\" xlink:href=\"#DejaVuSans-97\"/>\r\n       <use x=\"185.742188\" xlink:href=\"#DejaVuSans-105\"/>\r\n       <use x=\"213.525391\" xlink:href=\"#DejaVuSans-32\"/>\r\n       <use x=\"245.3125\" xlink:href=\"#DejaVuSans-82\"/>\r\n       <use x=\"310.294922\" xlink:href=\"#DejaVuSans-101\"/>\r\n       <use x=\"371.818359\" xlink:href=\"#DejaVuSans-115\"/>\r\n       <use x=\"423.917969\" xlink:href=\"#DejaVuSans-116\"/>\r\n       <use x=\"463.126953\" xlink:href=\"#DejaVuSans-97\"/>\r\n       <use x=\"524.40625\" xlink:href=\"#DejaVuSans-117\"/>\r\n       <use x=\"587.785156\" xlink:href=\"#DejaVuSans-114\"/>\r\n       <use x=\"628.898438\" xlink:href=\"#DejaVuSans-97\"/>\r\n       <use x=\"690.177734\" xlink:href=\"#DejaVuSans-110\"/>\r\n       <use x=\"753.556641\" xlink:href=\"#DejaVuSans-116\"/>\r\n      </g>\r\n     </g>\r\n    </g>\r\n    <g id=\"ytick_4\">\r\n     <g id=\"line2d_9\">\r\n      <g>\r\n       <use style=\"stroke:#000000;stroke-width:0.8;\" x=\"107.28125\" xlink:href=\"#mc5ac022390\" y=\"216.615032\"/>\r\n      </g>\r\n     </g>\r\n     <g id=\"text_10\">\r\n      <!-- Turkish Restaurant -->\r\n      <g transform=\"translate(7.2 220.414251)scale(0.1 -0.1)\">\r\n       <defs>\r\n        <path d=\"M 9.078125 75.984375 \r\nL 18.109375 75.984375 \r\nL 18.109375 31.109375 \r\nL 44.921875 54.6875 \r\nL 56.390625 54.6875 \r\nL 27.390625 29.109375 \r\nL 57.625 0 \r\nL 45.90625 0 \r\nL 18.109375 26.703125 \r\nL 18.109375 0 \r\nL 9.078125 0 \r\nz\r\n\" id=\"DejaVuSans-107\"/>\r\n       </defs>\r\n       <use xlink:href=\"#DejaVuSans-84\"/>\r\n       <use x=\"45.958984\" xlink:href=\"#DejaVuSans-117\"/>\r\n       <use x=\"109.337891\" xlink:href=\"#DejaVuSans-114\"/>\r\n       <use x=\"150.451172\" xlink:href=\"#DejaVuSans-107\"/>\r\n       <use x=\"208.361328\" xlink:href=\"#DejaVuSans-105\"/>\r\n       <use x=\"236.144531\" xlink:href=\"#DejaVuSans-115\"/>\r\n       <use x=\"288.244141\" xlink:href=\"#DejaVuSans-104\"/>\r\n       <use x=\"351.623047\" xlink:href=\"#DejaVuSans-32\"/>\r\n       <use x=\"383.410156\" xlink:href=\"#DejaVuSans-82\"/>\r\n       <use x=\"448.392578\" xlink:href=\"#DejaVuSans-101\"/>\r\n       <use x=\"509.916016\" xlink:href=\"#DejaVuSans-115\"/>\r\n       <use x=\"562.015625\" xlink:href=\"#DejaVuSans-116\"/>\r\n       <use x=\"601.224609\" xlink:href=\"#DejaVuSans-97\"/>\r\n       <use x=\"662.503906\" xlink:href=\"#DejaVuSans-117\"/>\r\n       <use x=\"725.882812\" xlink:href=\"#DejaVuSans-114\"/>\r\n       <use x=\"766.996094\" xlink:href=\"#DejaVuSans-97\"/>\r\n       <use x=\"828.275391\" xlink:href=\"#DejaVuSans-110\"/>\r\n       <use x=\"891.654297\" xlink:href=\"#DejaVuSans-116\"/>\r\n      </g>\r\n     </g>\r\n    </g>\r\n    <g id=\"ytick_5\">\r\n     <g id=\"line2d_10\">\r\n      <g>\r\n       <use style=\"stroke:#000000;stroke-width:0.8;\" x=\"107.28125\" xlink:href=\"#mc5ac022390\" y=\"186.017094\"/>\r\n      </g>\r\n     </g>\r\n     <g id=\"text_11\">\r\n      <!-- Wine Shop -->\r\n      <g transform=\"translate(47.01875 189.816313)scale(0.1 -0.1)\">\r\n       <defs>\r\n        <path d=\"M 3.328125 72.90625 \r\nL 13.28125 72.90625 \r\nL 28.609375 11.28125 \r\nL 43.890625 72.90625 \r\nL 54.984375 72.90625 \r\nL 70.3125 11.28125 \r\nL 85.59375 72.90625 \r\nL 95.609375 72.90625 \r\nL 77.296875 0 \r\nL 64.890625 0 \r\nL 49.515625 63.28125 \r\nL 33.984375 0 \r\nL 21.578125 0 \r\nz\r\n\" id=\"DejaVuSans-87\"/>\r\n        <path d=\"M 53.515625 70.515625 \r\nL 53.515625 60.890625 \r\nQ 47.90625 63.578125 42.921875 64.890625 \r\nQ 37.9375 66.21875 33.296875 66.21875 \r\nQ 25.25 66.21875 20.875 63.09375 \r\nQ 16.5 59.96875 16.5 54.203125 \r\nQ 16.5 49.359375 19.40625 46.890625 \r\nQ 22.3125 44.4375 30.421875 42.921875 \r\nL 36.375 41.703125 \r\nQ 47.40625 39.59375 52.65625 34.296875 \r\nQ 57.90625 29 57.90625 20.125 \r\nQ 57.90625 9.515625 50.796875 4.046875 \r\nQ 43.703125 -1.421875 29.984375 -1.421875 \r\nQ 24.8125 -1.421875 18.96875 -0.25 \r\nQ 13.140625 0.921875 6.890625 3.21875 \r\nL 6.890625 13.375 \r\nQ 12.890625 10.015625 18.65625 8.296875 \r\nQ 24.421875 6.59375 29.984375 6.59375 \r\nQ 38.421875 6.59375 43.015625 9.90625 \r\nQ 47.609375 13.234375 47.609375 19.390625 \r\nQ 47.609375 24.75 44.3125 27.78125 \r\nQ 41.015625 30.8125 33.5 32.328125 \r\nL 27.484375 33.5 \r\nQ 16.453125 35.6875 11.515625 40.375 \r\nQ 6.59375 45.0625 6.59375 53.421875 \r\nQ 6.59375 63.09375 13.40625 68.65625 \r\nQ 20.21875 74.21875 32.171875 74.21875 \r\nQ 37.3125 74.21875 42.625 73.28125 \r\nQ 47.953125 72.359375 53.515625 70.515625 \r\nz\r\n\" id=\"DejaVuSans-83\"/>\r\n        <path d=\"M 18.109375 8.203125 \r\nL 18.109375 -20.796875 \r\nL 9.078125 -20.796875 \r\nL 9.078125 54.6875 \r\nL 18.109375 54.6875 \r\nL 18.109375 46.390625 \r\nQ 20.953125 51.265625 25.265625 53.625 \r\nQ 29.59375 56 35.59375 56 \r\nQ 45.5625 56 51.78125 48.09375 \r\nQ 58.015625 40.1875 58.015625 27.296875 \r\nQ 58.015625 14.40625 51.78125 6.484375 \r\nQ 45.5625 -1.421875 35.59375 -1.421875 \r\nQ 29.59375 -1.421875 25.265625 0.953125 \r\nQ 20.953125 3.328125 18.109375 8.203125 \r\nz\r\nM 48.6875 27.296875 \r\nQ 48.6875 37.203125 44.609375 42.84375 \r\nQ 40.53125 48.484375 33.40625 48.484375 \r\nQ 26.265625 48.484375 22.1875 42.84375 \r\nQ 18.109375 37.203125 18.109375 27.296875 \r\nQ 18.109375 17.390625 22.1875 11.75 \r\nQ 26.265625 6.109375 33.40625 6.109375 \r\nQ 40.53125 6.109375 44.609375 11.75 \r\nQ 48.6875 17.390625 48.6875 27.296875 \r\nz\r\n\" id=\"DejaVuSans-112\"/>\r\n       </defs>\r\n       <use xlink:href=\"#DejaVuSans-87\"/>\r\n       <use x=\"96.626953\" xlink:href=\"#DejaVuSans-105\"/>\r\n       <use x=\"124.410156\" xlink:href=\"#DejaVuSans-110\"/>\r\n       <use x=\"187.789062\" xlink:href=\"#DejaVuSans-101\"/>\r\n       <use x=\"249.3125\" xlink:href=\"#DejaVuSans-32\"/>\r\n       <use x=\"281.099609\" xlink:href=\"#DejaVuSans-83\"/>\r\n       <use x=\"344.576172\" xlink:href=\"#DejaVuSans-104\"/>\r\n       <use x=\"407.955078\" xlink:href=\"#DejaVuSans-111\"/>\r\n       <use x=\"469.136719\" xlink:href=\"#DejaVuSans-112\"/>\r\n      </g>\r\n     </g>\r\n    </g>\r\n    <g id=\"ytick_6\">\r\n     <g id=\"line2d_11\">\r\n      <g>\r\n       <use style=\"stroke:#000000;stroke-width:0.8;\" x=\"107.28125\" xlink:href=\"#mc5ac022390\" y=\"155.419156\"/>\r\n      </g>\r\n     </g>\r\n     <g id=\"text_12\">\r\n      <!-- Café -->\r\n      <g transform=\"translate(77.496875 159.218375)scale(0.1 -0.1)\">\r\n       <defs>\r\n        <path d=\"M 64.40625 67.28125 \r\nL 64.40625 56.890625 \r\nQ 59.421875 61.53125 53.78125 63.8125 \r\nQ 48.140625 66.109375 41.796875 66.109375 \r\nQ 29.296875 66.109375 22.65625 58.46875 \r\nQ 16.015625 50.828125 16.015625 36.375 \r\nQ 16.015625 21.96875 22.65625 14.328125 \r\nQ 29.296875 6.6875 41.796875 6.6875 \r\nQ 48.140625 6.6875 53.78125 8.984375 \r\nQ 59.421875 11.28125 64.40625 15.921875 \r\nL 64.40625 5.609375 \r\nQ 59.234375 2.09375 53.4375 0.328125 \r\nQ 47.65625 -1.421875 41.21875 -1.421875 \r\nQ 24.65625 -1.421875 15.125 8.703125 \r\nQ 5.609375 18.84375 5.609375 36.375 \r\nQ 5.609375 53.953125 15.125 64.078125 \r\nQ 24.65625 74.21875 41.21875 74.21875 \r\nQ 47.75 74.21875 53.53125 72.484375 \r\nQ 59.328125 70.75 64.40625 67.28125 \r\nz\r\n\" id=\"DejaVuSans-67\"/>\r\n        <path d=\"M 56.203125 29.59375 \r\nL 56.203125 25.203125 \r\nL 14.890625 25.203125 \r\nQ 15.484375 15.921875 20.484375 11.0625 \r\nQ 25.484375 6.203125 34.421875 6.203125 \r\nQ 39.59375 6.203125 44.453125 7.46875 \r\nQ 49.3125 8.734375 54.109375 11.28125 \r\nL 54.109375 2.78125 \r\nQ 49.265625 0.734375 44.1875 -0.34375 \r\nQ 39.109375 -1.421875 33.890625 -1.421875 \r\nQ 20.796875 -1.421875 13.15625 6.1875 \r\nQ 5.515625 13.8125 5.515625 26.8125 \r\nQ 5.515625 40.234375 12.765625 48.109375 \r\nQ 20.015625 56 32.328125 56 \r\nQ 43.359375 56 49.78125 48.890625 \r\nQ 56.203125 41.796875 56.203125 29.59375 \r\nz\r\nM 47.21875 32.234375 \r\nQ 47.125 39.59375 43.09375 43.984375 \r\nQ 39.0625 48.390625 32.421875 48.390625 \r\nQ 24.90625 48.390625 20.390625 44.140625 \r\nQ 15.875 39.890625 15.1875 32.171875 \r\nz\r\nM 38.578125 79.984375 \r\nL 48.296875 79.984375 \r\nL 32.375 61.625 \r\nL 24.90625 61.625 \r\nz\r\n\" id=\"DejaVuSans-233\"/>\r\n       </defs>\r\n       <use xlink:href=\"#DejaVuSans-67\"/>\r\n       <use x=\"69.824219\" xlink:href=\"#DejaVuSans-97\"/>\r\n       <use x=\"131.103516\" xlink:href=\"#DejaVuSans-102\"/>\r\n       <use x=\"166.308594\" xlink:href=\"#DejaVuSans-233\"/>\r\n      </g>\r\n     </g>\r\n    </g>\r\n    <g id=\"ytick_7\">\r\n     <g id=\"line2d_12\">\r\n      <g>\r\n       <use style=\"stroke:#000000;stroke-width:0.8;\" x=\"107.28125\" xlink:href=\"#mc5ac022390\" y=\"124.821218\"/>\r\n      </g>\r\n     </g>\r\n     <g id=\"text_13\">\r\n      <!-- Pier -->\r\n      <g transform=\"translate(81.434375 128.620437)scale(0.1 -0.1)\">\r\n       <use xlink:href=\"#DejaVuSans-80\"/>\r\n       <use x=\"58.052734\" xlink:href=\"#DejaVuSans-105\"/>\r\n       <use x=\"85.835938\" xlink:href=\"#DejaVuSans-101\"/>\r\n       <use x=\"147.359375\" xlink:href=\"#DejaVuSans-114\"/>\r\n      </g>\r\n     </g>\r\n    </g>\r\n    <g id=\"ytick_8\">\r\n     <g id=\"line2d_13\">\r\n      <g>\r\n       <use style=\"stroke:#000000;stroke-width:0.8;\" x=\"107.28125\" xlink:href=\"#mc5ac022390\" y=\"94.22328\"/>\r\n      </g>\r\n     </g>\r\n     <g id=\"text_14\">\r\n      <!-- Coffee Shop -->\r\n      <g transform=\"translate(39.501563 98.022498)scale(0.1 -0.1)\">\r\n       <use xlink:href=\"#DejaVuSans-67\"/>\r\n       <use x=\"69.824219\" xlink:href=\"#DejaVuSans-111\"/>\r\n       <use x=\"131.005859\" xlink:href=\"#DejaVuSans-102\"/>\r\n       <use x=\"166.210938\" xlink:href=\"#DejaVuSans-102\"/>\r\n       <use x=\"201.416016\" xlink:href=\"#DejaVuSans-101\"/>\r\n       <use x=\"262.939453\" xlink:href=\"#DejaVuSans-101\"/>\r\n       <use x=\"324.462891\" xlink:href=\"#DejaVuSans-32\"/>\r\n       <use x=\"356.25\" xlink:href=\"#DejaVuSans-83\"/>\r\n       <use x=\"419.726562\" xlink:href=\"#DejaVuSans-104\"/>\r\n       <use x=\"483.105469\" xlink:href=\"#DejaVuSans-111\"/>\r\n       <use x=\"544.287109\" xlink:href=\"#DejaVuSans-112\"/>\r\n      </g>\r\n     </g>\r\n    </g>\r\n    <g id=\"ytick_9\">\r\n     <g id=\"line2d_14\">\r\n      <g>\r\n       <use style=\"stroke:#000000;stroke-width:0.8;\" x=\"107.28125\" xlink:href=\"#mc5ac022390\" y=\"63.625341\"/>\r\n      </g>\r\n     </g>\r\n     <g id=\"text_15\">\r\n      <!-- Pub -->\r\n      <g transform=\"translate(81.740625 67.42456)scale(0.1 -0.1)\">\r\n       <defs>\r\n        <path d=\"M 48.6875 27.296875 \r\nQ 48.6875 37.203125 44.609375 42.84375 \r\nQ 40.53125 48.484375 33.40625 48.484375 \r\nQ 26.265625 48.484375 22.1875 42.84375 \r\nQ 18.109375 37.203125 18.109375 27.296875 \r\nQ 18.109375 17.390625 22.1875 11.75 \r\nQ 26.265625 6.109375 33.40625 6.109375 \r\nQ 40.53125 6.109375 44.609375 11.75 \r\nQ 48.6875 17.390625 48.6875 27.296875 \r\nz\r\nM 18.109375 46.390625 \r\nQ 20.953125 51.265625 25.265625 53.625 \r\nQ 29.59375 56 35.59375 56 \r\nQ 45.5625 56 51.78125 48.09375 \r\nQ 58.015625 40.1875 58.015625 27.296875 \r\nQ 58.015625 14.40625 51.78125 6.484375 \r\nQ 45.5625 -1.421875 35.59375 -1.421875 \r\nQ 29.59375 -1.421875 25.265625 0.953125 \r\nQ 20.953125 3.328125 18.109375 8.203125 \r\nL 18.109375 0 \r\nL 9.078125 0 \r\nL 9.078125 75.984375 \r\nL 18.109375 75.984375 \r\nz\r\n\" id=\"DejaVuSans-98\"/>\r\n       </defs>\r\n       <use xlink:href=\"#DejaVuSans-80\"/>\r\n       <use x=\"58.552734\" xlink:href=\"#DejaVuSans-117\"/>\r\n       <use x=\"121.931641\" xlink:href=\"#DejaVuSans-98\"/>\r\n      </g>\r\n     </g>\r\n    </g>\r\n    <g id=\"ytick_10\">\r\n     <g id=\"line2d_15\">\r\n      <g>\r\n       <use style=\"stroke:#000000;stroke-width:0.8;\" x=\"107.28125\" xlink:href=\"#mc5ac022390\" y=\"33.027403\"/>\r\n      </g>\r\n     </g>\r\n     <g id=\"text_16\">\r\n      <!-- Grocery Store -->\r\n      <g transform=\"translate(31.242188 36.826622)scale(0.1 -0.1)\">\r\n       <defs>\r\n        <path d=\"M 59.515625 10.40625 \r\nL 59.515625 29.984375 \r\nL 43.40625 29.984375 \r\nL 43.40625 38.09375 \r\nL 69.28125 38.09375 \r\nL 69.28125 6.78125 \r\nQ 63.578125 2.734375 56.6875 0.65625 \r\nQ 49.8125 -1.421875 42 -1.421875 \r\nQ 24.90625 -1.421875 15.25 8.5625 \r\nQ 5.609375 18.5625 5.609375 36.375 \r\nQ 5.609375 54.25 15.25 64.234375 \r\nQ 24.90625 74.21875 42 74.21875 \r\nQ 49.125 74.21875 55.546875 72.453125 \r\nQ 61.96875 70.703125 67.390625 67.28125 \r\nL 67.390625 56.78125 \r\nQ 61.921875 61.421875 55.765625 63.765625 \r\nQ 49.609375 66.109375 42.828125 66.109375 \r\nQ 29.4375 66.109375 22.71875 58.640625 \r\nQ 16.015625 51.171875 16.015625 36.375 \r\nQ 16.015625 21.625 22.71875 14.15625 \r\nQ 29.4375 6.6875 42.828125 6.6875 \r\nQ 48.046875 6.6875 52.140625 7.59375 \r\nQ 56.25 8.5 59.515625 10.40625 \r\nz\r\n\" id=\"DejaVuSans-71\"/>\r\n        <path d=\"M 32.171875 -5.078125 \r\nQ 28.375 -14.84375 24.75 -17.8125 \r\nQ 21.140625 -20.796875 15.09375 -20.796875 \r\nL 7.90625 -20.796875 \r\nL 7.90625 -13.28125 \r\nL 13.1875 -13.28125 \r\nQ 16.890625 -13.28125 18.9375 -11.515625 \r\nQ 21 -9.765625 23.484375 -3.21875 \r\nL 25.09375 0.875 \r\nL 2.984375 54.6875 \r\nL 12.5 54.6875 \r\nL 29.59375 11.921875 \r\nL 46.6875 54.6875 \r\nL 56.203125 54.6875 \r\nz\r\n\" id=\"DejaVuSans-121\"/>\r\n       </defs>\r\n       <use xlink:href=\"#DejaVuSans-71\"/>\r\n       <use x=\"77.490234\" xlink:href=\"#DejaVuSans-114\"/>\r\n       <use x=\"116.353516\" xlink:href=\"#DejaVuSans-111\"/>\r\n       <use x=\"177.535156\" xlink:href=\"#DejaVuSans-99\"/>\r\n       <use x=\"232.515625\" xlink:href=\"#DejaVuSans-101\"/>\r\n       <use x=\"294.039062\" xlink:href=\"#DejaVuSans-114\"/>\r\n       <use x=\"335.152344\" xlink:href=\"#DejaVuSans-121\"/>\r\n       <use x=\"394.332031\" xlink:href=\"#DejaVuSans-32\"/>\r\n       <use x=\"426.119141\" xlink:href=\"#DejaVuSans-83\"/>\r\n       <use x=\"489.595703\" xlink:href=\"#DejaVuSans-116\"/>\r\n       <use x=\"528.804688\" xlink:href=\"#DejaVuSans-111\"/>\r\n       <use x=\"589.986328\" xlink:href=\"#DejaVuSans-114\"/>\r\n       <use x=\"628.849609\" xlink:href=\"#DejaVuSans-101\"/>\r\n      </g>\r\n     </g>\r\n    </g>\r\n   </g>\r\n   <g id=\"patch_13\">\r\n    <path d=\"M 107.28125 319.118125 \r\nL 107.28125 22.318125 \r\n\" style=\"fill:none;stroke:#000000;stroke-linecap:square;stroke-linejoin:miter;stroke-width:0.8;\"/>\r\n   </g>\r\n   <g id=\"patch_14\">\r\n    <path d=\"M 338.672917 319.118125 \r\nL 338.672917 22.318125 \r\n\" style=\"fill:none;stroke:#000000;stroke-linecap:square;stroke-linejoin:miter;stroke-width:0.8;\"/>\r\n   </g>\r\n   <g id=\"patch_15\">\r\n    <path d=\"M 107.28125 319.118125 \r\nL 338.672917 319.118125 \r\n\" style=\"fill:none;stroke:#000000;stroke-linecap:square;stroke-linejoin:miter;stroke-width:0.8;\"/>\r\n   </g>\r\n   <g id=\"patch_16\">\r\n    <path d=\"M 107.28125 22.318125 \r\nL 338.672917 22.318125 \r\n\" style=\"fill:none;stroke:#000000;stroke-linecap:square;stroke-linejoin:miter;stroke-width:0.8;\"/>\r\n   </g>\r\n   <g id=\"text_17\">\r\n    <!-- Cluster 0 -->\r\n    <g transform=\"translate(195.957396 16.318125)scale(0.12 -0.12)\">\r\n     <use xlink:href=\"#DejaVuSans-67\"/>\r\n     <use x=\"69.824219\" xlink:href=\"#DejaVuSans-108\"/>\r\n     <use x=\"97.607422\" xlink:href=\"#DejaVuSans-117\"/>\r\n     <use x=\"160.986328\" xlink:href=\"#DejaVuSans-115\"/>\r\n     <use x=\"213.085938\" xlink:href=\"#DejaVuSans-116\"/>\r\n     <use x=\"252.294922\" xlink:href=\"#DejaVuSans-101\"/>\r\n     <use x=\"313.818359\" xlink:href=\"#DejaVuSans-114\"/>\r\n     <use x=\"354.931641\" xlink:href=\"#DejaVuSans-32\"/>\r\n     <use x=\"386.71875\" xlink:href=\"#DejaVuSans-48\"/>\r\n    </g>\r\n   </g>\r\n  </g>\r\n  <g id=\"axes_2\">\r\n   <g id=\"patch_17\">\r\n    <path d=\"M 467.597917 319.118125 \r\nL 698.989583 319.118125 \r\nL 698.989583 22.318125 \r\nL 467.597917 22.318125 \r\nz\r\n\" style=\"fill:#ffffff;\"/>\r\n   </g>\r\n   <g id=\"patch_18\">\r\n    <path clip-path=\"url(#pa2a7ea063b)\" d=\"M 467.597917 311.46864 \r\nL 502.306667 311.46864 \r\nL 502.306667 305.349053 \r\nL 467.597917 305.349053 \r\nz\r\n\" style=\"fill:#ff00ff;\"/>\r\n   </g>\r\n   <g id=\"patch_19\">\r\n    <path clip-path=\"url(#pa2a7ea063b)\" d=\"M 467.597917 280.870702 \r\nL 502.306667 280.870702 \r\nL 502.306667 274.751115 \r\nL 467.597917 274.751115 \r\nz\r\n\" style=\"fill:#ff00ff;\"/>\r\n   </g>\r\n   <g id=\"patch_20\">\r\n    <path clip-path=\"url(#pa2a7ea063b)\" d=\"M 467.597917 250.272764 \r\nL 502.306667 250.272764 \r\nL 502.306667 244.153177 \r\nL 467.597917 244.153177 \r\nz\r\n\" style=\"fill:#ff00ff;\"/>\r\n   </g>\r\n   <g id=\"patch_21\">\r\n    <path clip-path=\"url(#pa2a7ea063b)\" d=\"M 467.597917 219.674826 \r\nL 513.87625 219.674826 \r\nL 513.87625 213.555238 \r\nL 467.597917 213.555238 \r\nz\r\n\" style=\"fill:#ff00ff;\"/>\r\n   </g>\r\n   <g id=\"patch_22\">\r\n    <path clip-path=\"url(#pa2a7ea063b)\" d=\"M 467.597917 189.076888 \r\nL 513.87625 189.076888 \r\nL 513.87625 182.9573 \r\nL 467.597917 182.9573 \r\nz\r\n\" style=\"fill:#ff00ff;\"/>\r\n   </g>\r\n   <g id=\"patch_23\">\r\n    <path clip-path=\"url(#pa2a7ea063b)\" d=\"M 467.597917 158.47895 \r\nL 537.015417 158.47895 \r\nL 537.015417 152.359362 \r\nL 467.597917 152.359362 \r\nz\r\n\" style=\"fill:#ff00ff;\"/>\r\n   </g>\r\n   <g id=\"patch_24\">\r\n    <path clip-path=\"url(#pa2a7ea063b)\" d=\"M 467.597917 127.881012 \r\nL 548.585 127.881012 \r\nL 548.585 121.761424 \r\nL 467.597917 121.761424 \r\nz\r\n\" style=\"fill:#ff00ff;\"/>\r\n   </g>\r\n   <g id=\"patch_25\">\r\n    <path clip-path=\"url(#pa2a7ea063b)\" d=\"M 467.597917 97.283073 \r\nL 548.585 97.283073 \r\nL 548.585 91.163486 \r\nL 467.597917 91.163486 \r\nz\r\n\" style=\"fill:#ff00ff;\"/>\r\n   </g>\r\n   <g id=\"patch_26\">\r\n    <path clip-path=\"url(#pa2a7ea063b)\" d=\"M 467.597917 66.685135 \r\nL 560.154583 66.685135 \r\nL 560.154583 60.565548 \r\nL 467.597917 60.565548 \r\nz\r\n\" style=\"fill:#ff00ff;\"/>\r\n   </g>\r\n   <g id=\"patch_27\">\r\n    <path clip-path=\"url(#pa2a7ea063b)\" d=\"M 467.597917 36.087197 \r\nL 594.863333 36.087197 \r\nL 594.863333 29.96761 \r\nL 467.597917 29.96761 \r\nz\r\n\" style=\"fill:#ff00ff;\"/>\r\n   </g>\r\n   <g id=\"matplotlib.axis_3\">\r\n    <g id=\"xtick_6\">\r\n     <g id=\"line2d_16\">\r\n      <g>\r\n       <use style=\"stroke:#000000;stroke-width:0.8;\" x=\"467.597917\" xlink:href=\"#m6fafd929b4\" y=\"319.118125\"/>\r\n      </g>\r\n     </g>\r\n     <g id=\"text_18\">\r\n      <!-- 0 -->\r\n      <g transform=\"translate(464.416667 333.716562)scale(0.1 -0.1)\">\r\n       <use xlink:href=\"#DejaVuSans-48\"/>\r\n      </g>\r\n     </g>\r\n    </g>\r\n    <g id=\"xtick_7\">\r\n     <g id=\"line2d_17\">\r\n      <g>\r\n       <use style=\"stroke:#000000;stroke-width:0.8;\" x=\"525.445833\" xlink:href=\"#m6fafd929b4\" y=\"319.118125\"/>\r\n      </g>\r\n     </g>\r\n     <g id=\"text_19\">\r\n      <!-- 5 -->\r\n      <g transform=\"translate(522.264583 333.716562)scale(0.1 -0.1)\">\r\n       <use xlink:href=\"#DejaVuSans-53\"/>\r\n      </g>\r\n     </g>\r\n    </g>\r\n    <g id=\"xtick_8\">\r\n     <g id=\"line2d_18\">\r\n      <g>\r\n       <use style=\"stroke:#000000;stroke-width:0.8;\" x=\"583.29375\" xlink:href=\"#m6fafd929b4\" y=\"319.118125\"/>\r\n      </g>\r\n     </g>\r\n     <g id=\"text_20\">\r\n      <!-- 10 -->\r\n      <g transform=\"translate(576.93125 333.716562)scale(0.1 -0.1)\">\r\n       <use xlink:href=\"#DejaVuSans-49\"/>\r\n       <use x=\"63.623047\" xlink:href=\"#DejaVuSans-48\"/>\r\n      </g>\r\n     </g>\r\n    </g>\r\n    <g id=\"xtick_9\">\r\n     <g id=\"line2d_19\">\r\n      <g>\r\n       <use style=\"stroke:#000000;stroke-width:0.8;\" x=\"641.141667\" xlink:href=\"#m6fafd929b4\" y=\"319.118125\"/>\r\n      </g>\r\n     </g>\r\n     <g id=\"text_21\">\r\n      <!-- 15 -->\r\n      <g transform=\"translate(634.779167 333.716562)scale(0.1 -0.1)\">\r\n       <use xlink:href=\"#DejaVuSans-49\"/>\r\n       <use x=\"63.623047\" xlink:href=\"#DejaVuSans-53\"/>\r\n      </g>\r\n     </g>\r\n    </g>\r\n    <g id=\"xtick_10\">\r\n     <g id=\"line2d_20\">\r\n      <g>\r\n       <use style=\"stroke:#000000;stroke-width:0.8;\" x=\"698.989583\" xlink:href=\"#m6fafd929b4\" y=\"319.118125\"/>\r\n      </g>\r\n     </g>\r\n     <g id=\"text_22\">\r\n      <!-- 20 -->\r\n      <g transform=\"translate(692.627083 333.716562)scale(0.1 -0.1)\">\r\n       <use xlink:href=\"#DejaVuSans-50\"/>\r\n       <use x=\"63.623047\" xlink:href=\"#DejaVuSans-48\"/>\r\n      </g>\r\n     </g>\r\n    </g>\r\n    <g id=\"text_23\">\r\n     <!-- No. of venues -->\r\n     <g transform=\"translate(548.939844 347.394687)scale(0.1 -0.1)\">\r\n      <use xlink:href=\"#DejaVuSans-78\"/>\r\n      <use x=\"74.804688\" xlink:href=\"#DejaVuSans-111\"/>\r\n      <use x=\"134.236328\" xlink:href=\"#DejaVuSans-46\"/>\r\n      <use x=\"166.023438\" xlink:href=\"#DejaVuSans-32\"/>\r\n      <use x=\"197.810547\" xlink:href=\"#DejaVuSans-111\"/>\r\n      <use x=\"258.992188\" xlink:href=\"#DejaVuSans-102\"/>\r\n      <use x=\"294.197266\" xlink:href=\"#DejaVuSans-32\"/>\r\n      <use x=\"325.984375\" xlink:href=\"#DejaVuSans-118\"/>\r\n      <use x=\"385.164062\" xlink:href=\"#DejaVuSans-101\"/>\r\n      <use x=\"446.6875\" xlink:href=\"#DejaVuSans-110\"/>\r\n      <use x=\"510.066406\" xlink:href=\"#DejaVuSans-117\"/>\r\n      <use x=\"573.445312\" xlink:href=\"#DejaVuSans-101\"/>\r\n      <use x=\"634.96875\" xlink:href=\"#DejaVuSans-115\"/>\r\n     </g>\r\n    </g>\r\n   </g>\r\n   <g id=\"matplotlib.axis_4\">\r\n    <g id=\"ytick_11\">\r\n     <g id=\"line2d_21\">\r\n      <g>\r\n       <use style=\"stroke:#000000;stroke-width:0.8;\" x=\"467.597917\" xlink:href=\"#mc5ac022390\" y=\"308.408847\"/>\r\n      </g>\r\n     </g>\r\n     <g id=\"text_24\">\r\n      <!-- Fast Food Restaurant -->\r\n      <g transform=\"translate(355.426042 312.208065)scale(0.1 -0.1)\">\r\n       <defs>\r\n        <path d=\"M 9.8125 72.90625 \r\nL 51.703125 72.90625 \r\nL 51.703125 64.59375 \r\nL 19.671875 64.59375 \r\nL 19.671875 43.109375 \r\nL 48.578125 43.109375 \r\nL 48.578125 34.8125 \r\nL 19.671875 34.8125 \r\nL 19.671875 0 \r\nL 9.8125 0 \r\nz\r\n\" id=\"DejaVuSans-70\"/>\r\n       </defs>\r\n       <use xlink:href=\"#DejaVuSans-70\"/>\r\n       <use x=\"48.394531\" xlink:href=\"#DejaVuSans-97\"/>\r\n       <use x=\"109.673828\" xlink:href=\"#DejaVuSans-115\"/>\r\n       <use x=\"161.773438\" xlink:href=\"#DejaVuSans-116\"/>\r\n       <use x=\"200.982422\" xlink:href=\"#DejaVuSans-32\"/>\r\n       <use x=\"232.769531\" xlink:href=\"#DejaVuSans-70\"/>\r\n       <use x=\"286.664062\" xlink:href=\"#DejaVuSans-111\"/>\r\n       <use x=\"347.845703\" xlink:href=\"#DejaVuSans-111\"/>\r\n       <use x=\"409.027344\" xlink:href=\"#DejaVuSans-100\"/>\r\n       <use x=\"472.503906\" xlink:href=\"#DejaVuSans-32\"/>\r\n       <use x=\"504.291016\" xlink:href=\"#DejaVuSans-82\"/>\r\n       <use x=\"569.273438\" xlink:href=\"#DejaVuSans-101\"/>\r\n       <use x=\"630.796875\" xlink:href=\"#DejaVuSans-115\"/>\r\n       <use x=\"682.896484\" xlink:href=\"#DejaVuSans-116\"/>\r\n       <use x=\"722.105469\" xlink:href=\"#DejaVuSans-97\"/>\r\n       <use x=\"783.384766\" xlink:href=\"#DejaVuSans-117\"/>\r\n       <use x=\"846.763672\" xlink:href=\"#DejaVuSans-114\"/>\r\n       <use x=\"887.876953\" xlink:href=\"#DejaVuSans-97\"/>\r\n       <use x=\"949.15625\" xlink:href=\"#DejaVuSans-110\"/>\r\n       <use x=\"1012.535156\" xlink:href=\"#DejaVuSans-116\"/>\r\n      </g>\r\n     </g>\r\n    </g>\r\n    <g id=\"ytick_12\">\r\n     <g id=\"line2d_22\">\r\n      <g>\r\n       <use style=\"stroke:#000000;stroke-width:0.8;\" x=\"467.597917\" xlink:href=\"#mc5ac022390\" y=\"277.810909\"/>\r\n      </g>\r\n     </g>\r\n     <g id=\"text_25\">\r\n      <!-- Fried Chicken Joint -->\r\n      <g transform=\"translate(368.204167 281.610127)scale(0.1 -0.1)\">\r\n       <defs>\r\n        <path d=\"M 9.8125 72.90625 \r\nL 19.671875 72.90625 \r\nL 19.671875 5.078125 \r\nQ 19.671875 -8.109375 14.671875 -14.0625 \r\nQ 9.671875 -20.015625 -1.421875 -20.015625 \r\nL -5.171875 -20.015625 \r\nL -5.171875 -11.71875 \r\nL -2.09375 -11.71875 \r\nQ 4.4375 -11.71875 7.125 -8.046875 \r\nQ 9.8125 -4.390625 9.8125 5.078125 \r\nz\r\n\" id=\"DejaVuSans-74\"/>\r\n       </defs>\r\n       <use xlink:href=\"#DejaVuSans-70\"/>\r\n       <use x=\"50.269531\" xlink:href=\"#DejaVuSans-114\"/>\r\n       <use x=\"91.382812\" xlink:href=\"#DejaVuSans-105\"/>\r\n       <use x=\"119.166016\" xlink:href=\"#DejaVuSans-101\"/>\r\n       <use x=\"180.689453\" xlink:href=\"#DejaVuSans-100\"/>\r\n       <use x=\"244.166016\" xlink:href=\"#DejaVuSans-32\"/>\r\n       <use x=\"275.953125\" xlink:href=\"#DejaVuSans-67\"/>\r\n       <use x=\"345.777344\" xlink:href=\"#DejaVuSans-104\"/>\r\n       <use x=\"409.15625\" xlink:href=\"#DejaVuSans-105\"/>\r\n       <use x=\"436.939453\" xlink:href=\"#DejaVuSans-99\"/>\r\n       <use x=\"491.919922\" xlink:href=\"#DejaVuSans-107\"/>\r\n       <use x=\"546.205078\" xlink:href=\"#DejaVuSans-101\"/>\r\n       <use x=\"607.728516\" xlink:href=\"#DejaVuSans-110\"/>\r\n       <use x=\"671.107422\" xlink:href=\"#DejaVuSans-32\"/>\r\n       <use x=\"702.894531\" xlink:href=\"#DejaVuSans-74\"/>\r\n       <use x=\"732.386719\" xlink:href=\"#DejaVuSans-111\"/>\r\n       <use x=\"793.568359\" xlink:href=\"#DejaVuSans-105\"/>\r\n       <use x=\"821.351562\" xlink:href=\"#DejaVuSans-110\"/>\r\n       <use x=\"884.730469\" xlink:href=\"#DejaVuSans-116\"/>\r\n      </g>\r\n     </g>\r\n    </g>\r\n    <g id=\"ytick_13\">\r\n     <g id=\"line2d_23\">\r\n      <g>\r\n       <use style=\"stroke:#000000;stroke-width:0.8;\" x=\"467.597917\" xlink:href=\"#mc5ac022390\" y=\"247.21297\"/>\r\n      </g>\r\n     </g>\r\n     <g id=\"text_26\">\r\n      <!-- Café -->\r\n      <g transform=\"translate(437.813542 251.012189)scale(0.1 -0.1)\">\r\n       <use xlink:href=\"#DejaVuSans-67\"/>\r\n       <use x=\"69.824219\" xlink:href=\"#DejaVuSans-97\"/>\r\n       <use x=\"131.103516\" xlink:href=\"#DejaVuSans-102\"/>\r\n       <use x=\"166.308594\" xlink:href=\"#DejaVuSans-233\"/>\r\n      </g>\r\n     </g>\r\n    </g>\r\n    <g id=\"ytick_14\">\r\n     <g id=\"line2d_24\">\r\n      <g>\r\n       <use style=\"stroke:#000000;stroke-width:0.8;\" x=\"467.597917\" xlink:href=\"#mc5ac022390\" y=\"216.615032\"/>\r\n      </g>\r\n     </g>\r\n     <g id=\"text_27\">\r\n      <!-- Park -->\r\n      <g transform=\"translate(438.988542 220.414251)scale(0.1 -0.1)\">\r\n       <use xlink:href=\"#DejaVuSans-80\"/>\r\n       <use x=\"55.802734\" xlink:href=\"#DejaVuSans-97\"/>\r\n       <use x=\"117.082031\" xlink:href=\"#DejaVuSans-114\"/>\r\n       <use x=\"158.195312\" xlink:href=\"#DejaVuSans-107\"/>\r\n      </g>\r\n     </g>\r\n    </g>\r\n    <g id=\"ytick_15\">\r\n     <g id=\"line2d_25\">\r\n      <g>\r\n       <use style=\"stroke:#000000;stroke-width:0.8;\" x=\"467.597917\" xlink:href=\"#mc5ac022390\" y=\"186.017094\"/>\r\n      </g>\r\n     </g>\r\n     <g id=\"text_28\">\r\n      <!-- Supermarket -->\r\n      <g transform=\"translate(395.993229 189.816313)scale(0.1 -0.1)\">\r\n       <defs>\r\n        <path d=\"M 52 44.1875 \r\nQ 55.375 50.25 60.0625 53.125 \r\nQ 64.75 56 71.09375 56 \r\nQ 79.640625 56 84.28125 50.015625 \r\nQ 88.921875 44.046875 88.921875 33.015625 \r\nL 88.921875 0 \r\nL 79.890625 0 \r\nL 79.890625 32.71875 \r\nQ 79.890625 40.578125 77.09375 44.375 \r\nQ 74.3125 48.1875 68.609375 48.1875 \r\nQ 61.625 48.1875 57.5625 43.546875 \r\nQ 53.515625 38.921875 53.515625 30.90625 \r\nL 53.515625 0 \r\nL 44.484375 0 \r\nL 44.484375 32.71875 \r\nQ 44.484375 40.625 41.703125 44.40625 \r\nQ 38.921875 48.1875 33.109375 48.1875 \r\nQ 26.21875 48.1875 22.15625 43.53125 \r\nQ 18.109375 38.875 18.109375 30.90625 \r\nL 18.109375 0 \r\nL 9.078125 0 \r\nL 9.078125 54.6875 \r\nL 18.109375 54.6875 \r\nL 18.109375 46.1875 \r\nQ 21.1875 51.21875 25.484375 53.609375 \r\nQ 29.78125 56 35.6875 56 \r\nQ 41.65625 56 45.828125 52.96875 \r\nQ 50 49.953125 52 44.1875 \r\nz\r\n\" id=\"DejaVuSans-109\"/>\r\n       </defs>\r\n       <use xlink:href=\"#DejaVuSans-83\"/>\r\n       <use x=\"63.476562\" xlink:href=\"#DejaVuSans-117\"/>\r\n       <use x=\"126.855469\" xlink:href=\"#DejaVuSans-112\"/>\r\n       <use x=\"190.332031\" xlink:href=\"#DejaVuSans-101\"/>\r\n       <use x=\"251.855469\" xlink:href=\"#DejaVuSans-114\"/>\r\n       <use x=\"291.21875\" xlink:href=\"#DejaVuSans-109\"/>\r\n       <use x=\"388.630859\" xlink:href=\"#DejaVuSans-97\"/>\r\n       <use x=\"449.910156\" xlink:href=\"#DejaVuSans-114\"/>\r\n       <use x=\"491.023438\" xlink:href=\"#DejaVuSans-107\"/>\r\n       <use x=\"545.308594\" xlink:href=\"#DejaVuSans-101\"/>\r\n       <use x=\"606.832031\" xlink:href=\"#DejaVuSans-116\"/>\r\n      </g>\r\n     </g>\r\n    </g>\r\n    <g id=\"ytick_16\">\r\n     <g id=\"line2d_26\">\r\n      <g>\r\n       <use style=\"stroke:#000000;stroke-width:0.8;\" x=\"467.597917\" xlink:href=\"#mc5ac022390\" y=\"155.419156\"/>\r\n      </g>\r\n     </g>\r\n     <g id=\"text_29\">\r\n      <!-- Grocery Store -->\r\n      <g transform=\"translate(391.558854 159.218375)scale(0.1 -0.1)\">\r\n       <use xlink:href=\"#DejaVuSans-71\"/>\r\n       <use x=\"77.490234\" xlink:href=\"#DejaVuSans-114\"/>\r\n       <use x=\"116.353516\" xlink:href=\"#DejaVuSans-111\"/>\r\n       <use x=\"177.535156\" xlink:href=\"#DejaVuSans-99\"/>\r\n       <use x=\"232.515625\" xlink:href=\"#DejaVuSans-101\"/>\r\n       <use x=\"294.039062\" xlink:href=\"#DejaVuSans-114\"/>\r\n       <use x=\"335.152344\" xlink:href=\"#DejaVuSans-121\"/>\r\n       <use x=\"394.332031\" xlink:href=\"#DejaVuSans-32\"/>\r\n       <use x=\"426.119141\" xlink:href=\"#DejaVuSans-83\"/>\r\n       <use x=\"489.595703\" xlink:href=\"#DejaVuSans-116\"/>\r\n       <use x=\"528.804688\" xlink:href=\"#DejaVuSans-111\"/>\r\n       <use x=\"589.986328\" xlink:href=\"#DejaVuSans-114\"/>\r\n       <use x=\"628.849609\" xlink:href=\"#DejaVuSans-101\"/>\r\n      </g>\r\n     </g>\r\n    </g>\r\n    <g id=\"ytick_17\">\r\n     <g id=\"line2d_27\">\r\n      <g>\r\n       <use style=\"stroke:#000000;stroke-width:0.8;\" x=\"467.597917\" xlink:href=\"#mc5ac022390\" y=\"124.821218\"/>\r\n      </g>\r\n     </g>\r\n     <g id=\"text_30\">\r\n      <!-- Pub -->\r\n      <g transform=\"translate(442.057292 128.620437)scale(0.1 -0.1)\">\r\n       <use xlink:href=\"#DejaVuSans-80\"/>\r\n       <use x=\"58.552734\" xlink:href=\"#DejaVuSans-117\"/>\r\n       <use x=\"121.931641\" xlink:href=\"#DejaVuSans-98\"/>\r\n      </g>\r\n     </g>\r\n    </g>\r\n    <g id=\"ytick_18\">\r\n     <g id=\"line2d_28\">\r\n      <g>\r\n       <use style=\"stroke:#000000;stroke-width:0.8;\" x=\"467.597917\" xlink:href=\"#mc5ac022390\" y=\"94.22328\"/>\r\n      </g>\r\n     </g>\r\n     <g id=\"text_31\">\r\n      <!-- Clothing Store -->\r\n      <g transform=\"translate(389.391667 98.022498)scale(0.1 -0.1)\">\r\n       <defs>\r\n        <path d=\"M 45.40625 27.984375 \r\nQ 45.40625 37.75 41.375 43.109375 \r\nQ 37.359375 48.484375 30.078125 48.484375 \r\nQ 22.859375 48.484375 18.828125 43.109375 \r\nQ 14.796875 37.75 14.796875 27.984375 \r\nQ 14.796875 18.265625 18.828125 12.890625 \r\nQ 22.859375 7.515625 30.078125 7.515625 \r\nQ 37.359375 7.515625 41.375 12.890625 \r\nQ 45.40625 18.265625 45.40625 27.984375 \r\nz\r\nM 54.390625 6.78125 \r\nQ 54.390625 -7.171875 48.1875 -13.984375 \r\nQ 42 -20.796875 29.203125 -20.796875 \r\nQ 24.46875 -20.796875 20.265625 -20.09375 \r\nQ 16.0625 -19.390625 12.109375 -17.921875 \r\nL 12.109375 -9.1875 \r\nQ 16.0625 -11.328125 19.921875 -12.34375 \r\nQ 23.78125 -13.375 27.78125 -13.375 \r\nQ 36.625 -13.375 41.015625 -8.765625 \r\nQ 45.40625 -4.15625 45.40625 5.171875 \r\nL 45.40625 9.625 \r\nQ 42.625 4.78125 38.28125 2.390625 \r\nQ 33.9375 0 27.875 0 \r\nQ 17.828125 0 11.671875 7.65625 \r\nQ 5.515625 15.328125 5.515625 27.984375 \r\nQ 5.515625 40.671875 11.671875 48.328125 \r\nQ 17.828125 56 27.875 56 \r\nQ 33.9375 56 38.28125 53.609375 \r\nQ 42.625 51.21875 45.40625 46.390625 \r\nL 45.40625 54.6875 \r\nL 54.390625 54.6875 \r\nz\r\n\" id=\"DejaVuSans-103\"/>\r\n       </defs>\r\n       <use xlink:href=\"#DejaVuSans-67\"/>\r\n       <use x=\"69.824219\" xlink:href=\"#DejaVuSans-108\"/>\r\n       <use x=\"97.607422\" xlink:href=\"#DejaVuSans-111\"/>\r\n       <use x=\"158.789062\" xlink:href=\"#DejaVuSans-116\"/>\r\n       <use x=\"197.998047\" xlink:href=\"#DejaVuSans-104\"/>\r\n       <use x=\"261.376953\" xlink:href=\"#DejaVuSans-105\"/>\r\n       <use x=\"289.160156\" xlink:href=\"#DejaVuSans-110\"/>\r\n       <use x=\"352.539062\" xlink:href=\"#DejaVuSans-103\"/>\r\n       <use x=\"416.015625\" xlink:href=\"#DejaVuSans-32\"/>\r\n       <use x=\"447.802734\" xlink:href=\"#DejaVuSans-83\"/>\r\n       <use x=\"511.279297\" xlink:href=\"#DejaVuSans-116\"/>\r\n       <use x=\"550.488281\" xlink:href=\"#DejaVuSans-111\"/>\r\n       <use x=\"611.669922\" xlink:href=\"#DejaVuSans-114\"/>\r\n       <use x=\"650.533203\" xlink:href=\"#DejaVuSans-101\"/>\r\n      </g>\r\n     </g>\r\n    </g>\r\n    <g id=\"ytick_19\">\r\n     <g id=\"line2d_29\">\r\n      <g>\r\n       <use style=\"stroke:#000000;stroke-width:0.8;\" x=\"467.597917\" xlink:href=\"#mc5ac022390\" y=\"63.625341\"/>\r\n      </g>\r\n     </g>\r\n     <g id=\"text_32\">\r\n      <!-- Coffee Shop -->\r\n      <g transform=\"translate(399.818229 67.42456)scale(0.1 -0.1)\">\r\n       <use xlink:href=\"#DejaVuSans-67\"/>\r\n       <use x=\"69.824219\" xlink:href=\"#DejaVuSans-111\"/>\r\n       <use x=\"131.005859\" xlink:href=\"#DejaVuSans-102\"/>\r\n       <use x=\"166.210938\" xlink:href=\"#DejaVuSans-102\"/>\r\n       <use x=\"201.416016\" xlink:href=\"#DejaVuSans-101\"/>\r\n       <use x=\"262.939453\" xlink:href=\"#DejaVuSans-101\"/>\r\n       <use x=\"324.462891\" xlink:href=\"#DejaVuSans-32\"/>\r\n       <use x=\"356.25\" xlink:href=\"#DejaVuSans-83\"/>\r\n       <use x=\"419.726562\" xlink:href=\"#DejaVuSans-104\"/>\r\n       <use x=\"483.105469\" xlink:href=\"#DejaVuSans-111\"/>\r\n       <use x=\"544.287109\" xlink:href=\"#DejaVuSans-112\"/>\r\n      </g>\r\n     </g>\r\n    </g>\r\n    <g id=\"ytick_20\">\r\n     <g id=\"line2d_30\">\r\n      <g>\r\n       <use style=\"stroke:#000000;stroke-width:0.8;\" x=\"467.597917\" xlink:href=\"#mc5ac022390\" y=\"33.027403\"/>\r\n      </g>\r\n     </g>\r\n     <g id=\"text_33\">\r\n      <!-- Bus Stop -->\r\n      <g transform=\"translate(416.276042 36.826622)scale(0.1 -0.1)\">\r\n       <defs>\r\n        <path d=\"M 19.671875 34.8125 \r\nL 19.671875 8.109375 \r\nL 35.5 8.109375 \r\nQ 43.453125 8.109375 47.28125 11.40625 \r\nQ 51.125 14.703125 51.125 21.484375 \r\nQ 51.125 28.328125 47.28125 31.5625 \r\nQ 43.453125 34.8125 35.5 34.8125 \r\nz\r\nM 19.671875 64.796875 \r\nL 19.671875 42.828125 \r\nL 34.28125 42.828125 \r\nQ 41.5 42.828125 45.03125 45.53125 \r\nQ 48.578125 48.25 48.578125 53.8125 \r\nQ 48.578125 59.328125 45.03125 62.0625 \r\nQ 41.5 64.796875 34.28125 64.796875 \r\nz\r\nM 9.8125 72.90625 \r\nL 35.015625 72.90625 \r\nQ 46.296875 72.90625 52.390625 68.21875 \r\nQ 58.5 63.53125 58.5 54.890625 \r\nQ 58.5 48.1875 55.375 44.234375 \r\nQ 52.25 40.28125 46.1875 39.3125 \r\nQ 53.46875 37.75 57.5 32.78125 \r\nQ 61.53125 27.828125 61.53125 20.40625 \r\nQ 61.53125 10.640625 54.890625 5.3125 \r\nQ 48.25 0 35.984375 0 \r\nL 9.8125 0 \r\nz\r\n\" id=\"DejaVuSans-66\"/>\r\n       </defs>\r\n       <use xlink:href=\"#DejaVuSans-66\"/>\r\n       <use x=\"68.603516\" xlink:href=\"#DejaVuSans-117\"/>\r\n       <use x=\"131.982422\" xlink:href=\"#DejaVuSans-115\"/>\r\n       <use x=\"184.082031\" xlink:href=\"#DejaVuSans-32\"/>\r\n       <use x=\"215.869141\" xlink:href=\"#DejaVuSans-83\"/>\r\n       <use x=\"279.345703\" xlink:href=\"#DejaVuSans-116\"/>\r\n       <use x=\"318.554688\" xlink:href=\"#DejaVuSans-111\"/>\r\n       <use x=\"379.736328\" xlink:href=\"#DejaVuSans-112\"/>\r\n      </g>\r\n     </g>\r\n    </g>\r\n   </g>\r\n   <g id=\"patch_28\">\r\n    <path d=\"M 467.597917 319.118125 \r\nL 467.597917 22.318125 \r\n\" style=\"fill:none;stroke:#000000;stroke-linecap:square;stroke-linejoin:miter;stroke-width:0.8;\"/>\r\n   </g>\r\n   <g id=\"patch_29\">\r\n    <path d=\"M 698.989583 319.118125 \r\nL 698.989583 22.318125 \r\n\" style=\"fill:none;stroke:#000000;stroke-linecap:square;stroke-linejoin:miter;stroke-width:0.8;\"/>\r\n   </g>\r\n   <g id=\"patch_30\">\r\n    <path d=\"M 467.597917 319.118125 \r\nL 698.989583 319.118125 \r\n\" style=\"fill:none;stroke:#000000;stroke-linecap:square;stroke-linejoin:miter;stroke-width:0.8;\"/>\r\n   </g>\r\n   <g id=\"patch_31\">\r\n    <path d=\"M 467.597917 22.318125 \r\nL 698.989583 22.318125 \r\n\" style=\"fill:none;stroke:#000000;stroke-linecap:square;stroke-linejoin:miter;stroke-width:0.8;\"/>\r\n   </g>\r\n   <g id=\"text_34\">\r\n    <!-- Cluster 1 -->\r\n    <g transform=\"translate(556.274063 16.318125)scale(0.12 -0.12)\">\r\n     <use xlink:href=\"#DejaVuSans-67\"/>\r\n     <use x=\"69.824219\" xlink:href=\"#DejaVuSans-108\"/>\r\n     <use x=\"97.607422\" xlink:href=\"#DejaVuSans-117\"/>\r\n     <use x=\"160.986328\" xlink:href=\"#DejaVuSans-115\"/>\r\n     <use x=\"213.085938\" xlink:href=\"#DejaVuSans-116\"/>\r\n     <use x=\"252.294922\" xlink:href=\"#DejaVuSans-101\"/>\r\n     <use x=\"313.818359\" xlink:href=\"#DejaVuSans-114\"/>\r\n     <use x=\"354.931641\" xlink:href=\"#DejaVuSans-32\"/>\r\n     <use x=\"386.71875\" xlink:href=\"#DejaVuSans-49\"/>\r\n    </g>\r\n   </g>\r\n  </g>\r\n  <g id=\"axes_3\">\r\n   <g id=\"patch_32\">\r\n    <path d=\"M 827.914583 319.118125 \r\nL 1059.30625 319.118125 \r\nL 1059.30625 22.318125 \r\nL 827.914583 22.318125 \r\nz\r\n\" style=\"fill:#ffffff;\"/>\r\n   </g>\r\n   <g id=\"patch_33\">\r\n    <path clip-path=\"url(#p525124f354)\" d=\"M 827.914583 311.46864 \r\nL 839.484167 311.46864 \r\nL 839.484167 305.349053 \r\nL 827.914583 305.349053 \r\nz\r\n\" style=\"fill:#7a0403;\"/>\r\n   </g>\r\n   <g id=\"patch_34\">\r\n    <path clip-path=\"url(#p525124f354)\" d=\"M 827.914583 280.870702 \r\nL 851.05375 280.870702 \r\nL 851.05375 274.751115 \r\nL 827.914583 274.751115 \r\nz\r\n\" style=\"fill:#7a0403;\"/>\r\n   </g>\r\n   <g id=\"patch_35\">\r\n    <path clip-path=\"url(#p525124f354)\" d=\"M 827.914583 250.272764 \r\nL 851.05375 250.272764 \r\nL 851.05375 244.153177 \r\nL 827.914583 244.153177 \r\nz\r\n\" style=\"fill:#7a0403;\"/>\r\n   </g>\r\n   <g id=\"patch_36\">\r\n    <path clip-path=\"url(#p525124f354)\" d=\"M 827.914583 219.674826 \r\nL 851.05375 219.674826 \r\nL 851.05375 213.555238 \r\nL 827.914583 213.555238 \r\nz\r\n\" style=\"fill:#7a0403;\"/>\r\n   </g>\r\n   <g id=\"patch_37\">\r\n    <path clip-path=\"url(#p525124f354)\" d=\"M 827.914583 189.076888 \r\nL 851.05375 189.076888 \r\nL 851.05375 182.9573 \r\nL 827.914583 182.9573 \r\nz\r\n\" style=\"fill:#7a0403;\"/>\r\n   </g>\r\n   <g id=\"patch_38\">\r\n    <path clip-path=\"url(#p525124f354)\" d=\"M 827.914583 158.47895 \r\nL 851.05375 158.47895 \r\nL 851.05375 152.359362 \r\nL 827.914583 152.359362 \r\nz\r\n\" style=\"fill:#7a0403;\"/>\r\n   </g>\r\n   <g id=\"patch_39\">\r\n    <path clip-path=\"url(#p525124f354)\" d=\"M 827.914583 127.881012 \r\nL 851.05375 127.881012 \r\nL 851.05375 121.761424 \r\nL 827.914583 121.761424 \r\nz\r\n\" style=\"fill:#7a0403;\"/>\r\n   </g>\r\n   <g id=\"patch_40\">\r\n    <path clip-path=\"url(#p525124f354)\" d=\"M 827.914583 97.283073 \r\nL 851.05375 97.283073 \r\nL 851.05375 91.163486 \r\nL 827.914583 91.163486 \r\nz\r\n\" style=\"fill:#7a0403;\"/>\r\n   </g>\r\n   <g id=\"patch_41\">\r\n    <path clip-path=\"url(#p525124f354)\" d=\"M 827.914583 66.685135 \r\nL 862.623333 66.685135 \r\nL 862.623333 60.565548 \r\nL 827.914583 60.565548 \r\nz\r\n\" style=\"fill:#7a0403;\"/>\r\n   </g>\r\n   <g id=\"patch_42\">\r\n    <path clip-path=\"url(#p525124f354)\" d=\"M 827.914583 36.087197 \r\nL 885.7625 36.087197 \r\nL 885.7625 29.96761 \r\nL 827.914583 29.96761 \r\nz\r\n\" style=\"fill:#7a0403;\"/>\r\n   </g>\r\n   <g id=\"matplotlib.axis_5\">\r\n    <g id=\"xtick_11\">\r\n     <g id=\"line2d_31\">\r\n      <g>\r\n       <use style=\"stroke:#000000;stroke-width:0.8;\" x=\"827.914583\" xlink:href=\"#m6fafd929b4\" y=\"319.118125\"/>\r\n      </g>\r\n     </g>\r\n     <g id=\"text_35\">\r\n      <!-- 0 -->\r\n      <g transform=\"translate(824.733333 333.716562)scale(0.1 -0.1)\">\r\n       <use xlink:href=\"#DejaVuSans-48\"/>\r\n      </g>\r\n     </g>\r\n    </g>\r\n    <g id=\"xtick_12\">\r\n     <g id=\"line2d_32\">\r\n      <g>\r\n       <use style=\"stroke:#000000;stroke-width:0.8;\" x=\"885.7625\" xlink:href=\"#m6fafd929b4\" y=\"319.118125\"/>\r\n      </g>\r\n     </g>\r\n     <g id=\"text_36\">\r\n      <!-- 5 -->\r\n      <g transform=\"translate(882.58125 333.716562)scale(0.1 -0.1)\">\r\n       <use xlink:href=\"#DejaVuSans-53\"/>\r\n      </g>\r\n     </g>\r\n    </g>\r\n    <g id=\"xtick_13\">\r\n     <g id=\"line2d_33\">\r\n      <g>\r\n       <use style=\"stroke:#000000;stroke-width:0.8;\" x=\"943.610417\" xlink:href=\"#m6fafd929b4\" y=\"319.118125\"/>\r\n      </g>\r\n     </g>\r\n     <g id=\"text_37\">\r\n      <!-- 10 -->\r\n      <g transform=\"translate(937.247917 333.716562)scale(0.1 -0.1)\">\r\n       <use xlink:href=\"#DejaVuSans-49\"/>\r\n       <use x=\"63.623047\" xlink:href=\"#DejaVuSans-48\"/>\r\n      </g>\r\n     </g>\r\n    </g>\r\n    <g id=\"xtick_14\">\r\n     <g id=\"line2d_34\">\r\n      <g>\r\n       <use style=\"stroke:#000000;stroke-width:0.8;\" x=\"1001.458333\" xlink:href=\"#m6fafd929b4\" y=\"319.118125\"/>\r\n      </g>\r\n     </g>\r\n     <g id=\"text_38\">\r\n      <!-- 15 -->\r\n      <g transform=\"translate(995.095833 333.716562)scale(0.1 -0.1)\">\r\n       <use xlink:href=\"#DejaVuSans-49\"/>\r\n       <use x=\"63.623047\" xlink:href=\"#DejaVuSans-53\"/>\r\n      </g>\r\n     </g>\r\n    </g>\r\n    <g id=\"xtick_15\">\r\n     <g id=\"line2d_35\">\r\n      <g>\r\n       <use style=\"stroke:#000000;stroke-width:0.8;\" x=\"1059.30625\" xlink:href=\"#m6fafd929b4\" y=\"319.118125\"/>\r\n      </g>\r\n     </g>\r\n     <g id=\"text_39\">\r\n      <!-- 20 -->\r\n      <g transform=\"translate(1052.94375 333.716562)scale(0.1 -0.1)\">\r\n       <use xlink:href=\"#DejaVuSans-50\"/>\r\n       <use x=\"63.623047\" xlink:href=\"#DejaVuSans-48\"/>\r\n      </g>\r\n     </g>\r\n    </g>\r\n    <g id=\"text_40\">\r\n     <!-- No. of venues -->\r\n     <g transform=\"translate(909.25651 347.394687)scale(0.1 -0.1)\">\r\n      <use xlink:href=\"#DejaVuSans-78\"/>\r\n      <use x=\"74.804688\" xlink:href=\"#DejaVuSans-111\"/>\r\n      <use x=\"134.236328\" xlink:href=\"#DejaVuSans-46\"/>\r\n      <use x=\"166.023438\" xlink:href=\"#DejaVuSans-32\"/>\r\n      <use x=\"197.810547\" xlink:href=\"#DejaVuSans-111\"/>\r\n      <use x=\"258.992188\" xlink:href=\"#DejaVuSans-102\"/>\r\n      <use x=\"294.197266\" xlink:href=\"#DejaVuSans-32\"/>\r\n      <use x=\"325.984375\" xlink:href=\"#DejaVuSans-118\"/>\r\n      <use x=\"385.164062\" xlink:href=\"#DejaVuSans-101\"/>\r\n      <use x=\"446.6875\" xlink:href=\"#DejaVuSans-110\"/>\r\n      <use x=\"510.066406\" xlink:href=\"#DejaVuSans-117\"/>\r\n      <use x=\"573.445312\" xlink:href=\"#DejaVuSans-101\"/>\r\n      <use x=\"634.96875\" xlink:href=\"#DejaVuSans-115\"/>\r\n     </g>\r\n    </g>\r\n   </g>\r\n   <g id=\"matplotlib.axis_6\">\r\n    <g id=\"ytick_21\">\r\n     <g id=\"line2d_36\">\r\n      <g>\r\n       <use style=\"stroke:#000000;stroke-width:0.8;\" x=\"827.914583\" xlink:href=\"#mc5ac022390\" y=\"308.408847\"/>\r\n      </g>\r\n     </g>\r\n     <g id=\"text_41\">\r\n      <!-- Museum -->\r\n      <g transform=\"translate(778.508333 312.208065)scale(0.1 -0.1)\">\r\n       <defs>\r\n        <path d=\"M 9.8125 72.90625 \r\nL 24.515625 72.90625 \r\nL 43.109375 23.296875 \r\nL 61.8125 72.90625 \r\nL 76.515625 72.90625 \r\nL 76.515625 0 \r\nL 66.890625 0 \r\nL 66.890625 64.015625 \r\nL 48.09375 14.015625 \r\nL 38.1875 14.015625 \r\nL 19.390625 64.015625 \r\nL 19.390625 0 \r\nL 9.8125 0 \r\nz\r\n\" id=\"DejaVuSans-77\"/>\r\n       </defs>\r\n       <use xlink:href=\"#DejaVuSans-77\"/>\r\n       <use x=\"86.279297\" xlink:href=\"#DejaVuSans-117\"/>\r\n       <use x=\"149.658203\" xlink:href=\"#DejaVuSans-115\"/>\r\n       <use x=\"201.757812\" xlink:href=\"#DejaVuSans-101\"/>\r\n       <use x=\"263.28125\" xlink:href=\"#DejaVuSans-117\"/>\r\n       <use x=\"326.660156\" xlink:href=\"#DejaVuSans-109\"/>\r\n      </g>\r\n     </g>\r\n    </g>\r\n    <g id=\"ytick_22\">\r\n     <g id=\"line2d_37\">\r\n      <g>\r\n       <use style=\"stroke:#000000;stroke-width:0.8;\" x=\"827.914583\" xlink:href=\"#mc5ac022390\" y=\"277.810909\"/>\r\n      </g>\r\n     </g>\r\n     <g id=\"text_42\">\r\n      <!-- Restaurant -->\r\n      <g transform=\"translate(766.170833 281.610127)scale(0.1 -0.1)\">\r\n       <use xlink:href=\"#DejaVuSans-82\"/>\r\n       <use x=\"64.982422\" xlink:href=\"#DejaVuSans-101\"/>\r\n       <use x=\"126.505859\" xlink:href=\"#DejaVuSans-115\"/>\r\n       <use x=\"178.605469\" xlink:href=\"#DejaVuSans-116\"/>\r\n       <use x=\"217.814453\" xlink:href=\"#DejaVuSans-97\"/>\r\n       <use x=\"279.09375\" xlink:href=\"#DejaVuSans-117\"/>\r\n       <use x=\"342.472656\" xlink:href=\"#DejaVuSans-114\"/>\r\n       <use x=\"383.585938\" xlink:href=\"#DejaVuSans-97\"/>\r\n       <use x=\"444.865234\" xlink:href=\"#DejaVuSans-110\"/>\r\n       <use x=\"508.244141\" xlink:href=\"#DejaVuSans-116\"/>\r\n      </g>\r\n     </g>\r\n    </g>\r\n    <g id=\"ytick_23\">\r\n     <g id=\"line2d_38\">\r\n      <g>\r\n       <use style=\"stroke:#000000;stroke-width:0.8;\" x=\"827.914583\" xlink:href=\"#mc5ac022390\" y=\"247.21297\"/>\r\n      </g>\r\n     </g>\r\n     <g id=\"text_43\">\r\n      <!-- Pharmacy -->\r\n      <g transform=\"translate(771.197396 251.012189)scale(0.1 -0.1)\">\r\n       <use xlink:href=\"#DejaVuSans-80\"/>\r\n       <use x=\"60.302734\" xlink:href=\"#DejaVuSans-104\"/>\r\n       <use x=\"123.681641\" xlink:href=\"#DejaVuSans-97\"/>\r\n       <use x=\"184.960938\" xlink:href=\"#DejaVuSans-114\"/>\r\n       <use x=\"224.324219\" xlink:href=\"#DejaVuSans-109\"/>\r\n       <use x=\"321.736328\" xlink:href=\"#DejaVuSans-97\"/>\r\n       <use x=\"383.015625\" xlink:href=\"#DejaVuSans-99\"/>\r\n       <use x=\"437.996094\" xlink:href=\"#DejaVuSans-121\"/>\r\n      </g>\r\n     </g>\r\n    </g>\r\n    <g id=\"ytick_24\">\r\n     <g id=\"line2d_39\">\r\n      <g>\r\n       <use style=\"stroke:#000000;stroke-width:0.8;\" x=\"827.914583\" xlink:href=\"#mc5ac022390\" y=\"216.615032\"/>\r\n      </g>\r\n     </g>\r\n     <g id=\"text_44\">\r\n      <!-- Sandwich Place -->\r\n      <g transform=\"translate(743.194271 220.414251)scale(0.1 -0.1)\">\r\n       <defs>\r\n        <path d=\"M 4.203125 54.6875 \r\nL 13.1875 54.6875 \r\nL 24.421875 12.015625 \r\nL 35.59375 54.6875 \r\nL 46.1875 54.6875 \r\nL 57.421875 12.015625 \r\nL 68.609375 54.6875 \r\nL 77.59375 54.6875 \r\nL 63.28125 0 \r\nL 52.6875 0 \r\nL 40.921875 44.828125 \r\nL 29.109375 0 \r\nL 18.5 0 \r\nz\r\n\" id=\"DejaVuSans-119\"/>\r\n       </defs>\r\n       <use xlink:href=\"#DejaVuSans-83\"/>\r\n       <use x=\"63.476562\" xlink:href=\"#DejaVuSans-97\"/>\r\n       <use x=\"124.755859\" xlink:href=\"#DejaVuSans-110\"/>\r\n       <use x=\"188.134766\" xlink:href=\"#DejaVuSans-100\"/>\r\n       <use x=\"251.611328\" xlink:href=\"#DejaVuSans-119\"/>\r\n       <use x=\"333.398438\" xlink:href=\"#DejaVuSans-105\"/>\r\n       <use x=\"361.181641\" xlink:href=\"#DejaVuSans-99\"/>\r\n       <use x=\"416.162109\" xlink:href=\"#DejaVuSans-104\"/>\r\n       <use x=\"479.541016\" xlink:href=\"#DejaVuSans-32\"/>\r\n       <use x=\"511.328125\" xlink:href=\"#DejaVuSans-80\"/>\r\n       <use x=\"571.630859\" xlink:href=\"#DejaVuSans-108\"/>\r\n       <use x=\"599.414062\" xlink:href=\"#DejaVuSans-97\"/>\r\n       <use x=\"660.693359\" xlink:href=\"#DejaVuSans-99\"/>\r\n       <use x=\"715.673828\" xlink:href=\"#DejaVuSans-101\"/>\r\n      </g>\r\n     </g>\r\n    </g>\r\n    <g id=\"ytick_25\">\r\n     <g id=\"line2d_40\">\r\n      <g>\r\n       <use style=\"stroke:#000000;stroke-width:0.8;\" x=\"827.914583\" xlink:href=\"#mc5ac022390\" y=\"186.017094\"/>\r\n      </g>\r\n     </g>\r\n     <g id=\"text_45\">\r\n      <!-- Bakery -->\r\n      <g transform=\"translate(786.314583 189.816313)scale(0.1 -0.1)\">\r\n       <use xlink:href=\"#DejaVuSans-66\"/>\r\n       <use x=\"68.603516\" xlink:href=\"#DejaVuSans-97\"/>\r\n       <use x=\"129.882812\" xlink:href=\"#DejaVuSans-107\"/>\r\n       <use x=\"184.167969\" xlink:href=\"#DejaVuSans-101\"/>\r\n       <use x=\"245.691406\" xlink:href=\"#DejaVuSans-114\"/>\r\n       <use x=\"286.804688\" xlink:href=\"#DejaVuSans-121\"/>\r\n      </g>\r\n     </g>\r\n    </g>\r\n    <g id=\"ytick_26\">\r\n     <g id=\"line2d_41\">\r\n      <g>\r\n       <use style=\"stroke:#000000;stroke-width:0.8;\" x=\"827.914583\" xlink:href=\"#mc5ac022390\" y=\"155.419156\"/>\r\n      </g>\r\n     </g>\r\n     <g id=\"text_46\">\r\n      <!-- Café -->\r\n      <g transform=\"translate(798.130208 159.218375)scale(0.1 -0.1)\">\r\n       <use xlink:href=\"#DejaVuSans-67\"/>\r\n       <use x=\"69.824219\" xlink:href=\"#DejaVuSans-97\"/>\r\n       <use x=\"131.103516\" xlink:href=\"#DejaVuSans-102\"/>\r\n       <use x=\"166.308594\" xlink:href=\"#DejaVuSans-233\"/>\r\n      </g>\r\n     </g>\r\n    </g>\r\n    <g id=\"ytick_27\">\r\n     <g id=\"line2d_42\">\r\n      <g>\r\n       <use style=\"stroke:#000000;stroke-width:0.8;\" x=\"827.914583\" xlink:href=\"#mc5ac022390\" y=\"124.821218\"/>\r\n      </g>\r\n     </g>\r\n     <g id=\"text_47\">\r\n      <!-- Pizza Place -->\r\n      <g transform=\"translate(765.941146 128.620437)scale(0.1 -0.1)\">\r\n       <use xlink:href=\"#DejaVuSans-80\"/>\r\n       <use x=\"58.052734\" xlink:href=\"#DejaVuSans-105\"/>\r\n       <use x=\"85.835938\" xlink:href=\"#DejaVuSans-122\"/>\r\n       <use x=\"138.326172\" xlink:href=\"#DejaVuSans-122\"/>\r\n       <use x=\"190.816406\" xlink:href=\"#DejaVuSans-97\"/>\r\n       <use x=\"252.095703\" xlink:href=\"#DejaVuSans-32\"/>\r\n       <use x=\"283.882812\" xlink:href=\"#DejaVuSans-80\"/>\r\n       <use x=\"344.185547\" xlink:href=\"#DejaVuSans-108\"/>\r\n       <use x=\"371.96875\" xlink:href=\"#DejaVuSans-97\"/>\r\n       <use x=\"433.248047\" xlink:href=\"#DejaVuSans-99\"/>\r\n       <use x=\"488.228516\" xlink:href=\"#DejaVuSans-101\"/>\r\n      </g>\r\n     </g>\r\n    </g>\r\n    <g id=\"ytick_28\">\r\n     <g id=\"line2d_43\">\r\n      <g>\r\n       <use style=\"stroke:#000000;stroke-width:0.8;\" x=\"827.914583\" xlink:href=\"#mc5ac022390\" y=\"94.22328\"/>\r\n      </g>\r\n     </g>\r\n     <g id=\"text_48\">\r\n      <!-- Clothing Store -->\r\n      <g transform=\"translate(749.708333 98.022498)scale(0.1 -0.1)\">\r\n       <use xlink:href=\"#DejaVuSans-67\"/>\r\n       <use x=\"69.824219\" xlink:href=\"#DejaVuSans-108\"/>\r\n       <use x=\"97.607422\" xlink:href=\"#DejaVuSans-111\"/>\r\n       <use x=\"158.789062\" xlink:href=\"#DejaVuSans-116\"/>\r\n       <use x=\"197.998047\" xlink:href=\"#DejaVuSans-104\"/>\r\n       <use x=\"261.376953\" xlink:href=\"#DejaVuSans-105\"/>\r\n       <use x=\"289.160156\" xlink:href=\"#DejaVuSans-110\"/>\r\n       <use x=\"352.539062\" xlink:href=\"#DejaVuSans-103\"/>\r\n       <use x=\"416.015625\" xlink:href=\"#DejaVuSans-32\"/>\r\n       <use x=\"447.802734\" xlink:href=\"#DejaVuSans-83\"/>\r\n       <use x=\"511.279297\" xlink:href=\"#DejaVuSans-116\"/>\r\n       <use x=\"550.488281\" xlink:href=\"#DejaVuSans-111\"/>\r\n       <use x=\"611.669922\" xlink:href=\"#DejaVuSans-114\"/>\r\n       <use x=\"650.533203\" xlink:href=\"#DejaVuSans-101\"/>\r\n      </g>\r\n     </g>\r\n    </g>\r\n    <g id=\"ytick_29\">\r\n     <g id=\"line2d_44\">\r\n      <g>\r\n       <use style=\"stroke:#000000;stroke-width:0.8;\" x=\"827.914583\" xlink:href=\"#mc5ac022390\" y=\"63.625341\"/>\r\n      </g>\r\n     </g>\r\n     <g id=\"text_49\">\r\n      <!-- Pub -->\r\n      <g transform=\"translate(802.373958 67.42456)scale(0.1 -0.1)\">\r\n       <use xlink:href=\"#DejaVuSans-80\"/>\r\n       <use x=\"58.552734\" xlink:href=\"#DejaVuSans-117\"/>\r\n       <use x=\"121.931641\" xlink:href=\"#DejaVuSans-98\"/>\r\n      </g>\r\n     </g>\r\n    </g>\r\n    <g id=\"ytick_30\">\r\n     <g id=\"line2d_45\">\r\n      <g>\r\n       <use style=\"stroke:#000000;stroke-width:0.8;\" x=\"827.914583\" xlink:href=\"#mc5ac022390\" y=\"33.027403\"/>\r\n      </g>\r\n     </g>\r\n     <g id=\"text_50\">\r\n      <!-- Coffee Shop -->\r\n      <g transform=\"translate(760.134896 36.826622)scale(0.1 -0.1)\">\r\n       <use xlink:href=\"#DejaVuSans-67\"/>\r\n       <use x=\"69.824219\" xlink:href=\"#DejaVuSans-111\"/>\r\n       <use x=\"131.005859\" xlink:href=\"#DejaVuSans-102\"/>\r\n       <use x=\"166.210938\" xlink:href=\"#DejaVuSans-102\"/>\r\n       <use x=\"201.416016\" xlink:href=\"#DejaVuSans-101\"/>\r\n       <use x=\"262.939453\" xlink:href=\"#DejaVuSans-101\"/>\r\n       <use x=\"324.462891\" xlink:href=\"#DejaVuSans-32\"/>\r\n       <use x=\"356.25\" xlink:href=\"#DejaVuSans-83\"/>\r\n       <use x=\"419.726562\" xlink:href=\"#DejaVuSans-104\"/>\r\n       <use x=\"483.105469\" xlink:href=\"#DejaVuSans-111\"/>\r\n       <use x=\"544.287109\" xlink:href=\"#DejaVuSans-112\"/>\r\n      </g>\r\n     </g>\r\n    </g>\r\n   </g>\r\n   <g id=\"patch_43\">\r\n    <path d=\"M 827.914583 319.118125 \r\nL 827.914583 22.318125 \r\n\" style=\"fill:none;stroke:#000000;stroke-linecap:square;stroke-linejoin:miter;stroke-width:0.8;\"/>\r\n   </g>\r\n   <g id=\"patch_44\">\r\n    <path d=\"M 1059.30625 319.118125 \r\nL 1059.30625 22.318125 \r\n\" style=\"fill:none;stroke:#000000;stroke-linecap:square;stroke-linejoin:miter;stroke-width:0.8;\"/>\r\n   </g>\r\n   <g id=\"patch_45\">\r\n    <path d=\"M 827.914583 319.118125 \r\nL 1059.30625 319.118125 \r\n\" style=\"fill:none;stroke:#000000;stroke-linecap:square;stroke-linejoin:miter;stroke-width:0.8;\"/>\r\n   </g>\r\n   <g id=\"patch_46\">\r\n    <path d=\"M 827.914583 22.318125 \r\nL 1059.30625 22.318125 \r\n\" style=\"fill:none;stroke:#000000;stroke-linecap:square;stroke-linejoin:miter;stroke-width:0.8;\"/>\r\n   </g>\r\n   <g id=\"text_51\">\r\n    <!-- Cluster 2 -->\r\n    <g transform=\"translate(916.590729 16.318125)scale(0.12 -0.12)\">\r\n     <use xlink:href=\"#DejaVuSans-67\"/>\r\n     <use x=\"69.824219\" xlink:href=\"#DejaVuSans-108\"/>\r\n     <use x=\"97.607422\" xlink:href=\"#DejaVuSans-117\"/>\r\n     <use x=\"160.986328\" xlink:href=\"#DejaVuSans-115\"/>\r\n     <use x=\"213.085938\" xlink:href=\"#DejaVuSans-116\"/>\r\n     <use x=\"252.294922\" xlink:href=\"#DejaVuSans-101\"/>\r\n     <use x=\"313.818359\" xlink:href=\"#DejaVuSans-114\"/>\r\n     <use x=\"354.931641\" xlink:href=\"#DejaVuSans-32\"/>\r\n     <use x=\"386.71875\" xlink:href=\"#DejaVuSans-50\"/>\r\n    </g>\r\n   </g>\r\n  </g>\r\n  <g id=\"axes_4\">\r\n   <g id=\"patch_47\">\r\n    <path d=\"M 107.28125 673.718125 \r\nL 338.672917 673.718125 \r\nL 338.672917 376.918125 \r\nL 107.28125 376.918125 \r\nz\r\n\" style=\"fill:#ffffff;\"/>\r\n   </g>\r\n   <g id=\"patch_48\">\r\n    <path clip-path=\"url(#p084b949fd6)\" d=\"M 107.28125 666.06864 \r\nL 153.559583 666.06864 \r\nL 153.559583 659.949053 \r\nL 107.28125 659.949053 \r\nz\r\n\" style=\"fill:#4d004b;\"/>\r\n   </g>\r\n   <g id=\"patch_49\">\r\n    <path clip-path=\"url(#p084b949fd6)\" d=\"M 107.28125 635.470702 \r\nL 176.69875 635.470702 \r\nL 176.69875 629.351115 \r\nL 107.28125 629.351115 \r\nz\r\n\" style=\"fill:#4d004b;\"/>\r\n   </g>\r\n   <g id=\"patch_50\">\r\n    <path clip-path=\"url(#p084b949fd6)\" d=\"M 107.28125 604.872764 \r\nL 176.69875 604.872764 \r\nL 176.69875 598.753177 \r\nL 107.28125 598.753177 \r\nz\r\n\" style=\"fill:#4d004b;\"/>\r\n   </g>\r\n   <g id=\"patch_51\">\r\n    <path clip-path=\"url(#p084b949fd6)\" d=\"M 107.28125 574.274826 \r\nL 188.268333 574.274826 \r\nL 188.268333 568.155238 \r\nL 107.28125 568.155238 \r\nz\r\n\" style=\"fill:#4d004b;\"/>\r\n   </g>\r\n   <g id=\"patch_52\">\r\n    <path clip-path=\"url(#p084b949fd6)\" d=\"M 107.28125 543.676888 \r\nL 188.268333 543.676888 \r\nL 188.268333 537.5573 \r\nL 107.28125 537.5573 \r\nz\r\n\" style=\"fill:#4d004b;\"/>\r\n   </g>\r\n   <g id=\"patch_53\">\r\n    <path clip-path=\"url(#p084b949fd6)\" d=\"M 107.28125 513.07895 \r\nL 188.268333 513.07895 \r\nL 188.268333 506.959362 \r\nL 107.28125 506.959362 \r\nz\r\n\" style=\"fill:#4d004b;\"/>\r\n   </g>\r\n   <g id=\"patch_54\">\r\n    <path clip-path=\"url(#p084b949fd6)\" d=\"M 107.28125 482.481012 \r\nL 199.837917 482.481012 \r\nL 199.837917 476.361424 \r\nL 107.28125 476.361424 \r\nz\r\n\" style=\"fill:#4d004b;\"/>\r\n   </g>\r\n   <g id=\"patch_55\">\r\n    <path clip-path=\"url(#p084b949fd6)\" d=\"M 107.28125 451.883073 \r\nL 211.4075 451.883073 \r\nL 211.4075 445.763486 \r\nL 107.28125 445.763486 \r\nz\r\n\" style=\"fill:#4d004b;\"/>\r\n   </g>\r\n   <g id=\"patch_56\">\r\n    <path clip-path=\"url(#p084b949fd6)\" d=\"M 107.28125 421.285135 \r\nL 246.11625 421.285135 \r\nL 246.11625 415.165548 \r\nL 107.28125 415.165548 \r\nz\r\n\" style=\"fill:#4d004b;\"/>\r\n   </g>\r\n   <g id=\"patch_57\">\r\n    <path clip-path=\"url(#p084b949fd6)\" d=\"M 107.28125 390.687197 \r\nL 280.825 390.687197 \r\nL 280.825 384.56761 \r\nL 107.28125 384.56761 \r\nz\r\n\" style=\"fill:#4d004b;\"/>\r\n   </g>\r\n   <g id=\"matplotlib.axis_7\">\r\n    <g id=\"xtick_16\">\r\n     <g id=\"line2d_46\">\r\n      <g>\r\n       <use style=\"stroke:#000000;stroke-width:0.8;\" x=\"107.28125\" xlink:href=\"#m6fafd929b4\" y=\"673.718125\"/>\r\n      </g>\r\n     </g>\r\n     <g id=\"text_52\">\r\n      <!-- 0 -->\r\n      <g transform=\"translate(104.1 688.316562)scale(0.1 -0.1)\">\r\n       <use xlink:href=\"#DejaVuSans-48\"/>\r\n      </g>\r\n     </g>\r\n    </g>\r\n    <g id=\"xtick_17\">\r\n     <g id=\"line2d_47\">\r\n      <g>\r\n       <use style=\"stroke:#000000;stroke-width:0.8;\" x=\"165.129167\" xlink:href=\"#m6fafd929b4\" y=\"673.718125\"/>\r\n      </g>\r\n     </g>\r\n     <g id=\"text_53\">\r\n      <!-- 5 -->\r\n      <g transform=\"translate(161.947917 688.316562)scale(0.1 -0.1)\">\r\n       <use xlink:href=\"#DejaVuSans-53\"/>\r\n      </g>\r\n     </g>\r\n    </g>\r\n    <g id=\"xtick_18\">\r\n     <g id=\"line2d_48\">\r\n      <g>\r\n       <use style=\"stroke:#000000;stroke-width:0.8;\" x=\"222.977083\" xlink:href=\"#m6fafd929b4\" y=\"673.718125\"/>\r\n      </g>\r\n     </g>\r\n     <g id=\"text_54\">\r\n      <!-- 10 -->\r\n      <g transform=\"translate(216.614583 688.316562)scale(0.1 -0.1)\">\r\n       <use xlink:href=\"#DejaVuSans-49\"/>\r\n       <use x=\"63.623047\" xlink:href=\"#DejaVuSans-48\"/>\r\n      </g>\r\n     </g>\r\n    </g>\r\n    <g id=\"xtick_19\">\r\n     <g id=\"line2d_49\">\r\n      <g>\r\n       <use style=\"stroke:#000000;stroke-width:0.8;\" x=\"280.825\" xlink:href=\"#m6fafd929b4\" y=\"673.718125\"/>\r\n      </g>\r\n     </g>\r\n     <g id=\"text_55\">\r\n      <!-- 15 -->\r\n      <g transform=\"translate(274.4625 688.316562)scale(0.1 -0.1)\">\r\n       <use xlink:href=\"#DejaVuSans-49\"/>\r\n       <use x=\"63.623047\" xlink:href=\"#DejaVuSans-53\"/>\r\n      </g>\r\n     </g>\r\n    </g>\r\n    <g id=\"xtick_20\">\r\n     <g id=\"line2d_50\">\r\n      <g>\r\n       <use style=\"stroke:#000000;stroke-width:0.8;\" x=\"338.672917\" xlink:href=\"#m6fafd929b4\" y=\"673.718125\"/>\r\n      </g>\r\n     </g>\r\n     <g id=\"text_56\">\r\n      <!-- 20 -->\r\n      <g transform=\"translate(332.310417 688.316562)scale(0.1 -0.1)\">\r\n       <use xlink:href=\"#DejaVuSans-50\"/>\r\n       <use x=\"63.623047\" xlink:href=\"#DejaVuSans-48\"/>\r\n      </g>\r\n     </g>\r\n    </g>\r\n    <g id=\"text_57\">\r\n     <!-- No. of venues -->\r\n     <g transform=\"translate(188.623177 701.994687)scale(0.1 -0.1)\">\r\n      <use xlink:href=\"#DejaVuSans-78\"/>\r\n      <use x=\"74.804688\" xlink:href=\"#DejaVuSans-111\"/>\r\n      <use x=\"134.236328\" xlink:href=\"#DejaVuSans-46\"/>\r\n      <use x=\"166.023438\" xlink:href=\"#DejaVuSans-32\"/>\r\n      <use x=\"197.810547\" xlink:href=\"#DejaVuSans-111\"/>\r\n      <use x=\"258.992188\" xlink:href=\"#DejaVuSans-102\"/>\r\n      <use x=\"294.197266\" xlink:href=\"#DejaVuSans-32\"/>\r\n      <use x=\"325.984375\" xlink:href=\"#DejaVuSans-118\"/>\r\n      <use x=\"385.164062\" xlink:href=\"#DejaVuSans-101\"/>\r\n      <use x=\"446.6875\" xlink:href=\"#DejaVuSans-110\"/>\r\n      <use x=\"510.066406\" xlink:href=\"#DejaVuSans-117\"/>\r\n      <use x=\"573.445312\" xlink:href=\"#DejaVuSans-101\"/>\r\n      <use x=\"634.96875\" xlink:href=\"#DejaVuSans-115\"/>\r\n     </g>\r\n    </g>\r\n   </g>\r\n   <g id=\"matplotlib.axis_8\">\r\n    <g id=\"ytick_31\">\r\n     <g id=\"line2d_51\">\r\n      <g>\r\n       <use style=\"stroke:#000000;stroke-width:0.8;\" x=\"107.28125\" xlink:href=\"#mc5ac022390\" y=\"663.008847\"/>\r\n      </g>\r\n     </g>\r\n     <g id=\"text_58\">\r\n      <!-- Pizza Place -->\r\n      <g transform=\"translate(45.307813 666.808065)scale(0.1 -0.1)\">\r\n       <use xlink:href=\"#DejaVuSans-80\"/>\r\n       <use x=\"58.052734\" xlink:href=\"#DejaVuSans-105\"/>\r\n       <use x=\"85.835938\" xlink:href=\"#DejaVuSans-122\"/>\r\n       <use x=\"138.326172\" xlink:href=\"#DejaVuSans-122\"/>\r\n       <use x=\"190.816406\" xlink:href=\"#DejaVuSans-97\"/>\r\n       <use x=\"252.095703\" xlink:href=\"#DejaVuSans-32\"/>\r\n       <use x=\"283.882812\" xlink:href=\"#DejaVuSans-80\"/>\r\n       <use x=\"344.185547\" xlink:href=\"#DejaVuSans-108\"/>\r\n       <use x=\"371.96875\" xlink:href=\"#DejaVuSans-97\"/>\r\n       <use x=\"433.248047\" xlink:href=\"#DejaVuSans-99\"/>\r\n       <use x=\"488.228516\" xlink:href=\"#DejaVuSans-101\"/>\r\n      </g>\r\n     </g>\r\n    </g>\r\n    <g id=\"ytick_32\">\r\n     <g id=\"line2d_52\">\r\n      <g>\r\n       <use style=\"stroke:#000000;stroke-width:0.8;\" x=\"107.28125\" xlink:href=\"#mc5ac022390\" y=\"632.410909\"/>\r\n      </g>\r\n     </g>\r\n     <g id=\"text_59\">\r\n      <!-- Pharmacy -->\r\n      <g transform=\"translate(50.564063 636.210127)scale(0.1 -0.1)\">\r\n       <use xlink:href=\"#DejaVuSans-80\"/>\r\n       <use x=\"60.302734\" xlink:href=\"#DejaVuSans-104\"/>\r\n       <use x=\"123.681641\" xlink:href=\"#DejaVuSans-97\"/>\r\n       <use x=\"184.960938\" xlink:href=\"#DejaVuSans-114\"/>\r\n       <use x=\"224.324219\" xlink:href=\"#DejaVuSans-109\"/>\r\n       <use x=\"321.736328\" xlink:href=\"#DejaVuSans-97\"/>\r\n       <use x=\"383.015625\" xlink:href=\"#DejaVuSans-99\"/>\r\n       <use x=\"437.996094\" xlink:href=\"#DejaVuSans-121\"/>\r\n      </g>\r\n     </g>\r\n    </g>\r\n    <g id=\"ytick_33\">\r\n     <g id=\"line2d_53\">\r\n      <g>\r\n       <use style=\"stroke:#000000;stroke-width:0.8;\" x=\"107.28125\" xlink:href=\"#mc5ac022390\" y=\"601.81297\"/>\r\n      </g>\r\n     </g>\r\n     <g id=\"text_60\">\r\n      <!-- Italian Restaurant -->\r\n      <g transform=\"translate(11.339063 605.612189)scale(0.1 -0.1)\">\r\n       <use xlink:href=\"#DejaVuSans-73\"/>\r\n       <use x=\"29.492188\" xlink:href=\"#DejaVuSans-116\"/>\r\n       <use x=\"68.701172\" xlink:href=\"#DejaVuSans-97\"/>\r\n       <use x=\"129.980469\" xlink:href=\"#DejaVuSans-108\"/>\r\n       <use x=\"157.763672\" xlink:href=\"#DejaVuSans-105\"/>\r\n       <use x=\"185.546875\" xlink:href=\"#DejaVuSans-97\"/>\r\n       <use x=\"246.826172\" xlink:href=\"#DejaVuSans-110\"/>\r\n       <use x=\"310.205078\" xlink:href=\"#DejaVuSans-32\"/>\r\n       <use x=\"341.992188\" xlink:href=\"#DejaVuSans-82\"/>\r\n       <use x=\"406.974609\" xlink:href=\"#DejaVuSans-101\"/>\r\n       <use x=\"468.498047\" xlink:href=\"#DejaVuSans-115\"/>\r\n       <use x=\"520.597656\" xlink:href=\"#DejaVuSans-116\"/>\r\n       <use x=\"559.806641\" xlink:href=\"#DejaVuSans-97\"/>\r\n       <use x=\"621.085938\" xlink:href=\"#DejaVuSans-117\"/>\r\n       <use x=\"684.464844\" xlink:href=\"#DejaVuSans-114\"/>\r\n       <use x=\"725.578125\" xlink:href=\"#DejaVuSans-97\"/>\r\n       <use x=\"786.857422\" xlink:href=\"#DejaVuSans-110\"/>\r\n       <use x=\"850.236328\" xlink:href=\"#DejaVuSans-116\"/>\r\n      </g>\r\n     </g>\r\n    </g>\r\n    <g id=\"ytick_34\">\r\n     <g id=\"line2d_54\">\r\n      <g>\r\n       <use style=\"stroke:#000000;stroke-width:0.8;\" x=\"107.28125\" xlink:href=\"#mc5ac022390\" y=\"571.215032\"/>\r\n      </g>\r\n     </g>\r\n     <g id=\"text_61\">\r\n      <!-- Grocery Store -->\r\n      <g transform=\"translate(31.242188 575.014251)scale(0.1 -0.1)\">\r\n       <use xlink:href=\"#DejaVuSans-71\"/>\r\n       <use x=\"77.490234\" xlink:href=\"#DejaVuSans-114\"/>\r\n       <use x=\"116.353516\" xlink:href=\"#DejaVuSans-111\"/>\r\n       <use x=\"177.535156\" xlink:href=\"#DejaVuSans-99\"/>\r\n       <use x=\"232.515625\" xlink:href=\"#DejaVuSans-101\"/>\r\n       <use x=\"294.039062\" xlink:href=\"#DejaVuSans-114\"/>\r\n       <use x=\"335.152344\" xlink:href=\"#DejaVuSans-121\"/>\r\n       <use x=\"394.332031\" xlink:href=\"#DejaVuSans-32\"/>\r\n       <use x=\"426.119141\" xlink:href=\"#DejaVuSans-83\"/>\r\n       <use x=\"489.595703\" xlink:href=\"#DejaVuSans-116\"/>\r\n       <use x=\"528.804688\" xlink:href=\"#DejaVuSans-111\"/>\r\n       <use x=\"589.986328\" xlink:href=\"#DejaVuSans-114\"/>\r\n       <use x=\"628.849609\" xlink:href=\"#DejaVuSans-101\"/>\r\n      </g>\r\n     </g>\r\n    </g>\r\n    <g id=\"ytick_35\">\r\n     <g id=\"line2d_55\">\r\n      <g>\r\n       <use style=\"stroke:#000000;stroke-width:0.8;\" x=\"107.28125\" xlink:href=\"#mc5ac022390\" y=\"540.617094\"/>\r\n      </g>\r\n     </g>\r\n     <g id=\"text_62\">\r\n      <!-- Supermarket -->\r\n      <g transform=\"translate(35.676563 544.416313)scale(0.1 -0.1)\">\r\n       <use xlink:href=\"#DejaVuSans-83\"/>\r\n       <use x=\"63.476562\" xlink:href=\"#DejaVuSans-117\"/>\r\n       <use x=\"126.855469\" xlink:href=\"#DejaVuSans-112\"/>\r\n       <use x=\"190.332031\" xlink:href=\"#DejaVuSans-101\"/>\r\n       <use x=\"251.855469\" xlink:href=\"#DejaVuSans-114\"/>\r\n       <use x=\"291.21875\" xlink:href=\"#DejaVuSans-109\"/>\r\n       <use x=\"388.630859\" xlink:href=\"#DejaVuSans-97\"/>\r\n       <use x=\"449.910156\" xlink:href=\"#DejaVuSans-114\"/>\r\n       <use x=\"491.023438\" xlink:href=\"#DejaVuSans-107\"/>\r\n       <use x=\"545.308594\" xlink:href=\"#DejaVuSans-101\"/>\r\n       <use x=\"606.832031\" xlink:href=\"#DejaVuSans-116\"/>\r\n      </g>\r\n     </g>\r\n    </g>\r\n    <g id=\"ytick_36\">\r\n     <g id=\"line2d_56\">\r\n      <g>\r\n       <use style=\"stroke:#000000;stroke-width:0.8;\" x=\"107.28125\" xlink:href=\"#mc5ac022390\" y=\"510.019156\"/>\r\n      </g>\r\n     </g>\r\n     <g id=\"text_63\">\r\n      <!-- Clothing Store -->\r\n      <g transform=\"translate(29.075 513.818375)scale(0.1 -0.1)\">\r\n       <use xlink:href=\"#DejaVuSans-67\"/>\r\n       <use x=\"69.824219\" xlink:href=\"#DejaVuSans-108\"/>\r\n       <use x=\"97.607422\" xlink:href=\"#DejaVuSans-111\"/>\r\n       <use x=\"158.789062\" xlink:href=\"#DejaVuSans-116\"/>\r\n       <use x=\"197.998047\" xlink:href=\"#DejaVuSans-104\"/>\r\n       <use x=\"261.376953\" xlink:href=\"#DejaVuSans-105\"/>\r\n       <use x=\"289.160156\" xlink:href=\"#DejaVuSans-110\"/>\r\n       <use x=\"352.539062\" xlink:href=\"#DejaVuSans-103\"/>\r\n       <use x=\"416.015625\" xlink:href=\"#DejaVuSans-32\"/>\r\n       <use x=\"447.802734\" xlink:href=\"#DejaVuSans-83\"/>\r\n       <use x=\"511.279297\" xlink:href=\"#DejaVuSans-116\"/>\r\n       <use x=\"550.488281\" xlink:href=\"#DejaVuSans-111\"/>\r\n       <use x=\"611.669922\" xlink:href=\"#DejaVuSans-114\"/>\r\n       <use x=\"650.533203\" xlink:href=\"#DejaVuSans-101\"/>\r\n      </g>\r\n     </g>\r\n    </g>\r\n    <g id=\"ytick_37\">\r\n     <g id=\"line2d_57\">\r\n      <g>\r\n       <use style=\"stroke:#000000;stroke-width:0.8;\" x=\"107.28125\" xlink:href=\"#mc5ac022390\" y=\"479.421218\"/>\r\n      </g>\r\n     </g>\r\n     <g id=\"text_64\">\r\n      <!-- Bakery -->\r\n      <g transform=\"translate(65.68125 483.220437)scale(0.1 -0.1)\">\r\n       <use xlink:href=\"#DejaVuSans-66\"/>\r\n       <use x=\"68.603516\" xlink:href=\"#DejaVuSans-97\"/>\r\n       <use x=\"129.882812\" xlink:href=\"#DejaVuSans-107\"/>\r\n       <use x=\"184.167969\" xlink:href=\"#DejaVuSans-101\"/>\r\n       <use x=\"245.691406\" xlink:href=\"#DejaVuSans-114\"/>\r\n       <use x=\"286.804688\" xlink:href=\"#DejaVuSans-121\"/>\r\n      </g>\r\n     </g>\r\n    </g>\r\n    <g id=\"ytick_38\">\r\n     <g id=\"line2d_58\">\r\n      <g>\r\n       <use style=\"stroke:#000000;stroke-width:0.8;\" x=\"107.28125\" xlink:href=\"#mc5ac022390\" y=\"448.82328\"/>\r\n      </g>\r\n     </g>\r\n     <g id=\"text_65\">\r\n      <!-- Café -->\r\n      <g transform=\"translate(77.496875 452.622498)scale(0.1 -0.1)\">\r\n       <use xlink:href=\"#DejaVuSans-67\"/>\r\n       <use x=\"69.824219\" xlink:href=\"#DejaVuSans-97\"/>\r\n       <use x=\"131.103516\" xlink:href=\"#DejaVuSans-102\"/>\r\n       <use x=\"166.308594\" xlink:href=\"#DejaVuSans-233\"/>\r\n      </g>\r\n     </g>\r\n    </g>\r\n    <g id=\"ytick_39\">\r\n     <g id=\"line2d_59\">\r\n      <g>\r\n       <use style=\"stroke:#000000;stroke-width:0.8;\" x=\"107.28125\" xlink:href=\"#mc5ac022390\" y=\"418.225341\"/>\r\n      </g>\r\n     </g>\r\n     <g id=\"text_66\">\r\n      <!-- Coffee Shop -->\r\n      <g transform=\"translate(39.501563 422.02456)scale(0.1 -0.1)\">\r\n       <use xlink:href=\"#DejaVuSans-67\"/>\r\n       <use x=\"69.824219\" xlink:href=\"#DejaVuSans-111\"/>\r\n       <use x=\"131.005859\" xlink:href=\"#DejaVuSans-102\"/>\r\n       <use x=\"166.210938\" xlink:href=\"#DejaVuSans-102\"/>\r\n       <use x=\"201.416016\" xlink:href=\"#DejaVuSans-101\"/>\r\n       <use x=\"262.939453\" xlink:href=\"#DejaVuSans-101\"/>\r\n       <use x=\"324.462891\" xlink:href=\"#DejaVuSans-32\"/>\r\n       <use x=\"356.25\" xlink:href=\"#DejaVuSans-83\"/>\r\n       <use x=\"419.726562\" xlink:href=\"#DejaVuSans-104\"/>\r\n       <use x=\"483.105469\" xlink:href=\"#DejaVuSans-111\"/>\r\n       <use x=\"544.287109\" xlink:href=\"#DejaVuSans-112\"/>\r\n      </g>\r\n     </g>\r\n    </g>\r\n    <g id=\"ytick_40\">\r\n     <g id=\"line2d_60\">\r\n      <g>\r\n       <use style=\"stroke:#000000;stroke-width:0.8;\" x=\"107.28125\" xlink:href=\"#mc5ac022390\" y=\"387.627403\"/>\r\n      </g>\r\n     </g>\r\n     <g id=\"text_67\">\r\n      <!-- Pub -->\r\n      <g transform=\"translate(81.740625 391.426622)scale(0.1 -0.1)\">\r\n       <use xlink:href=\"#DejaVuSans-80\"/>\r\n       <use x=\"58.552734\" xlink:href=\"#DejaVuSans-117\"/>\r\n       <use x=\"121.931641\" xlink:href=\"#DejaVuSans-98\"/>\r\n      </g>\r\n     </g>\r\n    </g>\r\n   </g>\r\n   <g id=\"patch_58\">\r\n    <path d=\"M 107.28125 673.718125 \r\nL 107.28125 376.918125 \r\n\" style=\"fill:none;stroke:#000000;stroke-linecap:square;stroke-linejoin:miter;stroke-width:0.8;\"/>\r\n   </g>\r\n   <g id=\"patch_59\">\r\n    <path d=\"M 338.672917 673.718125 \r\nL 338.672917 376.918125 \r\n\" style=\"fill:none;stroke:#000000;stroke-linecap:square;stroke-linejoin:miter;stroke-width:0.8;\"/>\r\n   </g>\r\n   <g id=\"patch_60\">\r\n    <path d=\"M 107.28125 673.718125 \r\nL 338.672917 673.718125 \r\n\" style=\"fill:none;stroke:#000000;stroke-linecap:square;stroke-linejoin:miter;stroke-width:0.8;\"/>\r\n   </g>\r\n   <g id=\"patch_61\">\r\n    <path d=\"M 107.28125 376.918125 \r\nL 338.672917 376.918125 \r\n\" style=\"fill:none;stroke:#000000;stroke-linecap:square;stroke-linejoin:miter;stroke-width:0.8;\"/>\r\n   </g>\r\n   <g id=\"text_68\">\r\n    <!-- Cluster 3 -->\r\n    <g transform=\"translate(195.957396 370.918125)scale(0.12 -0.12)\">\r\n     <defs>\r\n      <path d=\"M 40.578125 39.3125 \r\nQ 47.65625 37.796875 51.625 33 \r\nQ 55.609375 28.21875 55.609375 21.1875 \r\nQ 55.609375 10.40625 48.1875 4.484375 \r\nQ 40.765625 -1.421875 27.09375 -1.421875 \r\nQ 22.515625 -1.421875 17.65625 -0.515625 \r\nQ 12.796875 0.390625 7.625 2.203125 \r\nL 7.625 11.71875 \r\nQ 11.71875 9.328125 16.59375 8.109375 \r\nQ 21.484375 6.890625 26.8125 6.890625 \r\nQ 36.078125 6.890625 40.9375 10.546875 \r\nQ 45.796875 14.203125 45.796875 21.1875 \r\nQ 45.796875 27.640625 41.28125 31.265625 \r\nQ 36.765625 34.90625 28.71875 34.90625 \r\nL 20.21875 34.90625 \r\nL 20.21875 43.015625 \r\nL 29.109375 43.015625 \r\nQ 36.375 43.015625 40.234375 45.921875 \r\nQ 44.09375 48.828125 44.09375 54.296875 \r\nQ 44.09375 59.90625 40.109375 62.90625 \r\nQ 36.140625 65.921875 28.71875 65.921875 \r\nQ 24.65625 65.921875 20.015625 65.03125 \r\nQ 15.375 64.15625 9.8125 62.3125 \r\nL 9.8125 71.09375 \r\nQ 15.4375 72.65625 20.34375 73.4375 \r\nQ 25.25 74.21875 29.59375 74.21875 \r\nQ 40.828125 74.21875 47.359375 69.109375 \r\nQ 53.90625 64.015625 53.90625 55.328125 \r\nQ 53.90625 49.265625 50.4375 45.09375 \r\nQ 46.96875 40.921875 40.578125 39.3125 \r\nz\r\n\" id=\"DejaVuSans-51\"/>\r\n     </defs>\r\n     <use xlink:href=\"#DejaVuSans-67\"/>\r\n     <use x=\"69.824219\" xlink:href=\"#DejaVuSans-108\"/>\r\n     <use x=\"97.607422\" xlink:href=\"#DejaVuSans-117\"/>\r\n     <use x=\"160.986328\" xlink:href=\"#DejaVuSans-115\"/>\r\n     <use x=\"213.085938\" xlink:href=\"#DejaVuSans-116\"/>\r\n     <use x=\"252.294922\" xlink:href=\"#DejaVuSans-101\"/>\r\n     <use x=\"313.818359\" xlink:href=\"#DejaVuSans-114\"/>\r\n     <use x=\"354.931641\" xlink:href=\"#DejaVuSans-32\"/>\r\n     <use x=\"386.71875\" xlink:href=\"#DejaVuSans-51\"/>\r\n    </g>\r\n   </g>\r\n  </g>\r\n  <g id=\"axes_5\">\r\n   <g id=\"patch_62\">\r\n    <path d=\"M 467.597917 673.718125 \r\nL 698.989583 673.718125 \r\nL 698.989583 376.918125 \r\nL 467.597917 376.918125 \r\nz\r\n\" style=\"fill:#ffffff;\"/>\r\n   </g>\r\n   <g id=\"patch_63\">\r\n    <path clip-path=\"url(#pd1ba74904f)\" d=\"M 467.597917 666.06864 \r\nL 490.737083 666.06864 \r\nL 490.737083 659.949053 \r\nL 467.597917 659.949053 \r\nz\r\n\" style=\"fill:#1b9e77;\"/>\r\n   </g>\r\n   <g id=\"patch_64\">\r\n    <path clip-path=\"url(#pd1ba74904f)\" d=\"M 467.597917 635.470702 \r\nL 490.737083 635.470702 \r\nL 490.737083 629.351115 \r\nL 467.597917 629.351115 \r\nz\r\n\" style=\"fill:#1b9e77;\"/>\r\n   </g>\r\n   <g id=\"patch_65\">\r\n    <path clip-path=\"url(#pd1ba74904f)\" d=\"M 467.597917 604.872764 \r\nL 490.737083 604.872764 \r\nL 490.737083 598.753177 \r\nL 467.597917 598.753177 \r\nz\r\n\" style=\"fill:#1b9e77;\"/>\r\n   </g>\r\n   <g id=\"patch_66\">\r\n    <path clip-path=\"url(#pd1ba74904f)\" d=\"M 467.597917 574.274826 \r\nL 502.306667 574.274826 \r\nL 502.306667 568.155238 \r\nL 467.597917 568.155238 \r\nz\r\n\" style=\"fill:#1b9e77;\"/>\r\n   </g>\r\n   <g id=\"patch_67\">\r\n    <path clip-path=\"url(#pd1ba74904f)\" d=\"M 467.597917 543.676888 \r\nL 502.306667 543.676888 \r\nL 502.306667 537.5573 \r\nL 467.597917 537.5573 \r\nz\r\n\" style=\"fill:#1b9e77;\"/>\r\n   </g>\r\n   <g id=\"patch_68\">\r\n    <path clip-path=\"url(#pd1ba74904f)\" d=\"M 467.597917 513.07895 \r\nL 502.306667 513.07895 \r\nL 502.306667 506.959362 \r\nL 467.597917 506.959362 \r\nz\r\n\" style=\"fill:#1b9e77;\"/>\r\n   </g>\r\n   <g id=\"patch_69\">\r\n    <path clip-path=\"url(#pd1ba74904f)\" d=\"M 467.597917 482.481012 \r\nL 513.87625 482.481012 \r\nL 513.87625 476.361424 \r\nL 467.597917 476.361424 \r\nz\r\n\" style=\"fill:#1b9e77;\"/>\r\n   </g>\r\n   <g id=\"patch_70\">\r\n    <path clip-path=\"url(#pd1ba74904f)\" d=\"M 467.597917 451.883073 \r\nL 525.445833 451.883073 \r\nL 525.445833 445.763486 \r\nL 467.597917 445.763486 \r\nz\r\n\" style=\"fill:#1b9e77;\"/>\r\n   </g>\r\n   <g id=\"patch_71\">\r\n    <path clip-path=\"url(#pd1ba74904f)\" d=\"M 467.597917 421.285135 \r\nL 537.015417 421.285135 \r\nL 537.015417 415.165548 \r\nL 467.597917 415.165548 \r\nz\r\n\" style=\"fill:#1b9e77;\"/>\r\n   </g>\r\n   <g id=\"patch_72\">\r\n    <path clip-path=\"url(#pd1ba74904f)\" d=\"M 467.597917 390.687197 \r\nL 537.015417 390.687197 \r\nL 537.015417 384.56761 \r\nL 467.597917 384.56761 \r\nz\r\n\" style=\"fill:#1b9e77;\"/>\r\n   </g>\r\n   <g id=\"matplotlib.axis_9\">\r\n    <g id=\"xtick_21\">\r\n     <g id=\"line2d_61\">\r\n      <g>\r\n       <use style=\"stroke:#000000;stroke-width:0.8;\" x=\"467.597917\" xlink:href=\"#m6fafd929b4\" y=\"673.718125\"/>\r\n      </g>\r\n     </g>\r\n     <g id=\"text_69\">\r\n      <!-- 0 -->\r\n      <g transform=\"translate(464.416667 688.316562)scale(0.1 -0.1)\">\r\n       <use xlink:href=\"#DejaVuSans-48\"/>\r\n      </g>\r\n     </g>\r\n    </g>\r\n    <g id=\"xtick_22\">\r\n     <g id=\"line2d_62\">\r\n      <g>\r\n       <use style=\"stroke:#000000;stroke-width:0.8;\" x=\"525.445833\" xlink:href=\"#m6fafd929b4\" y=\"673.718125\"/>\r\n      </g>\r\n     </g>\r\n     <g id=\"text_70\">\r\n      <!-- 5 -->\r\n      <g transform=\"translate(522.264583 688.316562)scale(0.1 -0.1)\">\r\n       <use xlink:href=\"#DejaVuSans-53\"/>\r\n      </g>\r\n     </g>\r\n    </g>\r\n    <g id=\"xtick_23\">\r\n     <g id=\"line2d_63\">\r\n      <g>\r\n       <use style=\"stroke:#000000;stroke-width:0.8;\" x=\"583.29375\" xlink:href=\"#m6fafd929b4\" y=\"673.718125\"/>\r\n      </g>\r\n     </g>\r\n     <g id=\"text_71\">\r\n      <!-- 10 -->\r\n      <g transform=\"translate(576.93125 688.316562)scale(0.1 -0.1)\">\r\n       <use xlink:href=\"#DejaVuSans-49\"/>\r\n       <use x=\"63.623047\" xlink:href=\"#DejaVuSans-48\"/>\r\n      </g>\r\n     </g>\r\n    </g>\r\n    <g id=\"xtick_24\">\r\n     <g id=\"line2d_64\">\r\n      <g>\r\n       <use style=\"stroke:#000000;stroke-width:0.8;\" x=\"641.141667\" xlink:href=\"#m6fafd929b4\" y=\"673.718125\"/>\r\n      </g>\r\n     </g>\r\n     <g id=\"text_72\">\r\n      <!-- 15 -->\r\n      <g transform=\"translate(634.779167 688.316562)scale(0.1 -0.1)\">\r\n       <use xlink:href=\"#DejaVuSans-49\"/>\r\n       <use x=\"63.623047\" xlink:href=\"#DejaVuSans-53\"/>\r\n      </g>\r\n     </g>\r\n    </g>\r\n    <g id=\"xtick_25\">\r\n     <g id=\"line2d_65\">\r\n      <g>\r\n       <use style=\"stroke:#000000;stroke-width:0.8;\" x=\"698.989583\" xlink:href=\"#m6fafd929b4\" y=\"673.718125\"/>\r\n      </g>\r\n     </g>\r\n     <g id=\"text_73\">\r\n      <!-- 20 -->\r\n      <g transform=\"translate(692.627083 688.316562)scale(0.1 -0.1)\">\r\n       <use xlink:href=\"#DejaVuSans-50\"/>\r\n       <use x=\"63.623047\" xlink:href=\"#DejaVuSans-48\"/>\r\n      </g>\r\n     </g>\r\n    </g>\r\n    <g id=\"text_74\">\r\n     <!-- No. of venues -->\r\n     <g transform=\"translate(548.939844 701.994687)scale(0.1 -0.1)\">\r\n      <use xlink:href=\"#DejaVuSans-78\"/>\r\n      <use x=\"74.804688\" xlink:href=\"#DejaVuSans-111\"/>\r\n      <use x=\"134.236328\" xlink:href=\"#DejaVuSans-46\"/>\r\n      <use x=\"166.023438\" xlink:href=\"#DejaVuSans-32\"/>\r\n      <use x=\"197.810547\" xlink:href=\"#DejaVuSans-111\"/>\r\n      <use x=\"258.992188\" xlink:href=\"#DejaVuSans-102\"/>\r\n      <use x=\"294.197266\" xlink:href=\"#DejaVuSans-32\"/>\r\n      <use x=\"325.984375\" xlink:href=\"#DejaVuSans-118\"/>\r\n      <use x=\"385.164062\" xlink:href=\"#DejaVuSans-101\"/>\r\n      <use x=\"446.6875\" xlink:href=\"#DejaVuSans-110\"/>\r\n      <use x=\"510.066406\" xlink:href=\"#DejaVuSans-117\"/>\r\n      <use x=\"573.445312\" xlink:href=\"#DejaVuSans-101\"/>\r\n      <use x=\"634.96875\" xlink:href=\"#DejaVuSans-115\"/>\r\n     </g>\r\n    </g>\r\n   </g>\r\n   <g id=\"matplotlib.axis_10\">\r\n    <g id=\"ytick_41\">\r\n     <g id=\"line2d_66\">\r\n      <g>\r\n       <use style=\"stroke:#000000;stroke-width:0.8;\" x=\"467.597917\" xlink:href=\"#mc5ac022390\" y=\"663.008847\"/>\r\n      </g>\r\n     </g>\r\n     <g id=\"text_75\">\r\n      <!-- Bakery -->\r\n      <g transform=\"translate(425.997917 666.808065)scale(0.1 -0.1)\">\r\n       <use xlink:href=\"#DejaVuSans-66\"/>\r\n       <use x=\"68.603516\" xlink:href=\"#DejaVuSans-97\"/>\r\n       <use x=\"129.882812\" xlink:href=\"#DejaVuSans-107\"/>\r\n       <use x=\"184.167969\" xlink:href=\"#DejaVuSans-101\"/>\r\n       <use x=\"245.691406\" xlink:href=\"#DejaVuSans-114\"/>\r\n       <use x=\"286.804688\" xlink:href=\"#DejaVuSans-121\"/>\r\n      </g>\r\n     </g>\r\n    </g>\r\n    <g id=\"ytick_42\">\r\n     <g id=\"line2d_67\">\r\n      <g>\r\n       <use style=\"stroke:#000000;stroke-width:0.8;\" x=\"467.597917\" xlink:href=\"#mc5ac022390\" y=\"632.410909\"/>\r\n      </g>\r\n     </g>\r\n     <g id=\"text_76\">\r\n      <!-- Pharmacy -->\r\n      <g transform=\"translate(410.880729 636.210127)scale(0.1 -0.1)\">\r\n       <use xlink:href=\"#DejaVuSans-80\"/>\r\n       <use x=\"60.302734\" xlink:href=\"#DejaVuSans-104\"/>\r\n       <use x=\"123.681641\" xlink:href=\"#DejaVuSans-97\"/>\r\n       <use x=\"184.960938\" xlink:href=\"#DejaVuSans-114\"/>\r\n       <use x=\"224.324219\" xlink:href=\"#DejaVuSans-109\"/>\r\n       <use x=\"321.736328\" xlink:href=\"#DejaVuSans-97\"/>\r\n       <use x=\"383.015625\" xlink:href=\"#DejaVuSans-99\"/>\r\n       <use x=\"437.996094\" xlink:href=\"#DejaVuSans-121\"/>\r\n      </g>\r\n     </g>\r\n    </g>\r\n    <g id=\"ytick_43\">\r\n     <g id=\"line2d_68\">\r\n      <g>\r\n       <use style=\"stroke:#000000;stroke-width:0.8;\" x=\"467.597917\" xlink:href=\"#mc5ac022390\" y=\"601.81297\"/>\r\n      </g>\r\n     </g>\r\n     <g id=\"text_77\">\r\n      <!-- Italian Restaurant -->\r\n      <g transform=\"translate(371.655729 605.612189)scale(0.1 -0.1)\">\r\n       <use xlink:href=\"#DejaVuSans-73\"/>\r\n       <use x=\"29.492188\" xlink:href=\"#DejaVuSans-116\"/>\r\n       <use x=\"68.701172\" xlink:href=\"#DejaVuSans-97\"/>\r\n       <use x=\"129.980469\" xlink:href=\"#DejaVuSans-108\"/>\r\n       <use x=\"157.763672\" xlink:href=\"#DejaVuSans-105\"/>\r\n       <use x=\"185.546875\" xlink:href=\"#DejaVuSans-97\"/>\r\n       <use x=\"246.826172\" xlink:href=\"#DejaVuSans-110\"/>\r\n       <use x=\"310.205078\" xlink:href=\"#DejaVuSans-32\"/>\r\n       <use x=\"341.992188\" xlink:href=\"#DejaVuSans-82\"/>\r\n       <use x=\"406.974609\" xlink:href=\"#DejaVuSans-101\"/>\r\n       <use x=\"468.498047\" xlink:href=\"#DejaVuSans-115\"/>\r\n       <use x=\"520.597656\" xlink:href=\"#DejaVuSans-116\"/>\r\n       <use x=\"559.806641\" xlink:href=\"#DejaVuSans-97\"/>\r\n       <use x=\"621.085938\" xlink:href=\"#DejaVuSans-117\"/>\r\n       <use x=\"684.464844\" xlink:href=\"#DejaVuSans-114\"/>\r\n       <use x=\"725.578125\" xlink:href=\"#DejaVuSans-97\"/>\r\n       <use x=\"786.857422\" xlink:href=\"#DejaVuSans-110\"/>\r\n       <use x=\"850.236328\" xlink:href=\"#DejaVuSans-116\"/>\r\n      </g>\r\n     </g>\r\n    </g>\r\n    <g id=\"ytick_44\">\r\n     <g id=\"line2d_69\">\r\n      <g>\r\n       <use style=\"stroke:#000000;stroke-width:0.8;\" x=\"467.597917\" xlink:href=\"#mc5ac022390\" y=\"571.215032\"/>\r\n      </g>\r\n     </g>\r\n     <g id=\"text_78\">\r\n      <!-- Fast Food Restaurant -->\r\n      <g transform=\"translate(355.426042 575.014251)scale(0.1 -0.1)\">\r\n       <use xlink:href=\"#DejaVuSans-70\"/>\r\n       <use x=\"48.394531\" xlink:href=\"#DejaVuSans-97\"/>\r\n       <use x=\"109.673828\" xlink:href=\"#DejaVuSans-115\"/>\r\n       <use x=\"161.773438\" xlink:href=\"#DejaVuSans-116\"/>\r\n       <use x=\"200.982422\" xlink:href=\"#DejaVuSans-32\"/>\r\n       <use x=\"232.769531\" xlink:href=\"#DejaVuSans-70\"/>\r\n       <use x=\"286.664062\" xlink:href=\"#DejaVuSans-111\"/>\r\n       <use x=\"347.845703\" xlink:href=\"#DejaVuSans-111\"/>\r\n       <use x=\"409.027344\" xlink:href=\"#DejaVuSans-100\"/>\r\n       <use x=\"472.503906\" xlink:href=\"#DejaVuSans-32\"/>\r\n       <use x=\"504.291016\" xlink:href=\"#DejaVuSans-82\"/>\r\n       <use x=\"569.273438\" xlink:href=\"#DejaVuSans-101\"/>\r\n       <use x=\"630.796875\" xlink:href=\"#DejaVuSans-115\"/>\r\n       <use x=\"682.896484\" xlink:href=\"#DejaVuSans-116\"/>\r\n       <use x=\"722.105469\" xlink:href=\"#DejaVuSans-97\"/>\r\n       <use x=\"783.384766\" xlink:href=\"#DejaVuSans-117\"/>\r\n       <use x=\"846.763672\" xlink:href=\"#DejaVuSans-114\"/>\r\n       <use x=\"887.876953\" xlink:href=\"#DejaVuSans-97\"/>\r\n       <use x=\"949.15625\" xlink:href=\"#DejaVuSans-110\"/>\r\n       <use x=\"1012.535156\" xlink:href=\"#DejaVuSans-116\"/>\r\n      </g>\r\n     </g>\r\n    </g>\r\n    <g id=\"ytick_45\">\r\n     <g id=\"line2d_70\">\r\n      <g>\r\n       <use style=\"stroke:#000000;stroke-width:0.8;\" x=\"467.597917\" xlink:href=\"#mc5ac022390\" y=\"540.617094\"/>\r\n      </g>\r\n     </g>\r\n     <g id=\"text_79\">\r\n      <!-- Grocery Store -->\r\n      <g transform=\"translate(391.558854 544.416313)scale(0.1 -0.1)\">\r\n       <use xlink:href=\"#DejaVuSans-71\"/>\r\n       <use x=\"77.490234\" xlink:href=\"#DejaVuSans-114\"/>\r\n       <use x=\"116.353516\" xlink:href=\"#DejaVuSans-111\"/>\r\n       <use x=\"177.535156\" xlink:href=\"#DejaVuSans-99\"/>\r\n       <use x=\"232.515625\" xlink:href=\"#DejaVuSans-101\"/>\r\n       <use x=\"294.039062\" xlink:href=\"#DejaVuSans-114\"/>\r\n       <use x=\"335.152344\" xlink:href=\"#DejaVuSans-121\"/>\r\n       <use x=\"394.332031\" xlink:href=\"#DejaVuSans-32\"/>\r\n       <use x=\"426.119141\" xlink:href=\"#DejaVuSans-83\"/>\r\n       <use x=\"489.595703\" xlink:href=\"#DejaVuSans-116\"/>\r\n       <use x=\"528.804688\" xlink:href=\"#DejaVuSans-111\"/>\r\n       <use x=\"589.986328\" xlink:href=\"#DejaVuSans-114\"/>\r\n       <use x=\"628.849609\" xlink:href=\"#DejaVuSans-101\"/>\r\n      </g>\r\n     </g>\r\n    </g>\r\n    <g id=\"ytick_46\">\r\n     <g id=\"line2d_71\">\r\n      <g>\r\n       <use style=\"stroke:#000000;stroke-width:0.8;\" x=\"467.597917\" xlink:href=\"#mc5ac022390\" y=\"510.019156\"/>\r\n      </g>\r\n     </g>\r\n     <g id=\"text_80\">\r\n      <!-- Shopping Mall -->\r\n      <g transform=\"translate(390.141667 513.818375)scale(0.1 -0.1)\">\r\n       <use xlink:href=\"#DejaVuSans-83\"/>\r\n       <use x=\"63.476562\" xlink:href=\"#DejaVuSans-104\"/>\r\n       <use x=\"126.855469\" xlink:href=\"#DejaVuSans-111\"/>\r\n       <use x=\"188.037109\" xlink:href=\"#DejaVuSans-112\"/>\r\n       <use x=\"251.513672\" xlink:href=\"#DejaVuSans-112\"/>\r\n       <use x=\"314.990234\" xlink:href=\"#DejaVuSans-105\"/>\r\n       <use x=\"342.773438\" xlink:href=\"#DejaVuSans-110\"/>\r\n       <use x=\"406.152344\" xlink:href=\"#DejaVuSans-103\"/>\r\n       <use x=\"469.628906\" xlink:href=\"#DejaVuSans-32\"/>\r\n       <use x=\"501.416016\" xlink:href=\"#DejaVuSans-77\"/>\r\n       <use x=\"587.695312\" xlink:href=\"#DejaVuSans-97\"/>\r\n       <use x=\"648.974609\" xlink:href=\"#DejaVuSans-108\"/>\r\n       <use x=\"676.757812\" xlink:href=\"#DejaVuSans-108\"/>\r\n      </g>\r\n     </g>\r\n    </g>\r\n    <g id=\"ytick_47\">\r\n     <g id=\"line2d_72\">\r\n      <g>\r\n       <use style=\"stroke:#000000;stroke-width:0.8;\" x=\"467.597917\" xlink:href=\"#mc5ac022390\" y=\"479.421218\"/>\r\n      </g>\r\n     </g>\r\n     <g id=\"text_81\">\r\n      <!-- Pub -->\r\n      <g transform=\"translate(442.057292 483.220437)scale(0.1 -0.1)\">\r\n       <use xlink:href=\"#DejaVuSans-80\"/>\r\n       <use x=\"58.552734\" xlink:href=\"#DejaVuSans-117\"/>\r\n       <use x=\"121.931641\" xlink:href=\"#DejaVuSans-98\"/>\r\n      </g>\r\n     </g>\r\n    </g>\r\n    <g id=\"ytick_48\">\r\n     <g id=\"line2d_73\">\r\n      <g>\r\n       <use style=\"stroke:#000000;stroke-width:0.8;\" x=\"467.597917\" xlink:href=\"#mc5ac022390\" y=\"448.82328\"/>\r\n      </g>\r\n     </g>\r\n     <g id=\"text_82\">\r\n      <!-- Café -->\r\n      <g transform=\"translate(437.813542 452.622498)scale(0.1 -0.1)\">\r\n       <use xlink:href=\"#DejaVuSans-67\"/>\r\n       <use x=\"69.824219\" xlink:href=\"#DejaVuSans-97\"/>\r\n       <use x=\"131.103516\" xlink:href=\"#DejaVuSans-102\"/>\r\n       <use x=\"166.308594\" xlink:href=\"#DejaVuSans-233\"/>\r\n      </g>\r\n     </g>\r\n    </g>\r\n    <g id=\"ytick_49\">\r\n     <g id=\"line2d_74\">\r\n      <g>\r\n       <use style=\"stroke:#000000;stroke-width:0.8;\" x=\"467.597917\" xlink:href=\"#mc5ac022390\" y=\"418.225341\"/>\r\n      </g>\r\n     </g>\r\n     <g id=\"text_83\">\r\n      <!-- Coffee Shop -->\r\n      <g transform=\"translate(399.818229 422.02456)scale(0.1 -0.1)\">\r\n       <use xlink:href=\"#DejaVuSans-67\"/>\r\n       <use x=\"69.824219\" xlink:href=\"#DejaVuSans-111\"/>\r\n       <use x=\"131.005859\" xlink:href=\"#DejaVuSans-102\"/>\r\n       <use x=\"166.210938\" xlink:href=\"#DejaVuSans-102\"/>\r\n       <use x=\"201.416016\" xlink:href=\"#DejaVuSans-101\"/>\r\n       <use x=\"262.939453\" xlink:href=\"#DejaVuSans-101\"/>\r\n       <use x=\"324.462891\" xlink:href=\"#DejaVuSans-32\"/>\r\n       <use x=\"356.25\" xlink:href=\"#DejaVuSans-83\"/>\r\n       <use x=\"419.726562\" xlink:href=\"#DejaVuSans-104\"/>\r\n       <use x=\"483.105469\" xlink:href=\"#DejaVuSans-111\"/>\r\n       <use x=\"544.287109\" xlink:href=\"#DejaVuSans-112\"/>\r\n      </g>\r\n     </g>\r\n    </g>\r\n    <g id=\"ytick_50\">\r\n     <g id=\"line2d_75\">\r\n      <g>\r\n       <use style=\"stroke:#000000;stroke-width:0.8;\" x=\"467.597917\" xlink:href=\"#mc5ac022390\" y=\"387.627403\"/>\r\n      </g>\r\n     </g>\r\n     <g id=\"text_84\">\r\n      <!-- Clothing Store -->\r\n      <g transform=\"translate(389.391667 391.426622)scale(0.1 -0.1)\">\r\n       <use xlink:href=\"#DejaVuSans-67\"/>\r\n       <use x=\"69.824219\" xlink:href=\"#DejaVuSans-108\"/>\r\n       <use x=\"97.607422\" xlink:href=\"#DejaVuSans-111\"/>\r\n       <use x=\"158.789062\" xlink:href=\"#DejaVuSans-116\"/>\r\n       <use x=\"197.998047\" xlink:href=\"#DejaVuSans-104\"/>\r\n       <use x=\"261.376953\" xlink:href=\"#DejaVuSans-105\"/>\r\n       <use x=\"289.160156\" xlink:href=\"#DejaVuSans-110\"/>\r\n       <use x=\"352.539062\" xlink:href=\"#DejaVuSans-103\"/>\r\n       <use x=\"416.015625\" xlink:href=\"#DejaVuSans-32\"/>\r\n       <use x=\"447.802734\" xlink:href=\"#DejaVuSans-83\"/>\r\n       <use x=\"511.279297\" xlink:href=\"#DejaVuSans-116\"/>\r\n       <use x=\"550.488281\" xlink:href=\"#DejaVuSans-111\"/>\r\n       <use x=\"611.669922\" xlink:href=\"#DejaVuSans-114\"/>\r\n       <use x=\"650.533203\" xlink:href=\"#DejaVuSans-101\"/>\r\n      </g>\r\n     </g>\r\n    </g>\r\n   </g>\r\n   <g id=\"patch_73\">\r\n    <path d=\"M 467.597917 673.718125 \r\nL 467.597917 376.918125 \r\n\" style=\"fill:none;stroke:#000000;stroke-linecap:square;stroke-linejoin:miter;stroke-width:0.8;\"/>\r\n   </g>\r\n   <g id=\"patch_74\">\r\n    <path d=\"M 698.989583 673.718125 \r\nL 698.989583 376.918125 \r\n\" style=\"fill:none;stroke:#000000;stroke-linecap:square;stroke-linejoin:miter;stroke-width:0.8;\"/>\r\n   </g>\r\n   <g id=\"patch_75\">\r\n    <path d=\"M 467.597917 673.718125 \r\nL 698.989583 673.718125 \r\n\" style=\"fill:none;stroke:#000000;stroke-linecap:square;stroke-linejoin:miter;stroke-width:0.8;\"/>\r\n   </g>\r\n   <g id=\"patch_76\">\r\n    <path d=\"M 467.597917 376.918125 \r\nL 698.989583 376.918125 \r\n\" style=\"fill:none;stroke:#000000;stroke-linecap:square;stroke-linejoin:miter;stroke-width:0.8;\"/>\r\n   </g>\r\n   <g id=\"text_85\">\r\n    <!-- Cluster 4 -->\r\n    <g transform=\"translate(556.274063 370.918125)scale(0.12 -0.12)\">\r\n     <defs>\r\n      <path d=\"M 37.796875 64.3125 \r\nL 12.890625 25.390625 \r\nL 37.796875 25.390625 \r\nz\r\nM 35.203125 72.90625 \r\nL 47.609375 72.90625 \r\nL 47.609375 25.390625 \r\nL 58.015625 25.390625 \r\nL 58.015625 17.1875 \r\nL 47.609375 17.1875 \r\nL 47.609375 0 \r\nL 37.796875 0 \r\nL 37.796875 17.1875 \r\nL 4.890625 17.1875 \r\nL 4.890625 26.703125 \r\nz\r\n\" id=\"DejaVuSans-52\"/>\r\n     </defs>\r\n     <use xlink:href=\"#DejaVuSans-67\"/>\r\n     <use x=\"69.824219\" xlink:href=\"#DejaVuSans-108\"/>\r\n     <use x=\"97.607422\" xlink:href=\"#DejaVuSans-117\"/>\r\n     <use x=\"160.986328\" xlink:href=\"#DejaVuSans-115\"/>\r\n     <use x=\"213.085938\" xlink:href=\"#DejaVuSans-116\"/>\r\n     <use x=\"252.294922\" xlink:href=\"#DejaVuSans-101\"/>\r\n     <use x=\"313.818359\" xlink:href=\"#DejaVuSans-114\"/>\r\n     <use x=\"354.931641\" xlink:href=\"#DejaVuSans-32\"/>\r\n     <use x=\"386.71875\" xlink:href=\"#DejaVuSans-52\"/>\r\n    </g>\r\n   </g>\r\n  </g>\r\n </g>\r\n <defs>\r\n  <clipPath id=\"p2476386aea\">\r\n   <rect height=\"296.8\" width=\"231.391667\" x=\"107.28125\" y=\"22.318125\"/>\r\n  </clipPath>\r\n  <clipPath id=\"pa2a7ea063b\">\r\n   <rect height=\"296.8\" width=\"231.391667\" x=\"467.597917\" y=\"22.318125\"/>\r\n  </clipPath>\r\n  <clipPath id=\"p525124f354\">\r\n   <rect height=\"296.8\" width=\"231.391667\" x=\"827.914583\" y=\"22.318125\"/>\r\n  </clipPath>\r\n  <clipPath id=\"p084b949fd6\">\r\n   <rect height=\"296.8\" width=\"231.391667\" x=\"107.28125\" y=\"376.918125\"/>\r\n  </clipPath>\r\n  <clipPath id=\"pd1ba74904f\">\r\n   <rect height=\"296.8\" width=\"231.391667\" x=\"467.597917\" y=\"376.918125\"/>\r\n  </clipPath>\r\n </defs>\r\n</svg>\r\n",
      "image/png": "[encoded data removed]"
     },
     "metadata": {
      "needs_background": "light"
     }
    }
   ],
   "source": [
    "import matplotlib.pyplot as plt\n",
    "import numpy as np\n",
    "fig=plt.figure(figsize=(10,7))\n",
    "columns = 3\n",
    "rows = 2\n",
    "colormaps=['gist_rainbow', 'spring', 'turbo_r', 'BuPu_r', 'Dark2']\n",
    "a=np.random.rand(2,3)\n",
    "for i in range(1,6):\n",
    "    fig.add_subplot(rows, columns, i)\n",
    "    df_list[i-1].value_counts().sort_values().tail(10).plot.barh( width=0.2, figsize=(15,10),colormap=colormaps[i-1])### what you want you can plot\n",
    "    plt.title('Cluster {}'.format(i-1))  \n",
    "    plt.xticks(np.arange(0, 25, 5))\n",
    "    plt.xlabel('No. of venues')\n",
    "fig.tight_layout()\n",
    "plt.show()"
   ]
  },
  {
   "source": [
    "* From the graph above we can see the type and number of venues one can come across if they stay in a particular cluster."
   ],
   "cell_type": "markdown",
   "metadata": {}
  },
  {
   "cell_type": "code",
   "execution_count": 710,
   "metadata": {},
   "outputs": [
    {
     "output_type": "display_data",
     "data": {
      "text/plain": "<Figure size 1080x720 with 5 Axes>",
      "image/svg+xml": "<?xml version=\"1.0\" encoding=\"utf-8\" standalone=\"no\"?>\r\n<!DOCTYPE svg PUBLIC \"-//W3C//DTD SVG 1.1//EN\"\r\n  \"http://www.w3.org/Graphics/SVG/1.1/DTD/svg11.dtd\">\r\n<!-- Created with matplotlib (https://matplotlib.org/) -->\r\n<svg height=\"711.274375pt\" version=\"1.1\" viewBox=\"0 0 1072.826562 711.274375\" width=\"1072.826562pt\" xmlns=\"http://www.w3.org/2000/svg\" xmlns:xlink=\"http://www.w3.org/1999/xlink\">\r\n <metadata>\r\n  <rdf:RDF xmlns:cc=\"http://creativecommons.org/ns#\" xmlns:dc=\"http://purl.org/dc/elements/1.1/\" xmlns:rdf=\"http://www.w3.org/1999/02/22-rdf-syntax-ns#\">\r\n   <cc:Work>\r\n    <dc:type rdf:resource=\"http://purl.org/dc/dcmitype/StillImage\"/>\r\n    <dc:date>2021-05-21T20:07:56.432977</dc:date>\r\n    <dc:format>image/svg+xml</dc:format>\r\n    <dc:creator>\r\n     <cc:Agent>\r\n      <dc:title>Matplotlib v3.3.2, https://matplotlib.org/</dc:title>\r\n     </cc:Agent>\r\n    </dc:creator>\r\n   </cc:Work>\r\n  </rdf:RDF>\r\n </metadata>\r\n <defs>\r\n  <style type=\"text/css\">*{stroke-linecap:butt;stroke-linejoin:round;}</style>\r\n </defs>\r\n <g id=\"figure_1\">\r\n  <g id=\"patch_1\">\r\n   <path d=\"M 0 711.274375 \r\nL 1072.826562 711.274375 \r\nL 1072.826562 0 \r\nL 0 0 \r\nz\r\n\" style=\"fill:none;\"/>\r\n  </g>\r\n  <g id=\"axes_1\">\r\n   <g id=\"patch_2\">\r\n    <path d=\"M 107.28125 319.118125 \r\nL 333.860417 319.118125 \r\nL 333.860417 22.318125 \r\nL 107.28125 22.318125 \r\nz\r\n\" style=\"fill:#ffffff;\"/>\r\n   </g>\r\n   <g id=\"patch_3\">\r\n    <path clip-path=\"url(#p4fa49634d0)\" d=\"M 107.28125 311.46864 \r\nL 155.234513 311.46864 \r\nL 155.234513 305.349053 \r\nL 107.28125 305.349053 \r\nz\r\n\" style=\"fill:#ff0029;\"/>\r\n   </g>\r\n   <g id=\"patch_4\">\r\n    <path clip-path=\"url(#p4fa49634d0)\" d=\"M 107.28125 280.870702 \r\nL 155.234513 280.870702 \r\nL 155.234513 274.751115 \r\nL 107.28125 274.751115 \r\nz\r\n\" style=\"fill:#ff0029;\"/>\r\n   </g>\r\n   <g id=\"patch_5\">\r\n    <path clip-path=\"url(#p4fa49634d0)\" d=\"M 107.28125 250.272764 \r\nL 155.234513 250.272764 \r\nL 155.234513 244.153177 \r\nL 107.28125 244.153177 \r\nz\r\n\" style=\"fill:#ff0029;\"/>\r\n   </g>\r\n   <g id=\"patch_6\">\r\n    <path clip-path=\"url(#p4fa49634d0)\" d=\"M 107.28125 219.674826 \r\nL 155.234513 219.674826 \r\nL 155.234513 213.555238 \r\nL 107.28125 213.555238 \r\nz\r\n\" style=\"fill:#ff0029;\"/>\r\n   </g>\r\n   <g id=\"patch_7\">\r\n    <path clip-path=\"url(#p4fa49634d0)\" d=\"M 107.28125 189.076888 \r\nL 155.234513 189.076888 \r\nL 155.234513 182.9573 \r\nL 107.28125 182.9573 \r\nz\r\n\" style=\"fill:#ff0029;\"/>\r\n   </g>\r\n   <g id=\"patch_8\">\r\n    <path clip-path=\"url(#p4fa49634d0)\" d=\"M 107.28125 158.47895 \r\nL 179.211144 158.47895 \r\nL 179.211144 152.359362 \r\nL 107.28125 152.359362 \r\nz\r\n\" style=\"fill:#ff0029;\"/>\r\n   </g>\r\n   <g id=\"patch_9\">\r\n    <path clip-path=\"url(#p4fa49634d0)\" d=\"M 107.28125 127.881012 \r\nL 179.211144 127.881012 \r\nL 179.211144 121.761424 \r\nL 107.28125 121.761424 \r\nz\r\n\" style=\"fill:#ff0029;\"/>\r\n   </g>\r\n   <g id=\"patch_10\">\r\n    <path clip-path=\"url(#p4fa49634d0)\" d=\"M 107.28125 97.283073 \r\nL 203.187776 97.283073 \r\nL 203.187776 91.163486 \r\nL 107.28125 91.163486 \r\nz\r\n\" style=\"fill:#ff0029;\"/>\r\n   </g>\r\n   <g id=\"patch_11\">\r\n    <path clip-path=\"url(#p4fa49634d0)\" d=\"M 107.28125 66.685135 \r\nL 227.164407 66.685135 \r\nL 227.164407 60.565548 \r\nL 107.28125 60.565548 \r\nz\r\n\" style=\"fill:#ff0029;\"/>\r\n   </g>\r\n   <g id=\"patch_12\">\r\n    <path clip-path=\"url(#p4fa49634d0)\" d=\"M 107.28125 36.087197 \r\nL 323.070933 36.087197 \r\nL 323.070933 29.96761 \r\nL 107.28125 29.96761 \r\nz\r\n\" style=\"fill:#ff0029;\"/>\r\n   </g>\r\n   <g id=\"matplotlib.axis_1\">\r\n    <g id=\"xtick_1\">\r\n     <g id=\"line2d_1\">\r\n      <defs>\r\n       <path d=\"M 0 0 \r\nL 0 3.5 \r\n\" id=\"m7154fe2193\" style=\"stroke:#000000;stroke-width:0.8;\"/>\r\n      </defs>\r\n      <g>\r\n       <use style=\"stroke:#000000;stroke-width:0.8;\" x=\"107.28125\" xlink:href=\"#m7154fe2193\" y=\"319.118125\"/>\r\n      </g>\r\n     </g>\r\n     <g id=\"text_1\">\r\n      <!-- 0.00 -->\r\n      <g transform=\"translate(96.148438 333.716562)scale(0.1 -0.1)\">\r\n       <defs>\r\n        <path d=\"M 31.78125 66.40625 \r\nQ 24.171875 66.40625 20.328125 58.90625 \r\nQ 16.5 51.421875 16.5 36.375 \r\nQ 16.5 21.390625 20.328125 13.890625 \r\nQ 24.171875 6.390625 31.78125 6.390625 \r\nQ 39.453125 6.390625 43.28125 13.890625 \r\nQ 47.125 21.390625 47.125 36.375 \r\nQ 47.125 51.421875 43.28125 58.90625 \r\nQ 39.453125 66.40625 31.78125 66.40625 \r\nz\r\nM 31.78125 74.21875 \r\nQ 44.046875 74.21875 50.515625 64.515625 \r\nQ 56.984375 54.828125 56.984375 36.375 \r\nQ 56.984375 17.96875 50.515625 8.265625 \r\nQ 44.046875 -1.421875 31.78125 -1.421875 \r\nQ 19.53125 -1.421875 13.0625 8.265625 \r\nQ 6.59375 17.96875 6.59375 36.375 \r\nQ 6.59375 54.828125 13.0625 64.515625 \r\nQ 19.53125 74.21875 31.78125 74.21875 \r\nz\r\n\" id=\"DejaVuSans-48\"/>\r\n        <path d=\"M 10.6875 12.40625 \r\nL 21 12.40625 \r\nL 21 0 \r\nL 10.6875 0 \r\nz\r\n\" id=\"DejaVuSans-46\"/>\r\n       </defs>\r\n       <use xlink:href=\"#DejaVuSans-48\"/>\r\n       <use x=\"63.623047\" xlink:href=\"#DejaVuSans-46\"/>\r\n       <use x=\"95.410156\" xlink:href=\"#DejaVuSans-48\"/>\r\n       <use x=\"159.033203\" xlink:href=\"#DejaVuSans-48\"/>\r\n      </g>\r\n     </g>\r\n    </g>\r\n    <g id=\"xtick_2\">\r\n     <g id=\"line2d_2\">\r\n      <g>\r\n       <use style=\"stroke:#000000;stroke-width:0.8;\" x=\"170.819323\" xlink:href=\"#m7154fe2193\" y=\"319.118125\"/>\r\n      </g>\r\n     </g>\r\n     <g id=\"text_2\">\r\n      <!-- 0.05 -->\r\n      <g transform=\"translate(159.686511 333.716562)scale(0.1 -0.1)\">\r\n       <defs>\r\n        <path d=\"M 10.796875 72.90625 \r\nL 49.515625 72.90625 \r\nL 49.515625 64.59375 \r\nL 19.828125 64.59375 \r\nL 19.828125 46.734375 \r\nQ 21.96875 47.46875 24.109375 47.828125 \r\nQ 26.265625 48.1875 28.421875 48.1875 \r\nQ 40.625 48.1875 47.75 41.5 \r\nQ 54.890625 34.8125 54.890625 23.390625 \r\nQ 54.890625 11.625 47.5625 5.09375 \r\nQ 40.234375 -1.421875 26.90625 -1.421875 \r\nQ 22.3125 -1.421875 17.546875 -0.640625 \r\nQ 12.796875 0.140625 7.71875 1.703125 \r\nL 7.71875 11.625 \r\nQ 12.109375 9.234375 16.796875 8.0625 \r\nQ 21.484375 6.890625 26.703125 6.890625 \r\nQ 35.15625 6.890625 40.078125 11.328125 \r\nQ 45.015625 15.765625 45.015625 23.390625 \r\nQ 45.015625 31 40.078125 35.4375 \r\nQ 35.15625 39.890625 26.703125 39.890625 \r\nQ 22.75 39.890625 18.8125 39.015625 \r\nQ 14.890625 38.140625 10.796875 36.28125 \r\nz\r\n\" id=\"DejaVuSans-53\"/>\r\n       </defs>\r\n       <use xlink:href=\"#DejaVuSans-48\"/>\r\n       <use x=\"63.623047\" xlink:href=\"#DejaVuSans-46\"/>\r\n       <use x=\"95.410156\" xlink:href=\"#DejaVuSans-48\"/>\r\n       <use x=\"159.033203\" xlink:href=\"#DejaVuSans-53\"/>\r\n      </g>\r\n     </g>\r\n    </g>\r\n    <g id=\"xtick_3\">\r\n     <g id=\"line2d_3\">\r\n      <g>\r\n       <use style=\"stroke:#000000;stroke-width:0.8;\" x=\"234.357396\" xlink:href=\"#m7154fe2193\" y=\"319.118125\"/>\r\n      </g>\r\n     </g>\r\n     <g id=\"text_3\">\r\n      <!-- 0.10 -->\r\n      <g transform=\"translate(223.224584 333.716562)scale(0.1 -0.1)\">\r\n       <defs>\r\n        <path d=\"M 12.40625 8.296875 \r\nL 28.515625 8.296875 \r\nL 28.515625 63.921875 \r\nL 10.984375 60.40625 \r\nL 10.984375 69.390625 \r\nL 28.421875 72.90625 \r\nL 38.28125 72.90625 \r\nL 38.28125 8.296875 \r\nL 54.390625 8.296875 \r\nL 54.390625 0 \r\nL 12.40625 0 \r\nz\r\n\" id=\"DejaVuSans-49\"/>\r\n       </defs>\r\n       <use xlink:href=\"#DejaVuSans-48\"/>\r\n       <use x=\"63.623047\" xlink:href=\"#DejaVuSans-46\"/>\r\n       <use x=\"95.410156\" xlink:href=\"#DejaVuSans-49\"/>\r\n       <use x=\"159.033203\" xlink:href=\"#DejaVuSans-48\"/>\r\n      </g>\r\n     </g>\r\n    </g>\r\n    <g id=\"xtick_4\">\r\n     <g id=\"line2d_4\">\r\n      <g>\r\n       <use style=\"stroke:#000000;stroke-width:0.8;\" x=\"297.89547\" xlink:href=\"#m7154fe2193\" y=\"319.118125\"/>\r\n      </g>\r\n     </g>\r\n     <g id=\"text_4\">\r\n      <!-- 0.15 -->\r\n      <g transform=\"translate(286.762657 333.716562)scale(0.1 -0.1)\">\r\n       <use xlink:href=\"#DejaVuSans-48\"/>\r\n       <use x=\"63.623047\" xlink:href=\"#DejaVuSans-46\"/>\r\n       <use x=\"95.410156\" xlink:href=\"#DejaVuSans-49\"/>\r\n       <use x=\"159.033203\" xlink:href=\"#DejaVuSans-53\"/>\r\n      </g>\r\n     </g>\r\n    </g>\r\n    <g id=\"text_5\">\r\n     <!-- Probability of Venue Occurrence -->\r\n     <g transform=\"translate(140.446615 347.394687)scale(0.1 -0.1)\">\r\n      <defs>\r\n       <path d=\"M 19.671875 64.796875 \r\nL 19.671875 37.40625 \r\nL 32.078125 37.40625 \r\nQ 38.96875 37.40625 42.71875 40.96875 \r\nQ 46.484375 44.53125 46.484375 51.125 \r\nQ 46.484375 57.671875 42.71875 61.234375 \r\nQ 38.96875 64.796875 32.078125 64.796875 \r\nz\r\nM 9.8125 72.90625 \r\nL 32.078125 72.90625 \r\nQ 44.34375 72.90625 50.609375 67.359375 \r\nQ 56.890625 61.8125 56.890625 51.125 \r\nQ 56.890625 40.328125 50.609375 34.8125 \r\nQ 44.34375 29.296875 32.078125 29.296875 \r\nL 19.671875 29.296875 \r\nL 19.671875 0 \r\nL 9.8125 0 \r\nz\r\n\" id=\"DejaVuSans-80\"/>\r\n       <path d=\"M 41.109375 46.296875 \r\nQ 39.59375 47.171875 37.8125 47.578125 \r\nQ 36.03125 48 33.890625 48 \r\nQ 26.265625 48 22.1875 43.046875 \r\nQ 18.109375 38.09375 18.109375 28.8125 \r\nL 18.109375 0 \r\nL 9.078125 0 \r\nL 9.078125 54.6875 \r\nL 18.109375 54.6875 \r\nL 18.109375 46.1875 \r\nQ 20.953125 51.171875 25.484375 53.578125 \r\nQ 30.03125 56 36.53125 56 \r\nQ 37.453125 56 38.578125 55.875 \r\nQ 39.703125 55.765625 41.0625 55.515625 \r\nz\r\n\" id=\"DejaVuSans-114\"/>\r\n       <path d=\"M 30.609375 48.390625 \r\nQ 23.390625 48.390625 19.1875 42.75 \r\nQ 14.984375 37.109375 14.984375 27.296875 \r\nQ 14.984375 17.484375 19.15625 11.84375 \r\nQ 23.34375 6.203125 30.609375 6.203125 \r\nQ 37.796875 6.203125 41.984375 11.859375 \r\nQ 46.1875 17.53125 46.1875 27.296875 \r\nQ 46.1875 37.015625 41.984375 42.703125 \r\nQ 37.796875 48.390625 30.609375 48.390625 \r\nz\r\nM 30.609375 56 \r\nQ 42.328125 56 49.015625 48.375 \r\nQ 55.71875 40.765625 55.71875 27.296875 \r\nQ 55.71875 13.875 49.015625 6.21875 \r\nQ 42.328125 -1.421875 30.609375 -1.421875 \r\nQ 18.84375 -1.421875 12.171875 6.21875 \r\nQ 5.515625 13.875 5.515625 27.296875 \r\nQ 5.515625 40.765625 12.171875 48.375 \r\nQ 18.84375 56 30.609375 56 \r\nz\r\n\" id=\"DejaVuSans-111\"/>\r\n       <path d=\"M 48.6875 27.296875 \r\nQ 48.6875 37.203125 44.609375 42.84375 \r\nQ 40.53125 48.484375 33.40625 48.484375 \r\nQ 26.265625 48.484375 22.1875 42.84375 \r\nQ 18.109375 37.203125 18.109375 27.296875 \r\nQ 18.109375 17.390625 22.1875 11.75 \r\nQ 26.265625 6.109375 33.40625 6.109375 \r\nQ 40.53125 6.109375 44.609375 11.75 \r\nQ 48.6875 17.390625 48.6875 27.296875 \r\nz\r\nM 18.109375 46.390625 \r\nQ 20.953125 51.265625 25.265625 53.625 \r\nQ 29.59375 56 35.59375 56 \r\nQ 45.5625 56 51.78125 48.09375 \r\nQ 58.015625 40.1875 58.015625 27.296875 \r\nQ 58.015625 14.40625 51.78125 6.484375 \r\nQ 45.5625 -1.421875 35.59375 -1.421875 \r\nQ 29.59375 -1.421875 25.265625 0.953125 \r\nQ 20.953125 3.328125 18.109375 8.203125 \r\nL 18.109375 0 \r\nL 9.078125 0 \r\nL 9.078125 75.984375 \r\nL 18.109375 75.984375 \r\nz\r\n\" id=\"DejaVuSans-98\"/>\r\n       <path d=\"M 34.28125 27.484375 \r\nQ 23.390625 27.484375 19.1875 25 \r\nQ 14.984375 22.515625 14.984375 16.5 \r\nQ 14.984375 11.71875 18.140625 8.90625 \r\nQ 21.296875 6.109375 26.703125 6.109375 \r\nQ 34.1875 6.109375 38.703125 11.40625 \r\nQ 43.21875 16.703125 43.21875 25.484375 \r\nL 43.21875 27.484375 \r\nz\r\nM 52.203125 31.203125 \r\nL 52.203125 0 \r\nL 43.21875 0 \r\nL 43.21875 8.296875 \r\nQ 40.140625 3.328125 35.546875 0.953125 \r\nQ 30.953125 -1.421875 24.3125 -1.421875 \r\nQ 15.921875 -1.421875 10.953125 3.296875 \r\nQ 6 8.015625 6 15.921875 \r\nQ 6 25.140625 12.171875 29.828125 \r\nQ 18.359375 34.515625 30.609375 34.515625 \r\nL 43.21875 34.515625 \r\nL 43.21875 35.40625 \r\nQ 43.21875 41.609375 39.140625 45 \r\nQ 35.0625 48.390625 27.6875 48.390625 \r\nQ 23 48.390625 18.546875 47.265625 \r\nQ 14.109375 46.140625 10.015625 43.890625 \r\nL 10.015625 52.203125 \r\nQ 14.9375 54.109375 19.578125 55.046875 \r\nQ 24.21875 56 28.609375 56 \r\nQ 40.484375 56 46.34375 49.84375 \r\nQ 52.203125 43.703125 52.203125 31.203125 \r\nz\r\n\" id=\"DejaVuSans-97\"/>\r\n       <path d=\"M 9.421875 54.6875 \r\nL 18.40625 54.6875 \r\nL 18.40625 0 \r\nL 9.421875 0 \r\nz\r\nM 9.421875 75.984375 \r\nL 18.40625 75.984375 \r\nL 18.40625 64.59375 \r\nL 9.421875 64.59375 \r\nz\r\n\" id=\"DejaVuSans-105\"/>\r\n       <path d=\"M 9.421875 75.984375 \r\nL 18.40625 75.984375 \r\nL 18.40625 0 \r\nL 9.421875 0 \r\nz\r\n\" id=\"DejaVuSans-108\"/>\r\n       <path d=\"M 18.3125 70.21875 \r\nL 18.3125 54.6875 \r\nL 36.8125 54.6875 \r\nL 36.8125 47.703125 \r\nL 18.3125 47.703125 \r\nL 18.3125 18.015625 \r\nQ 18.3125 11.328125 20.140625 9.421875 \r\nQ 21.96875 7.515625 27.59375 7.515625 \r\nL 36.8125 7.515625 \r\nL 36.8125 0 \r\nL 27.59375 0 \r\nQ 17.1875 0 13.234375 3.875 \r\nQ 9.28125 7.765625 9.28125 18.015625 \r\nL 9.28125 47.703125 \r\nL 2.6875 47.703125 \r\nL 2.6875 54.6875 \r\nL 9.28125 54.6875 \r\nL 9.28125 70.21875 \r\nz\r\n\" id=\"DejaVuSans-116\"/>\r\n       <path d=\"M 32.171875 -5.078125 \r\nQ 28.375 -14.84375 24.75 -17.8125 \r\nQ 21.140625 -20.796875 15.09375 -20.796875 \r\nL 7.90625 -20.796875 \r\nL 7.90625 -13.28125 \r\nL 13.1875 -13.28125 \r\nQ 16.890625 -13.28125 18.9375 -11.515625 \r\nQ 21 -9.765625 23.484375 -3.21875 \r\nL 25.09375 0.875 \r\nL 2.984375 54.6875 \r\nL 12.5 54.6875 \r\nL 29.59375 11.921875 \r\nL 46.6875 54.6875 \r\nL 56.203125 54.6875 \r\nz\r\n\" id=\"DejaVuSans-121\"/>\r\n       <path id=\"DejaVuSans-32\"/>\r\n       <path d=\"M 37.109375 75.984375 \r\nL 37.109375 68.5 \r\nL 28.515625 68.5 \r\nQ 23.6875 68.5 21.796875 66.546875 \r\nQ 19.921875 64.59375 19.921875 59.515625 \r\nL 19.921875 54.6875 \r\nL 34.71875 54.6875 \r\nL 34.71875 47.703125 \r\nL 19.921875 47.703125 \r\nL 19.921875 0 \r\nL 10.890625 0 \r\nL 10.890625 47.703125 \r\nL 2.296875 47.703125 \r\nL 2.296875 54.6875 \r\nL 10.890625 54.6875 \r\nL 10.890625 58.5 \r\nQ 10.890625 67.625 15.140625 71.796875 \r\nQ 19.390625 75.984375 28.609375 75.984375 \r\nz\r\n\" id=\"DejaVuSans-102\"/>\r\n       <path d=\"M 28.609375 0 \r\nL 0.78125 72.90625 \r\nL 11.078125 72.90625 \r\nL 34.1875 11.53125 \r\nL 57.328125 72.90625 \r\nL 67.578125 72.90625 \r\nL 39.796875 0 \r\nz\r\n\" id=\"DejaVuSans-86\"/>\r\n       <path d=\"M 56.203125 29.59375 \r\nL 56.203125 25.203125 \r\nL 14.890625 25.203125 \r\nQ 15.484375 15.921875 20.484375 11.0625 \r\nQ 25.484375 6.203125 34.421875 6.203125 \r\nQ 39.59375 6.203125 44.453125 7.46875 \r\nQ 49.3125 8.734375 54.109375 11.28125 \r\nL 54.109375 2.78125 \r\nQ 49.265625 0.734375 44.1875 -0.34375 \r\nQ 39.109375 -1.421875 33.890625 -1.421875 \r\nQ 20.796875 -1.421875 13.15625 6.1875 \r\nQ 5.515625 13.8125 5.515625 26.8125 \r\nQ 5.515625 40.234375 12.765625 48.109375 \r\nQ 20.015625 56 32.328125 56 \r\nQ 43.359375 56 49.78125 48.890625 \r\nQ 56.203125 41.796875 56.203125 29.59375 \r\nz\r\nM 47.21875 32.234375 \r\nQ 47.125 39.59375 43.09375 43.984375 \r\nQ 39.0625 48.390625 32.421875 48.390625 \r\nQ 24.90625 48.390625 20.390625 44.140625 \r\nQ 15.875 39.890625 15.1875 32.171875 \r\nz\r\n\" id=\"DejaVuSans-101\"/>\r\n       <path d=\"M 54.890625 33.015625 \r\nL 54.890625 0 \r\nL 45.90625 0 \r\nL 45.90625 32.71875 \r\nQ 45.90625 40.484375 42.875 44.328125 \r\nQ 39.84375 48.1875 33.796875 48.1875 \r\nQ 26.515625 48.1875 22.3125 43.546875 \r\nQ 18.109375 38.921875 18.109375 30.90625 \r\nL 18.109375 0 \r\nL 9.078125 0 \r\nL 9.078125 54.6875 \r\nL 18.109375 54.6875 \r\nL 18.109375 46.1875 \r\nQ 21.34375 51.125 25.703125 53.5625 \r\nQ 30.078125 56 35.796875 56 \r\nQ 45.21875 56 50.046875 50.171875 \r\nQ 54.890625 44.34375 54.890625 33.015625 \r\nz\r\n\" id=\"DejaVuSans-110\"/>\r\n       <path d=\"M 8.5 21.578125 \r\nL 8.5 54.6875 \r\nL 17.484375 54.6875 \r\nL 17.484375 21.921875 \r\nQ 17.484375 14.15625 20.5 10.265625 \r\nQ 23.53125 6.390625 29.59375 6.390625 \r\nQ 36.859375 6.390625 41.078125 11.03125 \r\nQ 45.3125 15.671875 45.3125 23.6875 \r\nL 45.3125 54.6875 \r\nL 54.296875 54.6875 \r\nL 54.296875 0 \r\nL 45.3125 0 \r\nL 45.3125 8.40625 \r\nQ 42.046875 3.421875 37.71875 1 \r\nQ 33.40625 -1.421875 27.6875 -1.421875 \r\nQ 18.265625 -1.421875 13.375 4.4375 \r\nQ 8.5 10.296875 8.5 21.578125 \r\nz\r\nM 31.109375 56 \r\nz\r\n\" id=\"DejaVuSans-117\"/>\r\n       <path d=\"M 39.40625 66.21875 \r\nQ 28.65625 66.21875 22.328125 58.203125 \r\nQ 16.015625 50.203125 16.015625 36.375 \r\nQ 16.015625 22.609375 22.328125 14.59375 \r\nQ 28.65625 6.59375 39.40625 6.59375 \r\nQ 50.140625 6.59375 56.421875 14.59375 \r\nQ 62.703125 22.609375 62.703125 36.375 \r\nQ 62.703125 50.203125 56.421875 58.203125 \r\nQ 50.140625 66.21875 39.40625 66.21875 \r\nz\r\nM 39.40625 74.21875 \r\nQ 54.734375 74.21875 63.90625 63.9375 \r\nQ 73.09375 53.65625 73.09375 36.375 \r\nQ 73.09375 19.140625 63.90625 8.859375 \r\nQ 54.734375 -1.421875 39.40625 -1.421875 \r\nQ 24.03125 -1.421875 14.8125 8.828125 \r\nQ 5.609375 19.09375 5.609375 36.375 \r\nQ 5.609375 53.65625 14.8125 63.9375 \r\nQ 24.03125 74.21875 39.40625 74.21875 \r\nz\r\n\" id=\"DejaVuSans-79\"/>\r\n       <path d=\"M 48.78125 52.59375 \r\nL 48.78125 44.1875 \r\nQ 44.96875 46.296875 41.140625 47.34375 \r\nQ 37.3125 48.390625 33.40625 48.390625 \r\nQ 24.65625 48.390625 19.8125 42.84375 \r\nQ 14.984375 37.3125 14.984375 27.296875 \r\nQ 14.984375 17.28125 19.8125 11.734375 \r\nQ 24.65625 6.203125 33.40625 6.203125 \r\nQ 37.3125 6.203125 41.140625 7.25 \r\nQ 44.96875 8.296875 48.78125 10.40625 \r\nL 48.78125 2.09375 \r\nQ 45.015625 0.34375 40.984375 -0.53125 \r\nQ 36.96875 -1.421875 32.421875 -1.421875 \r\nQ 20.0625 -1.421875 12.78125 6.34375 \r\nQ 5.515625 14.109375 5.515625 27.296875 \r\nQ 5.515625 40.671875 12.859375 48.328125 \r\nQ 20.21875 56 33.015625 56 \r\nQ 37.15625 56 41.109375 55.140625 \r\nQ 45.0625 54.296875 48.78125 52.59375 \r\nz\r\n\" id=\"DejaVuSans-99\"/>\r\n      </defs>\r\n      <use xlink:href=\"#DejaVuSans-80\"/>\r\n      <use x=\"58.552734\" xlink:href=\"#DejaVuSans-114\"/>\r\n      <use x=\"97.416016\" xlink:href=\"#DejaVuSans-111\"/>\r\n      <use x=\"158.597656\" xlink:href=\"#DejaVuSans-98\"/>\r\n      <use x=\"222.074219\" xlink:href=\"#DejaVuSans-97\"/>\r\n      <use x=\"283.353516\" xlink:href=\"#DejaVuSans-98\"/>\r\n      <use x=\"346.830078\" xlink:href=\"#DejaVuSans-105\"/>\r\n      <use x=\"374.613281\" xlink:href=\"#DejaVuSans-108\"/>\r\n      <use x=\"402.396484\" xlink:href=\"#DejaVuSans-105\"/>\r\n      <use x=\"430.179688\" xlink:href=\"#DejaVuSans-116\"/>\r\n      <use x=\"469.388672\" xlink:href=\"#DejaVuSans-121\"/>\r\n      <use x=\"528.568359\" xlink:href=\"#DejaVuSans-32\"/>\r\n      <use x=\"560.355469\" xlink:href=\"#DejaVuSans-111\"/>\r\n      <use x=\"621.537109\" xlink:href=\"#DejaVuSans-102\"/>\r\n      <use x=\"656.742188\" xlink:href=\"#DejaVuSans-32\"/>\r\n      <use x=\"688.529297\" xlink:href=\"#DejaVuSans-86\"/>\r\n      <use x=\"749.1875\" xlink:href=\"#DejaVuSans-101\"/>\r\n      <use x=\"810.710938\" xlink:href=\"#DejaVuSans-110\"/>\r\n      <use x=\"874.089844\" xlink:href=\"#DejaVuSans-117\"/>\r\n      <use x=\"937.46875\" xlink:href=\"#DejaVuSans-101\"/>\r\n      <use x=\"998.992188\" xlink:href=\"#DejaVuSans-32\"/>\r\n      <use x=\"1030.779297\" xlink:href=\"#DejaVuSans-79\"/>\r\n      <use x=\"1109.490234\" xlink:href=\"#DejaVuSans-99\"/>\r\n      <use x=\"1164.470703\" xlink:href=\"#DejaVuSans-99\"/>\r\n      <use x=\"1219.451172\" xlink:href=\"#DejaVuSans-117\"/>\r\n      <use x=\"1282.830078\" xlink:href=\"#DejaVuSans-114\"/>\r\n      <use x=\"1322.193359\" xlink:href=\"#DejaVuSans-114\"/>\r\n      <use x=\"1361.056641\" xlink:href=\"#DejaVuSans-101\"/>\r\n      <use x=\"1422.580078\" xlink:href=\"#DejaVuSans-110\"/>\r\n      <use x=\"1485.958984\" xlink:href=\"#DejaVuSans-99\"/>\r\n      <use x=\"1540.939453\" xlink:href=\"#DejaVuSans-101\"/>\r\n     </g>\r\n    </g>\r\n   </g>\r\n   <g id=\"matplotlib.axis_2\">\r\n    <g id=\"ytick_1\">\r\n     <g id=\"line2d_5\">\r\n      <defs>\r\n       <path d=\"M 0 0 \r\nL -3.5 0 \r\n\" id=\"m0a19f5f7df\" style=\"stroke:#000000;stroke-width:0.8;\"/>\r\n      </defs>\r\n      <g>\r\n       <use style=\"stroke:#000000;stroke-width:0.8;\" x=\"107.28125\" xlink:href=\"#m0a19f5f7df\" y=\"308.408847\"/>\r\n      </g>\r\n     </g>\r\n     <g id=\"text_6\">\r\n      <!-- Pizza Place -->\r\n      <g transform=\"translate(45.307813 312.208065)scale(0.1 -0.1)\">\r\n       <defs>\r\n        <path d=\"M 5.515625 54.6875 \r\nL 48.1875 54.6875 \r\nL 48.1875 46.484375 \r\nL 14.40625 7.171875 \r\nL 48.1875 7.171875 \r\nL 48.1875 0 \r\nL 4.296875 0 \r\nL 4.296875 8.203125 \r\nL 38.09375 47.515625 \r\nL 5.515625 47.515625 \r\nz\r\n\" id=\"DejaVuSans-122\"/>\r\n       </defs>\r\n       <use xlink:href=\"#DejaVuSans-80\"/>\r\n       <use x=\"58.052734\" xlink:href=\"#DejaVuSans-105\"/>\r\n       <use x=\"85.835938\" xlink:href=\"#DejaVuSans-122\"/>\r\n       <use x=\"138.326172\" xlink:href=\"#DejaVuSans-122\"/>\r\n       <use x=\"190.816406\" xlink:href=\"#DejaVuSans-97\"/>\r\n       <use x=\"252.095703\" xlink:href=\"#DejaVuSans-32\"/>\r\n       <use x=\"283.882812\" xlink:href=\"#DejaVuSans-80\"/>\r\n       <use x=\"344.185547\" xlink:href=\"#DejaVuSans-108\"/>\r\n       <use x=\"371.96875\" xlink:href=\"#DejaVuSans-97\"/>\r\n       <use x=\"433.248047\" xlink:href=\"#DejaVuSans-99\"/>\r\n       <use x=\"488.228516\" xlink:href=\"#DejaVuSans-101\"/>\r\n      </g>\r\n     </g>\r\n    </g>\r\n    <g id=\"ytick_2\">\r\n     <g id=\"line2d_6\">\r\n      <g>\r\n       <use style=\"stroke:#000000;stroke-width:0.8;\" x=\"107.28125\" xlink:href=\"#m0a19f5f7df\" y=\"277.810909\"/>\r\n      </g>\r\n     </g>\r\n     <g id=\"text_7\">\r\n      <!-- Indian Restaurant -->\r\n      <g transform=\"translate(11.479688 281.610127)scale(0.1 -0.1)\">\r\n       <defs>\r\n        <path d=\"M 9.8125 72.90625 \r\nL 19.671875 72.90625 \r\nL 19.671875 0 \r\nL 9.8125 0 \r\nz\r\n\" id=\"DejaVuSans-73\"/>\r\n        <path d=\"M 45.40625 46.390625 \r\nL 45.40625 75.984375 \r\nL 54.390625 75.984375 \r\nL 54.390625 0 \r\nL 45.40625 0 \r\nL 45.40625 8.203125 \r\nQ 42.578125 3.328125 38.25 0.953125 \r\nQ 33.9375 -1.421875 27.875 -1.421875 \r\nQ 17.96875 -1.421875 11.734375 6.484375 \r\nQ 5.515625 14.40625 5.515625 27.296875 \r\nQ 5.515625 40.1875 11.734375 48.09375 \r\nQ 17.96875 56 27.875 56 \r\nQ 33.9375 56 38.25 53.625 \r\nQ 42.578125 51.265625 45.40625 46.390625 \r\nz\r\nM 14.796875 27.296875 \r\nQ 14.796875 17.390625 18.875 11.75 \r\nQ 22.953125 6.109375 30.078125 6.109375 \r\nQ 37.203125 6.109375 41.296875 11.75 \r\nQ 45.40625 17.390625 45.40625 27.296875 \r\nQ 45.40625 37.203125 41.296875 42.84375 \r\nQ 37.203125 48.484375 30.078125 48.484375 \r\nQ 22.953125 48.484375 18.875 42.84375 \r\nQ 14.796875 37.203125 14.796875 27.296875 \r\nz\r\n\" id=\"DejaVuSans-100\"/>\r\n        <path d=\"M 44.390625 34.1875 \r\nQ 47.5625 33.109375 50.5625 29.59375 \r\nQ 53.5625 26.078125 56.59375 19.921875 \r\nL 66.609375 0 \r\nL 56 0 \r\nL 46.6875 18.703125 \r\nQ 43.0625 26.03125 39.671875 28.421875 \r\nQ 36.28125 30.8125 30.421875 30.8125 \r\nL 19.671875 30.8125 \r\nL 19.671875 0 \r\nL 9.8125 0 \r\nL 9.8125 72.90625 \r\nL 32.078125 72.90625 \r\nQ 44.578125 72.90625 50.734375 67.671875 \r\nQ 56.890625 62.453125 56.890625 51.90625 \r\nQ 56.890625 45.015625 53.6875 40.46875 \r\nQ 50.484375 35.9375 44.390625 34.1875 \r\nz\r\nM 19.671875 64.796875 \r\nL 19.671875 38.921875 \r\nL 32.078125 38.921875 \r\nQ 39.203125 38.921875 42.84375 42.21875 \r\nQ 46.484375 45.515625 46.484375 51.90625 \r\nQ 46.484375 58.296875 42.84375 61.546875 \r\nQ 39.203125 64.796875 32.078125 64.796875 \r\nz\r\n\" id=\"DejaVuSans-82\"/>\r\n        <path d=\"M 44.28125 53.078125 \r\nL 44.28125 44.578125 \r\nQ 40.484375 46.53125 36.375 47.5 \r\nQ 32.28125 48.484375 27.875 48.484375 \r\nQ 21.1875 48.484375 17.84375 46.4375 \r\nQ 14.5 44.390625 14.5 40.28125 \r\nQ 14.5 37.15625 16.890625 35.375 \r\nQ 19.28125 33.59375 26.515625 31.984375 \r\nL 29.59375 31.296875 \r\nQ 39.15625 29.25 43.1875 25.515625 \r\nQ 47.21875 21.78125 47.21875 15.09375 \r\nQ 47.21875 7.46875 41.1875 3.015625 \r\nQ 35.15625 -1.421875 24.609375 -1.421875 \r\nQ 20.21875 -1.421875 15.453125 -0.5625 \r\nQ 10.6875 0.296875 5.421875 2 \r\nL 5.421875 11.28125 \r\nQ 10.40625 8.6875 15.234375 7.390625 \r\nQ 20.0625 6.109375 24.8125 6.109375 \r\nQ 31.15625 6.109375 34.5625 8.28125 \r\nQ 37.984375 10.453125 37.984375 14.40625 \r\nQ 37.984375 18.0625 35.515625 20.015625 \r\nQ 33.0625 21.96875 24.703125 23.78125 \r\nL 21.578125 24.515625 \r\nQ 13.234375 26.265625 9.515625 29.90625 \r\nQ 5.8125 33.546875 5.8125 39.890625 \r\nQ 5.8125 47.609375 11.28125 51.796875 \r\nQ 16.75 56 26.8125 56 \r\nQ 31.78125 56 36.171875 55.265625 \r\nQ 40.578125 54.546875 44.28125 53.078125 \r\nz\r\n\" id=\"DejaVuSans-115\"/>\r\n       </defs>\r\n       <use xlink:href=\"#DejaVuSans-73\"/>\r\n       <use x=\"29.492188\" xlink:href=\"#DejaVuSans-110\"/>\r\n       <use x=\"92.871094\" xlink:href=\"#DejaVuSans-100\"/>\r\n       <use x=\"156.347656\" xlink:href=\"#DejaVuSans-105\"/>\r\n       <use x=\"184.130859\" xlink:href=\"#DejaVuSans-97\"/>\r\n       <use x=\"245.410156\" xlink:href=\"#DejaVuSans-110\"/>\r\n       <use x=\"308.789062\" xlink:href=\"#DejaVuSans-32\"/>\r\n       <use x=\"340.576172\" xlink:href=\"#DejaVuSans-82\"/>\r\n       <use x=\"405.558594\" xlink:href=\"#DejaVuSans-101\"/>\r\n       <use x=\"467.082031\" xlink:href=\"#DejaVuSans-115\"/>\r\n       <use x=\"519.181641\" xlink:href=\"#DejaVuSans-116\"/>\r\n       <use x=\"558.390625\" xlink:href=\"#DejaVuSans-97\"/>\r\n       <use x=\"619.669922\" xlink:href=\"#DejaVuSans-117\"/>\r\n       <use x=\"683.048828\" xlink:href=\"#DejaVuSans-114\"/>\r\n       <use x=\"724.162109\" xlink:href=\"#DejaVuSans-97\"/>\r\n       <use x=\"785.441406\" xlink:href=\"#DejaVuSans-110\"/>\r\n       <use x=\"848.820312\" xlink:href=\"#DejaVuSans-116\"/>\r\n      </g>\r\n     </g>\r\n    </g>\r\n    <g id=\"ytick_3\">\r\n     <g id=\"line2d_7\">\r\n      <g>\r\n       <use style=\"stroke:#000000;stroke-width:0.8;\" x=\"107.28125\" xlink:href=\"#m0a19f5f7df\" y=\"247.21297\"/>\r\n      </g>\r\n     </g>\r\n     <g id=\"text_8\">\r\n      <!-- Thai Restaurant -->\r\n      <g transform=\"translate(21.007813 251.012189)scale(0.1 -0.1)\">\r\n       <defs>\r\n        <path d=\"M -0.296875 72.90625 \r\nL 61.375 72.90625 \r\nL 61.375 64.59375 \r\nL 35.5 64.59375 \r\nL 35.5 0 \r\nL 25.59375 0 \r\nL 25.59375 64.59375 \r\nL -0.296875 64.59375 \r\nz\r\n\" id=\"DejaVuSans-84\"/>\r\n        <path d=\"M 54.890625 33.015625 \r\nL 54.890625 0 \r\nL 45.90625 0 \r\nL 45.90625 32.71875 \r\nQ 45.90625 40.484375 42.875 44.328125 \r\nQ 39.84375 48.1875 33.796875 48.1875 \r\nQ 26.515625 48.1875 22.3125 43.546875 \r\nQ 18.109375 38.921875 18.109375 30.90625 \r\nL 18.109375 0 \r\nL 9.078125 0 \r\nL 9.078125 75.984375 \r\nL 18.109375 75.984375 \r\nL 18.109375 46.1875 \r\nQ 21.34375 51.125 25.703125 53.5625 \r\nQ 30.078125 56 35.796875 56 \r\nQ 45.21875 56 50.046875 50.171875 \r\nQ 54.890625 44.34375 54.890625 33.015625 \r\nz\r\n\" id=\"DejaVuSans-104\"/>\r\n       </defs>\r\n       <use xlink:href=\"#DejaVuSans-84\"/>\r\n       <use x=\"61.083984\" xlink:href=\"#DejaVuSans-104\"/>\r\n       <use x=\"124.462891\" xlink:href=\"#DejaVuSans-97\"/>\r\n       <use x=\"185.742188\" xlink:href=\"#DejaVuSans-105\"/>\r\n       <use x=\"213.525391\" xlink:href=\"#DejaVuSans-32\"/>\r\n       <use x=\"245.3125\" xlink:href=\"#DejaVuSans-82\"/>\r\n       <use x=\"310.294922\" xlink:href=\"#DejaVuSans-101\"/>\r\n       <use x=\"371.818359\" xlink:href=\"#DejaVuSans-115\"/>\r\n       <use x=\"423.917969\" xlink:href=\"#DejaVuSans-116\"/>\r\n       <use x=\"463.126953\" xlink:href=\"#DejaVuSans-97\"/>\r\n       <use x=\"524.40625\" xlink:href=\"#DejaVuSans-117\"/>\r\n       <use x=\"587.785156\" xlink:href=\"#DejaVuSans-114\"/>\r\n       <use x=\"628.898438\" xlink:href=\"#DejaVuSans-97\"/>\r\n       <use x=\"690.177734\" xlink:href=\"#DejaVuSans-110\"/>\r\n       <use x=\"753.556641\" xlink:href=\"#DejaVuSans-116\"/>\r\n      </g>\r\n     </g>\r\n    </g>\r\n    <g id=\"ytick_4\">\r\n     <g id=\"line2d_8\">\r\n      <g>\r\n       <use style=\"stroke:#000000;stroke-width:0.8;\" x=\"107.28125\" xlink:href=\"#m0a19f5f7df\" y=\"216.615032\"/>\r\n      </g>\r\n     </g>\r\n     <g id=\"text_9\">\r\n      <!-- Turkish Restaurant -->\r\n      <g transform=\"translate(7.2 220.414251)scale(0.1 -0.1)\">\r\n       <defs>\r\n        <path d=\"M 9.078125 75.984375 \r\nL 18.109375 75.984375 \r\nL 18.109375 31.109375 \r\nL 44.921875 54.6875 \r\nL 56.390625 54.6875 \r\nL 27.390625 29.109375 \r\nL 57.625 0 \r\nL 45.90625 0 \r\nL 18.109375 26.703125 \r\nL 18.109375 0 \r\nL 9.078125 0 \r\nz\r\n\" id=\"DejaVuSans-107\"/>\r\n       </defs>\r\n       <use xlink:href=\"#DejaVuSans-84\"/>\r\n       <use x=\"45.958984\" xlink:href=\"#DejaVuSans-117\"/>\r\n       <use x=\"109.337891\" xlink:href=\"#DejaVuSans-114\"/>\r\n       <use x=\"150.451172\" xlink:href=\"#DejaVuSans-107\"/>\r\n       <use x=\"208.361328\" xlink:href=\"#DejaVuSans-105\"/>\r\n       <use x=\"236.144531\" xlink:href=\"#DejaVuSans-115\"/>\r\n       <use x=\"288.244141\" xlink:href=\"#DejaVuSans-104\"/>\r\n       <use x=\"351.623047\" xlink:href=\"#DejaVuSans-32\"/>\r\n       <use x=\"383.410156\" xlink:href=\"#DejaVuSans-82\"/>\r\n       <use x=\"448.392578\" xlink:href=\"#DejaVuSans-101\"/>\r\n       <use x=\"509.916016\" xlink:href=\"#DejaVuSans-115\"/>\r\n       <use x=\"562.015625\" xlink:href=\"#DejaVuSans-116\"/>\r\n       <use x=\"601.224609\" xlink:href=\"#DejaVuSans-97\"/>\r\n       <use x=\"662.503906\" xlink:href=\"#DejaVuSans-117\"/>\r\n       <use x=\"725.882812\" xlink:href=\"#DejaVuSans-114\"/>\r\n       <use x=\"766.996094\" xlink:href=\"#DejaVuSans-97\"/>\r\n       <use x=\"828.275391\" xlink:href=\"#DejaVuSans-110\"/>\r\n       <use x=\"891.654297\" xlink:href=\"#DejaVuSans-116\"/>\r\n      </g>\r\n     </g>\r\n    </g>\r\n    <g id=\"ytick_5\">\r\n     <g id=\"line2d_9\">\r\n      <g>\r\n       <use style=\"stroke:#000000;stroke-width:0.8;\" x=\"107.28125\" xlink:href=\"#m0a19f5f7df\" y=\"186.017094\"/>\r\n      </g>\r\n     </g>\r\n     <g id=\"text_10\">\r\n      <!-- Wine Shop -->\r\n      <g transform=\"translate(47.01875 189.816313)scale(0.1 -0.1)\">\r\n       <defs>\r\n        <path d=\"M 3.328125 72.90625 \r\nL 13.28125 72.90625 \r\nL 28.609375 11.28125 \r\nL 43.890625 72.90625 \r\nL 54.984375 72.90625 \r\nL 70.3125 11.28125 \r\nL 85.59375 72.90625 \r\nL 95.609375 72.90625 \r\nL 77.296875 0 \r\nL 64.890625 0 \r\nL 49.515625 63.28125 \r\nL 33.984375 0 \r\nL 21.578125 0 \r\nz\r\n\" id=\"DejaVuSans-87\"/>\r\n        <path d=\"M 53.515625 70.515625 \r\nL 53.515625 60.890625 \r\nQ 47.90625 63.578125 42.921875 64.890625 \r\nQ 37.9375 66.21875 33.296875 66.21875 \r\nQ 25.25 66.21875 20.875 63.09375 \r\nQ 16.5 59.96875 16.5 54.203125 \r\nQ 16.5 49.359375 19.40625 46.890625 \r\nQ 22.3125 44.4375 30.421875 42.921875 \r\nL 36.375 41.703125 \r\nQ 47.40625 39.59375 52.65625 34.296875 \r\nQ 57.90625 29 57.90625 20.125 \r\nQ 57.90625 9.515625 50.796875 4.046875 \r\nQ 43.703125 -1.421875 29.984375 -1.421875 \r\nQ 24.8125 -1.421875 18.96875 -0.25 \r\nQ 13.140625 0.921875 6.890625 3.21875 \r\nL 6.890625 13.375 \r\nQ 12.890625 10.015625 18.65625 8.296875 \r\nQ 24.421875 6.59375 29.984375 6.59375 \r\nQ 38.421875 6.59375 43.015625 9.90625 \r\nQ 47.609375 13.234375 47.609375 19.390625 \r\nQ 47.609375 24.75 44.3125 27.78125 \r\nQ 41.015625 30.8125 33.5 32.328125 \r\nL 27.484375 33.5 \r\nQ 16.453125 35.6875 11.515625 40.375 \r\nQ 6.59375 45.0625 6.59375 53.421875 \r\nQ 6.59375 63.09375 13.40625 68.65625 \r\nQ 20.21875 74.21875 32.171875 74.21875 \r\nQ 37.3125 74.21875 42.625 73.28125 \r\nQ 47.953125 72.359375 53.515625 70.515625 \r\nz\r\n\" id=\"DejaVuSans-83\"/>\r\n        <path d=\"M 18.109375 8.203125 \r\nL 18.109375 -20.796875 \r\nL 9.078125 -20.796875 \r\nL 9.078125 54.6875 \r\nL 18.109375 54.6875 \r\nL 18.109375 46.390625 \r\nQ 20.953125 51.265625 25.265625 53.625 \r\nQ 29.59375 56 35.59375 56 \r\nQ 45.5625 56 51.78125 48.09375 \r\nQ 58.015625 40.1875 58.015625 27.296875 \r\nQ 58.015625 14.40625 51.78125 6.484375 \r\nQ 45.5625 -1.421875 35.59375 -1.421875 \r\nQ 29.59375 -1.421875 25.265625 0.953125 \r\nQ 20.953125 3.328125 18.109375 8.203125 \r\nz\r\nM 48.6875 27.296875 \r\nQ 48.6875 37.203125 44.609375 42.84375 \r\nQ 40.53125 48.484375 33.40625 48.484375 \r\nQ 26.265625 48.484375 22.1875 42.84375 \r\nQ 18.109375 37.203125 18.109375 27.296875 \r\nQ 18.109375 17.390625 22.1875 11.75 \r\nQ 26.265625 6.109375 33.40625 6.109375 \r\nQ 40.53125 6.109375 44.609375 11.75 \r\nQ 48.6875 17.390625 48.6875 27.296875 \r\nz\r\n\" id=\"DejaVuSans-112\"/>\r\n       </defs>\r\n       <use xlink:href=\"#DejaVuSans-87\"/>\r\n       <use x=\"96.626953\" xlink:href=\"#DejaVuSans-105\"/>\r\n       <use x=\"124.410156\" xlink:href=\"#DejaVuSans-110\"/>\r\n       <use x=\"187.789062\" xlink:href=\"#DejaVuSans-101\"/>\r\n       <use x=\"249.3125\" xlink:href=\"#DejaVuSans-32\"/>\r\n       <use x=\"281.099609\" xlink:href=\"#DejaVuSans-83\"/>\r\n       <use x=\"344.576172\" xlink:href=\"#DejaVuSans-104\"/>\r\n       <use x=\"407.955078\" xlink:href=\"#DejaVuSans-111\"/>\r\n       <use x=\"469.136719\" xlink:href=\"#DejaVuSans-112\"/>\r\n      </g>\r\n     </g>\r\n    </g>\r\n    <g id=\"ytick_6\">\r\n     <g id=\"line2d_10\">\r\n      <g>\r\n       <use style=\"stroke:#000000;stroke-width:0.8;\" x=\"107.28125\" xlink:href=\"#m0a19f5f7df\" y=\"155.419156\"/>\r\n      </g>\r\n     </g>\r\n     <g id=\"text_11\">\r\n      <!-- Café -->\r\n      <g transform=\"translate(77.496875 159.218375)scale(0.1 -0.1)\">\r\n       <defs>\r\n        <path d=\"M 64.40625 67.28125 \r\nL 64.40625 56.890625 \r\nQ 59.421875 61.53125 53.78125 63.8125 \r\nQ 48.140625 66.109375 41.796875 66.109375 \r\nQ 29.296875 66.109375 22.65625 58.46875 \r\nQ 16.015625 50.828125 16.015625 36.375 \r\nQ 16.015625 21.96875 22.65625 14.328125 \r\nQ 29.296875 6.6875 41.796875 6.6875 \r\nQ 48.140625 6.6875 53.78125 8.984375 \r\nQ 59.421875 11.28125 64.40625 15.921875 \r\nL 64.40625 5.609375 \r\nQ 59.234375 2.09375 53.4375 0.328125 \r\nQ 47.65625 -1.421875 41.21875 -1.421875 \r\nQ 24.65625 -1.421875 15.125 8.703125 \r\nQ 5.609375 18.84375 5.609375 36.375 \r\nQ 5.609375 53.953125 15.125 64.078125 \r\nQ 24.65625 74.21875 41.21875 74.21875 \r\nQ 47.75 74.21875 53.53125 72.484375 \r\nQ 59.328125 70.75 64.40625 67.28125 \r\nz\r\n\" id=\"DejaVuSans-67\"/>\r\n        <path d=\"M 56.203125 29.59375 \r\nL 56.203125 25.203125 \r\nL 14.890625 25.203125 \r\nQ 15.484375 15.921875 20.484375 11.0625 \r\nQ 25.484375 6.203125 34.421875 6.203125 \r\nQ 39.59375 6.203125 44.453125 7.46875 \r\nQ 49.3125 8.734375 54.109375 11.28125 \r\nL 54.109375 2.78125 \r\nQ 49.265625 0.734375 44.1875 -0.34375 \r\nQ 39.109375 -1.421875 33.890625 -1.421875 \r\nQ 20.796875 -1.421875 13.15625 6.1875 \r\nQ 5.515625 13.8125 5.515625 26.8125 \r\nQ 5.515625 40.234375 12.765625 48.109375 \r\nQ 20.015625 56 32.328125 56 \r\nQ 43.359375 56 49.78125 48.890625 \r\nQ 56.203125 41.796875 56.203125 29.59375 \r\nz\r\nM 47.21875 32.234375 \r\nQ 47.125 39.59375 43.09375 43.984375 \r\nQ 39.0625 48.390625 32.421875 48.390625 \r\nQ 24.90625 48.390625 20.390625 44.140625 \r\nQ 15.875 39.890625 15.1875 32.171875 \r\nz\r\nM 38.578125 79.984375 \r\nL 48.296875 79.984375 \r\nL 32.375 61.625 \r\nL 24.90625 61.625 \r\nz\r\n\" id=\"DejaVuSans-233\"/>\r\n       </defs>\r\n       <use xlink:href=\"#DejaVuSans-67\"/>\r\n       <use x=\"69.824219\" xlink:href=\"#DejaVuSans-97\"/>\r\n       <use x=\"131.103516\" xlink:href=\"#DejaVuSans-102\"/>\r\n       <use x=\"166.308594\" xlink:href=\"#DejaVuSans-233\"/>\r\n      </g>\r\n     </g>\r\n    </g>\r\n    <g id=\"ytick_7\">\r\n     <g id=\"line2d_11\">\r\n      <g>\r\n       <use style=\"stroke:#000000;stroke-width:0.8;\" x=\"107.28125\" xlink:href=\"#m0a19f5f7df\" y=\"124.821218\"/>\r\n      </g>\r\n     </g>\r\n     <g id=\"text_12\">\r\n      <!-- Pier -->\r\n      <g transform=\"translate(81.434375 128.620437)scale(0.1 -0.1)\">\r\n       <use xlink:href=\"#DejaVuSans-80\"/>\r\n       <use x=\"58.052734\" xlink:href=\"#DejaVuSans-105\"/>\r\n       <use x=\"85.835938\" xlink:href=\"#DejaVuSans-101\"/>\r\n       <use x=\"147.359375\" xlink:href=\"#DejaVuSans-114\"/>\r\n      </g>\r\n     </g>\r\n    </g>\r\n    <g id=\"ytick_8\">\r\n     <g id=\"line2d_12\">\r\n      <g>\r\n       <use style=\"stroke:#000000;stroke-width:0.8;\" x=\"107.28125\" xlink:href=\"#m0a19f5f7df\" y=\"94.22328\"/>\r\n      </g>\r\n     </g>\r\n     <g id=\"text_13\">\r\n      <!-- Coffee Shop -->\r\n      <g transform=\"translate(39.501563 98.022498)scale(0.1 -0.1)\">\r\n       <use xlink:href=\"#DejaVuSans-67\"/>\r\n       <use x=\"69.824219\" xlink:href=\"#DejaVuSans-111\"/>\r\n       <use x=\"131.005859\" xlink:href=\"#DejaVuSans-102\"/>\r\n       <use x=\"166.210938\" xlink:href=\"#DejaVuSans-102\"/>\r\n       <use x=\"201.416016\" xlink:href=\"#DejaVuSans-101\"/>\r\n       <use x=\"262.939453\" xlink:href=\"#DejaVuSans-101\"/>\r\n       <use x=\"324.462891\" xlink:href=\"#DejaVuSans-32\"/>\r\n       <use x=\"356.25\" xlink:href=\"#DejaVuSans-83\"/>\r\n       <use x=\"419.726562\" xlink:href=\"#DejaVuSans-104\"/>\r\n       <use x=\"483.105469\" xlink:href=\"#DejaVuSans-111\"/>\r\n       <use x=\"544.287109\" xlink:href=\"#DejaVuSans-112\"/>\r\n      </g>\r\n     </g>\r\n    </g>\r\n    <g id=\"ytick_9\">\r\n     <g id=\"line2d_13\">\r\n      <g>\r\n       <use style=\"stroke:#000000;stroke-width:0.8;\" x=\"107.28125\" xlink:href=\"#m0a19f5f7df\" y=\"63.625341\"/>\r\n      </g>\r\n     </g>\r\n     <g id=\"text_14\">\r\n      <!-- Pub -->\r\n      <g transform=\"translate(81.740625 67.42456)scale(0.1 -0.1)\">\r\n       <use xlink:href=\"#DejaVuSans-80\"/>\r\n       <use x=\"58.552734\" xlink:href=\"#DejaVuSans-117\"/>\r\n       <use x=\"121.931641\" xlink:href=\"#DejaVuSans-98\"/>\r\n      </g>\r\n     </g>\r\n    </g>\r\n    <g id=\"ytick_10\">\r\n     <g id=\"line2d_14\">\r\n      <g>\r\n       <use style=\"stroke:#000000;stroke-width:0.8;\" x=\"107.28125\" xlink:href=\"#m0a19f5f7df\" y=\"33.027403\"/>\r\n      </g>\r\n     </g>\r\n     <g id=\"text_15\">\r\n      <!-- Grocery Store -->\r\n      <g transform=\"translate(31.242188 36.826622)scale(0.1 -0.1)\">\r\n       <defs>\r\n        <path d=\"M 59.515625 10.40625 \r\nL 59.515625 29.984375 \r\nL 43.40625 29.984375 \r\nL 43.40625 38.09375 \r\nL 69.28125 38.09375 \r\nL 69.28125 6.78125 \r\nQ 63.578125 2.734375 56.6875 0.65625 \r\nQ 49.8125 -1.421875 42 -1.421875 \r\nQ 24.90625 -1.421875 15.25 8.5625 \r\nQ 5.609375 18.5625 5.609375 36.375 \r\nQ 5.609375 54.25 15.25 64.234375 \r\nQ 24.90625 74.21875 42 74.21875 \r\nQ 49.125 74.21875 55.546875 72.453125 \r\nQ 61.96875 70.703125 67.390625 67.28125 \r\nL 67.390625 56.78125 \r\nQ 61.921875 61.421875 55.765625 63.765625 \r\nQ 49.609375 66.109375 42.828125 66.109375 \r\nQ 29.4375 66.109375 22.71875 58.640625 \r\nQ 16.015625 51.171875 16.015625 36.375 \r\nQ 16.015625 21.625 22.71875 14.15625 \r\nQ 29.4375 6.6875 42.828125 6.6875 \r\nQ 48.046875 6.6875 52.140625 7.59375 \r\nQ 56.25 8.5 59.515625 10.40625 \r\nz\r\n\" id=\"DejaVuSans-71\"/>\r\n       </defs>\r\n       <use xlink:href=\"#DejaVuSans-71\"/>\r\n       <use x=\"77.490234\" xlink:href=\"#DejaVuSans-114\"/>\r\n       <use x=\"116.353516\" xlink:href=\"#DejaVuSans-111\"/>\r\n       <use x=\"177.535156\" xlink:href=\"#DejaVuSans-99\"/>\r\n       <use x=\"232.515625\" xlink:href=\"#DejaVuSans-101\"/>\r\n       <use x=\"294.039062\" xlink:href=\"#DejaVuSans-114\"/>\r\n       <use x=\"335.152344\" xlink:href=\"#DejaVuSans-121\"/>\r\n       <use x=\"394.332031\" xlink:href=\"#DejaVuSans-32\"/>\r\n       <use x=\"426.119141\" xlink:href=\"#DejaVuSans-83\"/>\r\n       <use x=\"489.595703\" xlink:href=\"#DejaVuSans-116\"/>\r\n       <use x=\"528.804688\" xlink:href=\"#DejaVuSans-111\"/>\r\n       <use x=\"589.986328\" xlink:href=\"#DejaVuSans-114\"/>\r\n       <use x=\"628.849609\" xlink:href=\"#DejaVuSans-101\"/>\r\n      </g>\r\n     </g>\r\n    </g>\r\n   </g>\r\n   <g id=\"patch_13\">\r\n    <path d=\"M 107.28125 319.118125 \r\nL 107.28125 22.318125 \r\n\" style=\"fill:none;stroke:#000000;stroke-linecap:square;stroke-linejoin:miter;stroke-width:0.8;\"/>\r\n   </g>\r\n   <g id=\"patch_14\">\r\n    <path d=\"M 333.860417 319.118125 \r\nL 333.860417 22.318125 \r\n\" style=\"fill:none;stroke:#000000;stroke-linecap:square;stroke-linejoin:miter;stroke-width:0.8;\"/>\r\n   </g>\r\n   <g id=\"patch_15\">\r\n    <path d=\"M 107.28125 319.118125 \r\nL 333.860417 319.118125 \r\n\" style=\"fill:none;stroke:#000000;stroke-linecap:square;stroke-linejoin:miter;stroke-width:0.8;\"/>\r\n   </g>\r\n   <g id=\"patch_16\">\r\n    <path d=\"M 107.28125 22.318125 \r\nL 333.860417 22.318125 \r\n\" style=\"fill:none;stroke:#000000;stroke-linecap:square;stroke-linejoin:miter;stroke-width:0.8;\"/>\r\n   </g>\r\n   <g id=\"text_16\">\r\n    <!-- Cluster 0 -->\r\n    <g transform=\"translate(193.551146 16.318125)scale(0.12 -0.12)\">\r\n     <use xlink:href=\"#DejaVuSans-67\"/>\r\n     <use x=\"69.824219\" xlink:href=\"#DejaVuSans-108\"/>\r\n     <use x=\"97.607422\" xlink:href=\"#DejaVuSans-117\"/>\r\n     <use x=\"160.986328\" xlink:href=\"#DejaVuSans-115\"/>\r\n     <use x=\"213.085938\" xlink:href=\"#DejaVuSans-116\"/>\r\n     <use x=\"252.294922\" xlink:href=\"#DejaVuSans-101\"/>\r\n     <use x=\"313.818359\" xlink:href=\"#DejaVuSans-114\"/>\r\n     <use x=\"354.931641\" xlink:href=\"#DejaVuSans-32\"/>\r\n     <use x=\"386.71875\" xlink:href=\"#DejaVuSans-48\"/>\r\n    </g>\r\n   </g>\r\n  </g>\r\n  <g id=\"axes_2\">\r\n   <g id=\"patch_17\">\r\n    <path d=\"M 467.597917 319.118125 \r\nL 694.177083 319.118125 \r\nL 694.177083 22.318125 \r\nL 467.597917 22.318125 \r\nz\r\n\" style=\"fill:#ffffff;\"/>\r\n   </g>\r\n   <g id=\"patch_18\">\r\n    <path clip-path=\"url(#p202f56eca8)\" d=\"M 467.597917 311.46864 \r\nL 509.172076 311.46864 \r\nL 509.172076 305.349053 \r\nL 467.597917 305.349053 \r\nz\r\n\" style=\"fill:#ff00ff;\"/>\r\n   </g>\r\n   <g id=\"patch_19\">\r\n    <path clip-path=\"url(#p202f56eca8)\" d=\"M 467.597917 280.870702 \r\nL 509.172076 280.870702 \r\nL 509.172076 274.751115 \r\nL 467.597917 274.751115 \r\nz\r\n\" style=\"fill:#ff00ff;\"/>\r\n   </g>\r\n   <g id=\"patch_20\">\r\n    <path clip-path=\"url(#p202f56eca8)\" d=\"M 467.597917 250.272764 \r\nL 509.172076 250.272764 \r\nL 509.172076 244.153177 \r\nL 467.597917 244.153177 \r\nz\r\n\" style=\"fill:#ff00ff;\"/>\r\n   </g>\r\n   <g id=\"patch_21\">\r\n    <path clip-path=\"url(#p202f56eca8)\" d=\"M 467.597917 219.674826 \r\nL 523.030129 219.674826 \r\nL 523.030129 213.555238 \r\nL 467.597917 213.555238 \r\nz\r\n\" style=\"fill:#ff00ff;\"/>\r\n   </g>\r\n   <g id=\"patch_22\">\r\n    <path clip-path=\"url(#p202f56eca8)\" d=\"M 467.597917 189.076888 \r\nL 523.030129 189.076888 \r\nL 523.030129 182.9573 \r\nL 467.597917 182.9573 \r\nz\r\n\" style=\"fill:#ff00ff;\"/>\r\n   </g>\r\n   <g id=\"patch_23\">\r\n    <path clip-path=\"url(#p202f56eca8)\" d=\"M 467.597917 158.47895 \r\nL 550.746235 158.47895 \r\nL 550.746235 152.359362 \r\nL 467.597917 152.359362 \r\nz\r\n\" style=\"fill:#ff00ff;\"/>\r\n   </g>\r\n   <g id=\"patch_24\">\r\n    <path clip-path=\"url(#p202f56eca8)\" d=\"M 467.597917 127.881012 \r\nL 564.604288 127.881012 \r\nL 564.604288 121.761424 \r\nL 467.597917 121.761424 \r\nz\r\n\" style=\"fill:#ff00ff;\"/>\r\n   </g>\r\n   <g id=\"patch_25\">\r\n    <path clip-path=\"url(#p202f56eca8)\" d=\"M 467.597917 97.283073 \r\nL 564.604288 97.283073 \r\nL 564.604288 91.163486 \r\nL 467.597917 91.163486 \r\nz\r\n\" style=\"fill:#ff00ff;\"/>\r\n   </g>\r\n   <g id=\"patch_26\">\r\n    <path clip-path=\"url(#p202f56eca8)\" d=\"M 467.597917 66.685135 \r\nL 578.462341 66.685135 \r\nL 578.462341 60.565548 \r\nL 467.597917 60.565548 \r\nz\r\n\" style=\"fill:#ff00ff;\"/>\r\n   </g>\r\n   <g id=\"patch_27\">\r\n    <path clip-path=\"url(#p202f56eca8)\" d=\"M 467.597917 36.087197 \r\nL 620.0365 36.087197 \r\nL 620.0365 29.96761 \r\nL 467.597917 29.96761 \r\nz\r\n\" style=\"fill:#ff00ff;\"/>\r\n   </g>\r\n   <g id=\"matplotlib.axis_3\">\r\n    <g id=\"xtick_5\">\r\n     <g id=\"line2d_15\">\r\n      <g>\r\n       <use style=\"stroke:#000000;stroke-width:0.8;\" x=\"467.597917\" xlink:href=\"#m7154fe2193\" y=\"319.118125\"/>\r\n      </g>\r\n     </g>\r\n     <g id=\"text_17\">\r\n      <!-- 0.00 -->\r\n      <g transform=\"translate(456.465104 333.716562)scale(0.1 -0.1)\">\r\n       <use xlink:href=\"#DejaVuSans-48\"/>\r\n       <use x=\"63.623047\" xlink:href=\"#DejaVuSans-46\"/>\r\n       <use x=\"95.410156\" xlink:href=\"#DejaVuSans-48\"/>\r\n       <use x=\"159.033203\" xlink:href=\"#DejaVuSans-48\"/>\r\n      </g>\r\n     </g>\r\n    </g>\r\n    <g id=\"xtick_6\">\r\n     <g id=\"line2d_16\">\r\n      <g>\r\n       <use style=\"stroke:#000000;stroke-width:0.8;\" x=\"543.124306\" xlink:href=\"#m7154fe2193\" y=\"319.118125\"/>\r\n      </g>\r\n     </g>\r\n     <g id=\"text_18\">\r\n      <!-- 0.05 -->\r\n      <g transform=\"translate(531.991493 333.716562)scale(0.1 -0.1)\">\r\n       <use xlink:href=\"#DejaVuSans-48\"/>\r\n       <use x=\"63.623047\" xlink:href=\"#DejaVuSans-46\"/>\r\n       <use x=\"95.410156\" xlink:href=\"#DejaVuSans-48\"/>\r\n       <use x=\"159.033203\" xlink:href=\"#DejaVuSans-53\"/>\r\n      </g>\r\n     </g>\r\n    </g>\r\n    <g id=\"xtick_7\">\r\n     <g id=\"line2d_17\">\r\n      <g>\r\n       <use style=\"stroke:#000000;stroke-width:0.8;\" x=\"618.650694\" xlink:href=\"#m7154fe2193\" y=\"319.118125\"/>\r\n      </g>\r\n     </g>\r\n     <g id=\"text_19\">\r\n      <!-- 0.10 -->\r\n      <g transform=\"translate(607.517882 333.716562)scale(0.1 -0.1)\">\r\n       <use xlink:href=\"#DejaVuSans-48\"/>\r\n       <use x=\"63.623047\" xlink:href=\"#DejaVuSans-46\"/>\r\n       <use x=\"95.410156\" xlink:href=\"#DejaVuSans-49\"/>\r\n       <use x=\"159.033203\" xlink:href=\"#DejaVuSans-48\"/>\r\n      </g>\r\n     </g>\r\n    </g>\r\n    <g id=\"xtick_8\">\r\n     <g id=\"line2d_18\">\r\n      <g>\r\n       <use style=\"stroke:#000000;stroke-width:0.8;\" x=\"694.177083\" xlink:href=\"#m7154fe2193\" y=\"319.118125\"/>\r\n      </g>\r\n     </g>\r\n     <g id=\"text_20\">\r\n      <!-- 0.15 -->\r\n      <g transform=\"translate(683.044271 333.716562)scale(0.1 -0.1)\">\r\n       <use xlink:href=\"#DejaVuSans-48\"/>\r\n       <use x=\"63.623047\" xlink:href=\"#DejaVuSans-46\"/>\r\n       <use x=\"95.410156\" xlink:href=\"#DejaVuSans-49\"/>\r\n       <use x=\"159.033203\" xlink:href=\"#DejaVuSans-53\"/>\r\n      </g>\r\n     </g>\r\n    </g>\r\n    <g id=\"text_21\">\r\n     <!-- Probability of Venue Occurrence -->\r\n     <g transform=\"translate(500.763281 347.394687)scale(0.1 -0.1)\">\r\n      <use xlink:href=\"#DejaVuSans-80\"/>\r\n      <use x=\"58.552734\" xlink:href=\"#DejaVuSans-114\"/>\r\n      <use x=\"97.416016\" xlink:href=\"#DejaVuSans-111\"/>\r\n      <use x=\"158.597656\" xlink:href=\"#DejaVuSans-98\"/>\r\n      <use x=\"222.074219\" xlink:href=\"#DejaVuSans-97\"/>\r\n      <use x=\"283.353516\" xlink:href=\"#DejaVuSans-98\"/>\r\n      <use x=\"346.830078\" xlink:href=\"#DejaVuSans-105\"/>\r\n      <use x=\"374.613281\" xlink:href=\"#DejaVuSans-108\"/>\r\n      <use x=\"402.396484\" xlink:href=\"#DejaVuSans-105\"/>\r\n      <use x=\"430.179688\" xlink:href=\"#DejaVuSans-116\"/>\r\n      <use x=\"469.388672\" xlink:href=\"#DejaVuSans-121\"/>\r\n      <use x=\"528.568359\" xlink:href=\"#DejaVuSans-32\"/>\r\n      <use x=\"560.355469\" xlink:href=\"#DejaVuSans-111\"/>\r\n      <use x=\"621.537109\" xlink:href=\"#DejaVuSans-102\"/>\r\n      <use x=\"656.742188\" xlink:href=\"#DejaVuSans-32\"/>\r\n      <use x=\"688.529297\" xlink:href=\"#DejaVuSans-86\"/>\r\n      <use x=\"749.1875\" xlink:href=\"#DejaVuSans-101\"/>\r\n      <use x=\"810.710938\" xlink:href=\"#DejaVuSans-110\"/>\r\n      <use x=\"874.089844\" xlink:href=\"#DejaVuSans-117\"/>\r\n      <use x=\"937.46875\" xlink:href=\"#DejaVuSans-101\"/>\r\n      <use x=\"998.992188\" xlink:href=\"#DejaVuSans-32\"/>\r\n      <use x=\"1030.779297\" xlink:href=\"#DejaVuSans-79\"/>\r\n      <use x=\"1109.490234\" xlink:href=\"#DejaVuSans-99\"/>\r\n      <use x=\"1164.470703\" xlink:href=\"#DejaVuSans-99\"/>\r\n      <use x=\"1219.451172\" xlink:href=\"#DejaVuSans-117\"/>\r\n      <use x=\"1282.830078\" xlink:href=\"#DejaVuSans-114\"/>\r\n      <use x=\"1322.193359\" xlink:href=\"#DejaVuSans-114\"/>\r\n      <use x=\"1361.056641\" xlink:href=\"#DejaVuSans-101\"/>\r\n      <use x=\"1422.580078\" xlink:href=\"#DejaVuSans-110\"/>\r\n      <use x=\"1485.958984\" xlink:href=\"#DejaVuSans-99\"/>\r\n      <use x=\"1540.939453\" xlink:href=\"#DejaVuSans-101\"/>\r\n     </g>\r\n    </g>\r\n   </g>\r\n   <g id=\"matplotlib.axis_4\">\r\n    <g id=\"ytick_11\">\r\n     <g id=\"line2d_19\">\r\n      <g>\r\n       <use style=\"stroke:#000000;stroke-width:0.8;\" x=\"467.597917\" xlink:href=\"#m0a19f5f7df\" y=\"308.408847\"/>\r\n      </g>\r\n     </g>\r\n     <g id=\"text_22\">\r\n      <!-- Fast Food Restaurant -->\r\n      <g transform=\"translate(355.426042 312.208065)scale(0.1 -0.1)\">\r\n       <defs>\r\n        <path d=\"M 9.8125 72.90625 \r\nL 51.703125 72.90625 \r\nL 51.703125 64.59375 \r\nL 19.671875 64.59375 \r\nL 19.671875 43.109375 \r\nL 48.578125 43.109375 \r\nL 48.578125 34.8125 \r\nL 19.671875 34.8125 \r\nL 19.671875 0 \r\nL 9.8125 0 \r\nz\r\n\" id=\"DejaVuSans-70\"/>\r\n       </defs>\r\n       <use xlink:href=\"#DejaVuSans-70\"/>\r\n       <use x=\"48.394531\" xlink:href=\"#DejaVuSans-97\"/>\r\n       <use x=\"109.673828\" xlink:href=\"#DejaVuSans-115\"/>\r\n       <use x=\"161.773438\" xlink:href=\"#DejaVuSans-116\"/>\r\n       <use x=\"200.982422\" xlink:href=\"#DejaVuSans-32\"/>\r\n       <use x=\"232.769531\" xlink:href=\"#DejaVuSans-70\"/>\r\n       <use x=\"286.664062\" xlink:href=\"#DejaVuSans-111\"/>\r\n       <use x=\"347.845703\" xlink:href=\"#DejaVuSans-111\"/>\r\n       <use x=\"409.027344\" xlink:href=\"#DejaVuSans-100\"/>\r\n       <use x=\"472.503906\" xlink:href=\"#DejaVuSans-32\"/>\r\n       <use x=\"504.291016\" xlink:href=\"#DejaVuSans-82\"/>\r\n       <use x=\"569.273438\" xlink:href=\"#DejaVuSans-101\"/>\r\n       <use x=\"630.796875\" xlink:href=\"#DejaVuSans-115\"/>\r\n       <use x=\"682.896484\" xlink:href=\"#DejaVuSans-116\"/>\r\n       <use x=\"722.105469\" xlink:href=\"#DejaVuSans-97\"/>\r\n       <use x=\"783.384766\" xlink:href=\"#DejaVuSans-117\"/>\r\n       <use x=\"846.763672\" xlink:href=\"#DejaVuSans-114\"/>\r\n       <use x=\"887.876953\" xlink:href=\"#DejaVuSans-97\"/>\r\n       <use x=\"949.15625\" xlink:href=\"#DejaVuSans-110\"/>\r\n       <use x=\"1012.535156\" xlink:href=\"#DejaVuSans-116\"/>\r\n      </g>\r\n     </g>\r\n    </g>\r\n    <g id=\"ytick_12\">\r\n     <g id=\"line2d_20\">\r\n      <g>\r\n       <use style=\"stroke:#000000;stroke-width:0.8;\" x=\"467.597917\" xlink:href=\"#m0a19f5f7df\" y=\"277.810909\"/>\r\n      </g>\r\n     </g>\r\n     <g id=\"text_23\">\r\n      <!-- Fried Chicken Joint -->\r\n      <g transform=\"translate(368.204167 281.610127)scale(0.1 -0.1)\">\r\n       <defs>\r\n        <path d=\"M 9.8125 72.90625 \r\nL 19.671875 72.90625 \r\nL 19.671875 5.078125 \r\nQ 19.671875 -8.109375 14.671875 -14.0625 \r\nQ 9.671875 -20.015625 -1.421875 -20.015625 \r\nL -5.171875 -20.015625 \r\nL -5.171875 -11.71875 \r\nL -2.09375 -11.71875 \r\nQ 4.4375 -11.71875 7.125 -8.046875 \r\nQ 9.8125 -4.390625 9.8125 5.078125 \r\nz\r\n\" id=\"DejaVuSans-74\"/>\r\n       </defs>\r\n       <use xlink:href=\"#DejaVuSans-70\"/>\r\n       <use x=\"50.269531\" xlink:href=\"#DejaVuSans-114\"/>\r\n       <use x=\"91.382812\" xlink:href=\"#DejaVuSans-105\"/>\r\n       <use x=\"119.166016\" xlink:href=\"#DejaVuSans-101\"/>\r\n       <use x=\"180.689453\" xlink:href=\"#DejaVuSans-100\"/>\r\n       <use x=\"244.166016\" xlink:href=\"#DejaVuSans-32\"/>\r\n       <use x=\"275.953125\" xlink:href=\"#DejaVuSans-67\"/>\r\n       <use x=\"345.777344\" xlink:href=\"#DejaVuSans-104\"/>\r\n       <use x=\"409.15625\" xlink:href=\"#DejaVuSans-105\"/>\r\n       <use x=\"436.939453\" xlink:href=\"#DejaVuSans-99\"/>\r\n       <use x=\"491.919922\" xlink:href=\"#DejaVuSans-107\"/>\r\n       <use x=\"546.205078\" xlink:href=\"#DejaVuSans-101\"/>\r\n       <use x=\"607.728516\" xlink:href=\"#DejaVuSans-110\"/>\r\n       <use x=\"671.107422\" xlink:href=\"#DejaVuSans-32\"/>\r\n       <use x=\"702.894531\" xlink:href=\"#DejaVuSans-74\"/>\r\n       <use x=\"732.386719\" xlink:href=\"#DejaVuSans-111\"/>\r\n       <use x=\"793.568359\" xlink:href=\"#DejaVuSans-105\"/>\r\n       <use x=\"821.351562\" xlink:href=\"#DejaVuSans-110\"/>\r\n       <use x=\"884.730469\" xlink:href=\"#DejaVuSans-116\"/>\r\n      </g>\r\n     </g>\r\n    </g>\r\n    <g id=\"ytick_13\">\r\n     <g id=\"line2d_21\">\r\n      <g>\r\n       <use style=\"stroke:#000000;stroke-width:0.8;\" x=\"467.597917\" xlink:href=\"#m0a19f5f7df\" y=\"247.21297\"/>\r\n      </g>\r\n     </g>\r\n     <g id=\"text_24\">\r\n      <!-- Café -->\r\n      <g transform=\"translate(437.813542 251.012189)scale(0.1 -0.1)\">\r\n       <use xlink:href=\"#DejaVuSans-67\"/>\r\n       <use x=\"69.824219\" xlink:href=\"#DejaVuSans-97\"/>\r\n       <use x=\"131.103516\" xlink:href=\"#DejaVuSans-102\"/>\r\n       <use x=\"166.308594\" xlink:href=\"#DejaVuSans-233\"/>\r\n      </g>\r\n     </g>\r\n    </g>\r\n    <g id=\"ytick_14\">\r\n     <g id=\"line2d_22\">\r\n      <g>\r\n       <use style=\"stroke:#000000;stroke-width:0.8;\" x=\"467.597917\" xlink:href=\"#m0a19f5f7df\" y=\"216.615032\"/>\r\n      </g>\r\n     </g>\r\n     <g id=\"text_25\">\r\n      <!-- Park -->\r\n      <g transform=\"translate(438.988542 220.414251)scale(0.1 -0.1)\">\r\n       <use xlink:href=\"#DejaVuSans-80\"/>\r\n       <use x=\"55.802734\" xlink:href=\"#DejaVuSans-97\"/>\r\n       <use x=\"117.082031\" xlink:href=\"#DejaVuSans-114\"/>\r\n       <use x=\"158.195312\" xlink:href=\"#DejaVuSans-107\"/>\r\n      </g>\r\n     </g>\r\n    </g>\r\n    <g id=\"ytick_15\">\r\n     <g id=\"line2d_23\">\r\n      <g>\r\n       <use style=\"stroke:#000000;stroke-width:0.8;\" x=\"467.597917\" xlink:href=\"#m0a19f5f7df\" y=\"186.017094\"/>\r\n      </g>\r\n     </g>\r\n     <g id=\"text_26\">\r\n      <!-- Supermarket -->\r\n      <g transform=\"translate(395.993229 189.816313)scale(0.1 -0.1)\">\r\n       <defs>\r\n        <path d=\"M 52 44.1875 \r\nQ 55.375 50.25 60.0625 53.125 \r\nQ 64.75 56 71.09375 56 \r\nQ 79.640625 56 84.28125 50.015625 \r\nQ 88.921875 44.046875 88.921875 33.015625 \r\nL 88.921875 0 \r\nL 79.890625 0 \r\nL 79.890625 32.71875 \r\nQ 79.890625 40.578125 77.09375 44.375 \r\nQ 74.3125 48.1875 68.609375 48.1875 \r\nQ 61.625 48.1875 57.5625 43.546875 \r\nQ 53.515625 38.921875 53.515625 30.90625 \r\nL 53.515625 0 \r\nL 44.484375 0 \r\nL 44.484375 32.71875 \r\nQ 44.484375 40.625 41.703125 44.40625 \r\nQ 38.921875 48.1875 33.109375 48.1875 \r\nQ 26.21875 48.1875 22.15625 43.53125 \r\nQ 18.109375 38.875 18.109375 30.90625 \r\nL 18.109375 0 \r\nL 9.078125 0 \r\nL 9.078125 54.6875 \r\nL 18.109375 54.6875 \r\nL 18.109375 46.1875 \r\nQ 21.1875 51.21875 25.484375 53.609375 \r\nQ 29.78125 56 35.6875 56 \r\nQ 41.65625 56 45.828125 52.96875 \r\nQ 50 49.953125 52 44.1875 \r\nz\r\n\" id=\"DejaVuSans-109\"/>\r\n       </defs>\r\n       <use xlink:href=\"#DejaVuSans-83\"/>\r\n       <use x=\"63.476562\" xlink:href=\"#DejaVuSans-117\"/>\r\n       <use x=\"126.855469\" xlink:href=\"#DejaVuSans-112\"/>\r\n       <use x=\"190.332031\" xlink:href=\"#DejaVuSans-101\"/>\r\n       <use x=\"251.855469\" xlink:href=\"#DejaVuSans-114\"/>\r\n       <use x=\"291.21875\" xlink:href=\"#DejaVuSans-109\"/>\r\n       <use x=\"388.630859\" xlink:href=\"#DejaVuSans-97\"/>\r\n       <use x=\"449.910156\" xlink:href=\"#DejaVuSans-114\"/>\r\n       <use x=\"491.023438\" xlink:href=\"#DejaVuSans-107\"/>\r\n       <use x=\"545.308594\" xlink:href=\"#DejaVuSans-101\"/>\r\n       <use x=\"606.832031\" xlink:href=\"#DejaVuSans-116\"/>\r\n      </g>\r\n     </g>\r\n    </g>\r\n    <g id=\"ytick_16\">\r\n     <g id=\"line2d_24\">\r\n      <g>\r\n       <use style=\"stroke:#000000;stroke-width:0.8;\" x=\"467.597917\" xlink:href=\"#m0a19f5f7df\" y=\"155.419156\"/>\r\n      </g>\r\n     </g>\r\n     <g id=\"text_27\">\r\n      <!-- Grocery Store -->\r\n      <g transform=\"translate(391.558854 159.218375)scale(0.1 -0.1)\">\r\n       <use xlink:href=\"#DejaVuSans-71\"/>\r\n       <use x=\"77.490234\" xlink:href=\"#DejaVuSans-114\"/>\r\n       <use x=\"116.353516\" xlink:href=\"#DejaVuSans-111\"/>\r\n       <use x=\"177.535156\" xlink:href=\"#DejaVuSans-99\"/>\r\n       <use x=\"232.515625\" xlink:href=\"#DejaVuSans-101\"/>\r\n       <use x=\"294.039062\" xlink:href=\"#DejaVuSans-114\"/>\r\n       <use x=\"335.152344\" xlink:href=\"#DejaVuSans-121\"/>\r\n       <use x=\"394.332031\" xlink:href=\"#DejaVuSans-32\"/>\r\n       <use x=\"426.119141\" xlink:href=\"#DejaVuSans-83\"/>\r\n       <use x=\"489.595703\" xlink:href=\"#DejaVuSans-116\"/>\r\n       <use x=\"528.804688\" xlink:href=\"#DejaVuSans-111\"/>\r\n       <use x=\"589.986328\" xlink:href=\"#DejaVuSans-114\"/>\r\n       <use x=\"628.849609\" xlink:href=\"#DejaVuSans-101\"/>\r\n      </g>\r\n     </g>\r\n    </g>\r\n    <g id=\"ytick_17\">\r\n     <g id=\"line2d_25\">\r\n      <g>\r\n       <use style=\"stroke:#000000;stroke-width:0.8;\" x=\"467.597917\" xlink:href=\"#m0a19f5f7df\" y=\"124.821218\"/>\r\n      </g>\r\n     </g>\r\n     <g id=\"text_28\">\r\n      <!-- Pub -->\r\n      <g transform=\"translate(442.057292 128.620437)scale(0.1 -0.1)\">\r\n       <use xlink:href=\"#DejaVuSans-80\"/>\r\n       <use x=\"58.552734\" xlink:href=\"#DejaVuSans-117\"/>\r\n       <use x=\"121.931641\" xlink:href=\"#DejaVuSans-98\"/>\r\n      </g>\r\n     </g>\r\n    </g>\r\n    <g id=\"ytick_18\">\r\n     <g id=\"line2d_26\">\r\n      <g>\r\n       <use style=\"stroke:#000000;stroke-width:0.8;\" x=\"467.597917\" xlink:href=\"#m0a19f5f7df\" y=\"94.22328\"/>\r\n      </g>\r\n     </g>\r\n     <g id=\"text_29\">\r\n      <!-- Clothing Store -->\r\n      <g transform=\"translate(389.391667 98.022498)scale(0.1 -0.1)\">\r\n       <defs>\r\n        <path d=\"M 45.40625 27.984375 \r\nQ 45.40625 37.75 41.375 43.109375 \r\nQ 37.359375 48.484375 30.078125 48.484375 \r\nQ 22.859375 48.484375 18.828125 43.109375 \r\nQ 14.796875 37.75 14.796875 27.984375 \r\nQ 14.796875 18.265625 18.828125 12.890625 \r\nQ 22.859375 7.515625 30.078125 7.515625 \r\nQ 37.359375 7.515625 41.375 12.890625 \r\nQ 45.40625 18.265625 45.40625 27.984375 \r\nz\r\nM 54.390625 6.78125 \r\nQ 54.390625 -7.171875 48.1875 -13.984375 \r\nQ 42 -20.796875 29.203125 -20.796875 \r\nQ 24.46875 -20.796875 20.265625 -20.09375 \r\nQ 16.0625 -19.390625 12.109375 -17.921875 \r\nL 12.109375 -9.1875 \r\nQ 16.0625 -11.328125 19.921875 -12.34375 \r\nQ 23.78125 -13.375 27.78125 -13.375 \r\nQ 36.625 -13.375 41.015625 -8.765625 \r\nQ 45.40625 -4.15625 45.40625 5.171875 \r\nL 45.40625 9.625 \r\nQ 42.625 4.78125 38.28125 2.390625 \r\nQ 33.9375 0 27.875 0 \r\nQ 17.828125 0 11.671875 7.65625 \r\nQ 5.515625 15.328125 5.515625 27.984375 \r\nQ 5.515625 40.671875 11.671875 48.328125 \r\nQ 17.828125 56 27.875 56 \r\nQ 33.9375 56 38.28125 53.609375 \r\nQ 42.625 51.21875 45.40625 46.390625 \r\nL 45.40625 54.6875 \r\nL 54.390625 54.6875 \r\nz\r\n\" id=\"DejaVuSans-103\"/>\r\n       </defs>\r\n       <use xlink:href=\"#DejaVuSans-67\"/>\r\n       <use x=\"69.824219\" xlink:href=\"#DejaVuSans-108\"/>\r\n       <use x=\"97.607422\" xlink:href=\"#DejaVuSans-111\"/>\r\n       <use x=\"158.789062\" xlink:href=\"#DejaVuSans-116\"/>\r\n       <use x=\"197.998047\" xlink:href=\"#DejaVuSans-104\"/>\r\n       <use x=\"261.376953\" xlink:href=\"#DejaVuSans-105\"/>\r\n       <use x=\"289.160156\" xlink:href=\"#DejaVuSans-110\"/>\r\n       <use x=\"352.539062\" xlink:href=\"#DejaVuSans-103\"/>\r\n       <use x=\"416.015625\" xlink:href=\"#DejaVuSans-32\"/>\r\n       <use x=\"447.802734\" xlink:href=\"#DejaVuSans-83\"/>\r\n       <use x=\"511.279297\" xlink:href=\"#DejaVuSans-116\"/>\r\n       <use x=\"550.488281\" xlink:href=\"#DejaVuSans-111\"/>\r\n       <use x=\"611.669922\" xlink:href=\"#DejaVuSans-114\"/>\r\n       <use x=\"650.533203\" xlink:href=\"#DejaVuSans-101\"/>\r\n      </g>\r\n     </g>\r\n    </g>\r\n    <g id=\"ytick_19\">\r\n     <g id=\"line2d_27\">\r\n      <g>\r\n       <use style=\"stroke:#000000;stroke-width:0.8;\" x=\"467.597917\" xlink:href=\"#m0a19f5f7df\" y=\"63.625341\"/>\r\n      </g>\r\n     </g>\r\n     <g id=\"text_30\">\r\n      <!-- Coffee Shop -->\r\n      <g transform=\"translate(399.818229 67.42456)scale(0.1 -0.1)\">\r\n       <use xlink:href=\"#DejaVuSans-67\"/>\r\n       <use x=\"69.824219\" xlink:href=\"#DejaVuSans-111\"/>\r\n       <use x=\"131.005859\" xlink:href=\"#DejaVuSans-102\"/>\r\n       <use x=\"166.210938\" xlink:href=\"#DejaVuSans-102\"/>\r\n       <use x=\"201.416016\" xlink:href=\"#DejaVuSans-101\"/>\r\n       <use x=\"262.939453\" xlink:href=\"#DejaVuSans-101\"/>\r\n       <use x=\"324.462891\" xlink:href=\"#DejaVuSans-32\"/>\r\n       <use x=\"356.25\" xlink:href=\"#DejaVuSans-83\"/>\r\n       <use x=\"419.726562\" xlink:href=\"#DejaVuSans-104\"/>\r\n       <use x=\"483.105469\" xlink:href=\"#DejaVuSans-111\"/>\r\n       <use x=\"544.287109\" xlink:href=\"#DejaVuSans-112\"/>\r\n      </g>\r\n     </g>\r\n    </g>\r\n    <g id=\"ytick_20\">\r\n     <g id=\"line2d_28\">\r\n      <g>\r\n       <use style=\"stroke:#000000;stroke-width:0.8;\" x=\"467.597917\" xlink:href=\"#m0a19f5f7df\" y=\"33.027403\"/>\r\n      </g>\r\n     </g>\r\n     <g id=\"text_31\">\r\n      <!-- Bus Stop -->\r\n      <g transform=\"translate(416.276042 36.826622)scale(0.1 -0.1)\">\r\n       <defs>\r\n        <path d=\"M 19.671875 34.8125 \r\nL 19.671875 8.109375 \r\nL 35.5 8.109375 \r\nQ 43.453125 8.109375 47.28125 11.40625 \r\nQ 51.125 14.703125 51.125 21.484375 \r\nQ 51.125 28.328125 47.28125 31.5625 \r\nQ 43.453125 34.8125 35.5 34.8125 \r\nz\r\nM 19.671875 64.796875 \r\nL 19.671875 42.828125 \r\nL 34.28125 42.828125 \r\nQ 41.5 42.828125 45.03125 45.53125 \r\nQ 48.578125 48.25 48.578125 53.8125 \r\nQ 48.578125 59.328125 45.03125 62.0625 \r\nQ 41.5 64.796875 34.28125 64.796875 \r\nz\r\nM 9.8125 72.90625 \r\nL 35.015625 72.90625 \r\nQ 46.296875 72.90625 52.390625 68.21875 \r\nQ 58.5 63.53125 58.5 54.890625 \r\nQ 58.5 48.1875 55.375 44.234375 \r\nQ 52.25 40.28125 46.1875 39.3125 \r\nQ 53.46875 37.75 57.5 32.78125 \r\nQ 61.53125 27.828125 61.53125 20.40625 \r\nQ 61.53125 10.640625 54.890625 5.3125 \r\nQ 48.25 0 35.984375 0 \r\nL 9.8125 0 \r\nz\r\n\" id=\"DejaVuSans-66\"/>\r\n       </defs>\r\n       <use xlink:href=\"#DejaVuSans-66\"/>\r\n       <use x=\"68.603516\" xlink:href=\"#DejaVuSans-117\"/>\r\n       <use x=\"131.982422\" xlink:href=\"#DejaVuSans-115\"/>\r\n       <use x=\"184.082031\" xlink:href=\"#DejaVuSans-32\"/>\r\n       <use x=\"215.869141\" xlink:href=\"#DejaVuSans-83\"/>\r\n       <use x=\"279.345703\" xlink:href=\"#DejaVuSans-116\"/>\r\n       <use x=\"318.554688\" xlink:href=\"#DejaVuSans-111\"/>\r\n       <use x=\"379.736328\" xlink:href=\"#DejaVuSans-112\"/>\r\n      </g>\r\n     </g>\r\n    </g>\r\n   </g>\r\n   <g id=\"patch_28\">\r\n    <path d=\"M 467.597917 319.118125 \r\nL 467.597917 22.318125 \r\n\" style=\"fill:none;stroke:#000000;stroke-linecap:square;stroke-linejoin:miter;stroke-width:0.8;\"/>\r\n   </g>\r\n   <g id=\"patch_29\">\r\n    <path d=\"M 694.177083 319.118125 \r\nL 694.177083 22.318125 \r\n\" style=\"fill:none;stroke:#000000;stroke-linecap:square;stroke-linejoin:miter;stroke-width:0.8;\"/>\r\n   </g>\r\n   <g id=\"patch_30\">\r\n    <path d=\"M 467.597917 319.118125 \r\nL 694.177083 319.118125 \r\n\" style=\"fill:none;stroke:#000000;stroke-linecap:square;stroke-linejoin:miter;stroke-width:0.8;\"/>\r\n   </g>\r\n   <g id=\"patch_31\">\r\n    <path d=\"M 467.597917 22.318125 \r\nL 694.177083 22.318125 \r\n\" style=\"fill:none;stroke:#000000;stroke-linecap:square;stroke-linejoin:miter;stroke-width:0.8;\"/>\r\n   </g>\r\n   <g id=\"text_32\">\r\n    <!-- Cluster 1 -->\r\n    <g transform=\"translate(553.867812 16.318125)scale(0.12 -0.12)\">\r\n     <use xlink:href=\"#DejaVuSans-67\"/>\r\n     <use x=\"69.824219\" xlink:href=\"#DejaVuSans-108\"/>\r\n     <use x=\"97.607422\" xlink:href=\"#DejaVuSans-117\"/>\r\n     <use x=\"160.986328\" xlink:href=\"#DejaVuSans-115\"/>\r\n     <use x=\"213.085938\" xlink:href=\"#DejaVuSans-116\"/>\r\n     <use x=\"252.294922\" xlink:href=\"#DejaVuSans-101\"/>\r\n     <use x=\"313.818359\" xlink:href=\"#DejaVuSans-114\"/>\r\n     <use x=\"354.931641\" xlink:href=\"#DejaVuSans-32\"/>\r\n     <use x=\"386.71875\" xlink:href=\"#DejaVuSans-49\"/>\r\n    </g>\r\n   </g>\r\n  </g>\r\n  <g id=\"axes_3\">\r\n   <g id=\"patch_32\">\r\n    <path d=\"M 827.914583 319.118125 \r\nL 1054.49375 319.118125 \r\nL 1054.49375 22.318125 \r\nL 827.914583 22.318125 \r\nz\r\n\" style=\"fill:#ffffff;\"/>\r\n   </g>\r\n   <g id=\"patch_33\">\r\n    <path clip-path=\"url(#p8a14e7dfa6)\" d=\"M 827.914583 311.46864 \r\nL 855.88732 311.46864 \r\nL 855.88732 305.349053 \r\nL 827.914583 305.349053 \r\nz\r\n\" style=\"fill:#7a0403;\"/>\r\n   </g>\r\n   <g id=\"patch_34\">\r\n    <path clip-path=\"url(#p8a14e7dfa6)\" d=\"M 827.914583 280.870702 \r\nL 883.860057 280.870702 \r\nL 883.860057 274.751115 \r\nL 827.914583 274.751115 \r\nz\r\n\" style=\"fill:#7a0403;\"/>\r\n   </g>\r\n   <g id=\"patch_35\">\r\n    <path clip-path=\"url(#p8a14e7dfa6)\" d=\"M 827.914583 250.272764 \r\nL 883.860057 250.272764 \r\nL 883.860057 244.153177 \r\nL 827.914583 244.153177 \r\nz\r\n\" style=\"fill:#7a0403;\"/>\r\n   </g>\r\n   <g id=\"patch_36\">\r\n    <path clip-path=\"url(#p8a14e7dfa6)\" d=\"M 827.914583 219.674826 \r\nL 883.860057 219.674826 \r\nL 883.860057 213.555238 \r\nL 827.914583 213.555238 \r\nz\r\n\" style=\"fill:#7a0403;\"/>\r\n   </g>\r\n   <g id=\"patch_37\">\r\n    <path clip-path=\"url(#p8a14e7dfa6)\" d=\"M 827.914583 189.076888 \r\nL 883.860057 189.076888 \r\nL 883.860057 182.9573 \r\nL 827.914583 182.9573 \r\nz\r\n\" style=\"fill:#7a0403;\"/>\r\n   </g>\r\n   <g id=\"patch_38\">\r\n    <path clip-path=\"url(#p8a14e7dfa6)\" d=\"M 827.914583 158.47895 \r\nL 883.860057 158.47895 \r\nL 883.860057 152.359362 \r\nL 827.914583 152.359362 \r\nz\r\n\" style=\"fill:#7a0403;\"/>\r\n   </g>\r\n   <g id=\"patch_39\">\r\n    <path clip-path=\"url(#p8a14e7dfa6)\" d=\"M 827.914583 127.881012 \r\nL 883.860057 127.881012 \r\nL 883.860057 121.761424 \r\nL 827.914583 121.761424 \r\nz\r\n\" style=\"fill:#7a0403;\"/>\r\n   </g>\r\n   <g id=\"patch_40\">\r\n    <path clip-path=\"url(#p8a14e7dfa6)\" d=\"M 827.914583 97.283073 \r\nL 883.860057 97.283073 \r\nL 883.860057 91.163486 \r\nL 827.914583 91.163486 \r\nz\r\n\" style=\"fill:#7a0403;\"/>\r\n   </g>\r\n   <g id=\"patch_41\">\r\n    <path clip-path=\"url(#p8a14e7dfa6)\" d=\"M 827.914583 66.685135 \r\nL 911.832793 66.685135 \r\nL 911.832793 60.565548 \r\nL 827.914583 60.565548 \r\nz\r\n\" style=\"fill:#7a0403;\"/>\r\n   </g>\r\n   <g id=\"patch_42\">\r\n    <path clip-path=\"url(#p8a14e7dfa6)\" d=\"M 827.914583 36.087197 \r\nL 967.778266 36.087197 \r\nL 967.778266 29.96761 \r\nL 827.914583 29.96761 \r\nz\r\n\" style=\"fill:#7a0403;\"/>\r\n   </g>\r\n   <g id=\"matplotlib.axis_5\">\r\n    <g id=\"xtick_9\">\r\n     <g id=\"line2d_29\">\r\n      <g>\r\n       <use style=\"stroke:#000000;stroke-width:0.8;\" x=\"827.914583\" xlink:href=\"#m7154fe2193\" y=\"319.118125\"/>\r\n      </g>\r\n     </g>\r\n     <g id=\"text_33\">\r\n      <!-- 0.00 -->\r\n      <g transform=\"translate(816.781771 333.716562)scale(0.1 -0.1)\">\r\n       <use xlink:href=\"#DejaVuSans-48\"/>\r\n       <use x=\"63.623047\" xlink:href=\"#DejaVuSans-46\"/>\r\n       <use x=\"95.410156\" xlink:href=\"#DejaVuSans-48\"/>\r\n       <use x=\"159.033203\" xlink:href=\"#DejaVuSans-48\"/>\r\n      </g>\r\n     </g>\r\n    </g>\r\n    <g id=\"xtick_10\">\r\n     <g id=\"line2d_30\">\r\n      <g>\r\n       <use style=\"stroke:#000000;stroke-width:0.8;\" x=\"903.440972\" xlink:href=\"#m7154fe2193\" y=\"319.118125\"/>\r\n      </g>\r\n     </g>\r\n     <g id=\"text_34\">\r\n      <!-- 0.05 -->\r\n      <g transform=\"translate(892.30816 333.716562)scale(0.1 -0.1)\">\r\n       <use xlink:href=\"#DejaVuSans-48\"/>\r\n       <use x=\"63.623047\" xlink:href=\"#DejaVuSans-46\"/>\r\n       <use x=\"95.410156\" xlink:href=\"#DejaVuSans-48\"/>\r\n       <use x=\"159.033203\" xlink:href=\"#DejaVuSans-53\"/>\r\n      </g>\r\n     </g>\r\n    </g>\r\n    <g id=\"xtick_11\">\r\n     <g id=\"line2d_31\">\r\n      <g>\r\n       <use style=\"stroke:#000000;stroke-width:0.8;\" x=\"978.967361\" xlink:href=\"#m7154fe2193\" y=\"319.118125\"/>\r\n      </g>\r\n     </g>\r\n     <g id=\"text_35\">\r\n      <!-- 0.10 -->\r\n      <g transform=\"translate(967.834549 333.716562)scale(0.1 -0.1)\">\r\n       <use xlink:href=\"#DejaVuSans-48\"/>\r\n       <use x=\"63.623047\" xlink:href=\"#DejaVuSans-46\"/>\r\n       <use x=\"95.410156\" xlink:href=\"#DejaVuSans-49\"/>\r\n       <use x=\"159.033203\" xlink:href=\"#DejaVuSans-48\"/>\r\n      </g>\r\n     </g>\r\n    </g>\r\n    <g id=\"xtick_12\">\r\n     <g id=\"line2d_32\">\r\n      <g>\r\n       <use style=\"stroke:#000000;stroke-width:0.8;\" x=\"1054.49375\" xlink:href=\"#m7154fe2193\" y=\"319.118125\"/>\r\n      </g>\r\n     </g>\r\n     <g id=\"text_36\">\r\n      <!-- 0.15 -->\r\n      <g transform=\"translate(1043.360937 333.716562)scale(0.1 -0.1)\">\r\n       <use xlink:href=\"#DejaVuSans-48\"/>\r\n       <use x=\"63.623047\" xlink:href=\"#DejaVuSans-46\"/>\r\n       <use x=\"95.410156\" xlink:href=\"#DejaVuSans-49\"/>\r\n       <use x=\"159.033203\" xlink:href=\"#DejaVuSans-53\"/>\r\n      </g>\r\n     </g>\r\n    </g>\r\n    <g id=\"text_37\">\r\n     <!-- Probability of Venue Occurrence -->\r\n     <g transform=\"translate(861.079948 347.394687)scale(0.1 -0.1)\">\r\n      <use xlink:href=\"#DejaVuSans-80\"/>\r\n      <use x=\"58.552734\" xlink:href=\"#DejaVuSans-114\"/>\r\n      <use x=\"97.416016\" xlink:href=\"#DejaVuSans-111\"/>\r\n      <use x=\"158.597656\" xlink:href=\"#DejaVuSans-98\"/>\r\n      <use x=\"222.074219\" xlink:href=\"#DejaVuSans-97\"/>\r\n      <use x=\"283.353516\" xlink:href=\"#DejaVuSans-98\"/>\r\n      <use x=\"346.830078\" xlink:href=\"#DejaVuSans-105\"/>\r\n      <use x=\"374.613281\" xlink:href=\"#DejaVuSans-108\"/>\r\n      <use x=\"402.396484\" xlink:href=\"#DejaVuSans-105\"/>\r\n      <use x=\"430.179688\" xlink:href=\"#DejaVuSans-116\"/>\r\n      <use x=\"469.388672\" xlink:href=\"#DejaVuSans-121\"/>\r\n      <use x=\"528.568359\" xlink:href=\"#DejaVuSans-32\"/>\r\n      <use x=\"560.355469\" xlink:href=\"#DejaVuSans-111\"/>\r\n      <use x=\"621.537109\" xlink:href=\"#DejaVuSans-102\"/>\r\n      <use x=\"656.742188\" xlink:href=\"#DejaVuSans-32\"/>\r\n      <use x=\"688.529297\" xlink:href=\"#DejaVuSans-86\"/>\r\n      <use x=\"749.1875\" xlink:href=\"#DejaVuSans-101\"/>\r\n      <use x=\"810.710938\" xlink:href=\"#DejaVuSans-110\"/>\r\n      <use x=\"874.089844\" xlink:href=\"#DejaVuSans-117\"/>\r\n      <use x=\"937.46875\" xlink:href=\"#DejaVuSans-101\"/>\r\n      <use x=\"998.992188\" xlink:href=\"#DejaVuSans-32\"/>\r\n      <use x=\"1030.779297\" xlink:href=\"#DejaVuSans-79\"/>\r\n      <use x=\"1109.490234\" xlink:href=\"#DejaVuSans-99\"/>\r\n      <use x=\"1164.470703\" xlink:href=\"#DejaVuSans-99\"/>\r\n      <use x=\"1219.451172\" xlink:href=\"#DejaVuSans-117\"/>\r\n      <use x=\"1282.830078\" xlink:href=\"#DejaVuSans-114\"/>\r\n      <use x=\"1322.193359\" xlink:href=\"#DejaVuSans-114\"/>\r\n      <use x=\"1361.056641\" xlink:href=\"#DejaVuSans-101\"/>\r\n      <use x=\"1422.580078\" xlink:href=\"#DejaVuSans-110\"/>\r\n      <use x=\"1485.958984\" xlink:href=\"#DejaVuSans-99\"/>\r\n      <use x=\"1540.939453\" xlink:href=\"#DejaVuSans-101\"/>\r\n     </g>\r\n    </g>\r\n   </g>\r\n   <g id=\"matplotlib.axis_6\">\r\n    <g id=\"ytick_21\">\r\n     <g id=\"line2d_33\">\r\n      <g>\r\n       <use style=\"stroke:#000000;stroke-width:0.8;\" x=\"827.914583\" xlink:href=\"#m0a19f5f7df\" y=\"308.408847\"/>\r\n      </g>\r\n     </g>\r\n     <g id=\"text_38\">\r\n      <!-- Museum -->\r\n      <g transform=\"translate(778.508333 312.208065)scale(0.1 -0.1)\">\r\n       <defs>\r\n        <path d=\"M 9.8125 72.90625 \r\nL 24.515625 72.90625 \r\nL 43.109375 23.296875 \r\nL 61.8125 72.90625 \r\nL 76.515625 72.90625 \r\nL 76.515625 0 \r\nL 66.890625 0 \r\nL 66.890625 64.015625 \r\nL 48.09375 14.015625 \r\nL 38.1875 14.015625 \r\nL 19.390625 64.015625 \r\nL 19.390625 0 \r\nL 9.8125 0 \r\nz\r\n\" id=\"DejaVuSans-77\"/>\r\n       </defs>\r\n       <use xlink:href=\"#DejaVuSans-77\"/>\r\n       <use x=\"86.279297\" xlink:href=\"#DejaVuSans-117\"/>\r\n       <use x=\"149.658203\" xlink:href=\"#DejaVuSans-115\"/>\r\n       <use x=\"201.757812\" xlink:href=\"#DejaVuSans-101\"/>\r\n       <use x=\"263.28125\" xlink:href=\"#DejaVuSans-117\"/>\r\n       <use x=\"326.660156\" xlink:href=\"#DejaVuSans-109\"/>\r\n      </g>\r\n     </g>\r\n    </g>\r\n    <g id=\"ytick_22\">\r\n     <g id=\"line2d_34\">\r\n      <g>\r\n       <use style=\"stroke:#000000;stroke-width:0.8;\" x=\"827.914583\" xlink:href=\"#m0a19f5f7df\" y=\"277.810909\"/>\r\n      </g>\r\n     </g>\r\n     <g id=\"text_39\">\r\n      <!-- Restaurant -->\r\n      <g transform=\"translate(766.170833 281.610127)scale(0.1 -0.1)\">\r\n       <use xlink:href=\"#DejaVuSans-82\"/>\r\n       <use x=\"64.982422\" xlink:href=\"#DejaVuSans-101\"/>\r\n       <use x=\"126.505859\" xlink:href=\"#DejaVuSans-115\"/>\r\n       <use x=\"178.605469\" xlink:href=\"#DejaVuSans-116\"/>\r\n       <use x=\"217.814453\" xlink:href=\"#DejaVuSans-97\"/>\r\n       <use x=\"279.09375\" xlink:href=\"#DejaVuSans-117\"/>\r\n       <use x=\"342.472656\" xlink:href=\"#DejaVuSans-114\"/>\r\n       <use x=\"383.585938\" xlink:href=\"#DejaVuSans-97\"/>\r\n       <use x=\"444.865234\" xlink:href=\"#DejaVuSans-110\"/>\r\n       <use x=\"508.244141\" xlink:href=\"#DejaVuSans-116\"/>\r\n      </g>\r\n     </g>\r\n    </g>\r\n    <g id=\"ytick_23\">\r\n     <g id=\"line2d_35\">\r\n      <g>\r\n       <use style=\"stroke:#000000;stroke-width:0.8;\" x=\"827.914583\" xlink:href=\"#m0a19f5f7df\" y=\"247.21297\"/>\r\n      </g>\r\n     </g>\r\n     <g id=\"text_40\">\r\n      <!-- Pharmacy -->\r\n      <g transform=\"translate(771.197396 251.012189)scale(0.1 -0.1)\">\r\n       <use xlink:href=\"#DejaVuSans-80\"/>\r\n       <use x=\"60.302734\" xlink:href=\"#DejaVuSans-104\"/>\r\n       <use x=\"123.681641\" xlink:href=\"#DejaVuSans-97\"/>\r\n       <use x=\"184.960938\" xlink:href=\"#DejaVuSans-114\"/>\r\n       <use x=\"224.324219\" xlink:href=\"#DejaVuSans-109\"/>\r\n       <use x=\"321.736328\" xlink:href=\"#DejaVuSans-97\"/>\r\n       <use x=\"383.015625\" xlink:href=\"#DejaVuSans-99\"/>\r\n       <use x=\"437.996094\" xlink:href=\"#DejaVuSans-121\"/>\r\n      </g>\r\n     </g>\r\n    </g>\r\n    <g id=\"ytick_24\">\r\n     <g id=\"line2d_36\">\r\n      <g>\r\n       <use style=\"stroke:#000000;stroke-width:0.8;\" x=\"827.914583\" xlink:href=\"#m0a19f5f7df\" y=\"216.615032\"/>\r\n      </g>\r\n     </g>\r\n     <g id=\"text_41\">\r\n      <!-- Sandwich Place -->\r\n      <g transform=\"translate(743.194271 220.414251)scale(0.1 -0.1)\">\r\n       <defs>\r\n        <path d=\"M 4.203125 54.6875 \r\nL 13.1875 54.6875 \r\nL 24.421875 12.015625 \r\nL 35.59375 54.6875 \r\nL 46.1875 54.6875 \r\nL 57.421875 12.015625 \r\nL 68.609375 54.6875 \r\nL 77.59375 54.6875 \r\nL 63.28125 0 \r\nL 52.6875 0 \r\nL 40.921875 44.828125 \r\nL 29.109375 0 \r\nL 18.5 0 \r\nz\r\n\" id=\"DejaVuSans-119\"/>\r\n       </defs>\r\n       <use xlink:href=\"#DejaVuSans-83\"/>\r\n       <use x=\"63.476562\" xlink:href=\"#DejaVuSans-97\"/>\r\n       <use x=\"124.755859\" xlink:href=\"#DejaVuSans-110\"/>\r\n       <use x=\"188.134766\" xlink:href=\"#DejaVuSans-100\"/>\r\n       <use x=\"251.611328\" xlink:href=\"#DejaVuSans-119\"/>\r\n       <use x=\"333.398438\" xlink:href=\"#DejaVuSans-105\"/>\r\n       <use x=\"361.181641\" xlink:href=\"#DejaVuSans-99\"/>\r\n       <use x=\"416.162109\" xlink:href=\"#DejaVuSans-104\"/>\r\n       <use x=\"479.541016\" xlink:href=\"#DejaVuSans-32\"/>\r\n       <use x=\"511.328125\" xlink:href=\"#DejaVuSans-80\"/>\r\n       <use x=\"571.630859\" xlink:href=\"#DejaVuSans-108\"/>\r\n       <use x=\"599.414062\" xlink:href=\"#DejaVuSans-97\"/>\r\n       <use x=\"660.693359\" xlink:href=\"#DejaVuSans-99\"/>\r\n       <use x=\"715.673828\" xlink:href=\"#DejaVuSans-101\"/>\r\n      </g>\r\n     </g>\r\n    </g>\r\n    <g id=\"ytick_25\">\r\n     <g id=\"line2d_37\">\r\n      <g>\r\n       <use style=\"stroke:#000000;stroke-width:0.8;\" x=\"827.914583\" xlink:href=\"#m0a19f5f7df\" y=\"186.017094\"/>\r\n      </g>\r\n     </g>\r\n     <g id=\"text_42\">\r\n      <!-- Bakery -->\r\n      <g transform=\"translate(786.314583 189.816313)scale(0.1 -0.1)\">\r\n       <use xlink:href=\"#DejaVuSans-66\"/>\r\n       <use x=\"68.603516\" xlink:href=\"#DejaVuSans-97\"/>\r\n       <use x=\"129.882812\" xlink:href=\"#DejaVuSans-107\"/>\r\n       <use x=\"184.167969\" xlink:href=\"#DejaVuSans-101\"/>\r\n       <use x=\"245.691406\" xlink:href=\"#DejaVuSans-114\"/>\r\n       <use x=\"286.804688\" xlink:href=\"#DejaVuSans-121\"/>\r\n      </g>\r\n     </g>\r\n    </g>\r\n    <g id=\"ytick_26\">\r\n     <g id=\"line2d_38\">\r\n      <g>\r\n       <use style=\"stroke:#000000;stroke-width:0.8;\" x=\"827.914583\" xlink:href=\"#m0a19f5f7df\" y=\"155.419156\"/>\r\n      </g>\r\n     </g>\r\n     <g id=\"text_43\">\r\n      <!-- Café -->\r\n      <g transform=\"translate(798.130208 159.218375)scale(0.1 -0.1)\">\r\n       <use xlink:href=\"#DejaVuSans-67\"/>\r\n       <use x=\"69.824219\" xlink:href=\"#DejaVuSans-97\"/>\r\n       <use x=\"131.103516\" xlink:href=\"#DejaVuSans-102\"/>\r\n       <use x=\"166.308594\" xlink:href=\"#DejaVuSans-233\"/>\r\n      </g>\r\n     </g>\r\n    </g>\r\n    <g id=\"ytick_27\">\r\n     <g id=\"line2d_39\">\r\n      <g>\r\n       <use style=\"stroke:#000000;stroke-width:0.8;\" x=\"827.914583\" xlink:href=\"#m0a19f5f7df\" y=\"124.821218\"/>\r\n      </g>\r\n     </g>\r\n     <g id=\"text_44\">\r\n      <!-- Pizza Place -->\r\n      <g transform=\"translate(765.941146 128.620437)scale(0.1 -0.1)\">\r\n       <use xlink:href=\"#DejaVuSans-80\"/>\r\n       <use x=\"58.052734\" xlink:href=\"#DejaVuSans-105\"/>\r\n       <use x=\"85.835938\" xlink:href=\"#DejaVuSans-122\"/>\r\n       <use x=\"138.326172\" xlink:href=\"#DejaVuSans-122\"/>\r\n       <use x=\"190.816406\" xlink:href=\"#DejaVuSans-97\"/>\r\n       <use x=\"252.095703\" xlink:href=\"#DejaVuSans-32\"/>\r\n       <use x=\"283.882812\" xlink:href=\"#DejaVuSans-80\"/>\r\n       <use x=\"344.185547\" xlink:href=\"#DejaVuSans-108\"/>\r\n       <use x=\"371.96875\" xlink:href=\"#DejaVuSans-97\"/>\r\n       <use x=\"433.248047\" xlink:href=\"#DejaVuSans-99\"/>\r\n       <use x=\"488.228516\" xlink:href=\"#DejaVuSans-101\"/>\r\n      </g>\r\n     </g>\r\n    </g>\r\n    <g id=\"ytick_28\">\r\n     <g id=\"line2d_40\">\r\n      <g>\r\n       <use style=\"stroke:#000000;stroke-width:0.8;\" x=\"827.914583\" xlink:href=\"#m0a19f5f7df\" y=\"94.22328\"/>\r\n      </g>\r\n     </g>\r\n     <g id=\"text_45\">\r\n      <!-- Clothing Store -->\r\n      <g transform=\"translate(749.708333 98.022498)scale(0.1 -0.1)\">\r\n       <use xlink:href=\"#DejaVuSans-67\"/>\r\n       <use x=\"69.824219\" xlink:href=\"#DejaVuSans-108\"/>\r\n       <use x=\"97.607422\" xlink:href=\"#DejaVuSans-111\"/>\r\n       <use x=\"158.789062\" xlink:href=\"#DejaVuSans-116\"/>\r\n       <use x=\"197.998047\" xlink:href=\"#DejaVuSans-104\"/>\r\n       <use x=\"261.376953\" xlink:href=\"#DejaVuSans-105\"/>\r\n       <use x=\"289.160156\" xlink:href=\"#DejaVuSans-110\"/>\r\n       <use x=\"352.539062\" xlink:href=\"#DejaVuSans-103\"/>\r\n       <use x=\"416.015625\" xlink:href=\"#DejaVuSans-32\"/>\r\n       <use x=\"447.802734\" xlink:href=\"#DejaVuSans-83\"/>\r\n       <use x=\"511.279297\" xlink:href=\"#DejaVuSans-116\"/>\r\n       <use x=\"550.488281\" xlink:href=\"#DejaVuSans-111\"/>\r\n       <use x=\"611.669922\" xlink:href=\"#DejaVuSans-114\"/>\r\n       <use x=\"650.533203\" xlink:href=\"#DejaVuSans-101\"/>\r\n      </g>\r\n     </g>\r\n    </g>\r\n    <g id=\"ytick_29\">\r\n     <g id=\"line2d_41\">\r\n      <g>\r\n       <use style=\"stroke:#000000;stroke-width:0.8;\" x=\"827.914583\" xlink:href=\"#m0a19f5f7df\" y=\"63.625341\"/>\r\n      </g>\r\n     </g>\r\n     <g id=\"text_46\">\r\n      <!-- Pub -->\r\n      <g transform=\"translate(802.373958 67.42456)scale(0.1 -0.1)\">\r\n       <use xlink:href=\"#DejaVuSans-80\"/>\r\n       <use x=\"58.552734\" xlink:href=\"#DejaVuSans-117\"/>\r\n       <use x=\"121.931641\" xlink:href=\"#DejaVuSans-98\"/>\r\n      </g>\r\n     </g>\r\n    </g>\r\n    <g id=\"ytick_30\">\r\n     <g id=\"line2d_42\">\r\n      <g>\r\n       <use style=\"stroke:#000000;stroke-width:0.8;\" x=\"827.914583\" xlink:href=\"#m0a19f5f7df\" y=\"33.027403\"/>\r\n      </g>\r\n     </g>\r\n     <g id=\"text_47\">\r\n      <!-- Coffee Shop -->\r\n      <g transform=\"translate(760.134896 36.826622)scale(0.1 -0.1)\">\r\n       <use xlink:href=\"#DejaVuSans-67\"/>\r\n       <use x=\"69.824219\" xlink:href=\"#DejaVuSans-111\"/>\r\n       <use x=\"131.005859\" xlink:href=\"#DejaVuSans-102\"/>\r\n       <use x=\"166.210938\" xlink:href=\"#DejaVuSans-102\"/>\r\n       <use x=\"201.416016\" xlink:href=\"#DejaVuSans-101\"/>\r\n       <use x=\"262.939453\" xlink:href=\"#DejaVuSans-101\"/>\r\n       <use x=\"324.462891\" xlink:href=\"#DejaVuSans-32\"/>\r\n       <use x=\"356.25\" xlink:href=\"#DejaVuSans-83\"/>\r\n       <use x=\"419.726562\" xlink:href=\"#DejaVuSans-104\"/>\r\n       <use x=\"483.105469\" xlink:href=\"#DejaVuSans-111\"/>\r\n       <use x=\"544.287109\" xlink:href=\"#DejaVuSans-112\"/>\r\n      </g>\r\n     </g>\r\n    </g>\r\n   </g>\r\n   <g id=\"patch_43\">\r\n    <path d=\"M 827.914583 319.118125 \r\nL 827.914583 22.318125 \r\n\" style=\"fill:none;stroke:#000000;stroke-linecap:square;stroke-linejoin:miter;stroke-width:0.8;\"/>\r\n   </g>\r\n   <g id=\"patch_44\">\r\n    <path d=\"M 1054.49375 319.118125 \r\nL 1054.49375 22.318125 \r\n\" style=\"fill:none;stroke:#000000;stroke-linecap:square;stroke-linejoin:miter;stroke-width:0.8;\"/>\r\n   </g>\r\n   <g id=\"patch_45\">\r\n    <path d=\"M 827.914583 319.118125 \r\nL 1054.49375 319.118125 \r\n\" style=\"fill:none;stroke:#000000;stroke-linecap:square;stroke-linejoin:miter;stroke-width:0.8;\"/>\r\n   </g>\r\n   <g id=\"patch_46\">\r\n    <path d=\"M 827.914583 22.318125 \r\nL 1054.49375 22.318125 \r\n\" style=\"fill:none;stroke:#000000;stroke-linecap:square;stroke-linejoin:miter;stroke-width:0.8;\"/>\r\n   </g>\r\n   <g id=\"text_48\">\r\n    <!-- Cluster 2 -->\r\n    <g transform=\"translate(914.184479 16.318125)scale(0.12 -0.12)\">\r\n     <defs>\r\n      <path d=\"M 19.1875 8.296875 \r\nL 53.609375 8.296875 \r\nL 53.609375 0 \r\nL 7.328125 0 \r\nL 7.328125 8.296875 \r\nQ 12.9375 14.109375 22.625 23.890625 \r\nQ 32.328125 33.6875 34.8125 36.53125 \r\nQ 39.546875 41.84375 41.421875 45.53125 \r\nQ 43.3125 49.21875 43.3125 52.78125 \r\nQ 43.3125 58.59375 39.234375 62.25 \r\nQ 35.15625 65.921875 28.609375 65.921875 \r\nQ 23.96875 65.921875 18.8125 64.3125 \r\nQ 13.671875 62.703125 7.8125 59.421875 \r\nL 7.8125 69.390625 \r\nQ 13.765625 71.78125 18.9375 73 \r\nQ 24.125 74.21875 28.421875 74.21875 \r\nQ 39.75 74.21875 46.484375 68.546875 \r\nQ 53.21875 62.890625 53.21875 53.421875 \r\nQ 53.21875 48.921875 51.53125 44.890625 \r\nQ 49.859375 40.875 45.40625 35.40625 \r\nQ 44.1875 33.984375 37.640625 27.21875 \r\nQ 31.109375 20.453125 19.1875 8.296875 \r\nz\r\n\" id=\"DejaVuSans-50\"/>\r\n     </defs>\r\n     <use xlink:href=\"#DejaVuSans-67\"/>\r\n     <use x=\"69.824219\" xlink:href=\"#DejaVuSans-108\"/>\r\n     <use x=\"97.607422\" xlink:href=\"#DejaVuSans-117\"/>\r\n     <use x=\"160.986328\" xlink:href=\"#DejaVuSans-115\"/>\r\n     <use x=\"213.085938\" xlink:href=\"#DejaVuSans-116\"/>\r\n     <use x=\"252.294922\" xlink:href=\"#DejaVuSans-101\"/>\r\n     <use x=\"313.818359\" xlink:href=\"#DejaVuSans-114\"/>\r\n     <use x=\"354.931641\" xlink:href=\"#DejaVuSans-32\"/>\r\n     <use x=\"386.71875\" xlink:href=\"#DejaVuSans-50\"/>\r\n    </g>\r\n   </g>\r\n  </g>\r\n  <g id=\"axes_4\">\r\n   <g id=\"patch_47\">\r\n    <path d=\"M 107.28125 673.718125 \r\nL 333.860417 673.718125 \r\nL 333.860417 376.918125 \r\nL 107.28125 376.918125 \r\nz\r\n\" style=\"fill:#ffffff;\"/>\r\n   </g>\r\n   <g id=\"patch_48\">\r\n    <path clip-path=\"url(#pdcb8c9d43b)\" d=\"M 107.28125 666.06864 \r\nL 142.206748 666.06864 \r\nL 142.206748 659.949053 \r\nL 107.28125 659.949053 \r\nz\r\n\" style=\"fill:#4d004b;\"/>\r\n   </g>\r\n   <g id=\"patch_49\">\r\n    <path clip-path=\"url(#pdcb8c9d43b)\" d=\"M 107.28125 635.470702 \r\nL 159.669497 635.470702 \r\nL 159.669497 629.351115 \r\nL 107.28125 629.351115 \r\nz\r\n\" style=\"fill:#4d004b;\"/>\r\n   </g>\r\n   <g id=\"patch_50\">\r\n    <path clip-path=\"url(#pdcb8c9d43b)\" d=\"M 107.28125 604.872764 \r\nL 159.669497 604.872764 \r\nL 159.669497 598.753177 \r\nL 107.28125 598.753177 \r\nz\r\n\" style=\"fill:#4d004b;\"/>\r\n   </g>\r\n   <g id=\"patch_51\">\r\n    <path clip-path=\"url(#pdcb8c9d43b)\" d=\"M 107.28125 574.274826 \r\nL 168.400871 574.274826 \r\nL 168.400871 568.155238 \r\nL 107.28125 568.155238 \r\nz\r\n\" style=\"fill:#4d004b;\"/>\r\n   </g>\r\n   <g id=\"patch_52\">\r\n    <path clip-path=\"url(#pdcb8c9d43b)\" d=\"M 107.28125 543.676888 \r\nL 168.400871 543.676888 \r\nL 168.400871 537.5573 \r\nL 107.28125 537.5573 \r\nz\r\n\" style=\"fill:#4d004b;\"/>\r\n   </g>\r\n   <g id=\"patch_53\">\r\n    <path clip-path=\"url(#pdcb8c9d43b)\" d=\"M 107.28125 513.07895 \r\nL 168.400871 513.07895 \r\nL 168.400871 506.959362 \r\nL 107.28125 506.959362 \r\nz\r\n\" style=\"fill:#4d004b;\"/>\r\n   </g>\r\n   <g id=\"patch_54\">\r\n    <path clip-path=\"url(#pdcb8c9d43b)\" d=\"M 107.28125 482.481012 \r\nL 177.132246 482.481012 \r\nL 177.132246 476.361424 \r\nL 107.28125 476.361424 \r\nz\r\n\" style=\"fill:#4d004b;\"/>\r\n   </g>\r\n   <g id=\"patch_55\">\r\n    <path clip-path=\"url(#pdcb8c9d43b)\" d=\"M 107.28125 451.883073 \r\nL 185.86362 451.883073 \r\nL 185.86362 445.763486 \r\nL 107.28125 445.763486 \r\nz\r\n\" style=\"fill:#4d004b;\"/>\r\n   </g>\r\n   <g id=\"patch_56\">\r\n    <path clip-path=\"url(#pdcb8c9d43b)\" d=\"M 107.28125 421.285135 \r\nL 212.057743 421.285135 \r\nL 212.057743 415.165548 \r\nL 107.28125 415.165548 \r\nz\r\n\" style=\"fill:#4d004b;\"/>\r\n   </g>\r\n   <g id=\"patch_57\">\r\n    <path clip-path=\"url(#pdcb8c9d43b)\" d=\"M 107.28125 390.687197 \r\nL 238.251867 390.687197 \r\nL 238.251867 384.56761 \r\nL 107.28125 384.56761 \r\nz\r\n\" style=\"fill:#4d004b;\"/>\r\n   </g>\r\n   <g id=\"matplotlib.axis_7\">\r\n    <g id=\"xtick_13\">\r\n     <g id=\"line2d_43\">\r\n      <g>\r\n       <use style=\"stroke:#000000;stroke-width:0.8;\" x=\"107.28125\" xlink:href=\"#m7154fe2193\" y=\"673.718125\"/>\r\n      </g>\r\n     </g>\r\n     <g id=\"text_49\">\r\n      <!-- 0.00 -->\r\n      <g transform=\"translate(96.148438 688.316562)scale(0.1 -0.1)\">\r\n       <use xlink:href=\"#DejaVuSans-48\"/>\r\n       <use x=\"63.623047\" xlink:href=\"#DejaVuSans-46\"/>\r\n       <use x=\"95.410156\" xlink:href=\"#DejaVuSans-48\"/>\r\n       <use x=\"159.033203\" xlink:href=\"#DejaVuSans-48\"/>\r\n      </g>\r\n     </g>\r\n    </g>\r\n    <g id=\"xtick_14\">\r\n     <g id=\"line2d_44\">\r\n      <g>\r\n       <use style=\"stroke:#000000;stroke-width:0.8;\" x=\"182.807639\" xlink:href=\"#m7154fe2193\" y=\"673.718125\"/>\r\n      </g>\r\n     </g>\r\n     <g id=\"text_50\">\r\n      <!-- 0.05 -->\r\n      <g transform=\"translate(171.674826 688.316562)scale(0.1 -0.1)\">\r\n       <use xlink:href=\"#DejaVuSans-48\"/>\r\n       <use x=\"63.623047\" xlink:href=\"#DejaVuSans-46\"/>\r\n       <use x=\"95.410156\" xlink:href=\"#DejaVuSans-48\"/>\r\n       <use x=\"159.033203\" xlink:href=\"#DejaVuSans-53\"/>\r\n      </g>\r\n     </g>\r\n    </g>\r\n    <g id=\"xtick_15\">\r\n     <g id=\"line2d_45\">\r\n      <g>\r\n       <use style=\"stroke:#000000;stroke-width:0.8;\" x=\"258.334028\" xlink:href=\"#m7154fe2193\" y=\"673.718125\"/>\r\n      </g>\r\n     </g>\r\n     <g id=\"text_51\">\r\n      <!-- 0.10 -->\r\n      <g transform=\"translate(247.201215 688.316562)scale(0.1 -0.1)\">\r\n       <use xlink:href=\"#DejaVuSans-48\"/>\r\n       <use x=\"63.623047\" xlink:href=\"#DejaVuSans-46\"/>\r\n       <use x=\"95.410156\" xlink:href=\"#DejaVuSans-49\"/>\r\n       <use x=\"159.033203\" xlink:href=\"#DejaVuSans-48\"/>\r\n      </g>\r\n     </g>\r\n    </g>\r\n    <g id=\"xtick_16\">\r\n     <g id=\"line2d_46\">\r\n      <g>\r\n       <use style=\"stroke:#000000;stroke-width:0.8;\" x=\"333.860417\" xlink:href=\"#m7154fe2193\" y=\"673.718125\"/>\r\n      </g>\r\n     </g>\r\n     <g id=\"text_52\">\r\n      <!-- 0.15 -->\r\n      <g transform=\"translate(322.727604 688.316562)scale(0.1 -0.1)\">\r\n       <use xlink:href=\"#DejaVuSans-48\"/>\r\n       <use x=\"63.623047\" xlink:href=\"#DejaVuSans-46\"/>\r\n       <use x=\"95.410156\" xlink:href=\"#DejaVuSans-49\"/>\r\n       <use x=\"159.033203\" xlink:href=\"#DejaVuSans-53\"/>\r\n      </g>\r\n     </g>\r\n    </g>\r\n    <g id=\"text_53\">\r\n     <!-- Probability of Venue Occurrence -->\r\n     <g transform=\"translate(140.446615 701.994687)scale(0.1 -0.1)\">\r\n      <use xlink:href=\"#DejaVuSans-80\"/>\r\n      <use x=\"58.552734\" xlink:href=\"#DejaVuSans-114\"/>\r\n      <use x=\"97.416016\" xlink:href=\"#DejaVuSans-111\"/>\r\n      <use x=\"158.597656\" xlink:href=\"#DejaVuSans-98\"/>\r\n      <use x=\"222.074219\" xlink:href=\"#DejaVuSans-97\"/>\r\n      <use x=\"283.353516\" xlink:href=\"#DejaVuSans-98\"/>\r\n      <use x=\"346.830078\" xlink:href=\"#DejaVuSans-105\"/>\r\n      <use x=\"374.613281\" xlink:href=\"#DejaVuSans-108\"/>\r\n      <use x=\"402.396484\" xlink:href=\"#DejaVuSans-105\"/>\r\n      <use x=\"430.179688\" xlink:href=\"#DejaVuSans-116\"/>\r\n      <use x=\"469.388672\" xlink:href=\"#DejaVuSans-121\"/>\r\n      <use x=\"528.568359\" xlink:href=\"#DejaVuSans-32\"/>\r\n      <use x=\"560.355469\" xlink:href=\"#DejaVuSans-111\"/>\r\n      <use x=\"621.537109\" xlink:href=\"#DejaVuSans-102\"/>\r\n      <use x=\"656.742188\" xlink:href=\"#DejaVuSans-32\"/>\r\n      <use x=\"688.529297\" xlink:href=\"#DejaVuSans-86\"/>\r\n      <use x=\"749.1875\" xlink:href=\"#DejaVuSans-101\"/>\r\n      <use x=\"810.710938\" xlink:href=\"#DejaVuSans-110\"/>\r\n      <use x=\"874.089844\" xlink:href=\"#DejaVuSans-117\"/>\r\n      <use x=\"937.46875\" xlink:href=\"#DejaVuSans-101\"/>\r\n      <use x=\"998.992188\" xlink:href=\"#DejaVuSans-32\"/>\r\n      <use x=\"1030.779297\" xlink:href=\"#DejaVuSans-79\"/>\r\n      <use x=\"1109.490234\" xlink:href=\"#DejaVuSans-99\"/>\r\n      <use x=\"1164.470703\" xlink:href=\"#DejaVuSans-99\"/>\r\n      <use x=\"1219.451172\" xlink:href=\"#DejaVuSans-117\"/>\r\n      <use x=\"1282.830078\" xlink:href=\"#DejaVuSans-114\"/>\r\n      <use x=\"1322.193359\" xlink:href=\"#DejaVuSans-114\"/>\r\n      <use x=\"1361.056641\" xlink:href=\"#DejaVuSans-101\"/>\r\n      <use x=\"1422.580078\" xlink:href=\"#DejaVuSans-110\"/>\r\n      <use x=\"1485.958984\" xlink:href=\"#DejaVuSans-99\"/>\r\n      <use x=\"1540.939453\" xlink:href=\"#DejaVuSans-101\"/>\r\n     </g>\r\n    </g>\r\n   </g>\r\n   <g id=\"matplotlib.axis_8\">\r\n    <g id=\"ytick_31\">\r\n     <g id=\"line2d_47\">\r\n      <g>\r\n       <use style=\"stroke:#000000;stroke-width:0.8;\" x=\"107.28125\" xlink:href=\"#m0a19f5f7df\" y=\"663.008847\"/>\r\n      </g>\r\n     </g>\r\n     <g id=\"text_54\">\r\n      <!-- Pizza Place -->\r\n      <g transform=\"translate(45.307813 666.808065)scale(0.1 -0.1)\">\r\n       <use xlink:href=\"#DejaVuSans-80\"/>\r\n       <use x=\"58.052734\" xlink:href=\"#DejaVuSans-105\"/>\r\n       <use x=\"85.835938\" xlink:href=\"#DejaVuSans-122\"/>\r\n       <use x=\"138.326172\" xlink:href=\"#DejaVuSans-122\"/>\r\n       <use x=\"190.816406\" xlink:href=\"#DejaVuSans-97\"/>\r\n       <use x=\"252.095703\" xlink:href=\"#DejaVuSans-32\"/>\r\n       <use x=\"283.882812\" xlink:href=\"#DejaVuSans-80\"/>\r\n       <use x=\"344.185547\" xlink:href=\"#DejaVuSans-108\"/>\r\n       <use x=\"371.96875\" xlink:href=\"#DejaVuSans-97\"/>\r\n       <use x=\"433.248047\" xlink:href=\"#DejaVuSans-99\"/>\r\n       <use x=\"488.228516\" xlink:href=\"#DejaVuSans-101\"/>\r\n      </g>\r\n     </g>\r\n    </g>\r\n    <g id=\"ytick_32\">\r\n     <g id=\"line2d_48\">\r\n      <g>\r\n       <use style=\"stroke:#000000;stroke-width:0.8;\" x=\"107.28125\" xlink:href=\"#m0a19f5f7df\" y=\"632.410909\"/>\r\n      </g>\r\n     </g>\r\n     <g id=\"text_55\">\r\n      <!-- Pharmacy -->\r\n      <g transform=\"translate(50.564063 636.210127)scale(0.1 -0.1)\">\r\n       <use xlink:href=\"#DejaVuSans-80\"/>\r\n       <use x=\"60.302734\" xlink:href=\"#DejaVuSans-104\"/>\r\n       <use x=\"123.681641\" xlink:href=\"#DejaVuSans-97\"/>\r\n       <use x=\"184.960938\" xlink:href=\"#DejaVuSans-114\"/>\r\n       <use x=\"224.324219\" xlink:href=\"#DejaVuSans-109\"/>\r\n       <use x=\"321.736328\" xlink:href=\"#DejaVuSans-97\"/>\r\n       <use x=\"383.015625\" xlink:href=\"#DejaVuSans-99\"/>\r\n       <use x=\"437.996094\" xlink:href=\"#DejaVuSans-121\"/>\r\n      </g>\r\n     </g>\r\n    </g>\r\n    <g id=\"ytick_33\">\r\n     <g id=\"line2d_49\">\r\n      <g>\r\n       <use style=\"stroke:#000000;stroke-width:0.8;\" x=\"107.28125\" xlink:href=\"#m0a19f5f7df\" y=\"601.81297\"/>\r\n      </g>\r\n     </g>\r\n     <g id=\"text_56\">\r\n      <!-- Italian Restaurant -->\r\n      <g transform=\"translate(11.339063 605.612189)scale(0.1 -0.1)\">\r\n       <use xlink:href=\"#DejaVuSans-73\"/>\r\n       <use x=\"29.492188\" xlink:href=\"#DejaVuSans-116\"/>\r\n       <use x=\"68.701172\" xlink:href=\"#DejaVuSans-97\"/>\r\n       <use x=\"129.980469\" xlink:href=\"#DejaVuSans-108\"/>\r\n       <use x=\"157.763672\" xlink:href=\"#DejaVuSans-105\"/>\r\n       <use x=\"185.546875\" xlink:href=\"#DejaVuSans-97\"/>\r\n       <use x=\"246.826172\" xlink:href=\"#DejaVuSans-110\"/>\r\n       <use x=\"310.205078\" xlink:href=\"#DejaVuSans-32\"/>\r\n       <use x=\"341.992188\" xlink:href=\"#DejaVuSans-82\"/>\r\n       <use x=\"406.974609\" xlink:href=\"#DejaVuSans-101\"/>\r\n       <use x=\"468.498047\" xlink:href=\"#DejaVuSans-115\"/>\r\n       <use x=\"520.597656\" xlink:href=\"#DejaVuSans-116\"/>\r\n       <use x=\"559.806641\" xlink:href=\"#DejaVuSans-97\"/>\r\n       <use x=\"621.085938\" xlink:href=\"#DejaVuSans-117\"/>\r\n       <use x=\"684.464844\" xlink:href=\"#DejaVuSans-114\"/>\r\n       <use x=\"725.578125\" xlink:href=\"#DejaVuSans-97\"/>\r\n       <use x=\"786.857422\" xlink:href=\"#DejaVuSans-110\"/>\r\n       <use x=\"850.236328\" xlink:href=\"#DejaVuSans-116\"/>\r\n      </g>\r\n     </g>\r\n    </g>\r\n    <g id=\"ytick_34\">\r\n     <g id=\"line2d_50\">\r\n      <g>\r\n       <use style=\"stroke:#000000;stroke-width:0.8;\" x=\"107.28125\" xlink:href=\"#m0a19f5f7df\" y=\"571.215032\"/>\r\n      </g>\r\n     </g>\r\n     <g id=\"text_57\">\r\n      <!-- Grocery Store -->\r\n      <g transform=\"translate(31.242188 575.014251)scale(0.1 -0.1)\">\r\n       <use xlink:href=\"#DejaVuSans-71\"/>\r\n       <use x=\"77.490234\" xlink:href=\"#DejaVuSans-114\"/>\r\n       <use x=\"116.353516\" xlink:href=\"#DejaVuSans-111\"/>\r\n       <use x=\"177.535156\" xlink:href=\"#DejaVuSans-99\"/>\r\n       <use x=\"232.515625\" xlink:href=\"#DejaVuSans-101\"/>\r\n       <use x=\"294.039062\" xlink:href=\"#DejaVuSans-114\"/>\r\n       <use x=\"335.152344\" xlink:href=\"#DejaVuSans-121\"/>\r\n       <use x=\"394.332031\" xlink:href=\"#DejaVuSans-32\"/>\r\n       <use x=\"426.119141\" xlink:href=\"#DejaVuSans-83\"/>\r\n       <use x=\"489.595703\" xlink:href=\"#DejaVuSans-116\"/>\r\n       <use x=\"528.804688\" xlink:href=\"#DejaVuSans-111\"/>\r\n       <use x=\"589.986328\" xlink:href=\"#DejaVuSans-114\"/>\r\n       <use x=\"628.849609\" xlink:href=\"#DejaVuSans-101\"/>\r\n      </g>\r\n     </g>\r\n    </g>\r\n    <g id=\"ytick_35\">\r\n     <g id=\"line2d_51\">\r\n      <g>\r\n       <use style=\"stroke:#000000;stroke-width:0.8;\" x=\"107.28125\" xlink:href=\"#m0a19f5f7df\" y=\"540.617094\"/>\r\n      </g>\r\n     </g>\r\n     <g id=\"text_58\">\r\n      <!-- Supermarket -->\r\n      <g transform=\"translate(35.676563 544.416313)scale(0.1 -0.1)\">\r\n       <use xlink:href=\"#DejaVuSans-83\"/>\r\n       <use x=\"63.476562\" xlink:href=\"#DejaVuSans-117\"/>\r\n       <use x=\"126.855469\" xlink:href=\"#DejaVuSans-112\"/>\r\n       <use x=\"190.332031\" xlink:href=\"#DejaVuSans-101\"/>\r\n       <use x=\"251.855469\" xlink:href=\"#DejaVuSans-114\"/>\r\n       <use x=\"291.21875\" xlink:href=\"#DejaVuSans-109\"/>\r\n       <use x=\"388.630859\" xlink:href=\"#DejaVuSans-97\"/>\r\n       <use x=\"449.910156\" xlink:href=\"#DejaVuSans-114\"/>\r\n       <use x=\"491.023438\" xlink:href=\"#DejaVuSans-107\"/>\r\n       <use x=\"545.308594\" xlink:href=\"#DejaVuSans-101\"/>\r\n       <use x=\"606.832031\" xlink:href=\"#DejaVuSans-116\"/>\r\n      </g>\r\n     </g>\r\n    </g>\r\n    <g id=\"ytick_36\">\r\n     <g id=\"line2d_52\">\r\n      <g>\r\n       <use style=\"stroke:#000000;stroke-width:0.8;\" x=\"107.28125\" xlink:href=\"#m0a19f5f7df\" y=\"510.019156\"/>\r\n      </g>\r\n     </g>\r\n     <g id=\"text_59\">\r\n      <!-- Clothing Store -->\r\n      <g transform=\"translate(29.075 513.818375)scale(0.1 -0.1)\">\r\n       <use xlink:href=\"#DejaVuSans-67\"/>\r\n       <use x=\"69.824219\" xlink:href=\"#DejaVuSans-108\"/>\r\n       <use x=\"97.607422\" xlink:href=\"#DejaVuSans-111\"/>\r\n       <use x=\"158.789062\" xlink:href=\"#DejaVuSans-116\"/>\r\n       <use x=\"197.998047\" xlink:href=\"#DejaVuSans-104\"/>\r\n       <use x=\"261.376953\" xlink:href=\"#DejaVuSans-105\"/>\r\n       <use x=\"289.160156\" xlink:href=\"#DejaVuSans-110\"/>\r\n       <use x=\"352.539062\" xlink:href=\"#DejaVuSans-103\"/>\r\n       <use x=\"416.015625\" xlink:href=\"#DejaVuSans-32\"/>\r\n       <use x=\"447.802734\" xlink:href=\"#DejaVuSans-83\"/>\r\n       <use x=\"511.279297\" xlink:href=\"#DejaVuSans-116\"/>\r\n       <use x=\"550.488281\" xlink:href=\"#DejaVuSans-111\"/>\r\n       <use x=\"611.669922\" xlink:href=\"#DejaVuSans-114\"/>\r\n       <use x=\"650.533203\" xlink:href=\"#DejaVuSans-101\"/>\r\n      </g>\r\n     </g>\r\n    </g>\r\n    <g id=\"ytick_37\">\r\n     <g id=\"line2d_53\">\r\n      <g>\r\n       <use style=\"stroke:#000000;stroke-width:0.8;\" x=\"107.28125\" xlink:href=\"#m0a19f5f7df\" y=\"479.421218\"/>\r\n      </g>\r\n     </g>\r\n     <g id=\"text_60\">\r\n      <!-- Bakery -->\r\n      <g transform=\"translate(65.68125 483.220437)scale(0.1 -0.1)\">\r\n       <use xlink:href=\"#DejaVuSans-66\"/>\r\n       <use x=\"68.603516\" xlink:href=\"#DejaVuSans-97\"/>\r\n       <use x=\"129.882812\" xlink:href=\"#DejaVuSans-107\"/>\r\n       <use x=\"184.167969\" xlink:href=\"#DejaVuSans-101\"/>\r\n       <use x=\"245.691406\" xlink:href=\"#DejaVuSans-114\"/>\r\n       <use x=\"286.804688\" xlink:href=\"#DejaVuSans-121\"/>\r\n      </g>\r\n     </g>\r\n    </g>\r\n    <g id=\"ytick_38\">\r\n     <g id=\"line2d_54\">\r\n      <g>\r\n       <use style=\"stroke:#000000;stroke-width:0.8;\" x=\"107.28125\" xlink:href=\"#m0a19f5f7df\" y=\"448.82328\"/>\r\n      </g>\r\n     </g>\r\n     <g id=\"text_61\">\r\n      <!-- Café -->\r\n      <g transform=\"translate(77.496875 452.622498)scale(0.1 -0.1)\">\r\n       <use xlink:href=\"#DejaVuSans-67\"/>\r\n       <use x=\"69.824219\" xlink:href=\"#DejaVuSans-97\"/>\r\n       <use x=\"131.103516\" xlink:href=\"#DejaVuSans-102\"/>\r\n       <use x=\"166.308594\" xlink:href=\"#DejaVuSans-233\"/>\r\n      </g>\r\n     </g>\r\n    </g>\r\n    <g id=\"ytick_39\">\r\n     <g id=\"line2d_55\">\r\n      <g>\r\n       <use style=\"stroke:#000000;stroke-width:0.8;\" x=\"107.28125\" xlink:href=\"#m0a19f5f7df\" y=\"418.225341\"/>\r\n      </g>\r\n     </g>\r\n     <g id=\"text_62\">\r\n      <!-- Coffee Shop -->\r\n      <g transform=\"translate(39.501563 422.02456)scale(0.1 -0.1)\">\r\n       <use xlink:href=\"#DejaVuSans-67\"/>\r\n       <use x=\"69.824219\" xlink:href=\"#DejaVuSans-111\"/>\r\n       <use x=\"131.005859\" xlink:href=\"#DejaVuSans-102\"/>\r\n       <use x=\"166.210938\" xlink:href=\"#DejaVuSans-102\"/>\r\n       <use x=\"201.416016\" xlink:href=\"#DejaVuSans-101\"/>\r\n       <use x=\"262.939453\" xlink:href=\"#DejaVuSans-101\"/>\r\n       <use x=\"324.462891\" xlink:href=\"#DejaVuSans-32\"/>\r\n       <use x=\"356.25\" xlink:href=\"#DejaVuSans-83\"/>\r\n       <use x=\"419.726562\" xlink:href=\"#DejaVuSans-104\"/>\r\n       <use x=\"483.105469\" xlink:href=\"#DejaVuSans-111\"/>\r\n       <use x=\"544.287109\" xlink:href=\"#DejaVuSans-112\"/>\r\n      </g>\r\n     </g>\r\n    </g>\r\n    <g id=\"ytick_40\">\r\n     <g id=\"line2d_56\">\r\n      <g>\r\n       <use style=\"stroke:#000000;stroke-width:0.8;\" x=\"107.28125\" xlink:href=\"#m0a19f5f7df\" y=\"387.627403\"/>\r\n      </g>\r\n     </g>\r\n     <g id=\"text_63\">\r\n      <!-- Pub -->\r\n      <g transform=\"translate(81.740625 391.426622)scale(0.1 -0.1)\">\r\n       <use xlink:href=\"#DejaVuSans-80\"/>\r\n       <use x=\"58.552734\" xlink:href=\"#DejaVuSans-117\"/>\r\n       <use x=\"121.931641\" xlink:href=\"#DejaVuSans-98\"/>\r\n      </g>\r\n     </g>\r\n    </g>\r\n   </g>\r\n   <g id=\"patch_58\">\r\n    <path d=\"M 107.28125 673.718125 \r\nL 107.28125 376.918125 \r\n\" style=\"fill:none;stroke:#000000;stroke-linecap:square;stroke-linejoin:miter;stroke-width:0.8;\"/>\r\n   </g>\r\n   <g id=\"patch_59\">\r\n    <path d=\"M 333.860417 673.718125 \r\nL 333.860417 376.918125 \r\n\" style=\"fill:none;stroke:#000000;stroke-linecap:square;stroke-linejoin:miter;stroke-width:0.8;\"/>\r\n   </g>\r\n   <g id=\"patch_60\">\r\n    <path d=\"M 107.28125 673.718125 \r\nL 333.860417 673.718125 \r\n\" style=\"fill:none;stroke:#000000;stroke-linecap:square;stroke-linejoin:miter;stroke-width:0.8;\"/>\r\n   </g>\r\n   <g id=\"patch_61\">\r\n    <path d=\"M 107.28125 376.918125 \r\nL 333.860417 376.918125 \r\n\" style=\"fill:none;stroke:#000000;stroke-linecap:square;stroke-linejoin:miter;stroke-width:0.8;\"/>\r\n   </g>\r\n   <g id=\"text_64\">\r\n    <!-- Cluster 3 -->\r\n    <g transform=\"translate(193.551146 370.918125)scale(0.12 -0.12)\">\r\n     <defs>\r\n      <path d=\"M 40.578125 39.3125 \r\nQ 47.65625 37.796875 51.625 33 \r\nQ 55.609375 28.21875 55.609375 21.1875 \r\nQ 55.609375 10.40625 48.1875 4.484375 \r\nQ 40.765625 -1.421875 27.09375 -1.421875 \r\nQ 22.515625 -1.421875 17.65625 -0.515625 \r\nQ 12.796875 0.390625 7.625 2.203125 \r\nL 7.625 11.71875 \r\nQ 11.71875 9.328125 16.59375 8.109375 \r\nQ 21.484375 6.890625 26.8125 6.890625 \r\nQ 36.078125 6.890625 40.9375 10.546875 \r\nQ 45.796875 14.203125 45.796875 21.1875 \r\nQ 45.796875 27.640625 41.28125 31.265625 \r\nQ 36.765625 34.90625 28.71875 34.90625 \r\nL 20.21875 34.90625 \r\nL 20.21875 43.015625 \r\nL 29.109375 43.015625 \r\nQ 36.375 43.015625 40.234375 45.921875 \r\nQ 44.09375 48.828125 44.09375 54.296875 \r\nQ 44.09375 59.90625 40.109375 62.90625 \r\nQ 36.140625 65.921875 28.71875 65.921875 \r\nQ 24.65625 65.921875 20.015625 65.03125 \r\nQ 15.375 64.15625 9.8125 62.3125 \r\nL 9.8125 71.09375 \r\nQ 15.4375 72.65625 20.34375 73.4375 \r\nQ 25.25 74.21875 29.59375 74.21875 \r\nQ 40.828125 74.21875 47.359375 69.109375 \r\nQ 53.90625 64.015625 53.90625 55.328125 \r\nQ 53.90625 49.265625 50.4375 45.09375 \r\nQ 46.96875 40.921875 40.578125 39.3125 \r\nz\r\n\" id=\"DejaVuSans-51\"/>\r\n     </defs>\r\n     <use xlink:href=\"#DejaVuSans-67\"/>\r\n     <use x=\"69.824219\" xlink:href=\"#DejaVuSans-108\"/>\r\n     <use x=\"97.607422\" xlink:href=\"#DejaVuSans-117\"/>\r\n     <use x=\"160.986328\" xlink:href=\"#DejaVuSans-115\"/>\r\n     <use x=\"213.085938\" xlink:href=\"#DejaVuSans-116\"/>\r\n     <use x=\"252.294922\" xlink:href=\"#DejaVuSans-101\"/>\r\n     <use x=\"313.818359\" xlink:href=\"#DejaVuSans-114\"/>\r\n     <use x=\"354.931641\" xlink:href=\"#DejaVuSans-32\"/>\r\n     <use x=\"386.71875\" xlink:href=\"#DejaVuSans-51\"/>\r\n    </g>\r\n   </g>\r\n  </g>\r\n  <g id=\"axes_5\">\r\n   <g id=\"patch_62\">\r\n    <path d=\"M 467.597917 673.718125 \r\nL 694.177083 673.718125 \r\nL 694.177083 376.918125 \r\nL 467.597917 376.918125 \r\nz\r\n\" style=\"fill:#ffffff;\"/>\r\n   </g>\r\n   <g id=\"patch_63\">\r\n    <path clip-path=\"url(#p7a83f17c71)\" d=\"M 467.597917 666.06864 \r\nL 512.688298 666.06864 \r\nL 512.688298 659.949053 \r\nL 467.597917 659.949053 \r\nz\r\n\" style=\"fill:#1b9e77;\"/>\r\n   </g>\r\n   <g id=\"patch_64\">\r\n    <path clip-path=\"url(#p7a83f17c71)\" d=\"M 467.597917 635.470702 \r\nL 512.688298 635.470702 \r\nL 512.688298 629.351115 \r\nL 467.597917 629.351115 \r\nz\r\n\" style=\"fill:#1b9e77;\"/>\r\n   </g>\r\n   <g id=\"patch_65\">\r\n    <path clip-path=\"url(#p7a83f17c71)\" d=\"M 467.597917 604.872764 \r\nL 512.688298 604.872764 \r\nL 512.688298 598.753177 \r\nL 467.597917 598.753177 \r\nz\r\n\" style=\"fill:#1b9e77;\"/>\r\n   </g>\r\n   <g id=\"patch_66\">\r\n    <path clip-path=\"url(#p7a83f17c71)\" d=\"M 467.597917 574.274826 \r\nL 535.233489 574.274826 \r\nL 535.233489 568.155238 \r\nL 467.597917 568.155238 \r\nz\r\n\" style=\"fill:#1b9e77;\"/>\r\n   </g>\r\n   <g id=\"patch_67\">\r\n    <path clip-path=\"url(#p7a83f17c71)\" d=\"M 467.597917 543.676888 \r\nL 535.233489 543.676888 \r\nL 535.233489 537.5573 \r\nL 467.597917 537.5573 \r\nz\r\n\" style=\"fill:#1b9e77;\"/>\r\n   </g>\r\n   <g id=\"patch_68\">\r\n    <path clip-path=\"url(#p7a83f17c71)\" d=\"M 467.597917 513.07895 \r\nL 535.233489 513.07895 \r\nL 535.233489 506.959362 \r\nL 467.597917 506.959362 \r\nz\r\n\" style=\"fill:#1b9e77;\"/>\r\n   </g>\r\n   <g id=\"patch_69\">\r\n    <path clip-path=\"url(#p7a83f17c71)\" d=\"M 467.597917 482.481012 \r\nL 557.77868 482.481012 \r\nL 557.77868 476.361424 \r\nL 467.597917 476.361424 \r\nz\r\n\" style=\"fill:#1b9e77;\"/>\r\n   </g>\r\n   <g id=\"patch_70\">\r\n    <path clip-path=\"url(#p7a83f17c71)\" d=\"M 467.597917 451.883073 \r\nL 580.32387 451.883073 \r\nL 580.32387 445.763486 \r\nL 467.597917 445.763486 \r\nz\r\n\" style=\"fill:#1b9e77;\"/>\r\n   </g>\r\n   <g id=\"patch_71\">\r\n    <path clip-path=\"url(#p7a83f17c71)\" d=\"M 467.597917 421.285135 \r\nL 602.869061 421.285135 \r\nL 602.869061 415.165548 \r\nL 467.597917 415.165548 \r\nz\r\n\" style=\"fill:#1b9e77;\"/>\r\n   </g>\r\n   <g id=\"patch_72\">\r\n    <path clip-path=\"url(#p7a83f17c71)\" d=\"M 467.597917 390.687197 \r\nL 602.869061 390.687197 \r\nL 602.869061 384.56761 \r\nL 467.597917 384.56761 \r\nz\r\n\" style=\"fill:#1b9e77;\"/>\r\n   </g>\r\n   <g id=\"matplotlib.axis_9\">\r\n    <g id=\"xtick_17\">\r\n     <g id=\"line2d_57\">\r\n      <g>\r\n       <use style=\"stroke:#000000;stroke-width:0.8;\" x=\"467.597917\" xlink:href=\"#m7154fe2193\" y=\"673.718125\"/>\r\n      </g>\r\n     </g>\r\n     <g id=\"text_65\">\r\n      <!-- 0.00 -->\r\n      <g transform=\"translate(456.465104 688.316562)scale(0.1 -0.1)\">\r\n       <use xlink:href=\"#DejaVuSans-48\"/>\r\n       <use x=\"63.623047\" xlink:href=\"#DejaVuSans-46\"/>\r\n       <use x=\"95.410156\" xlink:href=\"#DejaVuSans-48\"/>\r\n       <use x=\"159.033203\" xlink:href=\"#DejaVuSans-48\"/>\r\n      </g>\r\n     </g>\r\n    </g>\r\n    <g id=\"xtick_18\">\r\n     <g id=\"line2d_58\">\r\n      <g>\r\n       <use style=\"stroke:#000000;stroke-width:0.8;\" x=\"543.124306\" xlink:href=\"#m7154fe2193\" y=\"673.718125\"/>\r\n      </g>\r\n     </g>\r\n     <g id=\"text_66\">\r\n      <!-- 0.05 -->\r\n      <g transform=\"translate(531.991493 688.316562)scale(0.1 -0.1)\">\r\n       <use xlink:href=\"#DejaVuSans-48\"/>\r\n       <use x=\"63.623047\" xlink:href=\"#DejaVuSans-46\"/>\r\n       <use x=\"95.410156\" xlink:href=\"#DejaVuSans-48\"/>\r\n       <use x=\"159.033203\" xlink:href=\"#DejaVuSans-53\"/>\r\n      </g>\r\n     </g>\r\n    </g>\r\n    <g id=\"xtick_19\">\r\n     <g id=\"line2d_59\">\r\n      <g>\r\n       <use style=\"stroke:#000000;stroke-width:0.8;\" x=\"618.650694\" xlink:href=\"#m7154fe2193\" y=\"673.718125\"/>\r\n      </g>\r\n     </g>\r\n     <g id=\"text_67\">\r\n      <!-- 0.10 -->\r\n      <g transform=\"translate(607.517882 688.316562)scale(0.1 -0.1)\">\r\n       <use xlink:href=\"#DejaVuSans-48\"/>\r\n       <use x=\"63.623047\" xlink:href=\"#DejaVuSans-46\"/>\r\n       <use x=\"95.410156\" xlink:href=\"#DejaVuSans-49\"/>\r\n       <use x=\"159.033203\" xlink:href=\"#DejaVuSans-48\"/>\r\n      </g>\r\n     </g>\r\n    </g>\r\n    <g id=\"xtick_20\">\r\n     <g id=\"line2d_60\">\r\n      <g>\r\n       <use style=\"stroke:#000000;stroke-width:0.8;\" x=\"694.177083\" xlink:href=\"#m7154fe2193\" y=\"673.718125\"/>\r\n      </g>\r\n     </g>\r\n     <g id=\"text_68\">\r\n      <!-- 0.15 -->\r\n      <g transform=\"translate(683.044271 688.316562)scale(0.1 -0.1)\">\r\n       <use xlink:href=\"#DejaVuSans-48\"/>\r\n       <use x=\"63.623047\" xlink:href=\"#DejaVuSans-46\"/>\r\n       <use x=\"95.410156\" xlink:href=\"#DejaVuSans-49\"/>\r\n       <use x=\"159.033203\" xlink:href=\"#DejaVuSans-53\"/>\r\n      </g>\r\n     </g>\r\n    </g>\r\n    <g id=\"text_69\">\r\n     <!-- Probability of Venue Occurrence -->\r\n     <g transform=\"translate(500.763281 701.994687)scale(0.1 -0.1)\">\r\n      <use xlink:href=\"#DejaVuSans-80\"/>\r\n      <use x=\"58.552734\" xlink:href=\"#DejaVuSans-114\"/>\r\n      <use x=\"97.416016\" xlink:href=\"#DejaVuSans-111\"/>\r\n      <use x=\"158.597656\" xlink:href=\"#DejaVuSans-98\"/>\r\n      <use x=\"222.074219\" xlink:href=\"#DejaVuSans-97\"/>\r\n      <use x=\"283.353516\" xlink:href=\"#DejaVuSans-98\"/>\r\n      <use x=\"346.830078\" xlink:href=\"#DejaVuSans-105\"/>\r\n      <use x=\"374.613281\" xlink:href=\"#DejaVuSans-108\"/>\r\n      <use x=\"402.396484\" xlink:href=\"#DejaVuSans-105\"/>\r\n      <use x=\"430.179688\" xlink:href=\"#DejaVuSans-116\"/>\r\n      <use x=\"469.388672\" xlink:href=\"#DejaVuSans-121\"/>\r\n      <use x=\"528.568359\" xlink:href=\"#DejaVuSans-32\"/>\r\n      <use x=\"560.355469\" xlink:href=\"#DejaVuSans-111\"/>\r\n      <use x=\"621.537109\" xlink:href=\"#DejaVuSans-102\"/>\r\n      <use x=\"656.742188\" xlink:href=\"#DejaVuSans-32\"/>\r\n      <use x=\"688.529297\" xlink:href=\"#DejaVuSans-86\"/>\r\n      <use x=\"749.1875\" xlink:href=\"#DejaVuSans-101\"/>\r\n      <use x=\"810.710938\" xlink:href=\"#DejaVuSans-110\"/>\r\n      <use x=\"874.089844\" xlink:href=\"#DejaVuSans-117\"/>\r\n      <use x=\"937.46875\" xlink:href=\"#DejaVuSans-101\"/>\r\n      <use x=\"998.992188\" xlink:href=\"#DejaVuSans-32\"/>\r\n      <use x=\"1030.779297\" xlink:href=\"#DejaVuSans-79\"/>\r\n      <use x=\"1109.490234\" xlink:href=\"#DejaVuSans-99\"/>\r\n      <use x=\"1164.470703\" xlink:href=\"#DejaVuSans-99\"/>\r\n      <use x=\"1219.451172\" xlink:href=\"#DejaVuSans-117\"/>\r\n      <use x=\"1282.830078\" xlink:href=\"#DejaVuSans-114\"/>\r\n      <use x=\"1322.193359\" xlink:href=\"#DejaVuSans-114\"/>\r\n      <use x=\"1361.056641\" xlink:href=\"#DejaVuSans-101\"/>\r\n      <use x=\"1422.580078\" xlink:href=\"#DejaVuSans-110\"/>\r\n      <use x=\"1485.958984\" xlink:href=\"#DejaVuSans-99\"/>\r\n      <use x=\"1540.939453\" xlink:href=\"#DejaVuSans-101\"/>\r\n     </g>\r\n    </g>\r\n   </g>\r\n   <g id=\"matplotlib.axis_10\">\r\n    <g id=\"ytick_41\">\r\n     <g id=\"line2d_61\">\r\n      <g>\r\n       <use style=\"stroke:#000000;stroke-width:0.8;\" x=\"467.597917\" xlink:href=\"#m0a19f5f7df\" y=\"663.008847\"/>\r\n      </g>\r\n     </g>\r\n     <g id=\"text_70\">\r\n      <!-- Bakery -->\r\n      <g transform=\"translate(425.997917 666.808065)scale(0.1 -0.1)\">\r\n       <use xlink:href=\"#DejaVuSans-66\"/>\r\n       <use x=\"68.603516\" xlink:href=\"#DejaVuSans-97\"/>\r\n       <use x=\"129.882812\" xlink:href=\"#DejaVuSans-107\"/>\r\n       <use x=\"184.167969\" xlink:href=\"#DejaVuSans-101\"/>\r\n       <use x=\"245.691406\" xlink:href=\"#DejaVuSans-114\"/>\r\n       <use x=\"286.804688\" xlink:href=\"#DejaVuSans-121\"/>\r\n      </g>\r\n     </g>\r\n    </g>\r\n    <g id=\"ytick_42\">\r\n     <g id=\"line2d_62\">\r\n      <g>\r\n       <use style=\"stroke:#000000;stroke-width:0.8;\" x=\"467.597917\" xlink:href=\"#m0a19f5f7df\" y=\"632.410909\"/>\r\n      </g>\r\n     </g>\r\n     <g id=\"text_71\">\r\n      <!-- Pharmacy -->\r\n      <g transform=\"translate(410.880729 636.210127)scale(0.1 -0.1)\">\r\n       <use xlink:href=\"#DejaVuSans-80\"/>\r\n       <use x=\"60.302734\" xlink:href=\"#DejaVuSans-104\"/>\r\n       <use x=\"123.681641\" xlink:href=\"#DejaVuSans-97\"/>\r\n       <use x=\"184.960938\" xlink:href=\"#DejaVuSans-114\"/>\r\n       <use x=\"224.324219\" xlink:href=\"#DejaVuSans-109\"/>\r\n       <use x=\"321.736328\" xlink:href=\"#DejaVuSans-97\"/>\r\n       <use x=\"383.015625\" xlink:href=\"#DejaVuSans-99\"/>\r\n       <use x=\"437.996094\" xlink:href=\"#DejaVuSans-121\"/>\r\n      </g>\r\n     </g>\r\n    </g>\r\n    <g id=\"ytick_43\">\r\n     <g id=\"line2d_63\">\r\n      <g>\r\n       <use style=\"stroke:#000000;stroke-width:0.8;\" x=\"467.597917\" xlink:href=\"#m0a19f5f7df\" y=\"601.81297\"/>\r\n      </g>\r\n     </g>\r\n     <g id=\"text_72\">\r\n      <!-- Italian Restaurant -->\r\n      <g transform=\"translate(371.655729 605.612189)scale(0.1 -0.1)\">\r\n       <use xlink:href=\"#DejaVuSans-73\"/>\r\n       <use x=\"29.492188\" xlink:href=\"#DejaVuSans-116\"/>\r\n       <use x=\"68.701172\" xlink:href=\"#DejaVuSans-97\"/>\r\n       <use x=\"129.980469\" xlink:href=\"#DejaVuSans-108\"/>\r\n       <use x=\"157.763672\" xlink:href=\"#DejaVuSans-105\"/>\r\n       <use x=\"185.546875\" xlink:href=\"#DejaVuSans-97\"/>\r\n       <use x=\"246.826172\" xlink:href=\"#DejaVuSans-110\"/>\r\n       <use x=\"310.205078\" xlink:href=\"#DejaVuSans-32\"/>\r\n       <use x=\"341.992188\" xlink:href=\"#DejaVuSans-82\"/>\r\n       <use x=\"406.974609\" xlink:href=\"#DejaVuSans-101\"/>\r\n       <use x=\"468.498047\" xlink:href=\"#DejaVuSans-115\"/>\r\n       <use x=\"520.597656\" xlink:href=\"#DejaVuSans-116\"/>\r\n       <use x=\"559.806641\" xlink:href=\"#DejaVuSans-97\"/>\r\n       <use x=\"621.085938\" xlink:href=\"#DejaVuSans-117\"/>\r\n       <use x=\"684.464844\" xlink:href=\"#DejaVuSans-114\"/>\r\n       <use x=\"725.578125\" xlink:href=\"#DejaVuSans-97\"/>\r\n       <use x=\"786.857422\" xlink:href=\"#DejaVuSans-110\"/>\r\n       <use x=\"850.236328\" xlink:href=\"#DejaVuSans-116\"/>\r\n      </g>\r\n     </g>\r\n    </g>\r\n    <g id=\"ytick_44\">\r\n     <g id=\"line2d_64\">\r\n      <g>\r\n       <use style=\"stroke:#000000;stroke-width:0.8;\" x=\"467.597917\" xlink:href=\"#m0a19f5f7df\" y=\"571.215032\"/>\r\n      </g>\r\n     </g>\r\n     <g id=\"text_73\">\r\n      <!-- Fast Food Restaurant -->\r\n      <g transform=\"translate(355.426042 575.014251)scale(0.1 -0.1)\">\r\n       <use xlink:href=\"#DejaVuSans-70\"/>\r\n       <use x=\"48.394531\" xlink:href=\"#DejaVuSans-97\"/>\r\n       <use x=\"109.673828\" xlink:href=\"#DejaVuSans-115\"/>\r\n       <use x=\"161.773438\" xlink:href=\"#DejaVuSans-116\"/>\r\n       <use x=\"200.982422\" xlink:href=\"#DejaVuSans-32\"/>\r\n       <use x=\"232.769531\" xlink:href=\"#DejaVuSans-70\"/>\r\n       <use x=\"286.664062\" xlink:href=\"#DejaVuSans-111\"/>\r\n       <use x=\"347.845703\" xlink:href=\"#DejaVuSans-111\"/>\r\n       <use x=\"409.027344\" xlink:href=\"#DejaVuSans-100\"/>\r\n       <use x=\"472.503906\" xlink:href=\"#DejaVuSans-32\"/>\r\n       <use x=\"504.291016\" xlink:href=\"#DejaVuSans-82\"/>\r\n       <use x=\"569.273438\" xlink:href=\"#DejaVuSans-101\"/>\r\n       <use x=\"630.796875\" xlink:href=\"#DejaVuSans-115\"/>\r\n       <use x=\"682.896484\" xlink:href=\"#DejaVuSans-116\"/>\r\n       <use x=\"722.105469\" xlink:href=\"#DejaVuSans-97\"/>\r\n       <use x=\"783.384766\" xlink:href=\"#DejaVuSans-117\"/>\r\n       <use x=\"846.763672\" xlink:href=\"#DejaVuSans-114\"/>\r\n       <use x=\"887.876953\" xlink:href=\"#DejaVuSans-97\"/>\r\n       <use x=\"949.15625\" xlink:href=\"#DejaVuSans-110\"/>\r\n       <use x=\"1012.535156\" xlink:href=\"#DejaVuSans-116\"/>\r\n      </g>\r\n     </g>\r\n    </g>\r\n    <g id=\"ytick_45\">\r\n     <g id=\"line2d_65\">\r\n      <g>\r\n       <use style=\"stroke:#000000;stroke-width:0.8;\" x=\"467.597917\" xlink:href=\"#m0a19f5f7df\" y=\"540.617094\"/>\r\n      </g>\r\n     </g>\r\n     <g id=\"text_74\">\r\n      <!-- Grocery Store -->\r\n      <g transform=\"translate(391.558854 544.416313)scale(0.1 -0.1)\">\r\n       <use xlink:href=\"#DejaVuSans-71\"/>\r\n       <use x=\"77.490234\" xlink:href=\"#DejaVuSans-114\"/>\r\n       <use x=\"116.353516\" xlink:href=\"#DejaVuSans-111\"/>\r\n       <use x=\"177.535156\" xlink:href=\"#DejaVuSans-99\"/>\r\n       <use x=\"232.515625\" xlink:href=\"#DejaVuSans-101\"/>\r\n       <use x=\"294.039062\" xlink:href=\"#DejaVuSans-114\"/>\r\n       <use x=\"335.152344\" xlink:href=\"#DejaVuSans-121\"/>\r\n       <use x=\"394.332031\" xlink:href=\"#DejaVuSans-32\"/>\r\n       <use x=\"426.119141\" xlink:href=\"#DejaVuSans-83\"/>\r\n       <use x=\"489.595703\" xlink:href=\"#DejaVuSans-116\"/>\r\n       <use x=\"528.804688\" xlink:href=\"#DejaVuSans-111\"/>\r\n       <use x=\"589.986328\" xlink:href=\"#DejaVuSans-114\"/>\r\n       <use x=\"628.849609\" xlink:href=\"#DejaVuSans-101\"/>\r\n      </g>\r\n     </g>\r\n    </g>\r\n    <g id=\"ytick_46\">\r\n     <g id=\"line2d_66\">\r\n      <g>\r\n       <use style=\"stroke:#000000;stroke-width:0.8;\" x=\"467.597917\" xlink:href=\"#m0a19f5f7df\" y=\"510.019156\"/>\r\n      </g>\r\n     </g>\r\n     <g id=\"text_75\">\r\n      <!-- Shopping Mall -->\r\n      <g transform=\"translate(390.141667 513.818375)scale(0.1 -0.1)\">\r\n       <use xlink:href=\"#DejaVuSans-83\"/>\r\n       <use x=\"63.476562\" xlink:href=\"#DejaVuSans-104\"/>\r\n       <use x=\"126.855469\" xlink:href=\"#DejaVuSans-111\"/>\r\n       <use x=\"188.037109\" xlink:href=\"#DejaVuSans-112\"/>\r\n       <use x=\"251.513672\" xlink:href=\"#DejaVuSans-112\"/>\r\n       <use x=\"314.990234\" xlink:href=\"#DejaVuSans-105\"/>\r\n       <use x=\"342.773438\" xlink:href=\"#DejaVuSans-110\"/>\r\n       <use x=\"406.152344\" xlink:href=\"#DejaVuSans-103\"/>\r\n       <use x=\"469.628906\" xlink:href=\"#DejaVuSans-32\"/>\r\n       <use x=\"501.416016\" xlink:href=\"#DejaVuSans-77\"/>\r\n       <use x=\"587.695312\" xlink:href=\"#DejaVuSans-97\"/>\r\n       <use x=\"648.974609\" xlink:href=\"#DejaVuSans-108\"/>\r\n       <use x=\"676.757812\" xlink:href=\"#DejaVuSans-108\"/>\r\n      </g>\r\n     </g>\r\n    </g>\r\n    <g id=\"ytick_47\">\r\n     <g id=\"line2d_67\">\r\n      <g>\r\n       <use style=\"stroke:#000000;stroke-width:0.8;\" x=\"467.597917\" xlink:href=\"#m0a19f5f7df\" y=\"479.421218\"/>\r\n      </g>\r\n     </g>\r\n     <g id=\"text_76\">\r\n      <!-- Pub -->\r\n      <g transform=\"translate(442.057292 483.220437)scale(0.1 -0.1)\">\r\n       <use xlink:href=\"#DejaVuSans-80\"/>\r\n       <use x=\"58.552734\" xlink:href=\"#DejaVuSans-117\"/>\r\n       <use x=\"121.931641\" xlink:href=\"#DejaVuSans-98\"/>\r\n      </g>\r\n     </g>\r\n    </g>\r\n    <g id=\"ytick_48\">\r\n     <g id=\"line2d_68\">\r\n      <g>\r\n       <use style=\"stroke:#000000;stroke-width:0.8;\" x=\"467.597917\" xlink:href=\"#m0a19f5f7df\" y=\"448.82328\"/>\r\n      </g>\r\n     </g>\r\n     <g id=\"text_77\">\r\n      <!-- Café -->\r\n      <g transform=\"translate(437.813542 452.622498)scale(0.1 -0.1)\">\r\n       <use xlink:href=\"#DejaVuSans-67\"/>\r\n       <use x=\"69.824219\" xlink:href=\"#DejaVuSans-97\"/>\r\n       <use x=\"131.103516\" xlink:href=\"#DejaVuSans-102\"/>\r\n       <use x=\"166.308594\" xlink:href=\"#DejaVuSans-233\"/>\r\n      </g>\r\n     </g>\r\n    </g>\r\n    <g id=\"ytick_49\">\r\n     <g id=\"line2d_69\">\r\n      <g>\r\n       <use style=\"stroke:#000000;stroke-width:0.8;\" x=\"467.597917\" xlink:href=\"#m0a19f5f7df\" y=\"418.225341\"/>\r\n      </g>\r\n     </g>\r\n     <g id=\"text_78\">\r\n      <!-- Coffee Shop -->\r\n      <g transform=\"translate(399.818229 422.02456)scale(0.1 -0.1)\">\r\n       <use xlink:href=\"#DejaVuSans-67\"/>\r\n       <use x=\"69.824219\" xlink:href=\"#DejaVuSans-111\"/>\r\n       <use x=\"131.005859\" xlink:href=\"#DejaVuSans-102\"/>\r\n       <use x=\"166.210938\" xlink:href=\"#DejaVuSans-102\"/>\r\n       <use x=\"201.416016\" xlink:href=\"#DejaVuSans-101\"/>\r\n       <use x=\"262.939453\" xlink:href=\"#DejaVuSans-101\"/>\r\n       <use x=\"324.462891\" xlink:href=\"#DejaVuSans-32\"/>\r\n       <use x=\"356.25\" xlink:href=\"#DejaVuSans-83\"/>\r\n       <use x=\"419.726562\" xlink:href=\"#DejaVuSans-104\"/>\r\n       <use x=\"483.105469\" xlink:href=\"#DejaVuSans-111\"/>\r\n       <use x=\"544.287109\" xlink:href=\"#DejaVuSans-112\"/>\r\n      </g>\r\n     </g>\r\n    </g>\r\n    <g id=\"ytick_50\">\r\n     <g id=\"line2d_70\">\r\n      <g>\r\n       <use style=\"stroke:#000000;stroke-width:0.8;\" x=\"467.597917\" xlink:href=\"#m0a19f5f7df\" y=\"387.627403\"/>\r\n      </g>\r\n     </g>\r\n     <g id=\"text_79\">\r\n      <!-- Clothing Store -->\r\n      <g transform=\"translate(389.391667 391.426622)scale(0.1 -0.1)\">\r\n       <use xlink:href=\"#DejaVuSans-67\"/>\r\n       <use x=\"69.824219\" xlink:href=\"#DejaVuSans-108\"/>\r\n       <use x=\"97.607422\" xlink:href=\"#DejaVuSans-111\"/>\r\n       <use x=\"158.789062\" xlink:href=\"#DejaVuSans-116\"/>\r\n       <use x=\"197.998047\" xlink:href=\"#DejaVuSans-104\"/>\r\n       <use x=\"261.376953\" xlink:href=\"#DejaVuSans-105\"/>\r\n       <use x=\"289.160156\" xlink:href=\"#DejaVuSans-110\"/>\r\n       <use x=\"352.539062\" xlink:href=\"#DejaVuSans-103\"/>\r\n       <use x=\"416.015625\" xlink:href=\"#DejaVuSans-32\"/>\r\n       <use x=\"447.802734\" xlink:href=\"#DejaVuSans-83\"/>\r\n       <use x=\"511.279297\" xlink:href=\"#DejaVuSans-116\"/>\r\n       <use x=\"550.488281\" xlink:href=\"#DejaVuSans-111\"/>\r\n       <use x=\"611.669922\" xlink:href=\"#DejaVuSans-114\"/>\r\n       <use x=\"650.533203\" xlink:href=\"#DejaVuSans-101\"/>\r\n      </g>\r\n     </g>\r\n    </g>\r\n   </g>\r\n   <g id=\"patch_73\">\r\n    <path d=\"M 467.597917 673.718125 \r\nL 467.597917 376.918125 \r\n\" style=\"fill:none;stroke:#000000;stroke-linecap:square;stroke-linejoin:miter;stroke-width:0.8;\"/>\r\n   </g>\r\n   <g id=\"patch_74\">\r\n    <path d=\"M 694.177083 673.718125 \r\nL 694.177083 376.918125 \r\n\" style=\"fill:none;stroke:#000000;stroke-linecap:square;stroke-linejoin:miter;stroke-width:0.8;\"/>\r\n   </g>\r\n   <g id=\"patch_75\">\r\n    <path d=\"M 467.597917 673.718125 \r\nL 694.177083 673.718125 \r\n\" style=\"fill:none;stroke:#000000;stroke-linecap:square;stroke-linejoin:miter;stroke-width:0.8;\"/>\r\n   </g>\r\n   <g id=\"patch_76\">\r\n    <path d=\"M 467.597917 376.918125 \r\nL 694.177083 376.918125 \r\n\" style=\"fill:none;stroke:#000000;stroke-linecap:square;stroke-linejoin:miter;stroke-width:0.8;\"/>\r\n   </g>\r\n   <g id=\"text_80\">\r\n    <!-- Cluster 4 -->\r\n    <g transform=\"translate(553.867812 370.918125)scale(0.12 -0.12)\">\r\n     <defs>\r\n      <path d=\"M 37.796875 64.3125 \r\nL 12.890625 25.390625 \r\nL 37.796875 25.390625 \r\nz\r\nM 35.203125 72.90625 \r\nL 47.609375 72.90625 \r\nL 47.609375 25.390625 \r\nL 58.015625 25.390625 \r\nL 58.015625 17.1875 \r\nL 47.609375 17.1875 \r\nL 47.609375 0 \r\nL 37.796875 0 \r\nL 37.796875 17.1875 \r\nL 4.890625 17.1875 \r\nL 4.890625 26.703125 \r\nz\r\n\" id=\"DejaVuSans-52\"/>\r\n     </defs>\r\n     <use xlink:href=\"#DejaVuSans-67\"/>\r\n     <use x=\"69.824219\" xlink:href=\"#DejaVuSans-108\"/>\r\n     <use x=\"97.607422\" xlink:href=\"#DejaVuSans-117\"/>\r\n     <use x=\"160.986328\" xlink:href=\"#DejaVuSans-115\"/>\r\n     <use x=\"213.085938\" xlink:href=\"#DejaVuSans-116\"/>\r\n     <use x=\"252.294922\" xlink:href=\"#DejaVuSans-101\"/>\r\n     <use x=\"313.818359\" xlink:href=\"#DejaVuSans-114\"/>\r\n     <use x=\"354.931641\" xlink:href=\"#DejaVuSans-32\"/>\r\n     <use x=\"386.71875\" xlink:href=\"#DejaVuSans-52\"/>\r\n    </g>\r\n   </g>\r\n  </g>\r\n </g>\r\n <defs>\r\n  <clipPath id=\"p4fa49634d0\">\r\n   <rect height=\"296.8\" width=\"226.579167\" x=\"107.28125\" y=\"22.318125\"/>\r\n  </clipPath>\r\n  <clipPath id=\"p202f56eca8\">\r\n   <rect height=\"296.8\" width=\"226.579167\" x=\"467.597917\" y=\"22.318125\"/>\r\n  </clipPath>\r\n  <clipPath id=\"p8a14e7dfa6\">\r\n   <rect height=\"296.8\" width=\"226.579167\" x=\"827.914583\" y=\"22.318125\"/>\r\n  </clipPath>\r\n  <clipPath id=\"pdcb8c9d43b\">\r\n   <rect height=\"296.8\" width=\"226.579167\" x=\"107.28125\" y=\"376.918125\"/>\r\n  </clipPath>\r\n  <clipPath id=\"p7a83f17c71\">\r\n   <rect height=\"296.8\" width=\"226.579167\" x=\"467.597917\" y=\"376.918125\"/>\r\n  </clipPath>\r\n </defs>\r\n</svg>\r\n",
      "image/png": "[encoded data removed]"
     },
     "metadata": {
      "needs_background": "light"
     }
    }
   ],
   "source": [
    "import matplotlib.pyplot as plt\n",
    "import numpy as np\n",
    "fig=plt.figure(figsize=(10,7))\n",
    "columns = 3\n",
    "rows = 2\n",
    "a=np.random.rand(2,3)\n",
    "colormaps=['gist_rainbow', 'spring', 'turbo_r', 'BuPu_r', 'Dark2']\n",
    "for i in range(1,6):\n",
    "    fig.add_subplot(rows, columns, i)\n",
    "    df_list[i-1].value_counts(normalize=True).sort_values().tail(10).plot.barh( width=0.2, figsize=(15,10),colormap=colormaps[i-1])### what you want you can plot\n",
    "    plt.title('Cluster {}'.format(i-1)) \n",
    "    plt.xticks(np.arange(0, .20,0.05)) \n",
    "    plt.xlabel('Probability of Venue Occurrence')\n",
    "fig.tight_layout()\n",
    "plt.show()"
   ]
  },
  {
   "cell_type": "code",
   "execution_count": null,
   "metadata": {},
   "outputs": [],
   "source": []
  },
  {
   "source": [
    "* From the graph above we can see the average probabilty of coming across certain venues if the person is staying in a location within these clusters.(Taking Venue Count density into account)"
   ],
   "cell_type": "markdown",
   "metadata": {}
  },
  {
   "source": [],
   "cell_type": "markdown",
   "metadata": {}
  }
 ]
}